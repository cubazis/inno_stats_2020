{
  "nbformat": 4,
  "nbformat_minor": 0,
  "metadata": {
    "kernelspec": {
      "name": "python3",
      "display_name": "Python 3"
    },
    "colab": {
      "name": "lab_last.ipynb",
      "provenance": [],
      "toc_visible": true
    },
    "language_info": {
      "name": "python"
    }
  },
  "cells": [
    {
      "cell_type": "code",
      "metadata": {
        "id": "CsnZ8nKJcD76"
      },
      "source": [
        "from pathlib import Path\n",
        "import pandas as pd\n",
        "import gc\n",
        "from sklearn.preprocessing import LabelEncoder\n",
        "import pickle\n",
        "import bz2"
      ],
      "execution_count": 3,
      "outputs": []
    },
    {
      "cell_type": "markdown",
      "metadata": {
        "id": "zcC309WPcD8l"
      },
      "source": [
        "Download https://drive.google.com/drive/folders/1BZFez3OFs7QMzeDUz-8E0SgnRy227pnG"
      ]
    },
    {
      "cell_type": "markdown",
      "metadata": {
        "id": "hNfS24nUcD8q"
      },
      "source": [
        "Unzip"
      ]
    },
    {
      "cell_type": "code",
      "metadata": {
        "colab": {
          "base_uri": "https://localhost:8080/"
        },
        "id": "1D7ZfGmVccFQ",
        "outputId": "4b35054f-6754-4cf9-ac18-d8cd84bb4d91"
      },
      "source": [
        "!gdown --id 11ClGyOtQZNyaVanzwoEFvADvY5BQ5HNN\n",
        "\n",
        "!mkdir data\n",
        "!tar -xf ./inno_stats.tar.gz -C ./data"
      ],
      "execution_count": 2,
      "outputs": [
        {
          "output_type": "stream",
          "text": [
            "Downloading...\n",
            "From: https://drive.google.com/uc?id=11ClGyOtQZNyaVanzwoEFvADvY5BQ5HNN\n",
            "To: /content/inno_stats.tar.gz\n",
            "1.91GB [00:12, 150MB/s]\n"
          ],
          "name": "stdout"
        }
      ]
    },
    {
      "cell_type": "markdown",
      "metadata": {
        "id": "Ag55tXqlcD8v"
      },
      "source": [
        "!mkdir data\n",
        "!tar -xf inno_stats.tar.gz -C ./data"
      ]
    },
    {
      "cell_type": "code",
      "metadata": {
        "id": "QgrH7WudcD8z",
        "colab": {
          "base_uri": "https://localhost:8080/"
        },
        "outputId": "6d25c7d5-542e-4f66-e161-15e35c8aa87e"
      },
      "source": [
        "data_path = Path('./data/').resolve()\n",
        "!ls {data_path}"
      ],
      "execution_count": 4,
      "outputs": [
        {
          "output_type": "stream",
          "text": [
            "09_groups.csv  10_groups.csv  11_groups.csv  product_groups.csv\n"
          ],
          "name": "stdout"
        }
      ]
    },
    {
      "cell_type": "code",
      "metadata": {
        "id": "oZ30gr0ncD9A",
        "colab": {
          "base_uri": "https://localhost:8080/",
          "height": 206
        },
        "outputId": "7c81b970-7697-4818-e769-4f381f6ef864"
      },
      "source": [
        "g_9 = pd.read_csv('./data/09_groups.csv')\n",
        "g_9.head()"
      ],
      "execution_count": 5,
      "outputs": [
        {
          "output_type": "execute_result",
          "data": {
            "text/html": [
              "<div>\n",
              "<style scoped>\n",
              "    .dataframe tbody tr th:only-of-type {\n",
              "        vertical-align: middle;\n",
              "    }\n",
              "\n",
              "    .dataframe tbody tr th {\n",
              "        vertical-align: top;\n",
              "    }\n",
              "\n",
              "    .dataframe thead th {\n",
              "        text-align: right;\n",
              "    }\n",
              "</style>\n",
              "<table border=\"1\" class=\"dataframe\">\n",
              "  <thead>\n",
              "    <tr style=\"text-align: right;\">\n",
              "      <th></th>\n",
              "      <th>date</th>\n",
              "      <th>id_doc</th>\n",
              "      <th>id_order</th>\n",
              "      <th>id_card</th>\n",
              "      <th>id_tov</th>\n",
              "      <th>id_kontr</th>\n",
              "      <th>quantity</th>\n",
              "      <th>sum</th>\n",
              "      <th>is_green</th>\n",
              "      <th>id_group</th>\n",
              "    </tr>\n",
              "  </thead>\n",
              "  <tbody>\n",
              "    <tr>\n",
              "      <th>0</th>\n",
              "      <td>2020-09-01 17:01:25</td>\n",
              "      <td>1283228</td>\n",
              "      <td>0.0</td>\n",
              "      <td>1538855</td>\n",
              "      <td>52</td>\n",
              "      <td>271</td>\n",
              "      <td>1.0</td>\n",
              "      <td>108.00</td>\n",
              "      <td>0</td>\n",
              "      <td>10004</td>\n",
              "    </tr>\n",
              "    <tr>\n",
              "      <th>1</th>\n",
              "      <td>2020-09-01 17:35:36</td>\n",
              "      <td>8873113</td>\n",
              "      <td>0.0</td>\n",
              "      <td>267307</td>\n",
              "      <td>52</td>\n",
              "      <td>271</td>\n",
              "      <td>1.0</td>\n",
              "      <td>108.00</td>\n",
              "      <td>0</td>\n",
              "      <td>10004</td>\n",
              "    </tr>\n",
              "    <tr>\n",
              "      <th>2</th>\n",
              "      <td>2020-09-01 19:19:21</td>\n",
              "      <td>12712899</td>\n",
              "      <td>0.0</td>\n",
              "      <td>610220</td>\n",
              "      <td>52</td>\n",
              "      <td>271</td>\n",
              "      <td>1.0</td>\n",
              "      <td>107.95</td>\n",
              "      <td>0</td>\n",
              "      <td>10004</td>\n",
              "    </tr>\n",
              "    <tr>\n",
              "      <th>3</th>\n",
              "      <td>2020-09-01 21:53:34</td>\n",
              "      <td>21535283</td>\n",
              "      <td>0.0</td>\n",
              "      <td>441497</td>\n",
              "      <td>52</td>\n",
              "      <td>271</td>\n",
              "      <td>1.0</td>\n",
              "      <td>108.00</td>\n",
              "      <td>0</td>\n",
              "      <td>10004</td>\n",
              "    </tr>\n",
              "    <tr>\n",
              "      <th>4</th>\n",
              "      <td>2020-09-01 18:42:31</td>\n",
              "      <td>642341</td>\n",
              "      <td>0.0</td>\n",
              "      <td>1065358</td>\n",
              "      <td>61</td>\n",
              "      <td>97</td>\n",
              "      <td>2.0</td>\n",
              "      <td>88.00</td>\n",
              "      <td>0</td>\n",
              "      <td>10091</td>\n",
              "    </tr>\n",
              "  </tbody>\n",
              "</table>\n",
              "</div>"
            ],
            "text/plain": [
              "                  date    id_doc  id_order  ...     sum  is_green  id_group\n",
              "0  2020-09-01 17:01:25   1283228       0.0  ...  108.00         0     10004\n",
              "1  2020-09-01 17:35:36   8873113       0.0  ...  108.00         0     10004\n",
              "2  2020-09-01 19:19:21  12712899       0.0  ...  107.95         0     10004\n",
              "3  2020-09-01 21:53:34  21535283       0.0  ...  108.00         0     10004\n",
              "4  2020-09-01 18:42:31    642341       0.0  ...   88.00         0     10091\n",
              "\n",
              "[5 rows x 10 columns]"
            ]
          },
          "metadata": {
            "tags": []
          },
          "execution_count": 5
        }
      ]
    },
    {
      "cell_type": "code",
      "metadata": {
        "id": "mVh3KmVScD9G",
        "colab": {
          "base_uri": "https://localhost:8080/",
          "height": 206
        },
        "outputId": "8f6c4463-ac7b-47ed-b311-cadad4f3d469"
      },
      "source": [
        "#g_10 = pd.read_csv('./data/10_groups.csv')\n",
        "#g_10.head()"
      ],
      "execution_count": 5,
      "outputs": [
        {
          "output_type": "execute_result",
          "data": {
            "text/html": [
              "<div>\n",
              "<style scoped>\n",
              "    .dataframe tbody tr th:only-of-type {\n",
              "        vertical-align: middle;\n",
              "    }\n",
              "\n",
              "    .dataframe tbody tr th {\n",
              "        vertical-align: top;\n",
              "    }\n",
              "\n",
              "    .dataframe thead th {\n",
              "        text-align: right;\n",
              "    }\n",
              "</style>\n",
              "<table border=\"1\" class=\"dataframe\">\n",
              "  <thead>\n",
              "    <tr style=\"text-align: right;\">\n",
              "      <th></th>\n",
              "      <th>date</th>\n",
              "      <th>id_doc</th>\n",
              "      <th>id_order</th>\n",
              "      <th>id_card</th>\n",
              "      <th>id_tov</th>\n",
              "      <th>id_kontr</th>\n",
              "      <th>quantity</th>\n",
              "      <th>sum</th>\n",
              "      <th>is_green</th>\n",
              "      <th>id_group</th>\n",
              "    </tr>\n",
              "  </thead>\n",
              "  <tbody>\n",
              "    <tr>\n",
              "      <th>0</th>\n",
              "      <td>2020-10-01 20:22:55</td>\n",
              "      <td>2035558</td>\n",
              "      <td>0.0</td>\n",
              "      <td>1636749</td>\n",
              "      <td>52</td>\n",
              "      <td>339</td>\n",
              "      <td>1.0</td>\n",
              "      <td>107.90</td>\n",
              "      <td>0</td>\n",
              "      <td>10004</td>\n",
              "    </tr>\n",
              "    <tr>\n",
              "      <th>1</th>\n",
              "      <td>2020-10-01 20:54:12</td>\n",
              "      <td>13037327</td>\n",
              "      <td>0.0</td>\n",
              "      <td>267261</td>\n",
              "      <td>52</td>\n",
              "      <td>339</td>\n",
              "      <td>1.0</td>\n",
              "      <td>80.04</td>\n",
              "      <td>0</td>\n",
              "      <td>10004</td>\n",
              "    </tr>\n",
              "    <tr>\n",
              "      <th>2</th>\n",
              "      <td>2020-10-01 21:25:59</td>\n",
              "      <td>1430590</td>\n",
              "      <td>0.0</td>\n",
              "      <td>1331395</td>\n",
              "      <td>61</td>\n",
              "      <td>379</td>\n",
              "      <td>1.0</td>\n",
              "      <td>31.92</td>\n",
              "      <td>1</td>\n",
              "      <td>10091</td>\n",
              "    </tr>\n",
              "    <tr>\n",
              "      <th>3</th>\n",
              "      <td>2020-10-01 13:31:01</td>\n",
              "      <td>3504660</td>\n",
              "      <td>0.0</td>\n",
              "      <td>641525</td>\n",
              "      <td>61</td>\n",
              "      <td>97</td>\n",
              "      <td>1.0</td>\n",
              "      <td>55.98</td>\n",
              "      <td>0</td>\n",
              "      <td>10091</td>\n",
              "    </tr>\n",
              "    <tr>\n",
              "      <th>4</th>\n",
              "      <td>2020-10-01 16:32:06</td>\n",
              "      <td>11024438</td>\n",
              "      <td>0.0</td>\n",
              "      <td>1325852</td>\n",
              "      <td>61</td>\n",
              "      <td>97</td>\n",
              "      <td>4.0</td>\n",
              "      <td>176.00</td>\n",
              "      <td>0</td>\n",
              "      <td>10091</td>\n",
              "    </tr>\n",
              "  </tbody>\n",
              "</table>\n",
              "</div>"
            ],
            "text/plain": [
              "                  date    id_doc  id_order  ...     sum  is_green  id_group\n",
              "0  2020-10-01 20:22:55   2035558       0.0  ...  107.90         0     10004\n",
              "1  2020-10-01 20:54:12  13037327       0.0  ...   80.04         0     10004\n",
              "2  2020-10-01 21:25:59   1430590       0.0  ...   31.92         1     10091\n",
              "3  2020-10-01 13:31:01   3504660       0.0  ...   55.98         0     10091\n",
              "4  2020-10-01 16:32:06  11024438       0.0  ...  176.00         0     10091\n",
              "\n",
              "[5 rows x 10 columns]"
            ]
          },
          "metadata": {
            "tags": []
          },
          "execution_count": 5
        }
      ]
    },
    {
      "cell_type": "code",
      "metadata": {
        "id": "ia2Xb2BxcD9K"
      },
      "source": [
        "#g_11 = pd.read_csv('./data/11_groups.csv')\n",
        "#g_11.head()"
      ],
      "execution_count": 6,
      "outputs": []
    },
    {
      "cell_type": "code",
      "metadata": {
        "id": "fAjURJqdcD9P",
        "colab": {
          "base_uri": "https://localhost:8080/",
          "height": 206
        },
        "outputId": "7dffc3ad-3c85-435e-cf38-11bb8f1571e2"
      },
      "source": [
        "p_g = pd.read_csv('./data/product_groups.csv', delimiter=';', encoding='windows-1251')\n",
        "p_g.head()"
      ],
      "execution_count": 3,
      "outputs": [
        {
          "output_type": "execute_result",
          "data": {
            "text/html": [
              "<div>\n",
              "<style scoped>\n",
              "    .dataframe tbody tr th:only-of-type {\n",
              "        vertical-align: middle;\n",
              "    }\n",
              "\n",
              "    .dataframe tbody tr th {\n",
              "        vertical-align: top;\n",
              "    }\n",
              "\n",
              "    .dataframe thead th {\n",
              "        text-align: right;\n",
              "    }\n",
              "</style>\n",
              "<table border=\"1\" class=\"dataframe\">\n",
              "  <thead>\n",
              "    <tr style=\"text-align: right;\">\n",
              "      <th></th>\n",
              "      <th>id_tov</th>\n",
              "      <th>id_group</th>\n",
              "      <th>name_group</th>\n",
              "    </tr>\n",
              "  </thead>\n",
              "  <tbody>\n",
              "    <tr>\n",
              "      <th>0</th>\n",
              "      <td>52</td>\n",
              "      <td>10004</td>\n",
              "      <td>Кисломолочные продукты</td>\n",
              "    </tr>\n",
              "    <tr>\n",
              "      <th>1</th>\n",
              "      <td>75</td>\n",
              "      <td>10004</td>\n",
              "      <td>Кисломолочные продукты</td>\n",
              "    </tr>\n",
              "    <tr>\n",
              "      <th>2</th>\n",
              "      <td>77</td>\n",
              "      <td>10004</td>\n",
              "      <td>Кисломолочные продукты</td>\n",
              "    </tr>\n",
              "    <tr>\n",
              "      <th>3</th>\n",
              "      <td>143</td>\n",
              "      <td>10004</td>\n",
              "      <td>Кисломолочные продукты</td>\n",
              "    </tr>\n",
              "    <tr>\n",
              "      <th>4</th>\n",
              "      <td>151</td>\n",
              "      <td>10004</td>\n",
              "      <td>Кисломолочные продукты</td>\n",
              "    </tr>\n",
              "  </tbody>\n",
              "</table>\n",
              "</div>"
            ],
            "text/plain": [
              "   id_tov  id_group              name_group\n",
              "0      52     10004  Кисломолочные продукты\n",
              "1      75     10004  Кисломолочные продукты\n",
              "2      77     10004  Кисломолочные продукты\n",
              "3     143     10004  Кисломолочные продукты\n",
              "4     151     10004  Кисломолочные продукты"
            ]
          },
          "metadata": {
            "tags": []
          },
          "execution_count": 3
        }
      ]
    },
    {
      "cell_type": "code",
      "metadata": {
        "colab": {
          "base_uri": "https://localhost:8080/"
        },
        "id": "FvHbsC-SNlOj",
        "outputId": "d93409c6-7999-45bb-83c1-0445f73b8468"
      },
      "source": [
        "#!gdown --id 1SIf2vawr2VWwme_6v_VZyHivJ502bWFN70SQLf-iBkM\n",
        "bids = pd.read_excel('bad_ids.xlsx', index_col=0)\n",
        "\n",
        "print(bids.head())\n",
        "\n",
        "bids = bids['id_card']"
      ],
      "execution_count": 6,
      "outputs": [
        {
          "output_type": "stream",
          "text": [
            "   id_card\n",
            "0   806096\n",
            "1  1438102\n",
            "2    72344\n",
            "3   427981\n",
            "4  1528414\n"
          ],
          "name": "stdout"
        }
      ]
    },
    {
      "cell_type": "code",
      "metadata": {
        "colab": {
          "base_uri": "https://localhost:8080/",
          "height": 206
        },
        "id": "Qoidd6hLPcji",
        "outputId": "8ecb73f9-96c7-453a-87ac-917aed8f3b72"
      },
      "source": [
        "g_9_clear = g_9[~(g_9['id_card'].isin(bids))]\n",
        "\n",
        "g_9_clear.head() #work on this"
      ],
      "execution_count": 7,
      "outputs": [
        {
          "output_type": "execute_result",
          "data": {
            "text/html": [
              "<div>\n",
              "<style scoped>\n",
              "    .dataframe tbody tr th:only-of-type {\n",
              "        vertical-align: middle;\n",
              "    }\n",
              "\n",
              "    .dataframe tbody tr th {\n",
              "        vertical-align: top;\n",
              "    }\n",
              "\n",
              "    .dataframe thead th {\n",
              "        text-align: right;\n",
              "    }\n",
              "</style>\n",
              "<table border=\"1\" class=\"dataframe\">\n",
              "  <thead>\n",
              "    <tr style=\"text-align: right;\">\n",
              "      <th></th>\n",
              "      <th>date</th>\n",
              "      <th>id_doc</th>\n",
              "      <th>id_order</th>\n",
              "      <th>id_card</th>\n",
              "      <th>id_tov</th>\n",
              "      <th>id_kontr</th>\n",
              "      <th>quantity</th>\n",
              "      <th>sum</th>\n",
              "      <th>is_green</th>\n",
              "      <th>id_group</th>\n",
              "    </tr>\n",
              "  </thead>\n",
              "  <tbody>\n",
              "    <tr>\n",
              "      <th>0</th>\n",
              "      <td>2020-09-01 17:01:25</td>\n",
              "      <td>1283228</td>\n",
              "      <td>0.0</td>\n",
              "      <td>1538855</td>\n",
              "      <td>52</td>\n",
              "      <td>271</td>\n",
              "      <td>1.0</td>\n",
              "      <td>108.00</td>\n",
              "      <td>0</td>\n",
              "      <td>10004</td>\n",
              "    </tr>\n",
              "    <tr>\n",
              "      <th>1</th>\n",
              "      <td>2020-09-01 17:35:36</td>\n",
              "      <td>8873113</td>\n",
              "      <td>0.0</td>\n",
              "      <td>267307</td>\n",
              "      <td>52</td>\n",
              "      <td>271</td>\n",
              "      <td>1.0</td>\n",
              "      <td>108.00</td>\n",
              "      <td>0</td>\n",
              "      <td>10004</td>\n",
              "    </tr>\n",
              "    <tr>\n",
              "      <th>2</th>\n",
              "      <td>2020-09-01 19:19:21</td>\n",
              "      <td>12712899</td>\n",
              "      <td>0.0</td>\n",
              "      <td>610220</td>\n",
              "      <td>52</td>\n",
              "      <td>271</td>\n",
              "      <td>1.0</td>\n",
              "      <td>107.95</td>\n",
              "      <td>0</td>\n",
              "      <td>10004</td>\n",
              "    </tr>\n",
              "    <tr>\n",
              "      <th>3</th>\n",
              "      <td>2020-09-01 21:53:34</td>\n",
              "      <td>21535283</td>\n",
              "      <td>0.0</td>\n",
              "      <td>441497</td>\n",
              "      <td>52</td>\n",
              "      <td>271</td>\n",
              "      <td>1.0</td>\n",
              "      <td>108.00</td>\n",
              "      <td>0</td>\n",
              "      <td>10004</td>\n",
              "    </tr>\n",
              "    <tr>\n",
              "      <th>4</th>\n",
              "      <td>2020-09-01 18:42:31</td>\n",
              "      <td>642341</td>\n",
              "      <td>0.0</td>\n",
              "      <td>1065358</td>\n",
              "      <td>61</td>\n",
              "      <td>97</td>\n",
              "      <td>2.0</td>\n",
              "      <td>88.00</td>\n",
              "      <td>0</td>\n",
              "      <td>10091</td>\n",
              "    </tr>\n",
              "  </tbody>\n",
              "</table>\n",
              "</div>"
            ],
            "text/plain": [
              "                  date    id_doc  id_order  ...     sum  is_green  id_group\n",
              "0  2020-09-01 17:01:25   1283228       0.0  ...  108.00         0     10004\n",
              "1  2020-09-01 17:35:36   8873113       0.0  ...  108.00         0     10004\n",
              "2  2020-09-01 19:19:21  12712899       0.0  ...  107.95         0     10004\n",
              "3  2020-09-01 21:53:34  21535283       0.0  ...  108.00         0     10004\n",
              "4  2020-09-01 18:42:31    642341       0.0  ...   88.00         0     10091\n",
              "\n",
              "[5 rows x 10 columns]"
            ]
          },
          "metadata": {
            "tags": []
          },
          "execution_count": 7
        }
      ]
    },
    {
      "cell_type": "markdown",
      "metadata": {
        "id": "5s18YOwrcD9U"
      },
      "source": [
        "## Task 1\n",
        "\n",
        "Prove that buying discounted products depends on the average order sum. (It is more probable that the discounted product will be bought if bunch of money is going to be spend)"
      ]
    },
    {
      "cell_type": "code",
      "metadata": {
        "id": "059cUj6QcD9Z",
        "colab": {
          "base_uri": "https://localhost:8080/"
        },
        "outputId": "f3aa4267-0c4e-46df-e75c-2f0ff70c8961"
      },
      "source": [
        "from scipy.stats import chisquare\n",
        "\n",
        "asum = g_9_clear.groupby('id_doc')['sum'].mean().values\n",
        "adisc = g_9_clear.groupby('id_doc')['is_green'].count().values\n",
        "\n",
        "chisquare(adisc, asum)\n",
        "#pvalue - 0 => hypotesis correct"
      ],
      "execution_count": 7,
      "outputs": [
        {
          "output_type": "stream",
          "text": [
            "/usr/local/lib/python3.7/dist-packages/scipy/stats/stats.py:5745: RuntimeWarning: divide by zero encountered in true_divide\n",
            "  terms = (f_obs - f_exp)**2 / f_exp\n"
          ],
          "name": "stderr"
        },
        {
          "output_type": "execute_result",
          "data": {
            "text/plain": [
              "Power_divergenceResult(statistic=inf, pvalue=0.0)"
            ]
          },
          "metadata": {
            "tags": []
          },
          "execution_count": 7
        }
      ]
    },
    {
      "cell_type": "markdown",
      "metadata": {
        "id": "IKQhM7XRcD9h"
      },
      "source": [
        "## Task 2\n",
        "Prove that the frequency of shopping grows around the wage taking days."
      ]
    },
    {
      "cell_type": "code",
      "metadata": {
        "id": "-k2pPZKHcD9m",
        "colab": {
          "base_uri": "https://localhost:8080/"
        },
        "outputId": "a06eba81-407f-41aa-d595-6fd7e91152c6"
      },
      "source": [
        "import matplotlib.pyplot as plt\n",
        "\n",
        "g_9_clear.date = pd.to_datetime(g_9_clear.date, format=\"%d\")\n",
        "\n",
        "items_day = g_9_clear.groupby(g_9_clear.date.dt.day)['id_doc'].count()"
      ],
      "execution_count": 14,
      "outputs": [
        {
          "output_type": "stream",
          "text": [
            "/usr/local/lib/python3.7/dist-packages/pandas/core/generic.py:5170: SettingWithCopyWarning: \n",
            "A value is trying to be set on a copy of a slice from a DataFrame.\n",
            "Try using .loc[row_indexer,col_indexer] = value instead\n",
            "\n",
            "See the caveats in the documentation: https://pandas.pydata.org/pandas-docs/stable/user_guide/indexing.html#returning-a-view-versus-a-copy\n",
            "  self[name] = value\n"
          ],
          "name": "stderr"
        }
      ]
    },
    {
      "cell_type": "code",
      "metadata": {
        "colab": {
          "base_uri": "https://localhost:8080/",
          "height": 293
        },
        "id": "vtRMC9hvYhg0",
        "outputId": "a551124b-ef37-49fb-91a5-5f7b65c1f768"
      },
      "source": [
        "plt.plot(items_day)\n",
        "\n",
        "#at days 5,12,17,19,26 miminum amount of recepies\n",
        "#and at days 20-25 amount of recepices constant, \n",
        "#that mean that shopping grows around wage days   "
      ],
      "execution_count": 15,
      "outputs": [
        {
          "output_type": "execute_result",
          "data": {
            "text/plain": [
              "[<matplotlib.lines.Line2D at 0x7f5f56eb6fd0>]"
            ]
          },
          "metadata": {
            "tags": []
          },
          "execution_count": 15
        },
        {
          "output_type": "display_data",
          "data": {
            "image/png": "[encoded data removed]",
            "text/plain": [
              "<Figure size 432x288 with 1 Axes>"
            ]
          },
          "metadata": {
            "tags": [],
            "needs_background": "light"
          }
        }
      ]
    },
    {
      "cell_type": "markdown",
      "metadata": {
        "id": "_hzggmsvcD9o"
      },
      "source": [
        "## Task 3\n",
        "Define such cohort existance:\n",
        "1. Frequent buyers - The users that are shopping frequently(daily, weekly, monthly) \n",
        "2. Average purchase sum - The customers that usually spend the same amount of money \n",
        "3. Usual cart - The customers grouped by the product groups\n",
        "\n",
        "References\n",
        "- https://towardsdatascience.com/a-step-by-step-introduction-to-cohort-analysis-in-python-a2cbbd8460ea"
      ]
    },
    {
      "cell_type": "markdown",
      "metadata": {
        "id": "p6WVcN9Qfbs4"
      },
      "source": [
        "##Frequent buyers \n",
        "\n",
        "\n",
        "\n"
      ]
    },
    {
      "cell_type": "code",
      "metadata": {
        "id": "Qz8gtU-BcD9r",
        "colab": {
          "base_uri": "https://localhost:8080/",
          "height": 380
        },
        "outputId": "b2e4e981-3f9a-4cf7-d1c7-c97da7059dd6"
      },
      "source": [
        "import matplotlib.pyplot as plt\n",
        "\n",
        "f_buyers = g_9_clear.groupby('id_doc')['id_doc'].count()\n",
        "\n",
        "plt.hist(f_buyers)"
      ],
      "execution_count": 8,
      "outputs": [
        {
          "output_type": "execute_result",
          "data": {
            "text/plain": [
              "(array([6.171742e+06, 6.463800e+05, 7.310700e+04, 1.077500e+04,\n",
              "        2.236000e+03, 4.470000e+02, 9.300000e+01, 3.500000e+01,\n",
              "        6.000000e+00, 4.000000e+00]),\n",
              " array([  1. ,  11.7,  22.4,  33.1,  43.8,  54.5,  65.2,  75.9,  86.6,\n",
              "         97.3, 108. ]),\n",
              " <a list of 10 Patch objects>)"
            ]
          },
          "metadata": {
            "tags": []
          },
          "execution_count": 8
        },
        {
          "output_type": "display_data",
          "data": {
            "image/png": "[encoded data removed]",
            "text/plain": [
              "<Figure size 432x288 with 1 Axes>"
            ]
          },
          "metadata": {
            "tags": [],
            "needs_background": "light"
          }
        }
      ]
    },
    {
      "cell_type": "markdown",
      "metadata": {
        "id": "zJto8iqKfjbo"
      },
      "source": [
        "##Average purchase sum "
      ]
    },
    {
      "cell_type": "code",
      "metadata": {
        "colab": {
          "base_uri": "https://localhost:8080/",
          "height": 363
        },
        "id": "rrLrzhfAfaxL",
        "outputId": "743e4a6d-40b2-4c66-c1b8-352d725cf876"
      },
      "source": [
        "avg_sum = g_9_clear.groupby('id_card')['sum'].sum()\n",
        "\n",
        "plt.hist(avg_sum[avg_sum<40000])"
      ],
      "execution_count": 9,
      "outputs": [
        {
          "output_type": "execute_result",
          "data": {
            "text/plain": [
              "(array([9.90614e+05, 1.92347e+05, 7.59600e+04, 3.52700e+04, 1.82370e+04,\n",
              "        9.67500e+03, 5.24900e+03, 2.96400e+03, 1.58500e+03, 8.85000e+02]),\n",
              " array([    0.   ,  3999.855,  7999.71 , 11999.565, 15999.42 , 19999.275,\n",
              "        23999.13 , 27998.985, 31998.84 , 35998.695, 39998.55 ]),\n",
              " <a list of 10 Patch objects>)"
            ]
          },
          "metadata": {
            "tags": []
          },
          "execution_count": 9
        },
        {
          "output_type": "display_data",
          "data": {
            "image/png": "[encoded data removed]",
            "text/plain": [
              "<Figure size 432x288 with 1 Axes>"
            ]
          },
          "metadata": {
            "tags": [],
            "needs_background": "light"
          }
        }
      ]
    },
    {
      "cell_type": "markdown",
      "metadata": {
        "id": "0Fg95Ka2fnDa"
      },
      "source": [
        "##Usual cart "
      ]
    },
    {
      "cell_type": "code",
      "metadata": {
        "colab": {
          "base_uri": "https://localhost:8080/",
          "height": 352
        },
        "id": "xKdQeZyBfalY",
        "outputId": "9f4c5f71-9bfd-44a6-9729-17a0d0d38ea0"
      },
      "source": [
        "us_cart = g_9_clear.groupby('id_group')['id_card'].unique().apply(len)\n",
        "\n",
        "plt.hist(us_cart)"
      ],
      "execution_count": 12,
      "outputs": [
        {
          "output_type": "execute_result",
          "data": {
            "text/plain": [
              "(array([103.,  22.,  17.,  11.,   3.,   1.,   3.,   2.,   1.,   1.]),\n",
              " array([1.000000e+00, 7.654180e+04, 1.530826e+05, 2.296234e+05,\n",
              "        3.061642e+05, 3.827050e+05, 4.592458e+05, 5.357866e+05,\n",
              "        6.123274e+05, 6.888682e+05, 7.654090e+05]),\n",
              " <a list of 10 Patch objects>)"
            ]
          },
          "metadata": {
            "tags": []
          },
          "execution_count": 12
        },
        {
          "output_type": "display_data",
          "data": {
            "image/png": "[encoded data removed]",
            "text/plain": [
              "<Figure size 432x288 with 1 Axes>"
            ]
          },
          "metadata": {
            "tags": [],
            "needs_background": "light"
          }
        }
      ]
    }
  ]
}