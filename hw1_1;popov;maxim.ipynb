{
  "nbformat": 4,
  "nbformat_minor": 0,
  "metadata": {
    "colab": {
      "name": "hw1.1;popov;maxim.ipynb",
      "provenance": [],
      "collapsed_sections": []
    },
    "kernelspec": {
      "name": "python3",
      "display_name": "Python 3"
    },
    "language_info": {
      "name": "python"
    }
  },
  "cells": [
    {
      "cell_type": "code",
      "metadata": {
        "colab": {
          "base_uri": "https://localhost:8080/"
        },
        "id": "S-89h8JNDsYD",
        "outputId": "b86e7387-00c0-48cd-eaec-d80b4a831b55"
      },
      "source": [
        "# грузанем нужную штуку\n",
        "!pip install docx2txt"
      ],
      "execution_count": 4,
      "outputs": [
        {
          "output_type": "stream",
          "text": [
            "Collecting docx2txt\n",
            "  Downloading https://files.pythonhosted.org/packages/7d/7d/60ee3f2b16d9bfdfa72e8599470a2c1a5b759cb113c6fe1006be28359327/docx2txt-0.8.tar.gz\n",
            "Building wheels for collected packages: docx2txt\n",
            "  Building wheel for docx2txt (setup.py) ... \u001b[?25l\u001b[?25hdone\n",
            "  Created wheel for docx2txt: filename=docx2txt-0.8-cp37-none-any.whl size=3963 sha256=9bda1be04fe76258d3ee4f27383f7523a2a9bedadb6ce525db13346058db4d91\n",
            "  Stored in directory: /root/.cache/pip/wheels/b2/1f/26/a051209bbb77fc6bcfae2bb7e01fa0ff941b82292ab084d596\n",
            "Successfully built docx2txt\n",
            "Installing collected packages: docx2txt\n",
            "Successfully installed docx2txt-0.8\n"
          ],
          "name": "stdout"
        }
      ]
    },
    {
      "cell_type": "code",
      "metadata": {
        "id": "eeR8fh-RmA67"
      },
      "source": [
        "import gc\n",
        "import pickle\n",
        "import bz2\n",
        "from datetime import datetime\n",
        "from pathlib import Path\n",
        "\n",
        "import pandas as pd\n",
        "import numpy as np\n",
        "import docx2txt\n",
        "import matplotlib.pyplot as plt\n",
        "import seaborn as sns"
      ],
      "execution_count": 5,
      "outputs": []
    },
    {
      "cell_type": "code",
      "metadata": {
        "colab": {
          "base_uri": "https://localhost:8080/"
        },
        "id": "zqz26PpkHSEY",
        "outputId": "d23f67cb-0ec8-4c83-ca7f-2bce3e3f7bb8"
      },
      "source": [
        "# для работы в колабе\n",
        "from google.colab import drive\n",
        "drive.mount('/content/gdrive')"
      ],
      "execution_count": 6,
      "outputs": [
        {
          "output_type": "stream",
          "text": [
            "Mounted at /content/gdrive\n"
          ],
          "name": "stdout"
        }
      ]
    },
    {
      "cell_type": "code",
      "metadata": {
        "id": "8CfdvhU-2BVV"
      },
      "source": [
        "# useful shit\n",
        "\n",
        "dateparse = lambda x: datetime.strptime(x, '%Y-%m-%d %H:%M:%S')\n",
        "\n",
        "\n",
        "def read_df(filepath, columns, usecols=None):\n",
        "    \"\"\"\n",
        "    Read dataframe from given filepath\n",
        "    \"\"\"\n",
        "    if usecols is None:\n",
        "        usecols = columns\n",
        "    df = pd.read_csv(\n",
        "        filepath_or_buffer=one,\n",
        "        header=0,\n",
        "        sep=';',\n",
        "        names=columns,\n",
        "        usecols=usecols,\n",
        "        parse_dates=['date'],\n",
        "        date_parser=dateparse\n",
        "    )\n",
        "    return df\n",
        "\n",
        "\n",
        "def read_docx(filepath, columns, sep=';'):\n",
        "    \"\"\"\n",
        "    Read docx to pd.DataFrame\n",
        "    \"\"\"\n",
        "    text = docx2txt.process(filepath)\n",
        "    dick = [x.strip() for x in text.split('\\n') if x != '']\n",
        "    dick.pop(0) # remove column names\n",
        "\n",
        "    json_dick = {}\n",
        "    for col in columns:\n",
        "        json_dick[col] = []\n",
        "    for x in dick:\n",
        "        y = x.split(sep)\n",
        "        for col, val in zip(columns, y):\n",
        "            json_dick[col].append(val)\n",
        "\n",
        "    return pd.DataFrame(json_dick)\n",
        "\n",
        "\n",
        "def read_pickled(filepath):\n",
        "    \"\"\"\n",
        "    Read pickled dataframes\n",
        "    \"\"\"\n",
        "    with bz2.open(filepath, 'rb') as f:\n",
        "        return pickle.load(f)"
      ],
      "execution_count": 7,
      "outputs": []
    },
    {
      "cell_type": "code",
      "metadata": {
        "id": "KHpPXd_L1qTq",
        "colab": {
          "base_uri": "https://localhost:8080/"
        },
        "outputId": "3693992c-d4a2-49df-cecd-76951af79583"
      },
      "source": [
        "# грузанем категории товаров\n",
        "cols = [s for s in 'id_tov;id_group;name_group'.split(';')]\n",
        "products_cat = read_docx('product_groups.docx', columns=cols)\n",
        "products_cat['id_tov'] = products_cat.id_tov.astype(int)\n",
        "products_cat['id_group'] = products_cat.id_group.astype(int)\n",
        "print(products_cat.head())\n",
        "print(products_cat.dtypes)"
      ],
      "execution_count": 10,
      "outputs": [
        {
          "output_type": "stream",
          "text": [
            "   id_tov  id_group              name_group\n",
            "0      52     10004  Кисломолочные продукты\n",
            "1      75     10004  Кисломолочные продукты\n",
            "2      77     10004  Кисломолочные продукты\n",
            "3     143     10004  Кисломолочные продукты\n",
            "4     151     10004  Кисломолочные продукты\n",
            "id_tov         int64\n",
            "id_group       int64\n",
            "name_group    object\n",
            "dtype: object\n"
          ],
          "name": "stdout"
        }
      ]
    },
    {
      "cell_type": "code",
      "metadata": {
        "id": "aU25XS8nh4JR"
      },
      "source": [
        "get_date = lambda s: s.dt.date\n",
        "\n",
        "\n",
        "def read_data(filepath, extract_day=True):\n",
        "    df = read_pickled(filepath)\n",
        "    df.drop(columns=['id_doc', 'id_card', 'is_green'], inplace=True)\n",
        "    if extract_day:\n",
        "        df['day'] = get_date(df.date)\n",
        "    return df"
      ],
      "execution_count": 11,
      "outputs": []
    },
    {
      "cell_type": "code",
      "metadata": {
        "id": "IVkytTl5IKxm"
      },
      "source": [
        "# анализ только по сентябрю, со всеми месяцами чет тяжко для RAM\n",
        "df_one = read_data('gdrive/MyDrive/09_prepared.pkl.bz2')"
      ],
      "execution_count": 12,
      "outputs": []
    },
    {
      "cell_type": "code",
      "metadata": {
        "id": "fy91LUR4xZTw"
      },
      "source": [
        "# 0 - оффлайн, 1 - онлайн\n",
        "df_one.loc[df_one['id_order'] != 0, 'id_order'] = 1"
      ],
      "execution_count": 6,
      "outputs": []
    },
    {
      "cell_type": "code",
      "metadata": {
        "colab": {
          "base_uri": "https://localhost:8080/",
          "height": 373
        },
        "id": "vFB05z10xyQN",
        "outputId": "17d58011-b12f-446d-af0f-6c6de19ef782"
      },
      "source": [
        "# в онлайне вон есть мощная закупка по одному товару, и еще есть отрицательные суммы\n",
        "plt.figure(figsize=(12, 8))\n",
        "df_one.boxplot(by='id_order', column='sum');"
      ],
      "execution_count": 7,
      "outputs": [
        {
          "output_type": "stream",
          "text": [
            "/usr/local/lib/python3.7/dist-packages/numpy/core/_asarray.py:83: VisibleDeprecationWarning: Creating an ndarray from ragged nested sequences (which is a list-or-tuple of lists-or-tuples-or ndarrays with different lengths or shapes) is deprecated. If you meant to do this, you must specify 'dtype=object' when creating the ndarray\n",
            "  return array(a, dtype, copy=False, order=order)\n"
          ],
          "name": "stderr"
        },
        {
          "output_type": "display_data",
          "data": {
            "text/plain": [
              "<Figure size 864x576 with 0 Axes>"
            ]
          },
          "metadata": {
            "tags": []
          }
        },
        {
          "output_type": "display_data",
          "data": {
            "image/png": "[encoded data removed]",
            "text/plain": [
              "<Figure size 432x288 with 1 Axes>"
            ]
          },
          "metadata": {
            "tags": [],
            "needs_background": "light"
          }
        }
      ]
    },
    {
      "cell_type": "code",
      "metadata": {
        "colab": {
          "base_uri": "https://localhost:8080/"
        },
        "id": "jq3wZBiUy2Nv",
        "outputId": "e7f09f53-59d5-4781-bb5b-97f176e6d9a8"
      },
      "source": [
        "# количество товаров в чеках\n",
        "df_one.groupby('id_doc_int').size().sort_values(ascending=False).head(10)"
      ],
      "execution_count": 8,
      "outputs": [
        {
          "output_type": "execute_result",
          "data": {
            "text/plain": [
              "id_doc_int\n",
              "2937461     174\n",
              "13543180    110\n",
              "4359470     108\n",
              "9968657     108\n",
              "1484069     100\n",
              "23113636    100\n",
              "3649983      99\n",
              "1785713      97\n",
              "8404161      96\n",
              "12655489     96\n",
              "dtype: int64"
            ]
          },
          "metadata": {
            "tags": []
          },
          "execution_count": 8
        }
      ]
    },
    {
      "cell_type": "code",
      "metadata": {
        "colab": {
          "base_uri": "https://localhost:8080/"
        },
        "id": "goFIVJDXzr5R",
        "outputId": "2eae0b99-fb33-4d2c-f2c5-1dcd73009d5a"
      },
      "source": [
        "# количество товаров в чеках с другого конца\n",
        "df_one.groupby('id_doc_int').size().sort_values().head()"
      ],
      "execution_count": 9,
      "outputs": [
        {
          "output_type": "execute_result",
          "data": {
            "text/plain": [
              "id_doc_int\n",
              "8735588     1\n",
              "6561184     1\n",
              "6561191     1\n",
              "6561192     1\n",
              "21834708    1\n",
              "dtype: int64"
            ]
          },
          "metadata": {
            "tags": []
          },
          "execution_count": 9
        }
      ]
    },
    {
      "cell_type": "code",
      "metadata": {
        "colab": {
          "base_uri": "https://localhost:8080/",
          "height": 293
        },
        "id": "WTgJMcDN-85K",
        "outputId": "ca7fe978-c92b-4518-acba-c27523a3b615"
      },
      "source": [
        "df_one.groupby('id_doc_int').size().hist(bins=50)"
      ],
      "execution_count": 10,
      "outputs": [
        {
          "output_type": "execute_result",
          "data": {
            "text/plain": [
              "<matplotlib.axes._subplots.AxesSubplot at 0x7fbeb8d30150>"
            ]
          },
          "metadata": {
            "tags": []
          },
          "execution_count": 10
        },
        {
          "output_type": "display_data",
          "data": {
            "image/png": "[encoded data removed]",
            "text/plain": [
              "<Figure size 432x288 with 1 Axes>"
            ]
          },
          "metadata": {
            "tags": [],
            "needs_background": "light"
          }
        }
      ]
    },
    {
      "cell_type": "code",
      "metadata": {
        "colab": {
          "base_uri": "https://localhost:8080/",
          "height": 80
        },
        "id": "WtXILt1T0uJO",
        "outputId": "28c2d146-1ab8-4172-87d7-2167d20598ef"
      },
      "source": [
        "# щас бы закупаться икрой на 38400\n",
        "df_one[df_one['sum'] == df_one['sum'].max()]"
      ],
      "execution_count": 11,
      "outputs": [
        {
          "output_type": "execute_result",
          "data": {
            "text/html": [
              "<div>\n",
              "<style scoped>\n",
              "    .dataframe tbody tr th:only-of-type {\n",
              "        vertical-align: middle;\n",
              "    }\n",
              "\n",
              "    .dataframe tbody tr th {\n",
              "        vertical-align: top;\n",
              "    }\n",
              "\n",
              "    .dataframe thead th {\n",
              "        text-align: right;\n",
              "    }\n",
              "</style>\n",
              "<table border=\"1\" class=\"dataframe\">\n",
              "  <thead>\n",
              "    <tr style=\"text-align: right;\">\n",
              "      <th></th>\n",
              "      <th>date</th>\n",
              "      <th>id_order</th>\n",
              "      <th>id_tov</th>\n",
              "      <th>id_kontr</th>\n",
              "      <th>quantity</th>\n",
              "      <th>sum</th>\n",
              "      <th>id_card_int</th>\n",
              "      <th>id_doc_int</th>\n",
              "      <th>day</th>\n",
              "    </tr>\n",
              "  </thead>\n",
              "  <tbody>\n",
              "    <tr>\n",
              "      <th>38060134</th>\n",
              "      <td>2020-09-28 08:36:51</td>\n",
              "      <td>1</td>\n",
              "      <td>21379</td>\n",
              "      <td>18018</td>\n",
              "      <td>16.0</td>\n",
              "      <td>38400.0</td>\n",
              "      <td>1755035</td>\n",
              "      <td>14218897</td>\n",
              "      <td>2020-09-28</td>\n",
              "    </tr>\n",
              "  </tbody>\n",
              "</table>\n",
              "</div>"
            ],
            "text/plain": [
              "                        date  id_order  ...  id_doc_int         day\n",
              "38060134 2020-09-28 08:36:51         1  ...    14218897  2020-09-28\n",
              "\n",
              "[1 rows x 9 columns]"
            ]
          },
          "metadata": {
            "tags": []
          },
          "execution_count": 11
        }
      ]
    },
    {
      "cell_type": "code",
      "metadata": {
        "colab": {
          "base_uri": "https://localhost:8080/"
        },
        "id": "ond5SZqp3H7P",
        "outputId": "e8fd155f-f209-4dbf-d215-806fec1e7cec"
      },
      "source": [
        "# цена икры\n",
        "38400.0 / 16"
      ],
      "execution_count": 12,
      "outputs": [
        {
          "output_type": "execute_result",
          "data": {
            "text/plain": [
              "2400.0"
            ]
          },
          "metadata": {
            "tags": []
          },
          "execution_count": 12
        }
      ]
    },
    {
      "cell_type": "code",
      "metadata": {
        "colab": {
          "base_uri": "https://localhost:8080/",
          "height": 80
        },
        "id": "HUlTe07V1GPS",
        "outputId": "24e3f164-d5f5-4aba-fdfa-316468ed8f2b"
      },
      "source": [
        "# чет икра дорогая\n",
        "products_cat[products_cat['id_tov'] == 21379]"
      ],
      "execution_count": 13,
      "outputs": [
        {
          "output_type": "execute_result",
          "data": {
            "text/html": [
              "<div>\n",
              "<style scoped>\n",
              "    .dataframe tbody tr th:only-of-type {\n",
              "        vertical-align: middle;\n",
              "    }\n",
              "\n",
              "    .dataframe tbody tr th {\n",
              "        vertical-align: top;\n",
              "    }\n",
              "\n",
              "    .dataframe thead th {\n",
              "        text-align: right;\n",
              "    }\n",
              "</style>\n",
              "<table border=\"1\" class=\"dataframe\">\n",
              "  <thead>\n",
              "    <tr style=\"text-align: right;\">\n",
              "      <th></th>\n",
              "      <th>id_tov</th>\n",
              "      <th>id_group</th>\n",
              "      <th>name_group</th>\n",
              "    </tr>\n",
              "  </thead>\n",
              "  <tbody>\n",
              "    <tr>\n",
              "      <th>1546</th>\n",
              "      <td>21379</td>\n",
              "      <td>10053</td>\n",
              "      <td>Икра</td>\n",
              "    </tr>\n",
              "  </tbody>\n",
              "</table>\n",
              "</div>"
            ],
            "text/plain": [
              "      id_tov  id_group name_group\n",
              "1546   21379     10053       Икра"
            ]
          },
          "metadata": {
            "tags": []
          },
          "execution_count": 13
        }
      ]
    },
    {
      "cell_type": "code",
      "metadata": {
        "colab": {
          "base_uri": "https://localhost:8080/"
        },
        "id": "CYkV7JkF3dHD",
        "outputId": "a59f0458-c335-48bc-9b38-44086c4a241f"
      },
      "source": [
        "df_one[df_one['id_card_int'] == 1755035]['id_tov'].unique()"
      ],
      "execution_count": 14,
      "outputs": [
        {
          "output_type": "execute_result",
          "data": {
            "text/plain": [
              "array([21379,   647])"
            ]
          },
          "metadata": {
            "tags": []
          },
          "execution_count": 14
        }
      ]
    },
    {
      "cell_type": "code",
      "metadata": {
        "colab": {
          "base_uri": "https://localhost:8080/",
          "height": 80
        },
        "id": "JZc6U1ot37Ny",
        "outputId": "61e1f42f-cf90-4e51-81c5-057d0f423489"
      },
      "source": [
        "# ну икру в чем-то надо нести, чел берет чисто икры на 38400 и пакеты, ну явно необычный\n",
        "products_cat[products_cat['id_tov'] == 647]"
      ],
      "execution_count": 15,
      "outputs": [
        {
          "output_type": "execute_result",
          "data": {
            "text/html": [
              "<div>\n",
              "<style scoped>\n",
              "    .dataframe tbody tr th:only-of-type {\n",
              "        vertical-align: middle;\n",
              "    }\n",
              "\n",
              "    .dataframe tbody tr th {\n",
              "        vertical-align: top;\n",
              "    }\n",
              "\n",
              "    .dataframe thead th {\n",
              "        text-align: right;\n",
              "    }\n",
              "</style>\n",
              "<table border=\"1\" class=\"dataframe\">\n",
              "  <thead>\n",
              "    <tr style=\"text-align: right;\">\n",
              "      <th></th>\n",
              "      <th>id_tov</th>\n",
              "      <th>id_group</th>\n",
              "      <th>name_group</th>\n",
              "    </tr>\n",
              "  </thead>\n",
              "  <tbody>\n",
              "    <tr>\n",
              "      <th>3450</th>\n",
              "      <td>647</td>\n",
              "      <td>10155</td>\n",
              "      <td>Упаковка</td>\n",
              "    </tr>\n",
              "  </tbody>\n",
              "</table>\n",
              "</div>"
            ],
            "text/plain": [
              "      id_tov  id_group name_group\n",
              "3450     647     10155   Упаковка"
            ]
          },
          "metadata": {
            "tags": []
          },
          "execution_count": 15
        }
      ]
    },
    {
      "cell_type": "code",
      "metadata": {
        "id": "zaDlVBSY4DEw"
      },
      "source": [
        "card_doc_grouped = df_one.groupby(['id_card_int', 'id_doc_int'])['sum'].sum().reset_index()\n",
        "card_doc_grouped = card_doc_grouped.groupby('id_card_int')['sum'].max()"
      ],
      "execution_count": 16,
      "outputs": []
    },
    {
      "cell_type": "code",
      "metadata": {
        "colab": {
          "base_uri": "https://localhost:8080/",
          "height": 265
        },
        "id": "f7-bd3HeA2eS",
        "outputId": "af5cf026-a71e-4781-c0e2-2aaec72e7f36"
      },
      "source": [
        "# распределение максимальных чеков по картам\n",
        "card_doc_grouped.hist(bins=50);"
      ],
      "execution_count": 17,
      "outputs": [
        {
          "output_type": "display_data",
          "data": {
            "image/png": "[encoded data removed]",
            "text/plain": [
              "<Figure size 432x288 with 1 Axes>"
            ]
          },
          "metadata": {
            "tags": [],
            "needs_background": "light"
          }
        }
      ]
    },
    {
      "cell_type": "code",
      "metadata": {
        "colab": {
          "base_uri": "https://localhost:8080/",
          "height": 279
        },
        "id": "CD9_befjBm4d",
        "outputId": "29ac1229-55a1-4a4b-b666-7ac3c8efdba6"
      },
      "source": [
        "# распределение максимальных чеков по картам, ток теперь боксплотом\n",
        "sns.boxplot(x=card_doc_grouped);"
      ],
      "execution_count": 18,
      "outputs": [
        {
          "output_type": "display_data",
          "data": {
            "image/png": "[encoded data removed]",
            "text/plain": [
              "<Figure size 432x288 with 1 Axes>"
            ]
          },
          "metadata": {
            "tags": [],
            "needs_background": "light"
          }
        }
      ]
    },
    {
      "cell_type": "code",
      "metadata": {
        "colab": {
          "base_uri": "https://localhost:8080/",
          "height": 280
        },
        "id": "uBAXsjccCL2H",
        "outputId": "d18da00a-5ccb-48e9-d059-567d3fae0426"
      },
      "source": [
        "# количество различных товаров для каждой из карт\n",
        "sns.boxplot(x=df_one.groupby('id_card_int')['id_tov'].nunique());"
      ],
      "execution_count": 19,
      "outputs": [
        {
          "output_type": "display_data",
          "data": {
            "image/png": "[encoded data removed]",
            "text/plain": [
              "<Figure size 432x288 with 1 Axes>"
            ]
          },
          "metadata": {
            "tags": [],
            "needs_background": "light"
          }
        }
      ]
    },
    {
      "cell_type": "code",
      "metadata": {
        "colab": {
          "base_uri": "https://localhost:8080/",
          "height": 280
        },
        "id": "ed8-qGwDDq63",
        "outputId": "84041184-8702-48db-f9fc-ee252a9238c7"
      },
      "source": [
        "# количество различных товаров для каждой из карт по дням\n",
        "sns.boxplot(x=df_one.groupby(['id_card_int', 'day'])['id_tov'].nunique());"
      ],
      "execution_count": 20,
      "outputs": [
        {
          "output_type": "display_data",
          "data": {
            "image/png": "[encoded data removed]",
            "text/plain": [
              "<Figure size 432x288 with 1 Axes>"
            ]
          },
          "metadata": {
            "tags": [],
            "needs_background": "light"
          }
        }
      ]
    },
    {
      "cell_type": "code",
      "metadata": {
        "colab": {
          "base_uri": "https://localhost:8080/",
          "height": 280
        },
        "id": "Los54MbBFGdH",
        "outputId": "5a0b1e01-4b7c-44b8-90b4-2770390da049"
      },
      "source": [
        "# количество различных категорий товаров для каждой из карт по дням\n",
        "sns.boxplot(x=df_one.merge(products_cat[['id_tov', 'id_group']], on='id_tov').groupby(['id_card_int', 'day'])['id_group'].nunique());"
      ],
      "execution_count": 22,
      "outputs": [
        {
          "output_type": "display_data",
          "data": {
            "image/png": "[encoded data removed]",
            "text/plain": [
              "<Figure size 432x288 with 1 Axes>"
            ]
          },
          "metadata": {
            "tags": [],
            "needs_background": "light"
          }
        }
      ]
    },
    {
      "cell_type": "code",
      "metadata": {
        "id": "lsahFo7fHv4q"
      },
      "source": [
        "# уберем тех, кто брал много разных категорий товаров в один день\n",
        "tov_groups = df_one.merge(products_cat[['id_tov', 'id_group']], on='id_tov').groupby(['id_card_int', 'day'])['id_group'].nunique().reset_index()\n",
        "bad_guys = tov_groups[tov_groups.id_group >= 100]['id_card_int'].unique()"
      ],
      "execution_count": 15,
      "outputs": []
    },
    {
      "cell_type": "code",
      "metadata": {
        "id": "isTpo6AyZUtR"
      },
      "source": [
        "# добавим любителя икры\n",
        "bad_guys = np.concatenate([bad_guys, [1755035]])"
      ],
      "execution_count": 21,
      "outputs": []
    },
    {
      "cell_type": "code",
      "metadata": {
        "id": "mwGLOwYLZhp1"
      },
      "source": [
        "bad_guys = bad_guys.tolist()"
      ],
      "execution_count": 25,
      "outputs": []
    },
    {
      "cell_type": "code",
      "metadata": {
        "colab": {
          "base_uri": "https://localhost:8080/",
          "height": 279
        },
        "id": "sVAuHIgsZ8jB",
        "outputId": "c1898e82-9595-484c-9b67-482af2f5af9b"
      },
      "source": [
        "sns.boxplot(x=df_one.groupby(['id_card_int', 'day'])['sum'].sum());"
      ],
      "execution_count": 28,
      "outputs": [
        {
          "output_type": "display_data",
          "data": {
            "image/png": "[encoded data removed]",
            "text/plain": [
              "<Figure size 432x288 with 1 Axes>"
            ]
          },
          "metadata": {
            "tags": [],
            "needs_background": "light"
          }
        }
      ]
    },
    {
      "cell_type": "code",
      "metadata": {
        "colab": {
          "base_uri": "https://localhost:8080/"
        },
        "id": "Iv0HWR2sahAa",
        "outputId": "f06454fb-b6c5-40de-b897-e66e5cca6a52"
      },
      "source": [
        "dayly_sums = df_one.groupby(['id_card_int', 'day'])['sum'].sum().reset_index()\n",
        "dayly_sums[dayly_sums['sum'] >= 100000]['id_card_int'].unique()"
      ],
      "execution_count": 29,
      "outputs": [
        {
          "output_type": "execute_result",
          "data": {
            "text/plain": [
              "array([ 883386, 1755035])"
            ]
          },
          "metadata": {
            "tags": []
          },
          "execution_count": 29
        }
      ]
    },
    {
      "cell_type": "code",
      "metadata": {
        "colab": {
          "base_uri": "https://localhost:8080/",
          "height": 279
        },
        "id": "X5CbV3b-bBgj",
        "outputId": "8cb2a807-c778-4496-b6a5-155a4d005daf"
      },
      "source": [
        "# найдем карты, по которым наиболее часто проводятся покупки\n",
        "sns.boxplot(x=df_one.groupby(['id_card_int'])['day'].nunique());"
      ],
      "execution_count": 31,
      "outputs": [
        {
          "output_type": "display_data",
          "data": {
            "image/png": "[encoded data removed]",
            "text/plain": [
              "<Figure size 432x288 with 1 Axes>"
            ]
          },
          "metadata": {
            "tags": [],
            "needs_background": "light"
          }
        }
      ]
    },
    {
      "cell_type": "code",
      "metadata": {
        "colab": {
          "base_uri": "https://localhost:8080/"
        },
        "id": "KdRaiuaRbq48",
        "outputId": "a4b81214-9e1c-4eda-c6b8-b28f0fb78b07"
      },
      "source": [
        "days = df_one.groupby(['id_card_int'])['day'].nunique().reset_index()"
      ],
      "execution_count": 33,
      "outputs": [
        {
          "output_type": "execute_result",
          "data": {
            "text/plain": [
              "12              14\n",
              "17              19\n",
              "29              36\n",
              "35              42\n",
              "44              51\n",
              "            ...   \n",
              "1353925    1927066\n",
              "1354284    1927639\n",
              "1354845    1928357\n",
              "1355455    1929135\n",
              "1358087    1941912\n",
              "Name: id_card_int, Length: 65928, dtype: int64"
            ]
          },
          "metadata": {
            "tags": []
          },
          "execution_count": 33
        }
      ]
    },
    {
      "cell_type": "code",
      "metadata": {
        "colab": {
          "base_uri": "https://localhost:8080/"
        },
        "id": "beGgpoT7c8SD",
        "outputId": "7b29459e-fb78-4c2e-e635-a5bc2fb883b1"
      },
      "source": [
        "bad_guys += days[days['day'] >= 17]['id_card_int'].values.tolist()\n",
        "bad_guys = list(set(bad_guys))\n",
        "print(len(bad_guys))\n",
        "print(883386 in bad_guys)\n",
        "print(1755035 in bad_guys)"
      ],
      "execution_count": 39,
      "outputs": [
        {
          "output_type": "stream",
          "text": [
            "65929\n",
            "True\n",
            "True\n"
          ],
          "name": "stdout"
        }
      ]
    },
    {
      "cell_type": "code",
      "metadata": {
        "id": "RwA6RMFndZk-"
      },
      "source": [
        "with bz2.open('bad_guys.bz2.pickle', 'wb') as f:\n",
        "    pickle.dump(pd.DataFrame({'id_card_int': bad_guys}), f, protocol=4)"
      ],
      "execution_count": 46,
      "outputs": []
    },
    {
      "cell_type": "code",
      "metadata": {
        "id": "cmVxJ1R3d-oq"
      },
      "source": [
        "with bz2.open('bad_guys.bz2.pickle', 'rb') as f:\n",
        "    res = pickle.load(f)"
      ],
      "execution_count": 48,
      "outputs": []
    }
  ]
}