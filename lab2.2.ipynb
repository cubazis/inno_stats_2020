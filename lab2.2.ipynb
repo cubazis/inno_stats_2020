{
 "cells": [
  {
   "cell_type": "markdown",
   "id": "novel-utility",
   "metadata": {},
   "source": [
    "### Additional steps"
   ]
  },
  {
   "cell_type": "code",
   "execution_count": 30,
   "id": "unusual-spray",
   "metadata": {},
   "outputs": [],
   "source": [
    "from pathlib import Path\n",
    "import pandas as pd\n",
    "import gc\n",
    "from sklearn.preprocessing import LabelEncoder\n",
    "import pickle\n",
    "import bz2\n",
    "import matplotlib.pyplot as plt\n",
    "import numpy as np"
   ]
  },
  {
   "cell_type": "code",
   "execution_count": 3,
   "id": "circular-england",
   "metadata": {},
   "outputs": [
    {
     "name": "stdout",
     "output_type": "stream",
     "text": [
      "09.csv\t\t     10.csv  products_20200901.txt  products_20201101.txt\r\n",
      "09_prepared.pkl.bz2  11.csv  products_20201001.txt\r\n"
     ]
    }
   ],
   "source": [
    "data_path = Path('./data/').resolve()\n",
    "!ls {data_path}"
   ]
  },
  {
   "cell_type": "code",
   "execution_count": 4,
   "id": "honest-insulation",
   "metadata": {},
   "outputs": [
    {
     "data": {
      "text/html": [
       "<div>\n",
       "<style scoped>\n",
       "    .dataframe tbody tr th:only-of-type {\n",
       "        vertical-align: middle;\n",
       "    }\n",
       "\n",
       "    .dataframe tbody tr th {\n",
       "        vertical-align: top;\n",
       "    }\n",
       "\n",
       "    .dataframe thead th {\n",
       "        text-align: right;\n",
       "    }\n",
       "</style>\n",
       "<table border=\"1\" class=\"dataframe\">\n",
       "  <thead>\n",
       "    <tr style=\"text-align: right;\">\n",
       "      <th></th>\n",
       "      <th>date</th>\n",
       "      <th>id_doc</th>\n",
       "      <th>id_order</th>\n",
       "      <th>id_card</th>\n",
       "      <th>id_tov</th>\n",
       "      <th>id_kontr</th>\n",
       "      <th>quantity</th>\n",
       "      <th>sum</th>\n",
       "      <th>is_green</th>\n",
       "      <th>id_card_int</th>\n",
       "      <th>id_doc_int</th>\n",
       "    </tr>\n",
       "  </thead>\n",
       "  <tbody>\n",
       "    <tr>\n",
       "      <th>0</th>\n",
       "      <td>2020-09-01 17:01:25</td>\n",
       "      <td>0E05D308-5CEC-EA11-B444-005056A7539A</td>\n",
       "      <td>0</td>\n",
       "      <td>8594499</td>\n",
       "      <td>52</td>\n",
       "      <td>271</td>\n",
       "      <td>1.0</td>\n",
       "      <td>108.00</td>\n",
       "      <td>False</td>\n",
       "      <td>1087018</td>\n",
       "      <td>386563</td>\n",
       "    </tr>\n",
       "    <tr>\n",
       "      <th>1</th>\n",
       "      <td>2020-09-01 17:35:36</td>\n",
       "      <td>610205A1-61EC-EA11-B444-005056A7539A</td>\n",
       "      <td>0</td>\n",
       "      <td>1452388</td>\n",
       "      <td>52</td>\n",
       "      <td>271</td>\n",
       "      <td>1.0</td>\n",
       "      <td>108.00</td>\n",
       "      <td>False</td>\n",
       "      <td>199266</td>\n",
       "      <td>2676152</td>\n",
       "    </tr>\n",
       "    <tr>\n",
       "      <th>2</th>\n",
       "      <td>2020-09-01 19:19:21</td>\n",
       "      <td>8AF19602-70EC-EA11-B444-005056A7539A</td>\n",
       "      <td>0</td>\n",
       "      <td>3493538</td>\n",
       "      <td>52</td>\n",
       "      <td>271</td>\n",
       "      <td>1.0</td>\n",
       "      <td>107.95</td>\n",
       "      <td>False</td>\n",
       "      <td>444332</td>\n",
       "      <td>3832560</td>\n",
       "    </tr>\n",
       "    <tr>\n",
       "      <th>3</th>\n",
       "      <td>2020-09-01 21:53:34</td>\n",
       "      <td>EB6C71A3-84EC-EA11-B444-005056A7539A</td>\n",
       "      <td>0</td>\n",
       "      <td>2491281</td>\n",
       "      <td>52</td>\n",
       "      <td>271</td>\n",
       "      <td>1.0</td>\n",
       "      <td>108.00</td>\n",
       "      <td>False</td>\n",
       "      <td>325059</td>\n",
       "      <td>6489899</td>\n",
       "    </tr>\n",
       "    <tr>\n",
       "      <th>6</th>\n",
       "      <td>2020-09-01 19:50:31</td>\n",
       "      <td>1B34A539-74EC-EA11-B444-005056A7539A</td>\n",
       "      <td>0</td>\n",
       "      <td>4119786</td>\n",
       "      <td>61</td>\n",
       "      <td>97</td>\n",
       "      <td>1.0</td>\n",
       "      <td>56.00</td>\n",
       "      <td>False</td>\n",
       "      <td>533043</td>\n",
       "      <td>750155</td>\n",
       "    </tr>\n",
       "  </tbody>\n",
       "</table>\n",
       "</div>"
      ],
      "text/plain": [
       "                 date                                id_doc  id_order  \\\n",
       "0 2020-09-01 17:01:25  0E05D308-5CEC-EA11-B444-005056A7539A         0   \n",
       "1 2020-09-01 17:35:36  610205A1-61EC-EA11-B444-005056A7539A         0   \n",
       "2 2020-09-01 19:19:21  8AF19602-70EC-EA11-B444-005056A7539A         0   \n",
       "3 2020-09-01 21:53:34  EB6C71A3-84EC-EA11-B444-005056A7539A         0   \n",
       "6 2020-09-01 19:50:31  1B34A539-74EC-EA11-B444-005056A7539A         0   \n",
       "\n",
       "   id_card  id_tov  id_kontr  quantity     sum  is_green  id_card_int  \\\n",
       "0  8594499      52       271       1.0  108.00     False      1087018   \n",
       "1  1452388      52       271       1.0  108.00     False       199266   \n",
       "2  3493538      52       271       1.0  107.95     False       444332   \n",
       "3  2491281      52       271       1.0  108.00     False       325059   \n",
       "6  4119786      61        97       1.0   56.00     False       533043   \n",
       "\n",
       "   id_doc_int  \n",
       "0      386563  \n",
       "1     2676152  \n",
       "2     3832560  \n",
       "3     6489899  \n",
       "6      750155  "
      ]
     },
     "execution_count": 4,
     "metadata": {},
     "output_type": "execute_result"
    }
   ],
   "source": [
    "with bz2.open(data_path / '09_prepared.pkl.bz2', 'rb') as f:\n",
    "    df = pickle.load(f)\n",
    "df.head()"
   ]
  },
  {
   "cell_type": "code",
   "execution_count": 6,
   "id": "collaborative-nylon",
   "metadata": {},
   "outputs": [
    {
     "data": {
      "text/html": [
       "<div>\n",
       "<style scoped>\n",
       "    .dataframe tbody tr th:only-of-type {\n",
       "        vertical-align: middle;\n",
       "    }\n",
       "\n",
       "    .dataframe tbody tr th {\n",
       "        vertical-align: top;\n",
       "    }\n",
       "\n",
       "    .dataframe thead th {\n",
       "        text-align: right;\n",
       "    }\n",
       "</style>\n",
       "<table border=\"1\" class=\"dataframe\">\n",
       "  <thead>\n",
       "    <tr style=\"text-align: right;\">\n",
       "      <th></th>\n",
       "      <th>date</th>\n",
       "      <th>id_order</th>\n",
       "      <th>id_tov</th>\n",
       "      <th>id_kontr</th>\n",
       "      <th>quantity</th>\n",
       "      <th>sum</th>\n",
       "      <th>is_green</th>\n",
       "      <th>id_card_int</th>\n",
       "      <th>id_doc_int</th>\n",
       "    </tr>\n",
       "  </thead>\n",
       "  <tbody>\n",
       "    <tr>\n",
       "      <th>0</th>\n",
       "      <td>2020-09-01 17:01:25</td>\n",
       "      <td>0</td>\n",
       "      <td>52</td>\n",
       "      <td>271</td>\n",
       "      <td>1.0</td>\n",
       "      <td>108.00</td>\n",
       "      <td>False</td>\n",
       "      <td>1087018</td>\n",
       "      <td>386563</td>\n",
       "    </tr>\n",
       "    <tr>\n",
       "      <th>1</th>\n",
       "      <td>2020-09-01 17:35:36</td>\n",
       "      <td>0</td>\n",
       "      <td>52</td>\n",
       "      <td>271</td>\n",
       "      <td>1.0</td>\n",
       "      <td>108.00</td>\n",
       "      <td>False</td>\n",
       "      <td>199266</td>\n",
       "      <td>2676152</td>\n",
       "    </tr>\n",
       "    <tr>\n",
       "      <th>2</th>\n",
       "      <td>2020-09-01 19:19:21</td>\n",
       "      <td>0</td>\n",
       "      <td>52</td>\n",
       "      <td>271</td>\n",
       "      <td>1.0</td>\n",
       "      <td>107.95</td>\n",
       "      <td>False</td>\n",
       "      <td>444332</td>\n",
       "      <td>3832560</td>\n",
       "    </tr>\n",
       "    <tr>\n",
       "      <th>3</th>\n",
       "      <td>2020-09-01 21:53:34</td>\n",
       "      <td>0</td>\n",
       "      <td>52</td>\n",
       "      <td>271</td>\n",
       "      <td>1.0</td>\n",
       "      <td>108.00</td>\n",
       "      <td>False</td>\n",
       "      <td>325059</td>\n",
       "      <td>6489899</td>\n",
       "    </tr>\n",
       "    <tr>\n",
       "      <th>6</th>\n",
       "      <td>2020-09-01 19:50:31</td>\n",
       "      <td>0</td>\n",
       "      <td>61</td>\n",
       "      <td>97</td>\n",
       "      <td>1.0</td>\n",
       "      <td>56.00</td>\n",
       "      <td>False</td>\n",
       "      <td>533043</td>\n",
       "      <td>750155</td>\n",
       "    </tr>\n",
       "  </tbody>\n",
       "</table>\n",
       "</div>"
      ],
      "text/plain": [
       "                 date  id_order  id_tov  id_kontr  quantity     sum  is_green  \\\n",
       "0 2020-09-01 17:01:25         0      52       271       1.0  108.00     False   \n",
       "1 2020-09-01 17:35:36         0      52       271       1.0  108.00     False   \n",
       "2 2020-09-01 19:19:21         0      52       271       1.0  107.95     False   \n",
       "3 2020-09-01 21:53:34         0      52       271       1.0  108.00     False   \n",
       "6 2020-09-01 19:50:31         0      61        97       1.0   56.00     False   \n",
       "\n",
       "   id_card_int  id_doc_int  \n",
       "0      1087018      386563  \n",
       "1       199266     2676152  \n",
       "2       444332     3832560  \n",
       "3       325059     6489899  \n",
       "6       533043      750155  "
      ]
     },
     "execution_count": 6,
     "metadata": {},
     "output_type": "execute_result"
    }
   ],
   "source": [
    "df.drop(['id_card', 'id_doc'], axis=1, inplace=True)\n",
    "df.head()"
   ]
  },
  {
   "cell_type": "code",
   "execution_count": 7,
   "id": "complicated-server",
   "metadata": {},
   "outputs": [],
   "source": [
    "with bz2.open(data_path / '09_stats.pkl.bz2', 'wb') as f:\n",
    "    pickle.dump(df, f, protocol=4)"
   ]
  },
  {
   "cell_type": "markdown",
   "id": "searching-plasma",
   "metadata": {},
   "source": [
    "### Statistics"
   ]
  },
  {
   "cell_type": "code",
   "execution_count": 3,
   "id": "killing-start",
   "metadata": {},
   "outputs": [
    {
     "name": "stdout",
     "output_type": "stream",
     "text": [
      "09.csv\t\t     10.csv\t\t    products_20201001.txt\r\n",
      "09_prepared.pkl.bz2  11.csv\t\t    products_20201101.txt\r\n",
      "09_stats.pkl.bz2     products_20200901.txt\r\n"
     ]
    }
   ],
   "source": [
    "from pathlib import Path\n",
    "import pandas as pd\n",
    "import gc\n",
    "from sklearn.preprocessing import LabelEncoder\n",
    "import pickle\n",
    "import bz2\n",
    "\n",
    "data_path = Path('./data/').resolve()\n",
    "!ls {data_path}"
   ]
  },
  {
   "cell_type": "code",
   "execution_count": 4,
   "id": "broad-pitch",
   "metadata": {},
   "outputs": [
    {
     "data": {
      "text/html": [
       "<div>\n",
       "<style scoped>\n",
       "    .dataframe tbody tr th:only-of-type {\n",
       "        vertical-align: middle;\n",
       "    }\n",
       "\n",
       "    .dataframe tbody tr th {\n",
       "        vertical-align: top;\n",
       "    }\n",
       "\n",
       "    .dataframe thead th {\n",
       "        text-align: right;\n",
       "    }\n",
       "</style>\n",
       "<table border=\"1\" class=\"dataframe\">\n",
       "  <thead>\n",
       "    <tr style=\"text-align: right;\">\n",
       "      <th></th>\n",
       "      <th>date</th>\n",
       "      <th>id_order</th>\n",
       "      <th>id_tov</th>\n",
       "      <th>id_kontr</th>\n",
       "      <th>quantity</th>\n",
       "      <th>sum</th>\n",
       "      <th>is_green</th>\n",
       "      <th>id_card_int</th>\n",
       "      <th>id_doc_int</th>\n",
       "    </tr>\n",
       "  </thead>\n",
       "  <tbody>\n",
       "    <tr>\n",
       "      <th>0</th>\n",
       "      <td>2020-09-01 17:01:25</td>\n",
       "      <td>0</td>\n",
       "      <td>52</td>\n",
       "      <td>271</td>\n",
       "      <td>1.0</td>\n",
       "      <td>108.00</td>\n",
       "      <td>False</td>\n",
       "      <td>1087018</td>\n",
       "      <td>386563</td>\n",
       "    </tr>\n",
       "    <tr>\n",
       "      <th>1</th>\n",
       "      <td>2020-09-01 17:35:36</td>\n",
       "      <td>0</td>\n",
       "      <td>52</td>\n",
       "      <td>271</td>\n",
       "      <td>1.0</td>\n",
       "      <td>108.00</td>\n",
       "      <td>False</td>\n",
       "      <td>199266</td>\n",
       "      <td>2676152</td>\n",
       "    </tr>\n",
       "    <tr>\n",
       "      <th>2</th>\n",
       "      <td>2020-09-01 19:19:21</td>\n",
       "      <td>0</td>\n",
       "      <td>52</td>\n",
       "      <td>271</td>\n",
       "      <td>1.0</td>\n",
       "      <td>107.95</td>\n",
       "      <td>False</td>\n",
       "      <td>444332</td>\n",
       "      <td>3832560</td>\n",
       "    </tr>\n",
       "    <tr>\n",
       "      <th>3</th>\n",
       "      <td>2020-09-01 21:53:34</td>\n",
       "      <td>0</td>\n",
       "      <td>52</td>\n",
       "      <td>271</td>\n",
       "      <td>1.0</td>\n",
       "      <td>108.00</td>\n",
       "      <td>False</td>\n",
       "      <td>325059</td>\n",
       "      <td>6489899</td>\n",
       "    </tr>\n",
       "    <tr>\n",
       "      <th>6</th>\n",
       "      <td>2020-09-01 19:50:31</td>\n",
       "      <td>0</td>\n",
       "      <td>61</td>\n",
       "      <td>97</td>\n",
       "      <td>1.0</td>\n",
       "      <td>56.00</td>\n",
       "      <td>False</td>\n",
       "      <td>533043</td>\n",
       "      <td>750155</td>\n",
       "    </tr>\n",
       "  </tbody>\n",
       "</table>\n",
       "</div>"
      ],
      "text/plain": [
       "                 date  id_order  id_tov  id_kontr  quantity     sum  is_green  \\\n",
       "0 2020-09-01 17:01:25         0      52       271       1.0  108.00     False   \n",
       "1 2020-09-01 17:35:36         0      52       271       1.0  108.00     False   \n",
       "2 2020-09-01 19:19:21         0      52       271       1.0  107.95     False   \n",
       "3 2020-09-01 21:53:34         0      52       271       1.0  108.00     False   \n",
       "6 2020-09-01 19:50:31         0      61        97       1.0   56.00     False   \n",
       "\n",
       "   id_card_int  id_doc_int  \n",
       "0      1087018      386563  \n",
       "1       199266     2676152  \n",
       "2       444332     3832560  \n",
       "3       325059     6489899  \n",
       "6       533043      750155  "
      ]
     },
     "execution_count": 4,
     "metadata": {},
     "output_type": "execute_result"
    }
   ],
   "source": [
    "with bz2.open(data_path / '09_stats.pkl.bz2', 'rb') as f:\n",
    "    df = pickle.load(f)\n",
    "df.head()"
   ]
  },
  {
   "cell_type": "code",
   "execution_count": 6,
   "id": "automated-friend",
   "metadata": {},
   "outputs": [
    {
     "data": {
      "text/html": [
       "<div>\n",
       "<style scoped>\n",
       "    .dataframe tbody tr th:only-of-type {\n",
       "        vertical-align: middle;\n",
       "    }\n",
       "\n",
       "    .dataframe tbody tr th {\n",
       "        vertical-align: top;\n",
       "    }\n",
       "\n",
       "    .dataframe thead th {\n",
       "        text-align: right;\n",
       "    }\n",
       "</style>\n",
       "<table border=\"1\" class=\"dataframe\">\n",
       "  <thead>\n",
       "    <tr style=\"text-align: right;\">\n",
       "      <th></th>\n",
       "      <th>id_order</th>\n",
       "      <th>id_tov</th>\n",
       "      <th>id_kontr</th>\n",
       "      <th>quantity</th>\n",
       "      <th>sum</th>\n",
       "      <th>id_card_int</th>\n",
       "      <th>id_doc_int</th>\n",
       "    </tr>\n",
       "  </thead>\n",
       "  <tbody>\n",
       "    <tr>\n",
       "      <th>count</th>\n",
       "      <td>2.852438e+07</td>\n",
       "      <td>2.852438e+07</td>\n",
       "      <td>2.852438e+07</td>\n",
       "      <td>28524380.0</td>\n",
       "      <td>2.852438e+07</td>\n",
       "      <td>2.852438e+07</td>\n",
       "      <td>2.852438e+07</td>\n",
       "    </tr>\n",
       "    <tr>\n",
       "      <th>mean</th>\n",
       "      <td>7.020252e+05</td>\n",
       "      <td>1.895174e+04</td>\n",
       "      <td>9.700366e+03</td>\n",
       "      <td>1.0</td>\n",
       "      <td>9.766120e+01</td>\n",
       "      <td>6.081191e+05</td>\n",
       "      <td>3.527758e+06</td>\n",
       "    </tr>\n",
       "    <tr>\n",
       "      <th>std</th>\n",
       "      <td>1.946234e+06</td>\n",
       "      <td>1.062585e+04</td>\n",
       "      <td>8.968722e+03</td>\n",
       "      <td>0.0</td>\n",
       "      <td>8.340158e+01</td>\n",
       "      <td>3.752226e+05</td>\n",
       "      <td>2.037357e+06</td>\n",
       "    </tr>\n",
       "    <tr>\n",
       "      <th>min</th>\n",
       "      <td>0.000000e+00</td>\n",
       "      <td>5.200000e+01</td>\n",
       "      <td>-9.999000e+03</td>\n",
       "      <td>1.0</td>\n",
       "      <td>-1.000000e-02</td>\n",
       "      <td>0.000000e+00</td>\n",
       "      <td>0.000000e+00</td>\n",
       "    </tr>\n",
       "    <tr>\n",
       "      <th>25%</th>\n",
       "      <td>0.000000e+00</td>\n",
       "      <td>1.533900e+04</td>\n",
       "      <td>3.390000e+02</td>\n",
       "      <td>1.0</td>\n",
       "      <td>4.400000e+01</td>\n",
       "      <td>2.763528e+05</td>\n",
       "      <td>1.763322e+06</td>\n",
       "    </tr>\n",
       "    <tr>\n",
       "      <th>50%</th>\n",
       "      <td>0.000000e+00</td>\n",
       "      <td>2.049300e+04</td>\n",
       "      <td>1.335400e+04</td>\n",
       "      <td>1.0</td>\n",
       "      <td>7.600000e+01</td>\n",
       "      <td>5.963480e+05</td>\n",
       "      <td>3.527626e+06</td>\n",
       "    </tr>\n",
       "    <tr>\n",
       "      <th>75%</th>\n",
       "      <td>0.000000e+00</td>\n",
       "      <td>2.526200e+04</td>\n",
       "      <td>1.564500e+04</td>\n",
       "      <td>1.0</td>\n",
       "      <td>1.329200e+02</td>\n",
       "      <td>9.226680e+05</td>\n",
       "      <td>5.291896e+06</td>\n",
       "    </tr>\n",
       "    <tr>\n",
       "      <th>max</th>\n",
       "      <td>6.673056e+06</td>\n",
       "      <td>3.858700e+04</td>\n",
       "      <td>2.194300e+04</td>\n",
       "      <td>1.0</td>\n",
       "      <td>6.400000e+03</td>\n",
       "      <td>1.319455e+06</td>\n",
       "      <td>7.057696e+06</td>\n",
       "    </tr>\n",
       "  </tbody>\n",
       "</table>\n",
       "</div>"
      ],
      "text/plain": [
       "           id_order        id_tov      id_kontr    quantity           sum  \\\n",
       "count  2.852438e+07  2.852438e+07  2.852438e+07  28524380.0  2.852438e+07   \n",
       "mean   7.020252e+05  1.895174e+04  9.700366e+03         1.0  9.766120e+01   \n",
       "std    1.946234e+06  1.062585e+04  8.968722e+03         0.0  8.340158e+01   \n",
       "min    0.000000e+00  5.200000e+01 -9.999000e+03         1.0 -1.000000e-02   \n",
       "25%    0.000000e+00  1.533900e+04  3.390000e+02         1.0  4.400000e+01   \n",
       "50%    0.000000e+00  2.049300e+04  1.335400e+04         1.0  7.600000e+01   \n",
       "75%    0.000000e+00  2.526200e+04  1.564500e+04         1.0  1.329200e+02   \n",
       "max    6.673056e+06  3.858700e+04  2.194300e+04         1.0  6.400000e+03   \n",
       "\n",
       "        id_card_int    id_doc_int  \n",
       "count  2.852438e+07  2.852438e+07  \n",
       "mean   6.081191e+05  3.527758e+06  \n",
       "std    3.752226e+05  2.037357e+06  \n",
       "min    0.000000e+00  0.000000e+00  \n",
       "25%    2.763528e+05  1.763322e+06  \n",
       "50%    5.963480e+05  3.527626e+06  \n",
       "75%    9.226680e+05  5.291896e+06  \n",
       "max    1.319455e+06  7.057696e+06  "
      ]
     },
     "execution_count": 6,
     "metadata": {},
     "output_type": "execute_result"
    }
   ],
   "source": [
    "df.describe()"
   ]
  },
  {
   "cell_type": "code",
   "execution_count": 8,
   "id": "owned-credit",
   "metadata": {},
   "outputs": [
    {
     "data": {
      "text/html": [
       "<div>\n",
       "<style scoped>\n",
       "    .dataframe tbody tr th:only-of-type {\n",
       "        vertical-align: middle;\n",
       "    }\n",
       "\n",
       "    .dataframe tbody tr th {\n",
       "        vertical-align: top;\n",
       "    }\n",
       "\n",
       "    .dataframe thead th {\n",
       "        text-align: right;\n",
       "    }\n",
       "</style>\n",
       "<table border=\"1\" class=\"dataframe\">\n",
       "  <thead>\n",
       "    <tr style=\"text-align: right;\">\n",
       "      <th></th>\n",
       "      <th>date</th>\n",
       "      <th>id_order</th>\n",
       "      <th>id_tov</th>\n",
       "      <th>id_kontr</th>\n",
       "      <th>quantity</th>\n",
       "      <th>sum</th>\n",
       "      <th>is_green</th>\n",
       "      <th>id_card_int</th>\n",
       "      <th>id_doc_int</th>\n",
       "      <th>day</th>\n",
       "    </tr>\n",
       "  </thead>\n",
       "  <tbody>\n",
       "    <tr>\n",
       "      <th>0</th>\n",
       "      <td>2020-09-01 17:01:25</td>\n",
       "      <td>0</td>\n",
       "      <td>52</td>\n",
       "      <td>271</td>\n",
       "      <td>1.0</td>\n",
       "      <td>108.00</td>\n",
       "      <td>False</td>\n",
       "      <td>1087018</td>\n",
       "      <td>386563</td>\n",
       "      <td>2020-09-01</td>\n",
       "    </tr>\n",
       "    <tr>\n",
       "      <th>1</th>\n",
       "      <td>2020-09-01 17:35:36</td>\n",
       "      <td>0</td>\n",
       "      <td>52</td>\n",
       "      <td>271</td>\n",
       "      <td>1.0</td>\n",
       "      <td>108.00</td>\n",
       "      <td>False</td>\n",
       "      <td>199266</td>\n",
       "      <td>2676152</td>\n",
       "      <td>2020-09-01</td>\n",
       "    </tr>\n",
       "    <tr>\n",
       "      <th>2</th>\n",
       "      <td>2020-09-01 19:19:21</td>\n",
       "      <td>0</td>\n",
       "      <td>52</td>\n",
       "      <td>271</td>\n",
       "      <td>1.0</td>\n",
       "      <td>107.95</td>\n",
       "      <td>False</td>\n",
       "      <td>444332</td>\n",
       "      <td>3832560</td>\n",
       "      <td>2020-09-01</td>\n",
       "    </tr>\n",
       "    <tr>\n",
       "      <th>3</th>\n",
       "      <td>2020-09-01 21:53:34</td>\n",
       "      <td>0</td>\n",
       "      <td>52</td>\n",
       "      <td>271</td>\n",
       "      <td>1.0</td>\n",
       "      <td>108.00</td>\n",
       "      <td>False</td>\n",
       "      <td>325059</td>\n",
       "      <td>6489899</td>\n",
       "      <td>2020-09-01</td>\n",
       "    </tr>\n",
       "    <tr>\n",
       "      <th>6</th>\n",
       "      <td>2020-09-01 19:50:31</td>\n",
       "      <td>0</td>\n",
       "      <td>61</td>\n",
       "      <td>97</td>\n",
       "      <td>1.0</td>\n",
       "      <td>56.00</td>\n",
       "      <td>False</td>\n",
       "      <td>533043</td>\n",
       "      <td>750155</td>\n",
       "      <td>2020-09-01</td>\n",
       "    </tr>\n",
       "  </tbody>\n",
       "</table>\n",
       "</div>"
      ],
      "text/plain": [
       "                 date  id_order  id_tov  id_kontr  quantity     sum  is_green  \\\n",
       "0 2020-09-01 17:01:25         0      52       271       1.0  108.00     False   \n",
       "1 2020-09-01 17:35:36         0      52       271       1.0  108.00     False   \n",
       "2 2020-09-01 19:19:21         0      52       271       1.0  107.95     False   \n",
       "3 2020-09-01 21:53:34         0      52       271       1.0  108.00     False   \n",
       "6 2020-09-01 19:50:31         0      61        97       1.0   56.00     False   \n",
       "\n",
       "   id_card_int  id_doc_int         day  \n",
       "0      1087018      386563  2020-09-01  \n",
       "1       199266     2676152  2020-09-01  \n",
       "2       444332     3832560  2020-09-01  \n",
       "3       325059     6489899  2020-09-01  \n",
       "6       533043      750155  2020-09-01  "
      ]
     },
     "execution_count": 8,
     "metadata": {},
     "output_type": "execute_result"
    }
   ],
   "source": [
    "df['day'] = df['date'].dt.date\n",
    "df.head()"
   ]
  },
  {
   "cell_type": "code",
   "execution_count": 17,
   "id": "statistical-violin",
   "metadata": {},
   "outputs": [
    {
     "data": {
      "image/png": "[encoded data removed]",
      "text/plain": [
       "<Figure size 432x288 with 1 Axes>"
      ]
     },
     "metadata": {
      "needs_background": "light"
     },
     "output_type": "display_data"
    }
   ],
   "source": [
    "card_unique_days = df.groupby(['id_card_int'])['day'].nunique()\n",
    "card_unique_days = card_unique_days.sort_values(ascending=False)\n",
    "fig = plt.figure()\n",
    "ax = fig.add_subplot(111)\n",
    "n, bins, rectangles = ax.hist(card_unique_days, 50)\n",
    "fig.canvas.draw()\n",
    "plt.show()"
   ]
  },
  {
   "cell_type": "code",
   "execution_count": 18,
   "id": "artificial-wallpaper",
   "metadata": {},
   "outputs": [
    {
     "data": {
      "text/plain": [
       "<AxesSubplot:>"
      ]
     },
     "execution_count": 18,
     "metadata": {},
     "output_type": "execute_result"
    },
    {
     "data": {
      "image/png": "[encoded data removed]",
      "text/plain": [
       "<Figure size 432x288 with 1 Axes>"
      ]
     },
     "metadata": {
      "needs_background": "light"
     },
     "output_type": "display_data"
    }
   ],
   "source": [
    "pd.DataFrame(card_unique_days).boxplot()"
   ]
  },
  {
   "cell_type": "code",
   "execution_count": 39,
   "id": "verbal-mustang",
   "metadata": {},
   "outputs": [],
   "source": [
    "card_unique_days = pd.DataFrame(card_unique_days)\n",
    "good_cards = card_unique_days[card_unique_days['day'] <= 15]\n",
    "good_cards = good_cards.reset_index()"
   ]
  },
  {
   "cell_type": "code",
   "execution_count": 40,
   "id": "lyric-preserve",
   "metadata": {},
   "outputs": [
    {
     "data": {
      "text/plain": [
       "66744"
      ]
     },
     "execution_count": 40,
     "metadata": {},
     "output_type": "execute_result"
    }
   ],
   "source": [
    "df['id_card_int'].nunique() - len(good_cards)"
   ]
  },
  {
   "cell_type": "code",
   "execution_count": 43,
   "id": "controlling-transaction",
   "metadata": {},
   "outputs": [
    {
     "data": {
      "text/plain": [
       "0.2339893101971016"
      ]
     },
     "execution_count": 43,
     "metadata": {},
     "output_type": "execute_result"
    }
   ],
   "source": [
    "bad_cards = card_unique_days[card_unique_days['day'] > 15]\n",
    "bad_cards = bad_cards.reset_index()\n",
    "100*(len(bad_cards) / len(df))"
   ]
  },
  {
   "cell_type": "code",
   "execution_count": 44,
   "id": "inside-state",
   "metadata": {},
   "outputs": [
    {
     "data": {
      "text/plain": [
       "21846117"
      ]
     },
     "execution_count": 44,
     "metadata": {},
     "output_type": "execute_result"
    }
   ],
   "source": [
    "list_good_cards = set(good_cards['id_card_int'])\n",
    "doc_card_day_sum_clean = df[df.id_card_int.isin(list_good_cards)]\n",
    "len(doc_card_day_sum_clean)"
   ]
  },
  {
   "cell_type": "code",
   "execution_count": 45,
   "id": "detailed-white",
   "metadata": {},
   "outputs": [
    {
     "data": {
      "text/plain": [
       "1252712"
      ]
     },
     "execution_count": 45,
     "metadata": {},
     "output_type": "execute_result"
    }
   ],
   "source": [
    "len(doc_card_day_sum_clean['id_card_int'].unique())"
   ]
  },
  {
   "cell_type": "code",
   "execution_count": 46,
   "id": "occupied-purse",
   "metadata": {},
   "outputs": [
    {
     "data": {
      "text/plain": [
       "id_card_int       1319455\n",
       "day            2020-09-30\n",
       "id_order        853318158\n",
       "id_tov            2945003\n",
       "id_kontr          1898896\n",
       "quantity            133.0\n",
       "sum               18768.0\n",
       "is_green              106\n",
       "id_doc_int      585135684\n",
       "dtype: object"
      ]
     },
     "execution_count": 46,
     "metadata": {},
     "output_type": "execute_result"
    }
   ],
   "source": [
    "doc_card_day_sum_clean_grouped = doc_card_day_sum_clean.groupby(['id_card_int','day'])\n",
    "doc_card_day_sum_clean_grouped_sum = doc_card_day_sum_clean_grouped.sum()\n",
    "doc_card_day_sum_clean_grouped_sum_index = doc_card_day_sum_clean_grouped_sum.reset_index()\n",
    "doc_card_day_sum_clean_grouped_sum_index.max()"
   ]
  },
  {
   "cell_type": "code",
   "execution_count": 47,
   "id": "dirty-delicious",
   "metadata": {},
   "outputs": [
    {
     "data": {
      "text/plain": [
       "id_card_int    6.331002e+05\n",
       "id_order       3.283660e+06\n",
       "id_tov         8.322610e+04\n",
       "id_kontr       4.245488e+04\n",
       "quantity       4.427081e+00\n",
       "sum            4.415630e+02\n",
       "is_green       3.049344e-01\n",
       "id_doc_int     1.561812e+07\n",
       "dtype: float64"
      ]
     },
     "execution_count": 47,
     "metadata": {},
     "output_type": "execute_result"
    }
   ],
   "source": [
    "doc_card_day_sum_clean_grouped_sum_index.mean()"
   ]
  },
  {
   "cell_type": "code",
   "execution_count": 48,
   "id": "complete-merchandise",
   "metadata": {},
   "outputs": [
    {
     "data": {
      "text/plain": [
       "id_card_int      625573.00\n",
       "id_order              0.00\n",
       "id_tov            61232.00\n",
       "id_kontr          31686.00\n",
       "quantity              3.00\n",
       "sum                 308.69\n",
       "is_green              0.00\n",
       "id_doc_int     10201500.00\n",
       "dtype: float64"
      ]
     },
     "execution_count": 48,
     "metadata": {},
     "output_type": "execute_result"
    }
   ],
   "source": [
    "doc_card_day_sum_clean_grouped_sum_index.median()"
   ]
  },
  {
   "cell_type": "code",
   "execution_count": 31,
   "id": "uniform-press",
   "metadata": {},
   "outputs": [
    {
     "name": "stdout",
     "output_type": "stream",
     "text": [
      "576.0 1278.0 2099.0\n"
     ]
    }
   ],
   "source": [
    "print(\n",
    "    np.percentile(doc_card_day_sum_clean_grouped_sum_index['sum'], q=75),\n",
    "    np.percentile(doc_card_day_sum_clean_grouped_sum_index['sum'], q=95),\n",
    "    np.percentile(doc_card_day_sum_clean_grouped_sum_index['sum'], q=99)\n",
    ")"
   ]
  },
  {
   "cell_type": "code",
   "execution_count": 32,
   "id": "champion-madness",
   "metadata": {},
   "outputs": [
    {
     "data": {
      "text/plain": [
       "<AxesSubplot:>"
      ]
     },
     "execution_count": 32,
     "metadata": {},
     "output_type": "execute_result"
    },
    {
     "data": {
      "image/png": "[encoded data removed]",
      "text/plain": [
       "<Figure size 432x288 with 1 Axes>"
      ]
     },
     "metadata": {
      "needs_background": "light"
     },
     "output_type": "display_data"
    }
   ],
   "source": [
    "pd.DataFrame(doc_card_day_sum_clean_grouped_sum_index['sum']).boxplot()"
   ]
  },
  {
   "cell_type": "code",
   "execution_count": 34,
   "id": "pressed-greeting",
   "metadata": {},
   "outputs": [
    {
     "data": {
      "text/html": [
       "<div>\n",
       "<style scoped>\n",
       "    .dataframe tbody tr th:only-of-type {\n",
       "        vertical-align: middle;\n",
       "    }\n",
       "\n",
       "    .dataframe tbody tr th {\n",
       "        vertical-align: top;\n",
       "    }\n",
       "\n",
       "    .dataframe thead th {\n",
       "        text-align: right;\n",
       "    }\n",
       "</style>\n",
       "<table border=\"1\" class=\"dataframe\">\n",
       "  <thead>\n",
       "    <tr style=\"text-align: right;\">\n",
       "      <th></th>\n",
       "      <th>id_card_int</th>\n",
       "      <th>day</th>\n",
       "      <th>id_order</th>\n",
       "      <th>id_tov</th>\n",
       "      <th>id_kontr</th>\n",
       "      <th>quantity</th>\n",
       "      <th>sum</th>\n",
       "      <th>is_green</th>\n",
       "      <th>id_doc_int</th>\n",
       "    </tr>\n",
       "  </thead>\n",
       "  <tbody>\n",
       "    <tr>\n",
       "      <th>246</th>\n",
       "      <td>39</td>\n",
       "      <td>2020-09-10</td>\n",
       "      <td>0</td>\n",
       "      <td>681176</td>\n",
       "      <td>393313</td>\n",
       "      <td>20.0</td>\n",
       "      <td>16990.00</td>\n",
       "      <td>0</td>\n",
       "      <td>42916292</td>\n",
       "    </tr>\n",
       "    <tr>\n",
       "      <th>97667</th>\n",
       "      <td>17117</td>\n",
       "      <td>2020-09-05</td>\n",
       "      <td>0</td>\n",
       "      <td>420439</td>\n",
       "      <td>184797</td>\n",
       "      <td>12.0</td>\n",
       "      <td>10584.00</td>\n",
       "      <td>0</td>\n",
       "      <td>63080890</td>\n",
       "    </tr>\n",
       "    <tr>\n",
       "      <th>491155</th>\n",
       "      <td>91978</td>\n",
       "      <td>2020-09-15</td>\n",
       "      <td>0</td>\n",
       "      <td>2290280</td>\n",
       "      <td>1271101</td>\n",
       "      <td>107.0</td>\n",
       "      <td>16152.00</td>\n",
       "      <td>0</td>\n",
       "      <td>331928280</td>\n",
       "    </tr>\n",
       "    <tr>\n",
       "      <th>641299</th>\n",
       "      <td>120675</td>\n",
       "      <td>2020-09-07</td>\n",
       "      <td>0</td>\n",
       "      <td>549973</td>\n",
       "      <td>305672</td>\n",
       "      <td>16.0</td>\n",
       "      <td>18356.00</td>\n",
       "      <td>0</td>\n",
       "      <td>76843192</td>\n",
       "    </tr>\n",
       "    <tr>\n",
       "      <th>965023</th>\n",
       "      <td>183408</td>\n",
       "      <td>2020-09-07</td>\n",
       "      <td>0</td>\n",
       "      <td>1339119</td>\n",
       "      <td>817155</td>\n",
       "      <td>54.0</td>\n",
       "      <td>10715.34</td>\n",
       "      <td>0</td>\n",
       "      <td>139838814</td>\n",
       "    </tr>\n",
       "    <tr>\n",
       "      <th>2092580</th>\n",
       "      <td>415738</td>\n",
       "      <td>2020-09-03</td>\n",
       "      <td>73383401</td>\n",
       "      <td>1795425</td>\n",
       "      <td>979572</td>\n",
       "      <td>74.0</td>\n",
       "      <td>13012.00</td>\n",
       "      <td>0</td>\n",
       "      <td>228473364</td>\n",
       "    </tr>\n",
       "    <tr>\n",
       "      <th>2092585</th>\n",
       "      <td>415738</td>\n",
       "      <td>2020-09-09</td>\n",
       "      <td>158207958</td>\n",
       "      <td>2180032</td>\n",
       "      <td>623283</td>\n",
       "      <td>84.0</td>\n",
       "      <td>25938.00</td>\n",
       "      <td>0</td>\n",
       "      <td>133191482</td>\n",
       "    </tr>\n",
       "    <tr>\n",
       "      <th>2217060</th>\n",
       "      <td>442953</td>\n",
       "      <td>2020-09-14</td>\n",
       "      <td>60267810</td>\n",
       "      <td>2790692</td>\n",
       "      <td>1469047</td>\n",
       "      <td>122.0</td>\n",
       "      <td>12422.60</td>\n",
       "      <td>41</td>\n",
       "      <td>417082139</td>\n",
       "    </tr>\n",
       "    <tr>\n",
       "      <th>2590671</th>\n",
       "      <td>523690</td>\n",
       "      <td>2020-09-21</td>\n",
       "      <td>0</td>\n",
       "      <td>653116</td>\n",
       "      <td>398318</td>\n",
       "      <td>21.0</td>\n",
       "      <td>10152.40</td>\n",
       "      <td>1</td>\n",
       "      <td>46743360</td>\n",
       "    </tr>\n",
       "    <tr>\n",
       "      <th>3633714</th>\n",
       "      <td>752214</td>\n",
       "      <td>2020-09-10</td>\n",
       "      <td>0</td>\n",
       "      <td>541768</td>\n",
       "      <td>318051</td>\n",
       "      <td>15.0</td>\n",
       "      <td>15430.00</td>\n",
       "      <td>0</td>\n",
       "      <td>40703985</td>\n",
       "    </tr>\n",
       "    <tr>\n",
       "      <th>3720765</th>\n",
       "      <td>771280</td>\n",
       "      <td>2020-09-25</td>\n",
       "      <td>0</td>\n",
       "      <td>113418</td>\n",
       "      <td>57564</td>\n",
       "      <td>3.0</td>\n",
       "      <td>15600.00</td>\n",
       "      <td>0</td>\n",
       "      <td>12950567</td>\n",
       "    </tr>\n",
       "    <tr>\n",
       "      <th>3855721</th>\n",
       "      <td>800471</td>\n",
       "      <td>2020-09-26</td>\n",
       "      <td>480549044</td>\n",
       "      <td>1885147</td>\n",
       "      <td>1061450</td>\n",
       "      <td>74.0</td>\n",
       "      <td>14897.00</td>\n",
       "      <td>0</td>\n",
       "      <td>187580010</td>\n",
       "    </tr>\n",
       "    <tr>\n",
       "      <th>6013783</th>\n",
       "      <td>1306156</td>\n",
       "      <td>2020-09-25</td>\n",
       "      <td>250759171</td>\n",
       "      <td>1293871</td>\n",
       "      <td>742806</td>\n",
       "      <td>56.0</td>\n",
       "      <td>10685.00</td>\n",
       "      <td>0</td>\n",
       "      <td>127298131</td>\n",
       "    </tr>\n",
       "    <tr>\n",
       "      <th>6040175</th>\n",
       "      <td>1316808</td>\n",
       "      <td>2020-09-25</td>\n",
       "      <td>853318158</td>\n",
       "      <td>2945003</td>\n",
       "      <td>1898896</td>\n",
       "      <td>133.0</td>\n",
       "      <td>18768.00</td>\n",
       "      <td>0</td>\n",
       "      <td>117759264</td>\n",
       "    </tr>\n",
       "  </tbody>\n",
       "</table>\n",
       "</div>"
      ],
      "text/plain": [
       "         id_card_int         day   id_order   id_tov  id_kontr  quantity  \\\n",
       "246               39  2020-09-10          0   681176    393313      20.0   \n",
       "97667          17117  2020-09-05          0   420439    184797      12.0   \n",
       "491155         91978  2020-09-15          0  2290280   1271101     107.0   \n",
       "641299        120675  2020-09-07          0   549973    305672      16.0   \n",
       "965023        183408  2020-09-07          0  1339119    817155      54.0   \n",
       "2092580       415738  2020-09-03   73383401  1795425    979572      74.0   \n",
       "2092585       415738  2020-09-09  158207958  2180032    623283      84.0   \n",
       "2217060       442953  2020-09-14   60267810  2790692   1469047     122.0   \n",
       "2590671       523690  2020-09-21          0   653116    398318      21.0   \n",
       "3633714       752214  2020-09-10          0   541768    318051      15.0   \n",
       "3720765       771280  2020-09-25          0   113418     57564       3.0   \n",
       "3855721       800471  2020-09-26  480549044  1885147   1061450      74.0   \n",
       "6013783      1306156  2020-09-25  250759171  1293871    742806      56.0   \n",
       "6040175      1316808  2020-09-25  853318158  2945003   1898896     133.0   \n",
       "\n",
       "              sum  is_green  id_doc_int  \n",
       "246      16990.00         0    42916292  \n",
       "97667    10584.00         0    63080890  \n",
       "491155   16152.00         0   331928280  \n",
       "641299   18356.00         0    76843192  \n",
       "965023   10715.34         0   139838814  \n",
       "2092580  13012.00         0   228473364  \n",
       "2092585  25938.00         0   133191482  \n",
       "2217060  12422.60        41   417082139  \n",
       "2590671  10152.40         1    46743360  \n",
       "3633714  15430.00         0    40703985  \n",
       "3720765  15600.00         0    12950567  \n",
       "3855721  14897.00         0   187580010  \n",
       "6013783  10685.00         0   127298131  \n",
       "6040175  18768.00         0   117759264  "
      ]
     },
     "execution_count": 34,
     "metadata": {},
     "output_type": "execute_result"
    }
   ],
   "source": [
    "doc_card_day_sum_clean_grouped_sum_index[doc_card_day_sum_clean_grouped_sum_index['sum'] > 10000]"
   ]
  },
  {
   "cell_type": "code",
   "execution_count": 37,
   "id": "commercial-singapore",
   "metadata": {},
   "outputs": [
    {
     "data": {
      "image/png": "[encoded data removed]",
      "text/plain": [
       "<Figure size 432x288 with 1 Axes>"
      ]
     },
     "metadata": {
      "needs_background": "light"
     },
     "output_type": "display_data"
    }
   ],
   "source": [
    "bad_cards = doc_card_day_sum_clean_grouped_sum_index[doc_card_day_sum_clean_grouped_sum_index['sum'] > 10000]\n",
    "bad_cards = list(bad_cards['id_card_int'].unique())\n",
    "final_clean = doc_card_day_sum_clean_grouped_sum_index[~doc_card_day_sum_clean_grouped_sum_index.id_card_int.isin(bad_cards)]\n",
    "fig = plt.figure()\n",
    "ax = fig.add_subplot(111)\n",
    "n, bins, rectangles = ax.hist(final_clean['sum'], 50)\n",
    "fig.canvas.draw()\n",
    "plt.show()"
   ]
  },
  {
   "cell_type": "code",
   "execution_count": 38,
   "id": "enclosed-mistress",
   "metadata": {},
   "outputs": [
    {
     "data": {
      "text/plain": [
       "<AxesSubplot:>"
      ]
     },
     "execution_count": 38,
     "metadata": {},
     "output_type": "execute_result"
    },
    {
     "data": {
      "image/png": "[encoded data removed]",
      "text/plain": [
       "<Figure size 432x288 with 1 Axes>"
      ]
     },
     "metadata": {
      "needs_background": "light"
     },
     "output_type": "display_data"
    }
   ],
   "source": [
    "pd.DataFrame(final_clean['sum']).boxplot()"
   ]
  }
 ],
 "metadata": {
  "kernelspec": {
   "display_name": "Python 3",
   "language": "python",
   "name": "python3"
  },
  "language_info": {
   "codemirror_mode": {
    "name": "ipython",
    "version": 3
   },
   "file_extension": ".py",
   "mimetype": "text/x-python",
   "name": "python",
   "nbconvert_exporter": "python",
   "pygments_lexer": "ipython3",
   "version": "3.8.5"
  }
 },
 "nbformat": 4,
 "nbformat_minor": 5
}
