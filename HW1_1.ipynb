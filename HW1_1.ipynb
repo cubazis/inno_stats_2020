{
 "cells": [
  {
   "cell_type": "code",
   "execution_count": 1,
   "metadata": {
    "id": "oHguuHN_Hve8"
   },
   "outputs": [],
   "source": [
    "import bz2\n",
    "import gc\n",
    "import pickle\n",
    "from pathlib import Path\n",
    "import matplotlib.pyplot as plt\n",
    "import numpy as np\n",
    "import pandas as pd\n",
    "from sklearn.preprocessing import LabelEncoder"
   ]
  },
  {
   "cell_type": "code",
   "execution_count": 2,
   "metadata": {
    "id": "i-54WegZHvfK"
   },
   "outputs": [],
   "source": [
    "with bz2.open('09_prepared.pkl.bz2', 'rb') as sep:\n",
    "    d_sep = pickle.load(sep)"
   ]
  },
  {
   "cell_type": "code",
   "execution_count": 3,
   "metadata": {
    "id": "nXCzdeszJm4Z"
   },
   "outputs": [],
   "source": [
    "with bz2.open('10_prepared.pkl.bz2', 'rb') as octo:\n",
    "    d_octo = pickle.load(octo)"
   ]
  },
  {
   "cell_type": "code",
   "execution_count": 4,
   "metadata": {
    "id": "YYHqVQY7Jm-w"
   },
   "outputs": [],
   "source": [
    "with bz2.open('11_prepared.pkl.bz2', 'rb') as nov:\n",
    "    d_nov = pickle.load(nov)"
   ]
  },
  {
   "cell_type": "code",
   "execution_count": 5,
   "metadata": {
    "id": "_IZ60jUgHvfL",
    "outputId": "45524121-d4bb-4077-9ce8-4cb42d9727d2"
   },
   "outputs": [
    {
     "data": {
      "text/html": [
       "<div>\n",
       "<style scoped>\n",
       "    .dataframe tbody tr th:only-of-type {\n",
       "        vertical-align: middle;\n",
       "    }\n",
       "\n",
       "    .dataframe tbody tr th {\n",
       "        vertical-align: top;\n",
       "    }\n",
       "\n",
       "    .dataframe thead th {\n",
       "        text-align: right;\n",
       "    }\n",
       "</style>\n",
       "<table border=\"1\" class=\"dataframe\">\n",
       "  <thead>\n",
       "    <tr style=\"text-align: right;\">\n",
       "      <th></th>\n",
       "      <th>date</th>\n",
       "      <th>id_doc</th>\n",
       "      <th>id_order</th>\n",
       "      <th>id_card</th>\n",
       "      <th>id_tov</th>\n",
       "      <th>id_kontr</th>\n",
       "      <th>quantity</th>\n",
       "      <th>sum</th>\n",
       "      <th>is_green</th>\n",
       "      <th>id_card_int</th>\n",
       "      <th>id_doc_int</th>\n",
       "    </tr>\n",
       "  </thead>\n",
       "  <tbody>\n",
       "    <tr>\n",
       "      <th>0</th>\n",
       "      <td>2020-09-01 17:01:25</td>\n",
       "      <td>0E05D308-5CEC-EA11-B444-005056A7539A</td>\n",
       "      <td>0</td>\n",
       "      <td>8594499</td>\n",
       "      <td>52</td>\n",
       "      <td>271</td>\n",
       "      <td>1.0</td>\n",
       "      <td>108.00</td>\n",
       "      <td>False</td>\n",
       "      <td>1538855</td>\n",
       "      <td>1283228</td>\n",
       "    </tr>\n",
       "    <tr>\n",
       "      <th>1</th>\n",
       "      <td>2020-09-01 17:35:36</td>\n",
       "      <td>610205A1-61EC-EA11-B444-005056A7539A</td>\n",
       "      <td>0</td>\n",
       "      <td>1452388</td>\n",
       "      <td>52</td>\n",
       "      <td>271</td>\n",
       "      <td>1.0</td>\n",
       "      <td>108.00</td>\n",
       "      <td>False</td>\n",
       "      <td>267307</td>\n",
       "      <td>8873113</td>\n",
       "    </tr>\n",
       "    <tr>\n",
       "      <th>2</th>\n",
       "      <td>2020-09-01 19:19:21</td>\n",
       "      <td>8AF19602-70EC-EA11-B444-005056A7539A</td>\n",
       "      <td>0</td>\n",
       "      <td>3493538</td>\n",
       "      <td>52</td>\n",
       "      <td>271</td>\n",
       "      <td>1.0</td>\n",
       "      <td>107.95</td>\n",
       "      <td>False</td>\n",
       "      <td>610220</td>\n",
       "      <td>12712899</td>\n",
       "    </tr>\n",
       "    <tr>\n",
       "      <th>3</th>\n",
       "      <td>2020-09-01 21:53:34</td>\n",
       "      <td>EB6C71A3-84EC-EA11-B444-005056A7539A</td>\n",
       "      <td>0</td>\n",
       "      <td>2491281</td>\n",
       "      <td>52</td>\n",
       "      <td>271</td>\n",
       "      <td>1.0</td>\n",
       "      <td>108.00</td>\n",
       "      <td>False</td>\n",
       "      <td>441497</td>\n",
       "      <td>21535283</td>\n",
       "    </tr>\n",
       "    <tr>\n",
       "      <th>4</th>\n",
       "      <td>2020-09-01 18:42:31</td>\n",
       "      <td>0706023F-6BEC-EA11-B444-005056A7539A</td>\n",
       "      <td>0</td>\n",
       "      <td>5732396</td>\n",
       "      <td>61</td>\n",
       "      <td>97</td>\n",
       "      <td>2.0</td>\n",
       "      <td>88.00</td>\n",
       "      <td>False</td>\n",
       "      <td>1065358</td>\n",
       "      <td>642341</td>\n",
       "    </tr>\n",
       "  </tbody>\n",
       "</table>\n",
       "</div>"
      ],
      "text/plain": [
       "                 date                                id_doc  id_order  \\\n",
       "0 2020-09-01 17:01:25  0E05D308-5CEC-EA11-B444-005056A7539A         0   \n",
       "1 2020-09-01 17:35:36  610205A1-61EC-EA11-B444-005056A7539A         0   \n",
       "2 2020-09-01 19:19:21  8AF19602-70EC-EA11-B444-005056A7539A         0   \n",
       "3 2020-09-01 21:53:34  EB6C71A3-84EC-EA11-B444-005056A7539A         0   \n",
       "4 2020-09-01 18:42:31  0706023F-6BEC-EA11-B444-005056A7539A         0   \n",
       "\n",
       "   id_card  id_tov  id_kontr  quantity     sum  is_green  id_card_int  \\\n",
       "0  8594499      52       271       1.0  108.00     False      1538855   \n",
       "1  1452388      52       271       1.0  108.00     False       267307   \n",
       "2  3493538      52       271       1.0  107.95     False       610220   \n",
       "3  2491281      52       271       1.0  108.00     False       441497   \n",
       "4  5732396      61        97       2.0   88.00     False      1065358   \n",
       "\n",
       "   id_doc_int  \n",
       "0     1283228  \n",
       "1     8873113  \n",
       "2    12712899  \n",
       "3    21535283  \n",
       "4      642341  "
      ]
     },
     "execution_count": 5,
     "metadata": {},
     "output_type": "execute_result"
    }
   ],
   "source": [
    "df = pd.concat([d_sep, d_octo, d_nov])\n",
    "d_sep.head()"
   ]
  },
  {
   "cell_type": "code",
   "execution_count": 6,
   "metadata": {
    "id": "YGWsvWRhHvfN",
    "outputId": "f4ca8eb5-733e-462c-b346-6c81aa8a4aa0"
   },
   "outputs": [
    {
     "data": {
      "text/html": [
       "<div>\n",
       "<style scoped>\n",
       "    .dataframe tbody tr th:only-of-type {\n",
       "        vertical-align: middle;\n",
       "    }\n",
       "\n",
       "    .dataframe tbody tr th {\n",
       "        vertical-align: top;\n",
       "    }\n",
       "\n",
       "    .dataframe thead th {\n",
       "        text-align: right;\n",
       "    }\n",
       "</style>\n",
       "<table border=\"1\" class=\"dataframe\">\n",
       "  <thead>\n",
       "    <tr style=\"text-align: right;\">\n",
       "      <th></th>\n",
       "      <th>id_order</th>\n",
       "      <th>id_tov</th>\n",
       "      <th>id_kontr</th>\n",
       "      <th>quantity</th>\n",
       "      <th>sum</th>\n",
       "      <th>id_card_int</th>\n",
       "      <th>id_doc_int</th>\n",
       "    </tr>\n",
       "  </thead>\n",
       "  <tbody>\n",
       "    <tr>\n",
       "      <th>count</th>\n",
       "      <td>4.210086e+07</td>\n",
       "      <td>4.210086e+07</td>\n",
       "      <td>4.210086e+07</td>\n",
       "      <td>4.210086e+07</td>\n",
       "      <td>4.210086e+07</td>\n",
       "      <td>4.210086e+07</td>\n",
       "      <td>4.210086e+07</td>\n",
       "    </tr>\n",
       "    <tr>\n",
       "      <th>mean</th>\n",
       "      <td>7.765869e+05</td>\n",
       "      <td>1.763064e+04</td>\n",
       "      <td>1.045977e+04</td>\n",
       "      <td>1.427065e+00</td>\n",
       "      <td>1.149112e+02</td>\n",
       "      <td>8.446032e+05</td>\n",
       "      <td>1.170384e+07</td>\n",
       "    </tr>\n",
       "    <tr>\n",
       "      <th>std</th>\n",
       "      <td>2.032896e+06</td>\n",
       "      <td>1.103226e+04</td>\n",
       "      <td>8.794764e+03</td>\n",
       "      <td>3.101411e+01</td>\n",
       "      <td>1.072201e+02</td>\n",
       "      <td>5.388947e+05</td>\n",
       "      <td>6.760102e+06</td>\n",
       "    </tr>\n",
       "    <tr>\n",
       "      <th>min</th>\n",
       "      <td>0.000000e+00</td>\n",
       "      <td>4.600000e+01</td>\n",
       "      <td>-9.999000e+03</td>\n",
       "      <td>-2.755000e+00</td>\n",
       "      <td>-1.022110e+03</td>\n",
       "      <td>0.000000e+00</td>\n",
       "      <td>2.000000e+00</td>\n",
       "    </tr>\n",
       "    <tr>\n",
       "      <th>25%</th>\n",
       "      <td>0.000000e+00</td>\n",
       "      <td>1.452600e+04</td>\n",
       "      <td>3.850000e+02</td>\n",
       "      <td>1.000000e+00</td>\n",
       "      <td>4.800000e+01</td>\n",
       "      <td>3.650470e+05</td>\n",
       "      <td>5.848724e+06</td>\n",
       "    </tr>\n",
       "    <tr>\n",
       "      <th>50%</th>\n",
       "      <td>0.000000e+00</td>\n",
       "      <td>1.943500e+04</td>\n",
       "      <td>1.358100e+04</td>\n",
       "      <td>1.000000e+00</td>\n",
       "      <td>8.900000e+01</td>\n",
       "      <td>8.150010e+05</td>\n",
       "      <td>1.170182e+07</td>\n",
       "    </tr>\n",
       "    <tr>\n",
       "      <th>75%</th>\n",
       "      <td>0.000000e+00</td>\n",
       "      <td>2.455800e+04</td>\n",
       "      <td>1.630400e+04</td>\n",
       "      <td>1.000000e+00</td>\n",
       "      <td>1.501100e+02</td>\n",
       "      <td>1.288708e+06</td>\n",
       "      <td>1.755596e+07</td>\n",
       "    </tr>\n",
       "    <tr>\n",
       "      <th>max</th>\n",
       "      <td>6.673056e+06</td>\n",
       "      <td>3.866000e+04</td>\n",
       "      <td>2.194300e+04</td>\n",
       "      <td>5.000000e+03</td>\n",
       "      <td>3.840000e+04</td>\n",
       "      <td>1.944074e+06</td>\n",
       "      <td>2.341787e+07</td>\n",
       "    </tr>\n",
       "  </tbody>\n",
       "</table>\n",
       "</div>"
      ],
      "text/plain": [
       "           id_order        id_tov      id_kontr      quantity           sum  \\\n",
       "count  4.210086e+07  4.210086e+07  4.210086e+07  4.210086e+07  4.210086e+07   \n",
       "mean   7.765869e+05  1.763064e+04  1.045977e+04  1.427065e+00  1.149112e+02   \n",
       "std    2.032896e+06  1.103226e+04  8.794764e+03  3.101411e+01  1.072201e+02   \n",
       "min    0.000000e+00  4.600000e+01 -9.999000e+03 -2.755000e+00 -1.022110e+03   \n",
       "25%    0.000000e+00  1.452600e+04  3.850000e+02  1.000000e+00  4.800000e+01   \n",
       "50%    0.000000e+00  1.943500e+04  1.358100e+04  1.000000e+00  8.900000e+01   \n",
       "75%    0.000000e+00  2.455800e+04  1.630400e+04  1.000000e+00  1.501100e+02   \n",
       "max    6.673056e+06  3.866000e+04  2.194300e+04  5.000000e+03  3.840000e+04   \n",
       "\n",
       "        id_card_int    id_doc_int  \n",
       "count  4.210086e+07  4.210086e+07  \n",
       "mean   8.446032e+05  1.170384e+07  \n",
       "std    5.388947e+05  6.760102e+06  \n",
       "min    0.000000e+00  2.000000e+00  \n",
       "25%    3.650470e+05  5.848724e+06  \n",
       "50%    8.150010e+05  1.170182e+07  \n",
       "75%    1.288708e+06  1.755596e+07  \n",
       "max    1.944074e+06  2.341787e+07  "
      ]
     },
     "execution_count": 6,
     "metadata": {},
     "output_type": "execute_result"
    }
   ],
   "source": [
    "d_sep.describe()"
   ]
  },
  {
   "cell_type": "code",
   "execution_count": 7,
   "metadata": {
    "id": "PHMeLNZpHvfP",
    "outputId": "cc09c5bd-4109-413a-b915-bfa45df90376"
   },
   "outputs": [
    {
     "data": {
      "text/plain": [
       "id_card_int\n",
       "883386     316277\n",
       "1387578       454\n",
       "914348        439\n",
       "317600        414\n",
       "531034        411\n",
       "542660        378\n",
       "421742        374\n",
       "1407478       360\n",
       "137816        356\n",
       "620767        348\n",
       "Name: id_doc_int, dtype: int64"
      ]
     },
     "execution_count": 7,
     "metadata": {},
     "output_type": "execute_result"
    }
   ],
   "source": [
    "group = df.groupby(\"id_card_int\")[\"id_doc_int\"]\n",
    "df_agg = group.agg(\"nunique\")\n",
    "df_agg.nlargest(10)"
   ]
  },
  {
   "cell_type": "code",
   "execution_count": 8,
   "metadata": {
    "id": "9smspUOyHvfQ",
    "outputId": "81f90bb1-e796-4b6b-b5fa-5212f5819be0"
   },
   "outputs": [
    {
     "data": {
      "text/plain": [
       "<matplotlib.axes._subplots.AxesSubplot at 0x7fc01d78bdc0>"
      ]
     },
     "execution_count": 8,
     "metadata": {},
     "output_type": "execute_result"
    },
    {
     "data": {
      "image/png": "[encoded data removed]",
      "text/plain": [
       "<Figure size 432x288 with 1 Axes>"
      ]
     },
     "metadata": {
      "needs_background": "light"
     },
     "output_type": "display_data"
    }
   ],
   "source": [
    "pd.DataFrame(df_agg[df_agg < 1000]).boxplot()"
   ]
  },
  {
   "cell_type": "code",
   "execution_count": 9,
   "metadata": {
    "id": "CTENXqSVHvfQ"
   },
   "outputs": [],
   "source": [
    "suspects = df_agg[df_agg > 400].index.tolist()"
   ]
  },
  {
   "cell_type": "code",
   "execution_count": 10,
   "metadata": {
    "id": "Zmx3s77bHvfQ"
   },
   "outputs": [],
   "source": [
    "group = df.groupby(\"id_card_int\")[\"id_tov\"]\n",
    "df_agg = group.agg(\"nunique\")"
   ]
  },
  {
   "cell_type": "code",
   "execution_count": 11,
   "metadata": {
    "id": "2s8e2Z8cHvfR",
    "outputId": "73c4af26-17fa-46aa-b79c-0913de2956b6"
   },
   "outputs": [
    {
     "data": {
      "text/plain": [
       "id_card_int\n",
       "883386     3791\n",
       "213748      796\n",
       "518424      701\n",
       "425024      687\n",
       "13789       637\n",
       "1158454     635\n",
       "1543652     630\n",
       "817278      628\n",
       "533540      627\n",
       "1447941     617\n",
       "Name: id_tov, dtype: int64"
      ]
     },
     "execution_count": 11,
     "metadata": {},
     "output_type": "execute_result"
    }
   ],
   "source": [
    "df_agg.nlargest(10)"
   ]
  },
  {
   "cell_type": "code",
   "execution_count": 12,
   "metadata": {
    "id": "FIr1R25OHvfR",
    "outputId": "884cd365-cc00-447f-aa6a-dc8dc6d1bdfb"
   },
   "outputs": [
    {
     "data": {
      "text/plain": [
       "<matplotlib.axes._subplots.AxesSubplot at 0x7fc01d6b6760>"
      ]
     },
     "execution_count": 12,
     "metadata": {},
     "output_type": "execute_result"
    },
    {
     "data": {
      "image/png": "[encoded data removed]",
      "text/plain": [
       "<Figure size 432x288 with 1 Axes>"
      ]
     },
     "metadata": {
      "needs_background": "light"
     },
     "output_type": "display_data"
    }
   ],
   "source": [
    "pd.DataFrame(df_agg[df_agg < 1000]).boxplot()"
   ]
  },
  {
   "cell_type": "code",
   "execution_count": 13,
   "metadata": {
    "id": "pZaNr4foHvfR"
   },
   "outputs": [],
   "source": [
    "suspects.extend(df_agg[df_agg > 650].index.tolist())"
   ]
  },
  {
   "cell_type": "code",
   "execution_count": 14,
   "metadata": {
    "id": "ek_6jLmaHvfS"
   },
   "outputs": [],
   "source": [
    "group = df.groupby(\"id_card_int\")[\"sum\"]\n",
    "df_agg = group.agg(\"sum\")"
   ]
  },
  {
   "cell_type": "code",
   "execution_count": 15,
   "metadata": {
    "id": "hxiJT7iRHvfS",
    "outputId": "e10cf7cd-c0fd-4d09-9f9d-37cb21a19e1f"
   },
   "outputs": [
    {
     "data": {
      "text/plain": [
       "id_card_int\n",
       "883386     60016231.51\n",
       "1577248     1279932.55\n",
       "568930       379927.61\n",
       "1028081      292730.00\n",
       "497966       284392.33\n",
       "1447941      283574.98\n",
       "588107       276153.31\n",
       "356029       272201.46\n",
       "478842       271251.47\n",
       "718802       259564.28\n",
       "Name: sum, dtype: float64"
      ]
     },
     "execution_count": 15,
     "metadata": {},
     "output_type": "execute_result"
    }
   ],
   "source": [
    "df_agg.nlargest(10)"
   ]
  },
  {
   "cell_type": "code",
   "execution_count": 16,
   "metadata": {
    "id": "pB4SZQ8GN1zn"
   },
   "outputs": [],
   "source": [
    "suspects.extend(df_agg[df_agg > 250000].index.tolist())\n"
   ]
  },
  {
   "cell_type": "code",
   "execution_count": 17,
   "metadata": {
    "id": "iJgfyJpTHvfS",
    "outputId": "e0ea4cd2-bb00-422e-cadd-9f01792bb22e"
   },
   "outputs": [
    {
     "data": {
      "text/plain": [
       "21"
      ]
     },
     "execution_count": 17,
     "metadata": {},
     "output_type": "execute_result"
    }
   ],
   "source": [
    "suspects = list(set(suspects))\n",
    "len(suspects)"
   ]
  },
  {
   "cell_type": "code",
   "execution_count": 18,
   "metadata": {
    "id": "0ktEfwh8HvfT"
   },
   "outputs": [],
   "source": [
    "res = pd.DataFrame(suspects, columns=['id_card_int'])\n",
    "with bz2.open(\"suspects.pkl\", 'wb') as f:\n",
    "    pickle.dump(res, f)"
   ]
  },
  {
   "cell_type": "code",
   "execution_count": null,
   "metadata": {
    "id": "bsq-l5KoHvfT"
   },
   "outputs": [],
   "source": []
  }
 ],
 "metadata": {
  "colab": {
   "name": "HW1.1.ipynb",
   "provenance": []
  },
  "kernelspec": {
   "display_name": "Python 3",
   "language": "python",
   "name": "python3"
  },
  "language_info": {
   "codemirror_mode": {
    "name": "ipython",
    "version": 3
   },
   "file_extension": ".py",
   "mimetype": "text/x-python",
   "name": "python",
   "nbconvert_exporter": "python",
   "pygments_lexer": "ipython3",
   "version": "3.8.3"
  }
 },
 "nbformat": 4,
 "nbformat_minor": 5
}
