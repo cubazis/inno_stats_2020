{
 "cells": [
  {
   "cell_type": "markdown",
   "id": "duplicate-zambia",
   "metadata": {},
   "source": [
    "# HW2\n",
    "\n",
    "Data https://drive.google.com/file/d/13Qm6ztAmVyBHvo_mch6gk-2VYKUHeRuu/view?usp=sharing\n",
    "\n",
    "Cards outliers https://docs.google.com/spreadsheets/d/1SIf2vawr2VWwme_6v_VZyHivJ502bWFN70SQLf-iBkM/edit?usp=sharing\n",
    "\n",
    "### Task\n",
    "\n",
    "- Prove that buying discounted products depends on the average order sum. (It is more probable that the discounted product will be bought if a bunch of money is going to spend)\n",
    "- Prove that the frequency of shopping grows around the wage taking days (1-6 days of each month, 20 -26 days of each month)\n",
    "- Define such cohort existence:\n",
    "    - Frequent buyers - The users that are shopping frequently(daily, weekly, monthly) \n",
    "    - Average purchase sum - The customers that usually spend the same amount of money \n",
    "    - Usual cart - The customers grouped by the product groups\n",
    "\n",
    "Create a pull request by using a format hw2;lastname;firstname\n",
    "\n",
    "### Data \n",
    "The raw dataset consists of 9 different columns:\n",
    "\n",
    "- date - is the timestamp when the purchase was done\n",
    "- id_doc - receipt's id\n",
    "- id_order - is the order's id. Order's id is equal to 0 when the purchase was done offline, otherwise online.\n",
    "- id_card - is the unique id of customer.\n",
    "- id_tov - is the unique id of product's id\n",
    "- id_kontr - distributor's id\n",
    "- quantity - the amount of the same product in receipt which was purchased\n",
    "- sum - price of the product\n",
    "- is_green - shows that product is under discount or not"
   ]
  },
  {
   "cell_type": "code",
   "execution_count": 1,
   "id": "after-shopper",
   "metadata": {},
   "outputs": [
    {
     "name": "stdout",
     "output_type": "stream",
     "text": [
      "Requirement already satisfied: openpyxl in /Users/kamil/miniconda3/envs/misc/lib/python3.9/site-packages (3.0.7)\r\n",
      "Requirement already satisfied: et-xmlfile in /Users/kamil/miniconda3/envs/misc/lib/python3.9/site-packages (from openpyxl) (1.1.0)\r\n"
     ]
    }
   ],
   "source": [
    "!pip install openpyxl"
   ]
  },
  {
   "cell_type": "code",
   "execution_count": 2,
   "id": "further-wings",
   "metadata": {},
   "outputs": [],
   "source": [
    "from scipy.stats import binom_test, ttest_ind\n",
    "from sklearn.preprocessing import LabelEncoder\n",
    "from pathlib import Path\n",
    "\n",
    "\n",
    "import matplotlib.pyplot as plt\n",
    "import numpy as np\n",
    "import pandas as pd\n",
    "import gc\n",
    "import pickle\n",
    "import bz2"
   ]
  },
  {
   "cell_type": "code",
   "execution_count": 3,
   "id": "expensive-fitness",
   "metadata": {},
   "outputs": [
    {
     "name": "stdout",
     "output_type": "stream",
     "text": [
      "09_prepared.pkl.bz2  11_prepared.pkl.bz2  \u001B[1m\u001B[36mhw2\u001B[m\u001B[m/\r\n",
      "10_prepared.pkl.bz2  bad_ids.xlsx         inno_stats.tar.gz\r\n"
     ]
    }
   ],
   "source": [
    "ls data"
   ]
  },
  {
   "cell_type": "code",
   "execution_count": 4,
   "id": "muslim-workstation",
   "metadata": {},
   "outputs": [
    {
     "name": "stdout",
     "output_type": "stream",
     "text": [
      "mkdir: ./data/hw2: File exists\r\n"
     ]
    }
   ],
   "source": [
    "!mkdir ./data/hw2 \n",
    "!tar -xf data/inno_stats.tar.gz -C ./data/hw2"
   ]
  },
  {
   "cell_type": "code",
   "execution_count": 5,
   "id": "qualified-ordering",
   "metadata": {},
   "outputs": [
    {
     "name": "stdout",
     "output_type": "stream",
     "text": [
      "09_groups.csv      10_groups.csv      11_groups.csv      product_groups.csv\r\n"
     ]
    }
   ],
   "source": [
    "data_path = Path('./data/hw2').resolve()\n",
    "! ls {data_path}"
   ]
  },
  {
   "cell_type": "code",
   "execution_count": 6,
   "id": "skilled-cache",
   "metadata": {},
   "outputs": [
    {
     "data": {
      "text/html": [
       "<div>\n",
       "<style scoped>\n",
       "    .dataframe tbody tr th:only-of-type {\n",
       "        vertical-align: middle;\n",
       "    }\n",
       "\n",
       "    .dataframe tbody tr th {\n",
       "        vertical-align: top;\n",
       "    }\n",
       "\n",
       "    .dataframe thead th {\n",
       "        text-align: right;\n",
       "    }\n",
       "</style>\n",
       "<table border=\"1\" class=\"dataframe\">\n",
       "  <thead>\n",
       "    <tr style=\"text-align: right;\">\n",
       "      <th></th>\n",
       "      <th>date</th>\n",
       "      <th>id_doc</th>\n",
       "      <th>id_order</th>\n",
       "      <th>id_card</th>\n",
       "      <th>id_tov</th>\n",
       "      <th>id_kontr</th>\n",
       "      <th>quantity</th>\n",
       "      <th>sum</th>\n",
       "      <th>is_green</th>\n",
       "      <th>id_group</th>\n",
       "    </tr>\n",
       "  </thead>\n",
       "  <tbody>\n",
       "    <tr>\n",
       "      <th>0</th>\n",
       "      <td>2020-09-01 17:01:25</td>\n",
       "      <td>1283228</td>\n",
       "      <td>0.0</td>\n",
       "      <td>1538855</td>\n",
       "      <td>52</td>\n",
       "      <td>271</td>\n",
       "      <td>1.0</td>\n",
       "      <td>108.00</td>\n",
       "      <td>0</td>\n",
       "      <td>10004</td>\n",
       "    </tr>\n",
       "    <tr>\n",
       "      <th>1</th>\n",
       "      <td>2020-09-01 17:35:36</td>\n",
       "      <td>8873113</td>\n",
       "      <td>0.0</td>\n",
       "      <td>267307</td>\n",
       "      <td>52</td>\n",
       "      <td>271</td>\n",
       "      <td>1.0</td>\n",
       "      <td>108.00</td>\n",
       "      <td>0</td>\n",
       "      <td>10004</td>\n",
       "    </tr>\n",
       "    <tr>\n",
       "      <th>2</th>\n",
       "      <td>2020-09-01 19:19:21</td>\n",
       "      <td>12712899</td>\n",
       "      <td>0.0</td>\n",
       "      <td>610220</td>\n",
       "      <td>52</td>\n",
       "      <td>271</td>\n",
       "      <td>1.0</td>\n",
       "      <td>107.95</td>\n",
       "      <td>0</td>\n",
       "      <td>10004</td>\n",
       "    </tr>\n",
       "    <tr>\n",
       "      <th>3</th>\n",
       "      <td>2020-09-01 21:53:34</td>\n",
       "      <td>21535283</td>\n",
       "      <td>0.0</td>\n",
       "      <td>441497</td>\n",
       "      <td>52</td>\n",
       "      <td>271</td>\n",
       "      <td>1.0</td>\n",
       "      <td>108.00</td>\n",
       "      <td>0</td>\n",
       "      <td>10004</td>\n",
       "    </tr>\n",
       "    <tr>\n",
       "      <th>4</th>\n",
       "      <td>2020-09-01 18:42:31</td>\n",
       "      <td>642341</td>\n",
       "      <td>0.0</td>\n",
       "      <td>1065358</td>\n",
       "      <td>61</td>\n",
       "      <td>97</td>\n",
       "      <td>2.0</td>\n",
       "      <td>88.00</td>\n",
       "      <td>0</td>\n",
       "      <td>10091</td>\n",
       "    </tr>\n",
       "  </tbody>\n",
       "</table>\n",
       "</div>"
      ],
      "text/plain": [
       "                  date    id_doc  id_order  id_card  id_tov  id_kontr  \\\n",
       "0  2020-09-01 17:01:25   1283228       0.0  1538855      52       271   \n",
       "1  2020-09-01 17:35:36   8873113       0.0   267307      52       271   \n",
       "2  2020-09-01 19:19:21  12712899       0.0   610220      52       271   \n",
       "3  2020-09-01 21:53:34  21535283       0.0   441497      52       271   \n",
       "4  2020-09-01 18:42:31    642341       0.0  1065358      61        97   \n",
       "\n",
       "   quantity     sum  is_green  id_group  \n",
       "0       1.0  108.00         0     10004  \n",
       "1       1.0  108.00         0     10004  \n",
       "2       1.0  107.95         0     10004  \n",
       "3       1.0  108.00         0     10004  \n",
       "4       2.0   88.00         0     10091  "
      ]
     },
     "execution_count": 6,
     "metadata": {},
     "output_type": "execute_result"
    }
   ],
   "source": [
    "g9 = pd.read_csv(f'{str(data_path)}/09_groups.csv')\n",
    "g9.head()"
   ]
  },
  {
   "cell_type": "code",
   "execution_count": 7,
   "id": "occupied-belgium",
   "metadata": {},
   "outputs": [
    {
     "data": {
      "text/html": [
       "<div>\n",
       "<style scoped>\n",
       "    .dataframe tbody tr th:only-of-type {\n",
       "        vertical-align: middle;\n",
       "    }\n",
       "\n",
       "    .dataframe tbody tr th {\n",
       "        vertical-align: top;\n",
       "    }\n",
       "\n",
       "    .dataframe thead th {\n",
       "        text-align: right;\n",
       "    }\n",
       "</style>\n",
       "<table border=\"1\" class=\"dataframe\">\n",
       "  <thead>\n",
       "    <tr style=\"text-align: right;\">\n",
       "      <th></th>\n",
       "      <th>date</th>\n",
       "      <th>id_doc</th>\n",
       "      <th>id_order</th>\n",
       "      <th>id_card</th>\n",
       "      <th>id_tov</th>\n",
       "      <th>id_kontr</th>\n",
       "      <th>quantity</th>\n",
       "      <th>sum</th>\n",
       "      <th>is_green</th>\n",
       "      <th>id_group</th>\n",
       "    </tr>\n",
       "  </thead>\n",
       "  <tbody>\n",
       "    <tr>\n",
       "      <th>0</th>\n",
       "      <td>2020-10-01 20:22:55</td>\n",
       "      <td>2035558</td>\n",
       "      <td>0.0</td>\n",
       "      <td>1636749</td>\n",
       "      <td>52</td>\n",
       "      <td>339</td>\n",
       "      <td>1.0</td>\n",
       "      <td>107.90</td>\n",
       "      <td>0</td>\n",
       "      <td>10004</td>\n",
       "    </tr>\n",
       "    <tr>\n",
       "      <th>1</th>\n",
       "      <td>2020-10-01 20:54:12</td>\n",
       "      <td>13037327</td>\n",
       "      <td>0.0</td>\n",
       "      <td>267261</td>\n",
       "      <td>52</td>\n",
       "      <td>339</td>\n",
       "      <td>1.0</td>\n",
       "      <td>80.04</td>\n",
       "      <td>0</td>\n",
       "      <td>10004</td>\n",
       "    </tr>\n",
       "    <tr>\n",
       "      <th>2</th>\n",
       "      <td>2020-10-01 21:25:59</td>\n",
       "      <td>1430590</td>\n",
       "      <td>0.0</td>\n",
       "      <td>1331395</td>\n",
       "      <td>61</td>\n",
       "      <td>379</td>\n",
       "      <td>1.0</td>\n",
       "      <td>31.92</td>\n",
       "      <td>1</td>\n",
       "      <td>10091</td>\n",
       "    </tr>\n",
       "    <tr>\n",
       "      <th>3</th>\n",
       "      <td>2020-10-01 13:31:01</td>\n",
       "      <td>3504660</td>\n",
       "      <td>0.0</td>\n",
       "      <td>641525</td>\n",
       "      <td>61</td>\n",
       "      <td>97</td>\n",
       "      <td>1.0</td>\n",
       "      <td>55.98</td>\n",
       "      <td>0</td>\n",
       "      <td>10091</td>\n",
       "    </tr>\n",
       "    <tr>\n",
       "      <th>4</th>\n",
       "      <td>2020-10-01 16:32:06</td>\n",
       "      <td>11024438</td>\n",
       "      <td>0.0</td>\n",
       "      <td>1325852</td>\n",
       "      <td>61</td>\n",
       "      <td>97</td>\n",
       "      <td>4.0</td>\n",
       "      <td>176.00</td>\n",
       "      <td>0</td>\n",
       "      <td>10091</td>\n",
       "    </tr>\n",
       "  </tbody>\n",
       "</table>\n",
       "</div>"
      ],
      "text/plain": [
       "                  date    id_doc  id_order  id_card  id_tov  id_kontr  \\\n",
       "0  2020-10-01 20:22:55   2035558       0.0  1636749      52       339   \n",
       "1  2020-10-01 20:54:12  13037327       0.0   267261      52       339   \n",
       "2  2020-10-01 21:25:59   1430590       0.0  1331395      61       379   \n",
       "3  2020-10-01 13:31:01   3504660       0.0   641525      61        97   \n",
       "4  2020-10-01 16:32:06  11024438       0.0  1325852      61        97   \n",
       "\n",
       "   quantity     sum  is_green  id_group  \n",
       "0       1.0  107.90         0     10004  \n",
       "1       1.0   80.04         0     10004  \n",
       "2       1.0   31.92         1     10091  \n",
       "3       1.0   55.98         0     10091  \n",
       "4       4.0  176.00         0     10091  "
      ]
     },
     "execution_count": 7,
     "metadata": {},
     "output_type": "execute_result"
    }
   ],
   "source": [
    "g10 = pd.read_csv(f'{str(data_path)}/10_groups.csv')\n",
    "g10.head()"
   ]
  },
  {
   "cell_type": "code",
   "execution_count": 8,
   "id": "wrong-binary",
   "metadata": {},
   "outputs": [
    {
     "data": {
      "text/html": [
       "<div>\n",
       "<style scoped>\n",
       "    .dataframe tbody tr th:only-of-type {\n",
       "        vertical-align: middle;\n",
       "    }\n",
       "\n",
       "    .dataframe tbody tr th {\n",
       "        vertical-align: top;\n",
       "    }\n",
       "\n",
       "    .dataframe thead th {\n",
       "        text-align: right;\n",
       "    }\n",
       "</style>\n",
       "<table border=\"1\" class=\"dataframe\">\n",
       "  <thead>\n",
       "    <tr style=\"text-align: right;\">\n",
       "      <th></th>\n",
       "      <th>date</th>\n",
       "      <th>id_doc</th>\n",
       "      <th>id_order</th>\n",
       "      <th>id_card</th>\n",
       "      <th>id_tov</th>\n",
       "      <th>id_kontr</th>\n",
       "      <th>quantity</th>\n",
       "      <th>sum</th>\n",
       "      <th>is_green</th>\n",
       "      <th>id_group</th>\n",
       "    </tr>\n",
       "  </thead>\n",
       "  <tbody>\n",
       "    <tr>\n",
       "      <th>0</th>\n",
       "      <td>2020-11-01 15:29:01</td>\n",
       "      <td>3121751</td>\n",
       "      <td>0.0</td>\n",
       "      <td>332351</td>\n",
       "      <td>52</td>\n",
       "      <td>271</td>\n",
       "      <td>1.0</td>\n",
       "      <td>107.98</td>\n",
       "      <td>0</td>\n",
       "      <td>10004</td>\n",
       "    </tr>\n",
       "    <tr>\n",
       "      <th>1</th>\n",
       "      <td>2020-11-01 12:41:10</td>\n",
       "      <td>22047017</td>\n",
       "      <td>8293317.0</td>\n",
       "      <td>1875438</td>\n",
       "      <td>52</td>\n",
       "      <td>-9999</td>\n",
       "      <td>1.0</td>\n",
       "      <td>108.00</td>\n",
       "      <td>0</td>\n",
       "      <td>10004</td>\n",
       "    </tr>\n",
       "    <tr>\n",
       "      <th>2</th>\n",
       "      <td>2020-11-01 13:17:09</td>\n",
       "      <td>6419825</td>\n",
       "      <td>0.0</td>\n",
       "      <td>563112</td>\n",
       "      <td>61</td>\n",
       "      <td>379</td>\n",
       "      <td>2.0</td>\n",
       "      <td>112.00</td>\n",
       "      <td>0</td>\n",
       "      <td>10091</td>\n",
       "    </tr>\n",
       "    <tr>\n",
       "      <th>3</th>\n",
       "      <td>2020-11-01 12:31:31</td>\n",
       "      <td>10284541</td>\n",
       "      <td>0.0</td>\n",
       "      <td>1841710</td>\n",
       "      <td>61</td>\n",
       "      <td>379</td>\n",
       "      <td>1.0</td>\n",
       "      <td>55.91</td>\n",
       "      <td>0</td>\n",
       "      <td>10091</td>\n",
       "    </tr>\n",
       "    <tr>\n",
       "      <th>4</th>\n",
       "      <td>2020-11-01 13:06:15</td>\n",
       "      <td>10424967</td>\n",
       "      <td>0.0</td>\n",
       "      <td>1304277</td>\n",
       "      <td>61</td>\n",
       "      <td>271</td>\n",
       "      <td>2.0</td>\n",
       "      <td>87.80</td>\n",
       "      <td>0</td>\n",
       "      <td>10091</td>\n",
       "    </tr>\n",
       "  </tbody>\n",
       "</table>\n",
       "</div>"
      ],
      "text/plain": [
       "                  date    id_doc   id_order  id_card  id_tov  id_kontr  \\\n",
       "0  2020-11-01 15:29:01   3121751        0.0   332351      52       271   \n",
       "1  2020-11-01 12:41:10  22047017  8293317.0  1875438      52     -9999   \n",
       "2  2020-11-01 13:17:09   6419825        0.0   563112      61       379   \n",
       "3  2020-11-01 12:31:31  10284541        0.0  1841710      61       379   \n",
       "4  2020-11-01 13:06:15  10424967        0.0  1304277      61       271   \n",
       "\n",
       "   quantity     sum  is_green  id_group  \n",
       "0       1.0  107.98         0     10004  \n",
       "1       1.0  108.00         0     10004  \n",
       "2       2.0  112.00         0     10091  \n",
       "3       1.0   55.91         0     10091  \n",
       "4       2.0   87.80         0     10091  "
      ]
     },
     "execution_count": 8,
     "metadata": {},
     "output_type": "execute_result"
    }
   ],
   "source": [
    "g11 = pd.read_csv(f'{str(data_path)}/11_groups.csv')\n",
    "g11.head()"
   ]
  },
  {
   "cell_type": "code",
   "execution_count": 9,
   "id": "allied-helena",
   "metadata": {},
   "outputs": [
    {
     "data": {
      "text/html": [
       "<div>\n",
       "<style scoped>\n",
       "    .dataframe tbody tr th:only-of-type {\n",
       "        vertical-align: middle;\n",
       "    }\n",
       "\n",
       "    .dataframe tbody tr th {\n",
       "        vertical-align: top;\n",
       "    }\n",
       "\n",
       "    .dataframe thead th {\n",
       "        text-align: right;\n",
       "    }\n",
       "</style>\n",
       "<table border=\"1\" class=\"dataframe\">\n",
       "  <thead>\n",
       "    <tr style=\"text-align: right;\">\n",
       "      <th></th>\n",
       "      <th>id_tov</th>\n",
       "      <th>id_group</th>\n",
       "      <th>name_group</th>\n",
       "    </tr>\n",
       "  </thead>\n",
       "  <tbody>\n",
       "    <tr>\n",
       "      <th>0</th>\n",
       "      <td>52</td>\n",
       "      <td>10004</td>\n",
       "      <td>Кисломолочные продукты</td>\n",
       "    </tr>\n",
       "    <tr>\n",
       "      <th>1</th>\n",
       "      <td>75</td>\n",
       "      <td>10004</td>\n",
       "      <td>Кисломолочные продукты</td>\n",
       "    </tr>\n",
       "    <tr>\n",
       "      <th>2</th>\n",
       "      <td>77</td>\n",
       "      <td>10004</td>\n",
       "      <td>Кисломолочные продукты</td>\n",
       "    </tr>\n",
       "    <tr>\n",
       "      <th>3</th>\n",
       "      <td>143</td>\n",
       "      <td>10004</td>\n",
       "      <td>Кисломолочные продукты</td>\n",
       "    </tr>\n",
       "    <tr>\n",
       "      <th>4</th>\n",
       "      <td>151</td>\n",
       "      <td>10004</td>\n",
       "      <td>Кисломолочные продукты</td>\n",
       "    </tr>\n",
       "  </tbody>\n",
       "</table>\n",
       "</div>"
      ],
      "text/plain": [
       "   id_tov  id_group              name_group\n",
       "0      52     10004  Кисломолочные продукты\n",
       "1      75     10004  Кисломолочные продукты\n",
       "2      77     10004  Кисломолочные продукты\n",
       "3     143     10004  Кисломолочные продукты\n",
       "4     151     10004  Кисломолочные продукты"
      ]
     },
     "execution_count": 9,
     "metadata": {},
     "output_type": "execute_result"
    }
   ],
   "source": [
    "pg = pd.read_csv(f'{str(data_path)}/product_groups.csv', delimiter=';', encoding='windows-1251')\n",
    "pg.head()"
   ]
  },
  {
   "cell_type": "code",
   "execution_count": 10,
   "id": "wrapped-aberdeen",
   "metadata": {},
   "outputs": [
    {
     "data": {
      "text/html": [
       "<div>\n",
       "<style scoped>\n",
       "    .dataframe tbody tr th:only-of-type {\n",
       "        vertical-align: middle;\n",
       "    }\n",
       "\n",
       "    .dataframe tbody tr th {\n",
       "        vertical-align: top;\n",
       "    }\n",
       "\n",
       "    .dataframe thead th {\n",
       "        text-align: right;\n",
       "    }\n",
       "</style>\n",
       "<table border=\"1\" class=\"dataframe\">\n",
       "  <thead>\n",
       "    <tr style=\"text-align: right;\">\n",
       "      <th></th>\n",
       "      <th>Unnamed: 0</th>\n",
       "      <th>id_card</th>\n",
       "    </tr>\n",
       "  </thead>\n",
       "  <tbody>\n",
       "    <tr>\n",
       "      <th>0</th>\n",
       "      <td>0</td>\n",
       "      <td>806096</td>\n",
       "    </tr>\n",
       "    <tr>\n",
       "      <th>1</th>\n",
       "      <td>1</td>\n",
       "      <td>1438102</td>\n",
       "    </tr>\n",
       "    <tr>\n",
       "      <th>2</th>\n",
       "      <td>2</td>\n",
       "      <td>72344</td>\n",
       "    </tr>\n",
       "    <tr>\n",
       "      <th>3</th>\n",
       "      <td>3</td>\n",
       "      <td>427981</td>\n",
       "    </tr>\n",
       "    <tr>\n",
       "      <th>4</th>\n",
       "      <td>4</td>\n",
       "      <td>1528414</td>\n",
       "    </tr>\n",
       "  </tbody>\n",
       "</table>\n",
       "</div>"
      ],
      "text/plain": [
       "   Unnamed: 0  id_card\n",
       "0           0   806096\n",
       "1           1  1438102\n",
       "2           2    72344\n",
       "3           3   427981\n",
       "4           4  1528414"
      ]
     },
     "execution_count": 10,
     "metadata": {},
     "output_type": "execute_result"
    }
   ],
   "source": [
    "bad_ids = pd.read_excel('./data/bad_ids.xlsx')\n",
    "bad_ids.head()"
   ]
  },
  {
   "cell_type": "markdown",
   "id": "nonprofit-integer",
   "metadata": {},
   "source": [
    "## Task 1\n",
    "\n",
    "Prove that buying discounted products depends on the average order sum. (It is more probable that the discounted product will be bought if bunch of money is going to be spend)\n",
    "\n",
    "Propose a null hypothesis (rejecting it would prove the task statement):\n",
    "\n",
    "**H_0**: overall share of discounted goods is INDEPENDENT on the average order sum."
   ]
  },
  {
   "cell_type": "code",
   "execution_count": 31,
   "id": "bound-scheme",
   "metadata": {},
   "outputs": [
    {
     "name": "stdout",
     "output_type": "stream",
     "text": [
      "[      0       1       2 ... 6904822 6904823 6904824]\n"
     ]
    },
    {
     "data": {
      "image/png": "[encoded data removed]",
      "text/plain": [
       "<Figure size 432x288 with 1 Axes>"
      ]
     },
     "metadata": {
      "needs_background": "light"
     },
     "output_type": "display_data"
    }
   ],
   "source": [
    "df = g9\n",
    "df = df[~df.id_card.isin(bad_ids.id_card.values)]\n",
    "\n",
    "avg_sum = df.groupby('id_doc')['sum'].mean().sort_values()\n",
    "\n",
    "print(np.arange(len(avg_sum)))\n",
    "plt.plot(np.arange(len(avg_sum)), avg_sum)\n",
    "plt.show()"
   ]
  },
  {
   "cell_type": "code",
   "execution_count": 32,
   "id": "identified-constitutional",
   "metadata": {},
   "outputs": [
    {
     "name": "stdout",
     "output_type": "stream",
     "text": [
      "[      0       1       2 ... 6834374 6834375 6834376]\n"
     ]
    },
    {
     "data": {
      "image/png": "[encoded data removed]",
      "text/plain": [
       "<Figure size 432x288 with 1 Axes>"
      ]
     },
     "metadata": {
      "needs_background": "light"
     },
     "output_type": "display_data"
    }
   ],
   "source": [
    "left_avg_sum = avg_sum[avg_sum<=400]\n",
    "\n",
    "print(np.arange(len(left_avg_sum)))\n",
    "plt.plot(np.arange(len(left_avg_sum)), left_avg_sum)\n",
    "plt.show()"
   ]
  },
  {
   "cell_type": "code",
   "execution_count": 33,
   "id": "corporate-rental",
   "metadata": {},
   "outputs": [
    {
     "data": {
      "image/png": "[encoded data removed]",
      "text/plain": [
       "<Figure size 432x288 with 1 Axes>"
      ]
     },
     "metadata": {
      "needs_background": "light"
     },
     "output_type": "display_data"
    }
   ],
   "source": [
    "mid_avg_sum = avg_sum[avg_sum<=2000][avg_sum>400]\n",
    "\n",
    "plt.plot(np.arange(len(mid_avg_sum)), mid_avg_sum)\n",
    "plt.show()"
   ]
  },
  {
   "cell_type": "code",
   "execution_count": 34,
   "id": "cheap-uniform",
   "metadata": {},
   "outputs": [
    {
     "data": {
      "image/png": "[encoded data removed]",
      "text/plain": [
       "<Figure size 432x288 with 1 Axes>"
      ]
     },
     "metadata": {
      "needs_background": "light"
     },
     "output_type": "display_data"
    }
   ],
   "source": [
    "right_avg_sum = avg_sum[avg_sum>2000]\n",
    "\n",
    "plt.plot(np.arange(len(right_avg_sum)), right_avg_sum)\n",
    "plt.show()"
   ]
  },
  {
   "cell_type": "code",
   "execution_count": 35,
   "id": "encouraging-collection",
   "metadata": {},
   "outputs": [
    {
     "name": "stdout",
     "output_type": "stream",
     "text": [
      "Global                     checks show average share of discount products of 0.07669907979470408\n",
      "Cheap     (     sum<=400 ) checks show average share of discount products of 0.0773528479054006\n",
      "Middle    ( 400<sum<=2000) checks show average share of discount products of 0.013300830810441661\n",
      "Expensive (2000<sum      ) checks show average share of discount products of 0.009473684210526316\n",
      "Cheap     (     sum<=400 ) checks show P-value of coming from the global distribution: 1.4195611006105082e-10\n",
      "Middle    ( 400<sum<=2000) checks show P-value of coming from the global distribution: 5e-324\n",
      "Expensive (2000<sum      ) checks show P-value of coming from the global distribution: 9.222071549462847e-12\n"
     ]
    }
   ],
   "source": [
    "gm = df.groupby('id_doc')['is_green'].mean()\n",
    "cm = df[df['id_doc'].isin(left_avg_sum.index)].groupby('id_doc')['is_green'].mean()\n",
    "mm = df[df['id_doc'].isin(mid_avg_sum.index)].groupby('id_doc')['is_green'].mean()\n",
    "em = df[df['id_doc'].isin(right_avg_sum.index)].groupby('id_doc')['is_green'].mean()\n",
    "\n",
    "print(f'Global                     checks show average share of discount products of {gm.mean()}')\n",
    "print(f'Cheap     (     sum<=400 ) checks show average share of discount products of {cm.mean()}')\n",
    "print(f'Middle    ( 400<sum<=2000) checks show average share of discount products of {mm.mean()}')\n",
    "print(f'Expensive (2000<sum      ) checks show average share of discount products of {em.mean()}')\n",
    "\n",
    "pc = binom_test(cm.sum(), len(cm), p=gm.mean())\n",
    "pm = binom_test(mm.sum(), len(mm), p=gm.mean())\n",
    "pe = binom_test(em.sum(), len(em), p=gm.mean())\n",
    "\n",
    "print(f'Cheap     (     sum<=400 ) checks show P-value of coming from the global distribution: {pc.mean()}')\n",
    "print(f'Middle    ( 400<sum<=2000) checks show P-value of coming from the global distribution: {pm.mean()}')\n",
    "print(f'Expensive (2000<sum      ) checks show P-value of coming from the global distribution: {pe.mean()}')"
   ]
  },
  {
   "cell_type": "markdown",
   "id": "universal-business",
   "metadata": {},
   "source": [
    "We can see that in all 3 cases, the P-value is small enough to show strong evidence against the null hypothesis that the share of discount products in a check is independent of its mean sum.\n",
    "An interesting observation is that clients tend to buy relatively more discount products when check's mean sum is less.\n",
    "\n",
    "## Task 2\n",
    "Prove that the frequency of shopping grows around the wage taking days.\n"
   ]
  },
  {
   "cell_type": "code",
   "execution_count": 37,
   "id": "circular-satisfaction",
   "metadata": {},
   "outputs": [
    {
     "name": "stderr",
     "output_type": "stream",
     "text": [
      "<ipython-input-37-be371046908d>:1: SettingWithCopyWarning: \n",
      "A value is trying to be set on a copy of a slice from a DataFrame.\n",
      "Try using .loc[row_indexer,col_indexer] = value instead\n",
      "\n",
      "See the caveats in the documentation: https://pandas.pydata.org/pandas-docs/stable/user_guide/indexing.html#returning-a-view-versus-a-copy\n",
      "  df['date'] = pd.to_datetime(df.date, format='%Y-%m-%d %H:%M:%S')\n",
      "<ipython-input-37-be371046908d>:2: SettingWithCopyWarning: \n",
      "A value is trying to be set on a copy of a slice from a DataFrame.\n",
      "Try using .loc[row_indexer,col_indexer] = value instead\n",
      "\n",
      "See the caveats in the documentation: https://pandas.pydata.org/pandas-docs/stable/user_guide/indexing.html#returning-a-view-versus-a-copy\n",
      "  df['day'] = [dt.day for dt in df.date]\n"
     ]
    },
    {
     "data": {
      "text/plain": [
       "day\n",
       "1     1490094.142\n",
       "2     1495672.189\n",
       "3     1499225.534\n",
       "4     1495720.966\n",
       "5     1249705.374\n",
       "6     1390039.067\n",
       "7     1693758.634\n",
       "8     1526358.467\n",
       "9     1677119.772\n",
       "10    1843716.132\n",
       "11    1693410.555\n",
       "12    1409862.780\n",
       "13    1540880.193\n",
       "14    1705343.986\n",
       "15    1642236.680\n",
       "16    1628575.057\n",
       "17    1488771.092\n",
       "18    1805777.082\n",
       "19    1511566.937\n",
       "20    1536183.460\n",
       "21    1687510.211\n",
       "22    1661902.192\n",
       "23    1660745.740\n",
       "24    1642903.793\n",
       "25    1808559.707\n",
       "26    1498252.337\n",
       "27    1535354.634\n",
       "28    1746803.905\n",
       "29    1693991.455\n",
       "30    1732330.115\n",
       "Name: quantity, dtype: float64"
      ]
     },
     "execution_count": 37,
     "metadata": {},
     "output_type": "execute_result"
    }
   ],
   "source": [
    "df['date'] = pd.to_datetime(df.date, format='%Y-%m-%d %H:%M:%S')\n",
    "df['day'] = [dt.day for dt in df.date]\n",
    "\n",
    "goods_per_day = df.groupby('day')['quantity'].sum()\n",
    "goods_per_day"
   ]
  },
  {
   "cell_type": "code",
   "execution_count": 38,
   "id": "center-championship",
   "metadata": {},
   "outputs": [
    {
     "data": {
      "image/png": "[encoded data removed]",
      "text/plain": [
       "<Figure size 1800x1080 with 1 Axes>"
      ]
     },
     "metadata": {
      "needs_background": "light"
     },
     "output_type": "display_data"
    }
   ],
   "source": [
    "plt.figure(figsize=(25, 15))\n",
    "plt.plot(np.arange(len(goods_per_day)), goods_per_day)\n",
    "plt.locator_params(axis='x', nbins=31+2)\n",
    "plt.grid()\n",
    "plt.show()"
   ]
  },
  {
   "cell_type": "markdown",
   "id": "divine-adaptation",
   "metadata": {
    "pycharm": {
     "name": "#%% md\n"
    }
   },
   "source": [
    "According to the plot representing total amount of goods bought by a specific day, we can observe local maximums at 9th, 17th and 24th days of month. \n",
    "\n",
    "If we assume that wage taking days are 2 days per month with 15 days interval (half a month), for example 10th and 25th, then we may notice the grouth of shopping frequency around wage taking days.\n",
    "\n",
    "\n",
    "## Task 3\n",
    "Define such cohort existance:\n",
    "1. Frequent buyers - The users that are shopping frequently(daily, weekly, monthly) \n",
    "2. Average purchase sum - The customers that usually spend the same amount of money \n",
    "3. Usual cart - The customers grouped by the product groups\n",
    "\n",
    "References\n",
    "- https://towardsdatascience.com/a-step-by-step-introduction-to-cohort-analysis-in-python-a2cbbd8460ea\n",
    "\n",
    "### Frequent buyers"
   ]
  },
  {
   "cell_type": "code",
   "execution_count": 47,
   "id": "pretty-undergraduate",
   "metadata": {},
   "outputs": [
    {
     "data": {
      "text/plain": [
       "Text(0, 0.5, 'Orders')"
      ]
     },
     "execution_count": 47,
     "metadata": {},
     "output_type": "execute_result"
    },
    {
     "data": {
      "image/png": "[encoded data removed]",
      "text/plain": [
       "<Figure size 1800x1080 with 1 Axes>"
      ]
     },
     "metadata": {
      "needs_background": "light"
     },
     "output_type": "display_data"
    }
   ],
   "source": [
    "cnt_orders = df.groupby('id_card')['id_doc'].count()\n",
    "\n",
    "plt.figure(figsize=(25, 15))\n",
    "plt.hist(cnt_orders)\n",
    "plt.locator_params(axis='x', nbins=31+2)\n",
    "plt.grid()\n",
    "plt.xlabel('Customers')\n",
    "plt.ylabel('Orders')"
   ]
  },
  {
   "cell_type": "code",
   "execution_count": null,
   "outputs": [],
   "source": [
    "frq_orders = 30 / cnt_orders[cnt_orders>0]\n",
    "frq_orders.round()\n",
    "\n",
    "plt.figure(figsize=(25, 15))\n",
    "plt.hist(frq_orders)\n",
    "plt.locator_params(axis='x', nbins=31+2)\n",
    "plt.grid()\n",
    "plt.xlabel('Days between purchases')\n",
    "plt.ylabel('Orders')"
   ],
   "metadata": {
    "collapsed": false,
    "pycharm": {
     "name": "#%%\n"
    }
   }
  },
  {
   "cell_type": "markdown",
   "source": [
    "From the figure above we can see that most of the people buy goods every 1-3 days. Some people by every 3-6 days. Also, group with interval 6-15 days is observable. Some of the customers attend shopping nearly once a month. (27-30 days)\n",
    "\n",
    "## Average purchase sum\n"
   ],
   "metadata": {
    "collapsed": false
   }
  },
  {
   "cell_type": "code",
   "execution_count": null,
   "outputs": [],
   "source": [
    "avg_ord_sum = df.groupby('id_card')['sum'].sum()\n",
    "\n",
    "plt.figure(figsize=(25, 15))\n",
    "plt.hist(avg_ord_sum)\n",
    "plt.locator_params(axis='x', nbins=31+2)\n",
    "plt.grid()\n",
    "plt.xlabel('Order sums')\n",
    "plt.ylabel('Customers')"
   ],
   "metadata": {
    "collapsed": false,
    "pycharm": {
     "name": "#%%\n"
    }
   }
  },
  {
   "cell_type": "code",
   "execution_count": null,
   "outputs": [],
   "source": [
    "avg_ord_sum = avg_ord_sum[avg_ord_sum<50000]\n",
    "\n",
    "plt.figure(figsize=(25, 15))\n",
    "plt.hist(avg_ord_sum)\n",
    "plt.locator_params(axis='x', nbins=31+2)\n",
    "plt.grid()\n",
    "plt.xlabel('Order sums')\n",
    "plt.ylabel('Customers')"
   ],
   "metadata": {
    "collapsed": false,
    "pycharm": {
     "name": "#%%\n"
    }
   }
  },
  {
   "cell_type": "code",
   "execution_count": null,
   "outputs": [],
   "source": [
    "avg_ord_sum = avg_ord_sum[avg_ord_sum<10000]\n",
    "\n",
    "plt.figure(figsize=(25, 15))\n",
    "plt.hist(avg_ord_sum)\n",
    "plt.locator_params(axis='x', nbins=31+2)\n",
    "plt.grid()\n",
    "plt.xlabel('Order sums')\n",
    "plt.ylabel('Customers')"
   ],
   "metadata": {
    "collapsed": false,
    "pycharm": {
     "name": "#%%\n"
    }
   }
  },
  {
   "cell_type": "markdown",
   "source": [
    "From the plots above, one may define plenty of groups. It would be correct to say that most of the customers make purshases in less than a 1000 roubles.\n",
    "\n",
    "## Usual cart"
   ],
   "metadata": {
    "collapsed": false
   }
  },
  {
   "cell_type": "code",
   "execution_count": null,
   "outputs": [],
   "source": [
    "cnt_cust_per_group = df.groupby('id_group')['id_card'].unique().apply(len)\n",
    "\n",
    "plt.figure(figsize=(25, 15))\n",
    "plt.hist(cnt_cust_per_group)\n",
    "plt.locator_params(axis='x', nbins=31+2)\n",
    "plt.grid()\n",
    "plt.xlabel('Groups')\n",
    "plt.ylabel('Customers')\n",
    "\n",
    "cnt_cust_per_group.head()"
   ],
   "metadata": {
    "collapsed": false,
    "pycharm": {
     "name": "#%%\n"
    }
   }
  },
  {
   "cell_type": "code",
   "execution_count": null,
   "outputs": [],
   "source": [
    "plt.figure(figsize=(25, 15))\n",
    "plt.hist(cnt_cust_per_group[cnt_cust_per_group<3000])\n",
    "plt.locator_params(axis='x', nbins=31+2)\n",
    "plt.grid()\n",
    "plt.xlabel('Groups')\n",
    "plt.ylabel('Customers')"
   ],
   "metadata": {
    "collapsed": false,
    "pycharm": {
     "name": "#%%\n"
    }
   }
  },
  {
   "cell_type": "code",
   "execution_count": null,
   "outputs": [],
   "source": [
    "cpg = cnt_cust_per_group.to_frame().rename(columns={'id_card':'occurences'})\n",
    "\n",
    "intg = pg[pg['id_group'].isin(cpg.index)]\n",
    "intg.drop_duplicates('id_group', 'first', inplace=True)\n",
    "intg = intg.join(cpg, on='id_group')\n",
    "intg.sort_values('occurences', ascending=False)\n",
    "intg.head()"
   ],
   "metadata": {
    "collapsed": false,
    "pycharm": {
     "name": "#%%\n"
    }
   }
  },
  {
   "cell_type": "markdown",
   "source": [
    "From the results above, one may observe that most popular group of goods are \"Кисломолочные продукты\" and \"Творог\""
   ],
   "metadata": {
    "collapsed": false
   }
  },
  {
   "cell_type": "code",
   "execution_count": 50,
   "id": "distributed-discount",
   "metadata": {},
   "outputs": [
    {
     "data": {
      "text/plain": [
       "Text(0, 0.5, 'Orders')"
      ]
     },
     "execution_count": 50,
     "metadata": {},
     "output_type": "execute_result"
    },
    {
     "data": {
      "image/png": "[encoded data removed]",
      "text/plain": [
       "<Figure size 1800x1080 with 1 Axes>"
      ]
     },
     "metadata": {
      "needs_background": "light"
     },
     "output_type": "display_data"
    }
   ],
   "source": []
  },
  {
   "cell_type": "markdown",
   "id": "sapphire-albuquerque",
   "metadata": {},
   "source": [
    "From the figure above we can see that most of the people buy goods every 1-3 days. Some people by every 3-6 days. Also, group with interval 6-15 days is observable. Some of the customers attend shopping nearly once a month. (27-30 days)\n",
    "\n",
    "## Average purchase sum\n"
   ]
  },
  {
   "cell_type": "code",
   "execution_count": 55,
   "id": "numerical-disabled",
   "metadata": {},
   "outputs": [
    {
     "data": {
      "text/plain": [
       "Text(0, 0.5, 'Customers')"
      ]
     },
     "execution_count": 55,
     "metadata": {},
     "output_type": "execute_result"
    },
    {
     "data": {
      "image/png": "[encoded data removed]",
      "text/plain": [
       "<Figure size 1800x1080 with 1 Axes>"
      ]
     },
     "metadata": {
      "needs_background": "light"
     },
     "output_type": "display_data"
    }
   ],
   "source": [
    "avg_ord_sum = df.groupby('id_card')['sum'].sum()\n",
    "\n",
    "plt.figure(figsize=(25, 15))\n",
    "plt.hist(avg_ord_sum)\n",
    "plt.locator_params(axis='x', nbins=31+2)\n",
    "plt.grid()\n",
    "plt.xlabel('Order sums')\n",
    "plt.ylabel('Customers')"
   ]
  },
  {
   "cell_type": "code",
   "execution_count": 57,
   "id": "moved-elite",
   "metadata": {},
   "outputs": [
    {
     "data": {
      "text/plain": [
       "Text(0, 0.5, 'Customers')"
      ]
     },
     "execution_count": 57,
     "metadata": {},
     "output_type": "execute_result"
    },
    {
     "data": {
      "image/png": "[encoded data removed]",
      "text/plain": [
       "<Figure size 1800x1080 with 1 Axes>"
      ]
     },
     "metadata": {
      "needs_background": "light"
     },
     "output_type": "display_data"
    }
   ],
   "source": [
    "avg_ord_sum = avg_ord_sum[avg_ord_sum<50000]\n",
    "\n",
    "plt.figure(figsize=(25, 15))\n",
    "plt.hist(avg_ord_sum)\n",
    "plt.locator_params(axis='x', nbins=31+2)\n",
    "plt.grid()\n",
    "plt.xlabel('Order sums')\n",
    "plt.ylabel('Customers')"
   ]
  },
  {
   "cell_type": "code",
   "execution_count": 59,
   "id": "occupied-attendance",
   "metadata": {},
   "outputs": [
    {
     "data": {
      "text/plain": [
       "Text(0, 0.5, 'Customers')"
      ]
     },
     "execution_count": 59,
     "metadata": {},
     "output_type": "execute_result"
    },
    {
     "data": {
      "image/png": "[encoded data removed]",
      "text/plain": [
       "<Figure size 1800x1080 with 1 Axes>"
      ]
     },
     "metadata": {
      "needs_background": "light"
     },
     "output_type": "display_data"
    }
   ],
   "source": [
    "avg_ord_sum = avg_ord_sum[avg_ord_sum<10000]\n",
    "\n",
    "plt.figure(figsize=(25, 15))\n",
    "plt.hist(avg_ord_sum)\n",
    "plt.locator_params(axis='x', nbins=31+2)\n",
    "plt.grid()\n",
    "plt.xlabel('Order sums')\n",
    "plt.ylabel('Customers')"
   ]
  },
  {
   "cell_type": "markdown",
   "id": "civil-cincinnati",
   "metadata": {},
   "source": [
    "From the plots above, one may define plenty of groups. It would be correct to say that most of the customers make purshases in less than a 1000 roubles.\n",
    "\n",
    "## Usual cart"
   ]
  },
  {
   "cell_type": "code",
   "execution_count": 86,
   "id": "nasty-parade",
   "metadata": {},
   "outputs": [
    {
     "data": {
      "text/plain": [
       "id_group\n",
       "-9999     630883\n",
       " 10004    513436\n",
       " 10005    510511\n",
       " 10008    335528\n",
       " 10012    208897\n",
       "Name: id_card, dtype: int64"
      ]
     },
     "execution_count": 86,
     "metadata": {},
     "output_type": "execute_result"
    },
    {
     "data": {
      "image/png": "[encoded data removed]",
      "text/plain": [
       "<Figure size 1800x1080 with 1 Axes>"
      ]
     },
     "metadata": {
      "needs_background": "light"
     },
     "output_type": "display_data"
    }
   ],
   "source": [
    "cnt_cust_per_group = df.groupby('id_group')['id_card'].unique().apply(len)\n",
    "\n",
    "plt.figure(figsize=(25, 15))\n",
    "plt.hist(cnt_cust_per_group)\n",
    "plt.locator_params(axis='x', nbins=31+2)\n",
    "plt.grid()\n",
    "plt.xlabel('Groups')\n",
    "plt.ylabel('Customers')\n",
    "\n",
    "cnt_cust_per_group.head()"
   ]
  },
  {
   "cell_type": "code",
   "execution_count": 91,
   "id": "mounted-assist",
   "metadata": {},
   "outputs": [
    {
     "data": {
      "text/plain": [
       "Text(0, 0.5, 'Customers')"
      ]
     },
     "execution_count": 91,
     "metadata": {},
     "output_type": "execute_result"
    },
    {
     "data": {
      "image/png": "[encoded data removed]",
      "text/plain": [
       "<Figure size 1800x1080 with 1 Axes>"
      ]
     },
     "metadata": {
      "needs_background": "light"
     },
     "output_type": "display_data"
    }
   ],
   "source": [
    "plt.figure(figsize=(25, 15))\n",
    "plt.hist(cnt_cust_per_group[cnt_cust_per_group<3000])\n",
    "plt.locator_params(axis='x', nbins=31+2)\n",
    "plt.grid()\n",
    "plt.xlabel('Groups')\n",
    "plt.ylabel('Customers')"
   ]
  },
  {
   "cell_type": "code",
   "execution_count": 109,
   "id": "tight-solomon",
   "metadata": {},
   "outputs": [
    {
     "name": "stderr",
     "output_type": "stream",
     "text": [
      "<ipython-input-109-008462f096b1>:4: SettingWithCopyWarning: \n",
      "A value is trying to be set on a copy of a slice from a DataFrame\n",
      "\n",
      "See the caveats in the documentation: https://pandas.pydata.org/pandas-docs/stable/user_guide/indexing.html#returning-a-view-versus-a-copy\n",
      "  intg.drop_duplicates('id_group', 'first', inplace=True)\n"
     ]
    },
    {
     "data": {
      "text/html": [
       "<div>\n",
       "<style scoped>\n",
       "    .dataframe tbody tr th:only-of-type {\n",
       "        vertical-align: middle;\n",
       "    }\n",
       "\n",
       "    .dataframe tbody tr th {\n",
       "        vertical-align: top;\n",
       "    }\n",
       "\n",
       "    .dataframe thead th {\n",
       "        text-align: right;\n",
       "    }\n",
       "</style>\n",
       "<table border=\"1\" class=\"dataframe\">\n",
       "  <thead>\n",
       "    <tr style=\"text-align: right;\">\n",
       "      <th></th>\n",
       "      <th>id_tov</th>\n",
       "      <th>id_group</th>\n",
       "      <th>name_group</th>\n",
       "      <th>occurences</th>\n",
       "    </tr>\n",
       "  </thead>\n",
       "  <tbody>\n",
       "    <tr>\n",
       "      <th>0</th>\n",
       "      <td>52</td>\n",
       "      <td>10004</td>\n",
       "      <td>Кисломолочные продукты</td>\n",
       "      <td>513436</td>\n",
       "    </tr>\n",
       "    <tr>\n",
       "      <th>43</th>\n",
       "      <td>91</td>\n",
       "      <td>10005</td>\n",
       "      <td>Творог</td>\n",
       "      <td>510511</td>\n",
       "    </tr>\n",
       "    <tr>\n",
       "      <th>93</th>\n",
       "      <td>848</td>\n",
       "      <td>10008</td>\n",
       "      <td>Торты, пирожные, муссы, суфле</td>\n",
       "      <td>335528</td>\n",
       "    </tr>\n",
       "    <tr>\n",
       "      <th>191</th>\n",
       "      <td>781</td>\n",
       "      <td>10012</td>\n",
       "      <td>Макароны, крупы, бобовые</td>\n",
       "      <td>208897</td>\n",
       "    </tr>\n",
       "    <tr>\n",
       "      <th>273</th>\n",
       "      <td>1115</td>\n",
       "      <td>10013</td>\n",
       "      <td>Мюсли, сухие завтраки и обеды, каши</td>\n",
       "      <td>87205</td>\n",
       "    </tr>\n",
       "  </tbody>\n",
       "</table>\n",
       "</div>"
      ],
      "text/plain": [
       "     id_tov  id_group                           name_group  occurences\n",
       "0        52     10004               Кисломолочные продукты      513436\n",
       "43       91     10005                               Творог      510511\n",
       "93      848     10008        Торты, пирожные, муссы, суфле      335528\n",
       "191     781     10012             Макароны, крупы, бобовые      208897\n",
       "273    1115     10013  Мюсли, сухие завтраки и обеды, каши       87205"
      ]
     },
     "execution_count": 109,
     "metadata": {},
     "output_type": "execute_result"
    }
   ],
   "source": [
    "cpg = cnt_cust_per_group.to_frame().rename(columns={'id_card':'occurences'})\n",
    "\n",
    "intg = pg[pg['id_group'].isin(cpg.index)]\n",
    "intg.drop_duplicates('id_group', 'first', inplace=True)\n",
    "intg = intg.join(cpg, on='id_group')\n",
    "intg.sort_values('occurences', ascending=False)\n",
    "intg.head()"
   ]
  },
  {
   "cell_type": "markdown",
   "id": "sixth-jungle",
   "metadata": {},
   "source": [
    "From the results above, one may observe that most popular group of goods are \"Кисломолочные продукты\" and \"Творог\""
   ]
  },
  {
   "cell_type": "code",
   "execution_count": null,
   "id": "strong-irrigation",
   "metadata": {},
   "outputs": [],
   "source": []
  },
  {
   "cell_type": "code",
   "execution_count": null,
   "id": "incoming-notebook",
   "metadata": {},
   "outputs": [],
   "source": []
  },
  {
   "cell_type": "code",
   "execution_count": null,
   "id": "rational-edmonton",
   "metadata": {},
   "outputs": [],
   "source": []
  }
 ],
 "metadata": {
  "kernelspec": {
   "display_name": "Python 3",
   "language": "python",
   "name": "python3"
  },
  "language_info": {
   "codemirror_mode": {
    "name": "ipython",
    "version": 3
   },
   "file_extension": ".py",
   "mimetype": "text/x-python",
   "name": "python",
   "nbconvert_exporter": "python",
   "pygments_lexer": "ipython3",
   "version": "3.9.1"
  }
 },
 "nbformat": 4,
 "nbformat_minor": 5
}