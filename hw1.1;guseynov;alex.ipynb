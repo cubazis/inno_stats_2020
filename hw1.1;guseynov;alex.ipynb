{
 "cells": [
  {
   "cell_type": "markdown",
   "id": "unavailable-hundred",
   "metadata": {},
   "source": [
    "<b>Detect transactions outliers</b>\n",
    "\n",
    "    You have got a dataset\n",
    "    You have got a demonstration of preliminary data clenaning (lab2.1.ipynb, lab2.2.ipynb)\n",
    "    You have got a pickled card_lbe and doc_lbe (pipeline in lab2.lbe.ipynb) to make the same mapping of id_card and id_doc\n",
    "\n",
    "<b>Task</b>\n",
    "\n",
    "Use Characteristics of quantitative data and techniques for detection of inadequate transactions and collect id_card (mapped by using card_lbe) you think not real customers.\n",
    "\n",
    "Create a pull request by using a format hw1.1;lastname;firstname"
   ]
  },
  {
   "cell_type": "code",
   "execution_count": 1,
   "id": "shaped-nickel",
   "metadata": {},
   "outputs": [],
   "source": [
    "import pandas as pd\n",
    "import os, gc, sys, pickle, bz2\n",
    "from datetime import datetime\n",
    "from pathlib import Path\n",
    "\n",
    "import matplotlib.pyplot as plt\n",
    "import IPython"
   ]
  },
  {
   "cell_type": "markdown",
   "id": "specialized-invasion",
   "metadata": {},
   "source": [
    "Outliers could be defined as following: \n",
    "\n",
    "* too many transactions per card - say, more than 90 per month\n",
    "    * While real person is expected to shop 1-2 times per day, other else are either maniacs, or entities. \n",
    "\n",
    "* too large amount is passed - say, 10000 rubles per bill is too much\n",
    "    * Who has a lot of money to buy shit?\n",
    "\n",
    "Let's define outliers via the idea of confidence intervals: everyone who is out of interval $[\\mu - 3\\sigma=>0, \\mu + 3 \\sigma]$ are outliers."
   ]
  },
  {
   "cell_type": "code",
   "execution_count": 3,
   "id": "exotic-produce",
   "metadata": {},
   "outputs": [],
   "source": [
    "def return_expected_outliers(file_path: str) -> pd.DataFrame:\n",
    "    with bz2.open(file_path, 'rb') as f:\n",
    "        month_df = pickle.load(f).drop(columns=['id_card', 'is_green', 'id_doc']) \n",
    "        month_df['date'] = month_df['date'].dt.date\n",
    "    \n",
    "    # 1. By sum of transactions per card_id\n",
    "    gr_month_df = month_df.groupby(by=['id_card_int']).sum()\n",
    "    gr_month_df = gr_month_df.sort_values(by=['sum'], ascending=False)\n",
    "\n",
    "    mean, std = gr_month_df['sum'].mean(), gr_month_df['sum'].std()\n",
    "    print(f'''Threshold sum per card per day: {mean + 3*std:.2f} rubles. Mean sum: {mean:.2f}.\n",
    "    Amount of outliers so far: {len(gr_month_df[gr_month_df[\"sum\"] > mean + 3*std])}.''')\n",
    "    outliers_ids = gr_month_df[gr_month_df['sum'] > mean + 3*std].index.tolist()\n",
    "\n",
    "\n",
    "    # 2. By count of transactions per card_id: how many operations per month are occured?\n",
    "    cnt_month_df = month_df.groupby(by=['id_card_int']).count()\n",
    "    cnt_thresh = cnt_month_df['sum'].mean() + 3 * cnt_month_df['sum'].std()\n",
    "    print(f'''Thresold for count: {cnt_thresh}; average amount of operations: {cnt_month_df[\"sum\"].mean()}.\n",
    "    Amount of outliers so far: {len(cnt_month_df[cnt_month_df[\"sum\"]>cnt_thresh])}.\n",
    "    ''')\n",
    "    outliers_ids += cnt_month_df[cnt_month_df['sum'] > cnt_thresh].index.tolist()\n",
    "\n",
    "    # 3. Free the memory\n",
    "    month_df = month_df.iloc[0:0]\n",
    "    gr_month_df = gr_month_df.iloc[0:0]\n",
    "    cnt_month_df = cnt_month_df.iloc[0:0]\n",
    "\n",
    "    # 4. Return data\n",
    "    outliers_ids = sorted(list(set(outliers_ids)))\n",
    "    outliers_df = pd.DataFrame(outliers_ids, columns=['id_card_int'])\n",
    "    print(f\"Returned DataFrame with length {len(outliers_df)}\")\n",
    "    \n",
    "    return outliers_df"
   ]
  },
  {
   "cell_type": "markdown",
   "id": "healthy-meter",
   "metadata": {},
   "source": [
    "## Cleaned BZ-archives (thanks to Vladislav these DataFrames contain card_lbe)"
   ]
  },
  {
   "cell_type": "code",
   "execution_count": 4,
   "id": "compound-official",
   "metadata": {},
   "outputs": [
    {
     "name": "stdout",
     "output_type": "stream",
     "text": [
      "09_prepared.pkl.bz2  10_prepared.pkl.bz2  11_prepared.pkl.bz2\r\n"
     ]
    }
   ],
   "source": [
    "! ls *prepared*.bz2"
   ]
  },
  {
   "cell_type": "code",
   "execution_count": 5,
   "id": "filled-service",
   "metadata": {},
   "outputs": [
    {
     "name": "stdout",
     "output_type": "stream",
     "text": [
      "Threshold sum per card per day: 53064.52 rubles. Mean sum: 3562.26.\n",
      "    Amount of outliers so far: 390.\n",
      "Thresold for count: 536.4578857920889; average amount of operations: 31.000072896548016.\n",
      "    Amount of outliers so far: 35.\n",
      "    \n",
      "Returned DataFrame with length 401\n"
     ]
    }
   ],
   "source": [
    "sep_df = return_expected_outliers('09_prepared.pkl.bz2')"
   ]
  },
  {
   "cell_type": "code",
   "execution_count": 6,
   "id": "supposed-administrator",
   "metadata": {},
   "outputs": [
    {
     "name": "stdout",
     "output_type": "stream",
     "text": [
      "Threshold sum per card per day: 57318.34 rubles. Mean sum: 3888.71.\n",
      "    Amount of outliers so far: 376.\n",
      "Thresold for count: 577.6142678863583; average amount of operations: 33.81559956626326.\n",
      "    Amount of outliers so far: 52.\n",
      "    \n",
      "Returned DataFrame with length 389\n"
     ]
    }
   ],
   "source": [
    "oct_df = return_expected_outliers('10_prepared.pkl.bz2')"
   ]
  },
  {
   "cell_type": "code",
   "execution_count": 7,
   "id": "general-comedy",
   "metadata": {},
   "outputs": [
    {
     "name": "stdout",
     "output_type": "stream",
     "text": [
      "Threshold sum per card per day: 64112.61 rubles. Mean sum: 4161.58.\n",
      "    Amount of outliers so far: 214.\n",
      "Thresold for count: 643.5709774036437; average amount of operations: 34.81959219924545.\n",
      "    Amount of outliers so far: 12.\n",
      "    \n",
      "Returned DataFrame with length 214\n"
     ]
    }
   ],
   "source": [
    "nov_df = return_expected_outliers('11_prepared.pkl.bz2')"
   ]
  },
  {
   "cell_type": "code",
   "execution_count": 14,
   "id": "descending-washington",
   "metadata": {},
   "outputs": [],
   "source": [
    "res_df = pd.concat([sep_df, oct_df, nov_df]).drop_duplicates()\n",
    "\n",
    "with bz2.open('outliers_df.pkl.bz2', 'wb') as f:\n",
    "    pickle.dump(res_df, f, protocol=4)"
   ]
  }
 ],
 "metadata": {
  "kernelspec": {
   "display_name": "Python 3",
   "language": "python",
   "name": "python3"
  },
  "language_info": {
   "codemirror_mode": {
    "name": "ipython",
    "version": 3
   },
   "file_extension": ".py",
   "mimetype": "text/x-python",
   "name": "python",
   "nbconvert_exporter": "python",
   "pygments_lexer": "ipython3",
   "version": "3.8.5"
  }
 },
 "nbformat": 4,
 "nbformat_minor": 5
}
