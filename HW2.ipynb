{
  "nbformat": 4,
  "nbformat_minor": 0,
  "metadata": {
    "kernelspec": {
      "name": "python3",
      "display_name": "Python 3"
    },
    "colab": {
      "name": "HW2.ipynb",
      "provenance": []
    },
    "language_info": {
      "name": "python"
    }
  },
  "cells": [
    {
      "cell_type": "code",
      "metadata": {
        "id": "hiCkOpr7-ooC"
      },
      "source": [
        "from pathlib import Path\n",
        "import pandas as pd\n",
        "import gc\n",
        "from sklearn.preprocessing import LabelEncoder\n",
        "import pickle\n",
        "import bz2"
      ],
      "execution_count": 3,
      "outputs": []
    },
    {
      "cell_type": "markdown",
      "metadata": {
        "id": "Qij05tG6-ooN"
      },
      "source": [
        "Download https://drive.google.com/drive/folders/1BZFez3OFs7QMzeDUz-8E0SgnRy227pnG"
      ]
    },
    {
      "cell_type": "code",
      "metadata": {
        "colab": {
          "base_uri": "https://localhost:8080/"
        },
        "id": "T92ZQ2Obdje6",
        "outputId": "672846f3-1275-4050-ff28-7a084ed819b0"
      },
      "source": [
        "from google.colab import drive\n",
        "drive.mount('/content/drive')"
      ],
      "execution_count": 9,
      "outputs": [
        {
          "output_type": "stream",
          "text": [
            "Mounted at /content/drive\n"
          ],
          "name": "stdout"
        }
      ]
    },
    {
      "cell_type": "markdown",
      "metadata": {
        "id": "A-BRCKIb-ooP"
      },
      "source": [
        "Unzip"
      ]
    },
    {
      "cell_type": "markdown",
      "metadata": {
        "id": "GnBfULHG-ooQ"
      },
      "source": [
        "!mkdir data\n",
        "!tar -xf inno_stats.tar.gz -C ./data"
      ]
    },
    {
      "cell_type": "code",
      "metadata": {
        "id": "7NvuTAsL_4qY",
        "colab": {
          "base_uri": "https://localhost:8080/"
        },
        "outputId": "c69b24b8-cd28-4909-c420-db1f2c3f2e14"
      },
      "source": [
        "!mkdir data\n",
        "!tar -xf \"drive/MyDrive/inno_stats.tar.gz\" -C ./data"
      ],
      "execution_count": 10,
      "outputs": [
        {
          "output_type": "stream",
          "text": [
            "mkdir: cannot create directory ‘data’: File exists\n"
          ],
          "name": "stdout"
        }
      ]
    },
    {
      "cell_type": "code",
      "metadata": {
        "colab": {
          "base_uri": "https://localhost:8080/"
        },
        "id": "jMtH82Wj-ooR",
        "outputId": "cfe60f97-54d9-4a19-a3da-da1d27ac437a"
      },
      "source": [
        "data_path = Path('./data/').resolve()\n",
        "!ls {data_path}"
      ],
      "execution_count": 4,
      "outputs": [
        {
          "output_type": "stream",
          "text": [
            "09_groups.csv  10_groups.csv  11_groups.csv  bad_ids.csv  product_groups.csv\n"
          ],
          "name": "stdout"
        }
      ]
    },
    {
      "cell_type": "code",
      "metadata": {
        "colab": {
          "base_uri": "https://localhost:8080/",
          "height": 195
        },
        "id": "ODRUj8j7-ooT",
        "outputId": "48156348-b9f9-40ed-9371-c9510b7ca71a"
      },
      "source": [
        "df = pd.read_csv('./data/09_groups.csv')\n",
        "df.head()"
      ],
      "execution_count": 5,
      "outputs": [
        {
          "output_type": "execute_result",
          "data": {
            "text/html": [
              "<div>\n",
              "<style scoped>\n",
              "    .dataframe tbody tr th:only-of-type {\n",
              "        vertical-align: middle;\n",
              "    }\n",
              "\n",
              "    .dataframe tbody tr th {\n",
              "        vertical-align: top;\n",
              "    }\n",
              "\n",
              "    .dataframe thead th {\n",
              "        text-align: right;\n",
              "    }\n",
              "</style>\n",
              "<table border=\"1\" class=\"dataframe\">\n",
              "  <thead>\n",
              "    <tr style=\"text-align: right;\">\n",
              "      <th></th>\n",
              "      <th>date</th>\n",
              "      <th>id_doc</th>\n",
              "      <th>id_order</th>\n",
              "      <th>id_card</th>\n",
              "      <th>id_tov</th>\n",
              "      <th>id_kontr</th>\n",
              "      <th>quantity</th>\n",
              "      <th>sum</th>\n",
              "      <th>is_green</th>\n",
              "      <th>id_group</th>\n",
              "    </tr>\n",
              "  </thead>\n",
              "  <tbody>\n",
              "    <tr>\n",
              "      <th>0</th>\n",
              "      <td>2020-09-01 17:01:25</td>\n",
              "      <td>1283228</td>\n",
              "      <td>0.0</td>\n",
              "      <td>1538855</td>\n",
              "      <td>52</td>\n",
              "      <td>271</td>\n",
              "      <td>1.0</td>\n",
              "      <td>108.00</td>\n",
              "      <td>0</td>\n",
              "      <td>10004</td>\n",
              "    </tr>\n",
              "    <tr>\n",
              "      <th>1</th>\n",
              "      <td>2020-09-01 17:35:36</td>\n",
              "      <td>8873113</td>\n",
              "      <td>0.0</td>\n",
              "      <td>267307</td>\n",
              "      <td>52</td>\n",
              "      <td>271</td>\n",
              "      <td>1.0</td>\n",
              "      <td>108.00</td>\n",
              "      <td>0</td>\n",
              "      <td>10004</td>\n",
              "    </tr>\n",
              "    <tr>\n",
              "      <th>2</th>\n",
              "      <td>2020-09-01 19:19:21</td>\n",
              "      <td>12712899</td>\n",
              "      <td>0.0</td>\n",
              "      <td>610220</td>\n",
              "      <td>52</td>\n",
              "      <td>271</td>\n",
              "      <td>1.0</td>\n",
              "      <td>107.95</td>\n",
              "      <td>0</td>\n",
              "      <td>10004</td>\n",
              "    </tr>\n",
              "    <tr>\n",
              "      <th>3</th>\n",
              "      <td>2020-09-01 21:53:34</td>\n",
              "      <td>21535283</td>\n",
              "      <td>0.0</td>\n",
              "      <td>441497</td>\n",
              "      <td>52</td>\n",
              "      <td>271</td>\n",
              "      <td>1.0</td>\n",
              "      <td>108.00</td>\n",
              "      <td>0</td>\n",
              "      <td>10004</td>\n",
              "    </tr>\n",
              "    <tr>\n",
              "      <th>4</th>\n",
              "      <td>2020-09-01 18:42:31</td>\n",
              "      <td>642341</td>\n",
              "      <td>0.0</td>\n",
              "      <td>1065358</td>\n",
              "      <td>61</td>\n",
              "      <td>97</td>\n",
              "      <td>2.0</td>\n",
              "      <td>88.00</td>\n",
              "      <td>0</td>\n",
              "      <td>10091</td>\n",
              "    </tr>\n",
              "  </tbody>\n",
              "</table>\n",
              "</div>"
            ],
            "text/plain": [
              "                  date    id_doc  id_order  ...     sum  is_green  id_group\n",
              "0  2020-09-01 17:01:25   1283228       0.0  ...  108.00         0     10004\n",
              "1  2020-09-01 17:35:36   8873113       0.0  ...  108.00         0     10004\n",
              "2  2020-09-01 19:19:21  12712899       0.0  ...  107.95         0     10004\n",
              "3  2020-09-01 21:53:34  21535283       0.0  ...  108.00         0     10004\n",
              "4  2020-09-01 18:42:31    642341       0.0  ...   88.00         0     10091\n",
              "\n",
              "[5 rows x 10 columns]"
            ]
          },
          "metadata": {
            "tags": []
          },
          "execution_count": 5
        }
      ]
    },
    {
      "cell_type": "code",
      "metadata": {
        "colab": {
          "base_uri": "https://localhost:8080/"
        },
        "id": "gwAmmMTGCamV",
        "outputId": "799234c2-f447-40bc-8aa9-13f1cdd61742"
      },
      "source": [
        "df.shape"
      ],
      "execution_count": 6,
      "outputs": [
        {
          "output_type": "execute_result",
          "data": {
            "text/plain": [
              "(42100858, 10)"
            ]
          },
          "metadata": {
            "tags": []
          },
          "execution_count": 6
        }
      ]
    },
    {
      "cell_type": "code",
      "metadata": {
        "colab": {
          "base_uri": "https://localhost:8080/",
          "height": 195
        },
        "id": "VdDIU9B_B7ll",
        "outputId": "ca0fda4d-5ac9-4480-a2a2-37e38531567c"
      },
      "source": [
        "bad_ids = pd.read_csv('./data/bad_ids.csv')\n",
        "bad_ids.head()"
      ],
      "execution_count": 7,
      "outputs": [
        {
          "output_type": "execute_result",
          "data": {
            "text/html": [
              "<div>\n",
              "<style scoped>\n",
              "    .dataframe tbody tr th:only-of-type {\n",
              "        vertical-align: middle;\n",
              "    }\n",
              "\n",
              "    .dataframe tbody tr th {\n",
              "        vertical-align: top;\n",
              "    }\n",
              "\n",
              "    .dataframe thead th {\n",
              "        text-align: right;\n",
              "    }\n",
              "</style>\n",
              "<table border=\"1\" class=\"dataframe\">\n",
              "  <thead>\n",
              "    <tr style=\"text-align: right;\">\n",
              "      <th></th>\n",
              "      <th>Unnamed: 0</th>\n",
              "      <th>id_card</th>\n",
              "    </tr>\n",
              "  </thead>\n",
              "  <tbody>\n",
              "    <tr>\n",
              "      <th>0</th>\n",
              "      <td>0</td>\n",
              "      <td>806096</td>\n",
              "    </tr>\n",
              "    <tr>\n",
              "      <th>1</th>\n",
              "      <td>1</td>\n",
              "      <td>1438102</td>\n",
              "    </tr>\n",
              "    <tr>\n",
              "      <th>2</th>\n",
              "      <td>2</td>\n",
              "      <td>72344</td>\n",
              "    </tr>\n",
              "    <tr>\n",
              "      <th>3</th>\n",
              "      <td>3</td>\n",
              "      <td>427981</td>\n",
              "    </tr>\n",
              "    <tr>\n",
              "      <th>4</th>\n",
              "      <td>4</td>\n",
              "      <td>1528414</td>\n",
              "    </tr>\n",
              "  </tbody>\n",
              "</table>\n",
              "</div>"
            ],
            "text/plain": [
              "   Unnamed: 0  id_card\n",
              "0           0   806096\n",
              "1           1  1438102\n",
              "2           2    72344\n",
              "3           3   427981\n",
              "4           4  1528414"
            ]
          },
          "metadata": {
            "tags": []
          },
          "execution_count": 7
        }
      ]
    },
    {
      "cell_type": "code",
      "metadata": {
        "colab": {
          "base_uri": "https://localhost:8080/",
          "height": 195
        },
        "id": "4AX0UF-XCBQs",
        "outputId": "62e71a2a-fb12-4059-996a-44e676e31954"
      },
      "source": [
        "df = df[~df['id_card'].isin(bad_ids['id_card'].values)]\n",
        "df.head()"
      ],
      "execution_count": 8,
      "outputs": [
        {
          "output_type": "execute_result",
          "data": {
            "text/html": [
              "<div>\n",
              "<style scoped>\n",
              "    .dataframe tbody tr th:only-of-type {\n",
              "        vertical-align: middle;\n",
              "    }\n",
              "\n",
              "    .dataframe tbody tr th {\n",
              "        vertical-align: top;\n",
              "    }\n",
              "\n",
              "    .dataframe thead th {\n",
              "        text-align: right;\n",
              "    }\n",
              "</style>\n",
              "<table border=\"1\" class=\"dataframe\">\n",
              "  <thead>\n",
              "    <tr style=\"text-align: right;\">\n",
              "      <th></th>\n",
              "      <th>date</th>\n",
              "      <th>id_doc</th>\n",
              "      <th>id_order</th>\n",
              "      <th>id_card</th>\n",
              "      <th>id_tov</th>\n",
              "      <th>id_kontr</th>\n",
              "      <th>quantity</th>\n",
              "      <th>sum</th>\n",
              "      <th>is_green</th>\n",
              "      <th>id_group</th>\n",
              "    </tr>\n",
              "  </thead>\n",
              "  <tbody>\n",
              "    <tr>\n",
              "      <th>0</th>\n",
              "      <td>2020-09-01 17:01:25</td>\n",
              "      <td>1283228</td>\n",
              "      <td>0.0</td>\n",
              "      <td>1538855</td>\n",
              "      <td>52</td>\n",
              "      <td>271</td>\n",
              "      <td>1.0</td>\n",
              "      <td>108.00</td>\n",
              "      <td>0</td>\n",
              "      <td>10004</td>\n",
              "    </tr>\n",
              "    <tr>\n",
              "      <th>1</th>\n",
              "      <td>2020-09-01 17:35:36</td>\n",
              "      <td>8873113</td>\n",
              "      <td>0.0</td>\n",
              "      <td>267307</td>\n",
              "      <td>52</td>\n",
              "      <td>271</td>\n",
              "      <td>1.0</td>\n",
              "      <td>108.00</td>\n",
              "      <td>0</td>\n",
              "      <td>10004</td>\n",
              "    </tr>\n",
              "    <tr>\n",
              "      <th>2</th>\n",
              "      <td>2020-09-01 19:19:21</td>\n",
              "      <td>12712899</td>\n",
              "      <td>0.0</td>\n",
              "      <td>610220</td>\n",
              "      <td>52</td>\n",
              "      <td>271</td>\n",
              "      <td>1.0</td>\n",
              "      <td>107.95</td>\n",
              "      <td>0</td>\n",
              "      <td>10004</td>\n",
              "    </tr>\n",
              "    <tr>\n",
              "      <th>3</th>\n",
              "      <td>2020-09-01 21:53:34</td>\n",
              "      <td>21535283</td>\n",
              "      <td>0.0</td>\n",
              "      <td>441497</td>\n",
              "      <td>52</td>\n",
              "      <td>271</td>\n",
              "      <td>1.0</td>\n",
              "      <td>108.00</td>\n",
              "      <td>0</td>\n",
              "      <td>10004</td>\n",
              "    </tr>\n",
              "    <tr>\n",
              "      <th>4</th>\n",
              "      <td>2020-09-01 18:42:31</td>\n",
              "      <td>642341</td>\n",
              "      <td>0.0</td>\n",
              "      <td>1065358</td>\n",
              "      <td>61</td>\n",
              "      <td>97</td>\n",
              "      <td>2.0</td>\n",
              "      <td>88.00</td>\n",
              "      <td>0</td>\n",
              "      <td>10091</td>\n",
              "    </tr>\n",
              "  </tbody>\n",
              "</table>\n",
              "</div>"
            ],
            "text/plain": [
              "                  date    id_doc  id_order  ...     sum  is_green  id_group\n",
              "0  2020-09-01 17:01:25   1283228       0.0  ...  108.00         0     10004\n",
              "1  2020-09-01 17:35:36   8873113       0.0  ...  108.00         0     10004\n",
              "2  2020-09-01 19:19:21  12712899       0.0  ...  107.95         0     10004\n",
              "3  2020-09-01 21:53:34  21535283       0.0  ...  108.00         0     10004\n",
              "4  2020-09-01 18:42:31    642341       0.0  ...   88.00         0     10091\n",
              "\n",
              "[5 rows x 10 columns]"
            ]
          },
          "metadata": {
            "tags": []
          },
          "execution_count": 8
        }
      ]
    },
    {
      "cell_type": "code",
      "metadata": {
        "colab": {
          "base_uri": "https://localhost:8080/"
        },
        "id": "yYrDL07nCpRT",
        "outputId": "b1547d7c-dfdb-4e24-8226-0bf53b900c6f"
      },
      "source": [
        "df.shape"
      ],
      "execution_count": 16,
      "outputs": [
        {
          "output_type": "execute_result",
          "data": {
            "text/plain": [
              "(38466003, 10)"
            ]
          },
          "metadata": {
            "tags": []
          },
          "execution_count": 16
        }
      ]
    },
    {
      "cell_type": "code",
      "metadata": {
        "colab": {
          "base_uri": "https://localhost:8080/",
          "height": 195
        },
        "id": "SbIt4WsvDaFC",
        "outputId": "501a7a7a-f918-42e7-cd91-9a00edaba6d5"
      },
      "source": [
        "p_g = pd.read_csv('./data/product_groups.csv', delimiter=';', encoding='windows-1251')\n",
        "p_g.head()"
      ],
      "execution_count": 11,
      "outputs": [
        {
          "output_type": "execute_result",
          "data": {
            "text/html": [
              "<div>\n",
              "<style scoped>\n",
              "    .dataframe tbody tr th:only-of-type {\n",
              "        vertical-align: middle;\n",
              "    }\n",
              "\n",
              "    .dataframe tbody tr th {\n",
              "        vertical-align: top;\n",
              "    }\n",
              "\n",
              "    .dataframe thead th {\n",
              "        text-align: right;\n",
              "    }\n",
              "</style>\n",
              "<table border=\"1\" class=\"dataframe\">\n",
              "  <thead>\n",
              "    <tr style=\"text-align: right;\">\n",
              "      <th></th>\n",
              "      <th>id_tov</th>\n",
              "      <th>id_group</th>\n",
              "      <th>name_group</th>\n",
              "    </tr>\n",
              "  </thead>\n",
              "  <tbody>\n",
              "    <tr>\n",
              "      <th>0</th>\n",
              "      <td>52</td>\n",
              "      <td>10004</td>\n",
              "      <td>Кисломолочные продукты</td>\n",
              "    </tr>\n",
              "    <tr>\n",
              "      <th>1</th>\n",
              "      <td>75</td>\n",
              "      <td>10004</td>\n",
              "      <td>Кисломолочные продукты</td>\n",
              "    </tr>\n",
              "    <tr>\n",
              "      <th>2</th>\n",
              "      <td>77</td>\n",
              "      <td>10004</td>\n",
              "      <td>Кисломолочные продукты</td>\n",
              "    </tr>\n",
              "    <tr>\n",
              "      <th>3</th>\n",
              "      <td>143</td>\n",
              "      <td>10004</td>\n",
              "      <td>Кисломолочные продукты</td>\n",
              "    </tr>\n",
              "    <tr>\n",
              "      <th>4</th>\n",
              "      <td>151</td>\n",
              "      <td>10004</td>\n",
              "      <td>Кисломолочные продукты</td>\n",
              "    </tr>\n",
              "  </tbody>\n",
              "</table>\n",
              "</div>"
            ],
            "text/plain": [
              "   id_tov  id_group              name_group\n",
              "0      52     10004  Кисломолочные продукты\n",
              "1      75     10004  Кисломолочные продукты\n",
              "2      77     10004  Кисломолочные продукты\n",
              "3     143     10004  Кисломолочные продукты\n",
              "4     151     10004  Кисломолочные продукты"
            ]
          },
          "metadata": {
            "tags": []
          },
          "execution_count": 11
        }
      ]
    },
    {
      "cell_type": "markdown",
      "metadata": {
        "id": "g45MT36J-ooY"
      },
      "source": [
        "## Task 1\n",
        "\n",
        "Prove that buying discounted products depends on the average order sum. (It is more probable that the discounted product will be bought if bunch of money is going to be spend)"
      ]
    },
    {
      "cell_type": "code",
      "metadata": {
        "id": "d-dsUK7IGkDg"
      },
      "source": [
        "from scipy.stats import ttest_ind"
      ],
      "execution_count": 12,
      "outputs": []
    },
    {
      "cell_type": "code",
      "metadata": {
        "id": "AIjPWp21FOTf"
      },
      "source": [
        "df['is_green'] = df['is_green'].astype(bool)"
      ],
      "execution_count": 13,
      "outputs": []
    },
    {
      "cell_type": "code",
      "metadata": {
        "colab": {
          "base_uri": "https://localhost:8080/",
          "height": 225
        },
        "id": "JeVlIzb6-ooY",
        "outputId": "9b29f4f1-9c1e-473a-94c9-e51b5ae462d3"
      },
      "source": [
        "disc_docs = df[df['is_green']].groupby(['id_doc']).sum()\n",
        "disc_docs.head()"
      ],
      "execution_count": 14,
      "outputs": [
        {
          "output_type": "execute_result",
          "data": {
            "text/html": [
              "<div>\n",
              "<style scoped>\n",
              "    .dataframe tbody tr th:only-of-type {\n",
              "        vertical-align: middle;\n",
              "    }\n",
              "\n",
              "    .dataframe tbody tr th {\n",
              "        vertical-align: top;\n",
              "    }\n",
              "\n",
              "    .dataframe thead th {\n",
              "        text-align: right;\n",
              "    }\n",
              "</style>\n",
              "<table border=\"1\" class=\"dataframe\">\n",
              "  <thead>\n",
              "    <tr style=\"text-align: right;\">\n",
              "      <th></th>\n",
              "      <th>id_order</th>\n",
              "      <th>id_card</th>\n",
              "      <th>id_tov</th>\n",
              "      <th>id_kontr</th>\n",
              "      <th>quantity</th>\n",
              "      <th>sum</th>\n",
              "      <th>is_green</th>\n",
              "      <th>id_group</th>\n",
              "    </tr>\n",
              "    <tr>\n",
              "      <th>id_doc</th>\n",
              "      <th></th>\n",
              "      <th></th>\n",
              "      <th></th>\n",
              "      <th></th>\n",
              "      <th></th>\n",
              "      <th></th>\n",
              "      <th></th>\n",
              "      <th></th>\n",
              "    </tr>\n",
              "  </thead>\n",
              "  <tbody>\n",
              "    <tr>\n",
              "      <th>19</th>\n",
              "      <td>0.0</td>\n",
              "      <td>2845203</td>\n",
              "      <td>66378</td>\n",
              "      <td>29752</td>\n",
              "      <td>3.0</td>\n",
              "      <td>165.0</td>\n",
              "      <td>3</td>\n",
              "      <td>30206</td>\n",
              "    </tr>\n",
              "    <tr>\n",
              "      <th>60</th>\n",
              "      <td>0.0</td>\n",
              "      <td>82961</td>\n",
              "      <td>33233</td>\n",
              "      <td>12936</td>\n",
              "      <td>1.0</td>\n",
              "      <td>54.6</td>\n",
              "      <td>1</td>\n",
              "      <td>10037</td>\n",
              "    </tr>\n",
              "    <tr>\n",
              "      <th>76</th>\n",
              "      <td>0.0</td>\n",
              "      <td>534316</td>\n",
              "      <td>22449</td>\n",
              "      <td>11994</td>\n",
              "      <td>1.0</td>\n",
              "      <td>114.6</td>\n",
              "      <td>1</td>\n",
              "      <td>10043</td>\n",
              "    </tr>\n",
              "    <tr>\n",
              "      <th>138</th>\n",
              "      <td>0.0</td>\n",
              "      <td>3083781</td>\n",
              "      <td>519</td>\n",
              "      <td>46155</td>\n",
              "      <td>3.0</td>\n",
              "      <td>93.0</td>\n",
              "      <td>3</td>\n",
              "      <td>30273</td>\n",
              "    </tr>\n",
              "    <tr>\n",
              "      <th>152</th>\n",
              "      <td>0.0</td>\n",
              "      <td>3250490</td>\n",
              "      <td>44797</td>\n",
              "      <td>12236</td>\n",
              "      <td>2.0</td>\n",
              "      <td>99.6</td>\n",
              "      <td>2</td>\n",
              "      <td>20203</td>\n",
              "    </tr>\n",
              "  </tbody>\n",
              "</table>\n",
              "</div>"
            ],
            "text/plain": [
              "        id_order  id_card  id_tov  ...    sum  is_green  id_group\n",
              "id_doc                             ...                           \n",
              "19           0.0  2845203   66378  ...  165.0         3     30206\n",
              "60           0.0    82961   33233  ...   54.6         1     10037\n",
              "76           0.0   534316   22449  ...  114.6         1     10043\n",
              "138          0.0  3083781     519  ...   93.0         3     30273\n",
              "152          0.0  3250490   44797  ...   99.6         2     20203\n",
              "\n",
              "[5 rows x 8 columns]"
            ]
          },
          "metadata": {
            "tags": []
          },
          "execution_count": 14
        }
      ]
    },
    {
      "cell_type": "code",
      "metadata": {
        "id": "L6C43tGqO4PL"
      },
      "source": [
        "disc_docs = disc_docs['sum']"
      ],
      "execution_count": 15,
      "outputs": []
    },
    {
      "cell_type": "code",
      "metadata": {
        "id": "JXeBCLgKGKG0"
      },
      "source": [
        "nondisc_docs = df[~df['is_green']].sample(len(disc_docs)).groupby(['id_doc']).sum()['sum']"
      ],
      "execution_count": 17,
      "outputs": []
    },
    {
      "cell_type": "code",
      "metadata": {
        "colab": {
          "base_uri": "https://localhost:8080/"
        },
        "id": "LHy10_L5RwC0",
        "outputId": "1f05ef61-e10f-443d-da87-96ca6fc0d9a9"
      },
      "source": [
        "nondisc_docs"
      ],
      "execution_count": 18,
      "outputs": [
        {
          "output_type": "execute_result",
          "data": {
            "text/plain": [
              "id_doc\n",
              "50          565.35\n",
              "66          204.00\n",
              "85           92.00\n",
              "102         105.00\n",
              "117          29.00\n",
              "             ...  \n",
              "23417720     68.00\n",
              "23417727     45.00\n",
              "23417771    100.00\n",
              "23417788     63.00\n",
              "23417853    258.20\n",
              "Name: sum, Length: 940947, dtype: float64"
            ]
          },
          "metadata": {
            "tags": []
          },
          "execution_count": 18
        }
      ]
    },
    {
      "cell_type": "code",
      "metadata": {
        "colab": {
          "base_uri": "https://localhost:8080/"
        },
        "id": "C8x8yufdRo6N",
        "outputId": "b973a5de-a379-4ed2-df5b-3931f5df4b08"
      },
      "source": [
        "ttest_ind(disc_docs, nondisc_docs)"
      ],
      "execution_count": 20,
      "outputs": [
        {
          "output_type": "execute_result",
          "data": {
            "text/plain": [
              "Ttest_indResult(statistic=224.46282541603176, pvalue=0.0)"
            ]
          },
          "metadata": {
            "tags": []
          },
          "execution_count": 20
        }
      ]
    },
    {
      "cell_type": "code",
      "metadata": {
        "colab": {
          "base_uri": "https://localhost:8080/"
        },
        "id": "pC79GVgHFZqy",
        "outputId": "f7076ed5-f294-4132-f014-d64e8788446a"
      },
      "source": [
        "disc_docs.mean()"
      ],
      "execution_count": 16,
      "outputs": [
        {
          "output_type": "execute_result",
          "data": {
            "text/plain": [
              "190.68263650300798"
            ]
          },
          "metadata": {
            "tags": []
          },
          "execution_count": 16
        }
      ]
    },
    {
      "cell_type": "code",
      "metadata": {
        "colab": {
          "base_uri": "https://localhost:8080/"
        },
        "id": "GGjrZJzIGQn1",
        "outputId": "a041ec8c-1ecc-4c36-818c-0e7a558e67b1"
      },
      "source": [
        "nondisc_docs.mean()"
      ],
      "execution_count": 19,
      "outputs": [
        {
          "output_type": "execute_result",
          "data": {
            "text/plain": [
              "134.34779551875218"
            ]
          },
          "metadata": {
            "tags": []
          },
          "execution_count": 19
        }
      ]
    },
    {
      "cell_type": "markdown",
      "metadata": {
        "id": "6l4hzmlAULd-"
      },
      "source": [
        "P-value is 0, so null hypothesis is rejected. We also see that the average for discounted checks is greater than the average for non-discounted checks."
      ]
    },
    {
      "cell_type": "markdown",
      "metadata": {
        "id": "9tU9quoF-ooZ"
      },
      "source": [
        "## Task 2\n",
        "Prove that the frequency of shopping grows around the wage taking days."
      ]
    },
    {
      "cell_type": "code",
      "metadata": {
        "id": "X4Q64uSsV8s9"
      },
      "source": [
        "import matplotlib.pyplot as plt"
      ],
      "execution_count": 11,
      "outputs": []
    },
    {
      "cell_type": "code",
      "metadata": {
        "colab": {
          "base_uri": "https://localhost:8080/",
          "height": 195
        },
        "id": "fpP5uDxQ-ooa",
        "outputId": "22037e42-ee60-4e13-bcb7-53660edaf4e4"
      },
      "source": [
        "df['date'] = pd.to_datetime(df['date'], format='%Y-%m-%d %H:%M:%S')\n",
        "df.head()"
      ],
      "execution_count": 22,
      "outputs": [
        {
          "output_type": "execute_result",
          "data": {
            "text/html": [
              "<div>\n",
              "<style scoped>\n",
              "    .dataframe tbody tr th:only-of-type {\n",
              "        vertical-align: middle;\n",
              "    }\n",
              "\n",
              "    .dataframe tbody tr th {\n",
              "        vertical-align: top;\n",
              "    }\n",
              "\n",
              "    .dataframe thead th {\n",
              "        text-align: right;\n",
              "    }\n",
              "</style>\n",
              "<table border=\"1\" class=\"dataframe\">\n",
              "  <thead>\n",
              "    <tr style=\"text-align: right;\">\n",
              "      <th></th>\n",
              "      <th>date</th>\n",
              "      <th>id_doc</th>\n",
              "      <th>id_order</th>\n",
              "      <th>id_card</th>\n",
              "      <th>id_tov</th>\n",
              "      <th>id_kontr</th>\n",
              "      <th>quantity</th>\n",
              "      <th>sum</th>\n",
              "      <th>is_green</th>\n",
              "      <th>id_group</th>\n",
              "    </tr>\n",
              "  </thead>\n",
              "  <tbody>\n",
              "    <tr>\n",
              "      <th>0</th>\n",
              "      <td>2020-09-01 17:01:25</td>\n",
              "      <td>1283228</td>\n",
              "      <td>0.0</td>\n",
              "      <td>1538855</td>\n",
              "      <td>52</td>\n",
              "      <td>271</td>\n",
              "      <td>1.0</td>\n",
              "      <td>108.00</td>\n",
              "      <td>False</td>\n",
              "      <td>10004</td>\n",
              "    </tr>\n",
              "    <tr>\n",
              "      <th>1</th>\n",
              "      <td>2020-09-01 17:35:36</td>\n",
              "      <td>8873113</td>\n",
              "      <td>0.0</td>\n",
              "      <td>267307</td>\n",
              "      <td>52</td>\n",
              "      <td>271</td>\n",
              "      <td>1.0</td>\n",
              "      <td>108.00</td>\n",
              "      <td>False</td>\n",
              "      <td>10004</td>\n",
              "    </tr>\n",
              "    <tr>\n",
              "      <th>2</th>\n",
              "      <td>2020-09-01 19:19:21</td>\n",
              "      <td>12712899</td>\n",
              "      <td>0.0</td>\n",
              "      <td>610220</td>\n",
              "      <td>52</td>\n",
              "      <td>271</td>\n",
              "      <td>1.0</td>\n",
              "      <td>107.95</td>\n",
              "      <td>False</td>\n",
              "      <td>10004</td>\n",
              "    </tr>\n",
              "    <tr>\n",
              "      <th>3</th>\n",
              "      <td>2020-09-01 21:53:34</td>\n",
              "      <td>21535283</td>\n",
              "      <td>0.0</td>\n",
              "      <td>441497</td>\n",
              "      <td>52</td>\n",
              "      <td>271</td>\n",
              "      <td>1.0</td>\n",
              "      <td>108.00</td>\n",
              "      <td>False</td>\n",
              "      <td>10004</td>\n",
              "    </tr>\n",
              "    <tr>\n",
              "      <th>4</th>\n",
              "      <td>2020-09-01 18:42:31</td>\n",
              "      <td>642341</td>\n",
              "      <td>0.0</td>\n",
              "      <td>1065358</td>\n",
              "      <td>61</td>\n",
              "      <td>97</td>\n",
              "      <td>2.0</td>\n",
              "      <td>88.00</td>\n",
              "      <td>False</td>\n",
              "      <td>10091</td>\n",
              "    </tr>\n",
              "  </tbody>\n",
              "</table>\n",
              "</div>"
            ],
            "text/plain": [
              "                 date    id_doc  id_order  ...     sum  is_green  id_group\n",
              "0 2020-09-01 17:01:25   1283228       0.0  ...  108.00     False     10004\n",
              "1 2020-09-01 17:35:36   8873113       0.0  ...  108.00     False     10004\n",
              "2 2020-09-01 19:19:21  12712899       0.0  ...  107.95     False     10004\n",
              "3 2020-09-01 21:53:34  21535283       0.0  ...  108.00     False     10004\n",
              "4 2020-09-01 18:42:31    642341       0.0  ...   88.00     False     10091\n",
              "\n",
              "[5 rows x 10 columns]"
            ]
          },
          "metadata": {
            "tags": []
          },
          "execution_count": 22
        }
      ]
    },
    {
      "cell_type": "code",
      "metadata": {
        "colab": {
          "base_uri": "https://localhost:8080/",
          "height": 633
        },
        "id": "zFuAdIKHVafw",
        "outputId": "5230dd2d-392d-438f-e25d-9df5f0532acf"
      },
      "source": [
        "plt.figure(figsize=(10,10))\n",
        "df.groupby(df['date'].dt.day)['id_order'].count().plot()"
      ],
      "execution_count": 23,
      "outputs": [
        {
          "output_type": "execute_result",
          "data": {
            "text/plain": [
              "<matplotlib.axes._subplots.AxesSubplot at 0x7fca2f966390>"
            ]
          },
          "metadata": {
            "tags": []
          },
          "execution_count": 23
        },
        {
          "output_type": "display_data",
          "data": {
            "image/png": "[encoded data removed]",
            "text/plain": [
              "<Figure size 720x720 with 1 Axes>"
            ]
          },
          "metadata": {
            "tags": [],
            "needs_background": "light"
          }
        }
      ]
    },
    {
      "cell_type": "markdown",
      "metadata": {
        "id": "rqP2FnmlYkRk"
      },
      "source": [
        "The graph shows an increase in the number of purchases starting from the first and twentieth days of the month, but we also see an increase in the number of purchases on other days. And these peaks appear with a frequency of 7 days, so there is a dependence of the number of purchases on the day of the week, but there is no dependence between the wage days and the number of purchases."
      ]
    },
    {
      "cell_type": "markdown",
      "metadata": {
        "id": "yE8DSDvk-oob"
      },
      "source": [
        "## Task 3\n",
        "Define such cohort existance:\n",
        "1. Frequent buyers - The users that are shopping frequently(daily, weekly, monthly) \n",
        "2. Average purchase sum - The customers that usually spend the same amount of money \n",
        "3. Orders amount - The customers grouped by the total numer of orders \n",
        "4. Usual cart - The customers grouped by the product groups\n",
        "\n",
        "References\n",
        "- https://towardsdatascience.com/a-step-by-step-introduction-to-cohort-analysis-in-python-a2cbbd8460ea"
      ]
    },
    {
      "cell_type": "markdown",
      "metadata": {
        "id": "garrVAlaifTQ"
      },
      "source": [
        "\n",
        "Frequent buyers"
      ]
    },
    {
      "cell_type": "code",
      "metadata": {
        "id": "cwQ0DLu0-ood",
        "colab": {
          "base_uri": "https://localhost:8080/",
          "height": 402
        },
        "outputId": "0bc2fc42-d14c-4623-b2f0-6d5456a9cef8"
      },
      "source": [
        "customs = df.groupby(by=['id_card'])\n",
        "customs.head()"
      ],
      "execution_count": 9,
      "outputs": [
        {
          "output_type": "execute_result",
          "data": {
            "text/html": [
              "<div>\n",
              "<style scoped>\n",
              "    .dataframe tbody tr th:only-of-type {\n",
              "        vertical-align: middle;\n",
              "    }\n",
              "\n",
              "    .dataframe tbody tr th {\n",
              "        vertical-align: top;\n",
              "    }\n",
              "\n",
              "    .dataframe thead th {\n",
              "        text-align: right;\n",
              "    }\n",
              "</style>\n",
              "<table border=\"1\" class=\"dataframe\">\n",
              "  <thead>\n",
              "    <tr style=\"text-align: right;\">\n",
              "      <th></th>\n",
              "      <th>date</th>\n",
              "      <th>id_doc</th>\n",
              "      <th>id_order</th>\n",
              "      <th>id_card</th>\n",
              "      <th>id_tov</th>\n",
              "      <th>id_kontr</th>\n",
              "      <th>quantity</th>\n",
              "      <th>sum</th>\n",
              "      <th>is_green</th>\n",
              "      <th>id_group</th>\n",
              "    </tr>\n",
              "  </thead>\n",
              "  <tbody>\n",
              "    <tr>\n",
              "      <th>0</th>\n",
              "      <td>2020-09-01 17:01:25</td>\n",
              "      <td>1283228</td>\n",
              "      <td>0.0</td>\n",
              "      <td>1538855</td>\n",
              "      <td>52</td>\n",
              "      <td>271</td>\n",
              "      <td>1.0</td>\n",
              "      <td>108.00</td>\n",
              "      <td>0</td>\n",
              "      <td>10004</td>\n",
              "    </tr>\n",
              "    <tr>\n",
              "      <th>1</th>\n",
              "      <td>2020-09-01 17:35:36</td>\n",
              "      <td>8873113</td>\n",
              "      <td>0.0</td>\n",
              "      <td>267307</td>\n",
              "      <td>52</td>\n",
              "      <td>271</td>\n",
              "      <td>1.0</td>\n",
              "      <td>108.00</td>\n",
              "      <td>0</td>\n",
              "      <td>10004</td>\n",
              "    </tr>\n",
              "    <tr>\n",
              "      <th>2</th>\n",
              "      <td>2020-09-01 19:19:21</td>\n",
              "      <td>12712899</td>\n",
              "      <td>0.0</td>\n",
              "      <td>610220</td>\n",
              "      <td>52</td>\n",
              "      <td>271</td>\n",
              "      <td>1.0</td>\n",
              "      <td>107.95</td>\n",
              "      <td>0</td>\n",
              "      <td>10004</td>\n",
              "    </tr>\n",
              "    <tr>\n",
              "      <th>3</th>\n",
              "      <td>2020-09-01 21:53:34</td>\n",
              "      <td>21535283</td>\n",
              "      <td>0.0</td>\n",
              "      <td>441497</td>\n",
              "      <td>52</td>\n",
              "      <td>271</td>\n",
              "      <td>1.0</td>\n",
              "      <td>108.00</td>\n",
              "      <td>0</td>\n",
              "      <td>10004</td>\n",
              "    </tr>\n",
              "    <tr>\n",
              "      <th>4</th>\n",
              "      <td>2020-09-01 18:42:31</td>\n",
              "      <td>642341</td>\n",
              "      <td>0.0</td>\n",
              "      <td>1065358</td>\n",
              "      <td>61</td>\n",
              "      <td>97</td>\n",
              "      <td>2.0</td>\n",
              "      <td>88.00</td>\n",
              "      <td>0</td>\n",
              "      <td>10091</td>\n",
              "    </tr>\n",
              "    <tr>\n",
              "      <th>...</th>\n",
              "      <td>...</td>\n",
              "      <td>...</td>\n",
              "      <td>...</td>\n",
              "      <td>...</td>\n",
              "      <td>...</td>\n",
              "      <td>...</td>\n",
              "      <td>...</td>\n",
              "      <td>...</td>\n",
              "      <td>...</td>\n",
              "      <td>...</td>\n",
              "    </tr>\n",
              "    <tr>\n",
              "      <th>42100846</th>\n",
              "      <td>2020-09-30 12:48:53</td>\n",
              "      <td>6200411</td>\n",
              "      <td>0.0</td>\n",
              "      <td>1432778</td>\n",
              "      <td>22639</td>\n",
              "      <td>12970</td>\n",
              "      <td>1.0</td>\n",
              "      <td>188.00</td>\n",
              "      <td>0</td>\n",
              "      <td>10098</td>\n",
              "    </tr>\n",
              "    <tr>\n",
              "      <th>42100851</th>\n",
              "      <td>2020-09-30 08:36:05</td>\n",
              "      <td>21205108</td>\n",
              "      <td>0.0</td>\n",
              "      <td>500292</td>\n",
              "      <td>25023</td>\n",
              "      <td>16304</td>\n",
              "      <td>1.0</td>\n",
              "      <td>140.00</td>\n",
              "      <td>0</td>\n",
              "      <td>10196</td>\n",
              "    </tr>\n",
              "    <tr>\n",
              "      <th>42100855</th>\n",
              "      <td>2020-09-30 09:54:24</td>\n",
              "      <td>22816791</td>\n",
              "      <td>0.0</td>\n",
              "      <td>1432778</td>\n",
              "      <td>30741</td>\n",
              "      <td>19188</td>\n",
              "      <td>1.0</td>\n",
              "      <td>73.00</td>\n",
              "      <td>0</td>\n",
              "      <td>10254</td>\n",
              "    </tr>\n",
              "    <tr>\n",
              "      <th>42100856</th>\n",
              "      <td>2020-09-30 12:00:04</td>\n",
              "      <td>1648929</td>\n",
              "      <td>0.0</td>\n",
              "      <td>484390</td>\n",
              "      <td>34835</td>\n",
              "      <td>15916</td>\n",
              "      <td>1.0</td>\n",
              "      <td>78.00</td>\n",
              "      <td>0</td>\n",
              "      <td>10099</td>\n",
              "    </tr>\n",
              "    <tr>\n",
              "      <th>42100857</th>\n",
              "      <td>2020-09-30 09:37:16</td>\n",
              "      <td>22302533</td>\n",
              "      <td>0.0</td>\n",
              "      <td>557627</td>\n",
              "      <td>34835</td>\n",
              "      <td>15916</td>\n",
              "      <td>1.0</td>\n",
              "      <td>78.00</td>\n",
              "      <td>0</td>\n",
              "      <td>10099</td>\n",
              "    </tr>\n",
              "  </tbody>\n",
              "</table>\n",
              "<p>5936053 rows × 10 columns</p>\n",
              "</div>"
            ],
            "text/plain": [
              "                         date    id_doc  id_order  ...     sum  is_green  id_group\n",
              "0         2020-09-01 17:01:25   1283228       0.0  ...  108.00         0     10004\n",
              "1         2020-09-01 17:35:36   8873113       0.0  ...  108.00         0     10004\n",
              "2         2020-09-01 19:19:21  12712899       0.0  ...  107.95         0     10004\n",
              "3         2020-09-01 21:53:34  21535283       0.0  ...  108.00         0     10004\n",
              "4         2020-09-01 18:42:31    642341       0.0  ...   88.00         0     10091\n",
              "...                       ...       ...       ...  ...     ...       ...       ...\n",
              "42100846  2020-09-30 12:48:53   6200411       0.0  ...  188.00         0     10098\n",
              "42100851  2020-09-30 08:36:05  21205108       0.0  ...  140.00         0     10196\n",
              "42100855  2020-09-30 09:54:24  22816791       0.0  ...   73.00         0     10254\n",
              "42100856  2020-09-30 12:00:04   1648929       0.0  ...   78.00         0     10099\n",
              "42100857  2020-09-30 09:37:16  22302533       0.0  ...   78.00         0     10099\n",
              "\n",
              "[5936053 rows x 10 columns]"
            ]
          },
          "metadata": {
            "tags": []
          },
          "execution_count": 9
        }
      ]
    },
    {
      "cell_type": "markdown",
      "metadata": {
        "id": "mAxql5CninNU"
      },
      "source": [
        "\n",
        "Average purchase sum"
      ]
    },
    {
      "cell_type": "code",
      "metadata": {
        "colab": {
          "base_uri": "https://localhost:8080/",
          "height": 265
        },
        "id": "82A9OcBdinoh",
        "outputId": "7f46f6bb-2422-44a9-da3a-568a1651f2d9"
      },
      "source": [
        "df_aver = df.groupby('id_card')['sum'].std()\n",
        "df_aver = df_aver[df_aver  < 100]\n",
        "\n",
        "plt.hist(df_aver);"
      ],
      "execution_count": 12,
      "outputs": [
        {
          "output_type": "display_data",
          "data": {
            "image/png": "[encoded data removed]",
            "text/plain": [
              "<Figure size 432x288 with 1 Axes>"
            ]
          },
          "metadata": {
            "tags": [],
            "needs_background": "light"
          }
        }
      ]
    },
    {
      "cell_type": "markdown",
      "metadata": {
        "id": "sGGHlRp-j0qk"
      },
      "source": [
        "Orders amount"
      ]
    },
    {
      "cell_type": "code",
      "metadata": {
        "colab": {
          "base_uri": "https://localhost:8080/",
          "height": 431
        },
        "id": "Q2Aq-cb-jjqO",
        "outputId": "4a04de37-c970-4ca4-f631-d7cdf0b97c4e"
      },
      "source": [
        "customs = df.groupby(by=['id_card']).agg({\"id_doc\": \"nunique\"})\n",
        "customs = customs.groupby(by=['id_doc'])\n",
        "customs.head()"
      ],
      "execution_count": 13,
      "outputs": [
        {
          "output_type": "execute_result",
          "data": {
            "text/html": [
              "<div>\n",
              "<style scoped>\n",
              "    .dataframe tbody tr th:only-of-type {\n",
              "        vertical-align: middle;\n",
              "    }\n",
              "\n",
              "    .dataframe tbody tr th {\n",
              "        vertical-align: top;\n",
              "    }\n",
              "\n",
              "    .dataframe thead th {\n",
              "        text-align: right;\n",
              "    }\n",
              "</style>\n",
              "<table border=\"1\" class=\"dataframe\">\n",
              "  <thead>\n",
              "    <tr style=\"text-align: right;\">\n",
              "      <th></th>\n",
              "      <th>id_doc</th>\n",
              "    </tr>\n",
              "    <tr>\n",
              "      <th>id_card</th>\n",
              "      <th></th>\n",
              "    </tr>\n",
              "  </thead>\n",
              "  <tbody>\n",
              "    <tr>\n",
              "      <th>0</th>\n",
              "      <td>10</td>\n",
              "    </tr>\n",
              "    <tr>\n",
              "      <th>1</th>\n",
              "      <td>1</td>\n",
              "    </tr>\n",
              "    <tr>\n",
              "      <th>2</th>\n",
              "      <td>1</td>\n",
              "    </tr>\n",
              "    <tr>\n",
              "      <th>3</th>\n",
              "      <td>9</td>\n",
              "    </tr>\n",
              "    <tr>\n",
              "      <th>4</th>\n",
              "      <td>5</td>\n",
              "    </tr>\n",
              "    <tr>\n",
              "      <th>...</th>\n",
              "      <td>...</td>\n",
              "    </tr>\n",
              "    <tr>\n",
              "      <th>1609030</th>\n",
              "      <td>73</td>\n",
              "    </tr>\n",
              "    <tr>\n",
              "      <th>1789392</th>\n",
              "      <td>98</td>\n",
              "    </tr>\n",
              "    <tr>\n",
              "      <th>1808366</th>\n",
              "      <td>103</td>\n",
              "    </tr>\n",
              "    <tr>\n",
              "      <th>1817230</th>\n",
              "      <td>71</td>\n",
              "    </tr>\n",
              "    <tr>\n",
              "      <th>1818799</th>\n",
              "      <td>69</td>\n",
              "    </tr>\n",
              "  </tbody>\n",
              "</table>\n",
              "<p>377 rows × 1 columns</p>\n",
              "</div>"
            ],
            "text/plain": [
              "         id_doc\n",
              "id_card        \n",
              "0            10\n",
              "1             1\n",
              "2             1\n",
              "3             9\n",
              "4             5\n",
              "...         ...\n",
              "1609030      73\n",
              "1789392      98\n",
              "1808366     103\n",
              "1817230      71\n",
              "1818799      69\n",
              "\n",
              "[377 rows x 1 columns]"
            ]
          },
          "metadata": {
            "tags": []
          },
          "execution_count": 13
        }
      ]
    },
    {
      "cell_type": "markdown",
      "metadata": {
        "id": "Wj1MjJt7kU4u"
      },
      "source": [
        "Usual cart"
      ]
    },
    {
      "cell_type": "code",
      "metadata": {
        "colab": {
          "base_uri": "https://localhost:8080/",
          "height": 1000
        },
        "id": "UxCMfBZmkORF",
        "outputId": "765dffc4-c9b4-4cfe-8b25-cdcbf0e20f29"
      },
      "source": [
        "customs = df.groupby(by=['id_group'])['id_card'].unique().apply(len)\n",
        "plt.figure(figsize=(20, 20))\n",
        "customs.sort_values().plot(kind='bar')"
      ],
      "execution_count": 17,
      "outputs": [
        {
          "output_type": "execute_result",
          "data": {
            "text/plain": [
              "<matplotlib.axes._subplots.AxesSubplot at 0x7f570cddde50>"
            ]
          },
          "metadata": {
            "tags": []
          },
          "execution_count": 17
        },
        {
          "output_type": "display_data",
          "data": {
            "image/png": "[encoded data removed]",
            "text/plain": [
              "<Figure size 1440x1440 with 1 Axes>"
            ]
          },
          "metadata": {
            "tags": [],
            "needs_background": "light"
          }
        }
      ]
    }
  ]
}