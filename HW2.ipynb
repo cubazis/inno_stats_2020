{
 "cells": [
  {
   "cell_type": "code",
   "execution_count": 1,
   "metadata": {},
   "outputs": [],
   "source": [
    "from pathlib import Path\n",
    "import pandas as pd\n",
    "from scipy.stats import ttest_ind, f_oneway\n",
    "import numpy as np\n",
    "import matplotlib.pyplot as plt"
   ]
  },
  {
   "cell_type": "code",
   "execution_count": 2,
   "metadata": {},
   "outputs": [
    {
     "name": "stdout",
     "output_type": "stream",
     "text": [
      " Volume in drive D is Acer\n",
      " Volume Serial Number is 2E89-465A\n",
      "\n",
      " Directory of D:\\PyProject\\inno_stats_2020\\data\n",
      "\n",
      "15-May-21  20:19    <DIR>          .\n",
      "15-May-21  20:19    <DIR>          ..\n",
      "08-Apr-21  21:02     2,933,464,924 09_groups.csv\n",
      "08-Apr-21  21:06     3,235,813,850 10_groups.csv\n",
      "08-Apr-21  21:10     3,271,007,889 11_groups.csv\n",
      "12-May-21  22:54           342,564 bad_ids.csv\n",
      "07-Apr-21  20:46           193,519 product_groups.csv\n",
      "               5 File(s)  9,440,822,746 bytes\n",
      "               2 Dir(s)  187,567,456,256 bytes free\n"
     ]
    }
   ],
   "source": [
    "data_path = Path('./data/').resolve()\n",
    "!dir {data_path}"
   ]
  },
  {
   "cell_type": "code",
   "execution_count": 3,
   "metadata": {},
   "outputs": [
    {
     "data": {
      "text/plain": "                  date    id_doc  id_order  id_card  id_tov  id_kontr  \\\n0  2020-09-01 17:01:25   1283228       0.0  1538855      52       271   \n1  2020-09-01 17:35:36   8873113       0.0   267307      52       271   \n2  2020-09-01 19:19:21  12712899       0.0   610220      52       271   \n3  2020-09-01 21:53:34  21535283       0.0   441497      52       271   \n4  2020-09-01 18:42:31    642341       0.0  1065358      61        97   \n\n   quantity     sum  is_green  id_group  \n0       1.0  108.00         0     10004  \n1       1.0  108.00         0     10004  \n2       1.0  107.95         0     10004  \n3       1.0  108.00         0     10004  \n4       2.0   88.00         0     10091  ",
      "text/html": "<div>\n<style scoped>\n    .dataframe tbody tr th:only-of-type {\n        vertical-align: middle;\n    }\n\n    .dataframe tbody tr th {\n        vertical-align: top;\n    }\n\n    .dataframe thead th {\n        text-align: right;\n    }\n</style>\n<table border=\"1\" class=\"dataframe\">\n  <thead>\n    <tr style=\"text-align: right;\">\n      <th></th>\n      <th>date</th>\n      <th>id_doc</th>\n      <th>id_order</th>\n      <th>id_card</th>\n      <th>id_tov</th>\n      <th>id_kontr</th>\n      <th>quantity</th>\n      <th>sum</th>\n      <th>is_green</th>\n      <th>id_group</th>\n    </tr>\n  </thead>\n  <tbody>\n    <tr>\n      <th>0</th>\n      <td>2020-09-01 17:01:25</td>\n      <td>1283228</td>\n      <td>0.0</td>\n      <td>1538855</td>\n      <td>52</td>\n      <td>271</td>\n      <td>1.0</td>\n      <td>108.00</td>\n      <td>0</td>\n      <td>10004</td>\n    </tr>\n    <tr>\n      <th>1</th>\n      <td>2020-09-01 17:35:36</td>\n      <td>8873113</td>\n      <td>0.0</td>\n      <td>267307</td>\n      <td>52</td>\n      <td>271</td>\n      <td>1.0</td>\n      <td>108.00</td>\n      <td>0</td>\n      <td>10004</td>\n    </tr>\n    <tr>\n      <th>2</th>\n      <td>2020-09-01 19:19:21</td>\n      <td>12712899</td>\n      <td>0.0</td>\n      <td>610220</td>\n      <td>52</td>\n      <td>271</td>\n      <td>1.0</td>\n      <td>107.95</td>\n      <td>0</td>\n      <td>10004</td>\n    </tr>\n    <tr>\n      <th>3</th>\n      <td>2020-09-01 21:53:34</td>\n      <td>21535283</td>\n      <td>0.0</td>\n      <td>441497</td>\n      <td>52</td>\n      <td>271</td>\n      <td>1.0</td>\n      <td>108.00</td>\n      <td>0</td>\n      <td>10004</td>\n    </tr>\n    <tr>\n      <th>4</th>\n      <td>2020-09-01 18:42:31</td>\n      <td>642341</td>\n      <td>0.0</td>\n      <td>1065358</td>\n      <td>61</td>\n      <td>97</td>\n      <td>2.0</td>\n      <td>88.00</td>\n      <td>0</td>\n      <td>10091</td>\n    </tr>\n  </tbody>\n</table>\n</div>"
     },
     "execution_count": 3,
     "metadata": {},
     "output_type": "execute_result"
    }
   ],
   "source": [
    "g_9 = pd.read_csv('./data/09_groups.csv')\n",
    "g_9.head()"
   ]
  },
  {
   "cell_type": "code",
   "execution_count": 4,
   "metadata": {},
   "outputs": [
    {
     "name": "stdout",
     "output_type": "stream",
     "text": [
      "<class 'pandas.core.frame.DataFrame'>\n",
      "RangeIndex: 42100858 entries, 0 to 42100857\n",
      "Data columns (total 10 columns):\n",
      " #   Column    Dtype  \n",
      "---  ------    -----  \n",
      " 0   date      object \n",
      " 1   id_doc    int64  \n",
      " 2   id_order  float64\n",
      " 3   id_card   int64  \n",
      " 4   id_tov    int64  \n",
      " 5   id_kontr  int64  \n",
      " 6   quantity  float64\n",
      " 7   sum       float64\n",
      " 8   is_green  int64  \n",
      " 9   id_group  int64  \n",
      "dtypes: float64(3), int64(6), object(1)\n",
      "memory usage: 3.1+ GB\n"
     ]
    }
   ],
   "source": [
    "g_9.info()"
   ]
  },
  {
   "cell_type": "markdown",
   "metadata": {},
   "source": [
    "Remove outliers:"
   ]
  },
  {
   "cell_type": "code",
   "execution_count": 5,
   "metadata": {},
   "outputs": [
    {
     "data": {
      "text/plain": "   Unnamed: 0  id_card\n0           0   806096\n1           1  1438102\n2           2    72344\n3           3   427981\n4           4  1528414",
      "text/html": "<div>\n<style scoped>\n    .dataframe tbody tr th:only-of-type {\n        vertical-align: middle;\n    }\n\n    .dataframe tbody tr th {\n        vertical-align: top;\n    }\n\n    .dataframe thead th {\n        text-align: right;\n    }\n</style>\n<table border=\"1\" class=\"dataframe\">\n  <thead>\n    <tr style=\"text-align: right;\">\n      <th></th>\n      <th>Unnamed: 0</th>\n      <th>id_card</th>\n    </tr>\n  </thead>\n  <tbody>\n    <tr>\n      <th>0</th>\n      <td>0</td>\n      <td>806096</td>\n    </tr>\n    <tr>\n      <th>1</th>\n      <td>1</td>\n      <td>1438102</td>\n    </tr>\n    <tr>\n      <th>2</th>\n      <td>2</td>\n      <td>72344</td>\n    </tr>\n    <tr>\n      <th>3</th>\n      <td>3</td>\n      <td>427981</td>\n    </tr>\n    <tr>\n      <th>4</th>\n      <td>4</td>\n      <td>1528414</td>\n    </tr>\n  </tbody>\n</table>\n</div>"
     },
     "execution_count": 5,
     "metadata": {},
     "output_type": "execute_result"
    }
   ],
   "source": [
    "outliers_df = pd.read_csv('./data/bad_ids.csv')\n",
    "outliers_df.head()"
   ]
  },
  {
   "cell_type": "code",
   "execution_count": 6,
   "metadata": {},
   "outputs": [
    {
     "name": "stdout",
     "output_type": "stream",
     "text": [
      "<class 'pandas.core.frame.DataFrame'>\n",
      "RangeIndex: 24707 entries, 0 to 24706\n",
      "Data columns (total 2 columns):\n",
      " #   Column      Non-Null Count  Dtype\n",
      "---  ------      --------------  -----\n",
      " 0   Unnamed: 0  24707 non-null  int64\n",
      " 1   id_card     24707 non-null  int64\n",
      "dtypes: int64(2)\n",
      "memory usage: 386.2 KB\n"
     ]
    }
   ],
   "source": [
    "outliers_df.info()"
   ]
  },
  {
   "cell_type": "code",
   "execution_count": 7,
   "metadata": {},
   "outputs": [
    {
     "name": "stdout",
     "output_type": "stream",
     "text": [
      "<class 'pandas.core.frame.DataFrame'>\n",
      "Int64Index: 38466003 entries, 0 to 42100857\n",
      "Data columns (total 10 columns):\n",
      " #   Column    Dtype  \n",
      "---  ------    -----  \n",
      " 0   date      object \n",
      " 1   id_doc    int64  \n",
      " 2   id_order  float64\n",
      " 3   id_card   int64  \n",
      " 4   id_tov    int64  \n",
      " 5   id_kontr  int64  \n",
      " 6   quantity  float64\n",
      " 7   sum       float64\n",
      " 8   is_green  int64  \n",
      " 9   id_group  int64  \n",
      "dtypes: float64(3), int64(6), object(1)\n",
      "memory usage: 3.2+ GB\n"
     ]
    }
   ],
   "source": [
    "cond = g_9['id_card'].isin(outliers_df['id_card'])\n",
    "g_9.drop(g_9[cond].index, inplace = True)\n",
    "g_9.info()"
   ]
  },
  {
   "cell_type": "code",
   "execution_count": 8,
   "metadata": {},
   "outputs": [
    {
     "data": {
      "text/plain": "   id_tov  id_group              name_group\n0      52     10004  Кисломолочные продукты\n1      75     10004  Кисломолочные продукты\n2      77     10004  Кисломолочные продукты\n3     143     10004  Кисломолочные продукты\n4     151     10004  Кисломолочные продукты",
      "text/html": "<div>\n<style scoped>\n    .dataframe tbody tr th:only-of-type {\n        vertical-align: middle;\n    }\n\n    .dataframe tbody tr th {\n        vertical-align: top;\n    }\n\n    .dataframe thead th {\n        text-align: right;\n    }\n</style>\n<table border=\"1\" class=\"dataframe\">\n  <thead>\n    <tr style=\"text-align: right;\">\n      <th></th>\n      <th>id_tov</th>\n      <th>id_group</th>\n      <th>name_group</th>\n    </tr>\n  </thead>\n  <tbody>\n    <tr>\n      <th>0</th>\n      <td>52</td>\n      <td>10004</td>\n      <td>Кисломолочные продукты</td>\n    </tr>\n    <tr>\n      <th>1</th>\n      <td>75</td>\n      <td>10004</td>\n      <td>Кисломолочные продукты</td>\n    </tr>\n    <tr>\n      <th>2</th>\n      <td>77</td>\n      <td>10004</td>\n      <td>Кисломолочные продукты</td>\n    </tr>\n    <tr>\n      <th>3</th>\n      <td>143</td>\n      <td>10004</td>\n      <td>Кисломолочные продукты</td>\n    </tr>\n    <tr>\n      <th>4</th>\n      <td>151</td>\n      <td>10004</td>\n      <td>Кисломолочные продукты</td>\n    </tr>\n  </tbody>\n</table>\n</div>"
     },
     "execution_count": 8,
     "metadata": {},
     "output_type": "execute_result"
    }
   ],
   "source": [
    "p_g = pd.read_csv('./data/product_groups.csv', delimiter=';', encoding='windows-1251')\n",
    "p_g.head()"
   ]
  },
  {
   "cell_type": "code",
   "execution_count": 9,
   "metadata": {},
   "outputs": [
    {
     "name": "stdout",
     "output_type": "stream",
     "text": [
      "<class 'pandas.core.frame.DataFrame'>\n",
      "RangeIndex: 5650 entries, 0 to 5649\n",
      "Data columns (total 3 columns):\n",
      " #   Column      Non-Null Count  Dtype \n",
      "---  ------      --------------  ----- \n",
      " 0   id_tov      5650 non-null   int64 \n",
      " 1   id_group    5650 non-null   int64 \n",
      " 2   name_group  5650 non-null   object\n",
      "dtypes: int64(2), object(1)\n",
      "memory usage: 132.5+ KB\n"
     ]
    }
   ],
   "source": [
    "p_g.info()"
   ]
  },
  {
   "cell_type": "markdown",
   "metadata": {},
   "source": [
    "# Task 1\n",
    "\n",
    "Prove that buying discounted products depends on the average order sum. (It is more probable that the discounted product will be bought if bunch of money is going to be spend)"
   ]
  },
  {
   "source": [
    "$H_0$ : Buying discounted products does not depend on the average order (receipt) sum\n",
    "\n",
    "$H_a$ : Buying discounted products depend on the average order (receipt) sum"
   ],
   "cell_type": "markdown",
   "metadata": {}
  },
  {
   "source": [
    "Get mean sum of the orders:"
   ],
   "cell_type": "markdown",
   "metadata": {}
  },
  {
   "cell_type": "code",
   "execution_count": 10,
   "metadata": {},
   "outputs": [
    {
     "data": {
      "text/plain": "id_doc\n2            66.000000\n4            93.941176\n5           127.000000\n16          101.294286\n18          101.000000\n               ...    \n23417859    115.333333\n23417862     28.800000\n23417864     64.800000\n23417867    209.560000\n23417869     40.000000\nName: sum, Length: 6904825, dtype: float64"
     },
     "execution_count": 10,
     "metadata": {},
     "output_type": "execute_result"
    }
   ],
   "source": [
    "mean_sum = g_9.groupby(\"id_doc\")['sum'].mean()\n",
    "mean_sum"
   ]
  },
  {
   "source": [
    "Get number of discounted products per order (receipt):"
   ],
   "cell_type": "markdown",
   "metadata": {}
  },
  {
   "cell_type": "code",
   "execution_count": 11,
   "metadata": {},
   "outputs": [
    {
     "data": {
      "text/plain": "id_doc\n2           0\n4           0\n5           0\n16          0\n18          0\n           ..\n23417859    0\n23417862    3\n23417864    0\n23417867    0\n23417869    0\nName: is_green, Length: 6904825, dtype: int64"
     },
     "execution_count": 11,
     "metadata": {},
     "output_type": "execute_result"
    }
   ],
   "source": [
    "discounted_number = g_9.groupby(\"id_doc\")['is_green'].sum()\n",
    "discounted_number"
   ]
  },
  {
   "source": [
    "Get orders with and without discounts:"
   ],
   "cell_type": "markdown",
   "metadata": {}
  },
  {
   "cell_type": "code",
   "execution_count": 12,
   "metadata": {},
   "outputs": [],
   "source": [
    "discount_customers = discounted_number.index[discounted_number.to_numpy().nonzero()]\n",
    "non_discount_customers = list(set(discounted_number.index) - set(discount_customers))"
   ]
  },
  {
   "source": [
    "Use two-sided t-test to determine if there is a significant difference between the means of two groups:"
   ],
   "cell_type": "markdown",
   "metadata": {}
  },
  {
   "cell_type": "code",
   "execution_count": 13,
   "metadata": {},
   "outputs": [
    {
     "data": {
      "text/plain": "Ttest_indResult(statistic=-379.1254533395915, pvalue=0.0)"
     },
     "execution_count": 13,
     "metadata": {},
     "output_type": "execute_result"
    }
   ],
   "source": [
    "ttest_ind(mean_sum.reindex(index = discount_customers), mean_sum.reindex(index = non_discount_customers))"
   ]
  },
  {
   "cell_type": "markdown",
   "metadata": {
    "pycharm": {
     "name": "#%% md\n"
    }
   },
   "source": [
    "As can be seen from t-test, there is a difference between between order sums with and without discounts.\n",
    "So, there is a dependency between discounted products and the average order (receipt) sum. $H_0$ rejected."
   ]
  },
  {
   "cell_type": "markdown",
   "metadata": {},
   "source": [
    "# Task 2\n",
    "Prove that the frequency of shopping grows around the wage taking days."
   ]
  },
  {
   "cell_type": "markdown",
   "source": [
    "$H_0$ The frequency of shopping does not grow after the wage taking days (1-6 days of each month, 20 -26 days of each month)\n",
    "\n",
    "$H_a$ The frequency is different."
   ],
   "metadata": {
    "collapsed": false,
    "pycharm": {
     "name": "#%% md\n"
    }
   }
  },
  {
   "cell_type": "markdown",
   "source": [
    "So, let's plot number of checkouts per day for September and look to distribution"
   ],
   "metadata": {
    "collapsed": false,
    "pycharm": {
     "name": "#%% md\n"
    }
   }
  },
  {
   "cell_type": "code",
   "execution_count": 14,
   "metadata": {},
   "outputs": [
    {
     "data": {
      "text/plain": "      id_order\ndate          \n1      1269893\n2      1285415\n3      1287425\n4      1270192\n5      1053459\n6      1158077\n7      1371646\n8      1227093\n9      1336351\n10     1305395\n11     1284777\n12     1087414\n13     1168560\n14     1370166\n15     1316259\n16     1326892\n17     1181904\n18     1429865\n19     1168649\n20     1206583\n21     1370546\n22     1352159\n23     1343573\n24     1336031\n25     1364338\n26     1130494\n27     1220942\n28     1415253\n29     1411357\n30     1415295",
      "text/html": "<div>\n<style scoped>\n    .dataframe tbody tr th:only-of-type {\n        vertical-align: middle;\n    }\n\n    .dataframe tbody tr th {\n        vertical-align: top;\n    }\n\n    .dataframe thead th {\n        text-align: right;\n    }\n</style>\n<table border=\"1\" class=\"dataframe\">\n  <thead>\n    <tr style=\"text-align: right;\">\n      <th></th>\n      <th>id_order</th>\n    </tr>\n    <tr>\n      <th>date</th>\n      <th></th>\n    </tr>\n  </thead>\n  <tbody>\n    <tr>\n      <th>1</th>\n      <td>1269893</td>\n    </tr>\n    <tr>\n      <th>2</th>\n      <td>1285415</td>\n    </tr>\n    <tr>\n      <th>3</th>\n      <td>1287425</td>\n    </tr>\n    <tr>\n      <th>4</th>\n      <td>1270192</td>\n    </tr>\n    <tr>\n      <th>5</th>\n      <td>1053459</td>\n    </tr>\n    <tr>\n      <th>6</th>\n      <td>1158077</td>\n    </tr>\n    <tr>\n      <th>7</th>\n      <td>1371646</td>\n    </tr>\n    <tr>\n      <th>8</th>\n      <td>1227093</td>\n    </tr>\n    <tr>\n      <th>9</th>\n      <td>1336351</td>\n    </tr>\n    <tr>\n      <th>10</th>\n      <td>1305395</td>\n    </tr>\n    <tr>\n      <th>11</th>\n      <td>1284777</td>\n    </tr>\n    <tr>\n      <th>12</th>\n      <td>1087414</td>\n    </tr>\n    <tr>\n      <th>13</th>\n      <td>1168560</td>\n    </tr>\n    <tr>\n      <th>14</th>\n      <td>1370166</td>\n    </tr>\n    <tr>\n      <th>15</th>\n      <td>1316259</td>\n    </tr>\n    <tr>\n      <th>16</th>\n      <td>1326892</td>\n    </tr>\n    <tr>\n      <th>17</th>\n      <td>1181904</td>\n    </tr>\n    <tr>\n      <th>18</th>\n      <td>1429865</td>\n    </tr>\n    <tr>\n      <th>19</th>\n      <td>1168649</td>\n    </tr>\n    <tr>\n      <th>20</th>\n      <td>1206583</td>\n    </tr>\n    <tr>\n      <th>21</th>\n      <td>1370546</td>\n    </tr>\n    <tr>\n      <th>22</th>\n      <td>1352159</td>\n    </tr>\n    <tr>\n      <th>23</th>\n      <td>1343573</td>\n    </tr>\n    <tr>\n      <th>24</th>\n      <td>1336031</td>\n    </tr>\n    <tr>\n      <th>25</th>\n      <td>1364338</td>\n    </tr>\n    <tr>\n      <th>26</th>\n      <td>1130494</td>\n    </tr>\n    <tr>\n      <th>27</th>\n      <td>1220942</td>\n    </tr>\n    <tr>\n      <th>28</th>\n      <td>1415253</td>\n    </tr>\n    <tr>\n      <th>29</th>\n      <td>1411357</td>\n    </tr>\n    <tr>\n      <th>30</th>\n      <td>1415295</td>\n    </tr>\n  </tbody>\n</table>\n</div>"
     },
     "execution_count": 14,
     "metadata": {},
     "output_type": "execute_result"
    }
   ],
   "source": [
    "g_9.index = pd.to_datetime(g_9['date'],format='%Y-%m-%d %H:%M:%S')\n",
    "number_checkouts = g_9.groupby(g_9.index.day)['id_order'].count().to_frame()\n",
    "number_checkouts"
   ]
  },
  {
   "cell_type": "code",
   "execution_count": 15,
   "outputs": [
    {
     "data": {
      "text/plain": "<Figure size 432x288 with 1 Axes>",
      "image/png": "[encoded data removed]"
     },
     "metadata": {
      "needs_background": "light"
     },
     "output_type": "display_data"
    }
   ],
   "source": [
    "number_checkouts.plot()\n",
    "plt.grid()"
   ],
   "metadata": {
    "collapsed": false,
    "pycharm": {
     "name": "#%%\n"
    }
   }
  },
  {
   "cell_type": "markdown",
   "source": [
    "Let's compute F-test for wage and usual days"
   ],
   "metadata": {
    "collapsed": false,
    "pycharm": {
     "name": "#%% md\n"
    }
   }
  },
  {
   "cell_type": "code",
   "execution_count": 16,
   "outputs": [
    {
     "data": {
      "text/plain": "F_onewayResult(statistic=0.7525409594081744, pvalue=0.3930470256225759)"
     },
     "execution_count": 16,
     "metadata": {},
     "output_type": "execute_result"
    }
   ],
   "source": [
    "days_list = number_checkouts['id_order'].to_list()\n",
    "wage_days = days_list[0:6] + days_list[19:26]\n",
    "usual_days = days_list[6:19] + days_list[26:]\n",
    "\n",
    "f_oneway(wage_days, usual_days)"
   ],
   "metadata": {
    "collapsed": false,
    "pycharm": {
     "name": "#%%\n"
    }
   }
  },
  {
   "cell_type": "markdown",
   "source": [
    "P-value is too high. So, we failed to reject $H_0$.\n",
    "There is no difference between wage and usual days."
   ],
   "metadata": {
    "collapsed": false,
    "pycharm": {
     "name": "#%% md\n"
    }
   }
  },
  {
   "cell_type": "markdown",
   "metadata": {
    "pycharm": {
     "name": "#%% md\n"
    }
   },
   "source": [
    "# Task 3\n",
    "Define such cohort existence:\n",
    "1. Frequent buyers - The users that are shopping frequently(daily, weekly, monthly) \n",
    "2. Average purchase sum - The customers that usually spend the same amount of money \n",
    "3. Orders amount - The customers grouped by the total numer of orders \n",
    "4. Usual cart - The customers grouped by the product groups\n",
    "\n",
    "References\n",
    "- https://towardsdatascience.com/a-step-by-step-introduction-to-cohort-analysis-in-python-a2cbbd8460ea"
   ]
  },
  {
   "cell_type": "markdown",
   "source": [
    "### Frequent buyers"
   ],
   "metadata": {
    "collapsed": false,
    "pycharm": {
     "name": "#%% md\n"
    }
   }
  },
  {
   "cell_type": "code",
   "execution_count": 17,
   "outputs": [
    {
     "data": {
      "text/plain": "(array([8.27393e+05, 2.15854e+05, 1.09664e+05, 6.42470e+04, 3.93710e+04,\n        2.64890e+04, 1.67030e+04, 1.16070e+04, 7.63100e+03, 5.23300e+03,\n        3.33700e+03, 2.38400e+03, 1.40500e+03, 9.28000e+02, 6.01000e+02,\n        4.17000e+02, 2.49000e+02, 1.77000e+02, 1.04000e+02, 5.40000e+01,\n        4.30000e+01, 2.00000e+01, 1.50000e+01, 9.00000e+00, 9.00000e+00,\n        7.00000e+00, 2.00000e+00, 2.00000e+00, 0.00000e+00, 0.00000e+00,\n        1.00000e+00, 1.00000e+00, 0.00000e+00, 0.00000e+00, 1.00000e+00]),\n array([  1.        ,  21.17142857,  41.34285714,  61.51428571,\n         81.68571429, 101.85714286, 122.02857143, 142.2       ,\n        162.37142857, 182.54285714, 202.71428571, 222.88571429,\n        243.05714286, 263.22857143, 283.4       , 303.57142857,\n        323.74285714, 343.91428571, 364.08571429, 384.25714286,\n        404.42857143, 424.6       , 444.77142857, 464.94285714,\n        485.11428571, 505.28571429, 525.45714286, 545.62857143,\n        565.8       , 585.97142857, 606.14285714, 626.31428571,\n        646.48571429, 666.65714286, 686.82857143, 707.        ]),\n <a list of 35 Patch objects>)"
     },
     "execution_count": 17,
     "metadata": {},
     "output_type": "execute_result"
    },
    {
     "data": {
      "text/plain": "<Figure size 1080x720 with 1 Axes>",
      "image/png": "[encoded data removed]"
     },
     "metadata": {
      "needs_background": "light"
     },
     "output_type": "display_data"
    }
   ],
   "source": [
    "customer_count = g_9.groupby('id_card')['id_doc'].count()\n",
    "\n",
    "plt.figure(figsize=(15, 10))\n",
    "plt.hist(customer_count, bins=35)"
   ],
   "metadata": {
    "collapsed": false,
    "pycharm": {
     "name": "#%%\n"
    }
   }
  },
  {
   "cell_type": "markdown",
   "source": [
    "### Average purchase sum"
   ],
   "metadata": {
    "collapsed": false,
    "pycharm": {
     "name": "#%% md\n"
    }
   }
  },
  {
   "cell_type": "code",
   "execution_count": 18,
   "outputs": [],
   "source": [
    "stds = g_9.groupby('id_card')['sum'].std()\n",
    "counts = g_9.groupby('id_card')['sum'].count()"
   ],
   "metadata": {
    "collapsed": false,
    "pycharm": {
     "name": "#%%\n"
    }
   }
  },
  {
   "cell_type": "markdown",
   "source": [
    "Let's look at variance for each customer. Regular customer is who have made at least ten purchases."
   ],
   "metadata": {
    "collapsed": false,
    "pycharm": {
     "name": "#%% md\n"
    }
   }
  },
  {
   "cell_type": "code",
   "execution_count": 19,
   "outputs": [],
   "source": [
    "is_regular = counts > 10\n",
    "regular = is_regular.index[np.where(is_regular)[0]]\n",
    "regular_stds = stds[regular]"
   ],
   "metadata": {
    "collapsed": false,
    "pycharm": {
     "name": "#%%\n"
    }
   }
  },
  {
   "cell_type": "markdown",
   "source": [
    "Let's define the minimal std as +-250 RUB for people to be included."
   ],
   "metadata": {
    "collapsed": false,
    "pycharm": {
     "name": "#%% md\n"
    }
   }
  },
  {
   "cell_type": "code",
   "execution_count": 20,
   "outputs": [
    {
     "data": {
      "text/plain": "<Figure size 432x288 with 1 Axes>",
      "image/png": "[encoded data removed]"
     },
     "metadata": {
      "needs_background": "light"
     },
     "output_type": "display_data"
    }
   ],
   "source": [
    "regular_stds = regular_stds[regular_stds < 250]\n",
    "plt.xlabel('Sum std')\n",
    "plt.ylabel('Count')\n",
    "plt.hist(regular_stds, bins=45);"
   ],
   "metadata": {
    "collapsed": false,
    "pycharm": {
     "name": "#%%\n"
    }
   }
  },
  {
   "cell_type": "markdown",
   "source": [
    "### Usual cart"
   ],
   "metadata": {
    "collapsed": false
   }
  },
  {
   "cell_type": "code",
   "execution_count": 21,
   "outputs": [
    {
     "data": {
      "text/plain": "<matplotlib.axes._subplots.AxesSubplot at 0x1c1a9cf1ec8>"
     },
     "execution_count": 21,
     "metadata": {},
     "output_type": "execute_result"
    },
    {
     "data": {
      "text/plain": "<Figure size 432x288 with 1 Axes>",
      "image/png": "[encoded data removed]"
     },
     "metadata": {
      "needs_background": "light"
     },
     "output_type": "display_data"
    }
   ],
   "source": [
    "df = g_9[g_9.id_group != -9999]\n",
    "customers_to_group = df.groupby('id_group')['id_card'].unique().apply(len)\n",
    "customers_to_group = customers_to_group.sort_values(ascending=False)\n",
    "customers_to_group[:10].plot(kind='bar')"
   ],
   "metadata": {
    "collapsed": false,
    "pycharm": {
     "name": "#%%\n"
    }
   }
  },
  {
   "cell_type": "code",
   "execution_count": 22,
   "outputs": [
    {
     "name": "stderr",
     "output_type": "stream",
     "text": [
      "C:\\Users\\aliek\\AppData\\Local\\Programs\\Python\\Python37\\lib\\site-packages\\ipykernel_launcher.py:3: SettingWithCopyWarning: \n",
      "A value is trying to be set on a copy of a slice from a DataFrame\n",
      "\n",
      "See the caveats in the documentation: https://pandas.pydata.org/pandas-docs/stable/user_guide/indexing.html#returning-a-view-versus-a-copy\n",
      "  This is separate from the ipykernel package so we can avoid doing imports until\n"
     ]
    },
    {
     "data": {
      "text/plain": "                                             name_group\n0                                Кисломолочные продукты\n43                                               Творог\n93                        Торты, пирожные, муссы, суфле\n960                    Выпечка, печенье, вафли, пряники\n1032  Леденцы, мармелад, халва, зефир, восточные сла...",
      "text/html": "<div>\n<style scoped>\n    .dataframe tbody tr th:only-of-type {\n        vertical-align: middle;\n    }\n\n    .dataframe tbody tr th {\n        vertical-align: top;\n    }\n\n    .dataframe thead th {\n        text-align: right;\n    }\n</style>\n<table border=\"1\" class=\"dataframe\">\n  <thead>\n    <tr style=\"text-align: right;\">\n      <th></th>\n      <th>name_group</th>\n    </tr>\n  </thead>\n  <tbody>\n    <tr>\n      <th>0</th>\n      <td>Кисломолочные продукты</td>\n    </tr>\n    <tr>\n      <th>43</th>\n      <td>Творог</td>\n    </tr>\n    <tr>\n      <th>93</th>\n      <td>Торты, пирожные, муссы, суфле</td>\n    </tr>\n    <tr>\n      <th>960</th>\n      <td>Выпечка, печенье, вафли, пряники</td>\n    </tr>\n    <tr>\n      <th>1032</th>\n      <td>Леденцы, мармелад, халва, зефир, восточные сла...</td>\n    </tr>\n  </tbody>\n</table>\n</div>"
     },
     "execution_count": 22,
     "metadata": {},
     "output_type": "execute_result"
    }
   ],
   "source": [
    "common_groups = p_g[p_g.id_group.isin(customers_to_group[:20].index)]\n",
    "common_groups.drop_duplicates('id_group', 'first', inplace=True)\n",
    "common_groups[['name_group']].head()\n"
   ],
   "metadata": {
    "collapsed": false,
    "pycharm": {
     "name": "#%%\n"
    }
   }
  },
  {
   "cell_type": "markdown",
   "source": [
    "Here is the list the most popular products\n"
   ],
   "metadata": {
    "collapsed": false,
    "pycharm": {
     "name": "#%% md\n"
    }
   }
  }
 ],
 "metadata": {
  "kernelspec": {
   "name": "python37364bit57026bb732f643ee8537a2c1350371a6",
   "language": "python",
   "display_name": "Python 3.7.3 64-bit"
  },
  "language_info": {
   "codemirror_mode": {
    "name": "ipython",
    "version": 3
   },
   "file_extension": ".py",
   "mimetype": "text/x-python",
   "name": "python",
   "nbconvert_exporter": "python",
   "pygments_lexer": "ipython3",
   "version": "3.7.9"
  },
  "metadata": {
   "interpreter": {
    "hash": "d4c1762d64ea0ab99f134e03e40a041b32af0ce75ad65309aad66f763b6e3015"
   }
  }
 },
 "nbformat": 4,
 "nbformat_minor": 4
}