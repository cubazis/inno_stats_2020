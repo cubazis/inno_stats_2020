{
  "nbformat": 4,
  "nbformat_minor": 0,
  "metadata": {
    "colab": {
      "name": "hw2 (2).ipynb",
      "provenance": [],
      "collapsed_sections": [],
      "toc_visible": true,
      "machine_shape": "hm"
    },
    "kernelspec": {
      "display_name": "Python 3",
      "language": "python",
      "name": "python3"
    },
    "language_info": {
      "codemirror_mode": {
        "name": "ipython",
        "version": 3
      },
      "file_extension": ".py",
      "mimetype": "text/x-python",
      "name": "python",
      "nbconvert_exporter": "python",
      "pygments_lexer": "ipython3",
      "version": "3.8.3"
    }
  },
  "cells": [
    {
      "cell_type": "code",
      "metadata": {
        "id": "Tz61pIPV_5zO"
      },
      "source": [
        "from pathlib import Path\n",
        "import pandas as pd\n",
        "import gc\n",
        "from sklearn.preprocessing import LabelEncoder\n",
        "import pickle\n",
        "import bz2\n",
        "import matplotlib.pyplot as plt\n",
        "from scipy.stats import ttest_ind\n"
      ],
      "execution_count": null,
      "outputs": []
    },
    {
      "cell_type": "code",
      "metadata": {
        "id": "UaPUnT-8i9YU",
        "outputId": "5e12411c-2dcc-4609-a41c-78c18e5c0111"
      },
      "source": [
        "!pip install gdown"
      ],
      "execution_count": null,
      "outputs": [
        {
          "output_type": "stream",
          "text": [
            "Requirement already satisfied: gdown in /home/dmitry/anaconda3/lib/python3.8/site-packages (3.13.0)\n",
            "Requirement already satisfied: tqdm in /home/dmitry/.local/lib/python3.8/site-packages (from gdown) (4.53.0)\n",
            "Requirement already satisfied: filelock in /home/dmitry/.local/lib/python3.8/site-packages (from gdown) (3.0.12)\n",
            "Requirement already satisfied: requests[socks]>=2.12.0 in /home/dmitry/anaconda3/lib/python3.8/site-packages (from gdown) (2.24.0)\n",
            "Requirement already satisfied: six in /home/dmitry/anaconda3/lib/python3.8/site-packages (from gdown) (1.15.0)\n",
            "Requirement already satisfied: urllib3!=1.25.0,!=1.25.1,<1.26,>=1.21.1 in /home/dmitry/anaconda3/lib/python3.8/site-packages (from requests[socks]>=2.12.0->gdown) (1.25.9)\n",
            "Requirement already satisfied: certifi>=2017.4.17 in /home/dmitry/anaconda3/lib/python3.8/site-packages (from requests[socks]>=2.12.0->gdown) (2020.6.20)\n",
            "Requirement already satisfied: chardet<4,>=3.0.2 in /home/dmitry/anaconda3/lib/python3.8/site-packages (from requests[socks]>=2.12.0->gdown) (3.0.4)\n",
            "Requirement already satisfied: idna<3,>=2.5 in /home/dmitry/anaconda3/lib/python3.8/site-packages (from requests[socks]>=2.12.0->gdown) (2.10)\n",
            "Requirement already satisfied: PySocks!=1.5.7,>=1.5.6 in /home/dmitry/anaconda3/lib/python3.8/site-packages (from requests[socks]>=2.12.0->gdown) (1.7.1)\n",
            "\u001b[33mWARNING: You are using pip version 21.0; however, version 21.1.1 is available.\n",
            "You should consider upgrading via the '/home/dmitry/anaconda3/bin/python -m pip install --upgrade pip' command.\u001b[0m\n"
          ],
          "name": "stdout"
        }
      ]
    },
    {
      "cell_type": "markdown",
      "metadata": {
        "id": "m1iQOzihi9YW"
      },
      "source": [
        "Download https://drive.google.com/drive/folders/1BZFez3OFs7QMzeDUz-8E0SgnRy227pnG\n",
        "\n",
        "Unzip\n",
        "\n",
        "!mkdir data !tar -xf inno_stats.tar.gz -C ./data"
      ]
    },
    {
      "cell_type": "code",
      "metadata": {
        "colab": {
          "base_uri": "https://localhost:8080/"
        },
        "id": "je3ZOOiQALKn",
        "scrolled": true,
        "outputId": "a45e607d-b122-4d84-a4ec-e89f2929086e"
      },
      "source": [
        "!gdown --id 13Qm6ztAmVyBHvo_mch6gk-2VYKUHeRuu\n",
        "!mkdir data \n",
        "!tar -xf inno_stats.tar.gz -C ./data"
      ],
      "execution_count": null,
      "outputs": [
        {
          "output_type": "stream",
          "text": [
            "Access denied with the following error:\r\n",
            "\r\n",
            " \tToo many users have viewed or downloaded this file recently. Please\r\n",
            "\ttry accessing the file again later. If the file you are trying to\r\n",
            "\taccess is particularly large or is shared with many people, it may\r\n",
            "\ttake up to 24 hours to be able to view or download the file. If you\r\n",
            "\tstill can't access a file after 24 hours, contact your domain\r\n",
            "\tadministrator. \r\n",
            "\r\n",
            "You may still be able to access the file from the browser:\r\n",
            "\r\n",
            "\t https://drive.google.com/uc?id=13Qm6ztAmVyBHvo_mch6gk-2VYKUHeRuu \r\n",
            "\r\n"
          ],
          "name": "stdout"
        }
      ]
    },
    {
      "cell_type": "code",
      "metadata": {
        "colab": {
          "base_uri": "https://localhost:8080/",
          "height": 204
        },
        "id": "LUNlMO2w_5zg",
        "outputId": "83c9c4fc-f1f3-4b05-91e6-29b8f1ce2b3c"
      },
      "source": [
        "g_9 = pd.read_csv('./data/09_groups.csv')\n",
        "g_10 = pd.read_csv('./data/10_groups.csv')\n",
        "g_11 = pd.read_csv('./data/11_groups.csv')\n",
        "g_9.head()"
      ],
      "execution_count": null,
      "outputs": [
        {
          "output_type": "execute_result",
          "data": {
            "text/html": [
              "<div>\n",
              "<style scoped>\n",
              "    .dataframe tbody tr th:only-of-type {\n",
              "        vertical-align: middle;\n",
              "    }\n",
              "\n",
              "    .dataframe tbody tr th {\n",
              "        vertical-align: top;\n",
              "    }\n",
              "\n",
              "    .dataframe thead th {\n",
              "        text-align: right;\n",
              "    }\n",
              "</style>\n",
              "<table border=\"1\" class=\"dataframe\">\n",
              "  <thead>\n",
              "    <tr style=\"text-align: right;\">\n",
              "      <th></th>\n",
              "      <th>date</th>\n",
              "      <th>id_doc</th>\n",
              "      <th>id_order</th>\n",
              "      <th>id_card</th>\n",
              "      <th>id_tov</th>\n",
              "      <th>id_kontr</th>\n",
              "      <th>quantity</th>\n",
              "      <th>sum</th>\n",
              "      <th>is_green</th>\n",
              "      <th>id_group</th>\n",
              "    </tr>\n",
              "  </thead>\n",
              "  <tbody>\n",
              "    <tr>\n",
              "      <th>0</th>\n",
              "      <td>2020-09-01 17:01:25</td>\n",
              "      <td>1283228</td>\n",
              "      <td>0.0</td>\n",
              "      <td>1538855</td>\n",
              "      <td>52</td>\n",
              "      <td>271</td>\n",
              "      <td>1.0</td>\n",
              "      <td>108.00</td>\n",
              "      <td>0</td>\n",
              "      <td>10004</td>\n",
              "    </tr>\n",
              "    <tr>\n",
              "      <th>1</th>\n",
              "      <td>2020-09-01 17:35:36</td>\n",
              "      <td>8873113</td>\n",
              "      <td>0.0</td>\n",
              "      <td>267307</td>\n",
              "      <td>52</td>\n",
              "      <td>271</td>\n",
              "      <td>1.0</td>\n",
              "      <td>108.00</td>\n",
              "      <td>0</td>\n",
              "      <td>10004</td>\n",
              "    </tr>\n",
              "    <tr>\n",
              "      <th>2</th>\n",
              "      <td>2020-09-01 19:19:21</td>\n",
              "      <td>12712899</td>\n",
              "      <td>0.0</td>\n",
              "      <td>610220</td>\n",
              "      <td>52</td>\n",
              "      <td>271</td>\n",
              "      <td>1.0</td>\n",
              "      <td>107.95</td>\n",
              "      <td>0</td>\n",
              "      <td>10004</td>\n",
              "    </tr>\n",
              "    <tr>\n",
              "      <th>3</th>\n",
              "      <td>2020-09-01 21:53:34</td>\n",
              "      <td>21535283</td>\n",
              "      <td>0.0</td>\n",
              "      <td>441497</td>\n",
              "      <td>52</td>\n",
              "      <td>271</td>\n",
              "      <td>1.0</td>\n",
              "      <td>108.00</td>\n",
              "      <td>0</td>\n",
              "      <td>10004</td>\n",
              "    </tr>\n",
              "    <tr>\n",
              "      <th>4</th>\n",
              "      <td>2020-09-01 18:42:31</td>\n",
              "      <td>642341</td>\n",
              "      <td>0.0</td>\n",
              "      <td>1065358</td>\n",
              "      <td>61</td>\n",
              "      <td>97</td>\n",
              "      <td>2.0</td>\n",
              "      <td>88.00</td>\n",
              "      <td>0</td>\n",
              "      <td>10091</td>\n",
              "    </tr>\n",
              "  </tbody>\n",
              "</table>\n",
              "</div>"
            ],
            "text/plain": [
              "                  date    id_doc  id_order  id_card  id_tov  id_kontr  \\\n",
              "0  2020-09-01 17:01:25   1283228       0.0  1538855      52       271   \n",
              "1  2020-09-01 17:35:36   8873113       0.0   267307      52       271   \n",
              "2  2020-09-01 19:19:21  12712899       0.0   610220      52       271   \n",
              "3  2020-09-01 21:53:34  21535283       0.0   441497      52       271   \n",
              "4  2020-09-01 18:42:31    642341       0.0  1065358      61        97   \n",
              "\n",
              "   quantity     sum  is_green  id_group  \n",
              "0       1.0  108.00         0     10004  \n",
              "1       1.0  108.00         0     10004  \n",
              "2       1.0  107.95         0     10004  \n",
              "3       1.0  108.00         0     10004  \n",
              "4       2.0   88.00         0     10091  "
            ]
          },
          "metadata": {
            "tags": []
          },
          "execution_count": 5
        }
      ]
    },
    {
      "cell_type": "code",
      "metadata": {
        "colab": {
          "base_uri": "https://localhost:8080/",
          "height": 204
        },
        "id": "AF3fMoDo_5zi",
        "outputId": "d74f4e1c-0028-43ad-f3f7-233f3abebd82"
      },
      "source": [
        "p_g = pd.read_csv('./data/product_groups.csv', delimiter=';', encoding='windows-1251')\n",
        "p_g.head()"
      ],
      "execution_count": null,
      "outputs": [
        {
          "output_type": "execute_result",
          "data": {
            "text/html": [
              "<div>\n",
              "<style scoped>\n",
              "    .dataframe tbody tr th:only-of-type {\n",
              "        vertical-align: middle;\n",
              "    }\n",
              "\n",
              "    .dataframe tbody tr th {\n",
              "        vertical-align: top;\n",
              "    }\n",
              "\n",
              "    .dataframe thead th {\n",
              "        text-align: right;\n",
              "    }\n",
              "</style>\n",
              "<table border=\"1\" class=\"dataframe\">\n",
              "  <thead>\n",
              "    <tr style=\"text-align: right;\">\n",
              "      <th></th>\n",
              "      <th>id_tov</th>\n",
              "      <th>id_group</th>\n",
              "      <th>name_group</th>\n",
              "    </tr>\n",
              "  </thead>\n",
              "  <tbody>\n",
              "    <tr>\n",
              "      <th>0</th>\n",
              "      <td>52</td>\n",
              "      <td>10004</td>\n",
              "      <td>Кисломолочные продукты</td>\n",
              "    </tr>\n",
              "    <tr>\n",
              "      <th>1</th>\n",
              "      <td>75</td>\n",
              "      <td>10004</td>\n",
              "      <td>Кисломолочные продукты</td>\n",
              "    </tr>\n",
              "    <tr>\n",
              "      <th>2</th>\n",
              "      <td>77</td>\n",
              "      <td>10004</td>\n",
              "      <td>Кисломолочные продукты</td>\n",
              "    </tr>\n",
              "    <tr>\n",
              "      <th>3</th>\n",
              "      <td>143</td>\n",
              "      <td>10004</td>\n",
              "      <td>Кисломолочные продукты</td>\n",
              "    </tr>\n",
              "    <tr>\n",
              "      <th>4</th>\n",
              "      <td>151</td>\n",
              "      <td>10004</td>\n",
              "      <td>Кисломолочные продукты</td>\n",
              "    </tr>\n",
              "  </tbody>\n",
              "</table>\n",
              "</div>"
            ],
            "text/plain": [
              "   id_tov  id_group              name_group\n",
              "0      52     10004  Кисломолочные продукты\n",
              "1      75     10004  Кисломолочные продукты\n",
              "2      77     10004  Кисломолочные продукты\n",
              "3     143     10004  Кисломолочные продукты\n",
              "4     151     10004  Кисломолочные продукты"
            ]
          },
          "metadata": {
            "tags": []
          },
          "execution_count": 8
        }
      ]
    },
    {
      "cell_type": "code",
      "metadata": {
        "colab": {
          "base_uri": "https://localhost:8080/",
          "height": 204
        },
        "id": "Vd0exJl1C4qp",
        "outputId": "19752551-990b-42d4-b2ef-a734192d1db5"
      },
      "source": [
        "bad_ids = pd.read_csv('bad_ids.csv')\n",
        "bad_ids.head()"
      ],
      "execution_count": null,
      "outputs": [
        {
          "output_type": "execute_result",
          "data": {
            "text/html": [
              "<div>\n",
              "<style scoped>\n",
              "    .dataframe tbody tr th:only-of-type {\n",
              "        vertical-align: middle;\n",
              "    }\n",
              "\n",
              "    .dataframe tbody tr th {\n",
              "        vertical-align: top;\n",
              "    }\n",
              "\n",
              "    .dataframe thead th {\n",
              "        text-align: right;\n",
              "    }\n",
              "</style>\n",
              "<table border=\"1\" class=\"dataframe\">\n",
              "  <thead>\n",
              "    <tr style=\"text-align: right;\">\n",
              "      <th></th>\n",
              "      <th>Unnamed: 0</th>\n",
              "      <th>id_card</th>\n",
              "    </tr>\n",
              "  </thead>\n",
              "  <tbody>\n",
              "    <tr>\n",
              "      <th>0</th>\n",
              "      <td>0</td>\n",
              "      <td>806096</td>\n",
              "    </tr>\n",
              "    <tr>\n",
              "      <th>1</th>\n",
              "      <td>1</td>\n",
              "      <td>1438102</td>\n",
              "    </tr>\n",
              "    <tr>\n",
              "      <th>2</th>\n",
              "      <td>2</td>\n",
              "      <td>72344</td>\n",
              "    </tr>\n",
              "    <tr>\n",
              "      <th>3</th>\n",
              "      <td>3</td>\n",
              "      <td>427981</td>\n",
              "    </tr>\n",
              "    <tr>\n",
              "      <th>4</th>\n",
              "      <td>4</td>\n",
              "      <td>1528414</td>\n",
              "    </tr>\n",
              "  </tbody>\n",
              "</table>\n",
              "</div>"
            ],
            "text/plain": [
              "   Unnamed: 0  id_card\n",
              "0           0   806096\n",
              "1           1  1438102\n",
              "2           2    72344\n",
              "3           3   427981\n",
              "4           4  1528414"
            ]
          },
          "metadata": {
            "tags": []
          },
          "execution_count": 9
        }
      ]
    },
    {
      "cell_type": "code",
      "metadata": {
        "id": "n1Eq7-wCEZoK"
      },
      "source": [
        "df = g_9"
      ],
      "execution_count": null,
      "outputs": []
    },
    {
      "cell_type": "code",
      "metadata": {
        "id": "qy3n73ooExUt"
      },
      "source": [
        "df = df[~df.id_card.isin(bad_ids.id_card.values)]\n",
        "df.info()"
      ],
      "execution_count": null,
      "outputs": []
    },
    {
      "cell_type": "markdown",
      "metadata": {
        "id": "VbiN08ehHoIs"
      },
      "source": [
        "Number of samples decreasef from 42 100 858 to 38 466 003"
      ]
    },
    {
      "cell_type": "markdown",
      "metadata": {
        "id": "nx-NB9QF_5zi"
      },
      "source": [
        "## Task 1\n",
        "\n",
        "Prove that buying discounted products depends on the average order sum. (It is more probable that the discounted product will be bought if bunch of money is going to be spend)"
      ]
    },
    {
      "cell_type": "markdown",
      "metadata": {
        "id": "aIk_ifDIIeLS"
      },
      "source": [
        "Prove that buying discounted products depends on the average order sum. (It is more probable that the discounted product will be bought if bunch of money is going to be spend)\n",
        "\n",
        "H0: discounted products buyid does not depend on the average order sum\n",
        "\n",
        "HA: discounted products buyid does depend on the average order sum"
      ]
    },
    {
      "cell_type": "code",
      "metadata": {
        "id": "04LzIitmK1T3"
      },
      "source": [
        "avg_sum = df.groupby('id_doc')['sum'].mean()\n",
        "avg_disc = df.groupby('id_doc')['is_green'].count()\n",
        "\n",
        "ttest_ind(avg_disc.values, avg_sum.values)"
      ],
      "execution_count": null,
      "outputs": []
    },
    {
      "cell_type": "markdown",
      "metadata": {
        "id": "R80EpTF7LfNp"
      },
      "source": [
        "P-values is low, H<sub>0</sub> is rejected, \n",
        "\n",
        "So, discounted products DEPEND on the average order sum"
      ]
    },
    {
      "cell_type": "markdown",
      "metadata": {
        "id": "dLq-3K7N_5zj"
      },
      "source": [
        "## Task 2\n",
        "Prove that the frequency of shopping grows around the wage taking days."
      ]
    },
    {
      "cell_type": "code",
      "metadata": {
        "id": "OSuAl1Nr_5zk"
      },
      "source": [
        "df.date = pd.to_datetime(df.date, format='%Y-%m-%d %H:%M:%S')\n",
        "\n",
        "recipts_per_day = df.groupby(df.date.dt.day)['id_doc'].count()"
      ],
      "execution_count": null,
      "outputs": []
    },
    {
      "cell_type": "code",
      "metadata": {
        "id": "yHNXBhdjN_Ql"
      },
      "source": [
        "plt.figure(figsize=(50, 30))\n",
        "plt.locator_params(axis='x', nbins=31)\n",
        "plt.grid()\n",
        "plt.plot(recipts_per_day)"
      ],
      "execution_count": null,
      "outputs": []
    },
    {
      "cell_type": "markdown",
      "metadata": {
        "id": "dpvsWCEXQGZr"
      },
      "source": [
        "It is seen that local minimums are at days 5, 20 and 26. If we suggest that paydays are days 1-5 and 20-25 then we can see that before those days function decreases - rare buys. Also, function increases right after mentioned days -people buy more frequently. "
      ]
    },
    {
      "cell_type": "markdown",
      "metadata": {
        "id": "XKV3-nFm_5zk"
      },
      "source": [
        "## Task 3\n",
        "Define such cohort existance:\n",
        "1. Frequent buyers - The users that are shopping frequently(daily, weekly, monthly) \n",
        "2. Average purchase sum - The customers that usually spend the same amount of money \n",
        "3. Orders amount\n",
        "4. Usual cart - The customers grouped by the product groups\n",
        "\n",
        "References\n",
        "- https://towardsdatascience.com/a-step-by-step-introduction-to-cohort-analysis-in-python-a2cbbd8460ea"
      ]
    },
    {
      "cell_type": "markdown",
      "metadata": {
        "id": "eu2VqiniS4wD"
      },
      "source": [
        "### Frequent buyers"
      ]
    },
    {
      "cell_type": "code",
      "metadata": {
        "id": "O2yuwNgo_5zl"
      },
      "source": [
        "\n",
        "receipt_count = df.groupby('id_card')['id_doc'].count()\n",
        "\n",
        "plt.figure(figsize=(8, 5))\n",
        "plt.hist(receipt_count, bins=15)\n",
        "plt.xlabel('Number of customers')\n",
        "plt.ylabel('Number of purchases')"
      ],
      "execution_count": null,
      "outputs": []
    },
    {
      "cell_type": "code",
      "metadata": {
        "id": "Jqgh42babs1V"
      },
      "source": [
        "freq_reciepts = (1 / receipt_count[receipt_count > 0] * 30).round()\n",
        "\n",
        "plt.figure(figsize=(8, 5))\n",
        "plt.hist(freq_reciepts, bins=30)\n",
        "plt.xlabel('Number of days between two purchases (on average)')\n",
        "plt.ylabel('Number of purchases')"
      ],
      "execution_count": null,
      "outputs": []
    },
    {
      "cell_type": "markdown",
      "metadata": {
        "id": "vDZb71bnc6nE"
      },
      "source": [
        "Most of people purchase every day. Some of them smth  buy every week"
      ]
    },
    {
      "cell_type": "markdown",
      "metadata": {
        "id": "Y_QBTApddL8V"
      },
      "source": [
        "### Average purchase sum"
      ]
    },
    {
      "cell_type": "code",
      "metadata": {
        "id": "Oa-HO68gdSzT"
      },
      "source": [
        "purchase_sum = df.groupby('id_card')['sum'].sum()\n",
        "purchase_sum.head()"
      ],
      "execution_count": null,
      "outputs": []
    },
    {
      "cell_type": "code",
      "metadata": {
        "id": "K0nraUz5t65w"
      },
      "source": [
        "plt.figure(figsize=(8, 5))\n",
        "plt.ylabel('Number of customers')\n",
        "plt.xlabel('Purchase sum')\n",
        "plt.hist(purchase_sum, bins=30);"
      ],
      "execution_count": null,
      "outputs": []
    },
    {
      "cell_type": "code",
      "metadata": {
        "id": "G1k_UT_gusON"
      },
      "source": [
        "plt.figure(figsize=(8, 5))\n",
        "plt.ylabel('Number of customers')\n",
        "plt.xlabel('Purchase sum')\n",
        "plt.hist(purchase_sum[purchase_sum < 40000], bins=30);"
      ],
      "execution_count": null,
      "outputs": []
    },
    {
      "cell_type": "markdown",
      "metadata": {
        "id": "wwfVUs4yvts3"
      },
      "source": [
        "Most of the customers make purchases for less than 1000 rubles"
      ]
    },
    {
      "cell_type": "markdown",
      "metadata": {
        "id": "1UNbs9ngi9Yg"
      },
      "source": [
        "## Orders amount"
      ]
    },
    {
      "cell_type": "code",
      "metadata": {
        "id": "M4ET3V3Li9Yg"
      },
      "source": [
        "count = df.groupby(['id_card'])['id_doc'].count()"
      ],
      "execution_count": null,
      "outputs": []
    },
    {
      "cell_type": "code",
      "metadata": {
        "id": "c6--py9ri9Yg"
      },
      "source": [
        "count.to_frame().hist()"
      ],
      "execution_count": null,
      "outputs": []
    },
    {
      "cell_type": "code",
      "metadata": {
        "id": "fhMnt6zRi9Yh"
      },
      "source": [
        "count[count<100].to_frame().hist()"
      ],
      "execution_count": null,
      "outputs": []
    },
    {
      "cell_type": "markdown",
      "metadata": {
        "id": "Fx0BezQMi9Yh"
      },
      "source": [
        "We can see people that go really frequently and those who visit rare."
      ]
    },
    {
      "cell_type": "markdown",
      "metadata": {
        "id": "j9PCpzQqfz7v"
      },
      "source": [
        "### Usual cart"
      ]
    },
    {
      "cell_type": "code",
      "metadata": {
        "id": "IXd9BRRHf1NS"
      },
      "source": [
        "customers_per_group = df.groupby('id_group')['id_card'].unique().apply(len)\n",
        "\n",
        "plt.figure(figsize=(8, 5))\n",
        "plt.hist(customers_per_group.sort_values(ascending=False)[:30], bins=20)\n",
        "plt.ylabel('Groups count')\n",
        "plt.ylabel('Number of customers');"
      ],
      "execution_count": null,
      "outputs": []
    },
    {
      "cell_type": "code",
      "metadata": {
        "id": "CnobmbuPg7Bt"
      },
      "source": [
        "customers_per_group = df.groupby(by=['id_group'])['id_card'].unique().apply(len)\n",
        "customers_per_group = customers_per_group.sort_values(ascending=False)\n",
        "customers_per_group[:20].plot(kind='bar')\n",
        "\n",
        "plt.ylabel('Num of customers');"
      ],
      "execution_count": null,
      "outputs": []
    },
    {
      "cell_type": "code",
      "metadata": {
        "id": "zaBYfhDqwidl"
      },
      "source": [
        "sus_groups = p_g[p_g.id_group.isin(customers_per_group[:20].index)]\n",
        "sus_groups.drop_duplicates('id_group', 'first', inplace=True)\n",
        "sus_groups['occurence'] = customers_per_group[:20]\n",
        "sus_groups.sort_values('occurence', ascending=False)\n",
        "sus_groups[['id_group', 'name_group', 'occurence']].head()"
      ],
      "execution_count": null,
      "outputs": []
    },
    {
      "cell_type": "markdown",
      "metadata": {
        "id": "RZ0KhuWwwT5V"
      },
      "source": [
        "\"Кисломолочные продукты\" the most popular"
      ]
    }
  ]
}