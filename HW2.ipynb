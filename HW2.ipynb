{
 "cells": [
  {
   "cell_type": "markdown",
   "metadata": {},
   "source": [
    "# HW 2"
   ]
  },
  {
   "cell_type": "code",
   "execution_count": 1,
   "metadata": {},
   "outputs": [],
   "source": [
    "import pandas as pd\n",
    "from tqdm import tqdm"
   ]
  },
  {
   "cell_type": "code",
   "execution_count": 2,
   "metadata": {},
   "outputs": [],
   "source": [
    "df = pd.read_csv(\"09_groups.csv\")"
   ]
  },
  {
   "cell_type": "markdown",
   "metadata": {},
   "source": [
    "Frequent buyers"
   ]
  },
  {
   "cell_type": "code",
   "execution_count": 3,
   "metadata": {},
   "outputs": [
    {
     "data": {
      "text/html": [
       "<div>\n",
       "<style scoped>\n",
       "    .dataframe tbody tr th:only-of-type {\n",
       "        vertical-align: middle;\n",
       "    }\n",
       "\n",
       "    .dataframe tbody tr th {\n",
       "        vertical-align: top;\n",
       "    }\n",
       "\n",
       "    .dataframe thead th {\n",
       "        text-align: right;\n",
       "    }\n",
       "</style>\n",
       "<table border=\"1\" class=\"dataframe\">\n",
       "  <thead>\n",
       "    <tr style=\"text-align: right;\">\n",
       "      <th></th>\n",
       "      <th>date</th>\n",
       "      <th>id_doc</th>\n",
       "      <th>id_order</th>\n",
       "      <th>id_card</th>\n",
       "      <th>id_tov</th>\n",
       "      <th>id_kontr</th>\n",
       "      <th>quantity</th>\n",
       "      <th>sum</th>\n",
       "      <th>is_green</th>\n",
       "      <th>id_group</th>\n",
       "    </tr>\n",
       "  </thead>\n",
       "  <tbody>\n",
       "    <tr>\n",
       "      <th>0</th>\n",
       "      <td>2020-09-01 17:01:25</td>\n",
       "      <td>1283228</td>\n",
       "      <td>0.0</td>\n",
       "      <td>1538855</td>\n",
       "      <td>52</td>\n",
       "      <td>271</td>\n",
       "      <td>1.0</td>\n",
       "      <td>108.00</td>\n",
       "      <td>0</td>\n",
       "      <td>10004</td>\n",
       "    </tr>\n",
       "    <tr>\n",
       "      <th>1</th>\n",
       "      <td>2020-09-01 17:35:36</td>\n",
       "      <td>8873113</td>\n",
       "      <td>0.0</td>\n",
       "      <td>267307</td>\n",
       "      <td>52</td>\n",
       "      <td>271</td>\n",
       "      <td>1.0</td>\n",
       "      <td>108.00</td>\n",
       "      <td>0</td>\n",
       "      <td>10004</td>\n",
       "    </tr>\n",
       "    <tr>\n",
       "      <th>2</th>\n",
       "      <td>2020-09-01 19:19:21</td>\n",
       "      <td>12712899</td>\n",
       "      <td>0.0</td>\n",
       "      <td>610220</td>\n",
       "      <td>52</td>\n",
       "      <td>271</td>\n",
       "      <td>1.0</td>\n",
       "      <td>107.95</td>\n",
       "      <td>0</td>\n",
       "      <td>10004</td>\n",
       "    </tr>\n",
       "    <tr>\n",
       "      <th>3</th>\n",
       "      <td>2020-09-01 21:53:34</td>\n",
       "      <td>21535283</td>\n",
       "      <td>0.0</td>\n",
       "      <td>441497</td>\n",
       "      <td>52</td>\n",
       "      <td>271</td>\n",
       "      <td>1.0</td>\n",
       "      <td>108.00</td>\n",
       "      <td>0</td>\n",
       "      <td>10004</td>\n",
       "    </tr>\n",
       "    <tr>\n",
       "      <th>4</th>\n",
       "      <td>2020-09-01 18:42:31</td>\n",
       "      <td>642341</td>\n",
       "      <td>0.0</td>\n",
       "      <td>1065358</td>\n",
       "      <td>61</td>\n",
       "      <td>97</td>\n",
       "      <td>2.0</td>\n",
       "      <td>88.00</td>\n",
       "      <td>0</td>\n",
       "      <td>10091</td>\n",
       "    </tr>\n",
       "  </tbody>\n",
       "</table>\n",
       "</div>"
      ],
      "text/plain": [
       "                  date    id_doc  id_order  id_card  id_tov  id_kontr  \\\n",
       "0  2020-09-01 17:01:25   1283228       0.0  1538855      52       271   \n",
       "1  2020-09-01 17:35:36   8873113       0.0   267307      52       271   \n",
       "2  2020-09-01 19:19:21  12712899       0.0   610220      52       271   \n",
       "3  2020-09-01 21:53:34  21535283       0.0   441497      52       271   \n",
       "4  2020-09-01 18:42:31    642341       0.0  1065358      61        97   \n",
       "\n",
       "   quantity     sum  is_green  id_group  \n",
       "0       1.0  108.00         0     10004  \n",
       "1       1.0  108.00         0     10004  \n",
       "2       1.0  107.95         0     10004  \n",
       "3       1.0  108.00         0     10004  \n",
       "4       2.0   88.00         0     10091  "
      ]
     },
     "execution_count": 3,
     "metadata": {},
     "output_type": "execute_result"
    }
   ],
   "source": [
    "df.head()"
   ]
  },
  {
   "cell_type": "code",
   "execution_count": 4,
   "metadata": {},
   "outputs": [],
   "source": [
    "from collections import Counter\n",
    "\n",
    "common_buyers = Counter(df['id_card']).most_common()"
   ]
  },
  {
   "cell_type": "markdown",
   "metadata": {},
   "source": [
    "Average purchase sum"
   ]
  },
  {
   "cell_type": "code",
   "execution_count": 5,
   "metadata": {},
   "outputs": [],
   "source": [
    "avg_sum = df.groupby(\"id_doc\")['sum'].mean()"
   ]
  },
  {
   "cell_type": "markdown",
   "metadata": {},
   "source": [
    "$H_0$: Buying discounted products depends on the average order sum"
   ]
  },
  {
   "cell_type": "code",
   "execution_count": 6,
   "metadata": {},
   "outputs": [],
   "source": [
    "discount_in_receipt = df.groupby(\"id_doc\")['is_green'].sum()\n",
    "\n",
    "avg_sum = avg_sum.to_list()\n",
    "discount_in_receipt = discount_in_receipt.to_list()"
   ]
  },
  {
   "cell_type": "code",
   "execution_count": 7,
   "metadata": {},
   "outputs": [],
   "source": [
    "from scipy.stats import pearsonr"
   ]
  },
  {
   "cell_type": "code",
   "execution_count": 8,
   "metadata": {},
   "outputs": [
    {
     "data": {
      "text/plain": [
       "(-0.12509638905839623, 0.0)"
      ]
     },
     "execution_count": 8,
     "metadata": {},
     "output_type": "execute_result"
    }
   ],
   "source": [
    "pearsonr(discount_in_receipt, avg_sum)"
   ]
  },
  {
   "cell_type": "markdown",
   "metadata": {},
   "source": [
    "Correlation coefficient is negative, but it should be positive to accept $H_0$, then reject $H_0$"
   ]
  },
  {
   "cell_type": "markdown",
   "metadata": {},
   "source": [
    "Usual cart - The customers grouped by the product groups"
   ]
  },
  {
   "cell_type": "code",
   "execution_count": 9,
   "metadata": {},
   "outputs": [],
   "source": [
    "usual_cart = df.groupby(\"id_tov\")[\"id_card\"].agg(lambda x: \";\".join(map(str,x)))"
   ]
  },
  {
   "cell_type": "code",
   "execution_count": 10,
   "metadata": {},
   "outputs": [
    {
     "data": {
      "text/plain": [
       "id_tov\n",
       "46       1407376;334298;1430811;1430811;1430811;585298;...\n",
       "52       1538855;267307;610220;441497;256114;256118;238...\n",
       "61       1065358;375644;736538;142160;1408467;641525;21...\n",
       "69       1805657;801763;318237;96877;280778;108177;1376...\n",
       "71       93180;672235;672235;115708;391703;1233094;1832...\n",
       "                               ...                        \n",
       "38546    186127;1011106;1430264;1759196;1117780;1071914...\n",
       "38587    1212088;399475;1105513;141468;1736039;9864;888...\n",
       "38618    1706918;604589;125835;198126;948957;675834;129...\n",
       "38645        444004;1370462;253891;1163221;1448335;1575583\n",
       "38660                                              1454833\n",
       "Name: id_card, Length: 6081, dtype: object"
      ]
     },
     "execution_count": 10,
     "metadata": {},
     "output_type": "execute_result"
    }
   ],
   "source": [
    "usual_cart"
   ]
  },
  {
   "cell_type": "code",
   "execution_count": 11,
   "metadata": {},
   "outputs": [],
   "source": [
    "del usual_cart"
   ]
  },
  {
   "cell_type": "markdown",
   "metadata": {},
   "source": [
    "$H_0$: The frequency of shopping grows around the wage taking days (1-6 days of each month, 20 -26 days of each month)"
   ]
  },
  {
   "cell_type": "code",
   "execution_count": 12,
   "metadata": {},
   "outputs": [],
   "source": [
    "df.index = pd.to_datetime(df['date'],format='%Y-%m-%d %H:%M:%S')"
   ]
  },
  {
   "cell_type": "code",
   "execution_count": 13,
   "metadata": {},
   "outputs": [
    {
     "data": {
      "text/html": [
       "<div>\n",
       "<style scoped>\n",
       "    .dataframe tbody tr th:only-of-type {\n",
       "        vertical-align: middle;\n",
       "    }\n",
       "\n",
       "    .dataframe tbody tr th {\n",
       "        vertical-align: top;\n",
       "    }\n",
       "\n",
       "    .dataframe thead th {\n",
       "        text-align: right;\n",
       "    }\n",
       "</style>\n",
       "<table border=\"1\" class=\"dataframe\">\n",
       "  <thead>\n",
       "    <tr style=\"text-align: right;\">\n",
       "      <th></th>\n",
       "      <th>date</th>\n",
       "      <th>id_doc</th>\n",
       "      <th>id_order</th>\n",
       "      <th>id_card</th>\n",
       "      <th>id_tov</th>\n",
       "      <th>id_kontr</th>\n",
       "      <th>quantity</th>\n",
       "      <th>sum</th>\n",
       "      <th>is_green</th>\n",
       "      <th>id_group</th>\n",
       "    </tr>\n",
       "    <tr>\n",
       "      <th>date</th>\n",
       "      <th></th>\n",
       "      <th></th>\n",
       "      <th></th>\n",
       "      <th></th>\n",
       "      <th></th>\n",
       "      <th></th>\n",
       "      <th></th>\n",
       "      <th></th>\n",
       "      <th></th>\n",
       "      <th></th>\n",
       "    </tr>\n",
       "  </thead>\n",
       "  <tbody>\n",
       "    <tr>\n",
       "      <th>2020-09-30 11:26:28</th>\n",
       "      <td>2020-09-30 11:26:28</td>\n",
       "      <td>4850561</td>\n",
       "      <td>0.0</td>\n",
       "      <td>1739990</td>\n",
       "      <td>25292</td>\n",
       "      <td>17528</td>\n",
       "      <td>1.0</td>\n",
       "      <td>130.0</td>\n",
       "      <td>0</td>\n",
       "      <td>10099</td>\n",
       "    </tr>\n",
       "    <tr>\n",
       "      <th>2020-09-30 08:12:39</th>\n",
       "      <td>2020-09-30 08:12:39</td>\n",
       "      <td>10015419</td>\n",
       "      <td>0.0</td>\n",
       "      <td>1761351</td>\n",
       "      <td>30740</td>\n",
       "      <td>19188</td>\n",
       "      <td>2.0</td>\n",
       "      <td>120.0</td>\n",
       "      <td>0</td>\n",
       "      <td>10008</td>\n",
       "    </tr>\n",
       "    <tr>\n",
       "      <th>2020-09-30 09:54:24</th>\n",
       "      <td>2020-09-30 09:54:24</td>\n",
       "      <td>22816791</td>\n",
       "      <td>0.0</td>\n",
       "      <td>1432778</td>\n",
       "      <td>30741</td>\n",
       "      <td>19188</td>\n",
       "      <td>1.0</td>\n",
       "      <td>73.0</td>\n",
       "      <td>0</td>\n",
       "      <td>10254</td>\n",
       "    </tr>\n",
       "    <tr>\n",
       "      <th>2020-09-30 12:00:04</th>\n",
       "      <td>2020-09-30 12:00:04</td>\n",
       "      <td>1648929</td>\n",
       "      <td>0.0</td>\n",
       "      <td>484390</td>\n",
       "      <td>34835</td>\n",
       "      <td>15916</td>\n",
       "      <td>1.0</td>\n",
       "      <td>78.0</td>\n",
       "      <td>0</td>\n",
       "      <td>10099</td>\n",
       "    </tr>\n",
       "    <tr>\n",
       "      <th>2020-09-30 09:37:16</th>\n",
       "      <td>2020-09-30 09:37:16</td>\n",
       "      <td>22302533</td>\n",
       "      <td>0.0</td>\n",
       "      <td>557627</td>\n",
       "      <td>34835</td>\n",
       "      <td>15916</td>\n",
       "      <td>1.0</td>\n",
       "      <td>78.0</td>\n",
       "      <td>0</td>\n",
       "      <td>10099</td>\n",
       "    </tr>\n",
       "  </tbody>\n",
       "</table>\n",
       "</div>"
      ],
      "text/plain": [
       "                                    date    id_doc  id_order  id_card  id_tov  \\\n",
       "date                                                                            \n",
       "2020-09-30 11:26:28  2020-09-30 11:26:28   4850561       0.0  1739990   25292   \n",
       "2020-09-30 08:12:39  2020-09-30 08:12:39  10015419       0.0  1761351   30740   \n",
       "2020-09-30 09:54:24  2020-09-30 09:54:24  22816791       0.0  1432778   30741   \n",
       "2020-09-30 12:00:04  2020-09-30 12:00:04   1648929       0.0   484390   34835   \n",
       "2020-09-30 09:37:16  2020-09-30 09:37:16  22302533       0.0   557627   34835   \n",
       "\n",
       "                     id_kontr  quantity    sum  is_green  id_group  \n",
       "date                                                                \n",
       "2020-09-30 11:26:28     17528       1.0  130.0         0     10099  \n",
       "2020-09-30 08:12:39     19188       2.0  120.0         0     10008  \n",
       "2020-09-30 09:54:24     19188       1.0   73.0         0     10254  \n",
       "2020-09-30 12:00:04     15916       1.0   78.0         0     10099  \n",
       "2020-09-30 09:37:16     15916       1.0   78.0         0     10099  "
      ]
     },
     "execution_count": 13,
     "metadata": {},
     "output_type": "execute_result"
    }
   ],
   "source": [
    "df.tail()"
   ]
  },
  {
   "cell_type": "code",
   "execution_count": 14,
   "metadata": {},
   "outputs": [],
   "source": [
    "num_of_buyings = df.groupby(by=[df.index.day])['id_doc'].count()"
   ]
  },
  {
   "cell_type": "code",
   "execution_count": 15,
   "metadata": {},
   "outputs": [
    {
     "data": {
      "image/png": "[encoded data removed]",
      "text/plain": [
       "<Figure size 720x576 with 1 Axes>"
      ]
     },
     "metadata": {
      "needs_background": "light"
     },
     "output_type": "display_data"
    }
   ],
   "source": [
    "import matplotlib.pyplot as plt\n",
    "\n",
    "plt.figure(figsize=(10,8))\n",
    "plt.locator_params(axis=\"x\", nbins=50)\n",
    "num_of_buyings.plot()\n",
    "plt.grid()"
   ]
  },
  {
   "cell_type": "markdown",
   "metadata": {},
   "source": [
    "As we can see from the plot the number of buyings are decreasing in dates of 1-6 and 20-26. Failed to reject $H_0$"
   ]
  }
 ],
 "metadata": {
  "kernelspec": {
   "display_name": "Python (study)",
   "language": "python",
   "name": "study"
  },
  "language_info": {
   "codemirror_mode": {
    "name": "ipython",
    "version": 3
   },
   "file_extension": ".py",
   "mimetype": "text/x-python",
   "name": "python",
   "nbconvert_exporter": "python",
   "pygments_lexer": "ipython3",
   "version": "3.7.10"
  }
 },
 "nbformat": 4,
 "nbformat_minor": 5
}
