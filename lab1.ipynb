{
 "cells": [
  {
   "cell_type": "code",
   "execution_count": 3,
   "id": "pediatric-bloom",
   "metadata": {},
   "outputs": [
    {
     "name": "stdout",
     "output_type": "stream",
     "text": [
      "products_20200901.txt  products_20201001.txt  products_20201101.txt\r\n"
     ]
    }
   ],
   "source": [
    "!ls data"
   ]
  },
  {
   "cell_type": "code",
   "execution_count": 4,
   "id": "smooth-dietary",
   "metadata": {},
   "outputs": [
    {
     "name": "stdout",
     "output_type": "stream",
     "text": [
      "date;id_doc;id_order;id_card;id_tov;id_kontr;quantity;sum;is_green\r",
      "\r\n",
      "2020-09-01 17:01:25;0E05D308-5CEC-EA11-B444-005056A7539A;0;8594499   ;52;271;1,000;108;0\r",
      "\r\n",
      "2020-09-01 17:35:36;610205A1-61EC-EA11-B444-005056A7539A;0;1452388   ;52;271;1,000;108;0\r",
      "\r\n",
      "2020-09-01 19:19:21;8AF19602-70EC-EA11-B444-005056A7539A;0;3493538   ;52;271;1,000;107,95;0\r",
      "\r\n",
      "2020-09-01 21:53:34;EB6C71A3-84EC-EA11-B444-005056A7539A;0;2491281   ;52;271;1,000;108;0\r",
      "\r\n",
      "2020-09-01 18:42:31;0706023F-6BEC-EA11-B444-005056A7539A;0;5732396   ;61;97;2,000;88;0\r",
      "\r\n",
      "2020-09-01 12:47:31;0B25F727-39EC-EA11-B444-005056A7539A;0;2102075   ;61;271;4,000;224;0\r",
      "\r\n",
      "2020-09-01 19:50:31;1B34A539-74EC-EA11-B444-005056A7539A;0;4119786   ;61;97;1,000;56;0\r",
      "\r\n",
      "2020-09-01 18:40:04;613ECF77-6AEC-EA11-B444-005056A7539A;0;0728921   ;61;271;1,000;56;0\r",
      "\r\n",
      "2020-09-01 20:26:48;91F88E96-78EC-EA11-B444-005056A7539A;0;7632304   ;61;379;1,000;44;0\r",
      "\r\n"
     ]
    }
   ],
   "source": [
    "!head data/products_20200901.txt"
   ]
  },
  {
   "cell_type": "code",
   "execution_count": 8,
   "id": "wicked-cinema",
   "metadata": {},
   "outputs": [],
   "source": [
    "import pandas as pd\n",
    "from datetime import datetime"
   ]
  },
  {
   "cell_type": "code",
   "execution_count": 17,
   "id": "multiple-basket",
   "metadata": {},
   "outputs": [],
   "source": [
    "dateparse = lambda x: datetime.strptime(x, '%Y-%m-%d %H:%M:%S')"
   ]
  },
  {
   "cell_type": "markdown",
   "id": "korean-sensitivity",
   "metadata": {},
   "source": [
    "1. NaNs +\n",
    "2. Customer outliers\n",
    "3. *Column* in terms frequency and amount - outliers\n",
    "4. How many goods of certain groups (of goods)\n",
    "5. Descriptives (discount, good preferences, preferences of group of good, etc.)"
   ]
  },
  {
   "cell_type": "code",
   "execution_count": 15,
   "id": "adolescent-configuration",
   "metadata": {},
   "outputs": [
    {
     "data": {
      "text/plain": [
       "['date',\n",
       " 'id_doc',\n",
       " 'id_order',\n",
       " 'id_card',\n",
       " 'id_tov',\n",
       " 'id_kontr',\n",
       " 'quantity',\n",
       " 'sum',\n",
       " 'is_green']"
      ]
     },
     "execution_count": 15,
     "metadata": {},
     "output_type": "execute_result"
    }
   ],
   "source": [
    "colunms = [s for s in 'date;id_doc;id_order;id_card;id_tov;id_kontr;quantity;sum;is_green'.split(';')]\n",
    "colunms"
   ]
  },
  {
   "cell_type": "code",
   "execution_count": 21,
   "id": "animal-store",
   "metadata": {},
   "outputs": [
    {
     "data": {
      "text/html": [
       "<div>\n",
       "<style scoped>\n",
       "    .dataframe tbody tr th:only-of-type {\n",
       "        vertical-align: middle;\n",
       "    }\n",
       "\n",
       "    .dataframe tbody tr th {\n",
       "        vertical-align: top;\n",
       "    }\n",
       "\n",
       "    .dataframe thead th {\n",
       "        text-align: right;\n",
       "    }\n",
       "</style>\n",
       "<table border=\"1\" class=\"dataframe\">\n",
       "  <thead>\n",
       "    <tr style=\"text-align: right;\">\n",
       "      <th></th>\n",
       "      <th>date</th>\n",
       "      <th>id_doc</th>\n",
       "      <th>id_order</th>\n",
       "      <th>id_card</th>\n",
       "      <th>id_tov</th>\n",
       "      <th>id_kontr</th>\n",
       "      <th>quantity</th>\n",
       "      <th>sum</th>\n",
       "      <th>is_green</th>\n",
       "    </tr>\n",
       "  </thead>\n",
       "  <tbody>\n",
       "    <tr>\n",
       "      <th>0</th>\n",
       "      <td>2020-09-01 17:01:25</td>\n",
       "      <td>0E05D308-5CEC-EA11-B444-005056A7539A</td>\n",
       "      <td>0</td>\n",
       "      <td>8594499</td>\n",
       "      <td>52</td>\n",
       "      <td>271.0</td>\n",
       "      <td>1,000</td>\n",
       "      <td>108</td>\n",
       "      <td>0.0</td>\n",
       "    </tr>\n",
       "    <tr>\n",
       "      <th>1</th>\n",
       "      <td>2020-09-01 17:35:36</td>\n",
       "      <td>610205A1-61EC-EA11-B444-005056A7539A</td>\n",
       "      <td>0</td>\n",
       "      <td>1452388</td>\n",
       "      <td>52</td>\n",
       "      <td>271.0</td>\n",
       "      <td>1,000</td>\n",
       "      <td>108</td>\n",
       "      <td>0.0</td>\n",
       "    </tr>\n",
       "    <tr>\n",
       "      <th>2</th>\n",
       "      <td>2020-09-01 19:19:21</td>\n",
       "      <td>8AF19602-70EC-EA11-B444-005056A7539A</td>\n",
       "      <td>0</td>\n",
       "      <td>3493538</td>\n",
       "      <td>52</td>\n",
       "      <td>271.0</td>\n",
       "      <td>1,000</td>\n",
       "      <td>107,95</td>\n",
       "      <td>0.0</td>\n",
       "    </tr>\n",
       "    <tr>\n",
       "      <th>3</th>\n",
       "      <td>2020-09-01 21:53:34</td>\n",
       "      <td>EB6C71A3-84EC-EA11-B444-005056A7539A</td>\n",
       "      <td>0</td>\n",
       "      <td>2491281</td>\n",
       "      <td>52</td>\n",
       "      <td>271.0</td>\n",
       "      <td>1,000</td>\n",
       "      <td>108</td>\n",
       "      <td>0.0</td>\n",
       "    </tr>\n",
       "    <tr>\n",
       "      <th>4</th>\n",
       "      <td>2020-09-01 18:42:31</td>\n",
       "      <td>0706023F-6BEC-EA11-B444-005056A7539A</td>\n",
       "      <td>0</td>\n",
       "      <td>5732396</td>\n",
       "      <td>61</td>\n",
       "      <td>97.0</td>\n",
       "      <td>2,000</td>\n",
       "      <td>88</td>\n",
       "      <td>0.0</td>\n",
       "    </tr>\n",
       "  </tbody>\n",
       "</table>\n",
       "</div>"
      ],
      "text/plain": [
       "                 date                                id_doc  id_order  \\\n",
       "0 2020-09-01 17:01:25  0E05D308-5CEC-EA11-B444-005056A7539A         0   \n",
       "1 2020-09-01 17:35:36  610205A1-61EC-EA11-B444-005056A7539A         0   \n",
       "2 2020-09-01 19:19:21  8AF19602-70EC-EA11-B444-005056A7539A         0   \n",
       "3 2020-09-01 21:53:34  EB6C71A3-84EC-EA11-B444-005056A7539A         0   \n",
       "4 2020-09-01 18:42:31  0706023F-6BEC-EA11-B444-005056A7539A         0   \n",
       "\n",
       "      id_card  id_tov  id_kontr quantity     sum  is_green  \n",
       "0  8594499         52     271.0    1,000     108       0.0  \n",
       "1  1452388         52     271.0    1,000     108       0.0  \n",
       "2  3493538         52     271.0    1,000  107,95       0.0  \n",
       "3  2491281         52     271.0    1,000     108       0.0  \n",
       "4  5732396         61      97.0    2,000      88       0.0  "
      ]
     },
     "execution_count": 21,
     "metadata": {},
     "output_type": "execute_result"
    }
   ],
   "source": [
    "df = pd.read_csv(\n",
    "    filepath_or_buffer='data/products_20200901.txt',\n",
    "    header=0,\n",
    "    sep=';',\n",
    "    names = colunms,\n",
    "    usecols = colunms,\n",
    "    parse_dates=['date'],\n",
    "    date_parser=dateparse\n",
    ")\n",
    "df.head()"
   ]
  },
  {
   "cell_type": "code",
   "execution_count": 23,
   "id": "disturbed-walnut",
   "metadata": {},
   "outputs": [
    {
     "data": {
      "text/plain": [
       "date        datetime64[ns]\n",
       "id_doc              object\n",
       "id_order             int64\n",
       "id_card             object\n",
       "id_tov               int64\n",
       "id_kontr           float64\n",
       "quantity            object\n",
       "sum                 object\n",
       "is_green           float64\n",
       "dtype: object"
      ]
     },
     "execution_count": 23,
     "metadata": {},
     "output_type": "execute_result"
    }
   ],
   "source": [
    "df.dtypes"
   ]
  },
  {
   "cell_type": "code",
   "execution_count": 24,
   "id": "european-session",
   "metadata": {},
   "outputs": [
    {
     "data": {
      "text/plain": [
       "True"
      ]
     },
     "execution_count": 24,
     "metadata": {},
     "output_type": "execute_result"
    }
   ],
   "source": [
    "df.isnull().values.any()"
   ]
  },
  {
   "cell_type": "code",
   "execution_count": 29,
   "id": "split-inflation",
   "metadata": {},
   "outputs": [
    {
     "data": {
      "text/plain": [
       "12493586"
      ]
     },
     "execution_count": 29,
     "metadata": {},
     "output_type": "execute_result"
    }
   ],
   "source": [
    "len(df)"
   ]
  },
  {
   "cell_type": "code",
   "execution_count": 26,
   "id": "military-mechanism",
   "metadata": {},
   "outputs": [
    {
     "data": {
      "text/plain": [
       "Index(['id_kontr', 'quantity', 'sum', 'is_green'], dtype='object')"
      ]
     },
     "execution_count": 26,
     "metadata": {},
     "output_type": "execute_result"
    }
   ],
   "source": [
    "df.loc[:, df.isnull().any()].columns"
   ]
  },
  {
   "cell_type": "code",
   "execution_count": 31,
   "id": "express-source",
   "metadata": {},
   "outputs": [
    {
     "data": {
      "text/html": [
       "<div>\n",
       "<style scoped>\n",
       "    .dataframe tbody tr th:only-of-type {\n",
       "        vertical-align: middle;\n",
       "    }\n",
       "\n",
       "    .dataframe tbody tr th {\n",
       "        vertical-align: top;\n",
       "    }\n",
       "\n",
       "    .dataframe thead th {\n",
       "        text-align: right;\n",
       "    }\n",
       "</style>\n",
       "<table border=\"1\" class=\"dataframe\">\n",
       "  <thead>\n",
       "    <tr style=\"text-align: right;\">\n",
       "      <th></th>\n",
       "      <th>date</th>\n",
       "      <th>id_doc</th>\n",
       "      <th>id_order</th>\n",
       "      <th>id_card</th>\n",
       "      <th>id_tov</th>\n",
       "      <th>id_kontr</th>\n",
       "      <th>quantity</th>\n",
       "      <th>sum</th>\n",
       "      <th>is_green</th>\n",
       "    </tr>\n",
       "  </thead>\n",
       "  <tbody>\n",
       "    <tr>\n",
       "      <th>73</th>\n",
       "      <td>2020-09-01 18:23:24</td>\n",
       "      <td>DCD681FA-67EC-EA11-B444-005056A7539A</td>\n",
       "      <td>0</td>\n",
       "      <td>1452280</td>\n",
       "      <td>185</td>\n",
       "      <td>NaN</td>\n",
       "      <td>1,000</td>\n",
       "      <td>129</td>\n",
       "      <td>0.0</td>\n",
       "    </tr>\n",
       "    <tr>\n",
       "      <th>126</th>\n",
       "      <td>2020-09-01 18:45:27</td>\n",
       "      <td>1606023F-6BEC-EA11-B444-005056A7539A</td>\n",
       "      <td>0</td>\n",
       "      <td>4475695</td>\n",
       "      <td>372</td>\n",
       "      <td>NaN</td>\n",
       "      <td>1,000</td>\n",
       "      <td>82</td>\n",
       "      <td>0.0</td>\n",
       "    </tr>\n",
       "    <tr>\n",
       "      <th>127</th>\n",
       "      <td>2020-09-01 20:55:22</td>\n",
       "      <td>AB82A13B-7DEC-EA11-B444-005056A7539A</td>\n",
       "      <td>0</td>\n",
       "      <td>5167781</td>\n",
       "      <td>372</td>\n",
       "      <td>NaN</td>\n",
       "      <td>1,000</td>\n",
       "      <td>82</td>\n",
       "      <td>0.0</td>\n",
       "    </tr>\n",
       "    <tr>\n",
       "      <th>128</th>\n",
       "      <td>2020-09-01 20:45:49</td>\n",
       "      <td>AE21D94F-7BEC-EA11-B444-005056A7539A</td>\n",
       "      <td>0</td>\n",
       "      <td>9813162</td>\n",
       "      <td>372</td>\n",
       "      <td>NaN</td>\n",
       "      <td>1,000</td>\n",
       "      <td>82</td>\n",
       "      <td>0.0</td>\n",
       "    </tr>\n",
       "    <tr>\n",
       "      <th>199</th>\n",
       "      <td>2020-09-01 14:53:45</td>\n",
       "      <td>03E52BAA-4AEC-EA11-B444-005056A7539A</td>\n",
       "      <td>0</td>\n",
       "      <td>7632871</td>\n",
       "      <td>647</td>\n",
       "      <td>NaN</td>\n",
       "      <td>1,000</td>\n",
       "      <td>5</td>\n",
       "      <td>0.0</td>\n",
       "    </tr>\n",
       "    <tr>\n",
       "      <th>...</th>\n",
       "      <td>...</td>\n",
       "      <td>...</td>\n",
       "      <td>...</td>\n",
       "      <td>...</td>\n",
       "      <td>...</td>\n",
       "      <td>...</td>\n",
       "      <td>...</td>\n",
       "      <td>...</td>\n",
       "      <td>...</td>\n",
       "    </tr>\n",
       "    <tr>\n",
       "      <th>12493494</th>\n",
       "      <td>2020-09-10 15:06:30</td>\n",
       "      <td>9877163B-5EF3-EA11-B444-005056A7539A</td>\n",
       "      <td>0</td>\n",
       "      <td>2579350</td>\n",
       "      <td>14684</td>\n",
       "      <td>NaN</td>\n",
       "      <td>1,000</td>\n",
       "      <td>98</td>\n",
       "      <td>0.0</td>\n",
       "    </tr>\n",
       "    <tr>\n",
       "      <th>12493495</th>\n",
       "      <td>2020-09-10 10:21:14</td>\n",
       "      <td>99B78175-36F3-EA11-B444-005056A7539A</td>\n",
       "      <td>0</td>\n",
       "      <td>3064187</td>\n",
       "      <td>14684</td>\n",
       "      <td>NaN</td>\n",
       "      <td>4,000</td>\n",
       "      <td>392</td>\n",
       "      <td>0.0</td>\n",
       "    </tr>\n",
       "    <tr>\n",
       "      <th>12493496</th>\n",
       "      <td>2020-09-10 09:58:33</td>\n",
       "      <td>DF059F4A-33F3-EA11-B444-005056A7539A</td>\n",
       "      <td>0</td>\n",
       "      <td>2725535</td>\n",
       "      <td>14684</td>\n",
       "      <td>NaN</td>\n",
       "      <td>1,000</td>\n",
       "      <td>98</td>\n",
       "      <td>0.0</td>\n",
       "    </tr>\n",
       "    <tr>\n",
       "      <th>12493497</th>\n",
       "      <td>2020-09-10 19:57:20</td>\n",
       "      <td>FDAF2A49-88F3-EA11-B444-005056A7539A</td>\n",
       "      <td>0</td>\n",
       "      <td>B636698</td>\n",
       "      <td>14684</td>\n",
       "      <td>NaN</td>\n",
       "      <td>1,000</td>\n",
       "      <td>98</td>\n",
       "      <td>0.0</td>\n",
       "    </tr>\n",
       "    <tr>\n",
       "      <th>12493555</th>\n",
       "      <td>2020-09-10 21:38:15</td>\n",
       "      <td>A71D013B-95F3-EA11-B444-005056A7539A</td>\n",
       "      <td>0</td>\n",
       "      <td>4381665</td>\n",
       "      <td>15197</td>\n",
       "      <td>NaN</td>\n",
       "      <td>1,000</td>\n",
       "      <td>48</td>\n",
       "      <td>0.0</td>\n",
       "    </tr>\n",
       "  </tbody>\n",
       "</table>\n",
       "<p>1110011 rows × 9 columns</p>\n",
       "</div>"
      ],
      "text/plain": [
       "                        date                                id_doc  id_order  \\\n",
       "73       2020-09-01 18:23:24  DCD681FA-67EC-EA11-B444-005056A7539A         0   \n",
       "126      2020-09-01 18:45:27  1606023F-6BEC-EA11-B444-005056A7539A         0   \n",
       "127      2020-09-01 20:55:22  AB82A13B-7DEC-EA11-B444-005056A7539A         0   \n",
       "128      2020-09-01 20:45:49  AE21D94F-7BEC-EA11-B444-005056A7539A         0   \n",
       "199      2020-09-01 14:53:45  03E52BAA-4AEC-EA11-B444-005056A7539A         0   \n",
       "...                      ...                                   ...       ...   \n",
       "12493494 2020-09-10 15:06:30  9877163B-5EF3-EA11-B444-005056A7539A         0   \n",
       "12493495 2020-09-10 10:21:14  99B78175-36F3-EA11-B444-005056A7539A         0   \n",
       "12493496 2020-09-10 09:58:33  DF059F4A-33F3-EA11-B444-005056A7539A         0   \n",
       "12493497 2020-09-10 19:57:20  FDAF2A49-88F3-EA11-B444-005056A7539A         0   \n",
       "12493555 2020-09-10 21:38:15  A71D013B-95F3-EA11-B444-005056A7539A         0   \n",
       "\n",
       "             id_card  id_tov  id_kontr quantity  sum  is_green  \n",
       "73        1452280        185       NaN    1,000  129       0.0  \n",
       "126       4475695        372       NaN    1,000   82       0.0  \n",
       "127       5167781        372       NaN    1,000   82       0.0  \n",
       "128       9813162        372       NaN    1,000   82       0.0  \n",
       "199       7632871        647       NaN    1,000    5       0.0  \n",
       "...              ...     ...       ...      ...  ...       ...  \n",
       "12493494  2579350      14684       NaN    1,000   98       0.0  \n",
       "12493495  3064187      14684       NaN    4,000  392       0.0  \n",
       "12493496  2725535      14684       NaN    1,000   98       0.0  \n",
       "12493497  B636698      14684       NaN    1,000   98       0.0  \n",
       "12493555  4381665      15197       NaN    1,000   48       0.0  \n",
       "\n",
       "[1110011 rows x 9 columns]"
      ]
     },
     "execution_count": 31,
     "metadata": {},
     "output_type": "execute_result"
    }
   ],
   "source": [
    "df[df['id_kontr'].isnull()]"
   ]
  },
  {
   "cell_type": "code",
   "execution_count": 32,
   "id": "southwest-craps",
   "metadata": {},
   "outputs": [],
   "source": [
    "null_id_kontr = -9999"
   ]
  },
  {
   "cell_type": "code",
   "execution_count": 33,
   "id": "final-acquisition",
   "metadata": {},
   "outputs": [
    {
     "data": {
      "text/html": [
       "<div>\n",
       "<style scoped>\n",
       "    .dataframe tbody tr th:only-of-type {\n",
       "        vertical-align: middle;\n",
       "    }\n",
       "\n",
       "    .dataframe tbody tr th {\n",
       "        vertical-align: top;\n",
       "    }\n",
       "\n",
       "    .dataframe thead th {\n",
       "        text-align: right;\n",
       "    }\n",
       "</style>\n",
       "<table border=\"1\" class=\"dataframe\">\n",
       "  <thead>\n",
       "    <tr style=\"text-align: right;\">\n",
       "      <th></th>\n",
       "      <th>date</th>\n",
       "      <th>id_doc</th>\n",
       "      <th>id_order</th>\n",
       "      <th>id_card</th>\n",
       "      <th>id_tov</th>\n",
       "      <th>id_kontr</th>\n",
       "      <th>quantity</th>\n",
       "      <th>sum</th>\n",
       "      <th>is_green</th>\n",
       "    </tr>\n",
       "  </thead>\n",
       "  <tbody>\n",
       "    <tr>\n",
       "      <th>12493585</th>\n",
       "      <td>2020-09-10 21:25:05</td>\n",
       "      <td>0665AB49-93F3-EA11-B444-005056A7539A</td>\n",
       "      <td>0</td>\n",
       "      <td>0322922</td>\n",
       "      <td>15373</td>\n",
       "      <td>13.0</td>\n",
       "      <td>NaN</td>\n",
       "      <td>NaN</td>\n",
       "      <td>NaN</td>\n",
       "    </tr>\n",
       "  </tbody>\n",
       "</table>\n",
       "</div>"
      ],
      "text/plain": [
       "                        date                                id_doc  id_order  \\\n",
       "12493585 2020-09-10 21:25:05  0665AB49-93F3-EA11-B444-005056A7539A         0   \n",
       "\n",
       "             id_card  id_tov  id_kontr quantity  sum  is_green  \n",
       "12493585  0322922      15373      13.0      NaN  NaN       NaN  "
      ]
     },
     "execution_count": 33,
     "metadata": {},
     "output_type": "execute_result"
    }
   ],
   "source": [
    "df[df['quantity'].isnull()]"
   ]
  },
  {
   "cell_type": "code",
   "execution_count": 34,
   "id": "accurate-triumph",
   "metadata": {},
   "outputs": [
    {
     "data": {
      "text/html": [
       "<div>\n",
       "<style scoped>\n",
       "    .dataframe tbody tr th:only-of-type {\n",
       "        vertical-align: middle;\n",
       "    }\n",
       "\n",
       "    .dataframe tbody tr th {\n",
       "        vertical-align: top;\n",
       "    }\n",
       "\n",
       "    .dataframe thead th {\n",
       "        text-align: right;\n",
       "    }\n",
       "</style>\n",
       "<table border=\"1\" class=\"dataframe\">\n",
       "  <thead>\n",
       "    <tr style=\"text-align: right;\">\n",
       "      <th></th>\n",
       "      <th>date</th>\n",
       "      <th>id_doc</th>\n",
       "      <th>id_order</th>\n",
       "      <th>id_card</th>\n",
       "      <th>id_tov</th>\n",
       "      <th>id_kontr</th>\n",
       "      <th>quantity</th>\n",
       "      <th>sum</th>\n",
       "      <th>is_green</th>\n",
       "    </tr>\n",
       "  </thead>\n",
       "  <tbody>\n",
       "    <tr>\n",
       "      <th>12493585</th>\n",
       "      <td>2020-09-10 21:25:05</td>\n",
       "      <td>0665AB49-93F3-EA11-B444-005056A7539A</td>\n",
       "      <td>0</td>\n",
       "      <td>0322922</td>\n",
       "      <td>15373</td>\n",
       "      <td>13.0</td>\n",
       "      <td>NaN</td>\n",
       "      <td>NaN</td>\n",
       "      <td>NaN</td>\n",
       "    </tr>\n",
       "  </tbody>\n",
       "</table>\n",
       "</div>"
      ],
      "text/plain": [
       "                        date                                id_doc  id_order  \\\n",
       "12493585 2020-09-10 21:25:05  0665AB49-93F3-EA11-B444-005056A7539A         0   \n",
       "\n",
       "             id_card  id_tov  id_kontr quantity  sum  is_green  \n",
       "12493585  0322922      15373      13.0      NaN  NaN       NaN  "
      ]
     },
     "execution_count": 34,
     "metadata": {},
     "output_type": "execute_result"
    }
   ],
   "source": [
    "df[df['sum'].isnull()]"
   ]
  },
  {
   "cell_type": "code",
   "execution_count": 35,
   "id": "excessive-physics",
   "metadata": {},
   "outputs": [
    {
     "data": {
      "text/html": [
       "<div>\n",
       "<style scoped>\n",
       "    .dataframe tbody tr th:only-of-type {\n",
       "        vertical-align: middle;\n",
       "    }\n",
       "\n",
       "    .dataframe tbody tr th {\n",
       "        vertical-align: top;\n",
       "    }\n",
       "\n",
       "    .dataframe thead th {\n",
       "        text-align: right;\n",
       "    }\n",
       "</style>\n",
       "<table border=\"1\" class=\"dataframe\">\n",
       "  <thead>\n",
       "    <tr style=\"text-align: right;\">\n",
       "      <th></th>\n",
       "      <th>date</th>\n",
       "      <th>id_doc</th>\n",
       "      <th>id_order</th>\n",
       "      <th>id_card</th>\n",
       "      <th>id_tov</th>\n",
       "      <th>id_kontr</th>\n",
       "      <th>quantity</th>\n",
       "      <th>sum</th>\n",
       "      <th>is_green</th>\n",
       "    </tr>\n",
       "  </thead>\n",
       "  <tbody>\n",
       "    <tr>\n",
       "      <th>12493585</th>\n",
       "      <td>2020-09-10 21:25:05</td>\n",
       "      <td>0665AB49-93F3-EA11-B444-005056A7539A</td>\n",
       "      <td>0</td>\n",
       "      <td>0322922</td>\n",
       "      <td>15373</td>\n",
       "      <td>13.0</td>\n",
       "      <td>NaN</td>\n",
       "      <td>NaN</td>\n",
       "      <td>NaN</td>\n",
       "    </tr>\n",
       "  </tbody>\n",
       "</table>\n",
       "</div>"
      ],
      "text/plain": [
       "                        date                                id_doc  id_order  \\\n",
       "12493585 2020-09-10 21:25:05  0665AB49-93F3-EA11-B444-005056A7539A         0   \n",
       "\n",
       "             id_card  id_tov  id_kontr quantity  sum  is_green  \n",
       "12493585  0322922      15373      13.0      NaN  NaN       NaN  "
      ]
     },
     "execution_count": 35,
     "metadata": {},
     "output_type": "execute_result"
    }
   ],
   "source": [
    "df[df['is_green'].isnull()]"
   ]
  }
 ],
 "metadata": {
  "kernelspec": {
   "display_name": "Python 3",
   "language": "python",
   "name": "python3"
  },
  "language_info": {
   "codemirror_mode": {
    "name": "ipython",
    "version": 3
   },
   "file_extension": ".py",
   "mimetype": "text/x-python",
   "name": "python",
   "nbconvert_exporter": "python",
   "pygments_lexer": "ipython3",
   "version": "3.9.1"
  }
 },
 "nbformat": 4,
 "nbformat_minor": 5
}
