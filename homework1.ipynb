{
 "metadata": {
  "language_info": {
   "codemirror_mode": {
    "name": "ipython",
    "version": 3
   },
   "file_extension": ".py",
   "mimetype": "text/x-python",
   "name": "python",
   "nbconvert_exporter": "python",
   "pygments_lexer": "ipython3",
   "version": "3.8.8"
  },
  "orig_nbformat": 2,
  "kernelspec": {
   "name": "python3",
   "display_name": "Python 3.8.8 64-bit ('myenv': venv)",
   "metadata": {
    "interpreter": {
     "hash": "6e5402f455670352ac51d2360b0b6f4549626d48d728f5d3d316ac3efaa57d9b"
    }
   }
  }
 },
 "nbformat": 4,
 "nbformat_minor": 2,
 "cells": [
  {
   "cell_type": "code",
   "execution_count": 1,
   "metadata": {},
   "outputs": [],
   "source": [
    "from pathlib import Path\n",
    "import pandas as pd\n",
    "import gc\n",
    "import bz2\n",
    "from sklearn.preprocessing import LabelEncoder\n",
    "import pickle\n",
    "import numpy as np\n",
    "import os"
   ]
  },
  {
   "cell_type": "code",
   "execution_count": 2,
   "metadata": {},
   "outputs": [],
   "source": [
    "data = './data'"
   ]
  },
  {
   "cell_type": "code",
   "execution_count": 3,
   "metadata": {},
   "outputs": [],
   "source": [
    "def read_bz(name):\n",
    "    f =  bz2.open(os.path.join(data, name), 'rb')\n",
    "    res = pickle.load(f).drop(['id_doc', 'id_card'], axis='columns')\n",
    "    f.close()\n",
    "    return res"
   ]
  },
  {
   "cell_type": "code",
   "execution_count": 4,
   "metadata": {},
   "outputs": [
    {
     "output_type": "execute_result",
     "data": {
      "text/plain": [
       "                        date  id_order  id_tov  id_kontr  quantity     sum  \\\n",
       "0        2020-11-01 15:29:01         0      52       271       1.0  107.98   \n",
       "1        2020-11-01 12:41:10   8293317      52     -9999       1.0  108.00   \n",
       "2        2020-11-01 13:17:09         0      61       379       2.0  112.00   \n",
       "3        2020-11-01 12:31:31         0      61       379       1.0   55.91   \n",
       "4        2020-11-01 13:06:15         0      61       271       2.0   87.80   \n",
       "...                      ...       ...     ...       ...       ...     ...   \n",
       "46496617 2020-11-30 15:05:50         0   21420     12831       1.0   81.00   \n",
       "46496618 2020-11-30 13:49:02         0   22397     12657       1.0   76.00   \n",
       "46496619 2020-11-30 14:44:37         0   22932     13532       1.0   34.00   \n",
       "46496620 2020-11-30 15:52:27         0   23954     12831       1.0  152.00   \n",
       "46496621 2020-11-30 13:46:42         0   25684     -9999       1.0    3.00   \n",
       "\n",
       "          is_green  id_card_int  id_doc_int  \n",
       "0            False       332351     3121751  \n",
       "1            False      1875438    22047017  \n",
       "2            False       563112     6419825  \n",
       "3            False      1841710    10284541  \n",
       "4            False      1304277    10424967  \n",
       "...            ...          ...         ...  \n",
       "46496617     False      1423663    13726324  \n",
       "46496618     False       406658    17134146  \n",
       "46496619     False      1319934     3130473  \n",
       "46496620     False       897152    10045346  \n",
       "46496621     False      1776886      580162  \n",
       "\n",
       "[46496621 rows x 9 columns]"
      ],
      "text/html": "<div>\n<style scoped>\n    .dataframe tbody tr th:only-of-type {\n        vertical-align: middle;\n    }\n\n    .dataframe tbody tr th {\n        vertical-align: top;\n    }\n\n    .dataframe thead th {\n        text-align: right;\n    }\n</style>\n<table border=\"1\" class=\"dataframe\">\n  <thead>\n    <tr style=\"text-align: right;\">\n      <th></th>\n      <th>date</th>\n      <th>id_order</th>\n      <th>id_tov</th>\n      <th>id_kontr</th>\n      <th>quantity</th>\n      <th>sum</th>\n      <th>is_green</th>\n      <th>id_card_int</th>\n      <th>id_doc_int</th>\n    </tr>\n  </thead>\n  <tbody>\n    <tr>\n      <th>0</th>\n      <td>2020-11-01 15:29:01</td>\n      <td>0</td>\n      <td>52</td>\n      <td>271</td>\n      <td>1.0</td>\n      <td>107.98</td>\n      <td>False</td>\n      <td>332351</td>\n      <td>3121751</td>\n    </tr>\n    <tr>\n      <th>1</th>\n      <td>2020-11-01 12:41:10</td>\n      <td>8293317</td>\n      <td>52</td>\n      <td>-9999</td>\n      <td>1.0</td>\n      <td>108.00</td>\n      <td>False</td>\n      <td>1875438</td>\n      <td>22047017</td>\n    </tr>\n    <tr>\n      <th>2</th>\n      <td>2020-11-01 13:17:09</td>\n      <td>0</td>\n      <td>61</td>\n      <td>379</td>\n      <td>2.0</td>\n      <td>112.00</td>\n      <td>False</td>\n      <td>563112</td>\n      <td>6419825</td>\n    </tr>\n    <tr>\n      <th>3</th>\n      <td>2020-11-01 12:31:31</td>\n      <td>0</td>\n      <td>61</td>\n      <td>379</td>\n      <td>1.0</td>\n      <td>55.91</td>\n      <td>False</td>\n      <td>1841710</td>\n      <td>10284541</td>\n    </tr>\n    <tr>\n      <th>4</th>\n      <td>2020-11-01 13:06:15</td>\n      <td>0</td>\n      <td>61</td>\n      <td>271</td>\n      <td>2.0</td>\n      <td>87.80</td>\n      <td>False</td>\n      <td>1304277</td>\n      <td>10424967</td>\n    </tr>\n    <tr>\n      <th>...</th>\n      <td>...</td>\n      <td>...</td>\n      <td>...</td>\n      <td>...</td>\n      <td>...</td>\n      <td>...</td>\n      <td>...</td>\n      <td>...</td>\n      <td>...</td>\n    </tr>\n    <tr>\n      <th>46496617</th>\n      <td>2020-11-30 15:05:50</td>\n      <td>0</td>\n      <td>21420</td>\n      <td>12831</td>\n      <td>1.0</td>\n      <td>81.00</td>\n      <td>False</td>\n      <td>1423663</td>\n      <td>13726324</td>\n    </tr>\n    <tr>\n      <th>46496618</th>\n      <td>2020-11-30 13:49:02</td>\n      <td>0</td>\n      <td>22397</td>\n      <td>12657</td>\n      <td>1.0</td>\n      <td>76.00</td>\n      <td>False</td>\n      <td>406658</td>\n      <td>17134146</td>\n    </tr>\n    <tr>\n      <th>46496619</th>\n      <td>2020-11-30 14:44:37</td>\n      <td>0</td>\n      <td>22932</td>\n      <td>13532</td>\n      <td>1.0</td>\n      <td>34.00</td>\n      <td>False</td>\n      <td>1319934</td>\n      <td>3130473</td>\n    </tr>\n    <tr>\n      <th>46496620</th>\n      <td>2020-11-30 15:52:27</td>\n      <td>0</td>\n      <td>23954</td>\n      <td>12831</td>\n      <td>1.0</td>\n      <td>152.00</td>\n      <td>False</td>\n      <td>897152</td>\n      <td>10045346</td>\n    </tr>\n    <tr>\n      <th>46496621</th>\n      <td>2020-11-30 13:46:42</td>\n      <td>0</td>\n      <td>25684</td>\n      <td>-9999</td>\n      <td>1.0</td>\n      <td>3.00</td>\n      <td>False</td>\n      <td>1776886</td>\n      <td>580162</td>\n    </tr>\n  </tbody>\n</table>\n<p>46496621 rows × 9 columns</p>\n</div>"
     },
     "metadata": {},
     "execution_count": 4
    }
   ],
   "source": [
    "df = read_bz('11_prepared.pkl.bz2')\n",
    "df"
   ]
  },
  {
   "source": [
    "visualization"
   ],
   "cell_type": "markdown",
   "metadata": {}
  },
  {
   "cell_type": "code",
   "execution_count": 5,
   "metadata": {},
   "outputs": [
    {
     "output_type": "execute_result",
     "data": {
      "text/plain": [
       "                 date  id_order  id_tov  id_kontr  quantity     sum  is_green  \\\n",
       "0 2020-11-01 15:29:01         0      52       271       1.0  107.98     False   \n",
       "1 2020-11-01 12:41:10   8293317      52     -9999       1.0  108.00     False   \n",
       "2 2020-11-01 13:17:09         0      61       379       2.0  112.00     False   \n",
       "3 2020-11-01 12:31:31         0      61       379       1.0   55.91     False   \n",
       "4 2020-11-01 13:06:15         0      61       271       2.0   87.80     False   \n",
       "\n",
       "   id_card_int  id_doc_int  \n",
       "0       332351     3121751  \n",
       "1      1875438    22047017  \n",
       "2       563112     6419825  \n",
       "3      1841710    10284541  \n",
       "4      1304277    10424967  "
      ],
      "text/html": "<div>\n<style scoped>\n    .dataframe tbody tr th:only-of-type {\n        vertical-align: middle;\n    }\n\n    .dataframe tbody tr th {\n        vertical-align: top;\n    }\n\n    .dataframe thead th {\n        text-align: right;\n    }\n</style>\n<table border=\"1\" class=\"dataframe\">\n  <thead>\n    <tr style=\"text-align: right;\">\n      <th></th>\n      <th>date</th>\n      <th>id_order</th>\n      <th>id_tov</th>\n      <th>id_kontr</th>\n      <th>quantity</th>\n      <th>sum</th>\n      <th>is_green</th>\n      <th>id_card_int</th>\n      <th>id_doc_int</th>\n    </tr>\n  </thead>\n  <tbody>\n    <tr>\n      <th>0</th>\n      <td>2020-11-01 15:29:01</td>\n      <td>0</td>\n      <td>52</td>\n      <td>271</td>\n      <td>1.0</td>\n      <td>107.98</td>\n      <td>False</td>\n      <td>332351</td>\n      <td>3121751</td>\n    </tr>\n    <tr>\n      <th>1</th>\n      <td>2020-11-01 12:41:10</td>\n      <td>8293317</td>\n      <td>52</td>\n      <td>-9999</td>\n      <td>1.0</td>\n      <td>108.00</td>\n      <td>False</td>\n      <td>1875438</td>\n      <td>22047017</td>\n    </tr>\n    <tr>\n      <th>2</th>\n      <td>2020-11-01 13:17:09</td>\n      <td>0</td>\n      <td>61</td>\n      <td>379</td>\n      <td>2.0</td>\n      <td>112.00</td>\n      <td>False</td>\n      <td>563112</td>\n      <td>6419825</td>\n    </tr>\n    <tr>\n      <th>3</th>\n      <td>2020-11-01 12:31:31</td>\n      <td>0</td>\n      <td>61</td>\n      <td>379</td>\n      <td>1.0</td>\n      <td>55.91</td>\n      <td>False</td>\n      <td>1841710</td>\n      <td>10284541</td>\n    </tr>\n    <tr>\n      <th>4</th>\n      <td>2020-11-01 13:06:15</td>\n      <td>0</td>\n      <td>61</td>\n      <td>271</td>\n      <td>2.0</td>\n      <td>87.80</td>\n      <td>False</td>\n      <td>1304277</td>\n      <td>10424967</td>\n    </tr>\n  </tbody>\n</table>\n</div>"
     },
     "metadata": {},
     "execution_count": 5
    }
   ],
   "source": [
    "df.head()"
   ]
  },
  {
   "cell_type": "code",
   "execution_count": 6,
   "metadata": {},
   "outputs": [
    {
     "output_type": "execute_result",
     "data": {
      "text/plain": [
       "           id_order        id_tov      id_kontr      quantity           sum  \\\n",
       "count  4.649662e+07  4.649662e+07  4.649662e+07  4.649662e+07  4.649662e+07   \n",
       "mean   1.920266e+06  1.800935e+04  1.027675e+04  1.381354e+00  1.195184e+02   \n",
       "std    3.755327e+06  1.144678e+04  9.587859e+03  2.943611e+01  1.144673e+02   \n",
       "min    0.000000e+00  4.600000e+01 -9.999000e+03  0.000000e+00  0.000000e+00   \n",
       "25%    0.000000e+00  1.452600e+04  3.760000e+02  1.000000e+00  5.200000e+01   \n",
       "50%    0.000000e+00  1.973000e+04  1.367500e+04  1.000000e+00  9.200000e+01   \n",
       "75%    0.000000e+00  2.489200e+04  1.662800e+04  1.000000e+00  1.530000e+02   \n",
       "max    1.020057e+07  4.075900e+04  2.265700e+04  5.000000e+03  1.478400e+04   \n",
       "\n",
       "        id_card_int    id_doc_int  \n",
       "count  4.649662e+07  4.649662e+07  \n",
       "mean   8.543480e+05  1.170871e+07  \n",
       "std    5.464054e+05  6.761143e+06  \n",
       "min    3.000000e+00  0.000000e+00  \n",
       "25%    3.681530e+05  5.853453e+06  \n",
       "50%    8.223610e+05  1.170893e+07  \n",
       "75%    1.303188e+06  1.756278e+07  \n",
       "max    1.944074e+06  2.341787e+07  "
      ],
      "text/html": "<div>\n<style scoped>\n    .dataframe tbody tr th:only-of-type {\n        vertical-align: middle;\n    }\n\n    .dataframe tbody tr th {\n        vertical-align: top;\n    }\n\n    .dataframe thead th {\n        text-align: right;\n    }\n</style>\n<table border=\"1\" class=\"dataframe\">\n  <thead>\n    <tr style=\"text-align: right;\">\n      <th></th>\n      <th>id_order</th>\n      <th>id_tov</th>\n      <th>id_kontr</th>\n      <th>quantity</th>\n      <th>sum</th>\n      <th>id_card_int</th>\n      <th>id_doc_int</th>\n    </tr>\n  </thead>\n  <tbody>\n    <tr>\n      <th>count</th>\n      <td>4.649662e+07</td>\n      <td>4.649662e+07</td>\n      <td>4.649662e+07</td>\n      <td>4.649662e+07</td>\n      <td>4.649662e+07</td>\n      <td>4.649662e+07</td>\n      <td>4.649662e+07</td>\n    </tr>\n    <tr>\n      <th>mean</th>\n      <td>1.920266e+06</td>\n      <td>1.800935e+04</td>\n      <td>1.027675e+04</td>\n      <td>1.381354e+00</td>\n      <td>1.195184e+02</td>\n      <td>8.543480e+05</td>\n      <td>1.170871e+07</td>\n    </tr>\n    <tr>\n      <th>std</th>\n      <td>3.755327e+06</td>\n      <td>1.144678e+04</td>\n      <td>9.587859e+03</td>\n      <td>2.943611e+01</td>\n      <td>1.144673e+02</td>\n      <td>5.464054e+05</td>\n      <td>6.761143e+06</td>\n    </tr>\n    <tr>\n      <th>min</th>\n      <td>0.000000e+00</td>\n      <td>4.600000e+01</td>\n      <td>-9.999000e+03</td>\n      <td>0.000000e+00</td>\n      <td>0.000000e+00</td>\n      <td>3.000000e+00</td>\n      <td>0.000000e+00</td>\n    </tr>\n    <tr>\n      <th>25%</th>\n      <td>0.000000e+00</td>\n      <td>1.452600e+04</td>\n      <td>3.760000e+02</td>\n      <td>1.000000e+00</td>\n      <td>5.200000e+01</td>\n      <td>3.681530e+05</td>\n      <td>5.853453e+06</td>\n    </tr>\n    <tr>\n      <th>50%</th>\n      <td>0.000000e+00</td>\n      <td>1.973000e+04</td>\n      <td>1.367500e+04</td>\n      <td>1.000000e+00</td>\n      <td>9.200000e+01</td>\n      <td>8.223610e+05</td>\n      <td>1.170893e+07</td>\n    </tr>\n    <tr>\n      <th>75%</th>\n      <td>0.000000e+00</td>\n      <td>2.489200e+04</td>\n      <td>1.662800e+04</td>\n      <td>1.000000e+00</td>\n      <td>1.530000e+02</td>\n      <td>1.303188e+06</td>\n      <td>1.756278e+07</td>\n    </tr>\n    <tr>\n      <th>max</th>\n      <td>1.020057e+07</td>\n      <td>4.075900e+04</td>\n      <td>2.265700e+04</td>\n      <td>5.000000e+03</td>\n      <td>1.478400e+04</td>\n      <td>1.944074e+06</td>\n      <td>2.341787e+07</td>\n    </tr>\n  </tbody>\n</table>\n</div>"
     },
     "metadata": {},
     "execution_count": 6
    }
   ],
   "source": [
    "df.describe()"
   ]
  },
  {
   "cell_type": "code",
   "execution_count": 7,
   "metadata": {},
   "outputs": [
    {
     "output_type": "stream",
     "name": "stdout",
     "text": [
      "<class 'pandas.core.frame.DataFrame'>\nInt64Index: 46496621 entries, 0 to 46496621\nData columns (total 9 columns):\n #   Column       Dtype         \n---  ------       -----         \n 0   date         datetime64[ns]\n 1   id_order     int64         \n 2   id_tov       int64         \n 3   id_kontr     int64         \n 4   quantity     float64       \n 5   sum          float64       \n 6   is_green     bool          \n 7   id_card_int  int64         \n 8   id_doc_int   int64         \ndtypes: bool(1), datetime64[ns](1), float64(2), int64(5)\nmemory usage: 3.2 GB\n"
     ]
    }
   ],
   "source": [
    "df.info()"
   ]
  },
  {
   "cell_type": "code",
   "execution_count": 8,
   "metadata": {},
   "outputs": [
    {
     "output_type": "execute_result",
     "data": {
      "text/plain": [
       "date           0\n",
       "id_order       0\n",
       "id_tov         0\n",
       "id_kontr       0\n",
       "quantity       0\n",
       "sum            0\n",
       "is_green       0\n",
       "id_card_int    0\n",
       "id_doc_int     0\n",
       "dtype: int64"
      ]
     },
     "metadata": {},
     "execution_count": 8
    }
   ],
   "source": [
    "df.isna().sum()"
   ]
  },
  {
   "cell_type": "code",
   "execution_count": 9,
   "metadata": {},
   "outputs": [
    {
     "output_type": "execute_result",
     "data": {
      "text/plain": [
       "False    42764237\n",
       "True      3732384\n",
       "Name: is_green, dtype: int64"
      ]
     },
     "metadata": {},
     "execution_count": 9
    }
   ],
   "source": [
    "df.is_green.value_counts()"
   ]
  },
  {
   "cell_type": "code",
   "execution_count": 10,
   "metadata": {},
   "outputs": [
    {
     "output_type": "execute_result",
     "data": {
      "text/plain": [
       "<AxesSubplot:ylabel='Frequency'>"
      ]
     },
     "metadata": {},
     "execution_count": 10
    },
    {
     "output_type": "display_data",
     "data": {
      "text/plain": "<Figure size 432x288 with 1 Axes>",
      "image/svg+xml": "<?xml version=\"1.0\" encoding=\"utf-8\" standalone=\"no\"?>\r\n<!DOCTYPE svg PUBLIC \"-//W3C//DTD SVG 1.1//EN\"\r\n  \"http://www.w3.org/Graphics/SVG/1.1/DTD/svg11.dtd\">\r\n<!-- Created with matplotlib (https://matplotlib.org/) -->\r\n<svg height=\"259.116562pt\" version=\"1.1\" viewBox=\"0 0 376.240625 259.116562\" width=\"376.240625pt\" xmlns=\"http://www.w3.org/2000/svg\" xmlns:xlink=\"http://www.w3.org/1999/xlink\">\r\n <metadata>\r\n  <rdf:RDF xmlns:cc=\"http://creativecommons.org/ns#\" xmlns:dc=\"http://purl.org/dc/elements/1.1/\" xmlns:rdf=\"http://www.w3.org/1999/02/22-rdf-syntax-ns#\">\r\n   <cc:Work>\r\n    <dc:type rdf:resource=\"http://purl.org/dc/dcmitype/StillImage\"/>\r\n    <dc:date>2021-04-02T09:49:08.704283</dc:date>\r\n    <dc:format>image/svg+xml</dc:format>\r\n    <dc:creator>\r\n     <cc:Agent>\r\n      <dc:title>Matplotlib v3.3.2, https://matplotlib.org/</dc:title>\r\n     </cc:Agent>\r\n    </dc:creator>\r\n   </cc:Work>\r\n  </rdf:RDF>\r\n </metadata>\r\n <defs>\r\n  <style type=\"text/css\">*{stroke-linecap:butt;stroke-linejoin:round;}</style>\r\n </defs>\r\n <g id=\"figure_1\">\r\n  <g id=\"patch_1\">\r\n   <path d=\"M 0 259.116562 \r\nL 376.240625 259.116562 \r\nL 376.240625 0 \r\nL 0 0 \r\nz\r\n\" style=\"fill:none;\"/>\r\n  </g>\r\n  <g id=\"axes_1\">\r\n   <g id=\"patch_2\">\r\n    <path d=\"M 34.240625 235.238437 \r\nL 369.040625 235.238437 \r\nL 369.040625 17.798437 \r\nL 34.240625 17.798437 \r\nz\r\n\" style=\"fill:#ffffff;\"/>\r\n   </g>\r\n   <g id=\"patch_3\">\r\n    <path clip-path=\"url(#p9528257357)\" d=\"M 49.458807 235.238437 \r\nL 74.822443 235.238437 \r\nL 74.822443 28.152723 \r\nL 49.458807 28.152723 \r\nz\r\n\" style=\"fill:#1f77b4;opacity:0.1;\"/>\r\n   </g>\r\n   <g id=\"patch_4\">\r\n    <path clip-path=\"url(#p9528257357)\" d=\"M 74.822443 235.238437 \r\nL 100.18608 235.238437 \r\nL 100.18608 235.235734 \r\nL 74.822443 235.235734 \r\nz\r\n\" style=\"fill:#1f77b4;opacity:0.1;\"/>\r\n   </g>\r\n   <g id=\"patch_5\">\r\n    <path clip-path=\"url(#p9528257357)\" d=\"M 100.18608 235.238437 \r\nL 125.549716 235.238437 \r\nL 125.549716 235.235328 \r\nL 100.18608 235.235328 \r\nz\r\n\" style=\"fill:#1f77b4;opacity:0.1;\"/>\r\n   </g>\r\n   <g id=\"patch_6\">\r\n    <path clip-path=\"url(#p9528257357)\" d=\"M 125.549716 235.238437 \r\nL 150.913352 235.238437 \r\nL 150.913352 235.237475 \r\nL 125.549716 235.237475 \r\nz\r\n\" style=\"fill:#1f77b4;opacity:0.1;\"/>\r\n   </g>\r\n   <g id=\"patch_7\">\r\n    <path clip-path=\"url(#p9528257357)\" d=\"M 150.913352 235.238437 \r\nL 176.276989 235.238437 \r\nL 176.276989 235.236295 \r\nL 150.913352 235.236295 \r\nz\r\n\" style=\"fill:#1f77b4;opacity:0.1;\"/>\r\n   </g>\r\n   <g id=\"patch_8\">\r\n    <path clip-path=\"url(#p9528257357)\" d=\"M 176.276989 235.238437 \r\nL 201.640625 235.238437 \r\nL 201.640625 235.238308 \r\nL 176.276989 235.238308 \r\nz\r\n\" style=\"fill:#1f77b4;opacity:0.1;\"/>\r\n   </g>\r\n   <g id=\"patch_9\">\r\n    <path clip-path=\"url(#p9528257357)\" d=\"M 201.640625 235.238437 \r\nL 227.004261 235.238437 \r\nL 227.004261 235.237983 \r\nL 201.640625 235.237983 \r\nz\r\n\" style=\"fill:#1f77b4;opacity:0.1;\"/>\r\n   </g>\r\n   <g id=\"patch_10\">\r\n    <path clip-path=\"url(#p9528257357)\" d=\"M 227.004261 235.238437 \r\nL 252.367898 235.238437 \r\nL 252.367898 235.236919 \r\nL 227.004261 235.236919 \r\nz\r\n\" style=\"fill:#1f77b4;opacity:0.1;\"/>\r\n   </g>\r\n   <g id=\"patch_11\">\r\n    <path clip-path=\"url(#p9528257357)\" d=\"M 252.367898 235.238437 \r\nL 277.731534 235.238437 \r\nL 277.731534 235.23817 \r\nL 252.367898 235.23817 \r\nz\r\n\" style=\"fill:#1f77b4;opacity:0.1;\"/>\r\n   </g>\r\n   <g id=\"patch_12\">\r\n    <path clip-path=\"url(#p9528257357)\" d=\"M 277.731534 235.238437 \r\nL 303.09517 235.238437 \r\nL 303.09517 235.237462 \r\nL 277.731534 235.237462 \r\nz\r\n\" style=\"fill:#1f77b4;opacity:0.1;\"/>\r\n   </g>\r\n   <g id=\"patch_13\">\r\n    <path clip-path=\"url(#p9528257357)\" d=\"M 303.09517 235.238437 \r\nL 328.458807 235.238437 \r\nL 328.458807 235.238157 \r\nL 303.09517 235.238157 \r\nz\r\n\" style=\"fill:#1f77b4;opacity:0.1;\"/>\r\n   </g>\r\n   <g id=\"patch_14\">\r\n    <path clip-path=\"url(#p9528257357)\" d=\"M 328.458807 235.238437 \r\nL 353.822443 235.238437 \r\nL 353.822443 235.233516 \r\nL 328.458807 235.233516 \r\nz\r\n\" style=\"fill:#1f77b4;opacity:0.1;\"/>\r\n   </g>\r\n   <g id=\"matplotlib.axis_1\">\r\n    <g id=\"xtick_1\">\r\n     <g id=\"line2d_1\">\r\n      <defs>\r\n       <path d=\"M 0 0 \r\nL 0 3.5 \r\n\" id=\"m263463d9aa\" style=\"stroke:#000000;stroke-width:0.8;\"/>\r\n      </defs>\r\n      <g>\r\n       <use style=\"stroke:#000000;stroke-width:0.8;\" x=\"49.458807\" xlink:href=\"#m263463d9aa\" y=\"235.238437\"/>\r\n      </g>\r\n     </g>\r\n     <g id=\"text_1\">\r\n      <!-- 0 -->\r\n      <g transform=\"translate(46.277557 249.836875)scale(0.1 -0.1)\">\r\n       <defs>\r\n        <path d=\"M 31.78125 66.40625 \r\nQ 24.171875 66.40625 20.328125 58.90625 \r\nQ 16.5 51.421875 16.5 36.375 \r\nQ 16.5 21.390625 20.328125 13.890625 \r\nQ 24.171875 6.390625 31.78125 6.390625 \r\nQ 39.453125 6.390625 43.28125 13.890625 \r\nQ 47.125 21.390625 47.125 36.375 \r\nQ 47.125 51.421875 43.28125 58.90625 \r\nQ 39.453125 66.40625 31.78125 66.40625 \r\nz\r\nM 31.78125 74.21875 \r\nQ 44.046875 74.21875 50.515625 64.515625 \r\nQ 56.984375 54.828125 56.984375 36.375 \r\nQ 56.984375 17.96875 50.515625 8.265625 \r\nQ 44.046875 -1.421875 31.78125 -1.421875 \r\nQ 19.53125 -1.421875 13.0625 8.265625 \r\nQ 6.59375 17.96875 6.59375 36.375 \r\nQ 6.59375 54.828125 13.0625 64.515625 \r\nQ 19.53125 74.21875 31.78125 74.21875 \r\nz\r\n\" id=\"DejaVuSans-48\"/>\r\n       </defs>\r\n       <use xlink:href=\"#DejaVuSans-48\"/>\r\n      </g>\r\n     </g>\r\n    </g>\r\n    <g id=\"xtick_2\">\r\n     <g id=\"line2d_2\">\r\n      <g>\r\n       <use style=\"stroke:#000000;stroke-width:0.8;\" x=\"110.331534\" xlink:href=\"#m263463d9aa\" y=\"235.238437\"/>\r\n      </g>\r\n     </g>\r\n     <g id=\"text_2\">\r\n      <!-- 1000 -->\r\n      <g transform=\"translate(97.606534 249.836875)scale(0.1 -0.1)\">\r\n       <defs>\r\n        <path d=\"M 12.40625 8.296875 \r\nL 28.515625 8.296875 \r\nL 28.515625 63.921875 \r\nL 10.984375 60.40625 \r\nL 10.984375 69.390625 \r\nL 28.421875 72.90625 \r\nL 38.28125 72.90625 \r\nL 38.28125 8.296875 \r\nL 54.390625 8.296875 \r\nL 54.390625 0 \r\nL 12.40625 0 \r\nz\r\n\" id=\"DejaVuSans-49\"/>\r\n       </defs>\r\n       <use xlink:href=\"#DejaVuSans-49\"/>\r\n       <use x=\"63.623047\" xlink:href=\"#DejaVuSans-48\"/>\r\n       <use x=\"127.246094\" xlink:href=\"#DejaVuSans-48\"/>\r\n       <use x=\"190.869141\" xlink:href=\"#DejaVuSans-48\"/>\r\n      </g>\r\n     </g>\r\n    </g>\r\n    <g id=\"xtick_3\">\r\n     <g id=\"line2d_3\">\r\n      <g>\r\n       <use style=\"stroke:#000000;stroke-width:0.8;\" x=\"171.204261\" xlink:href=\"#m263463d9aa\" y=\"235.238437\"/>\r\n      </g>\r\n     </g>\r\n     <g id=\"text_3\">\r\n      <!-- 2000 -->\r\n      <g transform=\"translate(158.479261 249.836875)scale(0.1 -0.1)\">\r\n       <defs>\r\n        <path d=\"M 19.1875 8.296875 \r\nL 53.609375 8.296875 \r\nL 53.609375 0 \r\nL 7.328125 0 \r\nL 7.328125 8.296875 \r\nQ 12.9375 14.109375 22.625 23.890625 \r\nQ 32.328125 33.6875 34.8125 36.53125 \r\nQ 39.546875 41.84375 41.421875 45.53125 \r\nQ 43.3125 49.21875 43.3125 52.78125 \r\nQ 43.3125 58.59375 39.234375 62.25 \r\nQ 35.15625 65.921875 28.609375 65.921875 \r\nQ 23.96875 65.921875 18.8125 64.3125 \r\nQ 13.671875 62.703125 7.8125 59.421875 \r\nL 7.8125 69.390625 \r\nQ 13.765625 71.78125 18.9375 73 \r\nQ 24.125 74.21875 28.421875 74.21875 \r\nQ 39.75 74.21875 46.484375 68.546875 \r\nQ 53.21875 62.890625 53.21875 53.421875 \r\nQ 53.21875 48.921875 51.53125 44.890625 \r\nQ 49.859375 40.875 45.40625 35.40625 \r\nQ 44.1875 33.984375 37.640625 27.21875 \r\nQ 31.109375 20.453125 19.1875 8.296875 \r\nz\r\n\" id=\"DejaVuSans-50\"/>\r\n       </defs>\r\n       <use xlink:href=\"#DejaVuSans-50\"/>\r\n       <use x=\"63.623047\" xlink:href=\"#DejaVuSans-48\"/>\r\n       <use x=\"127.246094\" xlink:href=\"#DejaVuSans-48\"/>\r\n       <use x=\"190.869141\" xlink:href=\"#DejaVuSans-48\"/>\r\n      </g>\r\n     </g>\r\n    </g>\r\n    <g id=\"xtick_4\">\r\n     <g id=\"line2d_4\">\r\n      <g>\r\n       <use style=\"stroke:#000000;stroke-width:0.8;\" x=\"232.076989\" xlink:href=\"#m263463d9aa\" y=\"235.238437\"/>\r\n      </g>\r\n     </g>\r\n     <g id=\"text_4\">\r\n      <!-- 3000 -->\r\n      <g transform=\"translate(219.351989 249.836875)scale(0.1 -0.1)\">\r\n       <defs>\r\n        <path d=\"M 40.578125 39.3125 \r\nQ 47.65625 37.796875 51.625 33 \r\nQ 55.609375 28.21875 55.609375 21.1875 \r\nQ 55.609375 10.40625 48.1875 4.484375 \r\nQ 40.765625 -1.421875 27.09375 -1.421875 \r\nQ 22.515625 -1.421875 17.65625 -0.515625 \r\nQ 12.796875 0.390625 7.625 2.203125 \r\nL 7.625 11.71875 \r\nQ 11.71875 9.328125 16.59375 8.109375 \r\nQ 21.484375 6.890625 26.8125 6.890625 \r\nQ 36.078125 6.890625 40.9375 10.546875 \r\nQ 45.796875 14.203125 45.796875 21.1875 \r\nQ 45.796875 27.640625 41.28125 31.265625 \r\nQ 36.765625 34.90625 28.71875 34.90625 \r\nL 20.21875 34.90625 \r\nL 20.21875 43.015625 \r\nL 29.109375 43.015625 \r\nQ 36.375 43.015625 40.234375 45.921875 \r\nQ 44.09375 48.828125 44.09375 54.296875 \r\nQ 44.09375 59.90625 40.109375 62.90625 \r\nQ 36.140625 65.921875 28.71875 65.921875 \r\nQ 24.65625 65.921875 20.015625 65.03125 \r\nQ 15.375 64.15625 9.8125 62.3125 \r\nL 9.8125 71.09375 \r\nQ 15.4375 72.65625 20.34375 73.4375 \r\nQ 25.25 74.21875 29.59375 74.21875 \r\nQ 40.828125 74.21875 47.359375 69.109375 \r\nQ 53.90625 64.015625 53.90625 55.328125 \r\nQ 53.90625 49.265625 50.4375 45.09375 \r\nQ 46.96875 40.921875 40.578125 39.3125 \r\nz\r\n\" id=\"DejaVuSans-51\"/>\r\n       </defs>\r\n       <use xlink:href=\"#DejaVuSans-51\"/>\r\n       <use x=\"63.623047\" xlink:href=\"#DejaVuSans-48\"/>\r\n       <use x=\"127.246094\" xlink:href=\"#DejaVuSans-48\"/>\r\n       <use x=\"190.869141\" xlink:href=\"#DejaVuSans-48\"/>\r\n      </g>\r\n     </g>\r\n    </g>\r\n    <g id=\"xtick_5\">\r\n     <g id=\"line2d_5\">\r\n      <g>\r\n       <use style=\"stroke:#000000;stroke-width:0.8;\" x=\"292.949716\" xlink:href=\"#m263463d9aa\" y=\"235.238437\"/>\r\n      </g>\r\n     </g>\r\n     <g id=\"text_5\">\r\n      <!-- 4000 -->\r\n      <g transform=\"translate(280.224716 249.836875)scale(0.1 -0.1)\">\r\n       <defs>\r\n        <path d=\"M 37.796875 64.3125 \r\nL 12.890625 25.390625 \r\nL 37.796875 25.390625 \r\nz\r\nM 35.203125 72.90625 \r\nL 47.609375 72.90625 \r\nL 47.609375 25.390625 \r\nL 58.015625 25.390625 \r\nL 58.015625 17.1875 \r\nL 47.609375 17.1875 \r\nL 47.609375 0 \r\nL 37.796875 0 \r\nL 37.796875 17.1875 \r\nL 4.890625 17.1875 \r\nL 4.890625 26.703125 \r\nz\r\n\" id=\"DejaVuSans-52\"/>\r\n       </defs>\r\n       <use xlink:href=\"#DejaVuSans-52\"/>\r\n       <use x=\"63.623047\" xlink:href=\"#DejaVuSans-48\"/>\r\n       <use x=\"127.246094\" xlink:href=\"#DejaVuSans-48\"/>\r\n       <use x=\"190.869141\" xlink:href=\"#DejaVuSans-48\"/>\r\n      </g>\r\n     </g>\r\n    </g>\r\n    <g id=\"xtick_6\">\r\n     <g id=\"line2d_6\">\r\n      <g>\r\n       <use style=\"stroke:#000000;stroke-width:0.8;\" x=\"353.822443\" xlink:href=\"#m263463d9aa\" y=\"235.238437\"/>\r\n      </g>\r\n     </g>\r\n     <g id=\"text_6\">\r\n      <!-- 5000 -->\r\n      <g transform=\"translate(341.097443 249.836875)scale(0.1 -0.1)\">\r\n       <defs>\r\n        <path d=\"M 10.796875 72.90625 \r\nL 49.515625 72.90625 \r\nL 49.515625 64.59375 \r\nL 19.828125 64.59375 \r\nL 19.828125 46.734375 \r\nQ 21.96875 47.46875 24.109375 47.828125 \r\nQ 26.265625 48.1875 28.421875 48.1875 \r\nQ 40.625 48.1875 47.75 41.5 \r\nQ 54.890625 34.8125 54.890625 23.390625 \r\nQ 54.890625 11.625 47.5625 5.09375 \r\nQ 40.234375 -1.421875 26.90625 -1.421875 \r\nQ 22.3125 -1.421875 17.546875 -0.640625 \r\nQ 12.796875 0.140625 7.71875 1.703125 \r\nL 7.71875 11.625 \r\nQ 12.109375 9.234375 16.796875 8.0625 \r\nQ 21.484375 6.890625 26.703125 6.890625 \r\nQ 35.15625 6.890625 40.078125 11.328125 \r\nQ 45.015625 15.765625 45.015625 23.390625 \r\nQ 45.015625 31 40.078125 35.4375 \r\nQ 35.15625 39.890625 26.703125 39.890625 \r\nQ 22.75 39.890625 18.8125 39.015625 \r\nQ 14.890625 38.140625 10.796875 36.28125 \r\nz\r\n\" id=\"DejaVuSans-53\"/>\r\n       </defs>\r\n       <use xlink:href=\"#DejaVuSans-53\"/>\r\n       <use x=\"63.623047\" xlink:href=\"#DejaVuSans-48\"/>\r\n       <use x=\"127.246094\" xlink:href=\"#DejaVuSans-48\"/>\r\n       <use x=\"190.869141\" xlink:href=\"#DejaVuSans-48\"/>\r\n      </g>\r\n     </g>\r\n    </g>\r\n   </g>\r\n   <g id=\"matplotlib.axis_2\">\r\n    <g id=\"ytick_1\">\r\n     <g id=\"line2d_7\">\r\n      <defs>\r\n       <path d=\"M 0 0 \r\nL -3.5 0 \r\n\" id=\"m6f2e8bc234\" style=\"stroke:#000000;stroke-width:0.8;\"/>\r\n      </defs>\r\n      <g>\r\n       <use style=\"stroke:#000000;stroke-width:0.8;\" x=\"34.240625\" xlink:href=\"#m6f2e8bc234\" y=\"235.238437\"/>\r\n      </g>\r\n     </g>\r\n     <g id=\"text_7\">\r\n      <!-- 0 -->\r\n      <g transform=\"translate(20.878125 239.037656)scale(0.1 -0.1)\">\r\n       <use xlink:href=\"#DejaVuSans-48\"/>\r\n      </g>\r\n     </g>\r\n    </g>\r\n    <g id=\"ytick_2\">\r\n     <g id=\"line2d_8\">\r\n      <g>\r\n       <use style=\"stroke:#000000;stroke-width:0.8;\" x=\"34.240625\" xlink:href=\"#m6f2e8bc234\" y=\"190.696883\"/>\r\n      </g>\r\n     </g>\r\n     <g id=\"text_8\">\r\n      <!-- 1 -->\r\n      <g transform=\"translate(20.878125 194.496101)scale(0.1 -0.1)\">\r\n       <use xlink:href=\"#DejaVuSans-49\"/>\r\n      </g>\r\n     </g>\r\n    </g>\r\n    <g id=\"ytick_3\">\r\n     <g id=\"line2d_9\">\r\n      <g>\r\n       <use style=\"stroke:#000000;stroke-width:0.8;\" x=\"34.240625\" xlink:href=\"#m6f2e8bc234\" y=\"146.155328\"/>\r\n      </g>\r\n     </g>\r\n     <g id=\"text_9\">\r\n      <!-- 2 -->\r\n      <g transform=\"translate(20.878125 149.954547)scale(0.1 -0.1)\">\r\n       <use xlink:href=\"#DejaVuSans-50\"/>\r\n      </g>\r\n     </g>\r\n    </g>\r\n    <g id=\"ytick_4\">\r\n     <g id=\"line2d_10\">\r\n      <g>\r\n       <use style=\"stroke:#000000;stroke-width:0.8;\" x=\"34.240625\" xlink:href=\"#m6f2e8bc234\" y=\"101.613773\"/>\r\n      </g>\r\n     </g>\r\n     <g id=\"text_10\">\r\n      <!-- 3 -->\r\n      <g transform=\"translate(20.878125 105.412992)scale(0.1 -0.1)\">\r\n       <use xlink:href=\"#DejaVuSans-51\"/>\r\n      </g>\r\n     </g>\r\n    </g>\r\n    <g id=\"ytick_5\">\r\n     <g id=\"line2d_11\">\r\n      <g>\r\n       <use style=\"stroke:#000000;stroke-width:0.8;\" x=\"34.240625\" xlink:href=\"#m6f2e8bc234\" y=\"57.072218\"/>\r\n      </g>\r\n     </g>\r\n     <g id=\"text_11\">\r\n      <!-- 4 -->\r\n      <g transform=\"translate(20.878125 60.871437)scale(0.1 -0.1)\">\r\n       <use xlink:href=\"#DejaVuSans-52\"/>\r\n      </g>\r\n     </g>\r\n    </g>\r\n    <g id=\"text_12\">\r\n     <!-- Frequency -->\r\n     <g transform=\"translate(14.798437 152.348125)rotate(-90)scale(0.1 -0.1)\">\r\n      <defs>\r\n       <path d=\"M 9.8125 72.90625 \r\nL 51.703125 72.90625 \r\nL 51.703125 64.59375 \r\nL 19.671875 64.59375 \r\nL 19.671875 43.109375 \r\nL 48.578125 43.109375 \r\nL 48.578125 34.8125 \r\nL 19.671875 34.8125 \r\nL 19.671875 0 \r\nL 9.8125 0 \r\nz\r\n\" id=\"DejaVuSans-70\"/>\r\n       <path d=\"M 41.109375 46.296875 \r\nQ 39.59375 47.171875 37.8125 47.578125 \r\nQ 36.03125 48 33.890625 48 \r\nQ 26.265625 48 22.1875 43.046875 \r\nQ 18.109375 38.09375 18.109375 28.8125 \r\nL 18.109375 0 \r\nL 9.078125 0 \r\nL 9.078125 54.6875 \r\nL 18.109375 54.6875 \r\nL 18.109375 46.1875 \r\nQ 20.953125 51.171875 25.484375 53.578125 \r\nQ 30.03125 56 36.53125 56 \r\nQ 37.453125 56 38.578125 55.875 \r\nQ 39.703125 55.765625 41.0625 55.515625 \r\nz\r\n\" id=\"DejaVuSans-114\"/>\r\n       <path d=\"M 56.203125 29.59375 \r\nL 56.203125 25.203125 \r\nL 14.890625 25.203125 \r\nQ 15.484375 15.921875 20.484375 11.0625 \r\nQ 25.484375 6.203125 34.421875 6.203125 \r\nQ 39.59375 6.203125 44.453125 7.46875 \r\nQ 49.3125 8.734375 54.109375 11.28125 \r\nL 54.109375 2.78125 \r\nQ 49.265625 0.734375 44.1875 -0.34375 \r\nQ 39.109375 -1.421875 33.890625 -1.421875 \r\nQ 20.796875 -1.421875 13.15625 6.1875 \r\nQ 5.515625 13.8125 5.515625 26.8125 \r\nQ 5.515625 40.234375 12.765625 48.109375 \r\nQ 20.015625 56 32.328125 56 \r\nQ 43.359375 56 49.78125 48.890625 \r\nQ 56.203125 41.796875 56.203125 29.59375 \r\nz\r\nM 47.21875 32.234375 \r\nQ 47.125 39.59375 43.09375 43.984375 \r\nQ 39.0625 48.390625 32.421875 48.390625 \r\nQ 24.90625 48.390625 20.390625 44.140625 \r\nQ 15.875 39.890625 15.1875 32.171875 \r\nz\r\n\" id=\"DejaVuSans-101\"/>\r\n       <path d=\"M 14.796875 27.296875 \r\nQ 14.796875 17.390625 18.875 11.75 \r\nQ 22.953125 6.109375 30.078125 6.109375 \r\nQ 37.203125 6.109375 41.296875 11.75 \r\nQ 45.40625 17.390625 45.40625 27.296875 \r\nQ 45.40625 37.203125 41.296875 42.84375 \r\nQ 37.203125 48.484375 30.078125 48.484375 \r\nQ 22.953125 48.484375 18.875 42.84375 \r\nQ 14.796875 37.203125 14.796875 27.296875 \r\nz\r\nM 45.40625 8.203125 \r\nQ 42.578125 3.328125 38.25 0.953125 \r\nQ 33.9375 -1.421875 27.875 -1.421875 \r\nQ 17.96875 -1.421875 11.734375 6.484375 \r\nQ 5.515625 14.40625 5.515625 27.296875 \r\nQ 5.515625 40.1875 11.734375 48.09375 \r\nQ 17.96875 56 27.875 56 \r\nQ 33.9375 56 38.25 53.625 \r\nQ 42.578125 51.265625 45.40625 46.390625 \r\nL 45.40625 54.6875 \r\nL 54.390625 54.6875 \r\nL 54.390625 -20.796875 \r\nL 45.40625 -20.796875 \r\nz\r\n\" id=\"DejaVuSans-113\"/>\r\n       <path d=\"M 8.5 21.578125 \r\nL 8.5 54.6875 \r\nL 17.484375 54.6875 \r\nL 17.484375 21.921875 \r\nQ 17.484375 14.15625 20.5 10.265625 \r\nQ 23.53125 6.390625 29.59375 6.390625 \r\nQ 36.859375 6.390625 41.078125 11.03125 \r\nQ 45.3125 15.671875 45.3125 23.6875 \r\nL 45.3125 54.6875 \r\nL 54.296875 54.6875 \r\nL 54.296875 0 \r\nL 45.3125 0 \r\nL 45.3125 8.40625 \r\nQ 42.046875 3.421875 37.71875 1 \r\nQ 33.40625 -1.421875 27.6875 -1.421875 \r\nQ 18.265625 -1.421875 13.375 4.4375 \r\nQ 8.5 10.296875 8.5 21.578125 \r\nz\r\nM 31.109375 56 \r\nz\r\n\" id=\"DejaVuSans-117\"/>\r\n       <path d=\"M 54.890625 33.015625 \r\nL 54.890625 0 \r\nL 45.90625 0 \r\nL 45.90625 32.71875 \r\nQ 45.90625 40.484375 42.875 44.328125 \r\nQ 39.84375 48.1875 33.796875 48.1875 \r\nQ 26.515625 48.1875 22.3125 43.546875 \r\nQ 18.109375 38.921875 18.109375 30.90625 \r\nL 18.109375 0 \r\nL 9.078125 0 \r\nL 9.078125 54.6875 \r\nL 18.109375 54.6875 \r\nL 18.109375 46.1875 \r\nQ 21.34375 51.125 25.703125 53.5625 \r\nQ 30.078125 56 35.796875 56 \r\nQ 45.21875 56 50.046875 50.171875 \r\nQ 54.890625 44.34375 54.890625 33.015625 \r\nz\r\n\" id=\"DejaVuSans-110\"/>\r\n       <path d=\"M 48.78125 52.59375 \r\nL 48.78125 44.1875 \r\nQ 44.96875 46.296875 41.140625 47.34375 \r\nQ 37.3125 48.390625 33.40625 48.390625 \r\nQ 24.65625 48.390625 19.8125 42.84375 \r\nQ 14.984375 37.3125 14.984375 27.296875 \r\nQ 14.984375 17.28125 19.8125 11.734375 \r\nQ 24.65625 6.203125 33.40625 6.203125 \r\nQ 37.3125 6.203125 41.140625 7.25 \r\nQ 44.96875 8.296875 48.78125 10.40625 \r\nL 48.78125 2.09375 \r\nQ 45.015625 0.34375 40.984375 -0.53125 \r\nQ 36.96875 -1.421875 32.421875 -1.421875 \r\nQ 20.0625 -1.421875 12.78125 6.34375 \r\nQ 5.515625 14.109375 5.515625 27.296875 \r\nQ 5.515625 40.671875 12.859375 48.328125 \r\nQ 20.21875 56 33.015625 56 \r\nQ 37.15625 56 41.109375 55.140625 \r\nQ 45.0625 54.296875 48.78125 52.59375 \r\nz\r\n\" id=\"DejaVuSans-99\"/>\r\n       <path d=\"M 32.171875 -5.078125 \r\nQ 28.375 -14.84375 24.75 -17.8125 \r\nQ 21.140625 -20.796875 15.09375 -20.796875 \r\nL 7.90625 -20.796875 \r\nL 7.90625 -13.28125 \r\nL 13.1875 -13.28125 \r\nQ 16.890625 -13.28125 18.9375 -11.515625 \r\nQ 21 -9.765625 23.484375 -3.21875 \r\nL 25.09375 0.875 \r\nL 2.984375 54.6875 \r\nL 12.5 54.6875 \r\nL 29.59375 11.921875 \r\nL 46.6875 54.6875 \r\nL 56.203125 54.6875 \r\nz\r\n\" id=\"DejaVuSans-121\"/>\r\n      </defs>\r\n      <use xlink:href=\"#DejaVuSans-70\"/>\r\n      <use x=\"50.269531\" xlink:href=\"#DejaVuSans-114\"/>\r\n      <use x=\"89.132812\" xlink:href=\"#DejaVuSans-101\"/>\r\n      <use x=\"150.65625\" xlink:href=\"#DejaVuSans-113\"/>\r\n      <use x=\"214.132812\" xlink:href=\"#DejaVuSans-117\"/>\r\n      <use x=\"277.511719\" xlink:href=\"#DejaVuSans-101\"/>\r\n      <use x=\"339.035156\" xlink:href=\"#DejaVuSans-110\"/>\r\n      <use x=\"402.414062\" xlink:href=\"#DejaVuSans-99\"/>\r\n      <use x=\"457.394531\" xlink:href=\"#DejaVuSans-121\"/>\r\n     </g>\r\n    </g>\r\n    <g id=\"text_13\">\r\n     <!-- 1e7 -->\r\n     <g transform=\"translate(34.240625 14.798437)scale(0.1 -0.1)\">\r\n      <defs>\r\n       <path d=\"M 8.203125 72.90625 \r\nL 55.078125 72.90625 \r\nL 55.078125 68.703125 \r\nL 28.609375 0 \r\nL 18.3125 0 \r\nL 43.21875 64.59375 \r\nL 8.203125 64.59375 \r\nz\r\n\" id=\"DejaVuSans-55\"/>\r\n      </defs>\r\n      <use xlink:href=\"#DejaVuSans-49\"/>\r\n      <use x=\"63.623047\" xlink:href=\"#DejaVuSans-101\"/>\r\n      <use x=\"125.146484\" xlink:href=\"#DejaVuSans-55\"/>\r\n     </g>\r\n    </g>\r\n   </g>\r\n   <g id=\"patch_15\">\r\n    <path d=\"M 34.240625 235.238437 \r\nL 34.240625 17.798437 \r\n\" style=\"fill:none;stroke:#000000;stroke-linecap:square;stroke-linejoin:miter;stroke-width:0.8;\"/>\r\n   </g>\r\n   <g id=\"patch_16\">\r\n    <path d=\"M 369.040625 235.238437 \r\nL 369.040625 17.798437 \r\n\" style=\"fill:none;stroke:#000000;stroke-linecap:square;stroke-linejoin:miter;stroke-width:0.8;\"/>\r\n   </g>\r\n   <g id=\"patch_17\">\r\n    <path d=\"M 34.240625 235.238437 \r\nL 369.040625 235.238437 \r\n\" style=\"fill:none;stroke:#000000;stroke-linecap:square;stroke-linejoin:miter;stroke-width:0.8;\"/>\r\n   </g>\r\n   <g id=\"patch_18\">\r\n    <path d=\"M 34.240625 17.798437 \r\nL 369.040625 17.798437 \r\n\" style=\"fill:none;stroke:#000000;stroke-linecap:square;stroke-linejoin:miter;stroke-width:0.8;\"/>\r\n   </g>\r\n  </g>\r\n </g>\r\n <defs>\r\n  <clipPath id=\"p9528257357\">\r\n   <rect height=\"217.44\" width=\"334.8\" x=\"34.240625\" y=\"17.798437\"/>\r\n  </clipPath>\r\n </defs>\r\n</svg>\r\n",
      "image/png": "[encoded data removed]"
     },
     "metadata": {
      "needs_background": "light"
     }
    }
   ],
   "source": [
    "df.quantity.plot.hist(bins=12, alpha=0.1)"
   ]
  },
  {
   "source": [],
   "cell_type": "markdown",
   "metadata": {}
  },
  {
   "source": [
    "### Rich clients"
   ],
   "cell_type": "markdown",
   "metadata": {}
  },
  {
   "cell_type": "code",
   "execution_count": 11,
   "metadata": {},
   "outputs": [],
   "source": [
    "summed_df = df.groupby('id_card_int', as_index=False).sum().sort_values('sum', ascending=False)"
   ]
  },
  {
   "cell_type": "code",
   "execution_count": 12,
   "metadata": {},
   "outputs": [
    {
     "output_type": "execute_result",
     "data": {
      "text/plain": [
       "         id_card_int    id_order      id_tov    id_kontr    quantity  \\\n",
       "634961        883386           0  5225384146  2691594122  278316.997   \n",
       "1105409      1577248  1525064094    18136479    14771200    4798.307   \n",
       "734805       1028081           0     1591032     1283206     470.498   \n",
       "264302        356029  4432157449    11999668     7307748     931.651   \n",
       "429674        588107   225732765     7016365     5664784     960.697   \n",
       "\n",
       "                 sum  is_green     id_doc_int  \n",
       "634961   22018356.77       575  2676528719357  \n",
       "1105409   1279932.55         0    10345626259  \n",
       "734805     117739.34         0      688135777  \n",
       "264302     116052.43         1     4462900685  \n",
       "429674     112809.07         0     3212837081  "
      ],
      "text/html": "<div>\n<style scoped>\n    .dataframe tbody tr th:only-of-type {\n        vertical-align: middle;\n    }\n\n    .dataframe tbody tr th {\n        vertical-align: top;\n    }\n\n    .dataframe thead th {\n        text-align: right;\n    }\n</style>\n<table border=\"1\" class=\"dataframe\">\n  <thead>\n    <tr style=\"text-align: right;\">\n      <th></th>\n      <th>id_card_int</th>\n      <th>id_order</th>\n      <th>id_tov</th>\n      <th>id_kontr</th>\n      <th>quantity</th>\n      <th>sum</th>\n      <th>is_green</th>\n      <th>id_doc_int</th>\n    </tr>\n  </thead>\n  <tbody>\n    <tr>\n      <th>634961</th>\n      <td>883386</td>\n      <td>0</td>\n      <td>5225384146</td>\n      <td>2691594122</td>\n      <td>278316.997</td>\n      <td>22018356.77</td>\n      <td>575</td>\n      <td>2676528719357</td>\n    </tr>\n    <tr>\n      <th>1105409</th>\n      <td>1577248</td>\n      <td>1525064094</td>\n      <td>18136479</td>\n      <td>14771200</td>\n      <td>4798.307</td>\n      <td>1279932.55</td>\n      <td>0</td>\n      <td>10345626259</td>\n    </tr>\n    <tr>\n      <th>734805</th>\n      <td>1028081</td>\n      <td>0</td>\n      <td>1591032</td>\n      <td>1283206</td>\n      <td>470.498</td>\n      <td>117739.34</td>\n      <td>0</td>\n      <td>688135777</td>\n    </tr>\n    <tr>\n      <th>264302</th>\n      <td>356029</td>\n      <td>4432157449</td>\n      <td>11999668</td>\n      <td>7307748</td>\n      <td>931.651</td>\n      <td>116052.43</td>\n      <td>1</td>\n      <td>4462900685</td>\n    </tr>\n    <tr>\n      <th>429674</th>\n      <td>588107</td>\n      <td>225732765</td>\n      <td>7016365</td>\n      <td>5664784</td>\n      <td>960.697</td>\n      <td>112809.07</td>\n      <td>0</td>\n      <td>3212837081</td>\n    </tr>\n  </tbody>\n</table>\n</div>"
     },
     "metadata": {},
     "execution_count": 12
    }
   ],
   "source": [
    "summed_df.head()"
   ]
  },
  {
   "cell_type": "code",
   "execution_count": 13,
   "metadata": {},
   "outputs": [
    {
     "output_type": "execute_result",
     "data": {
      "text/plain": [
       "634961      883386\n",
       "1105409    1577248\n",
       "734805     1028081\n",
       "264302      356029\n",
       "429674      588107\n",
       "            ...   \n",
       "1157886    1658568\n",
       "1246924    1801318\n",
       "1331880    1940595\n",
       "1171947    1680218\n",
       "428257      586087\n",
       "Name: id_card_int, Length: 1335358, dtype: int64"
      ]
     },
     "metadata": {},
     "execution_count": 13
    }
   ],
   "source": [
    "summed_df.id_card_int"
   ]
  },
  {
   "cell_type": "code",
   "execution_count": 14,
   "metadata": {},
   "outputs": [
    {
     "output_type": "execute_result",
     "data": {
      "text/plain": [
       "count    1.335358e+06\n",
       "mean     4.161582e+03\n",
       "std      1.998368e+04\n",
       "min      0.000000e+00\n",
       "25%      6.440000e+02\n",
       "50%      1.868585e+03\n",
       "75%      5.137095e+03\n",
       "max      2.201836e+07\n",
       "Name: sum, dtype: float64"
      ]
     },
     "metadata": {},
     "execution_count": 14
    }
   ],
   "source": [
    "summed_df['sum'].describe()"
   ]
  },
  {
   "cell_type": "code",
   "execution_count": 15,
   "metadata": {},
   "outputs": [
    {
     "output_type": "execute_result",
     "data": {
      "text/plain": [
       "110075.06222611859"
      ]
     },
     "metadata": {},
     "execution_count": 15
    }
   ],
   "source": [
    "std, mean = summed_df['sum'].std(), summed_df['sum'].mean()\n",
    "thresh = mean + std * 5.30\n",
    "thresh"
   ]
  },
  {
   "cell_type": "code",
   "execution_count": 16,
   "metadata": {},
   "outputs": [
    {
     "output_type": "stream",
     "name": "stdout",
     "text": [
      "[883386, 1577248, 1028081, 356029, 588107]\n"
     ]
    }
   ],
   "source": [
    "bad_clients = summed_df[summed_df['sum'] > thresh]['id_card_int'].values.tolist()\n",
    "print(bad_clients)"
   ]
  },
  {
   "source": [
    "### wrong quantity num"
   ],
   "cell_type": "markdown",
   "metadata": {}
  },
  {
   "cell_type": "code",
   "execution_count": 17,
   "metadata": {},
   "outputs": [
    {
     "output_type": "execute_result",
     "data": {
      "text/plain": [
       "             date  id_order  id_tov  id_kontr  quantity  sum  is_green  \\\n",
       "id_card_int                                                              \n",
       "22599           1         1       1         1         1    1         1   \n",
       "527308          1         1       1         1         1    1         1   \n",
       "1010794         1         1       1         1         1    1         1   \n",
       "394767          2         2       2         2         2    2         2   \n",
       "1272759         2         2       2         2         2    2         2   \n",
       "\n",
       "             id_doc_int  \n",
       "id_card_int              \n",
       "22599                 1  \n",
       "527308                1  \n",
       "1010794               1  \n",
       "394767                2  \n",
       "1272759               2  "
      ],
      "text/html": "<div>\n<style scoped>\n    .dataframe tbody tr th:only-of-type {\n        vertical-align: middle;\n    }\n\n    .dataframe tbody tr th {\n        vertical-align: top;\n    }\n\n    .dataframe thead th {\n        text-align: right;\n    }\n</style>\n<table border=\"1\" class=\"dataframe\">\n  <thead>\n    <tr style=\"text-align: right;\">\n      <th></th>\n      <th>date</th>\n      <th>id_order</th>\n      <th>id_tov</th>\n      <th>id_kontr</th>\n      <th>quantity</th>\n      <th>sum</th>\n      <th>is_green</th>\n      <th>id_doc_int</th>\n    </tr>\n    <tr>\n      <th>id_card_int</th>\n      <th></th>\n      <th></th>\n      <th></th>\n      <th></th>\n      <th></th>\n      <th></th>\n      <th></th>\n      <th></th>\n    </tr>\n  </thead>\n  <tbody>\n    <tr>\n      <th>22599</th>\n      <td>1</td>\n      <td>1</td>\n      <td>1</td>\n      <td>1</td>\n      <td>1</td>\n      <td>1</td>\n      <td>1</td>\n      <td>1</td>\n    </tr>\n    <tr>\n      <th>527308</th>\n      <td>1</td>\n      <td>1</td>\n      <td>1</td>\n      <td>1</td>\n      <td>1</td>\n      <td>1</td>\n      <td>1</td>\n      <td>1</td>\n    </tr>\n    <tr>\n      <th>1010794</th>\n      <td>1</td>\n      <td>1</td>\n      <td>1</td>\n      <td>1</td>\n      <td>1</td>\n      <td>1</td>\n      <td>1</td>\n      <td>1</td>\n    </tr>\n    <tr>\n      <th>394767</th>\n      <td>2</td>\n      <td>2</td>\n      <td>2</td>\n      <td>2</td>\n      <td>2</td>\n      <td>2</td>\n      <td>2</td>\n      <td>2</td>\n    </tr>\n    <tr>\n      <th>1272759</th>\n      <td>2</td>\n      <td>2</td>\n      <td>2</td>\n      <td>2</td>\n      <td>2</td>\n      <td>2</td>\n      <td>2</td>\n      <td>2</td>\n    </tr>\n  </tbody>\n</table>\n</div>"
     },
     "metadata": {},
     "execution_count": 17
    }
   ],
   "source": [
    "zero_quantity = df[df['quantity'] <= 0].groupby('id_card_int').count().sort_values('id_doc_int')\n",
    "zero_quantity"
   ]
  },
  {
   "cell_type": "code",
   "execution_count": 18,
   "metadata": {},
   "outputs": [
    {
     "output_type": "stream",
     "name": "stdout",
     "text": [
      "Int64Index([1272759], dtype='int64', name='id_card_int')\n"
     ]
    }
   ],
   "source": [
    "bad_clients += zero_quantity[-1:].index.values.tolist()\n",
    "print(zero_quantity[-1:].index)"
   ]
  },
  {
   "source": [
    "### check by count"
   ],
   "cell_type": "markdown",
   "metadata": {}
  },
  {
   "cell_type": "code",
   "execution_count": 19,
   "metadata": {},
   "outputs": [
    {
     "output_type": "execute_result",
     "data": {
      "text/plain": [
       "         id_card_int  counts\n",
       "1100156      1569326       1\n",
       "558437        772791       1\n",
       "954998       1350833       1\n",
       "1279817      1855550       1\n",
       "558430        772781       1\n",
       "...              ...     ...\n",
       "733034       1025552     732\n",
       "365881        497966     737\n",
       "1105409      1577248     789\n",
       "1271558      1841799     790\n",
       "634961        883386  228012\n",
       "\n",
       "[1335358 rows x 2 columns]"
      ],
      "text/html": "<div>\n<style scoped>\n    .dataframe tbody tr th:only-of-type {\n        vertical-align: middle;\n    }\n\n    .dataframe tbody tr th {\n        vertical-align: top;\n    }\n\n    .dataframe thead th {\n        text-align: right;\n    }\n</style>\n<table border=\"1\" class=\"dataframe\">\n  <thead>\n    <tr style=\"text-align: right;\">\n      <th></th>\n      <th>id_card_int</th>\n      <th>counts</th>\n    </tr>\n  </thead>\n  <tbody>\n    <tr>\n      <th>1100156</th>\n      <td>1569326</td>\n      <td>1</td>\n    </tr>\n    <tr>\n      <th>558437</th>\n      <td>772791</td>\n      <td>1</td>\n    </tr>\n    <tr>\n      <th>954998</th>\n      <td>1350833</td>\n      <td>1</td>\n    </tr>\n    <tr>\n      <th>1279817</th>\n      <td>1855550</td>\n      <td>1</td>\n    </tr>\n    <tr>\n      <th>558430</th>\n      <td>772781</td>\n      <td>1</td>\n    </tr>\n    <tr>\n      <th>...</th>\n      <td>...</td>\n      <td>...</td>\n    </tr>\n    <tr>\n      <th>733034</th>\n      <td>1025552</td>\n      <td>732</td>\n    </tr>\n    <tr>\n      <th>365881</th>\n      <td>497966</td>\n      <td>737</td>\n    </tr>\n    <tr>\n      <th>1105409</th>\n      <td>1577248</td>\n      <td>789</td>\n    </tr>\n    <tr>\n      <th>1271558</th>\n      <td>1841799</td>\n      <td>790</td>\n    </tr>\n    <tr>\n      <th>634961</th>\n      <td>883386</td>\n      <td>228012</td>\n    </tr>\n  </tbody>\n</table>\n<p>1335358 rows × 2 columns</p>\n</div>"
     },
     "metadata": {},
     "execution_count": 19
    }
   ],
   "source": [
    "counted = df.groupby(['id_card_int']).size().reset_index(name=\"counts\").sort_values(by=\"counts\")\n",
    "counted"
   ]
  },
  {
   "source": [
    "get the biggest client"
   ],
   "cell_type": "markdown",
   "metadata": {}
  },
  {
   "cell_type": "code",
   "execution_count": 20,
   "metadata": {},
   "outputs": [],
   "source": [
    "bad_clients += [counted.iloc[-1]['id_card_int']]"
   ]
  },
  {
   "source": [
    "### Writing result"
   ],
   "cell_type": "markdown",
   "metadata": {}
  },
  {
   "cell_type": "code",
   "execution_count": 21,
   "metadata": {},
   "outputs": [],
   "source": [
    "ouliers = pd.DataFrame.from_dict({'id_card': bad_clients})\n",
    "\n",
    "with bz2.open(os.path.join(data, 'rinat.pkl.bz2'), 'wb') as f:\n",
    "    pickle.dump(ouliers, f, protocol=4)\n"
   ]
  }
 ]
}