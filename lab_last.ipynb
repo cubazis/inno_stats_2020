{
 "cells": [
  {
   "cell_type": "code",
   "execution_count": 3,
   "metadata": {},
   "outputs": [
    {
     "name": "stdout",
     "output_type": "stream",
     "text": [
      "Collecting sklearn\n",
      "  Using cached sklearn-0.0.tar.gz (1.1 kB)\n",
      "Collecting scikit-learn\n",
      "  Downloading scikit_learn-0.24.2-cp37-cp37m-macosx_10_13_x86_64.whl (7.2 MB)\n",
      "\u001b[K     |████████████████████████████████| 7.2 MB 1.8 MB/s eta 0:00:01\n",
      "\u001b[?25hRequirement already satisfied: scipy>=0.19.1 in /Users/Ouser/.pyenv/versions/3.7.9/lib/python3.7/site-packages (from scikit-learn->sklearn) (1.6.0)\n",
      "Requirement already satisfied: numpy>=1.13.3 in /Users/Ouser/.pyenv/versions/3.7.9/lib/python3.7/site-packages (from scikit-learn->sklearn) (1.19.5)\n",
      "Collecting threadpoolctl>=2.0.0\n",
      "  Using cached threadpoolctl-2.1.0-py3-none-any.whl (12 kB)\n",
      "Requirement already satisfied: joblib>=0.11 in /Users/Ouser/.pyenv/versions/3.7.9/lib/python3.7/site-packages (from scikit-learn->sklearn) (1.0.1)\n",
      "Building wheels for collected packages: sklearn\n",
      "  Building wheel for sklearn (setup.py) ... \u001b[?25ldone\n",
      "\u001b[?25h  Created wheel for sklearn: filename=sklearn-0.0-py2.py3-none-any.whl size=1316 sha256=126817d78bed058b2e9d40bdc9f862a56b372110de313c9e97b849ffc39ba4e8\n",
      "  Stored in directory: /Users/Ouser/Library/Caches/pip/wheels/46/ef/c3/157e41f5ee1372d1be90b09f74f82b10e391eaacca8f22d33e\n",
      "Successfully built sklearn\n",
      "Installing collected packages: threadpoolctl, scikit-learn, sklearn\n",
      "Successfully installed scikit-learn-0.24.2 sklearn-0.0 threadpoolctl-2.1.0\n",
      "\u001b[33mWARNING: You are using pip version 21.0.1; however, version 21.1.1 is available.\n",
      "You should consider upgrading via the '/Users/Ouser/.pyenv/versions/3.7.9/bin/python -m pip install --upgrade pip' command.\u001b[0m\n"
     ]
    }
   ],
   "source": [
    "!pip install sklearn"
   ]
  },
  {
   "cell_type": "code",
   "execution_count": 4,
   "metadata": {},
   "outputs": [],
   "source": [
    "from pathlib import Path\n",
    "import pandas as pd\n",
    "import gc\n",
    "from sklearn.preprocessing import LabelEncoder\n",
    "import pickle\n",
    "import bz2"
   ]
  },
  {
   "cell_type": "markdown",
   "metadata": {},
   "source": [
    "Download https://drive.google.com/drive/folders/1BZFez3OFs7QMzeDUz-8E0SgnRy227pnG"
   ]
  },
  {
   "cell_type": "markdown",
   "metadata": {},
   "source": [
    "Unzip"
   ]
  },
  {
   "cell_type": "markdown",
   "metadata": {},
   "source": [
    "!mkdir data\n",
    "!tar -xf inno_stats.tar.gz -C ./data"
   ]
  },
  {
   "cell_type": "code",
   "execution_count": 5,
   "metadata": {},
   "outputs": [
    {
     "name": "stdout",
     "output_type": "stream",
     "text": [
      "09_groups.csv             11_groups.csv             product_groups.csv\r\n",
      "10_groups.csv             bad_ids - bad_ids.csv.csv\r\n"
     ]
    }
   ],
   "source": [
    "data_path = Path('./data/').resolve()\n",
    "!ls {data_path}"
   ]
  },
  {
   "cell_type": "code",
   "execution_count": 6,
   "metadata": {},
   "outputs": [
    {
     "data": {
      "text/html": [
       "<div>\n",
       "<style scoped>\n",
       "    .dataframe tbody tr th:only-of-type {\n",
       "        vertical-align: middle;\n",
       "    }\n",
       "\n",
       "    .dataframe tbody tr th {\n",
       "        vertical-align: top;\n",
       "    }\n",
       "\n",
       "    .dataframe thead th {\n",
       "        text-align: right;\n",
       "    }\n",
       "</style>\n",
       "<table border=\"1\" class=\"dataframe\">\n",
       "  <thead>\n",
       "    <tr style=\"text-align: right;\">\n",
       "      <th></th>\n",
       "      <th>date</th>\n",
       "      <th>id_doc</th>\n",
       "      <th>id_order</th>\n",
       "      <th>id_card</th>\n",
       "      <th>id_tov</th>\n",
       "      <th>id_kontr</th>\n",
       "      <th>quantity</th>\n",
       "      <th>sum</th>\n",
       "      <th>is_green</th>\n",
       "      <th>id_group</th>\n",
       "    </tr>\n",
       "  </thead>\n",
       "  <tbody>\n",
       "    <tr>\n",
       "      <th>0</th>\n",
       "      <td>2020-09-01 17:01:25</td>\n",
       "      <td>1283228</td>\n",
       "      <td>0.0</td>\n",
       "      <td>1538855</td>\n",
       "      <td>52</td>\n",
       "      <td>271</td>\n",
       "      <td>1.0</td>\n",
       "      <td>108.00</td>\n",
       "      <td>0</td>\n",
       "      <td>10004</td>\n",
       "    </tr>\n",
       "    <tr>\n",
       "      <th>1</th>\n",
       "      <td>2020-09-01 17:35:36</td>\n",
       "      <td>8873113</td>\n",
       "      <td>0.0</td>\n",
       "      <td>267307</td>\n",
       "      <td>52</td>\n",
       "      <td>271</td>\n",
       "      <td>1.0</td>\n",
       "      <td>108.00</td>\n",
       "      <td>0</td>\n",
       "      <td>10004</td>\n",
       "    </tr>\n",
       "    <tr>\n",
       "      <th>2</th>\n",
       "      <td>2020-09-01 19:19:21</td>\n",
       "      <td>12712899</td>\n",
       "      <td>0.0</td>\n",
       "      <td>610220</td>\n",
       "      <td>52</td>\n",
       "      <td>271</td>\n",
       "      <td>1.0</td>\n",
       "      <td>107.95</td>\n",
       "      <td>0</td>\n",
       "      <td>10004</td>\n",
       "    </tr>\n",
       "    <tr>\n",
       "      <th>3</th>\n",
       "      <td>2020-09-01 21:53:34</td>\n",
       "      <td>21535283</td>\n",
       "      <td>0.0</td>\n",
       "      <td>441497</td>\n",
       "      <td>52</td>\n",
       "      <td>271</td>\n",
       "      <td>1.0</td>\n",
       "      <td>108.00</td>\n",
       "      <td>0</td>\n",
       "      <td>10004</td>\n",
       "    </tr>\n",
       "    <tr>\n",
       "      <th>4</th>\n",
       "      <td>2020-09-01 18:42:31</td>\n",
       "      <td>642341</td>\n",
       "      <td>0.0</td>\n",
       "      <td>1065358</td>\n",
       "      <td>61</td>\n",
       "      <td>97</td>\n",
       "      <td>2.0</td>\n",
       "      <td>88.00</td>\n",
       "      <td>0</td>\n",
       "      <td>10091</td>\n",
       "    </tr>\n",
       "  </tbody>\n",
       "</table>\n",
       "</div>"
      ],
      "text/plain": [
       "                  date    id_doc  id_order  id_card  id_tov  id_kontr  \\\n",
       "0  2020-09-01 17:01:25   1283228       0.0  1538855      52       271   \n",
       "1  2020-09-01 17:35:36   8873113       0.0   267307      52       271   \n",
       "2  2020-09-01 19:19:21  12712899       0.0   610220      52       271   \n",
       "3  2020-09-01 21:53:34  21535283       0.0   441497      52       271   \n",
       "4  2020-09-01 18:42:31    642341       0.0  1065358      61        97   \n",
       "\n",
       "   quantity     sum  is_green  id_group  \n",
       "0       1.0  108.00         0     10004  \n",
       "1       1.0  108.00         0     10004  \n",
       "2       1.0  107.95         0     10004  \n",
       "3       1.0  108.00         0     10004  \n",
       "4       2.0   88.00         0     10091  "
      ]
     },
     "execution_count": 6,
     "metadata": {},
     "output_type": "execute_result"
    }
   ],
   "source": [
    "g_9 = pd.read_csv('./data/09_groups.csv')\n",
    "g_9.head()"
   ]
  },
  {
   "cell_type": "code",
   "execution_count": 35,
   "metadata": {},
   "outputs": [
    {
     "data": {
      "text/html": [
       "<div>\n",
       "<style scoped>\n",
       "    .dataframe tbody tr th:only-of-type {\n",
       "        vertical-align: middle;\n",
       "    }\n",
       "\n",
       "    .dataframe tbody tr th {\n",
       "        vertical-align: top;\n",
       "    }\n",
       "\n",
       "    .dataframe thead th {\n",
       "        text-align: right;\n",
       "    }\n",
       "</style>\n",
       "<table border=\"1\" class=\"dataframe\">\n",
       "  <thead>\n",
       "    <tr style=\"text-align: right;\">\n",
       "      <th></th>\n",
       "      <th>date</th>\n",
       "      <th>id_doc</th>\n",
       "      <th>id_order</th>\n",
       "      <th>id_card</th>\n",
       "      <th>id_tov</th>\n",
       "      <th>id_kontr</th>\n",
       "      <th>quantity</th>\n",
       "      <th>sum</th>\n",
       "      <th>is_green</th>\n",
       "      <th>id_group</th>\n",
       "    </tr>\n",
       "  </thead>\n",
       "  <tbody>\n",
       "    <tr>\n",
       "      <th>0</th>\n",
       "      <td>2020-10-01 20:22:55</td>\n",
       "      <td>2035558</td>\n",
       "      <td>0.0</td>\n",
       "      <td>1636749</td>\n",
       "      <td>52</td>\n",
       "      <td>339</td>\n",
       "      <td>1.0</td>\n",
       "      <td>107.90</td>\n",
       "      <td>0</td>\n",
       "      <td>10004</td>\n",
       "    </tr>\n",
       "    <tr>\n",
       "      <th>1</th>\n",
       "      <td>2020-10-01 20:54:12</td>\n",
       "      <td>13037327</td>\n",
       "      <td>0.0</td>\n",
       "      <td>267261</td>\n",
       "      <td>52</td>\n",
       "      <td>339</td>\n",
       "      <td>1.0</td>\n",
       "      <td>80.04</td>\n",
       "      <td>0</td>\n",
       "      <td>10004</td>\n",
       "    </tr>\n",
       "    <tr>\n",
       "      <th>2</th>\n",
       "      <td>2020-10-01 21:25:59</td>\n",
       "      <td>1430590</td>\n",
       "      <td>0.0</td>\n",
       "      <td>1331395</td>\n",
       "      <td>61</td>\n",
       "      <td>379</td>\n",
       "      <td>1.0</td>\n",
       "      <td>31.92</td>\n",
       "      <td>1</td>\n",
       "      <td>10091</td>\n",
       "    </tr>\n",
       "    <tr>\n",
       "      <th>3</th>\n",
       "      <td>2020-10-01 13:31:01</td>\n",
       "      <td>3504660</td>\n",
       "      <td>0.0</td>\n",
       "      <td>641525</td>\n",
       "      <td>61</td>\n",
       "      <td>97</td>\n",
       "      <td>1.0</td>\n",
       "      <td>55.98</td>\n",
       "      <td>0</td>\n",
       "      <td>10091</td>\n",
       "    </tr>\n",
       "    <tr>\n",
       "      <th>4</th>\n",
       "      <td>2020-10-01 16:32:06</td>\n",
       "      <td>11024438</td>\n",
       "      <td>0.0</td>\n",
       "      <td>1325852</td>\n",
       "      <td>61</td>\n",
       "      <td>97</td>\n",
       "      <td>4.0</td>\n",
       "      <td>176.00</td>\n",
       "      <td>0</td>\n",
       "      <td>10091</td>\n",
       "    </tr>\n",
       "  </tbody>\n",
       "</table>\n",
       "</div>"
      ],
      "text/plain": [
       "                  date    id_doc  id_order  id_card  id_tov  id_kontr  \\\n",
       "0  2020-10-01 20:22:55   2035558       0.0  1636749      52       339   \n",
       "1  2020-10-01 20:54:12  13037327       0.0   267261      52       339   \n",
       "2  2020-10-01 21:25:59   1430590       0.0  1331395      61       379   \n",
       "3  2020-10-01 13:31:01   3504660       0.0   641525      61        97   \n",
       "4  2020-10-01 16:32:06  11024438       0.0  1325852      61        97   \n",
       "\n",
       "   quantity     sum  is_green  id_group  \n",
       "0       1.0  107.90         0     10004  \n",
       "1       1.0   80.04         0     10004  \n",
       "2       1.0   31.92         1     10091  \n",
       "3       1.0   55.98         0     10091  \n",
       "4       4.0  176.00         0     10091  "
      ]
     },
     "execution_count": 35,
     "metadata": {},
     "output_type": "execute_result"
    }
   ],
   "source": [
    "g_10 = pd.read_csv('./data/10_groups.csv')\n",
    "g_10.head()"
   ]
  },
  {
   "cell_type": "code",
   "execution_count": 36,
   "metadata": {},
   "outputs": [
    {
     "data": {
      "text/html": [
       "<div>\n",
       "<style scoped>\n",
       "    .dataframe tbody tr th:only-of-type {\n",
       "        vertical-align: middle;\n",
       "    }\n",
       "\n",
       "    .dataframe tbody tr th {\n",
       "        vertical-align: top;\n",
       "    }\n",
       "\n",
       "    .dataframe thead th {\n",
       "        text-align: right;\n",
       "    }\n",
       "</style>\n",
       "<table border=\"1\" class=\"dataframe\">\n",
       "  <thead>\n",
       "    <tr style=\"text-align: right;\">\n",
       "      <th></th>\n",
       "      <th>date</th>\n",
       "      <th>id_doc</th>\n",
       "      <th>id_order</th>\n",
       "      <th>id_card</th>\n",
       "      <th>id_tov</th>\n",
       "      <th>id_kontr</th>\n",
       "      <th>quantity</th>\n",
       "      <th>sum</th>\n",
       "      <th>is_green</th>\n",
       "      <th>id_group</th>\n",
       "    </tr>\n",
       "  </thead>\n",
       "  <tbody>\n",
       "    <tr>\n",
       "      <th>0</th>\n",
       "      <td>2020-11-01 15:29:01</td>\n",
       "      <td>3121751</td>\n",
       "      <td>0.0</td>\n",
       "      <td>332351</td>\n",
       "      <td>52</td>\n",
       "      <td>271</td>\n",
       "      <td>1.0</td>\n",
       "      <td>107.98</td>\n",
       "      <td>0</td>\n",
       "      <td>10004</td>\n",
       "    </tr>\n",
       "    <tr>\n",
       "      <th>1</th>\n",
       "      <td>2020-11-01 12:41:10</td>\n",
       "      <td>22047017</td>\n",
       "      <td>8293317.0</td>\n",
       "      <td>1875438</td>\n",
       "      <td>52</td>\n",
       "      <td>-9999</td>\n",
       "      <td>1.0</td>\n",
       "      <td>108.00</td>\n",
       "      <td>0</td>\n",
       "      <td>10004</td>\n",
       "    </tr>\n",
       "    <tr>\n",
       "      <th>2</th>\n",
       "      <td>2020-11-01 13:17:09</td>\n",
       "      <td>6419825</td>\n",
       "      <td>0.0</td>\n",
       "      <td>563112</td>\n",
       "      <td>61</td>\n",
       "      <td>379</td>\n",
       "      <td>2.0</td>\n",
       "      <td>112.00</td>\n",
       "      <td>0</td>\n",
       "      <td>10091</td>\n",
       "    </tr>\n",
       "    <tr>\n",
       "      <th>3</th>\n",
       "      <td>2020-11-01 12:31:31</td>\n",
       "      <td>10284541</td>\n",
       "      <td>0.0</td>\n",
       "      <td>1841710</td>\n",
       "      <td>61</td>\n",
       "      <td>379</td>\n",
       "      <td>1.0</td>\n",
       "      <td>55.91</td>\n",
       "      <td>0</td>\n",
       "      <td>10091</td>\n",
       "    </tr>\n",
       "    <tr>\n",
       "      <th>4</th>\n",
       "      <td>2020-11-01 13:06:15</td>\n",
       "      <td>10424967</td>\n",
       "      <td>0.0</td>\n",
       "      <td>1304277</td>\n",
       "      <td>61</td>\n",
       "      <td>271</td>\n",
       "      <td>2.0</td>\n",
       "      <td>87.80</td>\n",
       "      <td>0</td>\n",
       "      <td>10091</td>\n",
       "    </tr>\n",
       "  </tbody>\n",
       "</table>\n",
       "</div>"
      ],
      "text/plain": [
       "                  date    id_doc   id_order  id_card  id_tov  id_kontr  \\\n",
       "0  2020-11-01 15:29:01   3121751        0.0   332351      52       271   \n",
       "1  2020-11-01 12:41:10  22047017  8293317.0  1875438      52     -9999   \n",
       "2  2020-11-01 13:17:09   6419825        0.0   563112      61       379   \n",
       "3  2020-11-01 12:31:31  10284541        0.0  1841710      61       379   \n",
       "4  2020-11-01 13:06:15  10424967        0.0  1304277      61       271   \n",
       "\n",
       "   quantity     sum  is_green  id_group  \n",
       "0       1.0  107.98         0     10004  \n",
       "1       1.0  108.00         0     10004  \n",
       "2       2.0  112.00         0     10091  \n",
       "3       1.0   55.91         0     10091  \n",
       "4       2.0   87.80         0     10091  "
      ]
     },
     "execution_count": 36,
     "metadata": {},
     "output_type": "execute_result"
    }
   ],
   "source": [
    "g_11 = pd.read_csv('./data/11_groups.csv')\n",
    "g_11.head()"
   ]
  },
  {
   "cell_type": "code",
   "execution_count": 37,
   "metadata": {},
   "outputs": [
    {
     "data": {
      "text/html": [
       "<div>\n",
       "<style scoped>\n",
       "    .dataframe tbody tr th:only-of-type {\n",
       "        vertical-align: middle;\n",
       "    }\n",
       "\n",
       "    .dataframe tbody tr th {\n",
       "        vertical-align: top;\n",
       "    }\n",
       "\n",
       "    .dataframe thead th {\n",
       "        text-align: right;\n",
       "    }\n",
       "</style>\n",
       "<table border=\"1\" class=\"dataframe\">\n",
       "  <thead>\n",
       "    <tr style=\"text-align: right;\">\n",
       "      <th></th>\n",
       "      <th>id_tov</th>\n",
       "      <th>id_group</th>\n",
       "      <th>name_group</th>\n",
       "    </tr>\n",
       "  </thead>\n",
       "  <tbody>\n",
       "    <tr>\n",
       "      <th>0</th>\n",
       "      <td>52</td>\n",
       "      <td>10004</td>\n",
       "      <td>Кисломолочные продукты</td>\n",
       "    </tr>\n",
       "    <tr>\n",
       "      <th>1</th>\n",
       "      <td>75</td>\n",
       "      <td>10004</td>\n",
       "      <td>Кисломолочные продукты</td>\n",
       "    </tr>\n",
       "    <tr>\n",
       "      <th>2</th>\n",
       "      <td>77</td>\n",
       "      <td>10004</td>\n",
       "      <td>Кисломолочные продукты</td>\n",
       "    </tr>\n",
       "    <tr>\n",
       "      <th>3</th>\n",
       "      <td>143</td>\n",
       "      <td>10004</td>\n",
       "      <td>Кисломолочные продукты</td>\n",
       "    </tr>\n",
       "    <tr>\n",
       "      <th>4</th>\n",
       "      <td>151</td>\n",
       "      <td>10004</td>\n",
       "      <td>Кисломолочные продукты</td>\n",
       "    </tr>\n",
       "  </tbody>\n",
       "</table>\n",
       "</div>"
      ],
      "text/plain": [
       "   id_tov  id_group              name_group\n",
       "0      52     10004  Кисломолочные продукты\n",
       "1      75     10004  Кисломолочные продукты\n",
       "2      77     10004  Кисломолочные продукты\n",
       "3     143     10004  Кисломолочные продукты\n",
       "4     151     10004  Кисломолочные продукты"
      ]
     },
     "execution_count": 37,
     "metadata": {},
     "output_type": "execute_result"
    }
   ],
   "source": [
    "p_g = pd.read_csv('./data/product_groups.csv', delimiter=';', encoding='windows-1251')\n",
    "p_g.head()"
   ]
  },
  {
   "cell_type": "markdown",
   "metadata": {},
   "source": [
    "## Preprocessing"
   ]
  },
  {
   "cell_type": "code",
   "execution_count": 9,
   "metadata": {},
   "outputs": [],
   "source": [
    "df = g_9\n",
    "bad_ids = pd.read_csv('./data/bad_ids.csv')\n",
    "df = df[~df['id_card'].isin(set(bad_ids['id_card']))]"
   ]
  },
  {
   "cell_type": "code",
   "execution_count": 15,
   "metadata": {},
   "outputs": [
    {
     "name": "stdout",
     "output_type": "stream",
     "text": [
      "<class 'pandas.core.frame.DataFrame'>\n",
      "RangeIndex: 42100858 entries, 0 to 42100857\n",
      "Data columns (total 10 columns):\n",
      " #   Column    Dtype  \n",
      "---  ------    -----  \n",
      " 0   date      object \n",
      " 1   id_doc    int64  \n",
      " 2   id_order  float64\n",
      " 3   id_card   int64  \n",
      " 4   id_tov    int64  \n",
      " 5   id_kontr  int64  \n",
      " 6   quantity  float64\n",
      " 7   sum       float64\n",
      " 8   is_green  int64  \n",
      " 9   id_group  int64  \n",
      "dtypes: float64(3), int64(6), object(1)\n",
      "memory usage: 3.1+ GB\n"
     ]
    }
   ],
   "source": [
    "g_9.info()"
   ]
  },
  {
   "cell_type": "code",
   "execution_count": 16,
   "metadata": {},
   "outputs": [
    {
     "name": "stdout",
     "output_type": "stream",
     "text": [
      "<class 'pandas.core.frame.DataFrame'>\n",
      "Int64Index: 38466003 entries, 0 to 42100857\n",
      "Data columns (total 10 columns):\n",
      " #   Column    Dtype  \n",
      "---  ------    -----  \n",
      " 0   date      object \n",
      " 1   id_doc    int64  \n",
      " 2   id_order  float64\n",
      " 3   id_card   int64  \n",
      " 4   id_tov    int64  \n",
      " 5   id_kontr  int64  \n",
      " 6   quantity  float64\n",
      " 7   sum       float64\n",
      " 8   is_green  int64  \n",
      " 9   id_group  int64  \n",
      "dtypes: float64(3), int64(6), object(1)\n",
      "memory usage: 3.2+ GB\n"
     ]
    }
   ],
   "source": [
    "df.info()"
   ]
  },
  {
   "cell_type": "markdown",
   "metadata": {},
   "source": [
    "## Task 1\n",
    "\n",
    "Prove that buying discounted products depends on the average order sum. (It is more probable that the discounted product will be bought if bunch of money is going to be spend)"
   ]
  },
  {
   "cell_type": "code",
   "execution_count": 26,
   "metadata": {},
   "outputs": [
    {
     "data": {
      "text/html": [
       "<div>\n",
       "<style scoped>\n",
       "    .dataframe tbody tr th:only-of-type {\n",
       "        vertical-align: middle;\n",
       "    }\n",
       "\n",
       "    .dataframe tbody tr th {\n",
       "        vertical-align: top;\n",
       "    }\n",
       "\n",
       "    .dataframe thead th {\n",
       "        text-align: right;\n",
       "    }\n",
       "</style>\n",
       "<table border=\"1\" class=\"dataframe\">\n",
       "  <thead>\n",
       "    <tr style=\"text-align: right;\">\n",
       "      <th></th>\n",
       "      <th>sum</th>\n",
       "      <th>is_green</th>\n",
       "    </tr>\n",
       "  </thead>\n",
       "  <tbody>\n",
       "    <tr>\n",
       "      <th>count</th>\n",
       "      <td>1.064042e+06</td>\n",
       "      <td>1.064042e+06</td>\n",
       "    </tr>\n",
       "    <tr>\n",
       "      <th>mean</th>\n",
       "      <td>6.036525e+02</td>\n",
       "      <td>2.454380e+00</td>\n",
       "    </tr>\n",
       "    <tr>\n",
       "      <th>std</th>\n",
       "      <td>5.999258e+02</td>\n",
       "      <td>2.361772e+00</td>\n",
       "    </tr>\n",
       "    <tr>\n",
       "      <th>min</th>\n",
       "      <td>0.000000e+00</td>\n",
       "      <td>1.000000e+00</td>\n",
       "    </tr>\n",
       "    <tr>\n",
       "      <th>25%</th>\n",
       "      <td>2.231000e+02</td>\n",
       "      <td>1.000000e+00</td>\n",
       "    </tr>\n",
       "    <tr>\n",
       "      <th>50%</th>\n",
       "      <td>4.259800e+02</td>\n",
       "      <td>2.000000e+00</td>\n",
       "    </tr>\n",
       "    <tr>\n",
       "      <th>75%</th>\n",
       "      <td>7.750000e+02</td>\n",
       "      <td>3.000000e+00</td>\n",
       "    </tr>\n",
       "    <tr>\n",
       "      <th>max</th>\n",
       "      <td>1.476323e+04</td>\n",
       "      <td>7.200000e+01</td>\n",
       "    </tr>\n",
       "  </tbody>\n",
       "</table>\n",
       "</div>"
      ],
      "text/plain": [
       "                sum      is_green\n",
       "count  1.064042e+06  1.064042e+06\n",
       "mean   6.036525e+02  2.454380e+00\n",
       "std    5.999258e+02  2.361772e+00\n",
       "min    0.000000e+00  1.000000e+00\n",
       "25%    2.231000e+02  1.000000e+00\n",
       "50%    4.259800e+02  2.000000e+00\n",
       "75%    7.750000e+02  3.000000e+00\n",
       "max    1.476323e+04  7.200000e+01"
      ]
     },
     "execution_count": 26,
     "metadata": {},
     "output_type": "execute_result"
    }
   ],
   "source": [
    "grouped = df.groupby(by=['id_doc'])[['sum', 'is_green']]\n",
    "discounted = grouped.sum()\n",
    "discounted = discounted[discounted['is_green'] > 0]\n",
    "discounted.describe()"
   ]
  },
  {
   "cell_type": "code",
   "execution_count": 27,
   "metadata": {},
   "outputs": [
    {
     "data": {
      "text/html": [
       "<div>\n",
       "<style scoped>\n",
       "    .dataframe tbody tr th:only-of-type {\n",
       "        vertical-align: middle;\n",
       "    }\n",
       "\n",
       "    .dataframe tbody tr th {\n",
       "        vertical-align: top;\n",
       "    }\n",
       "\n",
       "    .dataframe thead th {\n",
       "        text-align: right;\n",
       "    }\n",
       "</style>\n",
       "<table border=\"1\" class=\"dataframe\">\n",
       "  <thead>\n",
       "    <tr style=\"text-align: right;\">\n",
       "      <th></th>\n",
       "      <th>sum</th>\n",
       "      <th>is_green</th>\n",
       "    </tr>\n",
       "  </thead>\n",
       "  <tbody>\n",
       "    <tr>\n",
       "      <th>count</th>\n",
       "      <td>5.840783e+06</td>\n",
       "      <td>5840783.0</td>\n",
       "    </tr>\n",
       "    <tr>\n",
       "      <th>mean</th>\n",
       "      <td>6.532083e+02</td>\n",
       "      <td>0.0</td>\n",
       "    </tr>\n",
       "    <tr>\n",
       "      <th>std</th>\n",
       "      <td>6.931715e+02</td>\n",
       "      <td>0.0</td>\n",
       "    </tr>\n",
       "    <tr>\n",
       "      <th>min</th>\n",
       "      <td>0.000000e+00</td>\n",
       "      <td>0.0</td>\n",
       "    </tr>\n",
       "    <tr>\n",
       "      <th>25%</th>\n",
       "      <td>2.200000e+02</td>\n",
       "      <td>0.0</td>\n",
       "    </tr>\n",
       "    <tr>\n",
       "      <th>50%</th>\n",
       "      <td>4.330000e+02</td>\n",
       "      <td>0.0</td>\n",
       "    </tr>\n",
       "    <tr>\n",
       "      <th>75%</th>\n",
       "      <td>8.310000e+02</td>\n",
       "      <td>0.0</td>\n",
       "    </tr>\n",
       "    <tr>\n",
       "      <th>max</th>\n",
       "      <td>4.800500e+04</td>\n",
       "      <td>0.0</td>\n",
       "    </tr>\n",
       "  </tbody>\n",
       "</table>\n",
       "</div>"
      ],
      "text/plain": [
       "                sum   is_green\n",
       "count  5.840783e+06  5840783.0\n",
       "mean   6.532083e+02        0.0\n",
       "std    6.931715e+02        0.0\n",
       "min    0.000000e+00        0.0\n",
       "25%    2.200000e+02        0.0\n",
       "50%    4.330000e+02        0.0\n",
       "75%    8.310000e+02        0.0\n",
       "max    4.800500e+04        0.0"
      ]
     },
     "execution_count": 27,
     "metadata": {},
     "output_type": "execute_result"
    }
   ],
   "source": [
    "not_discounted = grouped.sum()\n",
    "not_discounted = not_discounted[not_discounted['is_green'] == 0]\n",
    "not_discounted.describe()"
   ]
  },
  {
   "cell_type": "code",
   "execution_count": 28,
   "metadata": {},
   "outputs": [
    {
     "data": {
      "text/plain": [
       "Ttest_indResult(statistic=array([ -76.41968792, 1071.97124608]), pvalue=array([0., 0.]))"
      ]
     },
     "execution_count": 28,
     "metadata": {},
     "output_type": "execute_result"
    }
   ],
   "source": [
    "from scipy.stats import ttest_ind\n",
    "\n",
    "ttest_ind(discounted, not_discounted, equal_var = False)"
   ]
  },
  {
   "cell_type": "code",
   "execution_count": 30,
   "metadata": {},
   "outputs": [
    {
     "data": {
      "text/plain": [
       "(-0.11211405758849058, 0.0)"
      ]
     },
     "execution_count": 30,
     "metadata": {},
     "output_type": "execute_result"
    }
   ],
   "source": [
    "from scipy.stats import pearsonr\n",
    "\n",
    "sums = grouped.sum()['sum']\n",
    "greens = grouped.mean()['is_green']\n",
    "\n",
    "pearsonr(sums, greens)"
   ]
  },
  {
   "cell_type": "markdown",
   "metadata": {},
   "source": [
    "As you can see, the distributions are different, and there is negative correlation. So, if the sum of check is bigger, it is less likely to have discounted products in the check."
   ]
  },
  {
   "cell_type": "markdown",
   "metadata": {},
   "source": [
    "## Task 2\n",
    "Prove that the frequency of shopping grows around the wage taking days."
   ]
  },
  {
   "cell_type": "code",
   "execution_count": 106,
   "metadata": {},
   "outputs": [
    {
     "name": "stderr",
     "output_type": "stream",
     "text": [
      "/Users/Ouser/.pyenv/versions/3.7.9/lib/python3.7/site-packages/ipykernel_launcher.py:2: SettingWithCopyWarning: \n",
      "A value is trying to be set on a copy of a slice from a DataFrame.\n",
      "Try using .loc[row_indexer,col_indexer] = value instead\n",
      "\n",
      "See the caveats in the documentation: https://pandas.pydata.org/pandas-docs/stable/user_guide/indexing.html#returning-a-view-versus-a-copy\n",
      "  \n",
      "/Users/Ouser/.pyenv/versions/3.7.9/lib/python3.7/site-packages/ipykernel_launcher.py:3: SettingWithCopyWarning: \n",
      "A value is trying to be set on a copy of a slice from a DataFrame.\n",
      "Try using .loc[row_indexer,col_indexer] = value instead\n",
      "\n",
      "See the caveats in the documentation: https://pandas.pydata.org/pandas-docs/stable/user_guide/indexing.html#returning-a-view-versus-a-copy\n",
      "  This is separate from the ipykernel package so we can avoid doing imports until\n"
     ]
    }
   ],
   "source": [
    "df.index = pd.to_datetime(df['date'],format='%Y-%m-%d %H:%M:%S')\n",
    "df['datetime'] = pd.to_datetime(df['date'],format='%Y-%m-%d %H:%M:%S')\n",
    "df['day'] = df.index.day\n",
    "# df['day_of_week'] = df.index.dayofweek\n",
    "# checks = df.groupby(by=['id_doc']).first()\n",
    "# checks.index = pd.to_datetime(checks['date'],format='%Y-%m-%d %H:%M:%S')\n",
    "# sum_of_spendings_per_month = checks.groupby(by=[checks.index.day])['id_doc'].count()\n",
    "sum_of_spendings_per_month = df.groupby(by=[df.index.day])[['id_doc', 'day_of_week']] \\\n",
    "                            .agg({\"id_doc\": \"nunique\", \"day_of_week\": \"first\"})\n",
    "sum_of_spendings_per_week = df.groupby(by=[df.index.dayofweek])[['id_doc']].nunique()\n",
    "# agg({\"C\": np.sum, \"D\": lambda x: np.std(x, ddof=1)})"
   ]
  },
  {
   "cell_type": "code",
   "execution_count": 77,
   "metadata": {},
   "outputs": [
    {
     "data": {
      "image/png": "[encoded data removed]",
      "text/plain": [
       "<Figure size 720x576 with 1 Axes>"
      ]
     },
     "metadata": {
      "needs_background": "light"
     },
     "output_type": "display_data"
    }
   ],
   "source": [
    "import matplotlib.pyplot as plt\n",
    "\n",
    "plt.figure(figsize=(10,8))\n",
    "plt.locator_params(axis=\"x\", nbins=30)\n",
    "sum_of_spendings_per_month['id_doc'].plot()\n",
    "plt.grid()"
   ]
  },
  {
   "cell_type": "code",
   "execution_count": 76,
   "metadata": {
    "scrolled": true
   },
   "outputs": [
    {
     "data": {
      "image/png": "[encoded data removed]",
      "text/plain": [
       "<Figure size 720x576 with 1 Axes>"
      ]
     },
     "metadata": {
      "needs_background": "light"
     },
     "output_type": "display_data"
    }
   ],
   "source": [
    "plt.figure(figsize=(10,8))\n",
    "plt.locator_params(axis=\"x\", nbins=7)\n",
    "sum_of_spendings_per_week['id_doc'].plot()\n",
    "plt.grid()"
   ]
  },
  {
   "cell_type": "markdown",
   "metadata": {},
   "source": [
    "As you can see, weekly seasonality is much stronger than seasonality of wage days."
   ]
  },
  {
   "cell_type": "markdown",
   "metadata": {},
   "source": [
    "## Task 3\n",
    "Define such cohort existance:\n",
    "1. Frequent buyers - The users that are shopping frequently(daily, weekly, monthly) \n",
    "2. Average purchase sum - The customers that usually spend the same amount of money \n",
    "3. Orders amount - The customers grouped by the total numer of orders \n",
    "4. Usual cart - The customers grouped by the product groups\n",
    "\n",
    "References\n",
    "- https://towardsdatascience.com/a-step-by-step-introduction-to-cohort-analysis-in-python-a2cbbd8460ea"
   ]
  },
  {
   "cell_type": "markdown",
   "metadata": {},
   "source": [
    "### Frequent buyers"
   ]
  },
  {
   "cell_type": "code",
   "execution_count": 117,
   "metadata": {},
   "outputs": [
    {
     "data": {
      "text/html": [
       "<div>\n",
       "<style scoped>\n",
       "    .dataframe tbody tr th:only-of-type {\n",
       "        vertical-align: middle;\n",
       "    }\n",
       "\n",
       "    .dataframe tbody tr th {\n",
       "        vertical-align: top;\n",
       "    }\n",
       "\n",
       "    .dataframe thead th {\n",
       "        text-align: right;\n",
       "    }\n",
       "</style>\n",
       "<table border=\"1\" class=\"dataframe\">\n",
       "  <thead>\n",
       "    <tr style=\"text-align: right;\">\n",
       "      <th></th>\n",
       "      <th>id_card</th>\n",
       "      <th>id_doc</th>\n",
       "    </tr>\n",
       "  </thead>\n",
       "  <tbody>\n",
       "    <tr>\n",
       "      <th>454093</th>\n",
       "      <td>620767</td>\n",
       "      <td>161</td>\n",
       "    </tr>\n",
       "    <tr>\n",
       "      <th>1086278</th>\n",
       "      <td>1523082</td>\n",
       "      <td>119</td>\n",
       "    </tr>\n",
       "    <tr>\n",
       "      <th>682074</th>\n",
       "      <td>943480</td>\n",
       "      <td>109</td>\n",
       "    </tr>\n",
       "    <tr>\n",
       "      <th>1115966</th>\n",
       "      <td>1567258</td>\n",
       "      <td>104</td>\n",
       "    </tr>\n",
       "    <tr>\n",
       "      <th>822920</th>\n",
       "      <td>1144271</td>\n",
       "      <td>103</td>\n",
       "    </tr>\n",
       "    <tr>\n",
       "      <th>1270981</th>\n",
       "      <td>1808366</td>\n",
       "      <td>103</td>\n",
       "    </tr>\n",
       "    <tr>\n",
       "      <th>920587</th>\n",
       "      <td>1284105</td>\n",
       "      <td>102</td>\n",
       "    </tr>\n",
       "    <tr>\n",
       "      <th>221729</th>\n",
       "      <td>297039</td>\n",
       "      <td>101</td>\n",
       "    </tr>\n",
       "    <tr>\n",
       "      <th>655058</th>\n",
       "      <td>904949</td>\n",
       "      <td>98</td>\n",
       "    </tr>\n",
       "    <tr>\n",
       "      <th>1258811</th>\n",
       "      <td>1789392</td>\n",
       "      <td>98</td>\n",
       "    </tr>\n",
       "  </tbody>\n",
       "</table>\n",
       "</div>"
      ],
      "text/plain": [
       "         id_card  id_doc\n",
       "454093    620767     161\n",
       "1086278  1523082     119\n",
       "682074    943480     109\n",
       "1115966  1567258     104\n",
       "822920   1144271     103\n",
       "1270981  1808366     103\n",
       "920587   1284105     102\n",
       "221729    297039     101\n",
       "655058    904949      98\n",
       "1258811  1789392      98"
      ]
     },
     "execution_count": 117,
     "metadata": {},
     "output_type": "execute_result"
    }
   ],
   "source": [
    "users = df.groupby(by=['id_card'], as_index=False)\n",
    "amount_of_orders = users.agg({\"id_doc\": \"nunique\"}).sort_values(by=['id_doc'], ascending=False)\n",
    "amount_of_orders.head(10)"
   ]
  },
  {
   "cell_type": "markdown",
   "metadata": {},
   "source": [
    "### Cohorts by number of orders"
   ]
  },
  {
   "cell_type": "code",
   "execution_count": 118,
   "metadata": {},
   "outputs": [
    {
     "data": {
      "text/html": [
       "<div>\n",
       "<style scoped>\n",
       "    .dataframe tbody tr th:only-of-type {\n",
       "        vertical-align: middle;\n",
       "    }\n",
       "\n",
       "    .dataframe tbody tr th {\n",
       "        vertical-align: top;\n",
       "    }\n",
       "\n",
       "    .dataframe thead th {\n",
       "        text-align: right;\n",
       "    }\n",
       "</style>\n",
       "<table border=\"1\" class=\"dataframe\">\n",
       "  <thead>\n",
       "    <tr style=\"text-align: right;\">\n",
       "      <th></th>\n",
       "      <th>id_doc</th>\n",
       "      <th>id_card</th>\n",
       "    </tr>\n",
       "  </thead>\n",
       "  <tbody>\n",
       "    <tr>\n",
       "      <th>0</th>\n",
       "      <td>1</td>\n",
       "      <td>406287</td>\n",
       "    </tr>\n",
       "    <tr>\n",
       "      <th>1</th>\n",
       "      <td>2</td>\n",
       "      <td>205028</td>\n",
       "    </tr>\n",
       "    <tr>\n",
       "      <th>2</th>\n",
       "      <td>3</td>\n",
       "      <td>135162</td>\n",
       "    </tr>\n",
       "    <tr>\n",
       "      <th>3</th>\n",
       "      <td>4</td>\n",
       "      <td>99732</td>\n",
       "    </tr>\n",
       "    <tr>\n",
       "      <th>4</th>\n",
       "      <td>5</td>\n",
       "      <td>77610</td>\n",
       "    </tr>\n",
       "    <tr>\n",
       "      <th>...</th>\n",
       "      <td>...</td>\n",
       "      <td>...</td>\n",
       "    </tr>\n",
       "    <tr>\n",
       "      <th>84</th>\n",
       "      <td>103</td>\n",
       "      <td>2</td>\n",
       "    </tr>\n",
       "    <tr>\n",
       "      <th>85</th>\n",
       "      <td>104</td>\n",
       "      <td>1</td>\n",
       "    </tr>\n",
       "    <tr>\n",
       "      <th>86</th>\n",
       "      <td>109</td>\n",
       "      <td>1</td>\n",
       "    </tr>\n",
       "    <tr>\n",
       "      <th>87</th>\n",
       "      <td>119</td>\n",
       "      <td>1</td>\n",
       "    </tr>\n",
       "    <tr>\n",
       "      <th>88</th>\n",
       "      <td>161</td>\n",
       "      <td>1</td>\n",
       "    </tr>\n",
       "  </tbody>\n",
       "</table>\n",
       "<p>89 rows × 2 columns</p>\n",
       "</div>"
      ],
      "text/plain": [
       "    id_doc  id_card\n",
       "0        1   406287\n",
       "1        2   205028\n",
       "2        3   135162\n",
       "3        4    99732\n",
       "4        5    77610\n",
       "..     ...      ...\n",
       "84     103        2\n",
       "85     104        1\n",
       "86     109        1\n",
       "87     119        1\n",
       "88     161        1\n",
       "\n",
       "[89 rows x 2 columns]"
      ]
     },
     "execution_count": 118,
     "metadata": {},
     "output_type": "execute_result"
    }
   ],
   "source": [
    "amount_of_orders['id_card'] = amount_of_orders.index\n",
    "cohorts_by_num_of_orders = amount_of_orders.groupby(by=['id_doc'], as_index=False)['id_card'].count()\n",
    "cohorts_by_num_of_orders                                      "
   ]
  },
  {
   "cell_type": "markdown",
   "metadata": {},
   "source": [
    "### Customers who orders every day"
   ]
  },
  {
   "cell_type": "code",
   "execution_count": null,
   "metadata": {},
   "outputs": [],
   "source": [
    "everyday_bro = users['day'].nunique()\n",
    "everyday_bro.reset_index()\n",
    "everyday_bro = everyday_bro[everyday_bro['day'] >= 30]\n",
    "everyday_bro.head()"
   ]
  }
 ],
 "metadata": {
  "kernelspec": {
   "display_name": "Python 3",
   "language": "python",
   "name": "python3"
  },
  "language_info": {
   "codemirror_mode": {
    "name": "ipython",
    "version": 3
   },
   "file_extension": ".py",
   "mimetype": "text/x-python",
   "name": "python",
   "nbconvert_exporter": "python",
   "pygments_lexer": "ipython3",
   "version": "3.7.9"
  }
 },
 "nbformat": 4,
 "nbformat_minor": 4
}
