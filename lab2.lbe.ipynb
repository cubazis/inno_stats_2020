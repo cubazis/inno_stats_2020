{
 "cells": [
  {
   "cell_type": "code",
   "execution_count": 1,
   "id": "consolidated-break",
   "metadata": {},
   "outputs": [],
   "source": [
    "from pathlib import Path\n",
    "import pandas as pd\n",
    "import gc\n",
    "from sklearn.preprocessing import LabelEncoder\n",
    "import pickle\n",
    "import bz2"
   ]
  },
  {
   "cell_type": "code",
   "execution_count": 2,
   "id": "fifth-transportation",
   "metadata": {},
   "outputs": [
    {
     "name": "stdout",
     "output_type": "stream",
     "text": [
      "09.csv\t\t     10_to_lbe.pkl.bz2\tproducts_20200901.txt\r\n",
      "09_prepared.pkl.bz2  11.csv\t\tproducts_20201001.txt\r\n",
      "09_stats.pkl.bz2     11_to_lbe.pkl.bz2\tproducts_20201101.txt\r\n",
      "09_to_lbe.pkl.bz2    card_lbe.pkl.bz2\r\n",
      "10.csv\t\t     doc_lbe.pkl.bz2\r\n"
     ]
    }
   ],
   "source": [
    "data_path = Path('./data/').resolve()\n",
    "!ls {data_path}"
   ]
  },
  {
   "cell_type": "code",
   "execution_count": 3,
   "id": "economic-scenario",
   "metadata": {},
   "outputs": [
    {
     "name": "stdout",
     "output_type": "stream",
     "text": [
      "3,8G\t/data/Projects/inno_stats/data/09.csv\n",
      "4,1G\t/data/Projects/inno_stats/data/10.csv\n",
      "4,2G\t/data/Projects/inno_stats/data/11.csv\n"
     ]
    }
   ],
   "source": [
    "!du -sh {data_path / '09.csv'}\n",
    "!du -sh {data_path / '10.csv'}\n",
    "!du -sh {data_path / '11.csv'}"
   ]
  },
  {
   "cell_type": "code",
   "execution_count": 4,
   "id": "characteristic-lyric",
   "metadata": {},
   "outputs": [],
   "source": [
    "one = data_path / '09.csv'\n",
    "two = data_path / '10.csv'\n",
    "three = data_path / '11.csv'"
   ]
  },
  {
   "cell_type": "code",
   "execution_count": null,
   "id": "alone-lease",
   "metadata": {},
   "outputs": [],
   "source": [
    "df = pd.read_csv(three, sep=';',\n",
    "                 #parse_dates=['date'], \n",
    "                 #infer_datetime_format=True,\n",
    "                 usecols=['id_doc', 'id_card'],\n",
    "                 dtype={'id_doc':'category', 'id_card':'category'}\n",
    "                )\n",
    "df['id_card'] = df['id_card'].str.strip()\n",
    "df['id_doc'] = df['id_doc'].str.strip()\n",
    "df.head()"
   ]
  },
  {
   "cell_type": "code",
   "execution_count": null,
   "id": "funky-attempt",
   "metadata": {},
   "outputs": [],
   "source": [
    "with bz2.open(data_path / '11_to_lbe.pkl.bz2', 'wb') as f:\n",
    "    pickle.dump(df, f, protocol=4)"
   ]
  },
  {
   "cell_type": "code",
   "execution_count": null,
   "id": "suffering-commodity",
   "metadata": {},
   "outputs": [],
   "source": [
    "### merge"
   ]
  },
  {
   "cell_type": "code",
   "execution_count": null,
   "id": "consolidated-complexity",
   "metadata": {},
   "outputs": [],
   "source": [
    "from pathlib import Path\n",
    "import pandas as pd\n",
    "import gc\n",
    "from sklearn.preprocessing import LabelEncoder\n",
    "import pickle\n",
    "import bz2"
   ]
  },
  {
   "cell_type": "code",
   "execution_count": null,
   "id": "eight-worthy",
   "metadata": {},
   "outputs": [],
   "source": [
    "data_path = Path('./data/').resolve()\n",
    "!ls {data_path}"
   ]
  },
  {
   "cell_type": "code",
   "execution_count": null,
   "id": "compact-joyce",
   "metadata": {},
   "outputs": [],
   "source": [
    "with bz2.open(data_path / '09_to_lbe.pkl.bz2', 'rb') as f:\n",
    "    df_09 = pickle.load(f)\n",
    "with bz2.open(data_path / '10_to_lbe.pkl.bz2', 'rb') as f:\n",
    "    df_10 = pickle.load(f)\n",
    "with bz2.open(data_path / '11_to_lbe.pkl.bz2', 'rb') as f:\n",
    "    df_11 = pickle.load(f)"
   ]
  },
  {
   "cell_type": "code",
   "execution_count": null,
   "id": "magnetic-tuesday",
   "metadata": {},
   "outputs": [],
   "source": [
    "print(\n",
    "    len(df_09),\n",
    "    len(df_10),\n",
    "    len(df_11)\n",
    ")"
   ]
  },
  {
   "cell_type": "code",
   "execution_count": null,
   "id": "curious-bidder",
   "metadata": {},
   "outputs": [],
   "source": [
    "42100858 + 46123159 + 46496622"
   ]
  },
  {
   "cell_type": "code",
   "execution_count": null,
   "id": "interstate-investigator",
   "metadata": {},
   "outputs": [],
   "source": [
    "df = pd.concat([df_09, df_10, df_11])"
   ]
  },
  {
   "cell_type": "code",
   "execution_count": null,
   "id": "industrial-relation",
   "metadata": {},
   "outputs": [],
   "source": [
    "len(df)"
   ]
  },
  {
   "cell_type": "code",
   "execution_count": null,
   "id": "important-morocco",
   "metadata": {},
   "outputs": [],
   "source": [
    "df.head()"
   ]
  },
  {
   "cell_type": "code",
   "execution_count": null,
   "id": "wicked-ancient",
   "metadata": {},
   "outputs": [],
   "source": [
    "doc = pd.DataFrame(df['id_doc'].unique(), columns=['id_doc'])\n",
    "doc"
   ]
  },
  {
   "cell_type": "code",
   "execution_count": null,
   "id": "bridal-softball",
   "metadata": {},
   "outputs": [],
   "source": [
    "lbe_doc = LabelEncoder()\n",
    "lbe_doc.fit(doc['id_doc'])\n",
    "doc['id_doc_int'] = lbe_doc.transform(doc['id_doc'])\n",
    "with bz2.open(data_path / 'doc_lbe.pkl.bz2', 'wb') as f:\n",
    "    pickle.dump(doc, f, protocol=4)"
   ]
  },
  {
   "cell_type": "code",
   "execution_count": null,
   "id": "aging-burning",
   "metadata": {},
   "outputs": [],
   "source": [
    "doc.head()"
   ]
  },
  {
   "cell_type": "code",
   "execution_count": null,
   "id": "italian-click",
   "metadata": {},
   "outputs": [],
   "source": [
    "card = pd.DataFrame(df['id_card'].unique(), columns=['id_card'])\n",
    "card"
   ]
  },
  {
   "cell_type": "code",
   "execution_count": null,
   "id": "british-director",
   "metadata": {},
   "outputs": [],
   "source": [
    "lbe_card = LabelEncoder()\n",
    "lbe_card.fit(df['id_card'])\n",
    "card['id_card_int'] = lbe_card.transform(card['id_card'])\n",
    "with bz2.open(data_path / 'card_lbe.pkl.bz2', 'wb') as f:\n",
    "    pickle.dump(card, f, protocol=4)"
   ]
  },
  {
   "cell_type": "code",
   "execution_count": null,
   "id": "derived-asthma",
   "metadata": {},
   "outputs": [],
   "source": [
    "card"
   ]
  }
 ],
 "metadata": {
  "kernelspec": {
   "display_name": "Python 3",
   "language": "python",
   "name": "python3"
  },
  "language_info": {
   "codemirror_mode": {
    "name": "ipython",
    "version": 3
   },
   "file_extension": ".py",
   "mimetype": "text/x-python",
   "name": "python",
   "nbconvert_exporter": "python",
   "pygments_lexer": "ipython3",
   "version": "3.9.1"
  }
 },
 "nbformat": 4,
 "nbformat_minor": 5
}
