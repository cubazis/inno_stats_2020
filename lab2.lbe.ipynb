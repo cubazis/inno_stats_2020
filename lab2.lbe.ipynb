{
 "cells": [
  {
   "cell_type": "code",
   "execution_count": 1,
   "id": "consolidated-break",
   "metadata": {},
   "outputs": [],
   "source": [
    "from pathlib import Path\n",
    "import pandas as pd\n",
    "import gc\n",
    "from sklearn.preprocessing import LabelEncoder\n",
    "import pickle\n",
    "import bz2"
   ]
  },
  {
   "cell_type": "code",
   "execution_count": 4,
   "id": "fifth-transportation",
   "metadata": {},
   "outputs": [
    {
     "name": "stdout",
     "output_type": "stream",
     "text": [
      "09.csv\t\t     10.csv\t\tproducts_20200901.txt\r\n",
      "09_prepared.pkl.bz2  10_to_lbe.pkl.bz2\tproducts_20201001.txt\r\n",
      "09_stats.pkl.bz2     11.csv\t\tproducts_20201101.txt\r\n",
      "09_to_lbe.pkl.bz2    11_to_lbe.pkl.bz2\r\n"
     ]
    }
   ],
   "source": [
    "data_path = Path('./data/').resolve()\n",
    "!ls {data_path}"
   ]
  },
  {
   "cell_type": "code",
   "execution_count": null,
   "id": "economic-scenario",
   "metadata": {},
   "outputs": [],
   "source": [
    "!du -sh {data_path / '09.csv'}\n",
    "!du -sh {data_path / '10.csv'}\n",
    "!du -sh {data_path / '11.csv'}"
   ]
  },
  {
   "cell_type": "code",
   "execution_count": null,
   "id": "characteristic-lyric",
   "metadata": {},
   "outputs": [],
   "source": [
    "one = data_path / '09.csv'\n",
    "two = data_path / '10.csv'\n",
    "three = data_path / '11.csv'\n"
   ]
  },
  {
   "cell_type": "code",
   "execution_count": null,
   "id": "alone-lease",
   "metadata": {},
   "outputs": [],
   "source": [
    "df = pd.read_csv(three, sep=';',\n",
    "                 #parse_dates=['date'], \n",
    "                 #infer_datetime_format=True,\n",
    "                 usecols=['id_doc', 'id_card'],\n",
    "                 dtype={'id_doc':'category', 'id_card':'category'}\n",
    "                )\n",
    "df['id_card'] = df['id_card'].str.strip()\n",
    "df['id_doc'] = df['id_doc'].str.strip()\n",
    "df.head()"
   ]
  },
  {
   "cell_type": "code",
   "execution_count": null,
   "id": "funky-attempt",
   "metadata": {},
   "outputs": [],
   "source": [
    "with bz2.open(data_path / '11_to_lbe.pkl.bz2', 'wb') as f:\n",
    "    pickle.dump(df, f, protocol=4)"
   ]
  },
  {
   "cell_type": "code",
   "execution_count": 2,
   "id": "suffering-commodity",
   "metadata": {},
   "outputs": [],
   "source": [
    "### merge"
   ]
  },
  {
   "cell_type": "code",
   "execution_count": null,
   "id": "consolidated-complexity",
   "metadata": {},
   "outputs": [],
   "source": [
    "from pathlib import Path\n",
    "import pandas as pd\n",
    "import gc\n",
    "from sklearn.preprocessing import LabelEncoder\n",
    "import pickle\n",
    "import bz2"
   ]
  },
  {
   "cell_type": "code",
   "execution_count": 5,
   "id": "compact-joyce",
   "metadata": {},
   "outputs": [],
   "source": [
    "with bz2.open(data_path / '09_to_lbe.pkl.bz2', 'rb') as f:\n",
    "    df_09 = pickle.load(f)\n",
    "with bz2.open(data_path / '10_to_lbe.pkl.bz2', 'rb') as f:\n",
    "    df_10 = pickle.load(f)\n",
    "with bz2.open(data_path / '11_to_lbe.pkl.bz2', 'rb') as f:\n",
    "    df_11 = pickle.load(f)"
   ]
  },
  {
   "cell_type": "code",
   "execution_count": 8,
   "id": "magnetic-tuesday",
   "metadata": {},
   "outputs": [
    {
     "name": "stdout",
     "output_type": "stream",
     "text": [
      "42100858 46123159 46496622\n"
     ]
    }
   ],
   "source": [
    "print(\n",
    "    len(df_09),\n",
    "    len(df_10),\n",
    "    len(df_11)\n",
    ")"
   ]
  },
  {
   "cell_type": "code",
   "execution_count": 12,
   "id": "curious-bidder",
   "metadata": {},
   "outputs": [
    {
     "data": {
      "text/plain": [
       "134720639"
      ]
     },
     "execution_count": 12,
     "metadata": {},
     "output_type": "execute_result"
    }
   ],
   "source": [
    "42100858 + 46123159 + 46496622"
   ]
  },
  {
   "cell_type": "code",
   "execution_count": 10,
   "id": "interstate-investigator",
   "metadata": {},
   "outputs": [],
   "source": [
    "df = pd.concat([df_09, df_10, df_11])"
   ]
  },
  {
   "cell_type": "code",
   "execution_count": 11,
   "id": "industrial-relation",
   "metadata": {},
   "outputs": [
    {
     "data": {
      "text/plain": [
       "134720639"
      ]
     },
     "execution_count": 11,
     "metadata": {},
     "output_type": "execute_result"
    }
   ],
   "source": [
    "len(df)"
   ]
  },
  {
   "cell_type": "code",
   "execution_count": 15,
   "id": "wicked-ancient",
   "metadata": {},
   "outputs": [
    {
     "data": {
      "text/html": [
       "<div>\n",
       "<style scoped>\n",
       "    .dataframe tbody tr th:only-of-type {\n",
       "        vertical-align: middle;\n",
       "    }\n",
       "\n",
       "    .dataframe tbody tr th {\n",
       "        vertical-align: top;\n",
       "    }\n",
       "\n",
       "    .dataframe thead th {\n",
       "        text-align: right;\n",
       "    }\n",
       "</style>\n",
       "<table border=\"1\" class=\"dataframe\">\n",
       "  <thead>\n",
       "    <tr style=\"text-align: right;\">\n",
       "      <th></th>\n",
       "      <th>id_doc</th>\n",
       "    </tr>\n",
       "  </thead>\n",
       "  <tbody>\n",
       "    <tr>\n",
       "      <th>0</th>\n",
       "      <td>0E05D308-5CEC-EA11-B444-005056A7539A</td>\n",
       "    </tr>\n",
       "    <tr>\n",
       "      <th>1</th>\n",
       "      <td>610205A1-61EC-EA11-B444-005056A7539A</td>\n",
       "    </tr>\n",
       "    <tr>\n",
       "      <th>2</th>\n",
       "      <td>8AF19602-70EC-EA11-B444-005056A7539A</td>\n",
       "    </tr>\n",
       "    <tr>\n",
       "      <th>3</th>\n",
       "      <td>EB6C71A3-84EC-EA11-B444-005056A7539A</td>\n",
       "    </tr>\n",
       "    <tr>\n",
       "      <th>4</th>\n",
       "      <td>0706023F-6BEC-EA11-B444-005056A7539A</td>\n",
       "    </tr>\n",
       "    <tr>\n",
       "      <th>...</th>\n",
       "      <td>...</td>\n",
       "    </tr>\n",
       "    <tr>\n",
       "      <th>23417865</th>\n",
       "      <td>6895DCFF-E132-EB11-B444-005056A7539A</td>\n",
       "    </tr>\n",
       "    <tr>\n",
       "      <th>23417866</th>\n",
       "      <td>960A650A-0533-EB11-B444-005056A7539A</td>\n",
       "    </tr>\n",
       "    <tr>\n",
       "      <th>23417867</th>\n",
       "      <td>BB4E748A-FB32-EB11-B444-005056A7539A</td>\n",
       "    </tr>\n",
       "    <tr>\n",
       "      <th>23417868</th>\n",
       "      <td>6DCE9E06-0B33-EB11-B444-005056A7539A</td>\n",
       "    </tr>\n",
       "    <tr>\n",
       "      <th>23417869</th>\n",
       "      <td>06585CFB-FA32-EB11-B444-005056A7539A</td>\n",
       "    </tr>\n",
       "  </tbody>\n",
       "</table>\n",
       "<p>23417870 rows × 1 columns</p>\n",
       "</div>"
      ],
      "text/plain": [
       "                                        id_doc\n",
       "0         0E05D308-5CEC-EA11-B444-005056A7539A\n",
       "1         610205A1-61EC-EA11-B444-005056A7539A\n",
       "2         8AF19602-70EC-EA11-B444-005056A7539A\n",
       "3         EB6C71A3-84EC-EA11-B444-005056A7539A\n",
       "4         0706023F-6BEC-EA11-B444-005056A7539A\n",
       "...                                        ...\n",
       "23417865  6895DCFF-E132-EB11-B444-005056A7539A\n",
       "23417866  960A650A-0533-EB11-B444-005056A7539A\n",
       "23417867  BB4E748A-FB32-EB11-B444-005056A7539A\n",
       "23417868  6DCE9E06-0B33-EB11-B444-005056A7539A\n",
       "23417869  06585CFB-FA32-EB11-B444-005056A7539A\n",
       "\n",
       "[23417870 rows x 1 columns]"
      ]
     },
     "execution_count": 15,
     "metadata": {},
     "output_type": "execute_result"
    }
   ],
   "source": [
    "doc = pd.DataFrame(df['id_doc'].unique(), columns=['id_doc'])\n",
    "doc"
   ]
  },
  {
   "cell_type": "code",
   "execution_count": 16,
   "id": "bridal-softball",
   "metadata": {},
   "outputs": [],
   "source": [
    "lbe_doc = LabelEncoder()\n",
    "lbe_doc.fit(doc['id_doc'])\n",
    "doc['id_doc_int'] = lbe_doc.transform(doc['id_doc'])\n",
    "with bz2.open(data_path / 'doc_lbe.pkl.bz2', 'wb') as f:\n",
    "    pickle.dump(doc, f, protocol=4)"
   ]
  },
  {
   "cell_type": "code",
   "execution_count": 17,
   "id": "aging-burning",
   "metadata": {},
   "outputs": [
    {
     "data": {
      "text/html": [
       "<div>\n",
       "<style scoped>\n",
       "    .dataframe tbody tr th:only-of-type {\n",
       "        vertical-align: middle;\n",
       "    }\n",
       "\n",
       "    .dataframe tbody tr th {\n",
       "        vertical-align: top;\n",
       "    }\n",
       "\n",
       "    .dataframe thead th {\n",
       "        text-align: right;\n",
       "    }\n",
       "</style>\n",
       "<table border=\"1\" class=\"dataframe\">\n",
       "  <thead>\n",
       "    <tr style=\"text-align: right;\">\n",
       "      <th></th>\n",
       "      <th>id_doc</th>\n",
       "      <th>id_doc_int</th>\n",
       "    </tr>\n",
       "  </thead>\n",
       "  <tbody>\n",
       "    <tr>\n",
       "      <th>0</th>\n",
       "      <td>0E05D308-5CEC-EA11-B444-005056A7539A</td>\n",
       "      <td>1283228</td>\n",
       "    </tr>\n",
       "    <tr>\n",
       "      <th>1</th>\n",
       "      <td>610205A1-61EC-EA11-B444-005056A7539A</td>\n",
       "      <td>8873113</td>\n",
       "    </tr>\n",
       "    <tr>\n",
       "      <th>2</th>\n",
       "      <td>8AF19602-70EC-EA11-B444-005056A7539A</td>\n",
       "      <td>12712899</td>\n",
       "    </tr>\n",
       "    <tr>\n",
       "      <th>3</th>\n",
       "      <td>EB6C71A3-84EC-EA11-B444-005056A7539A</td>\n",
       "      <td>21535283</td>\n",
       "    </tr>\n",
       "    <tr>\n",
       "      <th>4</th>\n",
       "      <td>0706023F-6BEC-EA11-B444-005056A7539A</td>\n",
       "      <td>642341</td>\n",
       "    </tr>\n",
       "  </tbody>\n",
       "</table>\n",
       "</div>"
      ],
      "text/plain": [
       "                                 id_doc  id_doc_int\n",
       "0  0E05D308-5CEC-EA11-B444-005056A7539A     1283228\n",
       "1  610205A1-61EC-EA11-B444-005056A7539A     8873113\n",
       "2  8AF19602-70EC-EA11-B444-005056A7539A    12712899\n",
       "3  EB6C71A3-84EC-EA11-B444-005056A7539A    21535283\n",
       "4  0706023F-6BEC-EA11-B444-005056A7539A      642341"
      ]
     },
     "execution_count": 17,
     "metadata": {},
     "output_type": "execute_result"
    }
   ],
   "source": [
    "doc.head()"
   ]
  },
  {
   "cell_type": "code",
   "execution_count": 18,
   "id": "italian-click",
   "metadata": {},
   "outputs": [
    {
     "data": {
      "text/html": [
       "<div>\n",
       "<style scoped>\n",
       "    .dataframe tbody tr th:only-of-type {\n",
       "        vertical-align: middle;\n",
       "    }\n",
       "\n",
       "    .dataframe tbody tr th {\n",
       "        vertical-align: top;\n",
       "    }\n",
       "\n",
       "    .dataframe thead th {\n",
       "        text-align: right;\n",
       "    }\n",
       "</style>\n",
       "<table border=\"1\" class=\"dataframe\">\n",
       "  <thead>\n",
       "    <tr style=\"text-align: right;\">\n",
       "      <th></th>\n",
       "      <th>id_card</th>\n",
       "    </tr>\n",
       "  </thead>\n",
       "  <tbody>\n",
       "    <tr>\n",
       "      <th>0</th>\n",
       "      <td>8594499</td>\n",
       "    </tr>\n",
       "    <tr>\n",
       "      <th>1</th>\n",
       "      <td>1452388</td>\n",
       "    </tr>\n",
       "    <tr>\n",
       "      <th>2</th>\n",
       "      <td>3493538</td>\n",
       "    </tr>\n",
       "    <tr>\n",
       "      <th>3</th>\n",
       "      <td>2491281</td>\n",
       "    </tr>\n",
       "    <tr>\n",
       "      <th>4</th>\n",
       "      <td>5732396</td>\n",
       "    </tr>\n",
       "    <tr>\n",
       "      <th>...</th>\n",
       "      <td>...</td>\n",
       "    </tr>\n",
       "    <tr>\n",
       "      <th>1944071</th>\n",
       "      <td>1831755</td>\n",
       "    </tr>\n",
       "    <tr>\n",
       "      <th>1944072</th>\n",
       "      <td>3263534</td>\n",
       "    </tr>\n",
       "    <tr>\n",
       "      <th>1944073</th>\n",
       "      <td>B487883</td>\n",
       "    </tr>\n",
       "    <tr>\n",
       "      <th>1944074</th>\n",
       "      <td>7125472</td>\n",
       "    </tr>\n",
       "    <tr>\n",
       "      <th>1944075</th>\n",
       "      <td>7728976</td>\n",
       "    </tr>\n",
       "  </tbody>\n",
       "</table>\n",
       "<p>1944076 rows × 1 columns</p>\n",
       "</div>"
      ],
      "text/plain": [
       "         id_card\n",
       "0        8594499\n",
       "1        1452388\n",
       "2        3493538\n",
       "3        2491281\n",
       "4        5732396\n",
       "...          ...\n",
       "1944071  1831755\n",
       "1944072  3263534\n",
       "1944073  B487883\n",
       "1944074  7125472\n",
       "1944075  7728976\n",
       "\n",
       "[1944076 rows x 1 columns]"
      ]
     },
     "execution_count": 18,
     "metadata": {},
     "output_type": "execute_result"
    }
   ],
   "source": [
    "card = pd.DataFrame(df['id_card'].unique(), columns=['id_card'])\n",
    "card"
   ]
  },
  {
   "cell_type": "code",
   "execution_count": 19,
   "id": "british-director",
   "metadata": {},
   "outputs": [],
   "source": [
    "lbe_card = LabelEncoder()\n",
    "lbe_card.fit(df['id_card'])\n",
    "card['id_card_int'] = lbe_card.transform(card['id_card'])\n",
    "with bz2.open(data_path / 'card_lbe.pkl.bz2', 'wb') as f:\n",
    "    pickle.dump(card, f, protocol=4)"
   ]
  },
  {
   "cell_type": "code",
   "execution_count": 20,
   "id": "derived-asthma",
   "metadata": {},
   "outputs": [
    {
     "data": {
      "text/html": [
       "<div>\n",
       "<style scoped>\n",
       "    .dataframe tbody tr th:only-of-type {\n",
       "        vertical-align: middle;\n",
       "    }\n",
       "\n",
       "    .dataframe tbody tr th {\n",
       "        vertical-align: top;\n",
       "    }\n",
       "\n",
       "    .dataframe thead th {\n",
       "        text-align: right;\n",
       "    }\n",
       "</style>\n",
       "<table border=\"1\" class=\"dataframe\">\n",
       "  <thead>\n",
       "    <tr style=\"text-align: right;\">\n",
       "      <th></th>\n",
       "      <th>id_card</th>\n",
       "      <th>id_card_int</th>\n",
       "    </tr>\n",
       "  </thead>\n",
       "  <tbody>\n",
       "    <tr>\n",
       "      <th>0</th>\n",
       "      <td>8594499</td>\n",
       "      <td>1538855</td>\n",
       "    </tr>\n",
       "    <tr>\n",
       "      <th>1</th>\n",
       "      <td>1452388</td>\n",
       "      <td>267307</td>\n",
       "    </tr>\n",
       "    <tr>\n",
       "      <th>2</th>\n",
       "      <td>3493538</td>\n",
       "      <td>610220</td>\n",
       "    </tr>\n",
       "    <tr>\n",
       "      <th>3</th>\n",
       "      <td>2491281</td>\n",
       "      <td>441497</td>\n",
       "    </tr>\n",
       "    <tr>\n",
       "      <th>4</th>\n",
       "      <td>5732396</td>\n",
       "      <td>1065358</td>\n",
       "    </tr>\n",
       "    <tr>\n",
       "      <th>...</th>\n",
       "      <td>...</td>\n",
       "      <td>...</td>\n",
       "    </tr>\n",
       "    <tr>\n",
       "      <th>1944071</th>\n",
       "      <td>1831755</td>\n",
       "      <td>333282</td>\n",
       "    </tr>\n",
       "    <tr>\n",
       "      <th>1944072</th>\n",
       "      <td>3263534</td>\n",
       "      <td>569847</td>\n",
       "    </tr>\n",
       "    <tr>\n",
       "      <th>1944073</th>\n",
       "      <td>B487883</td>\n",
       "      <td>1825336</td>\n",
       "    </tr>\n",
       "    <tr>\n",
       "      <th>1944074</th>\n",
       "      <td>7125472</td>\n",
       "      <td>1319934</td>\n",
       "    </tr>\n",
       "    <tr>\n",
       "      <th>1944075</th>\n",
       "      <td>7728976</td>\n",
       "      <td>1423663</td>\n",
       "    </tr>\n",
       "  </tbody>\n",
       "</table>\n",
       "<p>1944076 rows × 2 columns</p>\n",
       "</div>"
      ],
      "text/plain": [
       "         id_card  id_card_int\n",
       "0        8594499      1538855\n",
       "1        1452388       267307\n",
       "2        3493538       610220\n",
       "3        2491281       441497\n",
       "4        5732396      1065358\n",
       "...          ...          ...\n",
       "1944071  1831755       333282\n",
       "1944072  3263534       569847\n",
       "1944073  B487883      1825336\n",
       "1944074  7125472      1319934\n",
       "1944075  7728976      1423663\n",
       "\n",
       "[1944076 rows x 2 columns]"
      ]
     },
     "execution_count": 20,
     "metadata": {},
     "output_type": "execute_result"
    }
   ],
   "source": [
    "card"
   ]
  }
 ],
 "metadata": {
  "kernelspec": {
   "display_name": "Python 3",
   "language": "python",
   "name": "python3"
  },
  "language_info": {
   "codemirror_mode": {
    "name": "ipython",
    "version": 3
   },
   "file_extension": ".py",
   "mimetype": "text/x-python",
   "name": "python",
   "nbconvert_exporter": "python",
   "pygments_lexer": "ipython3",
   "version": "3.8.5"
  }
 },
 "nbformat": 4,
 "nbformat_minor": 5
}
