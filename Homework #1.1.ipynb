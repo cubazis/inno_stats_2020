{
 "cells": [
  {
   "cell_type": "code",
   "execution_count": 1,
   "id": "tropical-pantyhose",
   "metadata": {},
   "outputs": [],
   "source": [
    "from pathlib import Path\n",
    "import pandas as pd\n",
    "import gc\n",
    "from sklearn.preprocessing import LabelEncoder\n",
    "import pickle\n",
    "import bz2"
   ]
  },
  {
   "cell_type": "code",
   "execution_count": 2,
   "id": "future-surrey",
   "metadata": {},
   "outputs": [
    {
     "name": "stdout",
     "output_type": "stream",
     "text": [
      "09_prepared.pkl.bz2 11_prepared.pkl.bz2 doc_lbe.pkl         product_groups.txt\r\n",
      "10_prepared.pkl.bz2 card_lbe.pkl        product_groups.docx\r\n"
     ]
    }
   ],
   "source": [
    "data_path = Path('./data/').resolve()\n",
    "!ls {data_path}"
   ]
  },
  {
   "cell_type": "code",
   "execution_count": 3,
   "id": "stone-appliance",
   "metadata": {},
   "outputs": [],
   "source": [
    "with bz2.open(data_path / '09_prepared.pkl.bz2', 'rb') as f:\n",
    "    df1 = pickle.load(f)\n",
    "with bz2.open(data_path / '10_prepared.pkl.bz2', 'rb') as f:\n",
    "    df2 = pickle.load(f)\n",
    "with bz2.open(data_path / '11_prepared.pkl.bz2', 'rb') as f:\n",
    "    df3 = pickle.load(f)"
   ]
  },
  {
   "cell_type": "code",
   "execution_count": 4,
   "id": "engaging-shell",
   "metadata": {},
   "outputs": [],
   "source": [
    "df = pd.concat([df1, df2, df3])"
   ]
  },
  {
   "cell_type": "code",
   "execution_count": 8,
   "id": "killing-friendship",
   "metadata": {},
   "outputs": [
    {
     "data": {
      "text/html": [
       "<div>\n",
       "<style scoped>\n",
       "    .dataframe tbody tr th:only-of-type {\n",
       "        vertical-align: middle;\n",
       "    }\n",
       "\n",
       "    .dataframe tbody tr th {\n",
       "        vertical-align: top;\n",
       "    }\n",
       "\n",
       "    .dataframe thead th {\n",
       "        text-align: right;\n",
       "    }\n",
       "</style>\n",
       "<table border=\"1\" class=\"dataframe\">\n",
       "  <thead>\n",
       "    <tr style=\"text-align: right;\">\n",
       "      <th></th>\n",
       "      <th>date</th>\n",
       "      <th>id_doc</th>\n",
       "      <th>id_order</th>\n",
       "      <th>id_card</th>\n",
       "      <th>id_tov</th>\n",
       "      <th>id_kontr</th>\n",
       "      <th>quantity</th>\n",
       "      <th>sum</th>\n",
       "      <th>is_green</th>\n",
       "      <th>id_card_int</th>\n",
       "      <th>id_doc_int</th>\n",
       "    </tr>\n",
       "  </thead>\n",
       "  <tbody>\n",
       "    <tr>\n",
       "      <th>0</th>\n",
       "      <td>2020-09-01 17:01:25</td>\n",
       "      <td>0E05D308-5CEC-EA11-B444-005056A7539A</td>\n",
       "      <td>0</td>\n",
       "      <td>8594499</td>\n",
       "      <td>52</td>\n",
       "      <td>271</td>\n",
       "      <td>1.0</td>\n",
       "      <td>108.00</td>\n",
       "      <td>False</td>\n",
       "      <td>1538855</td>\n",
       "      <td>1283228</td>\n",
       "    </tr>\n",
       "    <tr>\n",
       "      <th>1</th>\n",
       "      <td>2020-09-01 17:35:36</td>\n",
       "      <td>610205A1-61EC-EA11-B444-005056A7539A</td>\n",
       "      <td>0</td>\n",
       "      <td>1452388</td>\n",
       "      <td>52</td>\n",
       "      <td>271</td>\n",
       "      <td>1.0</td>\n",
       "      <td>108.00</td>\n",
       "      <td>False</td>\n",
       "      <td>267307</td>\n",
       "      <td>8873113</td>\n",
       "    </tr>\n",
       "    <tr>\n",
       "      <th>2</th>\n",
       "      <td>2020-09-01 19:19:21</td>\n",
       "      <td>8AF19602-70EC-EA11-B444-005056A7539A</td>\n",
       "      <td>0</td>\n",
       "      <td>3493538</td>\n",
       "      <td>52</td>\n",
       "      <td>271</td>\n",
       "      <td>1.0</td>\n",
       "      <td>107.95</td>\n",
       "      <td>False</td>\n",
       "      <td>610220</td>\n",
       "      <td>12712899</td>\n",
       "    </tr>\n",
       "    <tr>\n",
       "      <th>3</th>\n",
       "      <td>2020-09-01 21:53:34</td>\n",
       "      <td>EB6C71A3-84EC-EA11-B444-005056A7539A</td>\n",
       "      <td>0</td>\n",
       "      <td>2491281</td>\n",
       "      <td>52</td>\n",
       "      <td>271</td>\n",
       "      <td>1.0</td>\n",
       "      <td>108.00</td>\n",
       "      <td>False</td>\n",
       "      <td>441497</td>\n",
       "      <td>21535283</td>\n",
       "    </tr>\n",
       "    <tr>\n",
       "      <th>4</th>\n",
       "      <td>2020-09-01 18:42:31</td>\n",
       "      <td>0706023F-6BEC-EA11-B444-005056A7539A</td>\n",
       "      <td>0</td>\n",
       "      <td>5732396</td>\n",
       "      <td>61</td>\n",
       "      <td>97</td>\n",
       "      <td>2.0</td>\n",
       "      <td>88.00</td>\n",
       "      <td>False</td>\n",
       "      <td>1065358</td>\n",
       "      <td>642341</td>\n",
       "    </tr>\n",
       "  </tbody>\n",
       "</table>\n",
       "</div>"
      ],
      "text/plain": [
       "                 date                                id_doc  id_order  \\\n",
       "0 2020-09-01 17:01:25  0E05D308-5CEC-EA11-B444-005056A7539A         0   \n",
       "1 2020-09-01 17:35:36  610205A1-61EC-EA11-B444-005056A7539A         0   \n",
       "2 2020-09-01 19:19:21  8AF19602-70EC-EA11-B444-005056A7539A         0   \n",
       "3 2020-09-01 21:53:34  EB6C71A3-84EC-EA11-B444-005056A7539A         0   \n",
       "4 2020-09-01 18:42:31  0706023F-6BEC-EA11-B444-005056A7539A         0   \n",
       "\n",
       "   id_card  id_tov  id_kontr  quantity     sum  is_green  id_card_int  \\\n",
       "0  8594499      52       271       1.0  108.00     False      1538855   \n",
       "1  1452388      52       271       1.0  108.00     False       267307   \n",
       "2  3493538      52       271       1.0  107.95     False       610220   \n",
       "3  2491281      52       271       1.0  108.00     False       441497   \n",
       "4  5732396      61        97       2.0   88.00     False      1065358   \n",
       "\n",
       "   id_doc_int  \n",
       "0     1283228  \n",
       "1     8873113  \n",
       "2    12712899  \n",
       "3    21535283  \n",
       "4      642341  "
      ]
     },
     "execution_count": 8,
     "metadata": {},
     "output_type": "execute_result"
    }
   ],
   "source": [
    "df.head()"
   ]
  },
  {
   "cell_type": "code",
   "execution_count": 9,
   "id": "objective-alberta",
   "metadata": {},
   "outputs": [],
   "source": [
    "df.drop(['id_card', 'id_doc', 'is_green'], axis=1, inplace=True)"
   ]
  },
  {
   "cell_type": "code",
   "execution_count": 11,
   "id": "expensive-progressive",
   "metadata": {},
   "outputs": [
    {
     "data": {
      "text/html": [
       "<div>\n",
       "<style scoped>\n",
       "    .dataframe tbody tr th:only-of-type {\n",
       "        vertical-align: middle;\n",
       "    }\n",
       "\n",
       "    .dataframe tbody tr th {\n",
       "        vertical-align: top;\n",
       "    }\n",
       "\n",
       "    .dataframe thead th {\n",
       "        text-align: right;\n",
       "    }\n",
       "</style>\n",
       "<table border=\"1\" class=\"dataframe\">\n",
       "  <thead>\n",
       "    <tr style=\"text-align: right;\">\n",
       "      <th></th>\n",
       "      <th>date</th>\n",
       "      <th>id_order</th>\n",
       "      <th>id_tov</th>\n",
       "      <th>id_kontr</th>\n",
       "      <th>quantity</th>\n",
       "      <th>sum</th>\n",
       "      <th>id_card_int</th>\n",
       "      <th>id_doc_int</th>\n",
       "    </tr>\n",
       "  </thead>\n",
       "  <tbody>\n",
       "    <tr>\n",
       "      <th>0</th>\n",
       "      <td>2020-09-01 17:01:25</td>\n",
       "      <td>0</td>\n",
       "      <td>52</td>\n",
       "      <td>271</td>\n",
       "      <td>1.0</td>\n",
       "      <td>108.00</td>\n",
       "      <td>1538855</td>\n",
       "      <td>1283228</td>\n",
       "    </tr>\n",
       "    <tr>\n",
       "      <th>1</th>\n",
       "      <td>2020-09-01 17:35:36</td>\n",
       "      <td>0</td>\n",
       "      <td>52</td>\n",
       "      <td>271</td>\n",
       "      <td>1.0</td>\n",
       "      <td>108.00</td>\n",
       "      <td>267307</td>\n",
       "      <td>8873113</td>\n",
       "    </tr>\n",
       "    <tr>\n",
       "      <th>2</th>\n",
       "      <td>2020-09-01 19:19:21</td>\n",
       "      <td>0</td>\n",
       "      <td>52</td>\n",
       "      <td>271</td>\n",
       "      <td>1.0</td>\n",
       "      <td>107.95</td>\n",
       "      <td>610220</td>\n",
       "      <td>12712899</td>\n",
       "    </tr>\n",
       "    <tr>\n",
       "      <th>3</th>\n",
       "      <td>2020-09-01 21:53:34</td>\n",
       "      <td>0</td>\n",
       "      <td>52</td>\n",
       "      <td>271</td>\n",
       "      <td>1.0</td>\n",
       "      <td>108.00</td>\n",
       "      <td>441497</td>\n",
       "      <td>21535283</td>\n",
       "    </tr>\n",
       "    <tr>\n",
       "      <th>4</th>\n",
       "      <td>2020-09-01 18:42:31</td>\n",
       "      <td>0</td>\n",
       "      <td>61</td>\n",
       "      <td>97</td>\n",
       "      <td>2.0</td>\n",
       "      <td>88.00</td>\n",
       "      <td>1065358</td>\n",
       "      <td>642341</td>\n",
       "    </tr>\n",
       "  </tbody>\n",
       "</table>\n",
       "</div>"
      ],
      "text/plain": [
       "                 date  id_order  id_tov  id_kontr  quantity     sum  \\\n",
       "0 2020-09-01 17:01:25         0      52       271       1.0  108.00   \n",
       "1 2020-09-01 17:35:36         0      52       271       1.0  108.00   \n",
       "2 2020-09-01 19:19:21         0      52       271       1.0  107.95   \n",
       "3 2020-09-01 21:53:34         0      52       271       1.0  108.00   \n",
       "4 2020-09-01 18:42:31         0      61        97       2.0   88.00   \n",
       "\n",
       "   id_card_int  id_doc_int  \n",
       "0      1538855     1283228  \n",
       "1       267307     8873113  \n",
       "2       610220    12712899  \n",
       "3       441497    21535283  \n",
       "4      1065358      642341  "
      ]
     },
     "execution_count": 11,
     "metadata": {},
     "output_type": "execute_result"
    }
   ],
   "source": [
    "df.head()"
   ]
  },
  {
   "cell_type": "code",
   "execution_count": 12,
   "id": "aboriginal-hypothetical",
   "metadata": {},
   "outputs": [
    {
     "data": {
      "text/html": [
       "<div>\n",
       "<style scoped>\n",
       "    .dataframe tbody tr th:only-of-type {\n",
       "        vertical-align: middle;\n",
       "    }\n",
       "\n",
       "    .dataframe tbody tr th {\n",
       "        vertical-align: top;\n",
       "    }\n",
       "\n",
       "    .dataframe thead th {\n",
       "        text-align: right;\n",
       "    }\n",
       "</style>\n",
       "<table border=\"1\" class=\"dataframe\">\n",
       "  <thead>\n",
       "    <tr style=\"text-align: right;\">\n",
       "      <th></th>\n",
       "      <th>id_tov</th>\n",
       "      <th>id_group</th>\n",
       "      <th>name_group</th>\n",
       "    </tr>\n",
       "  </thead>\n",
       "  <tbody>\n",
       "    <tr>\n",
       "      <th>0</th>\n",
       "      <td>52</td>\n",
       "      <td>10004</td>\n",
       "      <td>Кисломолочные продукты</td>\n",
       "    </tr>\n",
       "    <tr>\n",
       "      <th>1</th>\n",
       "      <td>75</td>\n",
       "      <td>10004</td>\n",
       "      <td>Кисломолочные продукты</td>\n",
       "    </tr>\n",
       "    <tr>\n",
       "      <th>2</th>\n",
       "      <td>77</td>\n",
       "      <td>10004</td>\n",
       "      <td>Кисломолочные продукты</td>\n",
       "    </tr>\n",
       "    <tr>\n",
       "      <th>3</th>\n",
       "      <td>143</td>\n",
       "      <td>10004</td>\n",
       "      <td>Кисломолочные продукты</td>\n",
       "    </tr>\n",
       "    <tr>\n",
       "      <th>4</th>\n",
       "      <td>151</td>\n",
       "      <td>10004</td>\n",
       "      <td>Кисломолочные продукты</td>\n",
       "    </tr>\n",
       "  </tbody>\n",
       "</table>\n",
       "</div>"
      ],
      "text/plain": [
       "   id_tov  id_group              name_group\n",
       "0      52     10004  Кисломолочные продукты\n",
       "1      75     10004  Кисломолочные продукты\n",
       "2      77     10004  Кисломолочные продукты\n",
       "3     143     10004  Кисломолочные продукты\n",
       "4     151     10004  Кисломолочные продукты"
      ]
     },
     "execution_count": 12,
     "metadata": {},
     "output_type": "execute_result"
    }
   ],
   "source": [
    "products = pd.read_csv(\n",
    "    filepath_or_buffer=f'{data_path}/product_groups.txt',\n",
    "    sep=';'\n",
    ")\n",
    "products.head()"
   ]
  },
  {
   "cell_type": "code",
   "execution_count": 4,
   "id": "insured-catch",
   "metadata": {},
   "outputs": [],
   "source": [
    "pkl_file = open(f'{data_path}/card_lbe.pkl', 'rb')\n",
    "card_lbe = pickle.load(pkl_file)\n",
    "pkl_file = open(f'{data_path}/doc_lbe.pkl', 'rb')\n",
    "doc_lbe = pickle.load(pkl_file)"
   ]
  },
  {
   "cell_type": "code",
   "execution_count": 5,
   "id": "meaning-expression",
   "metadata": {},
   "outputs": [],
   "source": [
    "def dict_to_df(df, key_name, value_name):\n",
    "    return {key: value for key, value in zip(df[key_name], df[value_name])}"
   ]
  },
  {
   "cell_type": "code",
   "execution_count": 7,
   "id": "agricultural-rogers",
   "metadata": {},
   "outputs": [],
   "source": [
    "card_lbe_dict = dict_to_df(card_lbe, 'id_card', 'id_card_int')\n",
    "doc_lbe_dict = dict_to_df(doc_lbe, 'id_doc', 'id_doc_int')"
   ]
  },
  {
   "cell_type": "code",
   "execution_count": null,
   "id": "hearing-cotton",
   "metadata": {},
   "outputs": [],
   "source": [
    "df['id_card_int'] = 0\n",
    "df['id_doc_int'] = 0"
   ]
  },
  {
   "cell_type": "code",
   "execution_count": 23,
   "id": "comparable-wales",
   "metadata": {},
   "outputs": [],
   "source": [
    "def get_label(row):\n",
    "    return doc_lbe_dict.get(row.id_doc, -1)"
   ]
  },
  {
   "cell_type": "code",
   "execution_count": 16,
   "id": "unsigned-woman",
   "metadata": {},
   "outputs": [],
   "source": [
    "df['id_card_int'] = df.apply(get_label, axis=1)"
   ]
  },
  {
   "cell_type": "code",
   "execution_count": 24,
   "id": "eligible-briefing",
   "metadata": {},
   "outputs": [],
   "source": [
    "df['id_doc_int'] = df.apply(get_label, axis=1)"
   ]
  },
  {
   "cell_type": "markdown",
   "id": "atlantic-chase",
   "metadata": {},
   "source": [
    "### Remove all transactions between shops\n",
    "#### In our case, it is not quite trivial to identify all the transactions between shopes. We know for sure that the sum is 0, but it could still be discount or promotional items. So I decided to take a trashhold on the amount equal to mean + std ~ 5"
   ]
  },
  {
   "cell_type": "code",
   "execution_count": 13,
   "id": "patent-carnival",
   "metadata": {},
   "outputs": [
    {
     "data": {
      "text/plain": [
       "count    1.347206e+08\n",
       "mean     1.400151e+00\n",
       "std      2.997064e+01\n",
       "min     -2.755000e+00\n",
       "25%      1.000000e+00\n",
       "50%      1.000000e+00\n",
       "75%      1.000000e+00\n",
       "max      5.000000e+03\n",
       "Name: quantity, dtype: float64"
      ]
     },
     "execution_count": 13,
     "metadata": {},
     "output_type": "execute_result"
    }
   ],
   "source": [
    "df['quantity'].describe()"
   ]
  },
  {
   "cell_type": "code",
   "execution_count": 14,
   "id": "reasonable-navigator",
   "metadata": {},
   "outputs": [],
   "source": [
    "between_shop_transactions = df[(df['sum'] == 0) & (df['quantity'] > 5) & (df['id_order'] == 0)]"
   ]
  },
  {
   "cell_type": "code",
   "execution_count": 15,
   "id": "upper-still",
   "metadata": {},
   "outputs": [
    {
     "data": {
      "text/html": [
       "<div>\n",
       "<style scoped>\n",
       "    .dataframe tbody tr th:only-of-type {\n",
       "        vertical-align: middle;\n",
       "    }\n",
       "\n",
       "    .dataframe tbody tr th {\n",
       "        vertical-align: top;\n",
       "    }\n",
       "\n",
       "    .dataframe thead th {\n",
       "        text-align: right;\n",
       "    }\n",
       "</style>\n",
       "<table border=\"1\" class=\"dataframe\">\n",
       "  <thead>\n",
       "    <tr style=\"text-align: right;\">\n",
       "      <th></th>\n",
       "      <th>date</th>\n",
       "      <th>id_order</th>\n",
       "      <th>id_tov</th>\n",
       "      <th>id_kontr</th>\n",
       "      <th>quantity</th>\n",
       "      <th>sum</th>\n",
       "      <th>id_card_int</th>\n",
       "      <th>id_doc_int</th>\n",
       "    </tr>\n",
       "  </thead>\n",
       "  <tbody>\n",
       "    <tr>\n",
       "      <th>27520</th>\n",
       "      <td>2020-09-01 13:32:18</td>\n",
       "      <td>0</td>\n",
       "      <td>1113</td>\n",
       "      <td>-9999</td>\n",
       "      <td>5000.0</td>\n",
       "      <td>0.0</td>\n",
       "      <td>806096</td>\n",
       "      <td>21763622</td>\n",
       "    </tr>\n",
       "    <tr>\n",
       "      <th>37567</th>\n",
       "      <td>2020-09-01 15:53:48</td>\n",
       "      <td>0</td>\n",
       "      <td>1113</td>\n",
       "      <td>-9999</td>\n",
       "      <td>2000.0</td>\n",
       "      <td>0.0</td>\n",
       "      <td>1438102</td>\n",
       "      <td>4834001</td>\n",
       "    </tr>\n",
       "    <tr>\n",
       "      <th>43897</th>\n",
       "      <td>2020-09-01 12:51:22</td>\n",
       "      <td>0</td>\n",
       "      <td>1113</td>\n",
       "      <td>-9999</td>\n",
       "      <td>5000.0</td>\n",
       "      <td>0.0</td>\n",
       "      <td>72344</td>\n",
       "      <td>21320546</td>\n",
       "    </tr>\n",
       "    <tr>\n",
       "      <th>57565</th>\n",
       "      <td>2020-09-01 21:20:20</td>\n",
       "      <td>0</td>\n",
       "      <td>1113</td>\n",
       "      <td>-9999</td>\n",
       "      <td>5000.0</td>\n",
       "      <td>0.0</td>\n",
       "      <td>427981</td>\n",
       "      <td>14419056</td>\n",
       "    </tr>\n",
       "    <tr>\n",
       "      <th>69522</th>\n",
       "      <td>2020-09-01 11:14:28</td>\n",
       "      <td>0</td>\n",
       "      <td>1113</td>\n",
       "      <td>-9999</td>\n",
       "      <td>4000.0</td>\n",
       "      <td>0.0</td>\n",
       "      <td>1528414</td>\n",
       "      <td>8674916</td>\n",
       "    </tr>\n",
       "    <tr>\n",
       "      <th>...</th>\n",
       "      <td>...</td>\n",
       "      <td>...</td>\n",
       "      <td>...</td>\n",
       "      <td>...</td>\n",
       "      <td>...</td>\n",
       "      <td>...</td>\n",
       "      <td>...</td>\n",
       "      <td>...</td>\n",
       "    </tr>\n",
       "    <tr>\n",
       "      <th>46462107</th>\n",
       "      <td>2020-11-30 23:06:09</td>\n",
       "      <td>0</td>\n",
       "      <td>1113</td>\n",
       "      <td>-9999</td>\n",
       "      <td>5000.0</td>\n",
       "      <td>0.0</td>\n",
       "      <td>516678</td>\n",
       "      <td>22372786</td>\n",
       "    </tr>\n",
       "    <tr>\n",
       "      <th>46465112</th>\n",
       "      <td>2020-11-30 13:28:49</td>\n",
       "      <td>0</td>\n",
       "      <td>1113</td>\n",
       "      <td>-9999</td>\n",
       "      <td>1000.0</td>\n",
       "      <td>0.0</td>\n",
       "      <td>1147227</td>\n",
       "      <td>3186500</td>\n",
       "    </tr>\n",
       "    <tr>\n",
       "      <th>46470920</th>\n",
       "      <td>2020-11-30 08:54:36</td>\n",
       "      <td>0</td>\n",
       "      <td>1113</td>\n",
       "      <td>-9999</td>\n",
       "      <td>1500.0</td>\n",
       "      <td>0.0</td>\n",
       "      <td>1176200</td>\n",
       "      <td>2799846</td>\n",
       "    </tr>\n",
       "    <tr>\n",
       "      <th>46470921</th>\n",
       "      <td>2020-11-30 20:08:09</td>\n",
       "      <td>0</td>\n",
       "      <td>1113</td>\n",
       "      <td>-9999</td>\n",
       "      <td>5000.0</td>\n",
       "      <td>0.0</td>\n",
       "      <td>745459</td>\n",
       "      <td>3133830</td>\n",
       "    </tr>\n",
       "    <tr>\n",
       "      <th>46485140</th>\n",
       "      <td>2020-11-30 16:35:17</td>\n",
       "      <td>0</td>\n",
       "      <td>1113</td>\n",
       "      <td>-9999</td>\n",
       "      <td>2000.0</td>\n",
       "      <td>0.0</td>\n",
       "      <td>915454</td>\n",
       "      <td>2311700</td>\n",
       "    </tr>\n",
       "  </tbody>\n",
       "</table>\n",
       "<p>14465 rows × 8 columns</p>\n",
       "</div>"
      ],
      "text/plain": [
       "                        date  id_order  id_tov  id_kontr  quantity  sum  \\\n",
       "27520    2020-09-01 13:32:18         0    1113     -9999    5000.0  0.0   \n",
       "37567    2020-09-01 15:53:48         0    1113     -9999    2000.0  0.0   \n",
       "43897    2020-09-01 12:51:22         0    1113     -9999    5000.0  0.0   \n",
       "57565    2020-09-01 21:20:20         0    1113     -9999    5000.0  0.0   \n",
       "69522    2020-09-01 11:14:28         0    1113     -9999    4000.0  0.0   \n",
       "...                      ...       ...     ...       ...       ...  ...   \n",
       "46462107 2020-11-30 23:06:09         0    1113     -9999    5000.0  0.0   \n",
       "46465112 2020-11-30 13:28:49         0    1113     -9999    1000.0  0.0   \n",
       "46470920 2020-11-30 08:54:36         0    1113     -9999    1500.0  0.0   \n",
       "46470921 2020-11-30 20:08:09         0    1113     -9999    5000.0  0.0   \n",
       "46485140 2020-11-30 16:35:17         0    1113     -9999    2000.0  0.0   \n",
       "\n",
       "          id_card_int  id_doc_int  \n",
       "27520          806096    21763622  \n",
       "37567         1438102     4834001  \n",
       "43897           72344    21320546  \n",
       "57565          427981    14419056  \n",
       "69522         1528414     8674916  \n",
       "...               ...         ...  \n",
       "46462107       516678    22372786  \n",
       "46465112      1147227     3186500  \n",
       "46470920      1176200     2799846  \n",
       "46470921       745459     3133830  \n",
       "46485140       915454     2311700  \n",
       "\n",
       "[14465 rows x 8 columns]"
      ]
     },
     "execution_count": 15,
     "metadata": {},
     "output_type": "execute_result"
    }
   ],
   "source": [
    "between_shop_transactions"
   ]
  },
  {
   "cell_type": "code",
   "execution_count": 16,
   "id": "standard-thriller",
   "metadata": {},
   "outputs": [
    {
     "data": {
      "text/plain": [
       "6541"
      ]
     },
     "execution_count": 16,
     "metadata": {},
     "output_type": "execute_result"
    }
   ],
   "source": [
    "between_shop_transactions_id_card_int = between_shop_transactions.id_card_int.unique()\n",
    "len(between_shop_transactions_id_card_int)"
   ]
  },
  {
   "cell_type": "markdown",
   "id": "apparent-preference",
   "metadata": {},
   "source": [
    "### Remove all transactions with sum < 0 and quantity < 0\n",
    "#### I think that transactions with a negative sum or quantative may also count as outlaiers"
   ]
  },
  {
   "cell_type": "code",
   "execution_count": 17,
   "id": "described-oracle",
   "metadata": {},
   "outputs": [
    {
     "data": {
      "text/html": [
       "<div>\n",
       "<style scoped>\n",
       "    .dataframe tbody tr th:only-of-type {\n",
       "        vertical-align: middle;\n",
       "    }\n",
       "\n",
       "    .dataframe tbody tr th {\n",
       "        vertical-align: top;\n",
       "    }\n",
       "\n",
       "    .dataframe thead th {\n",
       "        text-align: right;\n",
       "    }\n",
       "</style>\n",
       "<table border=\"1\" class=\"dataframe\">\n",
       "  <thead>\n",
       "    <tr style=\"text-align: right;\">\n",
       "      <th></th>\n",
       "      <th>date</th>\n",
       "      <th>id_order</th>\n",
       "      <th>id_tov</th>\n",
       "      <th>id_kontr</th>\n",
       "      <th>quantity</th>\n",
       "      <th>sum</th>\n",
       "      <th>id_card_int</th>\n",
       "      <th>id_doc_int</th>\n",
       "    </tr>\n",
       "  </thead>\n",
       "  <tbody>\n",
       "    <tr>\n",
       "      <th>4206092</th>\n",
       "      <td>2020-09-04 09:10:21</td>\n",
       "      <td>0</td>\n",
       "      <td>23074</td>\n",
       "      <td>19269</td>\n",
       "      <td>1.268</td>\n",
       "      <td>-470.43</td>\n",
       "      <td>1301664</td>\n",
       "      <td>11939194</td>\n",
       "    </tr>\n",
       "    <tr>\n",
       "      <th>4206093</th>\n",
       "      <td>2020-09-04 09:10:21</td>\n",
       "      <td>0</td>\n",
       "      <td>23074</td>\n",
       "      <td>19269</td>\n",
       "      <td>-1.268</td>\n",
       "      <td>470.43</td>\n",
       "      <td>1301664</td>\n",
       "      <td>11939194</td>\n",
       "    </tr>\n",
       "    <tr>\n",
       "      <th>4206102</th>\n",
       "      <td>2020-09-04 09:09:24</td>\n",
       "      <td>0</td>\n",
       "      <td>23074</td>\n",
       "      <td>19269</td>\n",
       "      <td>1.268</td>\n",
       "      <td>-470.43</td>\n",
       "      <td>1419650</td>\n",
       "      <td>22549976</td>\n",
       "    </tr>\n",
       "    <tr>\n",
       "      <th>4206103</th>\n",
       "      <td>2020-09-04 09:09:24</td>\n",
       "      <td>0</td>\n",
       "      <td>23074</td>\n",
       "      <td>19269</td>\n",
       "      <td>-1.268</td>\n",
       "      <td>470.43</td>\n",
       "      <td>1419650</td>\n",
       "      <td>22549976</td>\n",
       "    </tr>\n",
       "    <tr>\n",
       "      <th>4210123</th>\n",
       "      <td>2020-09-04 08:37:00</td>\n",
       "      <td>0</td>\n",
       "      <td>23074</td>\n",
       "      <td>19269</td>\n",
       "      <td>-1.084</td>\n",
       "      <td>402.16</td>\n",
       "      <td>1035577</td>\n",
       "      <td>6745380</td>\n",
       "    </tr>\n",
       "    <tr>\n",
       "      <th>...</th>\n",
       "      <td>...</td>\n",
       "      <td>...</td>\n",
       "      <td>...</td>\n",
       "      <td>...</td>\n",
       "      <td>...</td>\n",
       "      <td>...</td>\n",
       "      <td>...</td>\n",
       "      <td>...</td>\n",
       "    </tr>\n",
       "    <tr>\n",
       "      <th>5450157</th>\n",
       "      <td>2020-09-04 09:21:17</td>\n",
       "      <td>0</td>\n",
       "      <td>23074</td>\n",
       "      <td>19269</td>\n",
       "      <td>0.915</td>\n",
       "      <td>-339.47</td>\n",
       "      <td>574393</td>\n",
       "      <td>18763274</td>\n",
       "    </tr>\n",
       "    <tr>\n",
       "      <th>5450158</th>\n",
       "      <td>2020-09-04 09:21:17</td>\n",
       "      <td>0</td>\n",
       "      <td>23074</td>\n",
       "      <td>19269</td>\n",
       "      <td>-0.915</td>\n",
       "      <td>339.47</td>\n",
       "      <td>574393</td>\n",
       "      <td>18763274</td>\n",
       "    </tr>\n",
       "    <tr>\n",
       "      <th>5450159</th>\n",
       "      <td>2020-09-04 09:21:17</td>\n",
       "      <td>0</td>\n",
       "      <td>23074</td>\n",
       "      <td>19269</td>\n",
       "      <td>0.915</td>\n",
       "      <td>-339.47</td>\n",
       "      <td>574393</td>\n",
       "      <td>18763274</td>\n",
       "    </tr>\n",
       "    <tr>\n",
       "      <th>5450160</th>\n",
       "      <td>2020-09-04 09:21:17</td>\n",
       "      <td>0</td>\n",
       "      <td>23074</td>\n",
       "      <td>19269</td>\n",
       "      <td>-0.915</td>\n",
       "      <td>339.47</td>\n",
       "      <td>574393</td>\n",
       "      <td>18763274</td>\n",
       "    </tr>\n",
       "    <tr>\n",
       "      <th>37898334</th>\n",
       "      <td>2020-09-28 20:07:06</td>\n",
       "      <td>6587167</td>\n",
       "      <td>22492</td>\n",
       "      <td>102</td>\n",
       "      <td>1.000</td>\n",
       "      <td>-0.01</td>\n",
       "      <td>322028</td>\n",
       "      <td>13550999</td>\n",
       "    </tr>\n",
       "  </tbody>\n",
       "</table>\n",
       "<p>137 rows × 8 columns</p>\n",
       "</div>"
      ],
      "text/plain": [
       "                        date  id_order  id_tov  id_kontr  quantity     sum  \\\n",
       "4206092  2020-09-04 09:10:21         0   23074     19269     1.268 -470.43   \n",
       "4206093  2020-09-04 09:10:21         0   23074     19269    -1.268  470.43   \n",
       "4206102  2020-09-04 09:09:24         0   23074     19269     1.268 -470.43   \n",
       "4206103  2020-09-04 09:09:24         0   23074     19269    -1.268  470.43   \n",
       "4210123  2020-09-04 08:37:00         0   23074     19269    -1.084  402.16   \n",
       "...                      ...       ...     ...       ...       ...     ...   \n",
       "5450157  2020-09-04 09:21:17         0   23074     19269     0.915 -339.47   \n",
       "5450158  2020-09-04 09:21:17         0   23074     19269    -0.915  339.47   \n",
       "5450159  2020-09-04 09:21:17         0   23074     19269     0.915 -339.47   \n",
       "5450160  2020-09-04 09:21:17         0   23074     19269    -0.915  339.47   \n",
       "37898334 2020-09-28 20:07:06   6587167   22492       102     1.000   -0.01   \n",
       "\n",
       "          id_card_int  id_doc_int  \n",
       "4206092       1301664    11939194  \n",
       "4206093       1301664    11939194  \n",
       "4206102       1419650    22549976  \n",
       "4206103       1419650    22549976  \n",
       "4210123       1035577     6745380  \n",
       "...               ...         ...  \n",
       "5450157        574393    18763274  \n",
       "5450158        574393    18763274  \n",
       "5450159        574393    18763274  \n",
       "5450160        574393    18763274  \n",
       "37898334       322028    13550999  \n",
       "\n",
       "[137 rows x 8 columns]"
      ]
     },
     "execution_count": 17,
     "metadata": {},
     "output_type": "execute_result"
    }
   ],
   "source": [
    "negative_sum_quantity_transactions = df[(df['sum'] < 0) | (df['quantity'] < 0)]\n",
    "negative_sum_quantity_transactions"
   ]
  },
  {
   "cell_type": "code",
   "execution_count": 19,
   "id": "theoretical-parts",
   "metadata": {},
   "outputs": [
    {
     "data": {
      "text/plain": [
       "58"
      ]
     },
     "execution_count": 19,
     "metadata": {},
     "output_type": "execute_result"
    }
   ],
   "source": [
    "negative_sum_quantity_transactions_id_card_int = negative_sum_quantity_transactions.id_card_int.unique()\n",
    "len(negative_sum_quantity_transactions_id_card_int)"
   ]
  },
  {
   "cell_type": "code",
   "execution_count": 49,
   "id": "grand-peeing",
   "metadata": {},
   "outputs": [
    {
     "data": {
      "text/html": [
       "<div>\n",
       "<style scoped>\n",
       "    .dataframe tbody tr th:only-of-type {\n",
       "        vertical-align: middle;\n",
       "    }\n",
       "\n",
       "    .dataframe tbody tr th {\n",
       "        vertical-align: top;\n",
       "    }\n",
       "\n",
       "    .dataframe thead th {\n",
       "        text-align: right;\n",
       "    }\n",
       "</style>\n",
       "<table border=\"1\" class=\"dataframe\">\n",
       "  <thead>\n",
       "    <tr style=\"text-align: right;\">\n",
       "      <th></th>\n",
       "      <th>id_tov</th>\n",
       "      <th>id_group</th>\n",
       "      <th>name_group</th>\n",
       "    </tr>\n",
       "  </thead>\n",
       "  <tbody>\n",
       "    <tr>\n",
       "      <th>3450</th>\n",
       "      <td>647</td>\n",
       "      <td>10155</td>\n",
       "      <td>Упаковка</td>\n",
       "    </tr>\n",
       "  </tbody>\n",
       "</table>\n",
       "</div>"
      ],
      "text/plain": [
       "      id_tov  id_group name_group\n",
       "3450     647     10155   Упаковка"
      ]
     },
     "execution_count": 49,
     "metadata": {},
     "output_type": "execute_result"
    }
   ],
   "source": [
    "products[products['id_tov'] == 647]"
   ]
  },
  {
   "cell_type": "markdown",
   "id": "elementary-festival",
   "metadata": {},
   "source": [
    "### Check Упаковка\n",
    "#### Nothing suspecious I think"
   ]
  },
  {
   "cell_type": "code",
   "execution_count": 21,
   "id": "operational-teacher",
   "metadata": {},
   "outputs": [
    {
     "data": {
      "text/plain": [
       "count    7.768718e+06\n",
       "mean     1.176063e+00\n",
       "std      5.916345e-01\n",
       "min      1.000000e+00\n",
       "25%      1.000000e+00\n",
       "50%      1.000000e+00\n",
       "75%      1.000000e+00\n",
       "max      5.030000e+02\n",
       "Name: quantity, dtype: float64"
      ]
     },
     "execution_count": 21,
     "metadata": {},
     "output_type": "execute_result"
    }
   ],
   "source": [
    "df[(df['id_tov'] == 647)]['quantity'].describe()"
   ]
  },
  {
   "cell_type": "markdown",
   "id": "nominated-salem",
   "metadata": {},
   "source": [
    "### Check number of buys per customer. For that we should calculate number of checks per each cusomer for 3 month"
   ]
  },
  {
   "cell_type": "code",
   "execution_count": 24,
   "id": "cutting-breeding",
   "metadata": {},
   "outputs": [],
   "source": [
    "grouped_by_id_card_int = df[['id_card_int', 'id_doc_int']].groupby(['id_card_int'])"
   ]
  },
  {
   "cell_type": "code",
   "execution_count": 35,
   "id": "moved-emission",
   "metadata": {},
   "outputs": [],
   "source": [
    "number_of_docs_per_customer = grouped_by_id_card_int['id_doc_int'].nunique()"
   ]
  },
  {
   "cell_type": "code",
   "execution_count": 38,
   "id": "operating-crown",
   "metadata": {},
   "outputs": [
    {
     "data": {
      "text/plain": [
       "count    1.944075e+06\n",
       "mean     1.204576e+01\n",
       "std      2.275525e+02\n",
       "min      1.000000e+00\n",
       "25%      2.000000e+00\n",
       "50%      5.000000e+00\n",
       "75%      1.400000e+01\n",
       "max      3.162770e+05\n",
       "Name: id_doc_int, dtype: float64"
      ]
     },
     "execution_count": 38,
     "metadata": {},
     "output_type": "execute_result"
    }
   ],
   "source": [
    "number_of_docs_per_customer.describe()"
   ]
  },
  {
   "cell_type": "code",
   "execution_count": 45,
   "id": "loved-oracle",
   "metadata": {},
   "outputs": [
    {
     "data": {
      "text/plain": [
       "id_card_int\n",
       "883386     316277\n",
       "1387578       454\n",
       "914348        439\n",
       "317600        414\n",
       "531034        411\n",
       "            ...  \n",
       "1072206         1\n",
       "1605742         1\n",
       "1605741         1\n",
       "101808          1\n",
       "1681231         1\n",
       "Name: id_doc_int, Length: 1944075, dtype: int64"
      ]
     },
     "execution_count": 45,
     "metadata": {},
     "output_type": "execute_result"
    }
   ],
   "source": [
    "number_of_docs_per_customer.sort_values(ascending=False)"
   ]
  },
  {
   "cell_type": "code",
   "execution_count": 47,
   "id": "signed-nickel",
   "metadata": {},
   "outputs": [],
   "source": [
    "too_much_buys = {883386}"
   ]
  },
  {
   "cell_type": "markdown",
   "id": "improving-mambo",
   "metadata": {},
   "source": [
    "### Check total sum per customer"
   ]
  },
  {
   "cell_type": "code",
   "execution_count": 50,
   "id": "excellent-subscriber",
   "metadata": {},
   "outputs": [],
   "source": [
    "grouped_by_id_card_int = df[['id_card_int', 'sum']].groupby(['id_card_int']).sum()"
   ]
  },
  {
   "cell_type": "code",
   "execution_count": 53,
   "id": "worldwide-terrain",
   "metadata": {},
   "outputs": [
    {
     "data": {
      "text/html": [
       "<div>\n",
       "<style scoped>\n",
       "    .dataframe tbody tr th:only-of-type {\n",
       "        vertical-align: middle;\n",
       "    }\n",
       "\n",
       "    .dataframe tbody tr th {\n",
       "        vertical-align: top;\n",
       "    }\n",
       "\n",
       "    .dataframe thead th {\n",
       "        text-align: right;\n",
       "    }\n",
       "</style>\n",
       "<table border=\"1\" class=\"dataframe\">\n",
       "  <thead>\n",
       "    <tr style=\"text-align: right;\">\n",
       "      <th></th>\n",
       "      <th>sum</th>\n",
       "    </tr>\n",
       "    <tr>\n",
       "      <th>id_card_int</th>\n",
       "      <th></th>\n",
       "    </tr>\n",
       "  </thead>\n",
       "  <tbody>\n",
       "    <tr>\n",
       "      <th>883386</th>\n",
       "      <td>60016231.51</td>\n",
       "    </tr>\n",
       "    <tr>\n",
       "      <th>1577248</th>\n",
       "      <td>1279932.55</td>\n",
       "    </tr>\n",
       "    <tr>\n",
       "      <th>568930</th>\n",
       "      <td>379927.61</td>\n",
       "    </tr>\n",
       "    <tr>\n",
       "      <th>1028081</th>\n",
       "      <td>292730.00</td>\n",
       "    </tr>\n",
       "    <tr>\n",
       "      <th>497966</th>\n",
       "      <td>284392.33</td>\n",
       "    </tr>\n",
       "    <tr>\n",
       "      <th>...</th>\n",
       "      <td>...</td>\n",
       "    </tr>\n",
       "    <tr>\n",
       "      <th>849914</th>\n",
       "      <td>0.00</td>\n",
       "    </tr>\n",
       "    <tr>\n",
       "      <th>1801523</th>\n",
       "      <td>0.00</td>\n",
       "    </tr>\n",
       "    <tr>\n",
       "      <th>1380493</th>\n",
       "      <td>0.00</td>\n",
       "    </tr>\n",
       "    <tr>\n",
       "      <th>1850061</th>\n",
       "      <td>0.00</td>\n",
       "    </tr>\n",
       "    <tr>\n",
       "      <th>405371</th>\n",
       "      <td>0.00</td>\n",
       "    </tr>\n",
       "  </tbody>\n",
       "</table>\n",
       "<p>1944075 rows × 1 columns</p>\n",
       "</div>"
      ],
      "text/plain": [
       "                     sum\n",
       "id_card_int             \n",
       "883386       60016231.51\n",
       "1577248       1279932.55\n",
       "568930         379927.61\n",
       "1028081        292730.00\n",
       "497966         284392.33\n",
       "...                  ...\n",
       "849914              0.00\n",
       "1801523             0.00\n",
       "1380493             0.00\n",
       "1850061             0.00\n",
       "405371              0.00\n",
       "\n",
       "[1944075 rows x 1 columns]"
      ]
     },
     "execution_count": 53,
     "metadata": {},
     "output_type": "execute_result"
    }
   ],
   "source": [
    "grouped_by_id_card_int.sort_values(by='sum', ascending=False)"
   ]
  },
  {
   "cell_type": "code",
   "execution_count": 54,
   "id": "molecular-armstrong",
   "metadata": {},
   "outputs": [
    {
     "data": {
      "text/html": [
       "<div>\n",
       "<style scoped>\n",
       "    .dataframe tbody tr th:only-of-type {\n",
       "        vertical-align: middle;\n",
       "    }\n",
       "\n",
       "    .dataframe tbody tr th {\n",
       "        vertical-align: top;\n",
       "    }\n",
       "\n",
       "    .dataframe thead th {\n",
       "        text-align: right;\n",
       "    }\n",
       "</style>\n",
       "<table border=\"1\" class=\"dataframe\">\n",
       "  <thead>\n",
       "    <tr style=\"text-align: right;\">\n",
       "      <th></th>\n",
       "      <th>sum</th>\n",
       "    </tr>\n",
       "  </thead>\n",
       "  <tbody>\n",
       "    <tr>\n",
       "      <th>count</th>\n",
       "      <td>1.944075e+06</td>\n",
       "    </tr>\n",
       "    <tr>\n",
       "      <th>mean</th>\n",
       "      <td>8.075360e+03</td>\n",
       "    </tr>\n",
       "    <tr>\n",
       "      <th>std</th>\n",
       "      <td>4.528123e+04</td>\n",
       "    </tr>\n",
       "    <tr>\n",
       "      <th>min</th>\n",
       "      <td>0.000000e+00</td>\n",
       "    </tr>\n",
       "    <tr>\n",
       "      <th>25%</th>\n",
       "      <td>7.289400e+02</td>\n",
       "    </tr>\n",
       "    <tr>\n",
       "      <th>50%</th>\n",
       "      <td>2.495560e+03</td>\n",
       "    </tr>\n",
       "    <tr>\n",
       "      <th>75%</th>\n",
       "      <td>8.917000e+03</td>\n",
       "    </tr>\n",
       "    <tr>\n",
       "      <th>max</th>\n",
       "      <td>6.001623e+07</td>\n",
       "    </tr>\n",
       "  </tbody>\n",
       "</table>\n",
       "</div>"
      ],
      "text/plain": [
       "                sum\n",
       "count  1.944075e+06\n",
       "mean   8.075360e+03\n",
       "std    4.528123e+04\n",
       "min    0.000000e+00\n",
       "25%    7.289400e+02\n",
       "50%    2.495560e+03\n",
       "75%    8.917000e+03\n",
       "max    6.001623e+07"
      ]
     },
     "execution_count": 54,
     "metadata": {},
     "output_type": "execute_result"
    }
   ],
   "source": [
    "grouped_by_id_card_int.sort_values(by='sum', ascending=False).describe()"
   ]
  },
  {
   "cell_type": "markdown",
   "id": "polyphonic-stamp",
   "metadata": {},
   "source": [
    "### Dump\n"
   ]
  },
  {
   "cell_type": "code",
   "execution_count": 58,
   "id": "pediatric-bishop",
   "metadata": {},
   "outputs": [
    {
     "data": {
      "text/plain": [
       "6599"
      ]
     },
     "execution_count": 58,
     "metadata": {},
     "output_type": "execute_result"
    }
   ],
   "source": [
    "result = set(between_shop_transactions_id_card_int) | too_much_buys | set(negative_sum_quantity_transactions_id_card_int)\n",
    "len(result)"
   ]
  },
  {
   "cell_type": "code",
   "execution_count": 60,
   "id": "usual-robinson",
   "metadata": {},
   "outputs": [],
   "source": [
    "result_df = pd.DataFrame(result)"
   ]
  },
  {
   "cell_type": "code",
   "execution_count": 66,
   "id": "narrative-forwarding",
   "metadata": {},
   "outputs": [],
   "source": [
    "with bz2.open(data_path / 'suspected_ids.pkl.bz2', 'wb') as f:\n",
    "    pickle.dump(result_df, f, protocol=4)"
   ]
  }
 ],
 "metadata": {
  "kernelspec": {
   "display_name": "Python 3",
   "language": "python",
   "name": "python3"
  },
  "language_info": {
   "codemirror_mode": {
    "name": "ipython",
    "version": 3
   },
   "file_extension": ".py",
   "mimetype": "text/x-python",
   "name": "python",
   "nbconvert_exporter": "python",
   "pygments_lexer": "ipython3",
   "version": "3.9.1"
  }
 },
 "nbformat": 4,
 "nbformat_minor": 5
}
