{
 "cells": [
  {
   "cell_type": "code",
   "execution_count": 1,
   "metadata": {},
   "outputs": [
    {
     "name": "stdout",
     "output_type": "stream",
     "text": [
      "Requirement already satisfied: docx2txt in /home/hawk/.local/lib/python3.8/site-packages (0.8)\r\n",
      "Requirement already satisfied: matplotlib in /home/hawk/.local/lib/python3.8/site-packages (3.4.1)\r\n",
      "Requirement already satisfied: pandas in /home/hawk/.local/lib/python3.8/site-packages (1.2.3)\r\n",
      "Requirement already satisfied: pyparsing>=2.2.1 in /home/hawk/.local/lib/python3.8/site-packages (from matplotlib) (2.4.7)\r\n",
      "Requirement already satisfied: kiwisolver>=1.0.1 in /home/hawk/.local/lib/python3.8/site-packages (from matplotlib) (1.3.1)\r\n",
      "Requirement already satisfied: cycler>=0.10 in /home/hawk/.local/lib/python3.8/site-packages (from matplotlib) (0.10.0)\r\n",
      "Requirement already satisfied: python-dateutil>=2.7 in /home/hawk/.local/lib/python3.8/site-packages (from matplotlib) (2.8.1)\r\n",
      "Requirement already satisfied: pillow>=6.2.0 in /home/hawk/.local/lib/python3.8/site-packages (from matplotlib) (8.1.2)\r\n",
      "Requirement already satisfied: numpy>=1.16 in /home/hawk/.local/lib/python3.8/site-packages (from matplotlib) (1.20.1)\r\n",
      "Requirement already satisfied: pytz>=2017.3 in /home/hawk/.local/lib/python3.8/site-packages (from pandas) (2021.1)\r\n",
      "Requirement already satisfied: six in /home/hawk/miniconda3/lib/python3.8/site-packages (from cycler>=0.10->matplotlib) (1.15.0)\r\n"
     ]
    }
   ],
   "source": [
    "!pip3 install docx2txt matplotlib pandas"
   ]
  },
  {
   "cell_type": "code",
   "execution_count": 2,
   "metadata": {},
   "outputs": [],
   "source": [
    "import bz2\n",
    "import os\n",
    "import pickle\n",
    "\n",
    "import docx2txt\n",
    "import matplotlib.pyplot as plt\n",
    "import pandas as pd "
   ]
  },
  {
   "cell_type": "markdown",
   "metadata": {},
   "source": [
    "## Read data"
   ]
  },
  {
   "cell_type": "code",
   "execution_count": 3,
   "metadata": {},
   "outputs": [
    {
     "data": {
      "text/html": [
       "<div>\n",
       "<style scoped>\n",
       "    .dataframe tbody tr th:only-of-type {\n",
       "        vertical-align: middle;\n",
       "    }\n",
       "\n",
       "    .dataframe tbody tr th {\n",
       "        vertical-align: top;\n",
       "    }\n",
       "\n",
       "    .dataframe thead th {\n",
       "        text-align: right;\n",
       "    }\n",
       "</style>\n",
       "<table border=\"1\" class=\"dataframe\">\n",
       "  <thead>\n",
       "    <tr style=\"text-align: right;\">\n",
       "      <th></th>\n",
       "      <th>date</th>\n",
       "      <th>id_doc</th>\n",
       "      <th>id_order</th>\n",
       "      <th>id_card</th>\n",
       "      <th>id_tov</th>\n",
       "      <th>id_kontr</th>\n",
       "      <th>quantity</th>\n",
       "      <th>sum</th>\n",
       "      <th>is_green</th>\n",
       "      <th>id_card_int</th>\n",
       "      <th>id_doc_int</th>\n",
       "      <th>day</th>\n",
       "    </tr>\n",
       "  </thead>\n",
       "  <tbody>\n",
       "    <tr>\n",
       "      <th>0</th>\n",
       "      <td>2020-09-01 17:01:25</td>\n",
       "      <td>0E05D308-5CEC-EA11-B444-005056A7539A</td>\n",
       "      <td>0</td>\n",
       "      <td>8594499</td>\n",
       "      <td>52</td>\n",
       "      <td>271</td>\n",
       "      <td>1.0</td>\n",
       "      <td>108.00</td>\n",
       "      <td>False</td>\n",
       "      <td>1538855</td>\n",
       "      <td>1283228</td>\n",
       "      <td>2020-09-01</td>\n",
       "    </tr>\n",
       "    <tr>\n",
       "      <th>1</th>\n",
       "      <td>2020-09-01 17:35:36</td>\n",
       "      <td>610205A1-61EC-EA11-B444-005056A7539A</td>\n",
       "      <td>0</td>\n",
       "      <td>1452388</td>\n",
       "      <td>52</td>\n",
       "      <td>271</td>\n",
       "      <td>1.0</td>\n",
       "      <td>108.00</td>\n",
       "      <td>False</td>\n",
       "      <td>267307</td>\n",
       "      <td>8873113</td>\n",
       "      <td>2020-09-01</td>\n",
       "    </tr>\n",
       "    <tr>\n",
       "      <th>2</th>\n",
       "      <td>2020-09-01 19:19:21</td>\n",
       "      <td>8AF19602-70EC-EA11-B444-005056A7539A</td>\n",
       "      <td>0</td>\n",
       "      <td>3493538</td>\n",
       "      <td>52</td>\n",
       "      <td>271</td>\n",
       "      <td>1.0</td>\n",
       "      <td>107.95</td>\n",
       "      <td>False</td>\n",
       "      <td>610220</td>\n",
       "      <td>12712899</td>\n",
       "      <td>2020-09-01</td>\n",
       "    </tr>\n",
       "    <tr>\n",
       "      <th>3</th>\n",
       "      <td>2020-09-01 21:53:34</td>\n",
       "      <td>EB6C71A3-84EC-EA11-B444-005056A7539A</td>\n",
       "      <td>0</td>\n",
       "      <td>2491281</td>\n",
       "      <td>52</td>\n",
       "      <td>271</td>\n",
       "      <td>1.0</td>\n",
       "      <td>108.00</td>\n",
       "      <td>False</td>\n",
       "      <td>441497</td>\n",
       "      <td>21535283</td>\n",
       "      <td>2020-09-01</td>\n",
       "    </tr>\n",
       "    <tr>\n",
       "      <th>4</th>\n",
       "      <td>2020-09-01 18:42:31</td>\n",
       "      <td>0706023F-6BEC-EA11-B444-005056A7539A</td>\n",
       "      <td>0</td>\n",
       "      <td>5732396</td>\n",
       "      <td>61</td>\n",
       "      <td>97</td>\n",
       "      <td>2.0</td>\n",
       "      <td>88.00</td>\n",
       "      <td>False</td>\n",
       "      <td>1065358</td>\n",
       "      <td>642341</td>\n",
       "      <td>2020-09-01</td>\n",
       "    </tr>\n",
       "    <tr>\n",
       "      <th>...</th>\n",
       "      <td>...</td>\n",
       "      <td>...</td>\n",
       "      <td>...</td>\n",
       "      <td>...</td>\n",
       "      <td>...</td>\n",
       "      <td>...</td>\n",
       "      <td>...</td>\n",
       "      <td>...</td>\n",
       "      <td>...</td>\n",
       "      <td>...</td>\n",
       "      <td>...</td>\n",
       "      <td>...</td>\n",
       "    </tr>\n",
       "    <tr>\n",
       "      <th>42100853</th>\n",
       "      <td>2020-09-30 11:26:28</td>\n",
       "      <td>350DE9C7-F602-EB11-B444-005056A7539A</td>\n",
       "      <td>0</td>\n",
       "      <td>A465340</td>\n",
       "      <td>25292</td>\n",
       "      <td>17528</td>\n",
       "      <td>1.0</td>\n",
       "      <td>130.00</td>\n",
       "      <td>False</td>\n",
       "      <td>1739990</td>\n",
       "      <td>4850561</td>\n",
       "      <td>2020-09-30</td>\n",
       "    </tr>\n",
       "    <tr>\n",
       "      <th>42100854</th>\n",
       "      <td>2020-09-30 08:12:39</td>\n",
       "      <td>6D7ACBFB-DB02-EB11-B444-005056A7539A</td>\n",
       "      <td>0</td>\n",
       "      <td>A698682</td>\n",
       "      <td>30740</td>\n",
       "      <td>19188</td>\n",
       "      <td>2.0</td>\n",
       "      <td>120.00</td>\n",
       "      <td>False</td>\n",
       "      <td>1761351</td>\n",
       "      <td>10015419</td>\n",
       "      <td>2020-09-30</td>\n",
       "    </tr>\n",
       "    <tr>\n",
       "      <th>42100855</th>\n",
       "      <td>2020-09-30 09:54:24</td>\n",
       "      <td>F96D45E8-E902-EB11-B444-005056A7539A</td>\n",
       "      <td>0</td>\n",
       "      <td>7790662</td>\n",
       "      <td>30741</td>\n",
       "      <td>19188</td>\n",
       "      <td>1.0</td>\n",
       "      <td>73.00</td>\n",
       "      <td>False</td>\n",
       "      <td>1432778</td>\n",
       "      <td>22816791</td>\n",
       "      <td>2020-09-30</td>\n",
       "    </tr>\n",
       "    <tr>\n",
       "      <th>42100856</th>\n",
       "      <td>2020-09-30 12:00:04</td>\n",
       "      <td>12067064-FB02-EB11-B444-005056A7539A</td>\n",
       "      <td>0</td>\n",
       "      <td>2751739</td>\n",
       "      <td>34835</td>\n",
       "      <td>15916</td>\n",
       "      <td>1.0</td>\n",
       "      <td>78.00</td>\n",
       "      <td>False</td>\n",
       "      <td>484390</td>\n",
       "      <td>1648929</td>\n",
       "      <td>2020-09-30</td>\n",
       "    </tr>\n",
       "    <tr>\n",
       "      <th>42100857</th>\n",
       "      <td>2020-09-30 09:37:16</td>\n",
       "      <td>F3CD288E-E702-EB11-B444-005056A7539A</td>\n",
       "      <td>0</td>\n",
       "      <td>3189952</td>\n",
       "      <td>34835</td>\n",
       "      <td>15916</td>\n",
       "      <td>1.0</td>\n",
       "      <td>78.00</td>\n",
       "      <td>False</td>\n",
       "      <td>557627</td>\n",
       "      <td>22302533</td>\n",
       "      <td>2020-09-30</td>\n",
       "    </tr>\n",
       "  </tbody>\n",
       "</table>\n",
       "<p>42100858 rows × 12 columns</p>\n",
       "</div>"
      ],
      "text/plain": [
       "                        date                                id_doc  id_order  \\\n",
       "0        2020-09-01 17:01:25  0E05D308-5CEC-EA11-B444-005056A7539A         0   \n",
       "1        2020-09-01 17:35:36  610205A1-61EC-EA11-B444-005056A7539A         0   \n",
       "2        2020-09-01 19:19:21  8AF19602-70EC-EA11-B444-005056A7539A         0   \n",
       "3        2020-09-01 21:53:34  EB6C71A3-84EC-EA11-B444-005056A7539A         0   \n",
       "4        2020-09-01 18:42:31  0706023F-6BEC-EA11-B444-005056A7539A         0   \n",
       "...                      ...                                   ...       ...   \n",
       "42100853 2020-09-30 11:26:28  350DE9C7-F602-EB11-B444-005056A7539A         0   \n",
       "42100854 2020-09-30 08:12:39  6D7ACBFB-DB02-EB11-B444-005056A7539A         0   \n",
       "42100855 2020-09-30 09:54:24  F96D45E8-E902-EB11-B444-005056A7539A         0   \n",
       "42100856 2020-09-30 12:00:04  12067064-FB02-EB11-B444-005056A7539A         0   \n",
       "42100857 2020-09-30 09:37:16  F3CD288E-E702-EB11-B444-005056A7539A         0   \n",
       "\n",
       "          id_card  id_tov  id_kontr  quantity     sum  is_green  id_card_int  \\\n",
       "0         8594499      52       271       1.0  108.00     False      1538855   \n",
       "1         1452388      52       271       1.0  108.00     False       267307   \n",
       "2         3493538      52       271       1.0  107.95     False       610220   \n",
       "3         2491281      52       271       1.0  108.00     False       441497   \n",
       "4         5732396      61        97       2.0   88.00     False      1065358   \n",
       "...           ...     ...       ...       ...     ...       ...          ...   \n",
       "42100853  A465340   25292     17528       1.0  130.00     False      1739990   \n",
       "42100854  A698682   30740     19188       2.0  120.00     False      1761351   \n",
       "42100855  7790662   30741     19188       1.0   73.00     False      1432778   \n",
       "42100856  2751739   34835     15916       1.0   78.00     False       484390   \n",
       "42100857  3189952   34835     15916       1.0   78.00     False       557627   \n",
       "\n",
       "          id_doc_int         day  \n",
       "0            1283228  2020-09-01  \n",
       "1            8873113  2020-09-01  \n",
       "2           12712899  2020-09-01  \n",
       "3           21535283  2020-09-01  \n",
       "4             642341  2020-09-01  \n",
       "...              ...         ...  \n",
       "42100853     4850561  2020-09-30  \n",
       "42100854    10015419  2020-09-30  \n",
       "42100855    22816791  2020-09-30  \n",
       "42100856     1648929  2020-09-30  \n",
       "42100857    22302533  2020-09-30  \n",
       "\n",
       "[42100858 rows x 12 columns]"
      ]
     },
     "execution_count": 3,
     "metadata": {},
     "output_type": "execute_result"
    }
   ],
   "source": [
    "file_path = os.path.join('data', '09_prepared.pkl.bz2') # September file prepared by V. Savchuk\n",
    "with bz2.open(file_path, 'rb') as f:\n",
    "    data = pickle.load(f)\n",
    "data['day'] = data['date'].dt.date\n",
    "data"
   ]
  },
  {
   "cell_type": "code",
   "execution_count": 4,
   "metadata": {},
   "outputs": [
    {
     "data": {
      "text/html": [
       "<div>\n",
       "<style scoped>\n",
       "    .dataframe tbody tr th:only-of-type {\n",
       "        vertical-align: middle;\n",
       "    }\n",
       "\n",
       "    .dataframe tbody tr th {\n",
       "        vertical-align: top;\n",
       "    }\n",
       "\n",
       "    .dataframe thead th {\n",
       "        text-align: right;\n",
       "    }\n",
       "</style>\n",
       "<table border=\"1\" class=\"dataframe\">\n",
       "  <thead>\n",
       "    <tr style=\"text-align: right;\">\n",
       "      <th></th>\n",
       "      <th>id_tov</th>\n",
       "      <th>id_group</th>\n",
       "      <th>name_group</th>\n",
       "    </tr>\n",
       "  </thead>\n",
       "  <tbody>\n",
       "    <tr>\n",
       "      <th>0</th>\n",
       "      <td>52</td>\n",
       "      <td>10004</td>\n",
       "      <td>Кисломолочные продукты</td>\n",
       "    </tr>\n",
       "    <tr>\n",
       "      <th>1</th>\n",
       "      <td>75</td>\n",
       "      <td>10004</td>\n",
       "      <td>Кисломолочные продукты</td>\n",
       "    </tr>\n",
       "    <tr>\n",
       "      <th>2</th>\n",
       "      <td>77</td>\n",
       "      <td>10004</td>\n",
       "      <td>Кисломолочные продукты</td>\n",
       "    </tr>\n",
       "    <tr>\n",
       "      <th>3</th>\n",
       "      <td>143</td>\n",
       "      <td>10004</td>\n",
       "      <td>Кисломолочные продукты</td>\n",
       "    </tr>\n",
       "    <tr>\n",
       "      <th>4</th>\n",
       "      <td>151</td>\n",
       "      <td>10004</td>\n",
       "      <td>Кисломолочные продукты</td>\n",
       "    </tr>\n",
       "    <tr>\n",
       "      <th>...</th>\n",
       "      <td>...</td>\n",
       "      <td>...</td>\n",
       "      <td>...</td>\n",
       "    </tr>\n",
       "    <tr>\n",
       "      <th>5645</th>\n",
       "      <td>40762</td>\n",
       "      <td>52194</td>\n",
       "      <td>Подарки и сувениры</td>\n",
       "    </tr>\n",
       "    <tr>\n",
       "      <th>5646</th>\n",
       "      <td>40763</td>\n",
       "      <td>52194</td>\n",
       "      <td>Подарки и сувениры</td>\n",
       "    </tr>\n",
       "    <tr>\n",
       "      <th>5647</th>\n",
       "      <td>40764</td>\n",
       "      <td>52194</td>\n",
       "      <td>Подарки и сувениры</td>\n",
       "    </tr>\n",
       "    <tr>\n",
       "      <th>5648</th>\n",
       "      <td>40765</td>\n",
       "      <td>52194</td>\n",
       "      <td>Подарки и сувениры</td>\n",
       "    </tr>\n",
       "    <tr>\n",
       "      <th>5649</th>\n",
       "      <td>34611</td>\n",
       "      <td>52406</td>\n",
       "      <td>Средства защиты</td>\n",
       "    </tr>\n",
       "  </tbody>\n",
       "</table>\n",
       "<p>5650 rows × 3 columns</p>\n",
       "</div>"
      ],
      "text/plain": [
       "      id_tov  id_group              name_group\n",
       "0         52     10004  Кисломолочные продукты\n",
       "1         75     10004  Кисломолочные продукты\n",
       "2         77     10004  Кисломолочные продукты\n",
       "3        143     10004  Кисломолочные продукты\n",
       "4        151     10004  Кисломолочные продукты\n",
       "...      ...       ...                     ...\n",
       "5645   40762     52194      Подарки и сувениры\n",
       "5646   40763     52194      Подарки и сувениры\n",
       "5647   40764     52194      Подарки и сувениры\n",
       "5648   40765     52194      Подарки и сувениры\n",
       "5649   34611     52406         Средства защиты\n",
       "\n",
       "[5650 rows x 3 columns]"
      ]
     },
     "execution_count": 4,
     "metadata": {},
     "output_type": "execute_result"
    }
   ],
   "source": [
    "# Convert groups file to pandas df\n",
    "product_groups_docx_file_path = os.path.join('data', 'product_groups.docx')\n",
    "product_groups_file_path = os.path.join('data', 'product_groups.csv')\n",
    "\n",
    "text = docx2txt.process(product_groups_docx_file_path)\n",
    "with open(product_groups_file_path, 'w+') as f:\n",
    "    f.write(text)\n",
    "\n",
    "product_groups_df = pd.read_csv(product_groups_file_path, sep=';')\n",
    "product_groups_df"
   ]
  },
  {
   "cell_type": "markdown",
   "metadata": {},
   "source": [
    "## Analysis"
   ]
  },
  {
   "cell_type": "code",
   "execution_count": 5,
   "metadata": {},
   "outputs": [],
   "source": [
    "outlier_customers = set()"
   ]
  },
  {
   "cell_type": "markdown",
   "metadata": {},
   "source": [
    "Let's find out are there any customers who make orders too frequent"
   ]
  },
  {
   "cell_type": "code",
   "execution_count": 6,
   "metadata": {},
   "outputs": [
    {
     "data": {
      "text/plain": [
       "<AxesSubplot:>"
      ]
     },
     "execution_count": 6,
     "metadata": {},
     "output_type": "execute_result"
    },
    {
     "data": {
      "image/png": "[encoded data removed]",
      "text/plain": [
       "<Figure size 432x288 with 1 Axes>"
      ]
     },
     "metadata": {
      "needs_background": "light"
     },
     "output_type": "display_data"
    }
   ],
   "source": [
    "order_number = data.groupby(['id_card_int']).size()\n",
    "pd.DataFrame(order_number).boxplot()"
   ]
  },
  {
   "cell_type": "markdown",
   "metadata": {},
   "source": [
    "That's for sure is an outlier."
   ]
  },
  {
   "cell_type": "code",
   "execution_count": 7,
   "metadata": {},
   "outputs": [
    {
     "data": {
      "text/plain": [
       "[883386]"
      ]
     },
     "execution_count": 7,
     "metadata": {},
     "output_type": "execute_result"
    }
   ],
   "source": [
    "too_frequent_customers = order_number[order_number > 175000].index.to_list()\n",
    "too_frequent_customers"
   ]
  },
  {
   "cell_type": "code",
   "execution_count": 8,
   "metadata": {},
   "outputs": [
    {
     "data": {
      "text/plain": [
       "<AxesSubplot:>"
      ]
     },
     "execution_count": 8,
     "metadata": {},
     "output_type": "execute_result"
    },
    {
     "data": {
      "image/png": "[encoded data removed]",
      "text/plain": [
       "<Figure size 432x288 with 1 Axes>"
      ]
     },
     "metadata": {
      "needs_background": "light"
     },
     "output_type": "display_data"
    }
   ],
   "source": [
    "pd.DataFrame(order_number[order_number < 25000]).boxplot()\n"
   ]
  },
  {
   "cell_type": "markdown",
   "metadata": {},
   "source": [
    "Others looks ok. 800 items per month is not much"
   ]
  },
  {
   "cell_type": "markdown",
   "metadata": {},
   "source": [
    "Ok, now we can check total sums of orders "
   ]
  },
  {
   "cell_type": "code",
   "execution_count": 9,
   "metadata": {},
   "outputs": [
    {
     "data": {
      "text/plain": [
       "<AxesSubplot:>"
      ]
     },
     "execution_count": 9,
     "metadata": {},
     "output_type": "execute_result"
    },
    {
     "data": {
      "image/png": "[encoded data removed]",
      "text/plain": [
       "<Figure size 432x288 with 1 Axes>"
      ]
     },
     "metadata": {
      "needs_background": "light"
     },
     "output_type": "display_data"
    }
   ],
   "source": [
    "total_order_sum = data[['sum', 'id_card_int']].groupby('id_card_int').sum()\n",
    "pd.DataFrame(total_order_sum).boxplot()\n"
   ]
  },
  {
   "cell_type": "code",
   "execution_count": 10,
   "metadata": {},
   "outputs": [
    {
     "data": {
      "text/plain": [
       "[883386]"
      ]
     },
     "execution_count": 10,
     "metadata": {},
     "output_type": "execute_result"
    }
   ],
   "source": [
    "too_rich_people = total_order_sum[total_order_sum['sum'] > 1e7].index.to_list()\n",
    "too_rich_people"
   ]
  },
  {
   "cell_type": "code",
   "execution_count": 11,
   "metadata": {},
   "outputs": [],
   "source": [
    "outlier_customers.update(too_rich_people)"
   ]
  },
  {
   "cell_type": "markdown",
   "metadata": {},
   "source": [
    "As was expected, this is the same customer. Looks like outlier\n",
    "But what if we will discard it?"
   ]
  },
  {
   "cell_type": "code",
   "execution_count": 12,
   "metadata": {},
   "outputs": [
    {
     "data": {
      "text/plain": [
       "<AxesSubplot:>"
      ]
     },
     "execution_count": 12,
     "metadata": {},
     "output_type": "execute_result"
    },
    {
     "data": {
      "image/png": "[encoded data removed]",
      "text/plain": [
       "<Figure size 432x288 with 1 Axes>"
      ]
     },
     "metadata": {
      "needs_background": "light"
     },
     "output_type": "display_data"
    }
   ],
   "source": [
    "pd.DataFrame(total_order_sum[total_order_sum < 1e7]).boxplot()"
   ]
  },
  {
   "cell_type": "markdown",
   "metadata": {},
   "source": [
    "Others look ok. They spent slightly less 200k in September."
   ]
  },
  {
   "cell_type": "markdown",
   "metadata": {},
   "source": [
    "What about too frequent daily shopping?"
   ]
  },
  {
   "cell_type": "code",
   "execution_count": 13,
   "metadata": {},
   "outputs": [],
   "source": [
    "daily_receipts_number= pd.DataFrame(data.groupby(['id_card_int', 'day'])['id_doc_int'].nunique())"
   ]
  },
  {
   "cell_type": "code",
   "execution_count": 14,
   "metadata": {},
   "outputs": [
    {
     "data": {
      "text/plain": [
       "<AxesSubplot:>"
      ]
     },
     "execution_count": 14,
     "metadata": {},
     "output_type": "execute_result"
    },
    {
     "data": {
      "image/png": "[encoded data removed]",
      "text/plain": [
       "<Figure size 432x288 with 1 Axes>"
      ]
     },
     "metadata": {
      "needs_background": "light"
     },
     "output_type": "display_data"
    }
   ],
   "source": [
    "daily_receipts_number.boxplot()"
   ]
  },
  {
   "cell_type": "code",
   "execution_count": 15,
   "metadata": {},
   "outputs": [
    {
     "data": {
      "text/plain": [
       "id_card_int  day       \n",
       "883386       2020-09-01    3181.0\n",
       "             2020-09-02    3197.0\n",
       "             2020-09-03    3241.0\n",
       "             2020-09-04    3225.0\n",
       "             2020-09-05    3105.0\n",
       "             2020-09-06    3083.0\n",
       "             2020-09-07    3223.0\n",
       "             2020-09-08    3259.0\n",
       "             2020-09-09    3246.0\n",
       "             2020-09-10    3253.0\n",
       "             2020-09-11    3210.0\n",
       "             2020-09-12    3115.0\n",
       "             2020-09-13    3097.0\n",
       "             2020-09-14    3239.0\n",
       "             2020-09-15    3285.0\n",
       "             2020-09-16    3254.0\n",
       "             2020-09-17    3258.0\n",
       "             2020-09-18    3236.0\n",
       "             2020-09-19    3149.0\n",
       "             2020-09-20    3146.0\n",
       "             2020-09-21    3264.0\n",
       "             2020-09-22    3323.0\n",
       "             2020-09-23    3293.0\n",
       "             2020-09-24    3299.0\n",
       "             2020-09-25    3296.0\n",
       "             2020-09-26    3186.0\n",
       "             2020-09-27    3172.0\n",
       "             2020-09-28    3306.0\n",
       "             2020-09-29    3271.0\n",
       "             2020-09-30    3307.0\n",
       "Name: id_doc_int, dtype: float64"
      ]
     },
     "execution_count": 15,
     "metadata": {},
     "output_type": "execute_result"
    }
   ],
   "source": [
    "daily_receipts_number[daily_receipts_number > 20]['id_doc_int'].dropna()"
   ]
  },
  {
   "cell_type": "markdown",
   "metadata": {},
   "source": [
    "As can be seen, 883386 goes to the store very frequently. Obviously...\n",
    "Let's discard it"
   ]
  },
  {
   "cell_type": "code",
   "execution_count": 16,
   "metadata": {},
   "outputs": [
    {
     "data": {
      "text/plain": [
       "<AxesSubplot:>"
      ]
     },
     "execution_count": 16,
     "metadata": {},
     "output_type": "execute_result"
    },
    {
     "data": {
      "image/png": "[encoded data removed]",
      "text/plain": [
       "<Figure size 432x288 with 1 Axes>"
      ]
     },
     "metadata": {
      "needs_background": "light"
     },
     "output_type": "display_data"
    }
   ],
   "source": [
    "daily_receipts_number[daily_receipts_number <= 20].boxplot()\n"
   ]
  },
  {
   "cell_type": "markdown",
   "metadata": {},
   "source": [
    "Looks ok"
   ]
  },
  {
   "cell_type": "code",
   "execution_count": 17,
   "metadata": {},
   "outputs": [],
   "source": [
    "result = pd.DataFrame(outlier_customers, columns=['id_card_int'])\n",
    "with open(\"fake_customers.pkl\", 'wb') as f:\n",
    "    pickle.dump(result, f)"
   ]
  }
 ],
 "metadata": {
  "kernelspec": {
   "display_name": "Python 3",
   "language": "python",
   "name": "python3"
  },
  "language_info": {
   "codemirror_mode": {
    "name": "ipython",
    "version": 3
   },
   "file_extension": ".py",
   "mimetype": "text/x-python",
   "name": "python",
   "nbconvert_exporter": "python",
   "pygments_lexer": "ipython3",
   "version": "3.8.5"
  },
  "metadata": {
   "interpreter": {
    "hash": "31f2aee4e71d21fbe5cf8b01ff0e069b9275f58929596ceb00d14d90e3e16cd6"
   }
  }
 },
 "nbformat": 4,
 "nbformat_minor": 2
}
