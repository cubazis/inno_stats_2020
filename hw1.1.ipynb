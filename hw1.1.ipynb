{
 "metadata": {
  "language_info": {
   "codemirror_mode": {
    "name": "ipython",
    "version": 3
   },
   "file_extension": ".py",
   "mimetype": "text/x-python",
   "name": "python",
   "nbconvert_exporter": "python",
   "pygments_lexer": "ipython3",
   "version": "3.8.6"
  },
  "orig_nbformat": 2,
  "kernelspec": {
   "name": "python38664bitstatvenvf35113133e8a4508b7600aaacd999e2c",
   "display_name": "Python 3.8.6 64-bit ('stat': venv)",
   "language": "python"
  }
 },
 "nbformat": 4,
 "nbformat_minor": 2,
 "cells": [
  {
   "cell_type": "code",
   "execution_count": 1,
   "metadata": {},
   "outputs": [],
   "source": [
    "from pathlib import Path\n",
    "import pandas as pd\n",
    "import gc\n",
    "from sklearn.preprocessing import LabelEncoder\n",
    "import pickle\n",
    "import bz2\n",
    "import matplotlib.pyplot as plt\n",
    "import numpy as np\n",
    "import docx2txt"
   ]
  },
  {
   "cell_type": "code",
   "execution_count": 2,
   "metadata": {},
   "outputs": [
    {
     "output_type": "stream",
     "name": "stdout",
     "text": [
      "09_prepared.pkl.bz2  10_prepared.pkl.bz2  11_prepared.pkl.bz2\n"
     ]
    }
   ],
   "source": [
    "data_dir = Path('data/prepared')\n",
    "!ls {data_dir}"
   ]
  },
  {
   "cell_type": "code",
   "execution_count": 3,
   "metadata": {},
   "outputs": [],
   "source": [
    "one = data_dir / '09_prepared.pkl.bz2'\n",
    "two = data_dir / '10_prepared.pkl.bz2'\n",
    "three = data_dir / '11_prepared.pkl.bz2'\n",
    "products_path = 'data/product_groups.docx'\n",
    "products_path_csv = 'data/product_groups.csv'"
   ]
  },
  {
   "cell_type": "code",
   "execution_count": 4,
   "metadata": {},
   "outputs": [
    {
     "output_type": "execute_result",
     "data": {
      "text/plain": [
       "      id_tov  id_group              name_group\n",
       "0         52     10004  Кисломолочные продукты\n",
       "1         75     10004  Кисломолочные продукты\n",
       "2         77     10004  Кисломолочные продукты\n",
       "3        143     10004  Кисломолочные продукты\n",
       "4        151     10004  Кисломолочные продукты\n",
       "...      ...       ...                     ...\n",
       "5645   40762     52194      Подарки и сувениры\n",
       "5646   40763     52194      Подарки и сувениры\n",
       "5647   40764     52194      Подарки и сувениры\n",
       "5648   40765     52194      Подарки и сувениры\n",
       "5649   34611     52406         Средства защиты\n",
       "\n",
       "[5650 rows x 3 columns]"
      ],
      "text/html": "<div>\n<style scoped>\n    .dataframe tbody tr th:only-of-type {\n        vertical-align: middle;\n    }\n\n    .dataframe tbody tr th {\n        vertical-align: top;\n    }\n\n    .dataframe thead th {\n        text-align: right;\n    }\n</style>\n<table border=\"1\" class=\"dataframe\">\n  <thead>\n    <tr style=\"text-align: right;\">\n      <th></th>\n      <th>id_tov</th>\n      <th>id_group</th>\n      <th>name_group</th>\n    </tr>\n  </thead>\n  <tbody>\n    <tr>\n      <th>0</th>\n      <td>52</td>\n      <td>10004</td>\n      <td>Кисломолочные продукты</td>\n    </tr>\n    <tr>\n      <th>1</th>\n      <td>75</td>\n      <td>10004</td>\n      <td>Кисломолочные продукты</td>\n    </tr>\n    <tr>\n      <th>2</th>\n      <td>77</td>\n      <td>10004</td>\n      <td>Кисломолочные продукты</td>\n    </tr>\n    <tr>\n      <th>3</th>\n      <td>143</td>\n      <td>10004</td>\n      <td>Кисломолочные продукты</td>\n    </tr>\n    <tr>\n      <th>4</th>\n      <td>151</td>\n      <td>10004</td>\n      <td>Кисломолочные продукты</td>\n    </tr>\n    <tr>\n      <th>...</th>\n      <td>...</td>\n      <td>...</td>\n      <td>...</td>\n    </tr>\n    <tr>\n      <th>5645</th>\n      <td>40762</td>\n      <td>52194</td>\n      <td>Подарки и сувениры</td>\n    </tr>\n    <tr>\n      <th>5646</th>\n      <td>40763</td>\n      <td>52194</td>\n      <td>Подарки и сувениры</td>\n    </tr>\n    <tr>\n      <th>5647</th>\n      <td>40764</td>\n      <td>52194</td>\n      <td>Подарки и сувениры</td>\n    </tr>\n    <tr>\n      <th>5648</th>\n      <td>40765</td>\n      <td>52194</td>\n      <td>Подарки и сувениры</td>\n    </tr>\n    <tr>\n      <th>5649</th>\n      <td>34611</td>\n      <td>52406</td>\n      <td>Средства защиты</td>\n    </tr>\n  </tbody>\n</table>\n<p>5650 rows × 3 columns</p>\n</div>"
     },
     "metadata": {},
     "execution_count": 4
    }
   ],
   "source": [
    "text = docx2txt.process(products_path)\n",
    "with open(products_path_csv, 'w+') as f:\n",
    "    f.write(text)\n",
    "\n",
    "df_prod = pd.read_csv(products_path_csv, sep=';')\n",
    "df_prod"
   ]
  },
  {
   "cell_type": "code",
   "execution_count": 5,
   "metadata": {},
   "outputs": [
    {
     "output_type": "execute_result",
     "data": {
      "text/plain": [
       "                 date                                id_doc  id_order  \\\n",
       "0 2020-09-01 17:01:25  0E05D308-5CEC-EA11-B444-005056A7539A         0   \n",
       "1 2020-09-01 17:35:36  610205A1-61EC-EA11-B444-005056A7539A         0   \n",
       "2 2020-09-01 19:19:21  8AF19602-70EC-EA11-B444-005056A7539A         0   \n",
       "3 2020-09-01 21:53:34  EB6C71A3-84EC-EA11-B444-005056A7539A         0   \n",
       "4 2020-09-01 18:42:31  0706023F-6BEC-EA11-B444-005056A7539A         0   \n",
       "\n",
       "   id_card  id_tov  id_kontr  quantity     sum  is_green  id_card_int  \\\n",
       "0  8594499      52       271       1.0  108.00     False      1538855   \n",
       "1  1452388      52       271       1.0  108.00     False       267307   \n",
       "2  3493538      52       271       1.0  107.95     False       610220   \n",
       "3  2491281      52       271       1.0  108.00     False       441497   \n",
       "4  5732396      61        97       2.0   88.00     False      1065358   \n",
       "\n",
       "   id_doc_int  \n",
       "0     1283228  \n",
       "1     8873113  \n",
       "2    12712899  \n",
       "3    21535283  \n",
       "4      642341  "
      ],
      "text/html": "<div>\n<style scoped>\n    .dataframe tbody tr th:only-of-type {\n        vertical-align: middle;\n    }\n\n    .dataframe tbody tr th {\n        vertical-align: top;\n    }\n\n    .dataframe thead th {\n        text-align: right;\n    }\n</style>\n<table border=\"1\" class=\"dataframe\">\n  <thead>\n    <tr style=\"text-align: right;\">\n      <th></th>\n      <th>date</th>\n      <th>id_doc</th>\n      <th>id_order</th>\n      <th>id_card</th>\n      <th>id_tov</th>\n      <th>id_kontr</th>\n      <th>quantity</th>\n      <th>sum</th>\n      <th>is_green</th>\n      <th>id_card_int</th>\n      <th>id_doc_int</th>\n    </tr>\n  </thead>\n  <tbody>\n    <tr>\n      <th>0</th>\n      <td>2020-09-01 17:01:25</td>\n      <td>0E05D308-5CEC-EA11-B444-005056A7539A</td>\n      <td>0</td>\n      <td>8594499</td>\n      <td>52</td>\n      <td>271</td>\n      <td>1.0</td>\n      <td>108.00</td>\n      <td>False</td>\n      <td>1538855</td>\n      <td>1283228</td>\n    </tr>\n    <tr>\n      <th>1</th>\n      <td>2020-09-01 17:35:36</td>\n      <td>610205A1-61EC-EA11-B444-005056A7539A</td>\n      <td>0</td>\n      <td>1452388</td>\n      <td>52</td>\n      <td>271</td>\n      <td>1.0</td>\n      <td>108.00</td>\n      <td>False</td>\n      <td>267307</td>\n      <td>8873113</td>\n    </tr>\n    <tr>\n      <th>2</th>\n      <td>2020-09-01 19:19:21</td>\n      <td>8AF19602-70EC-EA11-B444-005056A7539A</td>\n      <td>0</td>\n      <td>3493538</td>\n      <td>52</td>\n      <td>271</td>\n      <td>1.0</td>\n      <td>107.95</td>\n      <td>False</td>\n      <td>610220</td>\n      <td>12712899</td>\n    </tr>\n    <tr>\n      <th>3</th>\n      <td>2020-09-01 21:53:34</td>\n      <td>EB6C71A3-84EC-EA11-B444-005056A7539A</td>\n      <td>0</td>\n      <td>2491281</td>\n      <td>52</td>\n      <td>271</td>\n      <td>1.0</td>\n      <td>108.00</td>\n      <td>False</td>\n      <td>441497</td>\n      <td>21535283</td>\n    </tr>\n    <tr>\n      <th>4</th>\n      <td>2020-09-01 18:42:31</td>\n      <td>0706023F-6BEC-EA11-B444-005056A7539A</td>\n      <td>0</td>\n      <td>5732396</td>\n      <td>61</td>\n      <td>97</td>\n      <td>2.0</td>\n      <td>88.00</td>\n      <td>False</td>\n      <td>1065358</td>\n      <td>642341</td>\n    </tr>\n  </tbody>\n</table>\n</div>"
     },
     "metadata": {},
     "execution_count": 5
    }
   ],
   "source": [
    "with bz2.open(one, 'rb') as f:\n",
    "    df1 = pickle.load(f)\n",
    "df1.head()"
   ]
  },
  {
   "cell_type": "code",
   "execution_count": null,
   "metadata": {},
   "outputs": [],
   "source": [
    "with bz2.open(two, 'rb') as f:\n",
    "    df2 = pickle.load(f)\n",
    "df2.head()"
   ]
  },
  {
   "cell_type": "code",
   "execution_count": null,
   "metadata": {},
   "outputs": [],
   "source": [
    "with bz2.open(three, 'rb') as f:\n",
    "    df3 = pickle.load(f)\n",
    "df3.head()"
   ]
  },
  {
   "source": [
    "First, I looked if there is some noise on the lower end. Like is some values are strange, and ,who would've thought, there are. Sum has 69 orders that are less then 0 ( it also has 20k+ orders with sum == 0, but it seems to be a feature). Also quantity can be 0 or lower. These may be just noize, errors or some special mark of inter-store transactions (the ones with sum==0 may be same, but there are too much of them to ignore\n",
    ")."
   ],
   "cell_type": "markdown",
   "metadata": {}
  },
  {
   "cell_type": "code",
   "execution_count": 40,
   "metadata": {},
   "outputs": [
    {
     "output_type": "execute_result",
     "data": {
      "text/plain": [
       "           quantity\n",
       "count  1.358089e+06\n",
       "mean   1.403014e+00\n",
       "std    1.189936e+01\n",
       "min    3.400000e-02\n",
       "25%    1.000000e+00\n",
       "50%    1.053500e+00\n",
       "75%    1.250000e+00\n",
       "max    2.500500e+03"
      ],
      "text/html": "<div>\n<style scoped>\n    .dataframe tbody tr th:only-of-type {\n        vertical-align: middle;\n    }\n\n    .dataframe tbody tr th {\n        vertical-align: top;\n    }\n\n    .dataframe thead th {\n        text-align: right;\n    }\n</style>\n<table border=\"1\" class=\"dataframe\">\n  <thead>\n    <tr style=\"text-align: right;\">\n      <th></th>\n      <th>quantity</th>\n    </tr>\n  </thead>\n  <tbody>\n    <tr>\n      <th>count</th>\n      <td>1.358089e+06</td>\n    </tr>\n    <tr>\n      <th>mean</th>\n      <td>1.403014e+00</td>\n    </tr>\n    <tr>\n      <th>std</th>\n      <td>1.189936e+01</td>\n    </tr>\n    <tr>\n      <th>min</th>\n      <td>3.400000e-02</td>\n    </tr>\n    <tr>\n      <th>25%</th>\n      <td>1.000000e+00</td>\n    </tr>\n    <tr>\n      <th>50%</th>\n      <td>1.053500e+00</td>\n    </tr>\n    <tr>\n      <th>75%</th>\n      <td>1.250000e+00</td>\n    </tr>\n    <tr>\n      <th>max</th>\n      <td>2.500500e+03</td>\n    </tr>\n  </tbody>\n</table>\n</div>"
     },
     "metadata": {},
     "execution_count": 40
    }
   ],
   "source": [
    "df1[['id_card_int','quantity']].groupby('id_card_int').mean().describe()\n",
    "# here we can strange min and max, that are clearly outliers"
   ]
  },
  {
   "cell_type": "code",
   "execution_count": 39,
   "metadata": {},
   "outputs": [
    {
     "output_type": "execute_result",
     "data": {
      "text/plain": [
       "                sum\n",
       "count  1.358089e+06\n",
       "mean   1.191979e+02\n",
       "std    6.456538e+01\n",
       "min    0.000000e+00\n",
       "25%    8.558579e+01\n",
       "50%    1.095796e+02\n",
       "75%    1.380000e+02\n",
       "max    7.760747e+03"
      ],
      "text/html": "<div>\n<style scoped>\n    .dataframe tbody tr th:only-of-type {\n        vertical-align: middle;\n    }\n\n    .dataframe tbody tr th {\n        vertical-align: top;\n    }\n\n    .dataframe thead th {\n        text-align: right;\n    }\n</style>\n<table border=\"1\" class=\"dataframe\">\n  <thead>\n    <tr style=\"text-align: right;\">\n      <th></th>\n      <th>sum</th>\n    </tr>\n  </thead>\n  <tbody>\n    <tr>\n      <th>count</th>\n      <td>1.358089e+06</td>\n    </tr>\n    <tr>\n      <th>mean</th>\n      <td>1.191979e+02</td>\n    </tr>\n    <tr>\n      <th>std</th>\n      <td>6.456538e+01</td>\n    </tr>\n    <tr>\n      <th>min</th>\n      <td>0.000000e+00</td>\n    </tr>\n    <tr>\n      <th>25%</th>\n      <td>8.558579e+01</td>\n    </tr>\n    <tr>\n      <th>50%</th>\n      <td>1.095796e+02</td>\n    </tr>\n    <tr>\n      <th>75%</th>\n      <td>1.380000e+02</td>\n    </tr>\n    <tr>\n      <th>max</th>\n      <td>7.760747e+03</td>\n    </tr>\n  </tbody>\n</table>\n</div>"
     },
     "metadata": {},
     "execution_count": 39
    }
   ],
   "source": [
    "df1[['id_card_int','sum']].groupby('id_card_int').mean().describe()"
   ]
  },
  {
   "cell_type": "code",
   "execution_count": 20,
   "metadata": {},
   "outputs": [
    {
     "output_type": "execute_result",
     "data": {
      "text/plain": [
       "                        date                                id_doc  id_order  \\\n",
       "4206092  2020-09-04 09:10:21  827B9591-75EE-EA11-B444-005056A7539A         0   \n",
       "4206102  2020-09-04 09:09:24  F6807973-75EE-EA11-B444-005056A7539A         0   \n",
       "4210124  2020-09-04 08:37:00  49C21AF5-70EE-EA11-B444-005056A7539A         0   \n",
       "4218019  2020-09-04 08:43:37  B681FEE3-71EE-EA11-B444-005056A7539A         0   \n",
       "4218021  2020-09-04 08:43:37  B681FEE3-71EE-EA11-B444-005056A7539A         0   \n",
       "...                      ...                                   ...       ...   \n",
       "5396780  2020-09-04 08:37:49  1CC214FB-70EE-EA11-B444-005056A7539A         0   \n",
       "5438901  2020-09-04 09:28:21  E6F17E03-78EE-EA11-B444-005056A7539A         0   \n",
       "5450157  2020-09-04 09:21:17  CD1BCB2C-77EE-EA11-B444-005056A7539A         0   \n",
       "5450159  2020-09-04 09:21:17  CD1BCB2C-77EE-EA11-B444-005056A7539A         0   \n",
       "37898334 2020-09-28 20:07:06  941F4995-AE01-EB11-B444-005056A7539A   6587167   \n",
       "\n",
       "          id_card  id_tov  id_kontr  quantity     sum  is_green  id_card_int  \\\n",
       "4206092   7009929   23074     19269     1.268 -470.43     False      1301664   \n",
       "4206102   7707981   23074     19269     1.268 -470.43     False      1419650   \n",
       "4210124   5554550   23074     19269     1.084 -402.16     False      1035577   \n",
       "4218019   0643258   23074     19269     0.001   -0.37     False       126995   \n",
       "4218021   0643258   23074     19269     2.375 -881.13     False       126995   \n",
       "...           ...     ...       ...       ...     ...       ...          ...   \n",
       "5396780   4916790   23074     19269     1.236 -458.56     False       906517   \n",
       "5438901   5931979   23074     19269     0.572 -212.21     False      1102820   \n",
       "5450157   3290674   23074     19269     0.915 -339.47     False       574393   \n",
       "5450159   3290674   23074     19269     0.915 -339.47     False       574393   \n",
       "37898334  1768372   22492       102     1.000   -0.01     False       322028   \n",
       "\n",
       "          id_doc_int  \n",
       "4206092     11939194  \n",
       "4206102     22549976  \n",
       "4210124      6745380  \n",
       "4218019     16694740  \n",
       "4218021     16694740  \n",
       "...              ...  \n",
       "5396780      2630312  \n",
       "5438901     21125316  \n",
       "5450157     18763274  \n",
       "5450159     18763274  \n",
       "37898334    13550999  \n",
       "\n",
       "[69 rows x 11 columns]"
      ],
      "text/html": "<div>\n<style scoped>\n    .dataframe tbody tr th:only-of-type {\n        vertical-align: middle;\n    }\n\n    .dataframe tbody tr th {\n        vertical-align: top;\n    }\n\n    .dataframe thead th {\n        text-align: right;\n    }\n</style>\n<table border=\"1\" class=\"dataframe\">\n  <thead>\n    <tr style=\"text-align: right;\">\n      <th></th>\n      <th>date</th>\n      <th>id_doc</th>\n      <th>id_order</th>\n      <th>id_card</th>\n      <th>id_tov</th>\n      <th>id_kontr</th>\n      <th>quantity</th>\n      <th>sum</th>\n      <th>is_green</th>\n      <th>id_card_int</th>\n      <th>id_doc_int</th>\n    </tr>\n  </thead>\n  <tbody>\n    <tr>\n      <th>4206092</th>\n      <td>2020-09-04 09:10:21</td>\n      <td>827B9591-75EE-EA11-B444-005056A7539A</td>\n      <td>0</td>\n      <td>7009929</td>\n      <td>23074</td>\n      <td>19269</td>\n      <td>1.268</td>\n      <td>-470.43</td>\n      <td>False</td>\n      <td>1301664</td>\n      <td>11939194</td>\n    </tr>\n    <tr>\n      <th>4206102</th>\n      <td>2020-09-04 09:09:24</td>\n      <td>F6807973-75EE-EA11-B444-005056A7539A</td>\n      <td>0</td>\n      <td>7707981</td>\n      <td>23074</td>\n      <td>19269</td>\n      <td>1.268</td>\n      <td>-470.43</td>\n      <td>False</td>\n      <td>1419650</td>\n      <td>22549976</td>\n    </tr>\n    <tr>\n      <th>4210124</th>\n      <td>2020-09-04 08:37:00</td>\n      <td>49C21AF5-70EE-EA11-B444-005056A7539A</td>\n      <td>0</td>\n      <td>5554550</td>\n      <td>23074</td>\n      <td>19269</td>\n      <td>1.084</td>\n      <td>-402.16</td>\n      <td>False</td>\n      <td>1035577</td>\n      <td>6745380</td>\n    </tr>\n    <tr>\n      <th>4218019</th>\n      <td>2020-09-04 08:43:37</td>\n      <td>B681FEE3-71EE-EA11-B444-005056A7539A</td>\n      <td>0</td>\n      <td>0643258</td>\n      <td>23074</td>\n      <td>19269</td>\n      <td>0.001</td>\n      <td>-0.37</td>\n      <td>False</td>\n      <td>126995</td>\n      <td>16694740</td>\n    </tr>\n    <tr>\n      <th>4218021</th>\n      <td>2020-09-04 08:43:37</td>\n      <td>B681FEE3-71EE-EA11-B444-005056A7539A</td>\n      <td>0</td>\n      <td>0643258</td>\n      <td>23074</td>\n      <td>19269</td>\n      <td>2.375</td>\n      <td>-881.13</td>\n      <td>False</td>\n      <td>126995</td>\n      <td>16694740</td>\n    </tr>\n    <tr>\n      <th>...</th>\n      <td>...</td>\n      <td>...</td>\n      <td>...</td>\n      <td>...</td>\n      <td>...</td>\n      <td>...</td>\n      <td>...</td>\n      <td>...</td>\n      <td>...</td>\n      <td>...</td>\n      <td>...</td>\n    </tr>\n    <tr>\n      <th>5396780</th>\n      <td>2020-09-04 08:37:49</td>\n      <td>1CC214FB-70EE-EA11-B444-005056A7539A</td>\n      <td>0</td>\n      <td>4916790</td>\n      <td>23074</td>\n      <td>19269</td>\n      <td>1.236</td>\n      <td>-458.56</td>\n      <td>False</td>\n      <td>906517</td>\n      <td>2630312</td>\n    </tr>\n    <tr>\n      <th>5438901</th>\n      <td>2020-09-04 09:28:21</td>\n      <td>E6F17E03-78EE-EA11-B444-005056A7539A</td>\n      <td>0</td>\n      <td>5931979</td>\n      <td>23074</td>\n      <td>19269</td>\n      <td>0.572</td>\n      <td>-212.21</td>\n      <td>False</td>\n      <td>1102820</td>\n      <td>21125316</td>\n    </tr>\n    <tr>\n      <th>5450157</th>\n      <td>2020-09-04 09:21:17</td>\n      <td>CD1BCB2C-77EE-EA11-B444-005056A7539A</td>\n      <td>0</td>\n      <td>3290674</td>\n      <td>23074</td>\n      <td>19269</td>\n      <td>0.915</td>\n      <td>-339.47</td>\n      <td>False</td>\n      <td>574393</td>\n      <td>18763274</td>\n    </tr>\n    <tr>\n      <th>5450159</th>\n      <td>2020-09-04 09:21:17</td>\n      <td>CD1BCB2C-77EE-EA11-B444-005056A7539A</td>\n      <td>0</td>\n      <td>3290674</td>\n      <td>23074</td>\n      <td>19269</td>\n      <td>0.915</td>\n      <td>-339.47</td>\n      <td>False</td>\n      <td>574393</td>\n      <td>18763274</td>\n    </tr>\n    <tr>\n      <th>37898334</th>\n      <td>2020-09-28 20:07:06</td>\n      <td>941F4995-AE01-EB11-B444-005056A7539A</td>\n      <td>6587167</td>\n      <td>1768372</td>\n      <td>22492</td>\n      <td>102</td>\n      <td>1.000</td>\n      <td>-0.01</td>\n      <td>False</td>\n      <td>322028</td>\n      <td>13550999</td>\n    </tr>\n  </tbody>\n</table>\n<p>69 rows × 11 columns</p>\n</div>"
     },
     "metadata": {},
     "execution_count": 20
    }
   ],
   "source": [
    "df1[df1['sum'] < 0]"
   ]
  },
  {
   "cell_type": "code",
   "execution_count": 42,
   "metadata": {},
   "outputs": [
    {
     "output_type": "execute_result",
     "data": {
      "text/plain": [
       "array([1301664, 1419650, 1035577,  126995,  417317,  134497,  499226,\n",
       "        707815, 1374348,  611055, 1348391, 1434934, 1837262,  388857,\n",
       "       1273966, 1789797, 1666466,  867354,  609910,  853388,  768501,\n",
       "        748956, 1694538,  258353,  430505, 1308696,  902664,  568502,\n",
       "        308154,  605762,  886656,   43295,  253299,  150211,  219744,\n",
       "        986409, 1192787,  526910, 1247073,  733858, 1827079,  472833,\n",
       "         48370, 1425778,  144164,   85962,   28238, 1485723,  718534,\n",
       "        116276, 1588589,  446374,  100408, 1538576,  906517, 1102820,\n",
       "        574393,  322028])"
      ]
     },
     "metadata": {},
     "execution_count": 42
    }
   ],
   "source": [
    "df1[df1['sum'] < 0]['id_card_int'].unique()"
   ]
  },
  {
   "cell_type": "code",
   "execution_count": 13,
   "metadata": {},
   "outputs": [
    {
     "output_type": "execute_result",
     "data": {
      "text/plain": [
       "                        date                                id_doc  id_order  \\\n",
       "76223    2020-09-01 19:48:39  FB34A539-74EC-EA11-B444-005056A7539A   5588920   \n",
       "144688   2020-09-01 17:10:48  4089BF02-5DEC-EA11-B444-005056A7539A         0   \n",
       "1211336  2020-09-01 19:50:39  2FD6C495-74EC-EA11-B444-005056A7539A         0   \n",
       "1649328  2020-09-02 22:07:29  40D624F8-4FED-EA11-B444-005056A7539A         0   \n",
       "2013148  2020-09-02 16:28:46  4D29BB5A-20ED-EA11-B444-005056A7539A         0   \n",
       "...                      ...                                   ...       ...   \n",
       "40844727 2020-09-30 20:07:33  24CECE9A-3F03-EB11-B444-005056A7539A         0   \n",
       "40845729 2020-09-30 20:07:33  24CECE9A-3F03-EB11-B444-005056A7539A         0   \n",
       "41157457 2020-09-30 17:58:33  CDA17091-2E03-EB11-B444-005056A7539A         0   \n",
       "41705116 2020-09-30 13:05:17  0B27EEE3-0403-EB11-B444-005056A7539A         0   \n",
       "41942364 2020-09-30 17:19:19  C51EA512-2803-EB11-B444-005056A7539A         0   \n",
       "\n",
       "          id_card  id_tov  id_kontr  quantity   sum  is_green  id_card_int  \\\n",
       "76223     0586045   15738     19687       0.0  0.79     False       116224   \n",
       "144688    A485529   28662     19687       0.0  0.89     False      1741530   \n",
       "1211336   5259037   23008     17616       0.0  0.51     False       974892   \n",
       "1649328   0761743     731     17268       0.0  0.14     False       145090   \n",
       "2013148   0988768     731     21309       0.0  0.18     False       183930   \n",
       "...           ...     ...       ...       ...   ...       ...          ...   \n",
       "40844727  0139028   22911     17394       0.0  0.23     False        29462   \n",
       "40845729  0139028   37885     19438       0.0  0.38     False        29462   \n",
       "41157457  3807306   22911     17394       0.0  0.46     False       670914   \n",
       "41705116  4176864   15817     15255       0.0  0.22     False       748972   \n",
       "41942364  3623703   15917     16612       0.0  0.26     False       634804   \n",
       "\n",
       "          id_doc_int  \n",
       "76223       22979294  \n",
       "144688       5901464  \n",
       "1211336      4375162  \n",
       "1649328      5928667  \n",
       "2013148      7056809  \n",
       "...              ...  \n",
       "40844727     3367001  \n",
       "40845729     3367001  \n",
       "41157457    18810832  \n",
       "41705116     1020540  \n",
       "41942364    18030589  \n",
       "\n",
       "[221 rows x 11 columns]"
      ],
      "text/html": "<div>\n<style scoped>\n    .dataframe tbody tr th:only-of-type {\n        vertical-align: middle;\n    }\n\n    .dataframe tbody tr th {\n        vertical-align: top;\n    }\n\n    .dataframe thead th {\n        text-align: right;\n    }\n</style>\n<table border=\"1\" class=\"dataframe\">\n  <thead>\n    <tr style=\"text-align: right;\">\n      <th></th>\n      <th>date</th>\n      <th>id_doc</th>\n      <th>id_order</th>\n      <th>id_card</th>\n      <th>id_tov</th>\n      <th>id_kontr</th>\n      <th>quantity</th>\n      <th>sum</th>\n      <th>is_green</th>\n      <th>id_card_int</th>\n      <th>id_doc_int</th>\n    </tr>\n  </thead>\n  <tbody>\n    <tr>\n      <th>76223</th>\n      <td>2020-09-01 19:48:39</td>\n      <td>FB34A539-74EC-EA11-B444-005056A7539A</td>\n      <td>5588920</td>\n      <td>0586045</td>\n      <td>15738</td>\n      <td>19687</td>\n      <td>0.0</td>\n      <td>0.79</td>\n      <td>False</td>\n      <td>116224</td>\n      <td>22979294</td>\n    </tr>\n    <tr>\n      <th>144688</th>\n      <td>2020-09-01 17:10:48</td>\n      <td>4089BF02-5DEC-EA11-B444-005056A7539A</td>\n      <td>0</td>\n      <td>A485529</td>\n      <td>28662</td>\n      <td>19687</td>\n      <td>0.0</td>\n      <td>0.89</td>\n      <td>False</td>\n      <td>1741530</td>\n      <td>5901464</td>\n    </tr>\n    <tr>\n      <th>1211336</th>\n      <td>2020-09-01 19:50:39</td>\n      <td>2FD6C495-74EC-EA11-B444-005056A7539A</td>\n      <td>0</td>\n      <td>5259037</td>\n      <td>23008</td>\n      <td>17616</td>\n      <td>0.0</td>\n      <td>0.51</td>\n      <td>False</td>\n      <td>974892</td>\n      <td>4375162</td>\n    </tr>\n    <tr>\n      <th>1649328</th>\n      <td>2020-09-02 22:07:29</td>\n      <td>40D624F8-4FED-EA11-B444-005056A7539A</td>\n      <td>0</td>\n      <td>0761743</td>\n      <td>731</td>\n      <td>17268</td>\n      <td>0.0</td>\n      <td>0.14</td>\n      <td>False</td>\n      <td>145090</td>\n      <td>5928667</td>\n    </tr>\n    <tr>\n      <th>2013148</th>\n      <td>2020-09-02 16:28:46</td>\n      <td>4D29BB5A-20ED-EA11-B444-005056A7539A</td>\n      <td>0</td>\n      <td>0988768</td>\n      <td>731</td>\n      <td>21309</td>\n      <td>0.0</td>\n      <td>0.18</td>\n      <td>False</td>\n      <td>183930</td>\n      <td>7056809</td>\n    </tr>\n    <tr>\n      <th>...</th>\n      <td>...</td>\n      <td>...</td>\n      <td>...</td>\n      <td>...</td>\n      <td>...</td>\n      <td>...</td>\n      <td>...</td>\n      <td>...</td>\n      <td>...</td>\n      <td>...</td>\n      <td>...</td>\n    </tr>\n    <tr>\n      <th>40844727</th>\n      <td>2020-09-30 20:07:33</td>\n      <td>24CECE9A-3F03-EB11-B444-005056A7539A</td>\n      <td>0</td>\n      <td>0139028</td>\n      <td>22911</td>\n      <td>17394</td>\n      <td>0.0</td>\n      <td>0.23</td>\n      <td>False</td>\n      <td>29462</td>\n      <td>3367001</td>\n    </tr>\n    <tr>\n      <th>40845729</th>\n      <td>2020-09-30 20:07:33</td>\n      <td>24CECE9A-3F03-EB11-B444-005056A7539A</td>\n      <td>0</td>\n      <td>0139028</td>\n      <td>37885</td>\n      <td>19438</td>\n      <td>0.0</td>\n      <td>0.38</td>\n      <td>False</td>\n      <td>29462</td>\n      <td>3367001</td>\n    </tr>\n    <tr>\n      <th>41157457</th>\n      <td>2020-09-30 17:58:33</td>\n      <td>CDA17091-2E03-EB11-B444-005056A7539A</td>\n      <td>0</td>\n      <td>3807306</td>\n      <td>22911</td>\n      <td>17394</td>\n      <td>0.0</td>\n      <td>0.46</td>\n      <td>False</td>\n      <td>670914</td>\n      <td>18810832</td>\n    </tr>\n    <tr>\n      <th>41705116</th>\n      <td>2020-09-30 13:05:17</td>\n      <td>0B27EEE3-0403-EB11-B444-005056A7539A</td>\n      <td>0</td>\n      <td>4176864</td>\n      <td>15817</td>\n      <td>15255</td>\n      <td>0.0</td>\n      <td>0.22</td>\n      <td>False</td>\n      <td>748972</td>\n      <td>1020540</td>\n    </tr>\n    <tr>\n      <th>41942364</th>\n      <td>2020-09-30 17:19:19</td>\n      <td>C51EA512-2803-EB11-B444-005056A7539A</td>\n      <td>0</td>\n      <td>3623703</td>\n      <td>15917</td>\n      <td>16612</td>\n      <td>0.0</td>\n      <td>0.26</td>\n      <td>False</td>\n      <td>634804</td>\n      <td>18030589</td>\n    </tr>\n  </tbody>\n</table>\n<p>221 rows × 11 columns</p>\n</div>"
     },
     "metadata": {},
     "execution_count": 13
    }
   ],
   "source": [
    "df1[df1['quantity']<=0]"
   ]
  },
  {
   "cell_type": "code",
   "execution_count": 43,
   "metadata": {},
   "outputs": [
    {
     "output_type": "execute_result",
     "data": {
      "text/plain": [
       "array([ 116224, 1741530,  974892,  145090,  183930, 1453506, 1268126,\n",
       "        792937, 1126758, 1765037, 1301664, 1419650, 1035577,  126995,\n",
       "        417317,  134497,  499226,  707815, 1374348,  611055, 1348391,\n",
       "       1434934, 1837262,  388857, 1273966, 1789797, 1666466,  867354,\n",
       "        609910,  853388,  768501,  748956, 1694538,  258353, 1673423,\n",
       "        430505, 1308696,  902664,  568502,  308154,  605762,  886656,\n",
       "         43295,  253299,  150211,  219744,  986409, 1192787,  526910,\n",
       "       1247073,  733858, 1827079,  472833,  302382,   48370, 1425778,\n",
       "        144164,   85962,   28238, 1485723,  718534,  116276, 1588589,\n",
       "        446374,  100408, 1538576,  906517, 1102820,  574393,  894939,\n",
       "        599030,  812051,  804951, 1682205, 1305495,  301680,  552414,\n",
       "       1430504,  197671,  987507, 1368638,  244598, 1185383, 1061023,\n",
       "         16609,  757237,  940826, 1901172, 1379458,  253108,  335958,\n",
       "       1858483,  230994, 1226065,  840555,   12751,  202158, 1821422,\n",
       "        392789, 1494847,  522727, 1356401, 1555518, 1479848, 1271083,\n",
       "        683417,  274459,  805331, 1557550, 1108933,  302941,  645371,\n",
       "        311297, 1333081, 1836734,  434550,  431722,  947629,  931774,\n",
       "         17689, 1766517,  375457,  719315,  720791,  847747,   65507,\n",
       "       1731120,  167734,   29462,  670914,  748972,  634804])"
      ]
     },
     "metadata": {},
     "execution_count": 43
    }
   ],
   "source": [
    "df1[df1['quantity'] <= 0]['id_card_int'].unique()"
   ]
  },
  {
   "source": [
    "Next, I looked at the higher end."
   ],
   "cell_type": "markdown",
   "metadata": {}
  },
  {
   "source": [
    "Here we see the ones with large quantities and zero sum. Seems like an inter-store for me."
   ],
   "cell_type": "markdown",
   "metadata": {}
  },
  {
   "cell_type": "code",
   "execution_count": 48,
   "metadata": {},
   "outputs": [
    {
     "output_type": "execute_result",
     "data": {
      "text/plain": [
       "                        date                                id_doc  id_order  \\\n",
       "27520    2020-09-01 13:32:18  EDEB3984-3FEC-EA11-B444-005056A7539A         0   \n",
       "37567    2020-09-01 15:53:48  34DFE7D7-52EC-EA11-B444-005056A7539A         0   \n",
       "43897    2020-09-01 12:51:22  E913E777-39EC-EA11-B444-005056A7539A         0   \n",
       "57565    2020-09-01 21:20:20  9D9C911C-80EC-EA11-B444-005056A7539A         0   \n",
       "69522    2020-09-01 11:14:28  5ED8B16A-2BEC-EA11-B444-005056A7539A         0   \n",
       "...                      ...                                   ...       ...   \n",
       "42051074 2020-09-30 21:32:58  9ED8426C-4C03-EB11-B444-005056A7539A         0   \n",
       "42082068 2020-09-30 15:02:54  2452AABF-1503-EB11-B444-005056A7539A         0   \n",
       "42082069 2020-09-30 17:27:05  4B5E1B0D-2A03-EB11-B444-005056A7539A         0   \n",
       "42092816 2020-09-30 12:27:49  EF500E71-FF02-EB11-B444-005056A7539A         0   \n",
       "42095203 2020-09-30 20:31:05  42604347-4403-EB11-B444-005056A7539A         0   \n",
       "\n",
       "          id_card  id_tov  id_kontr  quantity  sum  is_green  id_card_int  \\\n",
       "27520     4441279    1113     -9999    5000.0  0.0     False       806096   \n",
       "37567     7828592    1113     -9999    2000.0  0.0     False      1438102   \n",
       "43897     0357110    1113     -9999    5000.0  0.0     False        72344   \n",
       "57565     2415958    1113     -9999    5000.0  0.0     False       427981   \n",
       "69522     8505515    1113     -9999    4000.0  0.0     False      1528414   \n",
       "...           ...     ...       ...       ...  ...       ...          ...   \n",
       "42051074  2336308    1113     -9999    1500.0  0.0     False       414365   \n",
       "42082068  3937328    1113     -9999    3000.0  0.0     False       697590   \n",
       "42082069  3937328    1113     -9999    5000.0  0.0     False       697590   \n",
       "42092816  0211831    1113     -9999    2000.0  0.0     False        44611   \n",
       "42095203  4173660    1113     -9999    5000.0  0.0     False       748344   \n",
       "\n",
       "          id_doc_int  \n",
       "27520       21763622  \n",
       "37567        4834001  \n",
       "43897       21320546  \n",
       "57565       14419056  \n",
       "69522        8674916  \n",
       "...              ...  \n",
       "42051074    14532371  \n",
       "42082068     3322572  \n",
       "42082069     6892522  \n",
       "42092816    21891204  \n",
       "42095203     6069250  \n",
       "\n",
       "[2703 rows x 11 columns]"
      ],
      "text/html": "<div>\n<style scoped>\n    .dataframe tbody tr th:only-of-type {\n        vertical-align: middle;\n    }\n\n    .dataframe tbody tr th {\n        vertical-align: top;\n    }\n\n    .dataframe thead th {\n        text-align: right;\n    }\n</style>\n<table border=\"1\" class=\"dataframe\">\n  <thead>\n    <tr style=\"text-align: right;\">\n      <th></th>\n      <th>date</th>\n      <th>id_doc</th>\n      <th>id_order</th>\n      <th>id_card</th>\n      <th>id_tov</th>\n      <th>id_kontr</th>\n      <th>quantity</th>\n      <th>sum</th>\n      <th>is_green</th>\n      <th>id_card_int</th>\n      <th>id_doc_int</th>\n    </tr>\n  </thead>\n  <tbody>\n    <tr>\n      <th>27520</th>\n      <td>2020-09-01 13:32:18</td>\n      <td>EDEB3984-3FEC-EA11-B444-005056A7539A</td>\n      <td>0</td>\n      <td>4441279</td>\n      <td>1113</td>\n      <td>-9999</td>\n      <td>5000.0</td>\n      <td>0.0</td>\n      <td>False</td>\n      <td>806096</td>\n      <td>21763622</td>\n    </tr>\n    <tr>\n      <th>37567</th>\n      <td>2020-09-01 15:53:48</td>\n      <td>34DFE7D7-52EC-EA11-B444-005056A7539A</td>\n      <td>0</td>\n      <td>7828592</td>\n      <td>1113</td>\n      <td>-9999</td>\n      <td>2000.0</td>\n      <td>0.0</td>\n      <td>False</td>\n      <td>1438102</td>\n      <td>4834001</td>\n    </tr>\n    <tr>\n      <th>43897</th>\n      <td>2020-09-01 12:51:22</td>\n      <td>E913E777-39EC-EA11-B444-005056A7539A</td>\n      <td>0</td>\n      <td>0357110</td>\n      <td>1113</td>\n      <td>-9999</td>\n      <td>5000.0</td>\n      <td>0.0</td>\n      <td>False</td>\n      <td>72344</td>\n      <td>21320546</td>\n    </tr>\n    <tr>\n      <th>57565</th>\n      <td>2020-09-01 21:20:20</td>\n      <td>9D9C911C-80EC-EA11-B444-005056A7539A</td>\n      <td>0</td>\n      <td>2415958</td>\n      <td>1113</td>\n      <td>-9999</td>\n      <td>5000.0</td>\n      <td>0.0</td>\n      <td>False</td>\n      <td>427981</td>\n      <td>14419056</td>\n    </tr>\n    <tr>\n      <th>69522</th>\n      <td>2020-09-01 11:14:28</td>\n      <td>5ED8B16A-2BEC-EA11-B444-005056A7539A</td>\n      <td>0</td>\n      <td>8505515</td>\n      <td>1113</td>\n      <td>-9999</td>\n      <td>4000.0</td>\n      <td>0.0</td>\n      <td>False</td>\n      <td>1528414</td>\n      <td>8674916</td>\n    </tr>\n    <tr>\n      <th>...</th>\n      <td>...</td>\n      <td>...</td>\n      <td>...</td>\n      <td>...</td>\n      <td>...</td>\n      <td>...</td>\n      <td>...</td>\n      <td>...</td>\n      <td>...</td>\n      <td>...</td>\n      <td>...</td>\n    </tr>\n    <tr>\n      <th>42051074</th>\n      <td>2020-09-30 21:32:58</td>\n      <td>9ED8426C-4C03-EB11-B444-005056A7539A</td>\n      <td>0</td>\n      <td>2336308</td>\n      <td>1113</td>\n      <td>-9999</td>\n      <td>1500.0</td>\n      <td>0.0</td>\n      <td>False</td>\n      <td>414365</td>\n      <td>14532371</td>\n    </tr>\n    <tr>\n      <th>42082068</th>\n      <td>2020-09-30 15:02:54</td>\n      <td>2452AABF-1503-EB11-B444-005056A7539A</td>\n      <td>0</td>\n      <td>3937328</td>\n      <td>1113</td>\n      <td>-9999</td>\n      <td>3000.0</td>\n      <td>0.0</td>\n      <td>False</td>\n      <td>697590</td>\n      <td>3322572</td>\n    </tr>\n    <tr>\n      <th>42082069</th>\n      <td>2020-09-30 17:27:05</td>\n      <td>4B5E1B0D-2A03-EB11-B444-005056A7539A</td>\n      <td>0</td>\n      <td>3937328</td>\n      <td>1113</td>\n      <td>-9999</td>\n      <td>5000.0</td>\n      <td>0.0</td>\n      <td>False</td>\n      <td>697590</td>\n      <td>6892522</td>\n    </tr>\n    <tr>\n      <th>42092816</th>\n      <td>2020-09-30 12:27:49</td>\n      <td>EF500E71-FF02-EB11-B444-005056A7539A</td>\n      <td>0</td>\n      <td>0211831</td>\n      <td>1113</td>\n      <td>-9999</td>\n      <td>2000.0</td>\n      <td>0.0</td>\n      <td>False</td>\n      <td>44611</td>\n      <td>21891204</td>\n    </tr>\n    <tr>\n      <th>42095203</th>\n      <td>2020-09-30 20:31:05</td>\n      <td>42604347-4403-EB11-B444-005056A7539A</td>\n      <td>0</td>\n      <td>4173660</td>\n      <td>1113</td>\n      <td>-9999</td>\n      <td>5000.0</td>\n      <td>0.0</td>\n      <td>False</td>\n      <td>748344</td>\n      <td>6069250</td>\n    </tr>\n  </tbody>\n</table>\n<p>2703 rows × 11 columns</p>\n</div>"
     },
     "metadata": {},
     "execution_count": 48
    }
   ],
   "source": [
    "df1[(df1['quantity']>1000) & (df1['sum']==0)]"
   ]
  },
  {
   "cell_type": "code",
   "execution_count": 55,
   "metadata": {},
   "outputs": [
    {
     "output_type": "execute_result",
     "data": {
      "text/plain": [
       "array([ 806096, 1438102,   72344, ..., 1421253,  414365,  748344])"
      ]
     },
     "metadata": {},
     "execution_count": 55
    }
   ],
   "source": [
    "df1[(df1['quantity']>1000) & (df1['sum']==0)]['id_card_int'].unique()"
   ]
  },
  {
   "source": [
    "Here we can see one individual who has obscene sum and many transactions per day."
   ],
   "cell_type": "markdown",
   "metadata": {}
  },
  {
   "cell_type": "code",
   "execution_count": 51,
   "metadata": {},
   "outputs": [],
   "source": [
    "s = df1[['sum', 'id_card_int']].groupby('id_card_int').sum()"
   ]
  },
  {
   "cell_type": "code",
   "execution_count": 54,
   "metadata": {},
   "outputs": [
    {
     "output_type": "execute_result",
     "data": {
      "text/plain": [
       "                     sum\n",
       "id_card_int             \n",
       "1871302             0.00\n",
       "527413              0.00\n",
       "1843017             0.00\n",
       "405371              0.00\n",
       "365257              0.00\n",
       "...                  ...\n",
       "1447941         98215.49\n",
       "1755035        116411.20\n",
       "1243870        124131.91\n",
       "568930         211154.31\n",
       "883386       18259091.85\n",
       "\n",
       "[1358089 rows x 1 columns]"
      ],
      "text/html": "<div>\n<style scoped>\n    .dataframe tbody tr th:only-of-type {\n        vertical-align: middle;\n    }\n\n    .dataframe tbody tr th {\n        vertical-align: top;\n    }\n\n    .dataframe thead th {\n        text-align: right;\n    }\n</style>\n<table border=\"1\" class=\"dataframe\">\n  <thead>\n    <tr style=\"text-align: right;\">\n      <th></th>\n      <th>sum</th>\n    </tr>\n    <tr>\n      <th>id_card_int</th>\n      <th></th>\n    </tr>\n  </thead>\n  <tbody>\n    <tr>\n      <th>1871302</th>\n      <td>0.00</td>\n    </tr>\n    <tr>\n      <th>527413</th>\n      <td>0.00</td>\n    </tr>\n    <tr>\n      <th>1843017</th>\n      <td>0.00</td>\n    </tr>\n    <tr>\n      <th>405371</th>\n      <td>0.00</td>\n    </tr>\n    <tr>\n      <th>365257</th>\n      <td>0.00</td>\n    </tr>\n    <tr>\n      <th>...</th>\n      <td>...</td>\n    </tr>\n    <tr>\n      <th>1447941</th>\n      <td>98215.49</td>\n    </tr>\n    <tr>\n      <th>1755035</th>\n      <td>116411.20</td>\n    </tr>\n    <tr>\n      <th>1243870</th>\n      <td>124131.91</td>\n    </tr>\n    <tr>\n      <th>568930</th>\n      <td>211154.31</td>\n    </tr>\n    <tr>\n      <th>883386</th>\n      <td>18259091.85</td>\n    </tr>\n  </tbody>\n</table>\n<p>1358089 rows × 1 columns</p>\n</div>"
     },
     "metadata": {},
     "execution_count": 54
    }
   ],
   "source": [
    "s.sort_values('sum')"
   ]
  },
  {
   "cell_type": "code",
   "execution_count": 57,
   "metadata": {},
   "outputs": [
    {
     "output_type": "execute_result",
     "data": {
      "text/plain": [
       "                        date                                id_doc  id_order  \\\n",
       "1221     2020-09-01 13:41:07  AEEFB494-40EC-EA11-B444-005056A7539A         0   \n",
       "1853     2020-09-01 18:51:35  8A2AD918-6CEC-EA11-B444-005056A7539A         0   \n",
       "1859     2020-09-01 18:04:23  FEDAE894-65EC-EA11-B444-005056A7539A         0   \n",
       "1925     2020-09-01 18:51:35  8A2AD918-6CEC-EA11-B444-005056A7539A         0   \n",
       "1976     2020-09-01 18:04:23  FEDAE894-65EC-EA11-B444-005056A7539A         0   \n",
       "...                      ...                                   ...       ...   \n",
       "42100270 2020-09-30 17:11:56  AB13A45F-2703-EB11-B444-005056A7539A         0   \n",
       "42100329 2020-09-30 18:29:17  A586484B-3303-EB11-B444-005056A7539A         0   \n",
       "42100460 2020-09-30 17:11:56  AB13A45F-2703-EB11-B444-005056A7539A         0   \n",
       "42100484 2020-09-30 15:55:39  D589FC26-1D03-EB11-B444-005056A7539A         0   \n",
       "42100555 2020-09-30 18:27:16  7686484B-3303-EB11-B444-005056A7539A         0   \n",
       "\n",
       "          id_card  id_tov  id_kontr  quantity    sum  is_green  id_card_int  \\\n",
       "1221      4806534   20813     14782       1.0  168.0     False       883386   \n",
       "1853      4806534   27495     14911       1.0   34.0     False       883386   \n",
       "1859      4806534   27695     15385       2.0  152.0     False       883386   \n",
       "1925      4806534   29568     13354       1.0   36.0     False       883386   \n",
       "1976      4806534   30560     13614       1.0   17.0     False       883386   \n",
       "...           ...     ...       ...       ...    ...       ...          ...   \n",
       "42100270  4806534   28799     15916       1.0  130.0     False       883386   \n",
       "42100329  4806534   30218     12554       1.0  185.0     False       883386   \n",
       "42100460  4806534   35061     20817       1.0  150.0     False       883386   \n",
       "42100484  4806534   36157     12638       1.0  190.0     False       883386   \n",
       "42100555  4806534   37319     20622       1.0  195.0     False       883386   \n",
       "\n",
       "          id_doc_int  \n",
       "1221        16003441  \n",
       "1853        12641780  \n",
       "1859        23313124  \n",
       "1925        12641780  \n",
       "1976        23313124  \n",
       "...              ...  \n",
       "42100270    15650853  \n",
       "42100329    15143032  \n",
       "42100460    15650853  \n",
       "42100484    19534242  \n",
       "42100555    10843682  \n",
       "\n",
       "[189812 rows x 11 columns]"
      ],
      "text/html": "<div>\n<style scoped>\n    .dataframe tbody tr th:only-of-type {\n        vertical-align: middle;\n    }\n\n    .dataframe tbody tr th {\n        vertical-align: top;\n    }\n\n    .dataframe thead th {\n        text-align: right;\n    }\n</style>\n<table border=\"1\" class=\"dataframe\">\n  <thead>\n    <tr style=\"text-align: right;\">\n      <th></th>\n      <th>date</th>\n      <th>id_doc</th>\n      <th>id_order</th>\n      <th>id_card</th>\n      <th>id_tov</th>\n      <th>id_kontr</th>\n      <th>quantity</th>\n      <th>sum</th>\n      <th>is_green</th>\n      <th>id_card_int</th>\n      <th>id_doc_int</th>\n    </tr>\n  </thead>\n  <tbody>\n    <tr>\n      <th>1221</th>\n      <td>2020-09-01 13:41:07</td>\n      <td>AEEFB494-40EC-EA11-B444-005056A7539A</td>\n      <td>0</td>\n      <td>4806534</td>\n      <td>20813</td>\n      <td>14782</td>\n      <td>1.0</td>\n      <td>168.0</td>\n      <td>False</td>\n      <td>883386</td>\n      <td>16003441</td>\n    </tr>\n    <tr>\n      <th>1853</th>\n      <td>2020-09-01 18:51:35</td>\n      <td>8A2AD918-6CEC-EA11-B444-005056A7539A</td>\n      <td>0</td>\n      <td>4806534</td>\n      <td>27495</td>\n      <td>14911</td>\n      <td>1.0</td>\n      <td>34.0</td>\n      <td>False</td>\n      <td>883386</td>\n      <td>12641780</td>\n    </tr>\n    <tr>\n      <th>1859</th>\n      <td>2020-09-01 18:04:23</td>\n      <td>FEDAE894-65EC-EA11-B444-005056A7539A</td>\n      <td>0</td>\n      <td>4806534</td>\n      <td>27695</td>\n      <td>15385</td>\n      <td>2.0</td>\n      <td>152.0</td>\n      <td>False</td>\n      <td>883386</td>\n      <td>23313124</td>\n    </tr>\n    <tr>\n      <th>1925</th>\n      <td>2020-09-01 18:51:35</td>\n      <td>8A2AD918-6CEC-EA11-B444-005056A7539A</td>\n      <td>0</td>\n      <td>4806534</td>\n      <td>29568</td>\n      <td>13354</td>\n      <td>1.0</td>\n      <td>36.0</td>\n      <td>False</td>\n      <td>883386</td>\n      <td>12641780</td>\n    </tr>\n    <tr>\n      <th>1976</th>\n      <td>2020-09-01 18:04:23</td>\n      <td>FEDAE894-65EC-EA11-B444-005056A7539A</td>\n      <td>0</td>\n      <td>4806534</td>\n      <td>30560</td>\n      <td>13614</td>\n      <td>1.0</td>\n      <td>17.0</td>\n      <td>False</td>\n      <td>883386</td>\n      <td>23313124</td>\n    </tr>\n    <tr>\n      <th>...</th>\n      <td>...</td>\n      <td>...</td>\n      <td>...</td>\n      <td>...</td>\n      <td>...</td>\n      <td>...</td>\n      <td>...</td>\n      <td>...</td>\n      <td>...</td>\n      <td>...</td>\n      <td>...</td>\n    </tr>\n    <tr>\n      <th>42100270</th>\n      <td>2020-09-30 17:11:56</td>\n      <td>AB13A45F-2703-EB11-B444-005056A7539A</td>\n      <td>0</td>\n      <td>4806534</td>\n      <td>28799</td>\n      <td>15916</td>\n      <td>1.0</td>\n      <td>130.0</td>\n      <td>False</td>\n      <td>883386</td>\n      <td>15650853</td>\n    </tr>\n    <tr>\n      <th>42100329</th>\n      <td>2020-09-30 18:29:17</td>\n      <td>A586484B-3303-EB11-B444-005056A7539A</td>\n      <td>0</td>\n      <td>4806534</td>\n      <td>30218</td>\n      <td>12554</td>\n      <td>1.0</td>\n      <td>185.0</td>\n      <td>False</td>\n      <td>883386</td>\n      <td>15143032</td>\n    </tr>\n    <tr>\n      <th>42100460</th>\n      <td>2020-09-30 17:11:56</td>\n      <td>AB13A45F-2703-EB11-B444-005056A7539A</td>\n      <td>0</td>\n      <td>4806534</td>\n      <td>35061</td>\n      <td>20817</td>\n      <td>1.0</td>\n      <td>150.0</td>\n      <td>False</td>\n      <td>883386</td>\n      <td>15650853</td>\n    </tr>\n    <tr>\n      <th>42100484</th>\n      <td>2020-09-30 15:55:39</td>\n      <td>D589FC26-1D03-EB11-B444-005056A7539A</td>\n      <td>0</td>\n      <td>4806534</td>\n      <td>36157</td>\n      <td>12638</td>\n      <td>1.0</td>\n      <td>190.0</td>\n      <td>False</td>\n      <td>883386</td>\n      <td>19534242</td>\n    </tr>\n    <tr>\n      <th>42100555</th>\n      <td>2020-09-30 18:27:16</td>\n      <td>7686484B-3303-EB11-B444-005056A7539A</td>\n      <td>0</td>\n      <td>4806534</td>\n      <td>37319</td>\n      <td>20622</td>\n      <td>1.0</td>\n      <td>195.0</td>\n      <td>False</td>\n      <td>883386</td>\n      <td>10843682</td>\n    </tr>\n  </tbody>\n</table>\n<p>189812 rows × 11 columns</p>\n</div>"
     },
     "metadata": {},
     "execution_count": 57
    }
   ],
   "source": [
    "df1[df1['id_card_int']==883386]"
   ]
  },
  {
   "cell_type": "code",
   "execution_count": 74,
   "metadata": {},
   "outputs": [
    {
     "output_type": "execute_result",
     "data": {
      "text/plain": [
       "[806096, 1438102, 72344, 427981, 1528414]"
      ]
     },
     "metadata": {},
     "execution_count": 74
    }
   ],
   "source": [
    "res=list(df1[(df1['quantity']>1000) & (df1['sum']==0)]['id_card_int'].unique())+[883386]+list(df1[df1['quantity'] <= 0]['id_card_int'].unique())+list(df1[df1['sum'] < 0]['id_card_int'].unique())\n",
    "res[:5]"
   ]
  },
  {
   "cell_type": "code",
   "execution_count": 79,
   "metadata": {},
   "outputs": [],
   "source": [
    "res = list(set(res))"
   ]
  },
  {
   "cell_type": "code",
   "execution_count": 82,
   "metadata": {},
   "outputs": [
    {
     "output_type": "execute_result",
     "data": {
      "text/plain": [
       "      id_card_int\n",
       "0          311297\n",
       "1          528385\n",
       "2          139270\n",
       "3         1679367\n",
       "4         1310735\n",
       "...           ...\n",
       "1926       471031\n",
       "1927       978937\n",
       "1928      1368058\n",
       "1929       352251\n",
       "1930       425982\n",
       "\n",
       "[1931 rows x 1 columns]"
      ],
      "text/html": "<div>\n<style scoped>\n    .dataframe tbody tr th:only-of-type {\n        vertical-align: middle;\n    }\n\n    .dataframe tbody tr th {\n        vertical-align: top;\n    }\n\n    .dataframe thead th {\n        text-align: right;\n    }\n</style>\n<table border=\"1\" class=\"dataframe\">\n  <thead>\n    <tr style=\"text-align: right;\">\n      <th></th>\n      <th>id_card_int</th>\n    </tr>\n  </thead>\n  <tbody>\n    <tr>\n      <th>0</th>\n      <td>311297</td>\n    </tr>\n    <tr>\n      <th>1</th>\n      <td>528385</td>\n    </tr>\n    <tr>\n      <th>2</th>\n      <td>139270</td>\n    </tr>\n    <tr>\n      <th>3</th>\n      <td>1679367</td>\n    </tr>\n    <tr>\n      <th>4</th>\n      <td>1310735</td>\n    </tr>\n    <tr>\n      <th>...</th>\n      <td>...</td>\n    </tr>\n    <tr>\n      <th>1926</th>\n      <td>471031</td>\n    </tr>\n    <tr>\n      <th>1927</th>\n      <td>978937</td>\n    </tr>\n    <tr>\n      <th>1928</th>\n      <td>1368058</td>\n    </tr>\n    <tr>\n      <th>1929</th>\n      <td>352251</td>\n    </tr>\n    <tr>\n      <th>1930</th>\n      <td>425982</td>\n    </tr>\n  </tbody>\n</table>\n<p>1931 rows × 1 columns</p>\n</div>"
     },
     "metadata": {},
     "execution_count": 82
    }
   ],
   "source": [
    "df_res = pd.DataFrame({'id_card_int':res})\n",
    "df_res"
   ]
  },
  {
   "cell_type": "code",
   "execution_count": 85,
   "metadata": {},
   "outputs": [],
   "source": [
    "with bz2.open(\"result.pkl.bz2\", 'wb') as f:\n",
    "    pickle.dump(df_res, f)"
   ]
  },
  {
   "cell_type": "code",
   "execution_count": 86,
   "metadata": {},
   "outputs": [
    {
     "output_type": "execute_result",
     "data": {
      "text/plain": [
       "   id_card_int\n",
       "0       311297\n",
       "1       528385\n",
       "2       139270\n",
       "3      1679367\n",
       "4      1310735"
      ],
      "text/html": "<div>\n<style scoped>\n    .dataframe tbody tr th:only-of-type {\n        vertical-align: middle;\n    }\n\n    .dataframe tbody tr th {\n        vertical-align: top;\n    }\n\n    .dataframe thead th {\n        text-align: right;\n    }\n</style>\n<table border=\"1\" class=\"dataframe\">\n  <thead>\n    <tr style=\"text-align: right;\">\n      <th></th>\n      <th>id_card_int</th>\n    </tr>\n  </thead>\n  <tbody>\n    <tr>\n      <th>0</th>\n      <td>311297</td>\n    </tr>\n    <tr>\n      <th>1</th>\n      <td>528385</td>\n    </tr>\n    <tr>\n      <th>2</th>\n      <td>139270</td>\n    </tr>\n    <tr>\n      <th>3</th>\n      <td>1679367</td>\n    </tr>\n    <tr>\n      <th>4</th>\n      <td>1310735</td>\n    </tr>\n  </tbody>\n</table>\n</div>"
     },
     "metadata": {},
     "execution_count": 86
    }
   ],
   "source": [
    "with bz2.open(\"result.pkl.bz2\", 'rb') as f:\n",
    "    df_res_l = pickle.load(f)\n",
    "df_res_l.head()"
   ]
  }
 ]
}