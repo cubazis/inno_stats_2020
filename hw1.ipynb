{
  "nbformat": 4,
  "nbformat_minor": 5,
  "metadata": {
    "kernelspec": {
      "display_name": "Python 3",
      "language": "python",
      "name": "python3"
    },
    "language_info": {
      "codemirror_mode": {
        "name": "ipython",
        "version": 3
      },
      "file_extension": ".py",
      "mimetype": "text/x-python",
      "name": "python",
      "nbconvert_exporter": "python",
      "pygments_lexer": "ipython3",
      "version": "3.8.5"
    },
    "colab": {
      "name": "hw1.ipynb",
      "provenance": [],
      "toc_visible": true
    }
  },
  "cells": [
    {
      "cell_type": "markdown",
      "metadata": {
        "id": "novel-utility"
      },
      "source": [
        "### Additional steps"
      ],
      "id": "novel-utility"
    },
    {
      "cell_type": "code",
      "metadata": {
        "colab": {
          "base_uri": "https://localhost:8080/"
        },
        "id": "kXF4mj_PRVr0",
        "outputId": "36dac63f-59cf-4f89-9c9b-733de34c2281"
      },
      "source": [
        "from google.colab import drive\n",
        "\n",
        "drive.mount('/content/gdrive')"
      ],
      "id": "kXF4mj_PRVr0",
      "execution_count": 1,
      "outputs": [
        {
          "output_type": "stream",
          "text": [
            "Mounted at /content/gdrive\n"
          ],
          "name": "stdout"
        }
      ]
    },
    {
      "cell_type": "code",
      "metadata": {
        "id": "unusual-spray"
      },
      "source": [
        "from pathlib import Path\n",
        "import pandas as pd\n",
        "import gc\n",
        "from sklearn.preprocessing import LabelEncoder\n",
        "import pickle\n",
        "import bz2\n",
        "import matplotlib.pyplot as plt\n",
        "import numpy as np"
      ],
      "id": "unusual-spray",
      "execution_count": 2,
      "outputs": []
    },
    {
      "cell_type": "code",
      "metadata": {
        "colab": {
          "base_uri": "https://localhost:8080/"
        },
        "id": "circular-england",
        "outputId": "bf4fdba1-86d9-4ebb-8811-0922f9d77a4c"
      },
      "source": [
        "data_path = Path('./gdrive/MyDrive/STDS').resolve()\n",
        "!ls {data_path}"
      ],
      "id": "circular-england",
      "execution_count": 4,
      "outputs": [
        {
          "output_type": "stream",
          "text": [
            "09_prepared.pkl.bz2  10_prepared.pkl.bz2  11_prepared.pkl.bz2\n",
            "09_stats.pkl.bz2     10_stats.pkl.bz2\t  suspect.pkl.bz2\n"
          ],
          "name": "stdout"
        }
      ]
    },
    {
      "cell_type": "code",
      "metadata": {
        "id": "honest-insulation"
      },
      "source": [
        "with bz2.open(data_path / '09_prepared.pkl.bz2', 'rb') as f:\n",
        "    df = pickle.load(f)\n",
        "df.head()"
      ],
      "id": "honest-insulation",
      "execution_count": null,
      "outputs": []
    },
    {
      "cell_type": "code",
      "metadata": {
        "colab": {
          "base_uri": "https://localhost:8080/",
          "height": 194
        },
        "id": "collaborative-nylon",
        "outputId": "b5441386-6dd7-4f39-b787-ed7a1aee55d6"
      },
      "source": [
        "df.drop(['id_card', 'id_doc'], axis=1, inplace=True)\n",
        "df.head()"
      ],
      "id": "collaborative-nylon",
      "execution_count": 6,
      "outputs": [
        {
          "output_type": "execute_result",
          "data": {
            "text/html": [
              "<div>\n",
              "<style scoped>\n",
              "    .dataframe tbody tr th:only-of-type {\n",
              "        vertical-align: middle;\n",
              "    }\n",
              "\n",
              "    .dataframe tbody tr th {\n",
              "        vertical-align: top;\n",
              "    }\n",
              "\n",
              "    .dataframe thead th {\n",
              "        text-align: right;\n",
              "    }\n",
              "</style>\n",
              "<table border=\"1\" class=\"dataframe\">\n",
              "  <thead>\n",
              "    <tr style=\"text-align: right;\">\n",
              "      <th></th>\n",
              "      <th>date</th>\n",
              "      <th>id_order</th>\n",
              "      <th>id_tov</th>\n",
              "      <th>id_kontr</th>\n",
              "      <th>quantity</th>\n",
              "      <th>sum</th>\n",
              "      <th>is_green</th>\n",
              "      <th>id_card_int</th>\n",
              "      <th>id_doc_int</th>\n",
              "    </tr>\n",
              "  </thead>\n",
              "  <tbody>\n",
              "    <tr>\n",
              "      <th>0</th>\n",
              "      <td>2020-09-01 17:01:25</td>\n",
              "      <td>0</td>\n",
              "      <td>52</td>\n",
              "      <td>271</td>\n",
              "      <td>1.0</td>\n",
              "      <td>108.00</td>\n",
              "      <td>False</td>\n",
              "      <td>1538855</td>\n",
              "      <td>1283228</td>\n",
              "    </tr>\n",
              "    <tr>\n",
              "      <th>1</th>\n",
              "      <td>2020-09-01 17:35:36</td>\n",
              "      <td>0</td>\n",
              "      <td>52</td>\n",
              "      <td>271</td>\n",
              "      <td>1.0</td>\n",
              "      <td>108.00</td>\n",
              "      <td>False</td>\n",
              "      <td>267307</td>\n",
              "      <td>8873113</td>\n",
              "    </tr>\n",
              "    <tr>\n",
              "      <th>2</th>\n",
              "      <td>2020-09-01 19:19:21</td>\n",
              "      <td>0</td>\n",
              "      <td>52</td>\n",
              "      <td>271</td>\n",
              "      <td>1.0</td>\n",
              "      <td>107.95</td>\n",
              "      <td>False</td>\n",
              "      <td>610220</td>\n",
              "      <td>12712899</td>\n",
              "    </tr>\n",
              "    <tr>\n",
              "      <th>3</th>\n",
              "      <td>2020-09-01 21:53:34</td>\n",
              "      <td>0</td>\n",
              "      <td>52</td>\n",
              "      <td>271</td>\n",
              "      <td>1.0</td>\n",
              "      <td>108.00</td>\n",
              "      <td>False</td>\n",
              "      <td>441497</td>\n",
              "      <td>21535283</td>\n",
              "    </tr>\n",
              "    <tr>\n",
              "      <th>4</th>\n",
              "      <td>2020-09-01 18:42:31</td>\n",
              "      <td>0</td>\n",
              "      <td>61</td>\n",
              "      <td>97</td>\n",
              "      <td>2.0</td>\n",
              "      <td>88.00</td>\n",
              "      <td>False</td>\n",
              "      <td>1065358</td>\n",
              "      <td>642341</td>\n",
              "    </tr>\n",
              "  </tbody>\n",
              "</table>\n",
              "</div>"
            ],
            "text/plain": [
              "                 date  id_order  id_tov  ...  is_green  id_card_int  id_doc_int\n",
              "0 2020-09-01 17:01:25         0      52  ...     False      1538855     1283228\n",
              "1 2020-09-01 17:35:36         0      52  ...     False       267307     8873113\n",
              "2 2020-09-01 19:19:21         0      52  ...     False       610220    12712899\n",
              "3 2020-09-01 21:53:34         0      52  ...     False       441497    21535283\n",
              "4 2020-09-01 18:42:31         0      61  ...     False      1065358      642341\n",
              "\n",
              "[5 rows x 9 columns]"
            ]
          },
          "metadata": {
            "tags": []
          },
          "execution_count": 6
        }
      ]
    },
    {
      "cell_type": "code",
      "metadata": {
        "id": "complicated-server"
      },
      "source": [
        "with bz2.open(data_path / '09_stats.pkl.bz2', 'wb') as f:\n",
        "    pickle.dump(df, f, protocol=4)"
      ],
      "id": "complicated-server",
      "execution_count": 7,
      "outputs": []
    },
    {
      "cell_type": "code",
      "metadata": {
        "colab": {
          "base_uri": "https://localhost:8080/",
          "height": 194
        },
        "id": "C0DDsrAMsrRy",
        "outputId": "61a8e5c0-4087-4e29-e92c-a8e12551738c"
      },
      "source": [
        "with bz2.open(data_path / '10_prepared.pkl.bz2', 'rb') as f:\n",
        "    df_2 = pickle.load(f)\n",
        "df_2.head()"
      ],
      "id": "C0DDsrAMsrRy",
      "execution_count": 4,
      "outputs": [
        {
          "output_type": "execute_result",
          "data": {
            "text/html": [
              "<div>\n",
              "<style scoped>\n",
              "    .dataframe tbody tr th:only-of-type {\n",
              "        vertical-align: middle;\n",
              "    }\n",
              "\n",
              "    .dataframe tbody tr th {\n",
              "        vertical-align: top;\n",
              "    }\n",
              "\n",
              "    .dataframe thead th {\n",
              "        text-align: right;\n",
              "    }\n",
              "</style>\n",
              "<table border=\"1\" class=\"dataframe\">\n",
              "  <thead>\n",
              "    <tr style=\"text-align: right;\">\n",
              "      <th></th>\n",
              "      <th>date</th>\n",
              "      <th>id_doc</th>\n",
              "      <th>id_order</th>\n",
              "      <th>id_card</th>\n",
              "      <th>id_tov</th>\n",
              "      <th>id_kontr</th>\n",
              "      <th>quantity</th>\n",
              "      <th>sum</th>\n",
              "      <th>is_green</th>\n",
              "      <th>id_card_int</th>\n",
              "      <th>id_doc_int</th>\n",
              "    </tr>\n",
              "  </thead>\n",
              "  <tbody>\n",
              "    <tr>\n",
              "      <th>0</th>\n",
              "      <td>2020-10-01 20:22:55</td>\n",
              "      <td>16427403-0C04-EB11-B444-005056A7539A</td>\n",
              "      <td>0</td>\n",
              "      <td>9462341</td>\n",
              "      <td>52</td>\n",
              "      <td>339</td>\n",
              "      <td>1.0</td>\n",
              "      <td>107.90</td>\n",
              "      <td>False</td>\n",
              "      <td>1636749</td>\n",
              "      <td>2035558</td>\n",
              "    </tr>\n",
              "    <tr>\n",
              "      <th>1</th>\n",
              "      <td>2020-10-01 20:54:12</td>\n",
              "      <td>8E81258D-0F04-EB11-B444-005056A7539A</td>\n",
              "      <td>0</td>\n",
              "      <td>1452208</td>\n",
              "      <td>52</td>\n",
              "      <td>339</td>\n",
              "      <td>1.0</td>\n",
              "      <td>80.04</td>\n",
              "      <td>False</td>\n",
              "      <td>267261</td>\n",
              "      <td>13037327</td>\n",
              "    </tr>\n",
              "    <tr>\n",
              "      <th>2</th>\n",
              "      <td>2020-10-01 21:25:59</td>\n",
              "      <td>0FA47FAC-1304-EB11-B444-005056A7539A</td>\n",
              "      <td>0</td>\n",
              "      <td>7183110</td>\n",
              "      <td>61</td>\n",
              "      <td>379</td>\n",
              "      <td>1.0</td>\n",
              "      <td>31.92</td>\n",
              "      <td>True</td>\n",
              "      <td>1331395</td>\n",
              "      <td>1430590</td>\n",
              "    </tr>\n",
              "    <tr>\n",
              "      <th>3</th>\n",
              "      <td>2020-10-01 13:31:01</td>\n",
              "      <td>265086E0-D103-EB11-B444-005056A7539A</td>\n",
              "      <td>0</td>\n",
              "      <td>3659782</td>\n",
              "      <td>61</td>\n",
              "      <td>97</td>\n",
              "      <td>1.0</td>\n",
              "      <td>55.98</td>\n",
              "      <td>False</td>\n",
              "      <td>641525</td>\n",
              "      <td>3504660</td>\n",
              "    </tr>\n",
              "    <tr>\n",
              "      <th>4</th>\n",
              "      <td>2020-10-01 16:32:06</td>\n",
              "      <td>787F8164-EB03-EB11-B444-005056A7539A</td>\n",
              "      <td>0</td>\n",
              "      <td>7153315</td>\n",
              "      <td>61</td>\n",
              "      <td>97</td>\n",
              "      <td>4.0</td>\n",
              "      <td>176.00</td>\n",
              "      <td>False</td>\n",
              "      <td>1325852</td>\n",
              "      <td>11024438</td>\n",
              "    </tr>\n",
              "  </tbody>\n",
              "</table>\n",
              "</div>"
            ],
            "text/plain": [
              "                 date  ... id_doc_int\n",
              "0 2020-10-01 20:22:55  ...    2035558\n",
              "1 2020-10-01 20:54:12  ...   13037327\n",
              "2 2020-10-01 21:25:59  ...    1430590\n",
              "3 2020-10-01 13:31:01  ...    3504660\n",
              "4 2020-10-01 16:32:06  ...   11024438\n",
              "\n",
              "[5 rows x 11 columns]"
            ]
          },
          "metadata": {
            "tags": []
          },
          "execution_count": 4
        }
      ]
    },
    {
      "cell_type": "code",
      "metadata": {
        "id": "Cev9FW_nwlzX"
      },
      "source": [
        "with bz2.open(data_path / '10_stats.pkl.bz2', 'wb') as f:\n",
        "    pickle.dump(df_2, f, protocol=4)"
      ],
      "id": "Cev9FW_nwlzX",
      "execution_count": 7,
      "outputs": []
    },
    {
      "cell_type": "code",
      "metadata": {
        "colab": {
          "base_uri": "https://localhost:8080/",
          "height": 194
        },
        "id": "GwDJUr8mwrgo",
        "outputId": "445ba4dc-42e8-4b13-c456-b1832b870fd7"
      },
      "source": [
        "with bz2.open(data_path / '10_stats.pkl.bz2', 'rb') as f:\n",
        "    df_2 = pickle.load(f)\n",
        "df_2.head()"
      ],
      "id": "GwDJUr8mwrgo",
      "execution_count": 9,
      "outputs": [
        {
          "output_type": "execute_result",
          "data": {
            "text/html": [
              "<div>\n",
              "<style scoped>\n",
              "    .dataframe tbody tr th:only-of-type {\n",
              "        vertical-align: middle;\n",
              "    }\n",
              "\n",
              "    .dataframe tbody tr th {\n",
              "        vertical-align: top;\n",
              "    }\n",
              "\n",
              "    .dataframe thead th {\n",
              "        text-align: right;\n",
              "    }\n",
              "</style>\n",
              "<table border=\"1\" class=\"dataframe\">\n",
              "  <thead>\n",
              "    <tr style=\"text-align: right;\">\n",
              "      <th></th>\n",
              "      <th>date</th>\n",
              "      <th>id_doc</th>\n",
              "      <th>id_order</th>\n",
              "      <th>id_card</th>\n",
              "      <th>id_tov</th>\n",
              "      <th>id_kontr</th>\n",
              "      <th>quantity</th>\n",
              "      <th>sum</th>\n",
              "      <th>is_green</th>\n",
              "      <th>id_card_int</th>\n",
              "      <th>id_doc_int</th>\n",
              "    </tr>\n",
              "  </thead>\n",
              "  <tbody>\n",
              "    <tr>\n",
              "      <th>0</th>\n",
              "      <td>2020-10-01 20:22:55</td>\n",
              "      <td>16427403-0C04-EB11-B444-005056A7539A</td>\n",
              "      <td>0</td>\n",
              "      <td>9462341</td>\n",
              "      <td>52</td>\n",
              "      <td>339</td>\n",
              "      <td>1.0</td>\n",
              "      <td>107.90</td>\n",
              "      <td>False</td>\n",
              "      <td>1636749</td>\n",
              "      <td>2035558</td>\n",
              "    </tr>\n",
              "    <tr>\n",
              "      <th>1</th>\n",
              "      <td>2020-10-01 20:54:12</td>\n",
              "      <td>8E81258D-0F04-EB11-B444-005056A7539A</td>\n",
              "      <td>0</td>\n",
              "      <td>1452208</td>\n",
              "      <td>52</td>\n",
              "      <td>339</td>\n",
              "      <td>1.0</td>\n",
              "      <td>80.04</td>\n",
              "      <td>False</td>\n",
              "      <td>267261</td>\n",
              "      <td>13037327</td>\n",
              "    </tr>\n",
              "    <tr>\n",
              "      <th>2</th>\n",
              "      <td>2020-10-01 21:25:59</td>\n",
              "      <td>0FA47FAC-1304-EB11-B444-005056A7539A</td>\n",
              "      <td>0</td>\n",
              "      <td>7183110</td>\n",
              "      <td>61</td>\n",
              "      <td>379</td>\n",
              "      <td>1.0</td>\n",
              "      <td>31.92</td>\n",
              "      <td>True</td>\n",
              "      <td>1331395</td>\n",
              "      <td>1430590</td>\n",
              "    </tr>\n",
              "    <tr>\n",
              "      <th>3</th>\n",
              "      <td>2020-10-01 13:31:01</td>\n",
              "      <td>265086E0-D103-EB11-B444-005056A7539A</td>\n",
              "      <td>0</td>\n",
              "      <td>3659782</td>\n",
              "      <td>61</td>\n",
              "      <td>97</td>\n",
              "      <td>1.0</td>\n",
              "      <td>55.98</td>\n",
              "      <td>False</td>\n",
              "      <td>641525</td>\n",
              "      <td>3504660</td>\n",
              "    </tr>\n",
              "    <tr>\n",
              "      <th>4</th>\n",
              "      <td>2020-10-01 16:32:06</td>\n",
              "      <td>787F8164-EB03-EB11-B444-005056A7539A</td>\n",
              "      <td>0</td>\n",
              "      <td>7153315</td>\n",
              "      <td>61</td>\n",
              "      <td>97</td>\n",
              "      <td>4.0</td>\n",
              "      <td>176.00</td>\n",
              "      <td>False</td>\n",
              "      <td>1325852</td>\n",
              "      <td>11024438</td>\n",
              "    </tr>\n",
              "  </tbody>\n",
              "</table>\n",
              "</div>"
            ],
            "text/plain": [
              "                 date  ... id_doc_int\n",
              "0 2020-10-01 20:22:55  ...    2035558\n",
              "1 2020-10-01 20:54:12  ...   13037327\n",
              "2 2020-10-01 21:25:59  ...    1430590\n",
              "3 2020-10-01 13:31:01  ...    3504660\n",
              "4 2020-10-01 16:32:06  ...   11024438\n",
              "\n",
              "[5 rows x 11 columns]"
            ]
          },
          "metadata": {
            "tags": []
          },
          "execution_count": 9
        }
      ]
    },
    {
      "cell_type": "code",
      "metadata": {
        "colab": {
          "base_uri": "https://localhost:8080/",
          "height": 194
        },
        "id": "n2Rqnlk7voyj",
        "outputId": "d5294a9c-7435-49bb-ff48-dd07f353abb8"
      },
      "source": [
        "with bz2.open(data_path / '11_prepared.pkl.bz2', 'rb') as f:\n",
        "    df_3 = pickle.load(f)\n",
        "df_3.head()"
      ],
      "id": "n2Rqnlk7voyj",
      "execution_count": 5,
      "outputs": [
        {
          "output_type": "execute_result",
          "data": {
            "text/html": [
              "<div>\n",
              "<style scoped>\n",
              "    .dataframe tbody tr th:only-of-type {\n",
              "        vertical-align: middle;\n",
              "    }\n",
              "\n",
              "    .dataframe tbody tr th {\n",
              "        vertical-align: top;\n",
              "    }\n",
              "\n",
              "    .dataframe thead th {\n",
              "        text-align: right;\n",
              "    }\n",
              "</style>\n",
              "<table border=\"1\" class=\"dataframe\">\n",
              "  <thead>\n",
              "    <tr style=\"text-align: right;\">\n",
              "      <th></th>\n",
              "      <th>date</th>\n",
              "      <th>id_doc</th>\n",
              "      <th>id_order</th>\n",
              "      <th>id_card</th>\n",
              "      <th>id_tov</th>\n",
              "      <th>id_kontr</th>\n",
              "      <th>quantity</th>\n",
              "      <th>sum</th>\n",
              "      <th>is_green</th>\n",
              "      <th>id_card_int</th>\n",
              "      <th>id_doc_int</th>\n",
              "    </tr>\n",
              "  </thead>\n",
              "  <tbody>\n",
              "    <tr>\n",
              "      <th>0</th>\n",
              "      <td>2020-11-01 15:29:01</td>\n",
              "      <td>2220AF19-3E1C-EB11-B444-005056A7539A</td>\n",
              "      <td>0</td>\n",
              "      <td>1826606</td>\n",
              "      <td>52</td>\n",
              "      <td>271</td>\n",
              "      <td>1.0</td>\n",
              "      <td>107.98</td>\n",
              "      <td>False</td>\n",
              "      <td>332351</td>\n",
              "      <td>3121751</td>\n",
              "    </tr>\n",
              "    <tr>\n",
              "      <th>1</th>\n",
              "      <td>2020-11-01 12:41:10</td>\n",
              "      <td>F102DC7D-261C-EB11-B444-005056A7539A</td>\n",
              "      <td>8293317</td>\n",
              "      <td>C560312</td>\n",
              "      <td>52</td>\n",
              "      <td>-9999</td>\n",
              "      <td>1.0</td>\n",
              "      <td>108.00</td>\n",
              "      <td>False</td>\n",
              "      <td>1875438</td>\n",
              "      <td>22047017</td>\n",
              "    </tr>\n",
              "    <tr>\n",
              "      <th>2</th>\n",
              "      <td>2020-11-01 13:17:09</td>\n",
              "      <td>4632D419-2C1C-EB11-B444-005056A7539A</td>\n",
              "      <td>0</td>\n",
              "      <td>3225041</td>\n",
              "      <td>61</td>\n",
              "      <td>379</td>\n",
              "      <td>2.0</td>\n",
              "      <td>112.00</td>\n",
              "      <td>False</td>\n",
              "      <td>563112</td>\n",
              "      <td>6419825</td>\n",
              "    </tr>\n",
              "    <tr>\n",
              "      <th>3</th>\n",
              "      <td>2020-11-01 12:31:31</td>\n",
              "      <td>706B9E66-251C-EB11-B444-005056A7539A</td>\n",
              "      <td>0</td>\n",
              "      <td>B700679</td>\n",
              "      <td>61</td>\n",
              "      <td>379</td>\n",
              "      <td>1.0</td>\n",
              "      <td>55.91</td>\n",
              "      <td>False</td>\n",
              "      <td>1841710</td>\n",
              "      <td>10284541</td>\n",
              "    </tr>\n",
              "    <tr>\n",
              "      <th>4</th>\n",
              "      <td>2020-11-01 13:06:15</td>\n",
              "      <td>71F3E090-2A1C-EB11-B444-005056A7539A</td>\n",
              "      <td>0</td>\n",
              "      <td>7024046</td>\n",
              "      <td>61</td>\n",
              "      <td>271</td>\n",
              "      <td>2.0</td>\n",
              "      <td>87.80</td>\n",
              "      <td>False</td>\n",
              "      <td>1304277</td>\n",
              "      <td>10424967</td>\n",
              "    </tr>\n",
              "  </tbody>\n",
              "</table>\n",
              "</div>"
            ],
            "text/plain": [
              "                 date  ... id_doc_int\n",
              "0 2020-11-01 15:29:01  ...    3121751\n",
              "1 2020-11-01 12:41:10  ...   22047017\n",
              "2 2020-11-01 13:17:09  ...    6419825\n",
              "3 2020-11-01 12:31:31  ...   10284541\n",
              "4 2020-11-01 13:06:15  ...   10424967\n",
              "\n",
              "[5 rows x 11 columns]"
            ]
          },
          "metadata": {
            "tags": []
          },
          "execution_count": 5
        }
      ]
    },
    {
      "cell_type": "code",
      "metadata": {
        "id": "VGXC4Lwd59g8"
      },
      "source": [
        "with bz2.open(data_path / '11_stats.pkl.bz2', 'wb') as f:\n",
        "    pickle.dump(df_3, f, protocol=4)"
      ],
      "id": "VGXC4Lwd59g8",
      "execution_count": 6,
      "outputs": []
    },
    {
      "cell_type": "code",
      "metadata": {
        "colab": {
          "base_uri": "https://localhost:8080/",
          "height": 194
        },
        "id": "-9ytn0Z85_01",
        "outputId": "985bc4d5-7cb5-445a-8c0a-7b9772fe03d9"
      },
      "source": [
        "with bz2.open(data_path / '11_stats.pkl.bz2', 'rb') as f:\n",
        "    df_3 = pickle.load(f)\n",
        "df_3.head()"
      ],
      "id": "-9ytn0Z85_01",
      "execution_count": 7,
      "outputs": [
        {
          "output_type": "execute_result",
          "data": {
            "text/html": [
              "<div>\n",
              "<style scoped>\n",
              "    .dataframe tbody tr th:only-of-type {\n",
              "        vertical-align: middle;\n",
              "    }\n",
              "\n",
              "    .dataframe tbody tr th {\n",
              "        vertical-align: top;\n",
              "    }\n",
              "\n",
              "    .dataframe thead th {\n",
              "        text-align: right;\n",
              "    }\n",
              "</style>\n",
              "<table border=\"1\" class=\"dataframe\">\n",
              "  <thead>\n",
              "    <tr style=\"text-align: right;\">\n",
              "      <th></th>\n",
              "      <th>date</th>\n",
              "      <th>id_doc</th>\n",
              "      <th>id_order</th>\n",
              "      <th>id_card</th>\n",
              "      <th>id_tov</th>\n",
              "      <th>id_kontr</th>\n",
              "      <th>quantity</th>\n",
              "      <th>sum</th>\n",
              "      <th>is_green</th>\n",
              "      <th>id_card_int</th>\n",
              "      <th>id_doc_int</th>\n",
              "    </tr>\n",
              "  </thead>\n",
              "  <tbody>\n",
              "    <tr>\n",
              "      <th>0</th>\n",
              "      <td>2020-11-01 15:29:01</td>\n",
              "      <td>2220AF19-3E1C-EB11-B444-005056A7539A</td>\n",
              "      <td>0</td>\n",
              "      <td>1826606</td>\n",
              "      <td>52</td>\n",
              "      <td>271</td>\n",
              "      <td>1.0</td>\n",
              "      <td>107.98</td>\n",
              "      <td>False</td>\n",
              "      <td>332351</td>\n",
              "      <td>3121751</td>\n",
              "    </tr>\n",
              "    <tr>\n",
              "      <th>1</th>\n",
              "      <td>2020-11-01 12:41:10</td>\n",
              "      <td>F102DC7D-261C-EB11-B444-005056A7539A</td>\n",
              "      <td>8293317</td>\n",
              "      <td>C560312</td>\n",
              "      <td>52</td>\n",
              "      <td>-9999</td>\n",
              "      <td>1.0</td>\n",
              "      <td>108.00</td>\n",
              "      <td>False</td>\n",
              "      <td>1875438</td>\n",
              "      <td>22047017</td>\n",
              "    </tr>\n",
              "    <tr>\n",
              "      <th>2</th>\n",
              "      <td>2020-11-01 13:17:09</td>\n",
              "      <td>4632D419-2C1C-EB11-B444-005056A7539A</td>\n",
              "      <td>0</td>\n",
              "      <td>3225041</td>\n",
              "      <td>61</td>\n",
              "      <td>379</td>\n",
              "      <td>2.0</td>\n",
              "      <td>112.00</td>\n",
              "      <td>False</td>\n",
              "      <td>563112</td>\n",
              "      <td>6419825</td>\n",
              "    </tr>\n",
              "    <tr>\n",
              "      <th>3</th>\n",
              "      <td>2020-11-01 12:31:31</td>\n",
              "      <td>706B9E66-251C-EB11-B444-005056A7539A</td>\n",
              "      <td>0</td>\n",
              "      <td>B700679</td>\n",
              "      <td>61</td>\n",
              "      <td>379</td>\n",
              "      <td>1.0</td>\n",
              "      <td>55.91</td>\n",
              "      <td>False</td>\n",
              "      <td>1841710</td>\n",
              "      <td>10284541</td>\n",
              "    </tr>\n",
              "    <tr>\n",
              "      <th>4</th>\n",
              "      <td>2020-11-01 13:06:15</td>\n",
              "      <td>71F3E090-2A1C-EB11-B444-005056A7539A</td>\n",
              "      <td>0</td>\n",
              "      <td>7024046</td>\n",
              "      <td>61</td>\n",
              "      <td>271</td>\n",
              "      <td>2.0</td>\n",
              "      <td>87.80</td>\n",
              "      <td>False</td>\n",
              "      <td>1304277</td>\n",
              "      <td>10424967</td>\n",
              "    </tr>\n",
              "  </tbody>\n",
              "</table>\n",
              "</div>"
            ],
            "text/plain": [
              "                 date  ... id_doc_int\n",
              "0 2020-11-01 15:29:01  ...    3121751\n",
              "1 2020-11-01 12:41:10  ...   22047017\n",
              "2 2020-11-01 13:17:09  ...    6419825\n",
              "3 2020-11-01 12:31:31  ...   10284541\n",
              "4 2020-11-01 13:06:15  ...   10424967\n",
              "\n",
              "[5 rows x 11 columns]"
            ]
          },
          "metadata": {
            "tags": []
          },
          "execution_count": 7
        }
      ]
    },
    {
      "cell_type": "markdown",
      "metadata": {
        "id": "searching-plasma"
      },
      "source": [
        "### Statistics"
      ],
      "id": "searching-plasma"
    },
    {
      "cell_type": "code",
      "metadata": {
        "colab": {
          "base_uri": "https://localhost:8080/"
        },
        "id": "killing-start",
        "outputId": "0a6695bf-daad-4102-e3a5-048612783510"
      },
      "source": [
        "from pathlib import Path\n",
        "import pandas as pd\n",
        "import gc\n",
        "from sklearn.preprocessing import LabelEncoder\n",
        "import pickle\n",
        "import bz2\n",
        "\n",
        "data_path = Path('./gdrive/MyDrive/STDS').resolve()\n",
        "!ls {data_path}"
      ],
      "id": "killing-start",
      "execution_count": 8,
      "outputs": [
        {
          "output_type": "stream",
          "text": [
            "09_prepared.pkl.bz2  09_stats.pkl.bz2  10_prepared.pkl.bz2  11_prepared.pkl.bz2\n"
          ],
          "name": "stdout"
        }
      ]
    },
    {
      "cell_type": "markdown",
      "metadata": {
        "id": "9pvn-qJNxVsf"
      },
      "source": [
        "**The first month statistics**"
      ],
      "id": "9pvn-qJNxVsf"
    },
    {
      "cell_type": "code",
      "metadata": {
        "colab": {
          "base_uri": "https://localhost:8080/",
          "height": 194
        },
        "id": "broad-pitch",
        "outputId": "3834c196-b130-41ef-ee64-a87e914ee972"
      },
      "source": [
        "with bz2.open(data_path / '09_stats.pkl.bz2', 'rb') as f:\n",
        "    df = pickle.load(f)\n",
        "df.head()"
      ],
      "id": "broad-pitch",
      "execution_count": 6,
      "outputs": [
        {
          "output_type": "execute_result",
          "data": {
            "text/html": [
              "<div>\n",
              "<style scoped>\n",
              "    .dataframe tbody tr th:only-of-type {\n",
              "        vertical-align: middle;\n",
              "    }\n",
              "\n",
              "    .dataframe tbody tr th {\n",
              "        vertical-align: top;\n",
              "    }\n",
              "\n",
              "    .dataframe thead th {\n",
              "        text-align: right;\n",
              "    }\n",
              "</style>\n",
              "<table border=\"1\" class=\"dataframe\">\n",
              "  <thead>\n",
              "    <tr style=\"text-align: right;\">\n",
              "      <th></th>\n",
              "      <th>date</th>\n",
              "      <th>id_order</th>\n",
              "      <th>id_tov</th>\n",
              "      <th>id_kontr</th>\n",
              "      <th>quantity</th>\n",
              "      <th>sum</th>\n",
              "      <th>is_green</th>\n",
              "      <th>id_card_int</th>\n",
              "      <th>id_doc_int</th>\n",
              "    </tr>\n",
              "  </thead>\n",
              "  <tbody>\n",
              "    <tr>\n",
              "      <th>0</th>\n",
              "      <td>2020-09-01 17:01:25</td>\n",
              "      <td>0</td>\n",
              "      <td>52</td>\n",
              "      <td>271</td>\n",
              "      <td>1.0</td>\n",
              "      <td>108.00</td>\n",
              "      <td>False</td>\n",
              "      <td>1538855</td>\n",
              "      <td>1283228</td>\n",
              "    </tr>\n",
              "    <tr>\n",
              "      <th>1</th>\n",
              "      <td>2020-09-01 17:35:36</td>\n",
              "      <td>0</td>\n",
              "      <td>52</td>\n",
              "      <td>271</td>\n",
              "      <td>1.0</td>\n",
              "      <td>108.00</td>\n",
              "      <td>False</td>\n",
              "      <td>267307</td>\n",
              "      <td>8873113</td>\n",
              "    </tr>\n",
              "    <tr>\n",
              "      <th>2</th>\n",
              "      <td>2020-09-01 19:19:21</td>\n",
              "      <td>0</td>\n",
              "      <td>52</td>\n",
              "      <td>271</td>\n",
              "      <td>1.0</td>\n",
              "      <td>107.95</td>\n",
              "      <td>False</td>\n",
              "      <td>610220</td>\n",
              "      <td>12712899</td>\n",
              "    </tr>\n",
              "    <tr>\n",
              "      <th>3</th>\n",
              "      <td>2020-09-01 21:53:34</td>\n",
              "      <td>0</td>\n",
              "      <td>52</td>\n",
              "      <td>271</td>\n",
              "      <td>1.0</td>\n",
              "      <td>108.00</td>\n",
              "      <td>False</td>\n",
              "      <td>441497</td>\n",
              "      <td>21535283</td>\n",
              "    </tr>\n",
              "    <tr>\n",
              "      <th>4</th>\n",
              "      <td>2020-09-01 18:42:31</td>\n",
              "      <td>0</td>\n",
              "      <td>61</td>\n",
              "      <td>97</td>\n",
              "      <td>2.0</td>\n",
              "      <td>88.00</td>\n",
              "      <td>False</td>\n",
              "      <td>1065358</td>\n",
              "      <td>642341</td>\n",
              "    </tr>\n",
              "  </tbody>\n",
              "</table>\n",
              "</div>"
            ],
            "text/plain": [
              "                 date  id_order  id_tov  ...  is_green  id_card_int  id_doc_int\n",
              "0 2020-09-01 17:01:25         0      52  ...     False      1538855     1283228\n",
              "1 2020-09-01 17:35:36         0      52  ...     False       267307     8873113\n",
              "2 2020-09-01 19:19:21         0      52  ...     False       610220    12712899\n",
              "3 2020-09-01 21:53:34         0      52  ...     False       441497    21535283\n",
              "4 2020-09-01 18:42:31         0      61  ...     False      1065358      642341\n",
              "\n",
              "[5 rows x 9 columns]"
            ]
          },
          "metadata": {
            "tags": []
          },
          "execution_count": 6
        }
      ]
    },
    {
      "cell_type": "code",
      "metadata": {
        "colab": {
          "base_uri": "https://localhost:8080/",
          "height": 282
        },
        "id": "automated-friend",
        "outputId": "3727c30b-4223-489c-e2e0-03cb6e9f4a58"
      },
      "source": [
        "df.describe()"
      ],
      "id": "automated-friend",
      "execution_count": 9,
      "outputs": [
        {
          "output_type": "execute_result",
          "data": {
            "text/html": [
              "<div>\n",
              "<style scoped>\n",
              "    .dataframe tbody tr th:only-of-type {\n",
              "        vertical-align: middle;\n",
              "    }\n",
              "\n",
              "    .dataframe tbody tr th {\n",
              "        vertical-align: top;\n",
              "    }\n",
              "\n",
              "    .dataframe thead th {\n",
              "        text-align: right;\n",
              "    }\n",
              "</style>\n",
              "<table border=\"1\" class=\"dataframe\">\n",
              "  <thead>\n",
              "    <tr style=\"text-align: right;\">\n",
              "      <th></th>\n",
              "      <th>id_order</th>\n",
              "      <th>id_tov</th>\n",
              "      <th>id_kontr</th>\n",
              "      <th>quantity</th>\n",
              "      <th>sum</th>\n",
              "      <th>id_card_int</th>\n",
              "      <th>id_doc_int</th>\n",
              "    </tr>\n",
              "  </thead>\n",
              "  <tbody>\n",
              "    <tr>\n",
              "      <th>count</th>\n",
              "      <td>4.210086e+07</td>\n",
              "      <td>4.210086e+07</td>\n",
              "      <td>4.210086e+07</td>\n",
              "      <td>4.210086e+07</td>\n",
              "      <td>4.210086e+07</td>\n",
              "      <td>4.210086e+07</td>\n",
              "      <td>4.210086e+07</td>\n",
              "    </tr>\n",
              "    <tr>\n",
              "      <th>mean</th>\n",
              "      <td>7.765869e+05</td>\n",
              "      <td>1.763064e+04</td>\n",
              "      <td>1.045977e+04</td>\n",
              "      <td>1.427065e+00</td>\n",
              "      <td>1.149112e+02</td>\n",
              "      <td>8.446032e+05</td>\n",
              "      <td>1.170384e+07</td>\n",
              "    </tr>\n",
              "    <tr>\n",
              "      <th>std</th>\n",
              "      <td>2.032896e+06</td>\n",
              "      <td>1.103226e+04</td>\n",
              "      <td>8.794764e+03</td>\n",
              "      <td>3.101411e+01</td>\n",
              "      <td>1.072201e+02</td>\n",
              "      <td>5.388947e+05</td>\n",
              "      <td>6.760102e+06</td>\n",
              "    </tr>\n",
              "    <tr>\n",
              "      <th>min</th>\n",
              "      <td>0.000000e+00</td>\n",
              "      <td>4.600000e+01</td>\n",
              "      <td>-9.999000e+03</td>\n",
              "      <td>-2.755000e+00</td>\n",
              "      <td>-1.022110e+03</td>\n",
              "      <td>0.000000e+00</td>\n",
              "      <td>2.000000e+00</td>\n",
              "    </tr>\n",
              "    <tr>\n",
              "      <th>25%</th>\n",
              "      <td>0.000000e+00</td>\n",
              "      <td>1.452600e+04</td>\n",
              "      <td>3.850000e+02</td>\n",
              "      <td>1.000000e+00</td>\n",
              "      <td>4.800000e+01</td>\n",
              "      <td>3.650470e+05</td>\n",
              "      <td>5.848724e+06</td>\n",
              "    </tr>\n",
              "    <tr>\n",
              "      <th>50%</th>\n",
              "      <td>0.000000e+00</td>\n",
              "      <td>1.943500e+04</td>\n",
              "      <td>1.358100e+04</td>\n",
              "      <td>1.000000e+00</td>\n",
              "      <td>8.900000e+01</td>\n",
              "      <td>8.150010e+05</td>\n",
              "      <td>1.170182e+07</td>\n",
              "    </tr>\n",
              "    <tr>\n",
              "      <th>75%</th>\n",
              "      <td>0.000000e+00</td>\n",
              "      <td>2.455800e+04</td>\n",
              "      <td>1.630400e+04</td>\n",
              "      <td>1.000000e+00</td>\n",
              "      <td>1.501100e+02</td>\n",
              "      <td>1.288708e+06</td>\n",
              "      <td>1.755596e+07</td>\n",
              "    </tr>\n",
              "    <tr>\n",
              "      <th>max</th>\n",
              "      <td>6.673056e+06</td>\n",
              "      <td>3.866000e+04</td>\n",
              "      <td>2.194300e+04</td>\n",
              "      <td>5.000000e+03</td>\n",
              "      <td>3.840000e+04</td>\n",
              "      <td>1.944074e+06</td>\n",
              "      <td>2.341787e+07</td>\n",
              "    </tr>\n",
              "  </tbody>\n",
              "</table>\n",
              "</div>"
            ],
            "text/plain": [
              "           id_order        id_tov  ...   id_card_int    id_doc_int\n",
              "count  4.210086e+07  4.210086e+07  ...  4.210086e+07  4.210086e+07\n",
              "mean   7.765869e+05  1.763064e+04  ...  8.446032e+05  1.170384e+07\n",
              "std    2.032896e+06  1.103226e+04  ...  5.388947e+05  6.760102e+06\n",
              "min    0.000000e+00  4.600000e+01  ...  0.000000e+00  2.000000e+00\n",
              "25%    0.000000e+00  1.452600e+04  ...  3.650470e+05  5.848724e+06\n",
              "50%    0.000000e+00  1.943500e+04  ...  8.150010e+05  1.170182e+07\n",
              "75%    0.000000e+00  2.455800e+04  ...  1.288708e+06  1.755596e+07\n",
              "max    6.673056e+06  3.866000e+04  ...  1.944074e+06  2.341787e+07\n",
              "\n",
              "[8 rows x 7 columns]"
            ]
          },
          "metadata": {
            "tags": []
          },
          "execution_count": 9
        }
      ]
    },
    {
      "cell_type": "code",
      "metadata": {
        "colab": {
          "base_uri": "https://localhost:8080/",
          "height": 194
        },
        "id": "owned-credit",
        "outputId": "fda1dd9c-fa2b-451a-8536-ff94e34be571"
      },
      "source": [
        "df['day'] = df['date'].dt.date\n",
        "df.head()"
      ],
      "id": "owned-credit",
      "execution_count": 10,
      "outputs": [
        {
          "output_type": "execute_result",
          "data": {
            "text/html": [
              "<div>\n",
              "<style scoped>\n",
              "    .dataframe tbody tr th:only-of-type {\n",
              "        vertical-align: middle;\n",
              "    }\n",
              "\n",
              "    .dataframe tbody tr th {\n",
              "        vertical-align: top;\n",
              "    }\n",
              "\n",
              "    .dataframe thead th {\n",
              "        text-align: right;\n",
              "    }\n",
              "</style>\n",
              "<table border=\"1\" class=\"dataframe\">\n",
              "  <thead>\n",
              "    <tr style=\"text-align: right;\">\n",
              "      <th></th>\n",
              "      <th>date</th>\n",
              "      <th>id_order</th>\n",
              "      <th>id_tov</th>\n",
              "      <th>id_kontr</th>\n",
              "      <th>quantity</th>\n",
              "      <th>sum</th>\n",
              "      <th>is_green</th>\n",
              "      <th>id_card_int</th>\n",
              "      <th>id_doc_int</th>\n",
              "      <th>day</th>\n",
              "    </tr>\n",
              "  </thead>\n",
              "  <tbody>\n",
              "    <tr>\n",
              "      <th>0</th>\n",
              "      <td>2020-09-01 17:01:25</td>\n",
              "      <td>0</td>\n",
              "      <td>52</td>\n",
              "      <td>271</td>\n",
              "      <td>1.0</td>\n",
              "      <td>108.00</td>\n",
              "      <td>False</td>\n",
              "      <td>1538855</td>\n",
              "      <td>1283228</td>\n",
              "      <td>2020-09-01</td>\n",
              "    </tr>\n",
              "    <tr>\n",
              "      <th>1</th>\n",
              "      <td>2020-09-01 17:35:36</td>\n",
              "      <td>0</td>\n",
              "      <td>52</td>\n",
              "      <td>271</td>\n",
              "      <td>1.0</td>\n",
              "      <td>108.00</td>\n",
              "      <td>False</td>\n",
              "      <td>267307</td>\n",
              "      <td>8873113</td>\n",
              "      <td>2020-09-01</td>\n",
              "    </tr>\n",
              "    <tr>\n",
              "      <th>2</th>\n",
              "      <td>2020-09-01 19:19:21</td>\n",
              "      <td>0</td>\n",
              "      <td>52</td>\n",
              "      <td>271</td>\n",
              "      <td>1.0</td>\n",
              "      <td>107.95</td>\n",
              "      <td>False</td>\n",
              "      <td>610220</td>\n",
              "      <td>12712899</td>\n",
              "      <td>2020-09-01</td>\n",
              "    </tr>\n",
              "    <tr>\n",
              "      <th>3</th>\n",
              "      <td>2020-09-01 21:53:34</td>\n",
              "      <td>0</td>\n",
              "      <td>52</td>\n",
              "      <td>271</td>\n",
              "      <td>1.0</td>\n",
              "      <td>108.00</td>\n",
              "      <td>False</td>\n",
              "      <td>441497</td>\n",
              "      <td>21535283</td>\n",
              "      <td>2020-09-01</td>\n",
              "    </tr>\n",
              "    <tr>\n",
              "      <th>4</th>\n",
              "      <td>2020-09-01 18:42:31</td>\n",
              "      <td>0</td>\n",
              "      <td>61</td>\n",
              "      <td>97</td>\n",
              "      <td>2.0</td>\n",
              "      <td>88.00</td>\n",
              "      <td>False</td>\n",
              "      <td>1065358</td>\n",
              "      <td>642341</td>\n",
              "      <td>2020-09-01</td>\n",
              "    </tr>\n",
              "  </tbody>\n",
              "</table>\n",
              "</div>"
            ],
            "text/plain": [
              "                 date  id_order  id_tov  ...  id_card_int  id_doc_int         day\n",
              "0 2020-09-01 17:01:25         0      52  ...      1538855     1283228  2020-09-01\n",
              "1 2020-09-01 17:35:36         0      52  ...       267307     8873113  2020-09-01\n",
              "2 2020-09-01 19:19:21         0      52  ...       610220    12712899  2020-09-01\n",
              "3 2020-09-01 21:53:34         0      52  ...       441497    21535283  2020-09-01\n",
              "4 2020-09-01 18:42:31         0      61  ...      1065358      642341  2020-09-01\n",
              "\n",
              "[5 rows x 10 columns]"
            ]
          },
          "metadata": {
            "tags": []
          },
          "execution_count": 10
        }
      ]
    },
    {
      "cell_type": "markdown",
      "metadata": {
        "id": "XIP-qvWDzL02"
      },
      "source": [
        "The first step I made to find outlier was grouping all orders by customers and look at the resulting numbers. The sorted dataframe shows that the largest number of orders is made by the user with id = 883386"
      ],
      "id": "XIP-qvWDzL02"
    },
    {
      "cell_type": "code",
      "metadata": {
        "colab": {
          "base_uri": "https://localhost:8080/",
          "height": 399
        },
        "id": "JYVYPsXzYaN_",
        "outputId": "70e24a0a-c92f-49dc-c8f7-9e0d67aa03a7"
      },
      "source": [
        "df.groupby(['id_card_int']).size().reset_index(name=\"counts\").sort_values(by=\"counts\")"
      ],
      "id": "JYVYPsXzYaN_",
      "execution_count": 14,
      "outputs": [
        {
          "output_type": "execute_result",
          "data": {
            "text/html": [
              "<div>\n",
              "<style scoped>\n",
              "    .dataframe tbody tr th:only-of-type {\n",
              "        vertical-align: middle;\n",
              "    }\n",
              "\n",
              "    .dataframe tbody tr th {\n",
              "        vertical-align: top;\n",
              "    }\n",
              "\n",
              "    .dataframe thead th {\n",
              "        text-align: right;\n",
              "    }\n",
              "</style>\n",
              "<table border=\"1\" class=\"dataframe\">\n",
              "  <thead>\n",
              "    <tr style=\"text-align: right;\">\n",
              "      <th></th>\n",
              "      <th>id_card_int</th>\n",
              "      <th>counts</th>\n",
              "    </tr>\n",
              "  </thead>\n",
              "  <tbody>\n",
              "    <tr>\n",
              "      <th>41129</th>\n",
              "      <td>53184</td>\n",
              "      <td>1</td>\n",
              "    </tr>\n",
              "    <tr>\n",
              "      <th>654758</th>\n",
              "      <td>886496</td>\n",
              "      <td>1</td>\n",
              "    </tr>\n",
              "    <tr>\n",
              "      <th>230626</th>\n",
              "      <td>302034</td>\n",
              "      <td>1</td>\n",
              "    </tr>\n",
              "    <tr>\n",
              "      <th>1122584</th>\n",
              "      <td>1545446</td>\n",
              "      <td>1</td>\n",
              "    </tr>\n",
              "    <tr>\n",
              "      <th>1328580</th>\n",
              "      <td>1862246</td>\n",
              "      <td>1</td>\n",
              "    </tr>\n",
              "    <tr>\n",
              "      <th>...</th>\n",
              "      <td>...</td>\n",
              "      <td>...</td>\n",
              "    </tr>\n",
              "    <tr>\n",
              "      <th>163425</th>\n",
              "      <td>213588</td>\n",
              "      <td>675</td>\n",
              "    </tr>\n",
              "    <tr>\n",
              "      <th>389897</th>\n",
              "      <td>518424</td>\n",
              "      <td>694</td>\n",
              "    </tr>\n",
              "    <tr>\n",
              "      <th>910003</th>\n",
              "      <td>1243870</td>\n",
              "      <td>707</td>\n",
              "    </tr>\n",
              "    <tr>\n",
              "      <th>426570</th>\n",
              "      <td>568930</td>\n",
              "      <td>753</td>\n",
              "    </tr>\n",
              "    <tr>\n",
              "      <th>652503</th>\n",
              "      <td>883386</td>\n",
              "      <td>189812</td>\n",
              "    </tr>\n",
              "  </tbody>\n",
              "</table>\n",
              "<p>1358089 rows × 2 columns</p>\n",
              "</div>"
            ],
            "text/plain": [
              "         id_card_int  counts\n",
              "41129          53184       1\n",
              "654758        886496       1\n",
              "230626        302034       1\n",
              "1122584      1545446       1\n",
              "1328580      1862246       1\n",
              "...              ...     ...\n",
              "163425        213588     675\n",
              "389897        518424     694\n",
              "910003       1243870     707\n",
              "426570        568930     753\n",
              "652503        883386  189812\n",
              "\n",
              "[1358089 rows x 2 columns]"
            ]
          },
          "metadata": {
            "tags": []
          },
          "execution_count": 14
        }
      ]
    },
    {
      "cell_type": "code",
      "metadata": {
        "colab": {
          "base_uri": "https://localhost:8080/"
        },
        "id": "j9u0ebOmneRo",
        "outputId": "516eee74-aae6-4a29-f3fc-fcbfbc70b933"
      },
      "source": [
        "suspicious = df[df.id_card_int==883386]\n",
        "suspicious.count()"
      ],
      "id": "j9u0ebOmneRo",
      "execution_count": 22,
      "outputs": [
        {
          "output_type": "execute_result",
          "data": {
            "text/plain": [
              "date           189812\n",
              "id_order       189812\n",
              "id_tov         189812\n",
              "id_kontr       189812\n",
              "quantity       189812\n",
              "sum            189812\n",
              "is_green       189812\n",
              "id_card_int    189812\n",
              "id_doc_int     189812\n",
              "day            189812\n",
              "dtype: int64"
            ]
          },
          "metadata": {
            "tags": []
          },
          "execution_count": 22
        }
      ]
    },
    {
      "cell_type": "code",
      "metadata": {
        "colab": {
          "base_uri": "https://localhost:8080/"
        },
        "id": "iOyGjlptoyVP",
        "outputId": "1ddfa876-a130-41ff-9488-6a4cc933087e"
      },
      "source": [
        "suspicious[suspicious.id_order==0].count()"
      ],
      "id": "iOyGjlptoyVP",
      "execution_count": 25,
      "outputs": [
        {
          "output_type": "execute_result",
          "data": {
            "text/plain": [
              "date           189812\n",
              "id_order       189812\n",
              "id_tov         189812\n",
              "id_kontr       189812\n",
              "quantity       189812\n",
              "sum            189812\n",
              "is_green       189812\n",
              "id_card_int    189812\n",
              "id_doc_int     189812\n",
              "day            189812\n",
              "dtype: int64"
            ]
          },
          "metadata": {
            "tags": []
          },
          "execution_count": 25
        }
      ]
    },
    {
      "cell_type": "markdown",
      "metadata": {
        "id": "WrYlHPdz1Xm-"
      },
      "source": [
        "The above stats shows that all of his 189812 orders were made offline."
      ],
      "id": "WrYlHPdz1Xm-"
    },
    {
      "cell_type": "markdown",
      "metadata": {
        "id": "85i6amy-1hot"
      },
      "source": [
        "The next step was made to make sure that the customer with id_card = 883386 has some anomalies. I have calculated the overall amount that he spend and the difference between him and the second one is enormous."
      ],
      "id": "85i6amy-1hot"
    },
    {
      "cell_type": "code",
      "metadata": {
        "colab": {
          "base_uri": "https://localhost:8080/",
          "height": 428
        },
        "id": "QqRLYgwnqckg",
        "outputId": "d5e41dcc-31c4-4d49-80af-fc97ba0dd6a6"
      },
      "source": [
        "df.groupby(['id_card_int']).sum().sort_values(by=\"sum\")"
      ],
      "id": "QqRLYgwnqckg",
      "execution_count": 30,
      "outputs": [
        {
          "output_type": "execute_result",
          "data": {
            "text/html": [
              "<div>\n",
              "<style scoped>\n",
              "    .dataframe tbody tr th:only-of-type {\n",
              "        vertical-align: middle;\n",
              "    }\n",
              "\n",
              "    .dataframe tbody tr th {\n",
              "        vertical-align: top;\n",
              "    }\n",
              "\n",
              "    .dataframe thead th {\n",
              "        text-align: right;\n",
              "    }\n",
              "</style>\n",
              "<table border=\"1\" class=\"dataframe\">\n",
              "  <thead>\n",
              "    <tr style=\"text-align: right;\">\n",
              "      <th></th>\n",
              "      <th>id_order</th>\n",
              "      <th>id_tov</th>\n",
              "      <th>id_kontr</th>\n",
              "      <th>quantity</th>\n",
              "      <th>sum</th>\n",
              "      <th>is_green</th>\n",
              "      <th>id_doc_int</th>\n",
              "    </tr>\n",
              "    <tr>\n",
              "      <th>id_card_int</th>\n",
              "      <th></th>\n",
              "      <th></th>\n",
              "      <th></th>\n",
              "      <th></th>\n",
              "      <th></th>\n",
              "      <th></th>\n",
              "      <th></th>\n",
              "    </tr>\n",
              "  </thead>\n",
              "  <tbody>\n",
              "    <tr>\n",
              "      <th>1871302</th>\n",
              "      <td>0</td>\n",
              "      <td>21435</td>\n",
              "      <td>102</td>\n",
              "      <td>1.000</td>\n",
              "      <td>0.00</td>\n",
              "      <td>0</td>\n",
              "      <td>21829155</td>\n",
              "    </tr>\n",
              "    <tr>\n",
              "      <th>527413</th>\n",
              "      <td>0</td>\n",
              "      <td>179951</td>\n",
              "      <td>86824</td>\n",
              "      <td>5.000</td>\n",
              "      <td>0.00</td>\n",
              "      <td>5</td>\n",
              "      <td>86521061</td>\n",
              "    </tr>\n",
              "    <tr>\n",
              "      <th>1843017</th>\n",
              "      <td>0</td>\n",
              "      <td>234032</td>\n",
              "      <td>113846</td>\n",
              "      <td>12.000</td>\n",
              "      <td>0.00</td>\n",
              "      <td>0</td>\n",
              "      <td>23359304</td>\n",
              "    </tr>\n",
              "    <tr>\n",
              "      <th>405371</th>\n",
              "      <td>0</td>\n",
              "      <td>162821</td>\n",
              "      <td>75401</td>\n",
              "      <td>8.000</td>\n",
              "      <td>0.00</td>\n",
              "      <td>4</td>\n",
              "      <td>58061750</td>\n",
              "    </tr>\n",
              "    <tr>\n",
              "      <th>365257</th>\n",
              "      <td>0</td>\n",
              "      <td>647</td>\n",
              "      <td>-9999</td>\n",
              "      <td>1.000</td>\n",
              "      <td>0.00</td>\n",
              "      <td>0</td>\n",
              "      <td>2932231</td>\n",
              "    </tr>\n",
              "    <tr>\n",
              "      <th>...</th>\n",
              "      <td>...</td>\n",
              "      <td>...</td>\n",
              "      <td>...</td>\n",
              "      <td>...</td>\n",
              "      <td>...</td>\n",
              "      <td>...</td>\n",
              "      <td>...</td>\n",
              "    </tr>\n",
              "    <tr>\n",
              "      <th>1447941</th>\n",
              "      <td>1846224652</td>\n",
              "      <td>11934022</td>\n",
              "      <td>4583099</td>\n",
              "      <td>767.353</td>\n",
              "      <td>98215.49</td>\n",
              "      <td>3</td>\n",
              "      <td>7513709846</td>\n",
              "    </tr>\n",
              "    <tr>\n",
              "      <th>1755035</th>\n",
              "      <td>19554147</td>\n",
              "      <td>279221</td>\n",
              "      <td>203854</td>\n",
              "      <td>51.000</td>\n",
              "      <td>116411.20</td>\n",
              "      <td>2</td>\n",
              "      <td>205354227</td>\n",
              "    </tr>\n",
              "    <tr>\n",
              "      <th>1243870</th>\n",
              "      <td>0</td>\n",
              "      <td>14823178</td>\n",
              "      <td>9579794</td>\n",
              "      <td>1032.448</td>\n",
              "      <td>124131.91</td>\n",
              "      <td>5</td>\n",
              "      <td>7581114411</td>\n",
              "    </tr>\n",
              "    <tr>\n",
              "      <th>568930</th>\n",
              "      <td>2234948749</td>\n",
              "      <td>17156402</td>\n",
              "      <td>8733962</td>\n",
              "      <td>1869.601</td>\n",
              "      <td>211154.31</td>\n",
              "      <td>8</td>\n",
              "      <td>5952086098</td>\n",
              "    </tr>\n",
              "    <tr>\n",
              "      <th>883386</th>\n",
              "      <td>0</td>\n",
              "      <td>4163789442</td>\n",
              "      <td>2123776403</td>\n",
              "      <td>229022.537</td>\n",
              "      <td>18259091.85</td>\n",
              "      <td>355</td>\n",
              "      <td>2226507914953</td>\n",
              "    </tr>\n",
              "  </tbody>\n",
              "</table>\n",
              "<p>1358089 rows × 7 columns</p>\n",
              "</div>"
            ],
            "text/plain": [
              "               id_order      id_tov  ...  is_green     id_doc_int\n",
              "id_card_int                          ...                         \n",
              "1871302               0       21435  ...         0       21829155\n",
              "527413                0      179951  ...         5       86521061\n",
              "1843017               0      234032  ...         0       23359304\n",
              "405371                0      162821  ...         4       58061750\n",
              "365257                0         647  ...         0        2932231\n",
              "...                 ...         ...  ...       ...            ...\n",
              "1447941      1846224652    11934022  ...         3     7513709846\n",
              "1755035        19554147      279221  ...         2      205354227\n",
              "1243870               0    14823178  ...         5     7581114411\n",
              "568930       2234948749    17156402  ...         8     5952086098\n",
              "883386                0  4163789442  ...       355  2226507914953\n",
              "\n",
              "[1358089 rows x 7 columns]"
            ]
          },
          "metadata": {
            "tags": []
          },
          "execution_count": 30
        }
      ]
    },
    {
      "cell_type": "markdown",
      "metadata": {
        "id": "ZKv6Ku4D2wmD"
      },
      "source": [
        "The statistics for other months proves above ideas. Everything points to the exact same customer."
      ],
      "id": "ZKv6Ku4D2wmD"
    },
    {
      "cell_type": "markdown",
      "metadata": {
        "id": "JwSlp1uU7TGq"
      },
      "source": [
        "**October**"
      ],
      "id": "JwSlp1uU7TGq"
    },
    {
      "cell_type": "code",
      "metadata": {
        "colab": {
          "base_uri": "https://localhost:8080/",
          "height": 399
        },
        "id": "NjIJZAb04SXE",
        "outputId": "9223a465-8926-49d1-da82-10715577c7d3"
      },
      "source": [
        "df_2.groupby(['id_card_int']).size().reset_index(name=\"counts\").sort_values(by=\"counts\")"
      ],
      "id": "NjIJZAb04SXE",
      "execution_count": 11,
      "outputs": [
        {
          "output_type": "execute_result",
          "data": {
            "text/html": [
              "<div>\n",
              "<style scoped>\n",
              "    .dataframe tbody tr th:only-of-type {\n",
              "        vertical-align: middle;\n",
              "    }\n",
              "\n",
              "    .dataframe tbody tr th {\n",
              "        vertical-align: top;\n",
              "    }\n",
              "\n",
              "    .dataframe thead th {\n",
              "        text-align: right;\n",
              "    }\n",
              "</style>\n",
              "<table border=\"1\" class=\"dataframe\">\n",
              "  <thead>\n",
              "    <tr style=\"text-align: right;\">\n",
              "      <th></th>\n",
              "      <th>id_card_int</th>\n",
              "      <th>counts</th>\n",
              "    </tr>\n",
              "  </thead>\n",
              "  <tbody>\n",
              "    <tr>\n",
              "      <th>681980</th>\n",
              "      <td>928324</td>\n",
              "      <td>1</td>\n",
              "    </tr>\n",
              "    <tr>\n",
              "      <th>759204</th>\n",
              "      <td>1037262</td>\n",
              "      <td>1</td>\n",
              "    </tr>\n",
              "    <tr>\n",
              "      <th>71786</th>\n",
              "      <td>94324</td>\n",
              "      <td>1</td>\n",
              "    </tr>\n",
              "    <tr>\n",
              "      <th>759210</th>\n",
              "      <td>1037269</td>\n",
              "      <td>1</td>\n",
              "    </tr>\n",
              "    <tr>\n",
              "      <th>759215</th>\n",
              "      <td>1037274</td>\n",
              "      <td>1</td>\n",
              "    </tr>\n",
              "    <tr>\n",
              "      <th>...</th>\n",
              "      <td>...</td>\n",
              "      <td>...</td>\n",
              "    </tr>\n",
              "    <tr>\n",
              "      <th>225556</th>\n",
              "      <td>297027</td>\n",
              "      <td>730</td>\n",
              "    </tr>\n",
              "    <tr>\n",
              "      <th>331358</th>\n",
              "      <td>440354</td>\n",
              "      <td>769</td>\n",
              "    </tr>\n",
              "    <tr>\n",
              "      <th>399283</th>\n",
              "      <td>533540</td>\n",
              "      <td>772</td>\n",
              "    </tr>\n",
              "    <tr>\n",
              "      <th>317603</th>\n",
              "      <td>421742</td>\n",
              "      <td>881</td>\n",
              "    </tr>\n",
              "    <tr>\n",
              "      <th>649740</th>\n",
              "      <td>883386</td>\n",
              "      <td>204271</td>\n",
              "    </tr>\n",
              "  </tbody>\n",
              "</table>\n",
              "<p>1363961 rows × 2 columns</p>\n",
              "</div>"
            ],
            "text/plain": [
              "        id_card_int  counts\n",
              "681980       928324       1\n",
              "759204      1037262       1\n",
              "71786         94324       1\n",
              "759210      1037269       1\n",
              "759215      1037274       1\n",
              "...             ...     ...\n",
              "225556       297027     730\n",
              "331358       440354     769\n",
              "399283       533540     772\n",
              "317603       421742     881\n",
              "649740       883386  204271\n",
              "\n",
              "[1363961 rows x 2 columns]"
            ]
          },
          "metadata": {
            "tags": []
          },
          "execution_count": 11
        }
      ]
    },
    {
      "cell_type": "markdown",
      "metadata": {
        "id": "vM1_5nHV7YnQ"
      },
      "source": [
        "**November**"
      ],
      "id": "vM1_5nHV7YnQ"
    },
    {
      "cell_type": "code",
      "metadata": {
        "colab": {
          "base_uri": "https://localhost:8080/",
          "height": 399
        },
        "id": "0idmIvro7bOe",
        "outputId": "aa6f1742-27b7-41f6-e9a7-7f0088d553ea"
      },
      "source": [
        "df_3.groupby(['id_card_int']).size().reset_index(name=\"counts\").sort_values(by=\"counts\")"
      ],
      "id": "0idmIvro7bOe",
      "execution_count": 8,
      "outputs": [
        {
          "output_type": "execute_result",
          "data": {
            "text/html": [
              "<div>\n",
              "<style scoped>\n",
              "    .dataframe tbody tr th:only-of-type {\n",
              "        vertical-align: middle;\n",
              "    }\n",
              "\n",
              "    .dataframe tbody tr th {\n",
              "        vertical-align: top;\n",
              "    }\n",
              "\n",
              "    .dataframe thead th {\n",
              "        text-align: right;\n",
              "    }\n",
              "</style>\n",
              "<table border=\"1\" class=\"dataframe\">\n",
              "  <thead>\n",
              "    <tr style=\"text-align: right;\">\n",
              "      <th></th>\n",
              "      <th>id_card_int</th>\n",
              "      <th>counts</th>\n",
              "    </tr>\n",
              "  </thead>\n",
              "  <tbody>\n",
              "    <tr>\n",
              "      <th>1100156</th>\n",
              "      <td>1569326</td>\n",
              "      <td>1</td>\n",
              "    </tr>\n",
              "    <tr>\n",
              "      <th>558437</th>\n",
              "      <td>772791</td>\n",
              "      <td>1</td>\n",
              "    </tr>\n",
              "    <tr>\n",
              "      <th>954998</th>\n",
              "      <td>1350833</td>\n",
              "      <td>1</td>\n",
              "    </tr>\n",
              "    <tr>\n",
              "      <th>1279817</th>\n",
              "      <td>1855550</td>\n",
              "      <td>1</td>\n",
              "    </tr>\n",
              "    <tr>\n",
              "      <th>558430</th>\n",
              "      <td>772781</td>\n",
              "      <td>1</td>\n",
              "    </tr>\n",
              "    <tr>\n",
              "      <th>...</th>\n",
              "      <td>...</td>\n",
              "      <td>...</td>\n",
              "    </tr>\n",
              "    <tr>\n",
              "      <th>733034</th>\n",
              "      <td>1025552</td>\n",
              "      <td>732</td>\n",
              "    </tr>\n",
              "    <tr>\n",
              "      <th>365881</th>\n",
              "      <td>497966</td>\n",
              "      <td>737</td>\n",
              "    </tr>\n",
              "    <tr>\n",
              "      <th>1105409</th>\n",
              "      <td>1577248</td>\n",
              "      <td>789</td>\n",
              "    </tr>\n",
              "    <tr>\n",
              "      <th>1271558</th>\n",
              "      <td>1841799</td>\n",
              "      <td>790</td>\n",
              "    </tr>\n",
              "    <tr>\n",
              "      <th>634961</th>\n",
              "      <td>883386</td>\n",
              "      <td>228012</td>\n",
              "    </tr>\n",
              "  </tbody>\n",
              "</table>\n",
              "<p>1335358 rows × 2 columns</p>\n",
              "</div>"
            ],
            "text/plain": [
              "         id_card_int  counts\n",
              "1100156      1569326       1\n",
              "558437        772791       1\n",
              "954998       1350833       1\n",
              "1279817      1855550       1\n",
              "558430        772781       1\n",
              "...              ...     ...\n",
              "733034       1025552     732\n",
              "365881        497966     737\n",
              "1105409      1577248     789\n",
              "1271558      1841799     790\n",
              "634961        883386  228012\n",
              "\n",
              "[1335358 rows x 2 columns]"
            ]
          },
          "metadata": {
            "tags": []
          },
          "execution_count": 8
        }
      ]
    },
    {
      "cell_type": "code",
      "metadata": {
        "id": "xualj-1dt2fc"
      },
      "source": [
        "suspect = pd.DataFrame(data=['883386'])\n",
        "with bz2.open(data_path / 'suspect.pkl.bz2', 'wb') as f:\n",
        "  pickle.dump(suspect, f, protocol=4)"
      ],
      "id": "xualj-1dt2fc",
      "execution_count": 14,
      "outputs": []
    }
  ]
}