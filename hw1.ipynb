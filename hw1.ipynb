{
 "cells": [
  {
   "cell_type": "code",
   "execution_count": 14,
   "metadata": {
    "collapsed": true,
    "jupyter": {
     "outputs_hidden": true
    }
   },
   "outputs": [
    {
     "name": "stdout",
     "output_type": "stream",
     "text": [
      "Requirement already satisfied: pandas==1.2.3 in /Library/Frameworks/Python.framework/Versions/3.8/lib/python3.8/site-packages (1.2.3)\n",
      "Requirement already satisfied: pytz>=2017.3 in /Library/Frameworks/Python.framework/Versions/3.8/lib/python3.8/site-packages (from pandas==1.2.3) (2019.3)\n",
      "Requirement already satisfied: numpy>=1.16.5 in /Library/Frameworks/Python.framework/Versions/3.8/lib/python3.8/site-packages (from pandas==1.2.3) (1.19.5)\n",
      "Requirement already satisfied: python-dateutil>=2.7.3 in /Library/Frameworks/Python.framework/Versions/3.8/lib/python3.8/site-packages (from pandas==1.2.3) (2.8.0)\n",
      "Requirement already satisfied: six>=1.5 in /Library/Frameworks/Python.framework/Versions/3.8/lib/python3.8/site-packages (from python-dateutil>=2.7.3->pandas==1.2.3) (1.15.0)\n",
      "\u001b[33mWARNING: You are using pip version 21.0; however, version 21.0.1 is available.\n",
      "You should consider upgrading via the '/Library/Frameworks/Python.framework/Versions/3.8/bin/python3.8 -m pip install --upgrade pip' command.\u001b[0m\n"
     ]
    }
   ],
   "source": [
    "import sys\n",
    "!{sys.executable} -m pip install pandas==1.2.3"
   ]
  },
  {
   "cell_type": "code",
   "execution_count": 77,
   "metadata": {},
   "outputs": [],
   "source": [
    "import bz2\n",
    "import pickle\n",
    "import pandas as pd\n",
    "import matplotlib.pyplot as plt"
   ]
  },
  {
   "cell_type": "code",
   "execution_count": 7,
   "metadata": {},
   "outputs": [],
   "source": [
    "with bz2.open('09_prepared.pkl.bz2', 'rb') as f:\n",
    "    df = pickle.load(f)"
   ]
  },
  {
   "cell_type": "code",
   "execution_count": 78,
   "metadata": {},
   "outputs": [],
   "source": [
    "with bz2.open('10_prepared.pkl.bz2', 'rb') as f:\n",
    "    df2 = pickle.load(f)"
   ]
  },
  {
   "cell_type": "code",
   "execution_count": 79,
   "metadata": {},
   "outputs": [],
   "source": [
    "with bz2.open('11_prepared.pkl.bz2', 'rb') as f:\n",
    "    df3 = pickle.load(f)"
   ]
  },
  {
   "cell_type": "code",
   "execution_count": 81,
   "metadata": {},
   "outputs": [],
   "source": [
    "df = pd.concat([df, df2, df3])"
   ]
  },
  {
   "cell_type": "code",
   "execution_count": 82,
   "metadata": {},
   "outputs": [
    {
     "data": {
      "text/html": [
       "<div>\n",
       "<style scoped>\n",
       "    .dataframe tbody tr th:only-of-type {\n",
       "        vertical-align: middle;\n",
       "    }\n",
       "\n",
       "    .dataframe tbody tr th {\n",
       "        vertical-align: top;\n",
       "    }\n",
       "\n",
       "    .dataframe thead th {\n",
       "        text-align: right;\n",
       "    }\n",
       "</style>\n",
       "<table border=\"1\" class=\"dataframe\">\n",
       "  <thead>\n",
       "    <tr style=\"text-align: right;\">\n",
       "      <th></th>\n",
       "      <th>date</th>\n",
       "      <th>id_doc</th>\n",
       "      <th>id_order</th>\n",
       "      <th>id_card</th>\n",
       "      <th>id_tov</th>\n",
       "      <th>id_kontr</th>\n",
       "      <th>quantity</th>\n",
       "      <th>sum</th>\n",
       "      <th>is_green</th>\n",
       "      <th>id_card_int</th>\n",
       "      <th>id_doc_int</th>\n",
       "    </tr>\n",
       "  </thead>\n",
       "  <tbody>\n",
       "    <tr>\n",
       "      <th>6835683</th>\n",
       "      <td>2020-10-05 11:57:52</td>\n",
       "      <td>60FE36D4-E906-EB11-B444-005056A7539A</td>\n",
       "      <td>0</td>\n",
       "      <td>5936420</td>\n",
       "      <td>1113</td>\n",
       "      <td>-9999</td>\n",
       "      <td>5000.000</td>\n",
       "      <td>0.00</td>\n",
       "      <td>False</td>\n",
       "      <td>1103443</td>\n",
       "      <td>8871720</td>\n",
       "    </tr>\n",
       "    <tr>\n",
       "      <th>14944711</th>\n",
       "      <td>2020-10-11 20:04:22</td>\n",
       "      <td>3EF14839-E40B-EB11-B444-005056A7539A</td>\n",
       "      <td>0</td>\n",
       "      <td>5276031</td>\n",
       "      <td>1113</td>\n",
       "      <td>-9999</td>\n",
       "      <td>5000.000</td>\n",
       "      <td>0.00</td>\n",
       "      <td>False</td>\n",
       "      <td>978352</td>\n",
       "      <td>5755792</td>\n",
       "    </tr>\n",
       "    <tr>\n",
       "      <th>38497419</th>\n",
       "      <td>2020-11-25 21:43:15</td>\n",
       "      <td>DC102B53-4E2F-EB11-B444-005056A7539A</td>\n",
       "      <td>0</td>\n",
       "      <td>1697303</td>\n",
       "      <td>1113</td>\n",
       "      <td>-9999</td>\n",
       "      <td>5000.000</td>\n",
       "      <td>0.00</td>\n",
       "      <td>False</td>\n",
       "      <td>310185</td>\n",
       "      <td>20130973</td>\n",
       "    </tr>\n",
       "    <tr>\n",
       "      <th>27314850</th>\n",
       "      <td>2020-09-20 17:55:14</td>\n",
       "      <td>76C1A889-51FB-EA11-B444-005056A7539A</td>\n",
       "      <td>0</td>\n",
       "      <td>0481876</td>\n",
       "      <td>1113</td>\n",
       "      <td>-9999</td>\n",
       "      <td>5000.000</td>\n",
       "      <td>0.00</td>\n",
       "      <td>False</td>\n",
       "      <td>95782</td>\n",
       "      <td>10865027</td>\n",
       "    </tr>\n",
       "    <tr>\n",
       "      <th>7510528</th>\n",
       "      <td>2020-11-05 11:43:46</td>\n",
       "      <td>62FCD9D1-441F-EB11-B444-005056A7539A</td>\n",
       "      <td>0</td>\n",
       "      <td>1540431</td>\n",
       "      <td>1113</td>\n",
       "      <td>-9999</td>\n",
       "      <td>5000.000</td>\n",
       "      <td>0.00</td>\n",
       "      <td>False</td>\n",
       "      <td>283255</td>\n",
       "      <td>9054327</td>\n",
       "    </tr>\n",
       "    <tr>\n",
       "      <th>...</th>\n",
       "      <td>...</td>\n",
       "      <td>...</td>\n",
       "      <td>...</td>\n",
       "      <td>...</td>\n",
       "      <td>...</td>\n",
       "      <td>...</td>\n",
       "      <td>...</td>\n",
       "      <td>...</td>\n",
       "      <td>...</td>\n",
       "      <td>...</td>\n",
       "      <td>...</td>\n",
       "    </tr>\n",
       "    <tr>\n",
       "      <th>5328566</th>\n",
       "      <td>2020-09-04 08:40:42</td>\n",
       "      <td>F30A7366-71EE-EA11-B444-005056A7539A</td>\n",
       "      <td>0</td>\n",
       "      <td>4039719</td>\n",
       "      <td>23074</td>\n",
       "      <td>19269</td>\n",
       "      <td>-2.154</td>\n",
       "      <td>799.13</td>\n",
       "      <td>False</td>\n",
       "      <td>718534</td>\n",
       "      <td>22233004</td>\n",
       "    </tr>\n",
       "    <tr>\n",
       "      <th>4498436</th>\n",
       "      <td>2020-09-04 08:48:22</td>\n",
       "      <td>8EAB9296-72EE-EA11-B444-005056A7539A</td>\n",
       "      <td>0</td>\n",
       "      <td>4176812</td>\n",
       "      <td>23074</td>\n",
       "      <td>19269</td>\n",
       "      <td>-2.288</td>\n",
       "      <td>848.85</td>\n",
       "      <td>False</td>\n",
       "      <td>748956</td>\n",
       "      <td>13052513</td>\n",
       "    </tr>\n",
       "    <tr>\n",
       "      <th>4218022</th>\n",
       "      <td>2020-09-04 08:43:37</td>\n",
       "      <td>B681FEE3-71EE-EA11-B444-005056A7539A</td>\n",
       "      <td>0</td>\n",
       "      <td>0643258</td>\n",
       "      <td>23074</td>\n",
       "      <td>19269</td>\n",
       "      <td>-2.375</td>\n",
       "      <td>881.13</td>\n",
       "      <td>False</td>\n",
       "      <td>126995</td>\n",
       "      <td>16694740</td>\n",
       "    </tr>\n",
       "    <tr>\n",
       "      <th>5376952</th>\n",
       "      <td>2020-09-04 08:37:59</td>\n",
       "      <td>0F874EE9-70EE-EA11-B444-005056A7539A</td>\n",
       "      <td>0</td>\n",
       "      <td>0504982</td>\n",
       "      <td>23074</td>\n",
       "      <td>19269</td>\n",
       "      <td>-2.616</td>\n",
       "      <td>970.54</td>\n",
       "      <td>False</td>\n",
       "      <td>100408</td>\n",
       "      <td>1420209</td>\n",
       "    </tr>\n",
       "    <tr>\n",
       "      <th>5363163</th>\n",
       "      <td>2020-09-04 08:57:25</td>\n",
       "      <td>B47CB0BA-73EE-EA11-B444-005056A7539A</td>\n",
       "      <td>0</td>\n",
       "      <td>2518343</td>\n",
       "      <td>23074</td>\n",
       "      <td>19269</td>\n",
       "      <td>-2.755</td>\n",
       "      <td>1022.11</td>\n",
       "      <td>False</td>\n",
       "      <td>446374</td>\n",
       "      <td>16510411</td>\n",
       "    </tr>\n",
       "  </tbody>\n",
       "</table>\n",
       "<p>134720638 rows × 11 columns</p>\n",
       "</div>"
      ],
      "text/plain": [
       "                        date                                id_doc  id_order  \\\n",
       "6835683  2020-10-05 11:57:52  60FE36D4-E906-EB11-B444-005056A7539A         0   \n",
       "14944711 2020-10-11 20:04:22  3EF14839-E40B-EB11-B444-005056A7539A         0   \n",
       "38497419 2020-11-25 21:43:15  DC102B53-4E2F-EB11-B444-005056A7539A         0   \n",
       "27314850 2020-09-20 17:55:14  76C1A889-51FB-EA11-B444-005056A7539A         0   \n",
       "7510528  2020-11-05 11:43:46  62FCD9D1-441F-EB11-B444-005056A7539A         0   \n",
       "...                      ...                                   ...       ...   \n",
       "5328566  2020-09-04 08:40:42  F30A7366-71EE-EA11-B444-005056A7539A         0   \n",
       "4498436  2020-09-04 08:48:22  8EAB9296-72EE-EA11-B444-005056A7539A         0   \n",
       "4218022  2020-09-04 08:43:37  B681FEE3-71EE-EA11-B444-005056A7539A         0   \n",
       "5376952  2020-09-04 08:37:59  0F874EE9-70EE-EA11-B444-005056A7539A         0   \n",
       "5363163  2020-09-04 08:57:25  B47CB0BA-73EE-EA11-B444-005056A7539A         0   \n",
       "\n",
       "          id_card  id_tov  id_kontr  quantity      sum  is_green  id_card_int  \\\n",
       "6835683   5936420    1113     -9999  5000.000     0.00     False      1103443   \n",
       "14944711  5276031    1113     -9999  5000.000     0.00     False       978352   \n",
       "38497419  1697303    1113     -9999  5000.000     0.00     False       310185   \n",
       "27314850  0481876    1113     -9999  5000.000     0.00     False        95782   \n",
       "7510528   1540431    1113     -9999  5000.000     0.00     False       283255   \n",
       "...           ...     ...       ...       ...      ...       ...          ...   \n",
       "5328566   4039719   23074     19269    -2.154   799.13     False       718534   \n",
       "4498436   4176812   23074     19269    -2.288   848.85     False       748956   \n",
       "4218022   0643258   23074     19269    -2.375   881.13     False       126995   \n",
       "5376952   0504982   23074     19269    -2.616   970.54     False       100408   \n",
       "5363163   2518343   23074     19269    -2.755  1022.11     False       446374   \n",
       "\n",
       "          id_doc_int  \n",
       "6835683      8871720  \n",
       "14944711     5755792  \n",
       "38497419    20130973  \n",
       "27314850    10865027  \n",
       "7510528      9054327  \n",
       "...              ...  \n",
       "5328566     22233004  \n",
       "4498436     13052513  \n",
       "4218022     16694740  \n",
       "5376952      1420209  \n",
       "5363163     16510411  \n",
       "\n",
       "[134720638 rows x 11 columns]"
      ]
     },
     "execution_count": 82,
     "metadata": {},
     "output_type": "execute_result"
    }
   ],
   "source": [
    "df.sort_values(['quantity'], ascending=False)"
   ]
  },
  {
   "cell_type": "markdown",
   "metadata": {},
   "source": [
    "## Сумма покупок в чеке, для каждого чека"
   ]
  },
  {
   "cell_type": "code",
   "execution_count": 83,
   "metadata": {},
   "outputs": [],
   "source": [
    "check_sum = df[['id_doc_int', 'sum']].groupby(['id_doc_int']).sum()"
   ]
  },
  {
   "cell_type": "code",
   "execution_count": 84,
   "metadata": {},
   "outputs": [
    {
     "data": {
      "text/html": [
       "<div>\n",
       "<style scoped>\n",
       "    .dataframe tbody tr th:only-of-type {\n",
       "        vertical-align: middle;\n",
       "    }\n",
       "\n",
       "    .dataframe tbody tr th {\n",
       "        vertical-align: top;\n",
       "    }\n",
       "\n",
       "    .dataframe thead th {\n",
       "        text-align: right;\n",
       "    }\n",
       "</style>\n",
       "<table border=\"1\" class=\"dataframe\">\n",
       "  <thead>\n",
       "    <tr style=\"text-align: right;\">\n",
       "      <th></th>\n",
       "      <th>sum</th>\n",
       "    </tr>\n",
       "    <tr>\n",
       "      <th>id_doc_int</th>\n",
       "      <th></th>\n",
       "    </tr>\n",
       "  </thead>\n",
       "  <tbody>\n",
       "    <tr>\n",
       "      <th>21745256</th>\n",
       "      <td>80405.0</td>\n",
       "    </tr>\n",
       "    <tr>\n",
       "      <th>7873674</th>\n",
       "      <td>66732.0</td>\n",
       "    </tr>\n",
       "    <tr>\n",
       "      <th>5311106</th>\n",
       "      <td>49848.0</td>\n",
       "    </tr>\n",
       "    <tr>\n",
       "      <th>14218897</th>\n",
       "      <td>48005.0</td>\n",
       "    </tr>\n",
       "    <tr>\n",
       "      <th>15327274</th>\n",
       "      <td>39650.0</td>\n",
       "    </tr>\n",
       "    <tr>\n",
       "      <th>10640662</th>\n",
       "      <td>38429.0</td>\n",
       "    </tr>\n",
       "    <tr>\n",
       "      <th>3121608</th>\n",
       "      <td>33860.0</td>\n",
       "    </tr>\n",
       "    <tr>\n",
       "      <th>2823436</th>\n",
       "      <td>32530.0</td>\n",
       "    </tr>\n",
       "    <tr>\n",
       "      <th>21204490</th>\n",
       "      <td>29063.8</td>\n",
       "    </tr>\n",
       "    <tr>\n",
       "      <th>1245422</th>\n",
       "      <td>27800.0</td>\n",
       "    </tr>\n",
       "  </tbody>\n",
       "</table>\n",
       "</div>"
      ],
      "text/plain": [
       "                sum\n",
       "id_doc_int         \n",
       "21745256    80405.0\n",
       "7873674     66732.0\n",
       "5311106     49848.0\n",
       "14218897    48005.0\n",
       "15327274    39650.0\n",
       "10640662    38429.0\n",
       "3121608     33860.0\n",
       "2823436     32530.0\n",
       "21204490    29063.8\n",
       "1245422     27800.0"
      ]
     },
     "execution_count": 84,
     "metadata": {},
     "output_type": "execute_result"
    }
   ],
   "source": [
    "check_sum.sort_values(['sum'], ascending=False).head(10)"
   ]
  },
  {
   "cell_type": "code",
   "execution_count": 85,
   "metadata": {},
   "outputs": [
    {
     "data": {
      "text/plain": [
       "<matplotlib.axes._subplots.AxesSubplot at 0x7f81991aeeb0>"
      ]
     },
     "execution_count": 85,
     "metadata": {},
     "output_type": "execute_result"
    },
    {
     "data": {
      "image/png": "[encoded data removed]",
      "text/plain": [
       "<Figure size 432x288 with 1 Axes>"
      ]
     },
     "metadata": {
      "needs_background": "light"
     },
     "output_type": "display_data"
    }
   ],
   "source": [
    "check_sum.boxplot()"
   ]
  },
  {
   "cell_type": "code",
   "execution_count": 91,
   "metadata": {},
   "outputs": [
    {
     "data": {
      "text/plain": [
       "count    23417869.000000\n",
       "mean          670.390031\n",
       "std           723.332752\n",
       "min             0.000000\n",
       "25%           220.320000\n",
       "50%           443.800000\n",
       "75%           853.000000\n",
       "max         80405.000000\n",
       "Name: sum, dtype: object"
      ]
     },
     "execution_count": 91,
     "metadata": {},
     "output_type": "execute_result"
    }
   ],
   "source": [
    "check_sum['sum'].describe().apply(lambda x: format(x, 'f'))"
   ]
  },
  {
   "cell_type": "markdown",
   "metadata": {},
   "source": [
    "Outliers"
   ]
  },
  {
   "cell_type": "code",
   "execution_count": 93,
   "metadata": {},
   "outputs": [
    {
     "data": {
      "text/html": [
       "<div>\n",
       "<style scoped>\n",
       "    .dataframe tbody tr th:only-of-type {\n",
       "        vertical-align: middle;\n",
       "    }\n",
       "\n",
       "    .dataframe tbody tr th {\n",
       "        vertical-align: top;\n",
       "    }\n",
       "\n",
       "    .dataframe thead th {\n",
       "        text-align: right;\n",
       "    }\n",
       "</style>\n",
       "<table border=\"1\" class=\"dataframe\">\n",
       "  <thead>\n",
       "    <tr style=\"text-align: right;\">\n",
       "      <th></th>\n",
       "      <th>sum</th>\n",
       "    </tr>\n",
       "    <tr>\n",
       "      <th>id_doc_int</th>\n",
       "      <th></th>\n",
       "    </tr>\n",
       "  </thead>\n",
       "  <tbody>\n",
       "    <tr>\n",
       "      <th>5699</th>\n",
       "      <td>10651.10</td>\n",
       "    </tr>\n",
       "    <tr>\n",
       "      <th>10325</th>\n",
       "      <td>10079.20</td>\n",
       "    </tr>\n",
       "    <tr>\n",
       "      <th>40121</th>\n",
       "      <td>10519.87</td>\n",
       "    </tr>\n",
       "    <tr>\n",
       "      <th>50019</th>\n",
       "      <td>11559.38</td>\n",
       "    </tr>\n",
       "    <tr>\n",
       "      <th>52061</th>\n",
       "      <td>12022.29</td>\n",
       "    </tr>\n",
       "    <tr>\n",
       "      <th>...</th>\n",
       "      <td>...</td>\n",
       "    </tr>\n",
       "    <tr>\n",
       "      <th>23346466</th>\n",
       "      <td>20971.46</td>\n",
       "    </tr>\n",
       "    <tr>\n",
       "      <th>23351305</th>\n",
       "      <td>10858.00</td>\n",
       "    </tr>\n",
       "    <tr>\n",
       "      <th>23371738</th>\n",
       "      <td>12023.75</td>\n",
       "    </tr>\n",
       "    <tr>\n",
       "      <th>23382962</th>\n",
       "      <td>16113.46</td>\n",
       "    </tr>\n",
       "    <tr>\n",
       "      <th>23417331</th>\n",
       "      <td>10278.78</td>\n",
       "    </tr>\n",
       "  </tbody>\n",
       "</table>\n",
       "<p>2156 rows × 1 columns</p>\n",
       "</div>"
      ],
      "text/plain": [
       "                 sum\n",
       "id_doc_int          \n",
       "5699        10651.10\n",
       "10325       10079.20\n",
       "40121       10519.87\n",
       "50019       11559.38\n",
       "52061       12022.29\n",
       "...              ...\n",
       "23346466    20971.46\n",
       "23351305    10858.00\n",
       "23371738    12023.75\n",
       "23382962    16113.46\n",
       "23417331    10278.78\n",
       "\n",
       "[2156 rows x 1 columns]"
      ]
     },
     "execution_count": 93,
     "metadata": {},
     "output_type": "execute_result"
    }
   ],
   "source": [
    "check_sum[check_sum['sum'] > 10000]"
   ]
  },
  {
   "cell_type": "code",
   "execution_count": 165,
   "metadata": {},
   "outputs": [],
   "source": [
    "outliers_1 = check_sum[check_sum['sum'] > 10000]"
   ]
  },
  {
   "cell_type": "code",
   "execution_count": 168,
   "metadata": {},
   "outputs": [
    {
     "data": {
      "text/html": [
       "<div>\n",
       "<style scoped>\n",
       "    .dataframe tbody tr th:only-of-type {\n",
       "        vertical-align: middle;\n",
       "    }\n",
       "\n",
       "    .dataframe tbody tr th {\n",
       "        vertical-align: top;\n",
       "    }\n",
       "\n",
       "    .dataframe thead th {\n",
       "        text-align: right;\n",
       "    }\n",
       "</style>\n",
       "<table border=\"1\" class=\"dataframe\">\n",
       "  <thead>\n",
       "    <tr style=\"text-align: right;\">\n",
       "      <th></th>\n",
       "      <th>id_doc_int</th>\n",
       "      <th>id_card_int</th>\n",
       "      <th>sum</th>\n",
       "    </tr>\n",
       "  </thead>\n",
       "  <tbody>\n",
       "    <tr>\n",
       "      <th>0</th>\n",
       "      <td>2971806</td>\n",
       "      <td>689441</td>\n",
       "      <td>10608.21</td>\n",
       "    </tr>\n",
       "    <tr>\n",
       "      <th>53</th>\n",
       "      <td>5173860</td>\n",
       "      <td>228892</td>\n",
       "      <td>10985.14</td>\n",
       "    </tr>\n",
       "    <tr>\n",
       "      <th>76</th>\n",
       "      <td>6496131</td>\n",
       "      <td>1926393</td>\n",
       "      <td>10894.19</td>\n",
       "    </tr>\n",
       "    <tr>\n",
       "      <th>135</th>\n",
       "      <td>22804787</td>\n",
       "      <td>1211543</td>\n",
       "      <td>10549.57</td>\n",
       "    </tr>\n",
       "    <tr>\n",
       "      <th>182</th>\n",
       "      <td>502916</td>\n",
       "      <td>17398</td>\n",
       "      <td>10162.09</td>\n",
       "    </tr>\n",
       "    <tr>\n",
       "      <th>...</th>\n",
       "      <td>...</td>\n",
       "      <td>...</td>\n",
       "      <td>...</td>\n",
       "    </tr>\n",
       "    <tr>\n",
       "      <th>119144</th>\n",
       "      <td>20743766</td>\n",
       "      <td>1759968</td>\n",
       "      <td>10710.47</td>\n",
       "    </tr>\n",
       "    <tr>\n",
       "      <th>119198</th>\n",
       "      <td>3464676</td>\n",
       "      <td>1877362</td>\n",
       "      <td>10003.37</td>\n",
       "    </tr>\n",
       "    <tr>\n",
       "      <th>119248</th>\n",
       "      <td>21773512</td>\n",
       "      <td>108205</td>\n",
       "      <td>11924.98</td>\n",
       "    </tr>\n",
       "    <tr>\n",
       "      <th>119310</th>\n",
       "      <td>16027818</td>\n",
       "      <td>1142191</td>\n",
       "      <td>15093.95</td>\n",
       "    </tr>\n",
       "    <tr>\n",
       "      <th>119390</th>\n",
       "      <td>16244742</td>\n",
       "      <td>414158</td>\n",
       "      <td>17382.75</td>\n",
       "    </tr>\n",
       "  </tbody>\n",
       "</table>\n",
       "<p>2156 rows × 3 columns</p>\n",
       "</div>"
      ],
      "text/plain": [
       "        id_doc_int  id_card_int       sum\n",
       "0          2971806       689441  10608.21\n",
       "53         5173860       228892  10985.14\n",
       "76         6496131      1926393  10894.19\n",
       "135       22804787      1211543  10549.57\n",
       "182         502916        17398  10162.09\n",
       "...            ...          ...       ...\n",
       "119144    20743766      1759968  10710.47\n",
       "119198     3464676      1877362  10003.37\n",
       "119248    21773512       108205  11924.98\n",
       "119310    16027818      1142191  15093.95\n",
       "119390    16244742       414158  17382.75\n",
       "\n",
       "[2156 rows x 3 columns]"
      ]
     },
     "execution_count": 168,
     "metadata": {},
     "output_type": "execute_result"
    }
   ],
   "source": [
    "pd.merge(df[[\"id_doc_int\",\"id_card_int\"]], outliers_1, on=\"id_doc_int\").drop_duplicates()"
   ]
  },
  {
   "cell_type": "markdown",
   "metadata": {},
   "source": [
    "если чек был на необычно большую сумму, скорее всего это не нормальное поведение"
   ]
  },
  {
   "cell_type": "code",
   "execution_count": 169,
   "metadata": {},
   "outputs": [],
   "source": [
    "outliers_1 = pd.merge(df[[\"id_doc_int\",\"id_card_int\"]], outliers_1, on=\"id_doc_int\").drop_duplicates()"
   ]
  },
  {
   "cell_type": "markdown",
   "metadata": {},
   "source": [
    "## Сумма всех покупок покупателем за месяц"
   ]
  },
  {
   "cell_type": "code",
   "execution_count": 94,
   "metadata": {},
   "outputs": [],
   "source": [
    "customers_sum = df[['id_card_int', 'sum']].groupby(['id_card_int']).sum()"
   ]
  },
  {
   "cell_type": "code",
   "execution_count": 95,
   "metadata": {},
   "outputs": [
    {
     "data": {
      "text/html": [
       "<div>\n",
       "<style scoped>\n",
       "    .dataframe tbody tr th:only-of-type {\n",
       "        vertical-align: middle;\n",
       "    }\n",
       "\n",
       "    .dataframe tbody tr th {\n",
       "        vertical-align: top;\n",
       "    }\n",
       "\n",
       "    .dataframe thead th {\n",
       "        text-align: right;\n",
       "    }\n",
       "</style>\n",
       "<table border=\"1\" class=\"dataframe\">\n",
       "  <thead>\n",
       "    <tr style=\"text-align: right;\">\n",
       "      <th></th>\n",
       "      <th>sum</th>\n",
       "    </tr>\n",
       "    <tr>\n",
       "      <th>id_card_int</th>\n",
       "      <th></th>\n",
       "    </tr>\n",
       "  </thead>\n",
       "  <tbody>\n",
       "    <tr>\n",
       "      <th>883386</th>\n",
       "      <td>60016231.51</td>\n",
       "    </tr>\n",
       "    <tr>\n",
       "      <th>1577248</th>\n",
       "      <td>1279932.55</td>\n",
       "    </tr>\n",
       "    <tr>\n",
       "      <th>568930</th>\n",
       "      <td>379927.61</td>\n",
       "    </tr>\n",
       "    <tr>\n",
       "      <th>1028081</th>\n",
       "      <td>292730.00</td>\n",
       "    </tr>\n",
       "    <tr>\n",
       "      <th>497966</th>\n",
       "      <td>284392.33</td>\n",
       "    </tr>\n",
       "    <tr>\n",
       "      <th>...</th>\n",
       "      <td>...</td>\n",
       "    </tr>\n",
       "    <tr>\n",
       "      <th>849914</th>\n",
       "      <td>0.00</td>\n",
       "    </tr>\n",
       "    <tr>\n",
       "      <th>1801523</th>\n",
       "      <td>0.00</td>\n",
       "    </tr>\n",
       "    <tr>\n",
       "      <th>1380493</th>\n",
       "      <td>0.00</td>\n",
       "    </tr>\n",
       "    <tr>\n",
       "      <th>1850061</th>\n",
       "      <td>0.00</td>\n",
       "    </tr>\n",
       "    <tr>\n",
       "      <th>405371</th>\n",
       "      <td>0.00</td>\n",
       "    </tr>\n",
       "  </tbody>\n",
       "</table>\n",
       "<p>1944075 rows × 1 columns</p>\n",
       "</div>"
      ],
      "text/plain": [
       "                     sum\n",
       "id_card_int             \n",
       "883386       60016231.51\n",
       "1577248       1279932.55\n",
       "568930         379927.61\n",
       "1028081        292730.00\n",
       "497966         284392.33\n",
       "...                  ...\n",
       "849914              0.00\n",
       "1801523             0.00\n",
       "1380493             0.00\n",
       "1850061             0.00\n",
       "405371              0.00\n",
       "\n",
       "[1944075 rows x 1 columns]"
      ]
     },
     "execution_count": 95,
     "metadata": {},
     "output_type": "execute_result"
    }
   ],
   "source": [
    "customers_sum.sort_values(['sum'], ascending=False)"
   ]
  },
  {
   "cell_type": "code",
   "execution_count": 96,
   "metadata": {},
   "outputs": [
    {
     "data": {
      "text/plain": [
       "<matplotlib.axes._subplots.AxesSubplot at 0x7f84cea84ac0>"
      ]
     },
     "execution_count": 96,
     "metadata": {},
     "output_type": "execute_result"
    },
    {
     "data": {
      "image/png": "[encoded data removed]",
      "text/plain": [
       "<Figure size 432x288 with 1 Axes>"
      ]
     },
     "metadata": {
      "needs_background": "light"
     },
     "output_type": "display_data"
    }
   ],
   "source": [
    "customers_sum.boxplot()"
   ]
  },
  {
   "cell_type": "code",
   "execution_count": 97,
   "metadata": {},
   "outputs": [
    {
     "data": {
      "text/plain": [
       "count     1944075.000000\n",
       "mean         8075.360227\n",
       "std         45281.230204\n",
       "min             0.000000\n",
       "25%           728.940000\n",
       "50%          2495.560000\n",
       "75%          8917.000000\n",
       "max      60016231.510000\n",
       "Name: sum, dtype: object"
      ]
     },
     "execution_count": 97,
     "metadata": {},
     "output_type": "execute_result"
    }
   ],
   "source": [
    "customers_sum['sum'].describe().apply(lambda x: format(x, 'f'))"
   ]
  },
  {
   "cell_type": "markdown",
   "metadata": {},
   "source": [
    "Outliers"
   ]
  },
  {
   "cell_type": "code",
   "execution_count": 103,
   "metadata": {},
   "outputs": [
    {
     "data": {
      "text/html": [
       "<div>\n",
       "<style scoped>\n",
       "    .dataframe tbody tr th:only-of-type {\n",
       "        vertical-align: middle;\n",
       "    }\n",
       "\n",
       "    .dataframe tbody tr th {\n",
       "        vertical-align: top;\n",
       "    }\n",
       "\n",
       "    .dataframe thead th {\n",
       "        text-align: right;\n",
       "    }\n",
       "</style>\n",
       "<table border=\"1\" class=\"dataframe\">\n",
       "  <thead>\n",
       "    <tr style=\"text-align: right;\">\n",
       "      <th></th>\n",
       "      <th>sum</th>\n",
       "    </tr>\n",
       "    <tr>\n",
       "      <th>id_card_int</th>\n",
       "      <th></th>\n",
       "    </tr>\n",
       "  </thead>\n",
       "  <tbody>\n",
       "    <tr>\n",
       "      <th>19</th>\n",
       "      <td>209335.94</td>\n",
       "    </tr>\n",
       "    <tr>\n",
       "      <th>200</th>\n",
       "      <td>121199.31</td>\n",
       "    </tr>\n",
       "    <tr>\n",
       "      <th>852</th>\n",
       "      <td>136460.47</td>\n",
       "    </tr>\n",
       "    <tr>\n",
       "      <th>893</th>\n",
       "      <td>148539.30</td>\n",
       "    </tr>\n",
       "    <tr>\n",
       "      <th>1009</th>\n",
       "      <td>126813.49</td>\n",
       "    </tr>\n",
       "    <tr>\n",
       "      <th>...</th>\n",
       "      <td>...</td>\n",
       "    </tr>\n",
       "    <tr>\n",
       "      <th>1906623</th>\n",
       "      <td>179686.12</td>\n",
       "    </tr>\n",
       "    <tr>\n",
       "      <th>1907437</th>\n",
       "      <td>130822.76</td>\n",
       "    </tr>\n",
       "    <tr>\n",
       "      <th>1910071</th>\n",
       "      <td>115023.19</td>\n",
       "    </tr>\n",
       "    <tr>\n",
       "      <th>1920439</th>\n",
       "      <td>115226.00</td>\n",
       "    </tr>\n",
       "    <tr>\n",
       "      <th>1925880</th>\n",
       "      <td>159942.44</td>\n",
       "    </tr>\n",
       "  </tbody>\n",
       "</table>\n",
       "<p>2427 rows × 1 columns</p>\n",
       "</div>"
      ],
      "text/plain": [
       "                   sum\n",
       "id_card_int           \n",
       "19           209335.94\n",
       "200          121199.31\n",
       "852          136460.47\n",
       "893          148539.30\n",
       "1009         126813.49\n",
       "...                ...\n",
       "1906623      179686.12\n",
       "1907437      130822.76\n",
       "1910071      115023.19\n",
       "1920439      115226.00\n",
       "1925880      159942.44\n",
       "\n",
       "[2427 rows x 1 columns]"
      ]
     },
     "execution_count": 103,
     "metadata": {},
     "output_type": "execute_result"
    }
   ],
   "source": [
    "customers_sum[customers_sum['sum'] > 115000]"
   ]
  },
  {
   "cell_type": "markdown",
   "metadata": {},
   "source": [
    "если кто-то делает очень много покупок за месяц, скорее всего это аутлаер"
   ]
  },
  {
   "cell_type": "code",
   "execution_count": 109,
   "metadata": {},
   "outputs": [],
   "source": [
    "outliers_2 = customers_sum[customers_sum['sum'] > 115000]"
   ]
  },
  {
   "cell_type": "markdown",
   "metadata": {},
   "source": [
    "## Сумма максимального количества товаров в чеке"
   ]
  },
  {
   "cell_type": "code",
   "execution_count": 104,
   "metadata": {},
   "outputs": [],
   "source": [
    "max_quantity_sum = df[['id_doc_int', 'quantity', 'id_card_int']].groupby(['id_doc_int']).max()"
   ]
  },
  {
   "cell_type": "code",
   "execution_count": 105,
   "metadata": {},
   "outputs": [],
   "source": [
    "max_quantity_sum = max_quantity_sum[['quantity', 'id_card_int']].groupby(['id_card_int']).sum()"
   ]
  },
  {
   "cell_type": "code",
   "execution_count": 106,
   "metadata": {},
   "outputs": [
    {
     "data": {
      "text/html": [
       "<div>\n",
       "<style scoped>\n",
       "    .dataframe tbody tr th:only-of-type {\n",
       "        vertical-align: middle;\n",
       "    }\n",
       "\n",
       "    .dataframe tbody tr th {\n",
       "        vertical-align: top;\n",
       "    }\n",
       "\n",
       "    .dataframe thead th {\n",
       "        text-align: right;\n",
       "    }\n",
       "</style>\n",
       "<table border=\"1\" class=\"dataframe\">\n",
       "  <thead>\n",
       "    <tr style=\"text-align: right;\">\n",
       "      <th></th>\n",
       "      <th>quantity</th>\n",
       "    </tr>\n",
       "    <tr>\n",
       "      <th>id_card_int</th>\n",
       "      <th></th>\n",
       "    </tr>\n",
       "  </thead>\n",
       "  <tbody>\n",
       "    <tr>\n",
       "      <th>883386</th>\n",
       "      <td>478079.870</td>\n",
       "    </tr>\n",
       "    <tr>\n",
       "      <th>133</th>\n",
       "      <td>154950.961</td>\n",
       "    </tr>\n",
       "    <tr>\n",
       "      <th>978368</th>\n",
       "      <td>135204.884</td>\n",
       "    </tr>\n",
       "    <tr>\n",
       "      <th>1154256</th>\n",
       "      <td>123046.113</td>\n",
       "    </tr>\n",
       "    <tr>\n",
       "      <th>1000162</th>\n",
       "      <td>115031.908</td>\n",
       "    </tr>\n",
       "    <tr>\n",
       "      <th>...</th>\n",
       "      <td>...</td>\n",
       "    </tr>\n",
       "    <tr>\n",
       "      <th>83280</th>\n",
       "      <td>0.050</td>\n",
       "    </tr>\n",
       "    <tr>\n",
       "      <th>893139</th>\n",
       "      <td>0.050</td>\n",
       "    </tr>\n",
       "    <tr>\n",
       "      <th>753720</th>\n",
       "      <td>0.044</td>\n",
       "    </tr>\n",
       "    <tr>\n",
       "      <th>578301</th>\n",
       "      <td>0.034</td>\n",
       "    </tr>\n",
       "    <tr>\n",
       "      <th>225919</th>\n",
       "      <td>0.025</td>\n",
       "    </tr>\n",
       "  </tbody>\n",
       "</table>\n",
       "<p>1944075 rows × 1 columns</p>\n",
       "</div>"
      ],
      "text/plain": [
       "               quantity\n",
       "id_card_int            \n",
       "883386       478079.870\n",
       "133          154950.961\n",
       "978368       135204.884\n",
       "1154256      123046.113\n",
       "1000162      115031.908\n",
       "...                 ...\n",
       "83280             0.050\n",
       "893139            0.050\n",
       "753720            0.044\n",
       "578301            0.034\n",
       "225919            0.025\n",
       "\n",
       "[1944075 rows x 1 columns]"
      ]
     },
     "execution_count": 106,
     "metadata": {},
     "output_type": "execute_result"
    }
   ],
   "source": [
    "max_quantity_sum.sort_values(['quantity'], ascending=False)"
   ]
  },
  {
   "cell_type": "code",
   "execution_count": 107,
   "metadata": {},
   "outputs": [
    {
     "data": {
      "text/plain": [
       "count    1944075.000000\n",
       "mean          38.425986\n",
       "std          647.072641\n",
       "min            0.025000\n",
       "25%            2.000000\n",
       "50%            7.338000\n",
       "75%           24.590000\n",
       "max       478079.870000\n",
       "Name: quantity, dtype: object"
      ]
     },
     "execution_count": 107,
     "metadata": {},
     "output_type": "execute_result"
    }
   ],
   "source": [
    "max_quantity_sum['quantity'].describe().apply(lambda x: format(x, 'f'))"
   ]
  },
  {
   "cell_type": "code",
   "execution_count": 110,
   "metadata": {},
   "outputs": [
    {
     "data": {
      "text/plain": [
       "<matplotlib.axes._subplots.AxesSubplot at 0x7f76449cdb50>"
      ]
     },
     "execution_count": 110,
     "metadata": {},
     "output_type": "execute_result"
    },
    {
     "data": {
      "image/png": "[encoded data removed]",
      "text/plain": [
       "<Figure size 432x288 with 1 Axes>"
      ]
     },
     "metadata": {
      "needs_background": "light"
     },
     "output_type": "display_data"
    }
   ],
   "source": [
    "max_quantity_sum.boxplot()"
   ]
  },
  {
   "cell_type": "markdown",
   "metadata": {},
   "source": [
    "Outliers"
   ]
  },
  {
   "cell_type": "code",
   "execution_count": 117,
   "metadata": {},
   "outputs": [
    {
     "data": {
      "text/html": [
       "<div>\n",
       "<style scoped>\n",
       "    .dataframe tbody tr th:only-of-type {\n",
       "        vertical-align: middle;\n",
       "    }\n",
       "\n",
       "    .dataframe tbody tr th {\n",
       "        vertical-align: top;\n",
       "    }\n",
       "\n",
       "    .dataframe thead th {\n",
       "        text-align: right;\n",
       "    }\n",
       "</style>\n",
       "<table border=\"1\" class=\"dataframe\">\n",
       "  <thead>\n",
       "    <tr style=\"text-align: right;\">\n",
       "      <th></th>\n",
       "      <th>quantity</th>\n",
       "    </tr>\n",
       "    <tr>\n",
       "      <th>id_card_int</th>\n",
       "      <th></th>\n",
       "    </tr>\n",
       "  </thead>\n",
       "  <tbody>\n",
       "    <tr>\n",
       "      <th>32</th>\n",
       "      <td>12023.013</td>\n",
       "    </tr>\n",
       "    <tr>\n",
       "      <th>35</th>\n",
       "      <td>5042.519</td>\n",
       "    </tr>\n",
       "    <tr>\n",
       "      <th>49</th>\n",
       "      <td>4141.579</td>\n",
       "    </tr>\n",
       "    <tr>\n",
       "      <th>51</th>\n",
       "      <td>17222.117</td>\n",
       "    </tr>\n",
       "    <tr>\n",
       "      <th>56</th>\n",
       "      <td>14621.580</td>\n",
       "    </tr>\n",
       "    <tr>\n",
       "      <th>...</th>\n",
       "      <td>...</td>\n",
       "    </tr>\n",
       "    <tr>\n",
       "      <th>1898363</th>\n",
       "      <td>24427.142</td>\n",
       "    </tr>\n",
       "    <tr>\n",
       "      <th>1898387</th>\n",
       "      <td>4007.000</td>\n",
       "    </tr>\n",
       "    <tr>\n",
       "      <th>1900983</th>\n",
       "      <td>7023.986</td>\n",
       "    </tr>\n",
       "    <tr>\n",
       "      <th>1902460</th>\n",
       "      <td>10433.818</td>\n",
       "    </tr>\n",
       "    <tr>\n",
       "      <th>1903646</th>\n",
       "      <td>5954.957</td>\n",
       "    </tr>\n",
       "  </tbody>\n",
       "</table>\n",
       "<p>2550 rows × 1 columns</p>\n",
       "</div>"
      ],
      "text/plain": [
       "              quantity\n",
       "id_card_int           \n",
       "32           12023.013\n",
       "35            5042.519\n",
       "49            4141.579\n",
       "51           17222.117\n",
       "56           14621.580\n",
       "...                ...\n",
       "1898363      24427.142\n",
       "1898387       4007.000\n",
       "1900983       7023.986\n",
       "1902460      10433.818\n",
       "1903646       5954.957\n",
       "\n",
       "[2550 rows x 1 columns]"
      ]
     },
     "execution_count": 117,
     "metadata": {},
     "output_type": "execute_result"
    }
   ],
   "source": [
    "max_quantity_sum[max_quantity_sum['quantity'] > 4000]"
   ]
  },
  {
   "cell_type": "markdown",
   "metadata": {},
   "source": [
    "если кто-то покупает очень много товаров определенного вида, скорее всего он аутлаер"
   ]
  },
  {
   "cell_type": "code",
   "execution_count": 118,
   "metadata": {},
   "outputs": [],
   "source": [
    "outliers_3 = max_quantity_sum[max_quantity_sum['quantity'] > 4000]"
   ]
  },
  {
   "cell_type": "markdown",
   "metadata": {},
   "source": [
    "## Количество дней закупки в месяц на каждого покупателя"
   ]
  },
  {
   "cell_type": "code",
   "execution_count": 120,
   "metadata": {},
   "outputs": [],
   "source": [
    "df['day'] = df['date'].dt.date"
   ]
  },
  {
   "cell_type": "code",
   "execution_count": 121,
   "metadata": {},
   "outputs": [],
   "source": [
    "card_unique_days = df.groupby(['id_card_int'])['day'].nunique()"
   ]
  },
  {
   "cell_type": "code",
   "execution_count": 122,
   "metadata": {},
   "outputs": [
    {
     "data": {
      "text/plain": [
       "<matplotlib.axes._subplots.AxesSubplot at 0x7f76449c11c0>"
      ]
     },
     "execution_count": 122,
     "metadata": {},
     "output_type": "execute_result"
    },
    {
     "data": {
      "image/png": "[encoded data removed]",
      "text/plain": [
       "<Figure size 432x288 with 1 Axes>"
      ]
     },
     "metadata": {
      "needs_background": "light"
     },
     "output_type": "display_data"
    }
   ],
   "source": [
    "pd.DataFrame(card_unique_days).boxplot()"
   ]
  },
  {
   "cell_type": "code",
   "execution_count": 133,
   "metadata": {},
   "outputs": [
    {
     "data": {
      "text/plain": [
       "count    428112.000000\n",
       "mean         32.228732\n",
       "std          15.363783\n",
       "min          16.000000\n",
       "25%          20.000000\n",
       "50%          27.000000\n",
       "75%          40.000000\n",
       "max          91.000000\n",
       "Name: day, dtype: object"
      ]
     },
     "execution_count": 133,
     "metadata": {},
     "output_type": "execute_result"
    }
   ],
   "source": [
    "card_unique_days[card_unique_days['day'] > 15]['day'].describe().apply(lambda x: format(x, 'f'))"
   ]
  },
  {
   "cell_type": "markdown",
   "metadata": {},
   "source": [
    "Outliers"
   ]
  },
  {
   "cell_type": "code",
   "execution_count": 135,
   "metadata": {},
   "outputs": [
    {
     "data": {
      "text/html": [
       "<div>\n",
       "<style scoped>\n",
       "    .dataframe tbody tr th:only-of-type {\n",
       "        vertical-align: middle;\n",
       "    }\n",
       "\n",
       "    .dataframe tbody tr th {\n",
       "        vertical-align: top;\n",
       "    }\n",
       "\n",
       "    .dataframe thead th {\n",
       "        text-align: right;\n",
       "    }\n",
       "</style>\n",
       "<table border=\"1\" class=\"dataframe\">\n",
       "  <thead>\n",
       "    <tr style=\"text-align: right;\">\n",
       "      <th></th>\n",
       "      <th>day</th>\n",
       "    </tr>\n",
       "    <tr>\n",
       "      <th>id_card_int</th>\n",
       "      <th></th>\n",
       "    </tr>\n",
       "  </thead>\n",
       "  <tbody>\n",
       "    <tr>\n",
       "      <th>19</th>\n",
       "      <td>69</td>\n",
       "    </tr>\n",
       "    <tr>\n",
       "      <th>36</th>\n",
       "      <td>66</td>\n",
       "    </tr>\n",
       "    <tr>\n",
       "      <th>42</th>\n",
       "      <td>72</td>\n",
       "    </tr>\n",
       "    <tr>\n",
       "      <th>51</th>\n",
       "      <td>73</td>\n",
       "    </tr>\n",
       "    <tr>\n",
       "      <th>56</th>\n",
       "      <td>60</td>\n",
       "    </tr>\n",
       "    <tr>\n",
       "      <th>...</th>\n",
       "      <td>...</td>\n",
       "    </tr>\n",
       "    <tr>\n",
       "      <th>1925454</th>\n",
       "      <td>69</td>\n",
       "    </tr>\n",
       "    <tr>\n",
       "      <th>1925880</th>\n",
       "      <td>60</td>\n",
       "    </tr>\n",
       "    <tr>\n",
       "      <th>1928357</th>\n",
       "      <td>52</td>\n",
       "    </tr>\n",
       "    <tr>\n",
       "      <th>1929351</th>\n",
       "      <td>51</td>\n",
       "    </tr>\n",
       "    <tr>\n",
       "      <th>1941912</th>\n",
       "      <td>72</td>\n",
       "    </tr>\n",
       "  </tbody>\n",
       "</table>\n",
       "<p>56655 rows × 1 columns</p>\n",
       "</div>"
      ],
      "text/plain": [
       "             day\n",
       "id_card_int     \n",
       "19            69\n",
       "36            66\n",
       "42            72\n",
       "51            73\n",
       "56            60\n",
       "...          ...\n",
       "1925454       69\n",
       "1925880       60\n",
       "1928357       52\n",
       "1929351       51\n",
       "1941912       72\n",
       "\n",
       "[56655 rows x 1 columns]"
      ]
     },
     "execution_count": 135,
     "metadata": {},
     "output_type": "execute_result"
    }
   ],
   "source": [
    "card_unique_days = pd.DataFrame(card_unique_days)\n",
    "card_unique_days[card_unique_days['day'] > 50]"
   ]
  },
  {
   "cell_type": "markdown",
   "metadata": {},
   "source": [
    "если кто-то закупается очень часто в течении месяца, скорее всего это аутлаер, так как обычный человек скорее купит еды надолго"
   ]
  },
  {
   "cell_type": "code",
   "execution_count": 134,
   "metadata": {},
   "outputs": [],
   "source": [
    "outliers_4 = card_unique_days[card_unique_days['day'] > 30]"
   ]
  },
  {
   "cell_type": "markdown",
   "metadata": {},
   "source": [
    "## Cредння сумма покупок в месяц "
   ]
  },
  {
   "cell_type": "code",
   "execution_count": 137,
   "metadata": {},
   "outputs": [
    {
     "data": {
      "text/plain": [
       "<matplotlib.axes._subplots.AxesSubplot at 0x7f744a839130>"
      ]
     },
     "execution_count": 137,
     "metadata": {},
     "output_type": "execute_result"
    },
    {
     "data": {
      "image/png": "[encoded data removed]",
      "text/plain": [
       "<Figure size 432x288 with 1 Axes>"
      ]
     },
     "metadata": {
      "needs_background": "light"
     },
     "output_type": "display_data"
    }
   ],
   "source": [
    "quantity_mean = df[['id_card_int', 'sum']].groupby('id_card_int').mean()\n",
    "quantity_mean.describe().drop('count').boxplot()"
   ]
  },
  {
   "cell_type": "code",
   "execution_count": 141,
   "metadata": {},
   "outputs": [
    {
     "data": {
      "text/html": [
       "<div>\n",
       "<style scoped>\n",
       "    .dataframe tbody tr th:only-of-type {\n",
       "        vertical-align: middle;\n",
       "    }\n",
       "\n",
       "    .dataframe tbody tr th {\n",
       "        vertical-align: top;\n",
       "    }\n",
       "\n",
       "    .dataframe thead th {\n",
       "        text-align: right;\n",
       "    }\n",
       "</style>\n",
       "<table border=\"1\" class=\"dataframe\">\n",
       "  <thead>\n",
       "    <tr style=\"text-align: right;\">\n",
       "      <th></th>\n",
       "      <th>sum</th>\n",
       "    </tr>\n",
       "    <tr>\n",
       "      <th>id_card_int</th>\n",
       "      <th></th>\n",
       "    </tr>\n",
       "  </thead>\n",
       "  <tbody>\n",
       "    <tr>\n",
       "      <th>4741</th>\n",
       "      <td>2244.000000</td>\n",
       "    </tr>\n",
       "    <tr>\n",
       "      <th>6216</th>\n",
       "      <td>1200.000000</td>\n",
       "    </tr>\n",
       "    <tr>\n",
       "      <th>7589</th>\n",
       "      <td>828.287627</td>\n",
       "    </tr>\n",
       "    <tr>\n",
       "      <th>8750</th>\n",
       "      <td>811.080000</td>\n",
       "    </tr>\n",
       "    <tr>\n",
       "      <th>18462</th>\n",
       "      <td>1375.333333</td>\n",
       "    </tr>\n",
       "    <tr>\n",
       "      <th>...</th>\n",
       "      <td>...</td>\n",
       "    </tr>\n",
       "    <tr>\n",
       "      <th>1942918</th>\n",
       "      <td>2115.000000</td>\n",
       "    </tr>\n",
       "    <tr>\n",
       "      <th>1943084</th>\n",
       "      <td>816.000000</td>\n",
       "    </tr>\n",
       "    <tr>\n",
       "      <th>1943232</th>\n",
       "      <td>1615.000000</td>\n",
       "    </tr>\n",
       "    <tr>\n",
       "      <th>1943252</th>\n",
       "      <td>1035.000000</td>\n",
       "    </tr>\n",
       "    <tr>\n",
       "      <th>1943830</th>\n",
       "      <td>1300.000000</td>\n",
       "    </tr>\n",
       "  </tbody>\n",
       "</table>\n",
       "<p>2050 rows × 1 columns</p>\n",
       "</div>"
      ],
      "text/plain": [
       "                     sum\n",
       "id_card_int             \n",
       "4741         2244.000000\n",
       "6216         1200.000000\n",
       "7589          828.287627\n",
       "8750          811.080000\n",
       "18462        1375.333333\n",
       "...                  ...\n",
       "1942918      2115.000000\n",
       "1943084       816.000000\n",
       "1943232      1615.000000\n",
       "1943252      1035.000000\n",
       "1943830      1300.000000\n",
       "\n",
       "[2050 rows x 1 columns]"
      ]
     },
     "execution_count": 141,
     "metadata": {},
     "output_type": "execute_result"
    }
   ],
   "source": [
    "quantity_mean[quantity_mean['sum'] > 800]"
   ]
  },
  {
   "cell_type": "markdown",
   "metadata": {},
   "source": [
    "средняя сумма покупок в месяц у аутлаеров превышает нормальные пороги, естественные для нормальных покупателей"
   ]
  },
  {
   "cell_type": "code",
   "execution_count": 142,
   "metadata": {},
   "outputs": [],
   "source": [
    "outliers_5 = quantity_mean[quantity_mean['sum'] > 800]"
   ]
  },
  {
   "cell_type": "markdown",
   "metadata": {},
   "source": [
    "## По количеству товаров в месяц"
   ]
  },
  {
   "cell_type": "code",
   "execution_count": 143,
   "metadata": {},
   "outputs": [
    {
     "data": {
      "text/plain": [
       "<matplotlib.axes._subplots.AxesSubplot at 0x7f7448c16760>"
      ]
     },
     "execution_count": 143,
     "metadata": {},
     "output_type": "execute_result"
    },
    {
     "data": {
      "image/png": "[encoded data removed]",
      "text/plain": [
       "<Figure size 432x288 with 1 Axes>"
      ]
     },
     "metadata": {
      "needs_background": "light"
     },
     "output_type": "display_data"
    }
   ],
   "source": [
    "quantity_mean = df[['id_card_int' ,'quantity']].groupby('id_card_int').mean()\n",
    "quantity_mean.describe().drop('count').boxplot()"
   ]
  },
  {
   "cell_type": "code",
   "execution_count": 221,
   "metadata": {},
   "outputs": [
    {
     "data": {
      "text/html": [
       "<div>\n",
       "<style scoped>\n",
       "    .dataframe tbody tr th:only-of-type {\n",
       "        vertical-align: middle;\n",
       "    }\n",
       "\n",
       "    .dataframe tbody tr th {\n",
       "        vertical-align: top;\n",
       "    }\n",
       "\n",
       "    .dataframe thead th {\n",
       "        text-align: right;\n",
       "    }\n",
       "</style>\n",
       "<table border=\"1\" class=\"dataframe\">\n",
       "  <thead>\n",
       "    <tr style=\"text-align: right;\">\n",
       "      <th></th>\n",
       "      <th>quantity</th>\n",
       "    </tr>\n",
       "    <tr>\n",
       "      <th>id_card_int</th>\n",
       "      <th></th>\n",
       "    </tr>\n",
       "  </thead>\n",
       "  <tbody>\n",
       "    <tr>\n",
       "      <th>32</th>\n",
       "      <td>218.992909</td>\n",
       "    </tr>\n",
       "    <tr>\n",
       "      <th>35</th>\n",
       "      <td>36.728493</td>\n",
       "    </tr>\n",
       "    <tr>\n",
       "      <th>49</th>\n",
       "      <td>33.514714</td>\n",
       "    </tr>\n",
       "    <tr>\n",
       "      <th>56</th>\n",
       "      <td>47.589205</td>\n",
       "    </tr>\n",
       "    <tr>\n",
       "      <th>75</th>\n",
       "      <td>68.721150</td>\n",
       "    </tr>\n",
       "    <tr>\n",
       "      <th>...</th>\n",
       "      <td>...</td>\n",
       "    </tr>\n",
       "    <tr>\n",
       "      <th>1898428</th>\n",
       "      <td>38.940228</td>\n",
       "    </tr>\n",
       "    <tr>\n",
       "      <th>1900793</th>\n",
       "      <td>34.333333</td>\n",
       "    </tr>\n",
       "    <tr>\n",
       "      <th>1900983</th>\n",
       "      <td>100.984643</td>\n",
       "    </tr>\n",
       "    <tr>\n",
       "      <th>1902460</th>\n",
       "      <td>145.509972</td>\n",
       "    </tr>\n",
       "    <tr>\n",
       "      <th>1904883</th>\n",
       "      <td>33.000000</td>\n",
       "    </tr>\n",
       "  </tbody>\n",
       "</table>\n",
       "<p>2266 rows × 1 columns</p>\n",
       "</div>"
      ],
      "text/plain": [
       "               quantity\n",
       "id_card_int            \n",
       "32           218.992909\n",
       "35            36.728493\n",
       "49            33.514714\n",
       "56            47.589205\n",
       "75            68.721150\n",
       "...                 ...\n",
       "1898428       38.940228\n",
       "1900793       34.333333\n",
       "1900983      100.984643\n",
       "1902460      145.509972\n",
       "1904883       33.000000\n",
       "\n",
       "[2266 rows x 1 columns]"
      ]
     },
     "execution_count": 221,
     "metadata": {},
     "output_type": "execute_result"
    }
   ],
   "source": [
    "quantity_mean[quantity_mean['quantity'] > 30]"
   ]
  },
  {
   "cell_type": "markdown",
   "metadata": {},
   "source": [
    "Аутлаеры стремятся больше покупать товаров в месяц, что не соотносится с реальными покупками людей"
   ]
  },
  {
   "cell_type": "code",
   "execution_count": 155,
   "metadata": {},
   "outputs": [],
   "source": [
    "outliers_6 = quantity_mean[quantity_mean['quantity'] > 30]"
   ]
  },
  {
   "cell_type": "markdown",
   "metadata": {},
   "source": [
    "## Result candidates"
   ]
  },
  {
   "cell_type": "code",
   "execution_count": 205,
   "metadata": {},
   "outputs": [],
   "source": [
    "candidates = [outliers_1[\"id_card_int\"].values, \n",
    "             outliers_2.index.values,\n",
    "             outliers_3.index.values,\n",
    "             outliers_4.index.values,\n",
    "             outliers_5.index.values,\n",
    "             outliers_6.index.values]"
   ]
  },
  {
   "cell_type": "code",
   "execution_count": 212,
   "metadata": {},
   "outputs": [
    {
     "data": {
      "text/plain": [
       "185675"
      ]
     },
     "execution_count": 212,
     "metadata": {},
     "output_type": "execute_result"
    }
   ],
   "source": [
    "len(set.union(*list(map(set, candidates))))"
   ]
  },
  {
   "cell_type": "code",
   "execution_count": 213,
   "metadata": {},
   "outputs": [],
   "source": [
    "result = set.union(*list(map(set, candidates)))"
   ]
  },
  {
   "cell_type": "code",
   "execution_count": 218,
   "metadata": {},
   "outputs": [],
   "source": [
    "result_df = pd.DataFrame(result, columns=['id_card_int'])"
   ]
  },
  {
   "cell_type": "code",
   "execution_count": 220,
   "metadata": {},
   "outputs": [],
   "source": [
    "with bz2.open('bad_ids.pkl.bz2', 'wb') as f:\n",
    "    pickle.dump(result_df, f, protocol=4)"
   ]
  },
  {
   "cell_type": "code",
   "execution_count": null,
   "metadata": {},
   "outputs": [],
   "source": []
  }
 ],
 "metadata": {
  "kernelspec": {
   "display_name": "Python 3",
   "language": "python",
   "name": "python3"
  },
  "language_info": {
   "codemirror_mode": {
    "name": "ipython",
    "version": 3
   },
   "file_extension": ".py",
   "mimetype": "text/x-python",
   "name": "python",
   "nbconvert_exporter": "python",
   "pygments_lexer": "ipython3",
   "version": "3.8.7"
  }
 },
 "nbformat": 4,
 "nbformat_minor": 4
}
