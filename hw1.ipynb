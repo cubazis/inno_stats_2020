{
  "nbformat": 4,
  "nbformat_minor": 0,
  "metadata": {
    "colab": {
      "name": "hw1",
      "provenance": [],
      "collapsed_sections": []
    },
    "kernelspec": {
      "name": "python3",
      "display_name": "Python 3"
    },
    "language_info": {
      "name": "python"
    }
  },
  "cells": [
    {
      "cell_type": "code",
      "metadata": {
        "id": "iZWOWuoamT0t"
      },
      "source": [
        "import pandas as pd\n",
        "import pickle\n",
        "import bz2\n",
        "\n",
        "from pathlib import Path\n",
        "from scipy import stats\n",
        "import numpy as np"
      ],
      "execution_count": 1,
      "outputs": []
    },
    {
      "cell_type": "code",
      "metadata": {
        "id": "pdYJl4GBmg7x"
      },
      "source": [
        "data_path = Path('/data')"
      ],
      "execution_count": 2,
      "outputs": []
    },
    {
      "cell_type": "code",
      "metadata": {
        "id": "-aSVAeuAm3IS"
      },
      "source": [
        "with bz2.open(data_path / '09_prepared.pkl.bz2', 'rb') as f:\n",
        "    df = pickle.load(f)"
      ],
      "execution_count": 3,
      "outputs": []
    },
    {
      "cell_type": "code",
      "metadata": {
        "colab": {
          "base_uri": "https://localhost:8080/",
          "height": 279
        },
        "id": "sMO624GOm6JL",
        "outputId": "6a3707ad-6931-46c0-942a-382ff028e446"
      },
      "source": [
        "df.head()"
      ],
      "execution_count": 4,
      "outputs": [
        {
          "output_type": "execute_result",
          "data": {
            "text/html": [
              "<div>\n",
              "<style scoped>\n",
              "    .dataframe tbody tr th:only-of-type {\n",
              "        vertical-align: middle;\n",
              "    }\n",
              "\n",
              "    .dataframe tbody tr th {\n",
              "        vertical-align: top;\n",
              "    }\n",
              "\n",
              "    .dataframe thead th {\n",
              "        text-align: right;\n",
              "    }\n",
              "</style>\n",
              "<table border=\"1\" class=\"dataframe\">\n",
              "  <thead>\n",
              "    <tr style=\"text-align: right;\">\n",
              "      <th></th>\n",
              "      <th>date</th>\n",
              "      <th>id_doc</th>\n",
              "      <th>id_order</th>\n",
              "      <th>id_card</th>\n",
              "      <th>id_tov</th>\n",
              "      <th>id_kontr</th>\n",
              "      <th>quantity</th>\n",
              "      <th>sum</th>\n",
              "      <th>is_green</th>\n",
              "      <th>id_card_int</th>\n",
              "      <th>id_doc_int</th>\n",
              "    </tr>\n",
              "  </thead>\n",
              "  <tbody>\n",
              "    <tr>\n",
              "      <th>0</th>\n",
              "      <td>2020-09-01 17:01:25</td>\n",
              "      <td>0E05D308-5CEC-EA11-B444-005056A7539A</td>\n",
              "      <td>0</td>\n",
              "      <td>8594499</td>\n",
              "      <td>52</td>\n",
              "      <td>271</td>\n",
              "      <td>1.0</td>\n",
              "      <td>108.00</td>\n",
              "      <td>False</td>\n",
              "      <td>1538855</td>\n",
              "      <td>1283228</td>\n",
              "    </tr>\n",
              "    <tr>\n",
              "      <th>1</th>\n",
              "      <td>2020-09-01 17:35:36</td>\n",
              "      <td>610205A1-61EC-EA11-B444-005056A7539A</td>\n",
              "      <td>0</td>\n",
              "      <td>1452388</td>\n",
              "      <td>52</td>\n",
              "      <td>271</td>\n",
              "      <td>1.0</td>\n",
              "      <td>108.00</td>\n",
              "      <td>False</td>\n",
              "      <td>267307</td>\n",
              "      <td>8873113</td>\n",
              "    </tr>\n",
              "    <tr>\n",
              "      <th>2</th>\n",
              "      <td>2020-09-01 19:19:21</td>\n",
              "      <td>8AF19602-70EC-EA11-B444-005056A7539A</td>\n",
              "      <td>0</td>\n",
              "      <td>3493538</td>\n",
              "      <td>52</td>\n",
              "      <td>271</td>\n",
              "      <td>1.0</td>\n",
              "      <td>107.95</td>\n",
              "      <td>False</td>\n",
              "      <td>610220</td>\n",
              "      <td>12712899</td>\n",
              "    </tr>\n",
              "    <tr>\n",
              "      <th>3</th>\n",
              "      <td>2020-09-01 21:53:34</td>\n",
              "      <td>EB6C71A3-84EC-EA11-B444-005056A7539A</td>\n",
              "      <td>0</td>\n",
              "      <td>2491281</td>\n",
              "      <td>52</td>\n",
              "      <td>271</td>\n",
              "      <td>1.0</td>\n",
              "      <td>108.00</td>\n",
              "      <td>False</td>\n",
              "      <td>441497</td>\n",
              "      <td>21535283</td>\n",
              "    </tr>\n",
              "    <tr>\n",
              "      <th>4</th>\n",
              "      <td>2020-09-01 18:42:31</td>\n",
              "      <td>0706023F-6BEC-EA11-B444-005056A7539A</td>\n",
              "      <td>0</td>\n",
              "      <td>5732396</td>\n",
              "      <td>61</td>\n",
              "      <td>97</td>\n",
              "      <td>2.0</td>\n",
              "      <td>88.00</td>\n",
              "      <td>False</td>\n",
              "      <td>1065358</td>\n",
              "      <td>642341</td>\n",
              "    </tr>\n",
              "  </tbody>\n",
              "</table>\n",
              "</div>"
            ],
            "text/plain": [
              "                 date  ... id_doc_int\n",
              "0 2020-09-01 17:01:25  ...    1283228\n",
              "1 2020-09-01 17:35:36  ...    8873113\n",
              "2 2020-09-01 19:19:21  ...   12712899\n",
              "3 2020-09-01 21:53:34  ...   21535283\n",
              "4 2020-09-01 18:42:31  ...     642341\n",
              "\n",
              "[5 rows x 11 columns]"
            ]
          },
          "metadata": {
            "tags": []
          },
          "execution_count": 4
        }
      ]
    },
    {
      "cell_type": "code",
      "metadata": {
        "colab": {
          "base_uri": "https://localhost:8080/"
        },
        "id": "YPD5vxI2nYLu",
        "outputId": "d3bed891-0c92-4eab-c087-2918dffded3e"
      },
      "source": [
        "df.dtypes"
      ],
      "execution_count": 5,
      "outputs": [
        {
          "output_type": "execute_result",
          "data": {
            "text/plain": [
              "date           datetime64[ns]\n",
              "id_doc                 object\n",
              "id_order                int64\n",
              "id_card                object\n",
              "id_tov                  int64\n",
              "id_kontr                int64\n",
              "quantity              float64\n",
              "sum                   float64\n",
              "is_green                 bool\n",
              "id_card_int             int64\n",
              "id_doc_int              int64\n",
              "dtype: object"
            ]
          },
          "metadata": {
            "tags": []
          },
          "execution_count": 5
        }
      ]
    },
    {
      "cell_type": "code",
      "metadata": {
        "colab": {
          "base_uri": "https://localhost:8080/",
          "height": 284
        },
        "id": "g1P4jr4vncvw",
        "outputId": "5c97f0cb-089d-4243-fdfd-a2be4d3e410d"
      },
      "source": [
        "df[['quantity', 'sum']].describe()"
      ],
      "execution_count": 6,
      "outputs": [
        {
          "output_type": "execute_result",
          "data": {
            "text/html": [
              "<div>\n",
              "<style scoped>\n",
              "    .dataframe tbody tr th:only-of-type {\n",
              "        vertical-align: middle;\n",
              "    }\n",
              "\n",
              "    .dataframe tbody tr th {\n",
              "        vertical-align: top;\n",
              "    }\n",
              "\n",
              "    .dataframe thead th {\n",
              "        text-align: right;\n",
              "    }\n",
              "</style>\n",
              "<table border=\"1\" class=\"dataframe\">\n",
              "  <thead>\n",
              "    <tr style=\"text-align: right;\">\n",
              "      <th></th>\n",
              "      <th>quantity</th>\n",
              "      <th>sum</th>\n",
              "    </tr>\n",
              "  </thead>\n",
              "  <tbody>\n",
              "    <tr>\n",
              "      <th>count</th>\n",
              "      <td>4.210086e+07</td>\n",
              "      <td>4.210086e+07</td>\n",
              "    </tr>\n",
              "    <tr>\n",
              "      <th>mean</th>\n",
              "      <td>1.427065e+00</td>\n",
              "      <td>1.149112e+02</td>\n",
              "    </tr>\n",
              "    <tr>\n",
              "      <th>std</th>\n",
              "      <td>3.101411e+01</td>\n",
              "      <td>1.072201e+02</td>\n",
              "    </tr>\n",
              "    <tr>\n",
              "      <th>min</th>\n",
              "      <td>-2.755000e+00</td>\n",
              "      <td>-1.022110e+03</td>\n",
              "    </tr>\n",
              "    <tr>\n",
              "      <th>25%</th>\n",
              "      <td>1.000000e+00</td>\n",
              "      <td>4.800000e+01</td>\n",
              "    </tr>\n",
              "    <tr>\n",
              "      <th>50%</th>\n",
              "      <td>1.000000e+00</td>\n",
              "      <td>8.900000e+01</td>\n",
              "    </tr>\n",
              "    <tr>\n",
              "      <th>75%</th>\n",
              "      <td>1.000000e+00</td>\n",
              "      <td>1.501100e+02</td>\n",
              "    </tr>\n",
              "    <tr>\n",
              "      <th>max</th>\n",
              "      <td>5.000000e+03</td>\n",
              "      <td>3.840000e+04</td>\n",
              "    </tr>\n",
              "  </tbody>\n",
              "</table>\n",
              "</div>"
            ],
            "text/plain": [
              "           quantity           sum\n",
              "count  4.210086e+07  4.210086e+07\n",
              "mean   1.427065e+00  1.149112e+02\n",
              "std    3.101411e+01  1.072201e+02\n",
              "min   -2.755000e+00 -1.022110e+03\n",
              "25%    1.000000e+00  4.800000e+01\n",
              "50%    1.000000e+00  8.900000e+01\n",
              "75%    1.000000e+00  1.501100e+02\n",
              "max    5.000000e+03  3.840000e+04"
            ]
          },
          "metadata": {
            "tags": []
          },
          "execution_count": 6
        }
      ]
    },
    {
      "cell_type": "code",
      "metadata": {
        "colab": {
          "base_uri": "https://localhost:8080/"
        },
        "id": "Zrcixfh9n4UE",
        "outputId": "5d86f9cd-e0c6-4992-d08d-fb9309e09d21"
      },
      "source": [
        "df.groupby(['id_card_int'])['sum'].sum().sort_values(ascending=False)"
      ],
      "execution_count": 7,
      "outputs": [
        {
          "output_type": "execute_result",
          "data": {
            "text/plain": [
              "id_card_int\n",
              "883386     18259091.85\n",
              "568930       211154.31\n",
              "1243870      124131.91\n",
              "1755035      116411.20\n",
              "1447941       98215.49\n",
              "              ...     \n",
              "365257            0.00\n",
              "405371            0.00\n",
              "1843017           0.00\n",
              "527413            0.00\n",
              "1871302           0.00\n",
              "Name: sum, Length: 1358089, dtype: float64"
            ]
          },
          "metadata": {
            "tags": []
          },
          "execution_count": 7
        }
      ]
    },
    {
      "cell_type": "code",
      "metadata": {
        "colab": {
          "base_uri": "https://localhost:8080/",
          "height": 570
        },
        "id": "vw_wIHWu-PpW",
        "outputId": "0cd0edbd-8435-4afc-eb83-2d0470b5c66b"
      },
      "source": [
        "df.loc[df['id_card_int'] == 883386]"
      ],
      "execution_count": 8,
      "outputs": [
        {
          "output_type": "execute_result",
          "data": {
            "text/html": [
              "<div>\n",
              "<style scoped>\n",
              "    .dataframe tbody tr th:only-of-type {\n",
              "        vertical-align: middle;\n",
              "    }\n",
              "\n",
              "    .dataframe tbody tr th {\n",
              "        vertical-align: top;\n",
              "    }\n",
              "\n",
              "    .dataframe thead th {\n",
              "        text-align: right;\n",
              "    }\n",
              "</style>\n",
              "<table border=\"1\" class=\"dataframe\">\n",
              "  <thead>\n",
              "    <tr style=\"text-align: right;\">\n",
              "      <th></th>\n",
              "      <th>date</th>\n",
              "      <th>id_doc</th>\n",
              "      <th>id_order</th>\n",
              "      <th>id_card</th>\n",
              "      <th>id_tov</th>\n",
              "      <th>id_kontr</th>\n",
              "      <th>quantity</th>\n",
              "      <th>sum</th>\n",
              "      <th>is_green</th>\n",
              "      <th>id_card_int</th>\n",
              "      <th>id_doc_int</th>\n",
              "    </tr>\n",
              "  </thead>\n",
              "  <tbody>\n",
              "    <tr>\n",
              "      <th>1221</th>\n",
              "      <td>2020-09-01 13:41:07</td>\n",
              "      <td>AEEFB494-40EC-EA11-B444-005056A7539A</td>\n",
              "      <td>0</td>\n",
              "      <td>4806534</td>\n",
              "      <td>20813</td>\n",
              "      <td>14782</td>\n",
              "      <td>1.0</td>\n",
              "      <td>168.0</td>\n",
              "      <td>False</td>\n",
              "      <td>883386</td>\n",
              "      <td>16003441</td>\n",
              "    </tr>\n",
              "    <tr>\n",
              "      <th>1853</th>\n",
              "      <td>2020-09-01 18:51:35</td>\n",
              "      <td>8A2AD918-6CEC-EA11-B444-005056A7539A</td>\n",
              "      <td>0</td>\n",
              "      <td>4806534</td>\n",
              "      <td>27495</td>\n",
              "      <td>14911</td>\n",
              "      <td>1.0</td>\n",
              "      <td>34.0</td>\n",
              "      <td>False</td>\n",
              "      <td>883386</td>\n",
              "      <td>12641780</td>\n",
              "    </tr>\n",
              "    <tr>\n",
              "      <th>1859</th>\n",
              "      <td>2020-09-01 18:04:23</td>\n",
              "      <td>FEDAE894-65EC-EA11-B444-005056A7539A</td>\n",
              "      <td>0</td>\n",
              "      <td>4806534</td>\n",
              "      <td>27695</td>\n",
              "      <td>15385</td>\n",
              "      <td>2.0</td>\n",
              "      <td>152.0</td>\n",
              "      <td>False</td>\n",
              "      <td>883386</td>\n",
              "      <td>23313124</td>\n",
              "    </tr>\n",
              "    <tr>\n",
              "      <th>1925</th>\n",
              "      <td>2020-09-01 18:51:35</td>\n",
              "      <td>8A2AD918-6CEC-EA11-B444-005056A7539A</td>\n",
              "      <td>0</td>\n",
              "      <td>4806534</td>\n",
              "      <td>29568</td>\n",
              "      <td>13354</td>\n",
              "      <td>1.0</td>\n",
              "      <td>36.0</td>\n",
              "      <td>False</td>\n",
              "      <td>883386</td>\n",
              "      <td>12641780</td>\n",
              "    </tr>\n",
              "    <tr>\n",
              "      <th>1976</th>\n",
              "      <td>2020-09-01 18:04:23</td>\n",
              "      <td>FEDAE894-65EC-EA11-B444-005056A7539A</td>\n",
              "      <td>0</td>\n",
              "      <td>4806534</td>\n",
              "      <td>30560</td>\n",
              "      <td>13614</td>\n",
              "      <td>1.0</td>\n",
              "      <td>17.0</td>\n",
              "      <td>False</td>\n",
              "      <td>883386</td>\n",
              "      <td>23313124</td>\n",
              "    </tr>\n",
              "    <tr>\n",
              "      <th>...</th>\n",
              "      <td>...</td>\n",
              "      <td>...</td>\n",
              "      <td>...</td>\n",
              "      <td>...</td>\n",
              "      <td>...</td>\n",
              "      <td>...</td>\n",
              "      <td>...</td>\n",
              "      <td>...</td>\n",
              "      <td>...</td>\n",
              "      <td>...</td>\n",
              "      <td>...</td>\n",
              "    </tr>\n",
              "    <tr>\n",
              "      <th>42100270</th>\n",
              "      <td>2020-09-30 17:11:56</td>\n",
              "      <td>AB13A45F-2703-EB11-B444-005056A7539A</td>\n",
              "      <td>0</td>\n",
              "      <td>4806534</td>\n",
              "      <td>28799</td>\n",
              "      <td>15916</td>\n",
              "      <td>1.0</td>\n",
              "      <td>130.0</td>\n",
              "      <td>False</td>\n",
              "      <td>883386</td>\n",
              "      <td>15650853</td>\n",
              "    </tr>\n",
              "    <tr>\n",
              "      <th>42100329</th>\n",
              "      <td>2020-09-30 18:29:17</td>\n",
              "      <td>A586484B-3303-EB11-B444-005056A7539A</td>\n",
              "      <td>0</td>\n",
              "      <td>4806534</td>\n",
              "      <td>30218</td>\n",
              "      <td>12554</td>\n",
              "      <td>1.0</td>\n",
              "      <td>185.0</td>\n",
              "      <td>False</td>\n",
              "      <td>883386</td>\n",
              "      <td>15143032</td>\n",
              "    </tr>\n",
              "    <tr>\n",
              "      <th>42100460</th>\n",
              "      <td>2020-09-30 17:11:56</td>\n",
              "      <td>AB13A45F-2703-EB11-B444-005056A7539A</td>\n",
              "      <td>0</td>\n",
              "      <td>4806534</td>\n",
              "      <td>35061</td>\n",
              "      <td>20817</td>\n",
              "      <td>1.0</td>\n",
              "      <td>150.0</td>\n",
              "      <td>False</td>\n",
              "      <td>883386</td>\n",
              "      <td>15650853</td>\n",
              "    </tr>\n",
              "    <tr>\n",
              "      <th>42100484</th>\n",
              "      <td>2020-09-30 15:55:39</td>\n",
              "      <td>D589FC26-1D03-EB11-B444-005056A7539A</td>\n",
              "      <td>0</td>\n",
              "      <td>4806534</td>\n",
              "      <td>36157</td>\n",
              "      <td>12638</td>\n",
              "      <td>1.0</td>\n",
              "      <td>190.0</td>\n",
              "      <td>False</td>\n",
              "      <td>883386</td>\n",
              "      <td>19534242</td>\n",
              "    </tr>\n",
              "    <tr>\n",
              "      <th>42100555</th>\n",
              "      <td>2020-09-30 18:27:16</td>\n",
              "      <td>7686484B-3303-EB11-B444-005056A7539A</td>\n",
              "      <td>0</td>\n",
              "      <td>4806534</td>\n",
              "      <td>37319</td>\n",
              "      <td>20622</td>\n",
              "      <td>1.0</td>\n",
              "      <td>195.0</td>\n",
              "      <td>False</td>\n",
              "      <td>883386</td>\n",
              "      <td>10843682</td>\n",
              "    </tr>\n",
              "  </tbody>\n",
              "</table>\n",
              "<p>189812 rows × 11 columns</p>\n",
              "</div>"
            ],
            "text/plain": [
              "                        date  ... id_doc_int\n",
              "1221     2020-09-01 13:41:07  ...   16003441\n",
              "1853     2020-09-01 18:51:35  ...   12641780\n",
              "1859     2020-09-01 18:04:23  ...   23313124\n",
              "1925     2020-09-01 18:51:35  ...   12641780\n",
              "1976     2020-09-01 18:04:23  ...   23313124\n",
              "...                      ...  ...        ...\n",
              "42100270 2020-09-30 17:11:56  ...   15650853\n",
              "42100329 2020-09-30 18:29:17  ...   15143032\n",
              "42100460 2020-09-30 17:11:56  ...   15650853\n",
              "42100484 2020-09-30 15:55:39  ...   19534242\n",
              "42100555 2020-09-30 18:27:16  ...   10843682\n",
              "\n",
              "[189812 rows x 11 columns]"
            ]
          },
          "metadata": {
            "tags": []
          },
          "execution_count": 8
        }
      ]
    },
    {
      "cell_type": "markdown",
      "metadata": {
        "id": "NtKSUu1wL35U"
      },
      "source": [
        "One of the buyers spent 18 kk in one month. This is strange."
      ]
    },
    {
      "cell_type": "code",
      "metadata": {
        "id": "yulfntP9KEv7"
      },
      "source": [
        "outliers = []\n",
        "outliers.append(883386)"
      ],
      "execution_count": 9,
      "outputs": []
    },
    {
      "cell_type": "markdown",
      "metadata": {
        "id": "FKzM84eYMpDT"
      },
      "source": [
        "Using the z-score to find outliers"
      ]
    },
    {
      "cell_type": "code",
      "metadata": {
        "id": "gzKejUpBIQmZ"
      },
      "source": [
        "z_sum = np.abs(stats.zscore(df[['sum']]))"
      ],
      "execution_count": 10,
      "outputs": []
    },
    {
      "cell_type": "code",
      "metadata": {
        "colab": {
          "base_uri": "https://localhost:8080/"
        },
        "id": "kYwQdedLI0Au",
        "outputId": "df8a067f-1760-4908-c74a-217762979c1e"
      },
      "source": [
        "z_sum"
      ],
      "execution_count": 11,
      "outputs": [
        {
          "output_type": "execute_result",
          "data": {
            "text/plain": [
              "array([[0.06445825],\n",
              "       [0.06445825],\n",
              "       [0.06492458],\n",
              "       ...,\n",
              "       [0.39088971],\n",
              "       [0.34425664],\n",
              "       [0.34425664]])"
            ]
          },
          "metadata": {
            "tags": []
          },
          "execution_count": 11
        }
      ]
    },
    {
      "cell_type": "code",
      "metadata": {
        "id": "KakoyrwXI_Dm"
      },
      "source": [
        "for z in np.where(z_sum>3)[0]: \n",
        "    outliers.append(z)"
      ],
      "execution_count": 12,
      "outputs": []
    },
    {
      "cell_type": "markdown",
      "metadata": {
        "id": "qIsj2tv_LELi"
      },
      "source": [
        "# The same thing for other month"
      ]
    },
    {
      "cell_type": "code",
      "metadata": {
        "id": "9acYJFlqMRhg"
      },
      "source": [
        "del df\n",
        "del z"
      ],
      "execution_count": 13,
      "outputs": []
    },
    {
      "cell_type": "code",
      "metadata": {
        "id": "o0dAFSgxLdtz"
      },
      "source": [
        "with bz2.open(data_path / '10_prepared.pkl.bz2', 'rb') as f:\n",
        "    df = pickle.load(f)"
      ],
      "execution_count": null,
      "outputs": []
    },
    {
      "cell_type": "code",
      "metadata": {
        "id": "uE2zJTnPLdt7"
      },
      "source": [
        "df.head()"
      ],
      "execution_count": null,
      "outputs": []
    },
    {
      "cell_type": "code",
      "metadata": {
        "id": "zUKaCAk9Ldt9"
      },
      "source": [
        "df.dtypes"
      ],
      "execution_count": null,
      "outputs": []
    },
    {
      "cell_type": "code",
      "metadata": {
        "id": "UsYAtFakLdt-"
      },
      "source": [
        "df[['quantity', 'sum']].describe()"
      ],
      "execution_count": null,
      "outputs": []
    },
    {
      "cell_type": "code",
      "metadata": {
        "id": "HRaWVa4gLduB"
      },
      "source": [
        "z_sum = np.abs(stats.zscore(df[['sum']]))"
      ],
      "execution_count": null,
      "outputs": []
    },
    {
      "cell_type": "code",
      "metadata": {
        "id": "CgRMftWDLduB"
      },
      "source": [
        "z_sum"
      ],
      "execution_count": null,
      "outputs": []
    },
    {
      "cell_type": "code",
      "metadata": {
        "id": "Yz1b1mBvLduC"
      },
      "source": [
        "for z in np.where(z_sum>3)[0]:\n",
        "    outliers.append(z)"
      ],
      "execution_count": null,
      "outputs": []
    },
    {
      "cell_type": "code",
      "metadata": {
        "id": "vVqczzyPLdt_"
      },
      "source": [
        "df.groupby(['id_card_int'])['sum'].sum().sort_values(ascending=False)"
      ],
      "execution_count": null,
      "outputs": []
    },
    {
      "cell_type": "code",
      "metadata": {
        "colab": {
          "base_uri": "https://localhost:8080/",
          "height": 279
        },
        "id": "O3Ztm_DsOlfO",
        "outputId": "6a3707ad-6931-46c0-942a-382ff028e446"
      },
      "source": [
        "df.head()"
      ],
      "execution_count": null,
      "outputs": [
        {
          "output_type": "execute_result",
          "data": {
            "text/html": [
              "<div>\n",
              "<style scoped>\n",
              "    .dataframe tbody tr th:only-of-type {\n",
              "        vertical-align: middle;\n",
              "    }\n",
              "\n",
              "    .dataframe tbody tr th {\n",
              "        vertical-align: top;\n",
              "    }\n",
              "\n",
              "    .dataframe thead th {\n",
              "        text-align: right;\n",
              "    }\n",
              "</style>\n",
              "<table border=\"1\" class=\"dataframe\">\n",
              "  <thead>\n",
              "    <tr style=\"text-align: right;\">\n",
              "      <th></th>\n",
              "      <th>date</th>\n",
              "      <th>id_doc</th>\n",
              "      <th>id_order</th>\n",
              "      <th>id_card</th>\n",
              "      <th>id_tov</th>\n",
              "      <th>id_kontr</th>\n",
              "      <th>quantity</th>\n",
              "      <th>sum</th>\n",
              "      <th>is_green</th>\n",
              "      <th>id_card_int</th>\n",
              "      <th>id_doc_int</th>\n",
              "    </tr>\n",
              "  </thead>\n",
              "  <tbody>\n",
              "    <tr>\n",
              "      <th>0</th>\n",
              "      <td>2020-09-01 17:01:25</td>\n",
              "      <td>0E05D308-5CEC-EA11-B444-005056A7539A</td>\n",
              "      <td>0</td>\n",
              "      <td>8594499</td>\n",
              "      <td>52</td>\n",
              "      <td>271</td>\n",
              "      <td>1.0</td>\n",
              "      <td>108.00</td>\n",
              "      <td>False</td>\n",
              "      <td>1538855</td>\n",
              "      <td>1283228</td>\n",
              "    </tr>\n",
              "    <tr>\n",
              "      <th>1</th>\n",
              "      <td>2020-09-01 17:35:36</td>\n",
              "      <td>610205A1-61EC-EA11-B444-005056A7539A</td>\n",
              "      <td>0</td>\n",
              "      <td>1452388</td>\n",
              "      <td>52</td>\n",
              "      <td>271</td>\n",
              "      <td>1.0</td>\n",
              "      <td>108.00</td>\n",
              "      <td>False</td>\n",
              "      <td>267307</td>\n",
              "      <td>8873113</td>\n",
              "    </tr>\n",
              "    <tr>\n",
              "      <th>2</th>\n",
              "      <td>2020-09-01 19:19:21</td>\n",
              "      <td>8AF19602-70EC-EA11-B444-005056A7539A</td>\n",
              "      <td>0</td>\n",
              "      <td>3493538</td>\n",
              "      <td>52</td>\n",
              "      <td>271</td>\n",
              "      <td>1.0</td>\n",
              "      <td>107.95</td>\n",
              "      <td>False</td>\n",
              "      <td>610220</td>\n",
              "      <td>12712899</td>\n",
              "    </tr>\n",
              "    <tr>\n",
              "      <th>3</th>\n",
              "      <td>2020-09-01 21:53:34</td>\n",
              "      <td>EB6C71A3-84EC-EA11-B444-005056A7539A</td>\n",
              "      <td>0</td>\n",
              "      <td>2491281</td>\n",
              "      <td>52</td>\n",
              "      <td>271</td>\n",
              "      <td>1.0</td>\n",
              "      <td>108.00</td>\n",
              "      <td>False</td>\n",
              "      <td>441497</td>\n",
              "      <td>21535283</td>\n",
              "    </tr>\n",
              "    <tr>\n",
              "      <th>4</th>\n",
              "      <td>2020-09-01 18:42:31</td>\n",
              "      <td>0706023F-6BEC-EA11-B444-005056A7539A</td>\n",
              "      <td>0</td>\n",
              "      <td>5732396</td>\n",
              "      <td>61</td>\n",
              "      <td>97</td>\n",
              "      <td>2.0</td>\n",
              "      <td>88.00</td>\n",
              "      <td>False</td>\n",
              "      <td>1065358</td>\n",
              "      <td>642341</td>\n",
              "    </tr>\n",
              "  </tbody>\n",
              "</table>\n",
              "</div>"
            ],
            "text/plain": [
              "                 date  ... id_doc_int\n",
              "0 2020-09-01 17:01:25  ...    1283228\n",
              "1 2020-09-01 17:35:36  ...    8873113\n",
              "2 2020-09-01 19:19:21  ...   12712899\n",
              "3 2020-09-01 21:53:34  ...   21535283\n",
              "4 2020-09-01 18:42:31  ...     642341\n",
              "\n",
              "[5 rows x 11 columns]"
            ]
          },
          "metadata": {
            "tags": []
          },
          "execution_count": 4
        }
      ]
    },
    {
      "cell_type": "code",
      "metadata": {
        "colab": {
          "base_uri": "https://localhost:8080/"
        },
        "id": "bKmFkXdWOlfZ",
        "outputId": "d3bed891-0c92-4eab-c087-2918dffded3e"
      },
      "source": [
        "df.dtypes"
      ],
      "execution_count": null,
      "outputs": [
        {
          "output_type": "execute_result",
          "data": {
            "text/plain": [
              "date           datetime64[ns]\n",
              "id_doc                 object\n",
              "id_order                int64\n",
              "id_card                object\n",
              "id_tov                  int64\n",
              "id_kontr                int64\n",
              "quantity              float64\n",
              "sum                   float64\n",
              "is_green                 bool\n",
              "id_card_int             int64\n",
              "id_doc_int              int64\n",
              "dtype: object"
            ]
          },
          "metadata": {
            "tags": []
          },
          "execution_count": 5
        }
      ]
    },
    {
      "cell_type": "code",
      "metadata": {
        "colab": {
          "base_uri": "https://localhost:8080/",
          "height": 284
        },
        "id": "iKVIhZ1dOlfZ",
        "outputId": "5c97f0cb-089d-4243-fdfd-a2be4d3e410d"
      },
      "source": [
        "df[['quantity', 'sum']].describe()"
      ],
      "execution_count": null,
      "outputs": [
        {
          "output_type": "execute_result",
          "data": {
            "text/html": [
              "<div>\n",
              "<style scoped>\n",
              "    .dataframe tbody tr th:only-of-type {\n",
              "        vertical-align: middle;\n",
              "    }\n",
              "\n",
              "    .dataframe tbody tr th {\n",
              "        vertical-align: top;\n",
              "    }\n",
              "\n",
              "    .dataframe thead th {\n",
              "        text-align: right;\n",
              "    }\n",
              "</style>\n",
              "<table border=\"1\" class=\"dataframe\">\n",
              "  <thead>\n",
              "    <tr style=\"text-align: right;\">\n",
              "      <th></th>\n",
              "      <th>quantity</th>\n",
              "      <th>sum</th>\n",
              "    </tr>\n",
              "  </thead>\n",
              "  <tbody>\n",
              "    <tr>\n",
              "      <th>count</th>\n",
              "      <td>4.210086e+07</td>\n",
              "      <td>4.210086e+07</td>\n",
              "    </tr>\n",
              "    <tr>\n",
              "      <th>mean</th>\n",
              "      <td>1.427065e+00</td>\n",
              "      <td>1.149112e+02</td>\n",
              "    </tr>\n",
              "    <tr>\n",
              "      <th>std</th>\n",
              "      <td>3.101411e+01</td>\n",
              "      <td>1.072201e+02</td>\n",
              "    </tr>\n",
              "    <tr>\n",
              "      <th>min</th>\n",
              "      <td>-2.755000e+00</td>\n",
              "      <td>-1.022110e+03</td>\n",
              "    </tr>\n",
              "    <tr>\n",
              "      <th>25%</th>\n",
              "      <td>1.000000e+00</td>\n",
              "      <td>4.800000e+01</td>\n",
              "    </tr>\n",
              "    <tr>\n",
              "      <th>50%</th>\n",
              "      <td>1.000000e+00</td>\n",
              "      <td>8.900000e+01</td>\n",
              "    </tr>\n",
              "    <tr>\n",
              "      <th>75%</th>\n",
              "      <td>1.000000e+00</td>\n",
              "      <td>1.501100e+02</td>\n",
              "    </tr>\n",
              "    <tr>\n",
              "      <th>max</th>\n",
              "      <td>5.000000e+03</td>\n",
              "      <td>3.840000e+04</td>\n",
              "    </tr>\n",
              "  </tbody>\n",
              "</table>\n",
              "</div>"
            ],
            "text/plain": [
              "           quantity           sum\n",
              "count  4.210086e+07  4.210086e+07\n",
              "mean   1.427065e+00  1.149112e+02\n",
              "std    3.101411e+01  1.072201e+02\n",
              "min   -2.755000e+00 -1.022110e+03\n",
              "25%    1.000000e+00  4.800000e+01\n",
              "50%    1.000000e+00  8.900000e+01\n",
              "75%    1.000000e+00  1.501100e+02\n",
              "max    5.000000e+03  3.840000e+04"
            ]
          },
          "metadata": {
            "tags": []
          },
          "execution_count": 6
        }
      ]
    },
    {
      "cell_type": "code",
      "metadata": {
        "id": "qNhVE0v0OrrP"
      },
      "source": [
        "z_sum = np.abs(stats.zscore(df[['sum']]))"
      ],
      "execution_count": null,
      "outputs": []
    },
    {
      "cell_type": "code",
      "metadata": {
        "colab": {
          "base_uri": "https://localhost:8080/"
        },
        "id": "iM9nIEAiOrrP",
        "outputId": "df8a067f-1760-4908-c74a-217762979c1e"
      },
      "source": [
        "z_sum"
      ],
      "execution_count": null,
      "outputs": [
        {
          "output_type": "execute_result",
          "data": {
            "text/plain": [
              "array([[0.06445825],\n",
              "       [0.06445825],\n",
              "       [0.06492458],\n",
              "       ...,\n",
              "       [0.39088971],\n",
              "       [0.34425664],\n",
              "       [0.34425664]])"
            ]
          },
          "metadata": {
            "tags": []
          },
          "execution_count": 11
        }
      ]
    },
    {
      "cell_type": "code",
      "metadata": {
        "id": "8XmNETr-OrrQ"
      },
      "source": [
        "for z in np.where(z_sum>3)[0]:\n",
        "    outliers.append(z)"
      ],
      "execution_count": null,
      "outputs": []
    },
    {
      "cell_type": "code",
      "metadata": {
        "colab": {
          "base_uri": "https://localhost:8080/"
        },
        "id": "ojno4WzQO_hI",
        "outputId": "5d86f9cd-e0c6-4992-d08d-fb9309e09d21"
      },
      "source": [
        "df.groupby(['id_card_int'])['sum'].sum().sort_values(ascending=False)"
      ],
      "execution_count": null,
      "outputs": [
        {
          "output_type": "execute_result",
          "data": {
            "text/plain": [
              "id_card_int\n",
              "883386     18259091.85\n",
              "568930       211154.31\n",
              "1243870      124131.91\n",
              "1755035      116411.20\n",
              "1447941       98215.49\n",
              "              ...     \n",
              "365257            0.00\n",
              "405371            0.00\n",
              "1843017           0.00\n",
              "527413            0.00\n",
              "1871302           0.00\n",
              "Name: sum, Length: 1358089, dtype: float64"
            ]
          },
          "metadata": {
            "tags": []
          },
          "execution_count": 7
        }
      ]
    },
    {
      "cell_type": "code",
      "metadata": {
        "colab": {
          "base_uri": "https://localhost:8080/",
          "height": 570
        },
        "id": "F0jwjLD2ON2z",
        "outputId": "0cd0edbd-8435-4afc-eb83-2d0470b5c66b"
      },
      "source": [
        "df.loc[df['id_card_int'] == 883386]"
      ],
      "execution_count": null,
      "outputs": [
        {
          "output_type": "execute_result",
          "data": {
            "text/html": [
              "<div>\n",
              "<style scoped>\n",
              "    .dataframe tbody tr th:only-of-type {\n",
              "        vertical-align: middle;\n",
              "    }\n",
              "\n",
              "    .dataframe tbody tr th {\n",
              "        vertical-align: top;\n",
              "    }\n",
              "\n",
              "    .dataframe thead th {\n",
              "        text-align: right;\n",
              "    }\n",
              "</style>\n",
              "<table border=\"1\" class=\"dataframe\">\n",
              "  <thead>\n",
              "    <tr style=\"text-align: right;\">\n",
              "      <th></th>\n",
              "      <th>date</th>\n",
              "      <th>id_doc</th>\n",
              "      <th>id_order</th>\n",
              "      <th>id_card</th>\n",
              "      <th>id_tov</th>\n",
              "      <th>id_kontr</th>\n",
              "      <th>quantity</th>\n",
              "      <th>sum</th>\n",
              "      <th>is_green</th>\n",
              "      <th>id_card_int</th>\n",
              "      <th>id_doc_int</th>\n",
              "    </tr>\n",
              "  </thead>\n",
              "  <tbody>\n",
              "    <tr>\n",
              "      <th>1221</th>\n",
              "      <td>2020-09-01 13:41:07</td>\n",
              "      <td>AEEFB494-40EC-EA11-B444-005056A7539A</td>\n",
              "      <td>0</td>\n",
              "      <td>4806534</td>\n",
              "      <td>20813</td>\n",
              "      <td>14782</td>\n",
              "      <td>1.0</td>\n",
              "      <td>168.0</td>\n",
              "      <td>False</td>\n",
              "      <td>883386</td>\n",
              "      <td>16003441</td>\n",
              "    </tr>\n",
              "    <tr>\n",
              "      <th>1853</th>\n",
              "      <td>2020-09-01 18:51:35</td>\n",
              "      <td>8A2AD918-6CEC-EA11-B444-005056A7539A</td>\n",
              "      <td>0</td>\n",
              "      <td>4806534</td>\n",
              "      <td>27495</td>\n",
              "      <td>14911</td>\n",
              "      <td>1.0</td>\n",
              "      <td>34.0</td>\n",
              "      <td>False</td>\n",
              "      <td>883386</td>\n",
              "      <td>12641780</td>\n",
              "    </tr>\n",
              "    <tr>\n",
              "      <th>1859</th>\n",
              "      <td>2020-09-01 18:04:23</td>\n",
              "      <td>FEDAE894-65EC-EA11-B444-005056A7539A</td>\n",
              "      <td>0</td>\n",
              "      <td>4806534</td>\n",
              "      <td>27695</td>\n",
              "      <td>15385</td>\n",
              "      <td>2.0</td>\n",
              "      <td>152.0</td>\n",
              "      <td>False</td>\n",
              "      <td>883386</td>\n",
              "      <td>23313124</td>\n",
              "    </tr>\n",
              "    <tr>\n",
              "      <th>1925</th>\n",
              "      <td>2020-09-01 18:51:35</td>\n",
              "      <td>8A2AD918-6CEC-EA11-B444-005056A7539A</td>\n",
              "      <td>0</td>\n",
              "      <td>4806534</td>\n",
              "      <td>29568</td>\n",
              "      <td>13354</td>\n",
              "      <td>1.0</td>\n",
              "      <td>36.0</td>\n",
              "      <td>False</td>\n",
              "      <td>883386</td>\n",
              "      <td>12641780</td>\n",
              "    </tr>\n",
              "    <tr>\n",
              "      <th>1976</th>\n",
              "      <td>2020-09-01 18:04:23</td>\n",
              "      <td>FEDAE894-65EC-EA11-B444-005056A7539A</td>\n",
              "      <td>0</td>\n",
              "      <td>4806534</td>\n",
              "      <td>30560</td>\n",
              "      <td>13614</td>\n",
              "      <td>1.0</td>\n",
              "      <td>17.0</td>\n",
              "      <td>False</td>\n",
              "      <td>883386</td>\n",
              "      <td>23313124</td>\n",
              "    </tr>\n",
              "    <tr>\n",
              "      <th>...</th>\n",
              "      <td>...</td>\n",
              "      <td>...</td>\n",
              "      <td>...</td>\n",
              "      <td>...</td>\n",
              "      <td>...</td>\n",
              "      <td>...</td>\n",
              "      <td>...</td>\n",
              "      <td>...</td>\n",
              "      <td>...</td>\n",
              "      <td>...</td>\n",
              "      <td>...</td>\n",
              "    </tr>\n",
              "    <tr>\n",
              "      <th>42100270</th>\n",
              "      <td>2020-09-30 17:11:56</td>\n",
              "      <td>AB13A45F-2703-EB11-B444-005056A7539A</td>\n",
              "      <td>0</td>\n",
              "      <td>4806534</td>\n",
              "      <td>28799</td>\n",
              "      <td>15916</td>\n",
              "      <td>1.0</td>\n",
              "      <td>130.0</td>\n",
              "      <td>False</td>\n",
              "      <td>883386</td>\n",
              "      <td>15650853</td>\n",
              "    </tr>\n",
              "    <tr>\n",
              "      <th>42100329</th>\n",
              "      <td>2020-09-30 18:29:17</td>\n",
              "      <td>A586484B-3303-EB11-B444-005056A7539A</td>\n",
              "      <td>0</td>\n",
              "      <td>4806534</td>\n",
              "      <td>30218</td>\n",
              "      <td>12554</td>\n",
              "      <td>1.0</td>\n",
              "      <td>185.0</td>\n",
              "      <td>False</td>\n",
              "      <td>883386</td>\n",
              "      <td>15143032</td>\n",
              "    </tr>\n",
              "    <tr>\n",
              "      <th>42100460</th>\n",
              "      <td>2020-09-30 17:11:56</td>\n",
              "      <td>AB13A45F-2703-EB11-B444-005056A7539A</td>\n",
              "      <td>0</td>\n",
              "      <td>4806534</td>\n",
              "      <td>35061</td>\n",
              "      <td>20817</td>\n",
              "      <td>1.0</td>\n",
              "      <td>150.0</td>\n",
              "      <td>False</td>\n",
              "      <td>883386</td>\n",
              "      <td>15650853</td>\n",
              "    </tr>\n",
              "    <tr>\n",
              "      <th>42100484</th>\n",
              "      <td>2020-09-30 15:55:39</td>\n",
              "      <td>D589FC26-1D03-EB11-B444-005056A7539A</td>\n",
              "      <td>0</td>\n",
              "      <td>4806534</td>\n",
              "      <td>36157</td>\n",
              "      <td>12638</td>\n",
              "      <td>1.0</td>\n",
              "      <td>190.0</td>\n",
              "      <td>False</td>\n",
              "      <td>883386</td>\n",
              "      <td>19534242</td>\n",
              "    </tr>\n",
              "    <tr>\n",
              "      <th>42100555</th>\n",
              "      <td>2020-09-30 18:27:16</td>\n",
              "      <td>7686484B-3303-EB11-B444-005056A7539A</td>\n",
              "      <td>0</td>\n",
              "      <td>4806534</td>\n",
              "      <td>37319</td>\n",
              "      <td>20622</td>\n",
              "      <td>1.0</td>\n",
              "      <td>195.0</td>\n",
              "      <td>False</td>\n",
              "      <td>883386</td>\n",
              "      <td>10843682</td>\n",
              "    </tr>\n",
              "  </tbody>\n",
              "</table>\n",
              "<p>189812 rows × 11 columns</p>\n",
              "</div>"
            ],
            "text/plain": [
              "                        date  ... id_doc_int\n",
              "1221     2020-09-01 13:41:07  ...   16003441\n",
              "1853     2020-09-01 18:51:35  ...   12641780\n",
              "1859     2020-09-01 18:04:23  ...   23313124\n",
              "1925     2020-09-01 18:51:35  ...   12641780\n",
              "1976     2020-09-01 18:04:23  ...   23313124\n",
              "...                      ...  ...        ...\n",
              "42100270 2020-09-30 17:11:56  ...   15650853\n",
              "42100329 2020-09-30 18:29:17  ...   15143032\n",
              "42100460 2020-09-30 17:11:56  ...   15650853\n",
              "42100484 2020-09-30 15:55:39  ...   19534242\n",
              "42100555 2020-09-30 18:27:16  ...   10843682\n",
              "\n",
              "[189812 rows x 11 columns]"
            ]
          },
          "metadata": {
            "tags": []
          },
          "execution_count": 8
        }
      ]
    },
    {
      "cell_type": "code",
      "metadata": {
        "id": "0_Y_d8bXLduA"
      },
      "source": [
        "outliers = []\n",
        "outliers.append(883386)"
      ],
      "execution_count": null,
      "outputs": []
    },
    {
      "cell_type": "markdown",
      "metadata": {
        "id": "MM_N2ww5Mw3C"
      },
      "source": [
        "#And again\n",
        "\n"
      ]
    },
    {
      "cell_type": "code",
      "metadata": {
        "id": "c6rCQ9NsMw3S"
      },
      "source": [
        "del df\n",
        "del z"
      ],
      "execution_count": null,
      "outputs": []
    },
    {
      "cell_type": "code",
      "metadata": {
        "id": "ljvH6EEyMw3T"
      },
      "source": [
        "\n",
        "with bz2.open(data_path / '11_prepared.pkl.bz2', 'rb') as f:\n",
        "    df = pickle.load(f)"
      ],
      "execution_count": 4,
      "outputs": []
    },
    {
      "cell_type": "code",
      "metadata": {
        "colab": {
          "base_uri": "https://localhost:8080/",
          "height": 279
        },
        "id": "WIPBai4oMw3U",
        "outputId": "f1c8985d-dc8c-46ff-d883-51d845aa2756"
      },
      "source": [
        "df.head()"
      ],
      "execution_count": 5,
      "outputs": [
        {
          "output_type": "execute_result",
          "data": {
            "text/html": [
              "<div>\n",
              "<style scoped>\n",
              "    .dataframe tbody tr th:only-of-type {\n",
              "        vertical-align: middle;\n",
              "    }\n",
              "\n",
              "    .dataframe tbody tr th {\n",
              "        vertical-align: top;\n",
              "    }\n",
              "\n",
              "    .dataframe thead th {\n",
              "        text-align: right;\n",
              "    }\n",
              "</style>\n",
              "<table border=\"1\" class=\"dataframe\">\n",
              "  <thead>\n",
              "    <tr style=\"text-align: right;\">\n",
              "      <th></th>\n",
              "      <th>date</th>\n",
              "      <th>id_doc</th>\n",
              "      <th>id_order</th>\n",
              "      <th>id_card</th>\n",
              "      <th>id_tov</th>\n",
              "      <th>id_kontr</th>\n",
              "      <th>quantity</th>\n",
              "      <th>sum</th>\n",
              "      <th>is_green</th>\n",
              "      <th>id_card_int</th>\n",
              "      <th>id_doc_int</th>\n",
              "    </tr>\n",
              "  </thead>\n",
              "  <tbody>\n",
              "    <tr>\n",
              "      <th>0</th>\n",
              "      <td>2020-11-01 15:29:01</td>\n",
              "      <td>2220AF19-3E1C-EB11-B444-005056A7539A</td>\n",
              "      <td>0</td>\n",
              "      <td>1826606</td>\n",
              "      <td>52</td>\n",
              "      <td>271</td>\n",
              "      <td>1.0</td>\n",
              "      <td>107.98</td>\n",
              "      <td>False</td>\n",
              "      <td>332351</td>\n",
              "      <td>3121751</td>\n",
              "    </tr>\n",
              "    <tr>\n",
              "      <th>1</th>\n",
              "      <td>2020-11-01 12:41:10</td>\n",
              "      <td>F102DC7D-261C-EB11-B444-005056A7539A</td>\n",
              "      <td>8293317</td>\n",
              "      <td>C560312</td>\n",
              "      <td>52</td>\n",
              "      <td>-9999</td>\n",
              "      <td>1.0</td>\n",
              "      <td>108.00</td>\n",
              "      <td>False</td>\n",
              "      <td>1875438</td>\n",
              "      <td>22047017</td>\n",
              "    </tr>\n",
              "    <tr>\n",
              "      <th>2</th>\n",
              "      <td>2020-11-01 13:17:09</td>\n",
              "      <td>4632D419-2C1C-EB11-B444-005056A7539A</td>\n",
              "      <td>0</td>\n",
              "      <td>3225041</td>\n",
              "      <td>61</td>\n",
              "      <td>379</td>\n",
              "      <td>2.0</td>\n",
              "      <td>112.00</td>\n",
              "      <td>False</td>\n",
              "      <td>563112</td>\n",
              "      <td>6419825</td>\n",
              "    </tr>\n",
              "    <tr>\n",
              "      <th>3</th>\n",
              "      <td>2020-11-01 12:31:31</td>\n",
              "      <td>706B9E66-251C-EB11-B444-005056A7539A</td>\n",
              "      <td>0</td>\n",
              "      <td>B700679</td>\n",
              "      <td>61</td>\n",
              "      <td>379</td>\n",
              "      <td>1.0</td>\n",
              "      <td>55.91</td>\n",
              "      <td>False</td>\n",
              "      <td>1841710</td>\n",
              "      <td>10284541</td>\n",
              "    </tr>\n",
              "    <tr>\n",
              "      <th>4</th>\n",
              "      <td>2020-11-01 13:06:15</td>\n",
              "      <td>71F3E090-2A1C-EB11-B444-005056A7539A</td>\n",
              "      <td>0</td>\n",
              "      <td>7024046</td>\n",
              "      <td>61</td>\n",
              "      <td>271</td>\n",
              "      <td>2.0</td>\n",
              "      <td>87.80</td>\n",
              "      <td>False</td>\n",
              "      <td>1304277</td>\n",
              "      <td>10424967</td>\n",
              "    </tr>\n",
              "  </tbody>\n",
              "</table>\n",
              "</div>"
            ],
            "text/plain": [
              "                 date  ... id_doc_int\n",
              "0 2020-11-01 15:29:01  ...    3121751\n",
              "1 2020-11-01 12:41:10  ...   22047017\n",
              "2 2020-11-01 13:17:09  ...    6419825\n",
              "3 2020-11-01 12:31:31  ...   10284541\n",
              "4 2020-11-01 13:06:15  ...   10424967\n",
              "\n",
              "[5 rows x 11 columns]"
            ]
          },
          "metadata": {
            "tags": []
          },
          "execution_count": 5
        }
      ]
    },
    {
      "cell_type": "code",
      "metadata": {
        "colab": {
          "base_uri": "https://localhost:8080/"
        },
        "id": "05yhLrFoMw3U",
        "outputId": "42ce6cf3-d9e2-4c3d-96ef-6b2a37094823"
      },
      "source": [
        "df.dtypes"
      ],
      "execution_count": 6,
      "outputs": [
        {
          "output_type": "execute_result",
          "data": {
            "text/plain": [
              "date           datetime64[ns]\n",
              "id_doc                 object\n",
              "id_order                int64\n",
              "id_card                object\n",
              "id_tov                  int64\n",
              "id_kontr                int64\n",
              "quantity              float64\n",
              "sum                   float64\n",
              "is_green                 bool\n",
              "id_card_int             int64\n",
              "id_doc_int              int64\n",
              "dtype: object"
            ]
          },
          "metadata": {
            "tags": []
          },
          "execution_count": 6
        }
      ]
    },
    {
      "cell_type": "code",
      "metadata": {
        "colab": {
          "base_uri": "https://localhost:8080/",
          "height": 284
        },
        "id": "SN_YguzEMw3V",
        "outputId": "f5d2d312-94e2-48e6-f14a-89c083a8d888"
      },
      "source": [
        "df[['quantity', 'sum']].describe()"
      ],
      "execution_count": 7,
      "outputs": [
        {
          "output_type": "execute_result",
          "data": {
            "text/html": [
              "<div>\n",
              "<style scoped>\n",
              "    .dataframe tbody tr th:only-of-type {\n",
              "        vertical-align: middle;\n",
              "    }\n",
              "\n",
              "    .dataframe tbody tr th {\n",
              "        vertical-align: top;\n",
              "    }\n",
              "\n",
              "    .dataframe thead th {\n",
              "        text-align: right;\n",
              "    }\n",
              "</style>\n",
              "<table border=\"1\" class=\"dataframe\">\n",
              "  <thead>\n",
              "    <tr style=\"text-align: right;\">\n",
              "      <th></th>\n",
              "      <th>quantity</th>\n",
              "      <th>sum</th>\n",
              "    </tr>\n",
              "  </thead>\n",
              "  <tbody>\n",
              "    <tr>\n",
              "      <th>count</th>\n",
              "      <td>4.649662e+07</td>\n",
              "      <td>4.649662e+07</td>\n",
              "    </tr>\n",
              "    <tr>\n",
              "      <th>mean</th>\n",
              "      <td>1.381354e+00</td>\n",
              "      <td>1.195184e+02</td>\n",
              "    </tr>\n",
              "    <tr>\n",
              "      <th>std</th>\n",
              "      <td>2.943611e+01</td>\n",
              "      <td>1.144673e+02</td>\n",
              "    </tr>\n",
              "    <tr>\n",
              "      <th>min</th>\n",
              "      <td>0.000000e+00</td>\n",
              "      <td>0.000000e+00</td>\n",
              "    </tr>\n",
              "    <tr>\n",
              "      <th>25%</th>\n",
              "      <td>1.000000e+00</td>\n",
              "      <td>5.200000e+01</td>\n",
              "    </tr>\n",
              "    <tr>\n",
              "      <th>50%</th>\n",
              "      <td>1.000000e+00</td>\n",
              "      <td>9.200000e+01</td>\n",
              "    </tr>\n",
              "    <tr>\n",
              "      <th>75%</th>\n",
              "      <td>1.000000e+00</td>\n",
              "      <td>1.530000e+02</td>\n",
              "    </tr>\n",
              "    <tr>\n",
              "      <th>max</th>\n",
              "      <td>5.000000e+03</td>\n",
              "      <td>1.478400e+04</td>\n",
              "    </tr>\n",
              "  </tbody>\n",
              "</table>\n",
              "</div>"
            ],
            "text/plain": [
              "           quantity           sum\n",
              "count  4.649662e+07  4.649662e+07\n",
              "mean   1.381354e+00  1.195184e+02\n",
              "std    2.943611e+01  1.144673e+02\n",
              "min    0.000000e+00  0.000000e+00\n",
              "25%    1.000000e+00  5.200000e+01\n",
              "50%    1.000000e+00  9.200000e+01\n",
              "75%    1.000000e+00  1.530000e+02\n",
              "max    5.000000e+03  1.478400e+04"
            ]
          },
          "metadata": {
            "tags": []
          },
          "execution_count": 7
        }
      ]
    },
    {
      "cell_type": "code",
      "metadata": {
        "id": "UzKGwbDOMw3V"
      },
      "source": [
        "z_sum = np.abs(stats.zscore(df[['sum']]))"
      ],
      "execution_count": 8,
      "outputs": []
    },
    {
      "cell_type": "code",
      "metadata": {
        "colab": {
          "base_uri": "https://localhost:8080/"
        },
        "id": "BzAeDPuZMw3V",
        "outputId": "581c3855-7d76-4626-eab3-571ca0a1fa29"
      },
      "source": [
        "z_sum"
      ],
      "execution_count": 9,
      "outputs": [
        {
          "output_type": "execute_result",
          "data": {
            "text/plain": [
              "array([[0.10080083],\n",
              "       [0.1006261 ],\n",
              "       [0.06568161],\n",
              "       ...,\n",
              "       [0.74709915],\n",
              "       [0.28376328],\n",
              "       [1.01791895]])"
            ]
          },
          "metadata": {
            "tags": []
          },
          "execution_count": 9
        }
      ]
    },
    {
      "cell_type": "code",
      "metadata": {
        "id": "NFu_bERkMw3W"
      },
      "source": [
        "for z in np.where(z_sum>3)[0]:\n",
        "    outliers.append(z)"
      ],
      "execution_count": 19,
      "outputs": []
    },
    {
      "cell_type": "code",
      "metadata": {
        "colab": {
          "base_uri": "https://localhost:8080/"
        },
        "id": "7PZRZSTXMw3X",
        "outputId": "e538052e-d978-484d-9ea8-614dd0fafc0a"
      },
      "source": [
        "df.groupby(['id_card_int'])['sum'].sum().sort_values(ascending=False)"
      ],
      "execution_count": 12,
      "outputs": [
        {
          "output_type": "execute_result",
          "data": {
            "text/plain": [
              "id_card_int\n",
              "883386     22018356.77\n",
              "1577248     1279932.55\n",
              "1028081      117739.34\n",
              "356029       116052.43\n",
              "588107       112809.07\n",
              "              ...     \n",
              "1801523           0.00\n",
              "1393872           0.00\n",
              "1658568           0.00\n",
              "1084788           0.00\n",
              "1013965           0.00\n",
              "Name: sum, Length: 1335358, dtype: float64"
            ]
          },
          "metadata": {
            "tags": []
          },
          "execution_count": 12
        }
      ]
    },
    {
      "cell_type": "code",
      "metadata": {
        "colab": {
          "base_uri": "https://localhost:8080/",
          "height": 570
        },
        "id": "HfX7qZpfMw3X",
        "outputId": "70799ca0-44a0-479a-9b91-775ac41a600a"
      },
      "source": [
        "df.loc[df['id_card_int'] == 883386]"
      ],
      "execution_count": 13,
      "outputs": [
        {
          "output_type": "execute_result",
          "data": {
            "text/html": [
              "<div>\n",
              "<style scoped>\n",
              "    .dataframe tbody tr th:only-of-type {\n",
              "        vertical-align: middle;\n",
              "    }\n",
              "\n",
              "    .dataframe tbody tr th {\n",
              "        vertical-align: top;\n",
              "    }\n",
              "\n",
              "    .dataframe thead th {\n",
              "        text-align: right;\n",
              "    }\n",
              "</style>\n",
              "<table border=\"1\" class=\"dataframe\">\n",
              "  <thead>\n",
              "    <tr style=\"text-align: right;\">\n",
              "      <th></th>\n",
              "      <th>date</th>\n",
              "      <th>id_doc</th>\n",
              "      <th>id_order</th>\n",
              "      <th>id_card</th>\n",
              "      <th>id_tov</th>\n",
              "      <th>id_kontr</th>\n",
              "      <th>quantity</th>\n",
              "      <th>sum</th>\n",
              "      <th>is_green</th>\n",
              "      <th>id_card_int</th>\n",
              "      <th>id_doc_int</th>\n",
              "    </tr>\n",
              "  </thead>\n",
              "  <tbody>\n",
              "    <tr>\n",
              "      <th>145</th>\n",
              "      <td>2020-11-01 18:10:40</td>\n",
              "      <td>6CB3A8CC-541C-EB11-B444-005056A7539A</td>\n",
              "      <td>0</td>\n",
              "      <td>4806534</td>\n",
              "      <td>609</td>\n",
              "      <td>15048</td>\n",
              "      <td>0.302</td>\n",
              "      <td>49.72</td>\n",
              "      <td>False</td>\n",
              "      <td>883386</td>\n",
              "      <td>9943680</td>\n",
              "    </tr>\n",
              "    <tr>\n",
              "      <th>544</th>\n",
              "      <td>2020-11-01 18:10:40</td>\n",
              "      <td>6CB3A8CC-541C-EB11-B444-005056A7539A</td>\n",
              "      <td>0</td>\n",
              "      <td>4806534</td>\n",
              "      <td>15378</td>\n",
              "      <td>15563</td>\n",
              "      <td>0.404</td>\n",
              "      <td>64.50</td>\n",
              "      <td>False</td>\n",
              "      <td>883386</td>\n",
              "      <td>9943680</td>\n",
              "    </tr>\n",
              "    <tr>\n",
              "      <th>1022</th>\n",
              "      <td>2020-11-01 18:08:23</td>\n",
              "      <td>918AC34F-541C-EB11-B444-005056A7539A</td>\n",
              "      <td>0</td>\n",
              "      <td>4806534</td>\n",
              "      <td>20851</td>\n",
              "      <td>13532</td>\n",
              "      <td>2.000</td>\n",
              "      <td>58.00</td>\n",
              "      <td>False</td>\n",
              "      <td>883386</td>\n",
              "      <td>13314883</td>\n",
              "    </tr>\n",
              "    <tr>\n",
              "      <th>1068</th>\n",
              "      <td>2020-11-01 17:58:02</td>\n",
              "      <td>60E92161-531C-EB11-B444-005056A7539A</td>\n",
              "      <td>0</td>\n",
              "      <td>4806534</td>\n",
              "      <td>21435</td>\n",
              "      <td>102</td>\n",
              "      <td>7.000</td>\n",
              "      <td>196.00</td>\n",
              "      <td>False</td>\n",
              "      <td>883386</td>\n",
              "      <td>8864097</td>\n",
              "    </tr>\n",
              "    <tr>\n",
              "      <th>1257</th>\n",
              "      <td>2020-11-01 18:08:23</td>\n",
              "      <td>918AC34F-541C-EB11-B444-005056A7539A</td>\n",
              "      <td>0</td>\n",
              "      <td>4806534</td>\n",
              "      <td>23130</td>\n",
              "      <td>14806</td>\n",
              "      <td>1.000</td>\n",
              "      <td>68.00</td>\n",
              "      <td>False</td>\n",
              "      <td>883386</td>\n",
              "      <td>13314883</td>\n",
              "    </tr>\n",
              "    <tr>\n",
              "      <th>...</th>\n",
              "      <td>...</td>\n",
              "      <td>...</td>\n",
              "      <td>...</td>\n",
              "      <td>...</td>\n",
              "      <td>...</td>\n",
              "      <td>...</td>\n",
              "      <td>...</td>\n",
              "      <td>...</td>\n",
              "      <td>...</td>\n",
              "      <td>...</td>\n",
              "      <td>...</td>\n",
              "    </tr>\n",
              "    <tr>\n",
              "      <th>46495920</th>\n",
              "      <td>2020-11-30 17:39:59</td>\n",
              "      <td>ACF71C6A-1B33-EB11-B444-005056A7539A</td>\n",
              "      <td>0</td>\n",
              "      <td>4806534</td>\n",
              "      <td>22560</td>\n",
              "      <td>14186</td>\n",
              "      <td>1.000</td>\n",
              "      <td>135.00</td>\n",
              "      <td>False</td>\n",
              "      <td>883386</td>\n",
              "      <td>15823137</td>\n",
              "    </tr>\n",
              "    <tr>\n",
              "      <th>46496028</th>\n",
              "      <td>2020-11-30 20:07:31</td>\n",
              "      <td>AB7247F3-2E33-EB11-B444-005056A7539A</td>\n",
              "      <td>0</td>\n",
              "      <td>4806534</td>\n",
              "      <td>24554</td>\n",
              "      <td>12869</td>\n",
              "      <td>1.000</td>\n",
              "      <td>145.00</td>\n",
              "      <td>False</td>\n",
              "      <td>883386</td>\n",
              "      <td>15684187</td>\n",
              "    </tr>\n",
              "    <tr>\n",
              "      <th>46496039</th>\n",
              "      <td>2020-11-30 17:39:59</td>\n",
              "      <td>ACF71C6A-1B33-EB11-B444-005056A7539A</td>\n",
              "      <td>0</td>\n",
              "      <td>4806534</td>\n",
              "      <td>24799</td>\n",
              "      <td>17356</td>\n",
              "      <td>1.000</td>\n",
              "      <td>46.00</td>\n",
              "      <td>False</td>\n",
              "      <td>883386</td>\n",
              "      <td>15823137</td>\n",
              "    </tr>\n",
              "    <tr>\n",
              "      <th>46496194</th>\n",
              "      <td>2020-11-30 11:16:22</td>\n",
              "      <td>F0123CA2-E432-EB11-B444-005056A7539A</td>\n",
              "      <td>0</td>\n",
              "      <td>4806534</td>\n",
              "      <td>31936</td>\n",
              "      <td>20031</td>\n",
              "      <td>2.000</td>\n",
              "      <td>180.00</td>\n",
              "      <td>False</td>\n",
              "      <td>883386</td>\n",
              "      <td>21960612</td>\n",
              "    </tr>\n",
              "    <tr>\n",
              "      <th>46496309</th>\n",
              "      <td>2020-11-30 19:42:49</td>\n",
              "      <td>14E7EF69-2C33-EB11-B444-005056A7539A</td>\n",
              "      <td>0</td>\n",
              "      <td>4806534</td>\n",
              "      <td>37581</td>\n",
              "      <td>20166</td>\n",
              "      <td>1.000</td>\n",
              "      <td>185.00</td>\n",
              "      <td>False</td>\n",
              "      <td>883386</td>\n",
              "      <td>1912154</td>\n",
              "    </tr>\n",
              "  </tbody>\n",
              "</table>\n",
              "<p>228012 rows × 11 columns</p>\n",
              "</div>"
            ],
            "text/plain": [
              "                        date  ... id_doc_int\n",
              "145      2020-11-01 18:10:40  ...    9943680\n",
              "544      2020-11-01 18:10:40  ...    9943680\n",
              "1022     2020-11-01 18:08:23  ...   13314883\n",
              "1068     2020-11-01 17:58:02  ...    8864097\n",
              "1257     2020-11-01 18:08:23  ...   13314883\n",
              "...                      ...  ...        ...\n",
              "46495920 2020-11-30 17:39:59  ...   15823137\n",
              "46496028 2020-11-30 20:07:31  ...   15684187\n",
              "46496039 2020-11-30 17:39:59  ...   15823137\n",
              "46496194 2020-11-30 11:16:22  ...   21960612\n",
              "46496309 2020-11-30 19:42:49  ...    1912154\n",
              "\n",
              "[228012 rows x 11 columns]"
            ]
          },
          "metadata": {
            "tags": []
          },
          "execution_count": 13
        }
      ]
    },
    {
      "cell_type": "code",
      "metadata": {
        "id": "Sl5038ulMw3Y"
      },
      "source": [
        "outliers.append(883386)"
      ],
      "execution_count": 14,
      "outputs": []
    },
    {
      "cell_type": "markdown",
      "metadata": {
        "id": "oFX2kQc5NHFA"
      },
      "source": [
        "Saving"
      ]
    },
    {
      "cell_type": "code",
      "metadata": {
        "id": "HNuNtZqkNGV_"
      },
      "source": [
        "outliers_df = pd.DataFrame(list(set(outliers)), columns=['id_card_int'])\n",
        "with bz2.open('outliers.bz2', 'wb') as f:\n",
        "    pickle.dump(outliers_df, f, protocol=4)"
      ],
      "execution_count": 23,
      "outputs": []
    }
  ]
}