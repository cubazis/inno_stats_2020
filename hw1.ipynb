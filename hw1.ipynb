{
 "cells": [
  {
   "cell_type": "code",
   "execution_count": 27,
   "metadata": {},
   "outputs": [],
   "source": [
    "import pickle\n",
    "import pandas as pd\n",
    "from pathlib import Path\n",
    "import bz2\n",
    "import numpy as np"
   ]
  },
  {
   "cell_type": "code",
   "execution_count": 9,
   "metadata": {},
   "outputs": [],
   "source": [
    "with bz2.open(\"../doc_lbe.pkl.bz2\", \"rb\") as f:\n",
    "    doc_lbe_df = pickle.load(f)"
   ]
  },
  {
   "cell_type": "code",
   "execution_count": 10,
   "metadata": {},
   "outputs": [],
   "source": [
    "with bz2.open(\"../card_lbe.pkl.bz2\", \"rb\") as f:\n",
    "    card_lbe_df = pickle.load(f)"
   ]
  },
  {
   "cell_type": "code",
   "execution_count": 62,
   "metadata": {},
   "outputs": [],
   "source": [
    "id_card_to_id_card_int = card_lbe_df.set_index(\"id_card\")[\"id_card_int\"].to_dict()\n",
    "id_doc_to_id_doc_int = doc_lbe_df.set_index(\"id_doc\")[\"id_doc_int\"].to_dict()"
   ]
  },
  {
   "cell_type": "markdown",
   "metadata": {},
   "source": [
    "#### Work with september"
   ]
  },
  {
   "cell_type": "code",
   "execution_count": 2,
   "metadata": {},
   "outputs": [],
   "source": [
    "path = '../09_prepared.pkl.bz2'"
   ]
  },
  {
   "cell_type": "code",
   "execution_count": 53,
   "metadata": {},
   "outputs": [],
   "source": [
    "with bz2.open(path, 'rb') as f:\n",
    "    df = pickle.load(f)"
   ]
  },
  {
   "cell_type": "code",
   "execution_count": 63,
   "metadata": {},
   "outputs": [],
   "source": [
    "df[\"id_card_int\"] = df[\"id_card\"].map(id_card_to_id_card_int)\n",
    "df[\"id_doc_int\"] = df[\"id_doc\"].map(id_doc_to_id_doc_int)"
   ]
  },
  {
   "cell_type": "code",
   "execution_count": 64,
   "metadata": {},
   "outputs": [
    {
     "data": {
      "text/html": [
       "<div>\n",
       "<style scoped>\n",
       "    .dataframe tbody tr th:only-of-type {\n",
       "        vertical-align: middle;\n",
       "    }\n",
       "\n",
       "    .dataframe tbody tr th {\n",
       "        vertical-align: top;\n",
       "    }\n",
       "\n",
       "    .dataframe thead th {\n",
       "        text-align: right;\n",
       "    }\n",
       "</style>\n",
       "<table border=\"1\" class=\"dataframe\">\n",
       "  <thead>\n",
       "    <tr style=\"text-align: right;\">\n",
       "      <th></th>\n",
       "      <th>date</th>\n",
       "      <th>id_doc</th>\n",
       "      <th>id_order</th>\n",
       "      <th>id_card</th>\n",
       "      <th>id_tov</th>\n",
       "      <th>id_kontr</th>\n",
       "      <th>quantity</th>\n",
       "      <th>sum</th>\n",
       "      <th>is_green</th>\n",
       "      <th>id_card_int</th>\n",
       "      <th>id_doc_int</th>\n",
       "    </tr>\n",
       "  </thead>\n",
       "  <tbody>\n",
       "    <tr>\n",
       "      <th>0</th>\n",
       "      <td>2020-09-01 17:01:25</td>\n",
       "      <td>0E05D308-5CEC-EA11-B444-005056A7539A</td>\n",
       "      <td>0</td>\n",
       "      <td>8594499</td>\n",
       "      <td>52</td>\n",
       "      <td>271</td>\n",
       "      <td>1.0</td>\n",
       "      <td>108.0</td>\n",
       "      <td>False</td>\n",
       "      <td>1538855</td>\n",
       "      <td>1283228</td>\n",
       "    </tr>\n",
       "    <tr>\n",
       "      <th>1</th>\n",
       "      <td>2020-09-01 17:35:36</td>\n",
       "      <td>610205A1-61EC-EA11-B444-005056A7539A</td>\n",
       "      <td>0</td>\n",
       "      <td>1452388</td>\n",
       "      <td>52</td>\n",
       "      <td>271</td>\n",
       "      <td>1.0</td>\n",
       "      <td>108.0</td>\n",
       "      <td>False</td>\n",
       "      <td>267307</td>\n",
       "      <td>8873113</td>\n",
       "    </tr>\n",
       "  </tbody>\n",
       "</table>\n",
       "</div>"
      ],
      "text/plain": [
       "                 date                                id_doc  id_order  \\\n",
       "0 2020-09-01 17:01:25  0E05D308-5CEC-EA11-B444-005056A7539A         0   \n",
       "1 2020-09-01 17:35:36  610205A1-61EC-EA11-B444-005056A7539A         0   \n",
       "\n",
       "   id_card  id_tov  id_kontr  quantity    sum  is_green  id_card_int  \\\n",
       "0  8594499      52       271       1.0  108.0     False      1538855   \n",
       "1  1452388      52       271       1.0  108.0     False       267307   \n",
       "\n",
       "   id_doc_int  \n",
       "0     1283228  \n",
       "1     8873113  "
      ]
     },
     "execution_count": 64,
     "metadata": {},
     "output_type": "execute_result"
    }
   ],
   "source": [
    "df.head(2)"
   ]
  },
  {
   "cell_type": "markdown",
   "metadata": {},
   "source": [
    "- date - Date of shoping processing\n",
    "- id_doc - Receipt ID\n",
    "- id_card - Customer id\n",
    "- id_order - If 0, than offline, otherwise online\n",
    "- id_tov - Price look-up codes, PLU\n",
    "- id_kontr - Distributor id\n",
    "- quantity - Amount of bought items\n",
    "- is_green - Discount\n",
    "- sum - Sum of bought items"
   ]
  },
  {
   "cell_type": "markdown",
   "metadata": {},
   "source": [
    "## Overview"
   ]
  },
  {
   "cell_type": "code",
   "execution_count": 56,
   "metadata": {},
   "outputs": [
    {
     "data": {
      "text/plain": [
       "(42100858, 11)"
      ]
     },
     "execution_count": 56,
     "metadata": {},
     "output_type": "execute_result"
    }
   ],
   "source": [
    "df.shape"
   ]
  },
  {
   "cell_type": "code",
   "execution_count": 66,
   "metadata": {},
   "outputs": [
    {
     "data": {
      "text/html": [
       "<div>\n",
       "<style scoped>\n",
       "    .dataframe tbody tr th:only-of-type {\n",
       "        vertical-align: middle;\n",
       "    }\n",
       "\n",
       "    .dataframe tbody tr th {\n",
       "        vertical-align: top;\n",
       "    }\n",
       "\n",
       "    .dataframe thead th {\n",
       "        text-align: right;\n",
       "    }\n",
       "</style>\n",
       "<table border=\"1\" class=\"dataframe\">\n",
       "  <thead>\n",
       "    <tr style=\"text-align: right;\">\n",
       "      <th></th>\n",
       "      <th>date</th>\n",
       "      <th>id_doc</th>\n",
       "      <th>id_order</th>\n",
       "      <th>id_card</th>\n",
       "      <th>id_tov</th>\n",
       "      <th>id_kontr</th>\n",
       "      <th>quantity</th>\n",
       "      <th>sum</th>\n",
       "      <th>is_green</th>\n",
       "      <th>id_card_int</th>\n",
       "      <th>id_doc_int</th>\n",
       "    </tr>\n",
       "  </thead>\n",
       "  <tbody>\n",
       "    <tr>\n",
       "      <th>15660604</th>\n",
       "      <td>2020-09-12 11:40:30</td>\n",
       "      <td>4945929E-D4F4-EA11-B444-005056A7539A</td>\n",
       "      <td>0</td>\n",
       "      <td>5016382</td>\n",
       "      <td>21629</td>\n",
       "      <td>15252</td>\n",
       "      <td>1.000</td>\n",
       "      <td>98.00</td>\n",
       "      <td>False</td>\n",
       "      <td>928216</td>\n",
       "      <td>6700866</td>\n",
       "    </tr>\n",
       "    <tr>\n",
       "      <th>10442353</th>\n",
       "      <td>2020-09-08 09:54:56</td>\n",
       "      <td>EB2FA560-A0F1-EA11-B444-005056A7539A</td>\n",
       "      <td>0</td>\n",
       "      <td>6794255</td>\n",
       "      <td>185</td>\n",
       "      <td>13983</td>\n",
       "      <td>1.000</td>\n",
       "      <td>129.00</td>\n",
       "      <td>False</td>\n",
       "      <td>1259379</td>\n",
       "      <td>21513507</td>\n",
       "    </tr>\n",
       "    <tr>\n",
       "      <th>24138067</th>\n",
       "      <td>2020-09-18 10:56:00</td>\n",
       "      <td>7ED9BC8E-84F9-EA11-B444-005056A7539A</td>\n",
       "      <td>6170840</td>\n",
       "      <td>3531118</td>\n",
       "      <td>36159</td>\n",
       "      <td>-9999</td>\n",
       "      <td>1.000</td>\n",
       "      <td>138.00</td>\n",
       "      <td>False</td>\n",
       "      <td>617357</td>\n",
       "      <td>11606608</td>\n",
       "    </tr>\n",
       "    <tr>\n",
       "      <th>27670174</th>\n",
       "      <td>2020-09-21 10:10:38</td>\n",
       "      <td>837AB235-DAFB-EA11-B444-005056A7539A</td>\n",
       "      <td>6281351</td>\n",
       "      <td>1370263</td>\n",
       "      <td>16122</td>\n",
       "      <td>12134</td>\n",
       "      <td>1.000</td>\n",
       "      <td>110.38</td>\n",
       "      <td>False</td>\n",
       "      <td>252795</td>\n",
       "      <td>12030148</td>\n",
       "    </tr>\n",
       "    <tr>\n",
       "      <th>28120227</th>\n",
       "      <td>2020-09-21 19:45:07</td>\n",
       "      <td>CDBF61E8-2AFC-EA11-B444-005056A7539A</td>\n",
       "      <td>0</td>\n",
       "      <td>7899611</td>\n",
       "      <td>22680</td>\n",
       "      <td>17394</td>\n",
       "      <td>0.704</td>\n",
       "      <td>151.36</td>\n",
       "      <td>False</td>\n",
       "      <td>1447443</td>\n",
       "      <td>18821471</td>\n",
       "    </tr>\n",
       "  </tbody>\n",
       "</table>\n",
       "</div>"
      ],
      "text/plain": [
       "                        date                                id_doc  id_order  \\\n",
       "15660604 2020-09-12 11:40:30  4945929E-D4F4-EA11-B444-005056A7539A         0   \n",
       "10442353 2020-09-08 09:54:56  EB2FA560-A0F1-EA11-B444-005056A7539A         0   \n",
       "24138067 2020-09-18 10:56:00  7ED9BC8E-84F9-EA11-B444-005056A7539A   6170840   \n",
       "27670174 2020-09-21 10:10:38  837AB235-DAFB-EA11-B444-005056A7539A   6281351   \n",
       "28120227 2020-09-21 19:45:07  CDBF61E8-2AFC-EA11-B444-005056A7539A         0   \n",
       "\n",
       "          id_card  id_tov  id_kontr  quantity     sum  is_green  id_card_int  \\\n",
       "15660604  5016382   21629     15252     1.000   98.00     False       928216   \n",
       "10442353  6794255     185     13983     1.000  129.00     False      1259379   \n",
       "24138067  3531118   36159     -9999     1.000  138.00     False       617357   \n",
       "27670174  1370263   16122     12134     1.000  110.38     False       252795   \n",
       "28120227  7899611   22680     17394     0.704  151.36     False      1447443   \n",
       "\n",
       "          id_doc_int  \n",
       "15660604     6700866  \n",
       "10442353    21513507  \n",
       "24138067    11606608  \n",
       "27670174    12030148  \n",
       "28120227    18821471  "
      ]
     },
     "execution_count": 66,
     "metadata": {},
     "output_type": "execute_result"
    }
   ],
   "source": [
    "df.sample(5)"
   ]
  },
  {
   "cell_type": "code",
   "execution_count": 70,
   "metadata": {},
   "outputs": [
    {
     "data": {
      "text/html": [
       "<div>\n",
       "<style scoped>\n",
       "    .dataframe tbody tr th:only-of-type {\n",
       "        vertical-align: middle;\n",
       "    }\n",
       "\n",
       "    .dataframe tbody tr th {\n",
       "        vertical-align: top;\n",
       "    }\n",
       "\n",
       "    .dataframe thead th {\n",
       "        text-align: right;\n",
       "    }\n",
       "</style>\n",
       "<table border=\"1\" class=\"dataframe\">\n",
       "  <thead>\n",
       "    <tr style=\"text-align: right;\">\n",
       "      <th></th>\n",
       "      <th>sum</th>\n",
       "      <th>quantity</th>\n",
       "    </tr>\n",
       "  </thead>\n",
       "  <tbody>\n",
       "    <tr>\n",
       "      <th>count</th>\n",
       "      <td>4.210086e+07</td>\n",
       "      <td>4.210086e+07</td>\n",
       "    </tr>\n",
       "    <tr>\n",
       "      <th>mean</th>\n",
       "      <td>1.149112e+02</td>\n",
       "      <td>1.427065e+00</td>\n",
       "    </tr>\n",
       "    <tr>\n",
       "      <th>std</th>\n",
       "      <td>1.072201e+02</td>\n",
       "      <td>3.101411e+01</td>\n",
       "    </tr>\n",
       "    <tr>\n",
       "      <th>min</th>\n",
       "      <td>-1.022110e+03</td>\n",
       "      <td>-2.755000e+00</td>\n",
       "    </tr>\n",
       "    <tr>\n",
       "      <th>25%</th>\n",
       "      <td>4.800000e+01</td>\n",
       "      <td>1.000000e+00</td>\n",
       "    </tr>\n",
       "    <tr>\n",
       "      <th>50%</th>\n",
       "      <td>8.900000e+01</td>\n",
       "      <td>1.000000e+00</td>\n",
       "    </tr>\n",
       "    <tr>\n",
       "      <th>75%</th>\n",
       "      <td>1.501100e+02</td>\n",
       "      <td>1.000000e+00</td>\n",
       "    </tr>\n",
       "    <tr>\n",
       "      <th>max</th>\n",
       "      <td>3.840000e+04</td>\n",
       "      <td>5.000000e+03</td>\n",
       "    </tr>\n",
       "  </tbody>\n",
       "</table>\n",
       "</div>"
      ],
      "text/plain": [
       "                sum      quantity\n",
       "count  4.210086e+07  4.210086e+07\n",
       "mean   1.149112e+02  1.427065e+00\n",
       "std    1.072201e+02  3.101411e+01\n",
       "min   -1.022110e+03 -2.755000e+00\n",
       "25%    4.800000e+01  1.000000e+00\n",
       "50%    8.900000e+01  1.000000e+00\n",
       "75%    1.501100e+02  1.000000e+00\n",
       "max    3.840000e+04  5.000000e+03"
      ]
     },
     "execution_count": 70,
     "metadata": {},
     "output_type": "execute_result"
    }
   ],
   "source": [
    "df[[\"sum\", \"quantity\"]].describe()"
   ]
  },
  {
   "cell_type": "code",
   "execution_count": 71,
   "metadata": {},
   "outputs": [
    {
     "data": {
      "text/plain": [
       "1358089"
      ]
     },
     "execution_count": 71,
     "metadata": {},
     "output_type": "execute_result"
    }
   ],
   "source": [
    "df['id_card_int'].nunique()"
   ]
  },
  {
   "cell_type": "code",
   "execution_count": 97,
   "metadata": {},
   "outputs": [
    {
     "data": {
      "text/plain": [
       "883386     189812\n",
       "568930        753\n",
       "1243870       707\n",
       "518424        694\n",
       "213588        675\n",
       "            ...  \n",
       "981865          1\n",
       "1010507         1\n",
       "1560491         1\n",
       "881086          1\n",
       "1371313         1\n",
       "Name: id_card_int, Length: 1358089, dtype: int64"
      ]
     },
     "execution_count": 97,
     "metadata": {},
     "output_type": "execute_result"
    }
   ],
   "source": [
    "df['id_card_int'].value_counts()"
   ]
  },
  {
   "cell_type": "code",
   "execution_count": 141,
   "metadata": {},
   "outputs": [
    {
     "data": {
      "text/plain": [
       "id_card_int\n",
       "883386     96719\n",
       "914348       163\n",
       "620767       161\n",
       "317600       140\n",
       "1157493      134\n",
       "1387578      130\n",
       "1407478      129\n",
       "1431790      123\n",
       "1422663      121\n",
       "137816       119\n",
       "344206       119\n",
       "1523082      119\n",
       "7922         118\n",
       "542660       117\n",
       "1434952      116\n",
       "421742       114\n",
       "202327       113\n",
       "1445040      112\n",
       "74755        111\n",
       "1152370      111\n",
       "Name: id_doc_int, dtype: int64"
      ]
     },
     "execution_count": 141,
     "metadata": {},
     "output_type": "execute_result"
    }
   ],
   "source": [
    "# Customers with biggest number of receipts\n",
    "df_agg = df.groupby(\"id_card_int\")[\"id_doc_int\"].agg(\"nunique\")\n",
    "df_agg.nlargest(20)"
   ]
  },
  {
   "cell_type": "code",
   "execution_count": 142,
   "metadata": {},
   "outputs": [
    {
     "data": {
      "text/plain": [
       "<AxesSubplot:>"
      ]
     },
     "execution_count": 142,
     "metadata": {},
     "output_type": "execute_result"
    },
    {
     "data": {
      "image/png": "[encoded data removed]",
      "text/plain": [
       "<Figure size 432x288 with 1 Axes>"
      ]
     },
     "metadata": {
      "needs_background": "light"
     },
     "output_type": "display_data"
    }
   ],
   "source": [
    "pd.DataFrame(df_agg[df_agg < 1000]).boxplot()"
   ]
  },
  {
   "cell_type": "code",
   "execution_count": 143,
   "metadata": {},
   "outputs": [
    {
     "data": {
      "text/plain": [
       "(5.676902618311465, 83.27751947284516)"
      ]
     },
     "execution_count": 143,
     "metadata": {},
     "output_type": "execute_result"
    }
   ],
   "source": [
    "# Mean number of receipts per customer\n",
    "df_agg.mean(), df_agg.std()"
   ]
  },
  {
   "cell_type": "code",
   "execution_count": 144,
   "metadata": {},
   "outputs": [],
   "source": [
    "suspects = df_agg[df_agg > 150].index.tolist()"
   ]
  },
  {
   "cell_type": "code",
   "execution_count": 145,
   "metadata": {},
   "outputs": [
    {
     "data": {
      "text/plain": [
       "id_card_int\n",
       "883386     2851\n",
       "568930      418\n",
       "13789       315\n",
       "1176405     313\n",
       "761714      311\n",
       "1658676     310\n",
       "121856      305\n",
       "288752      302\n",
       "96493       300\n",
       "937039      299\n",
       "518424      296\n",
       "817278      296\n",
       "542043      295\n",
       "230546      294\n",
       "1447941     293\n",
       "1497410     293\n",
       "1120884     290\n",
       "213748      287\n",
       "1711723     287\n",
       "425024      286\n",
       "Name: id_tov, dtype: int64"
      ]
     },
     "execution_count": 145,
     "metadata": {},
     "output_type": "execute_result"
    }
   ],
   "source": [
    "# Customers with biggest number of goods\n",
    "df_agg = df.groupby(\"id_card_int\")[\"id_tov\"].agg(\"nunique\")\n",
    "df_agg.nlargest(20)"
   ]
  },
  {
   "cell_type": "code",
   "execution_count": 147,
   "metadata": {},
   "outputs": [
    {
     "data": {
      "text/plain": [
       "id_card_int\n",
       "883386     18259091.85\n",
       "568930       211154.31\n",
       "1243870      124131.91\n",
       "1755035      116411.20\n",
       "1447941       98215.49\n",
       "935791        92720.81\n",
       "497966        91556.46\n",
       "57748         87851.95\n",
       "1372          86059.14\n",
       "129282        85682.71\n",
       "1524177       84910.85\n",
       "1062580       81783.34\n",
       "121856        81464.70\n",
       "1499243       81153.36\n",
       "1268011       80136.85\n",
       "116966        79485.16\n",
       "478842        79201.86\n",
       "163661        78958.13\n",
       "238391        78868.38\n",
       "761714        78270.96\n",
       "Name: sum, dtype: float64"
      ]
     },
     "execution_count": 147,
     "metadata": {},
     "output_type": "execute_result"
    }
   ],
   "source": [
    "# Customers with biggest expences\n",
    "df_agg = df.groupby(\"id_card_int\")[\"sum\"].agg(\"sum\")\n",
    "df_agg.nlargest(20)"
   ]
  },
  {
   "cell_type": "code",
   "execution_count": 148,
   "metadata": {},
   "outputs": [
    {
     "data": {
      "text/plain": [
       "<AxesSubplot:>"
      ]
     },
     "execution_count": 148,
     "metadata": {},
     "output_type": "execute_result"
    },
    {
     "data": {
      "image/png": "[encoded data removed]",
      "text/plain": [
       "<Figure size 432x288 with 1 Axes>"
      ]
     },
     "metadata": {
      "needs_background": "light"
     },
     "output_type": "display_data"
    }
   ],
   "source": [
    "pd.DataFrame(df_agg[df_agg < 300000]).boxplot()"
   ]
  },
  {
   "cell_type": "code",
   "execution_count": 150,
   "metadata": {},
   "outputs": [],
   "source": [
    "suspects.extend(df_agg[df_agg > 100000].index.tolist())"
   ]
  },
  {
   "cell_type": "markdown",
   "metadata": {},
   "source": [
    "### Analyze only online customers separately "
   ]
  },
  {
   "cell_type": "code",
   "execution_count": 106,
   "metadata": {},
   "outputs": [
    {
     "data": {
      "text/plain": [
       "53809"
      ]
     },
     "execution_count": 106,
     "metadata": {},
     "output_type": "execute_result"
    }
   ],
   "source": [
    "online_customers = df[df.id_order != 0]['id_card_int'].unique()\n",
    "offline_customers = df[df.id_order == 0]['id_card_int'].unique()\n",
    "only_onl_cust = set(online_customers) - set(offline_customers)\n",
    "len(only_onl_cust)"
   ]
  },
  {
   "cell_type": "code",
   "execution_count": 107,
   "metadata": {},
   "outputs": [
    {
     "data": {
      "text/plain": [
       "(1728895, 11)"
      ]
     },
     "execution_count": 107,
     "metadata": {},
     "output_type": "execute_result"
    }
   ],
   "source": [
    "df_onl = df[df.id_card_int.isin(only_onl_cust)]\n",
    "df_onl.shape"
   ]
  },
  {
   "cell_type": "code",
   "execution_count": 108,
   "metadata": {},
   "outputs": [
    {
     "data": {
      "text/plain": [
       "count    162218.000000\n",
       "mean       1394.548977\n",
       "std        1216.897890\n",
       "min           0.000000\n",
       "25%         578.540000\n",
       "50%        1051.505000\n",
       "75%        1826.177500\n",
       "max       22825.480000\n",
       "Name: sum, dtype: float64"
      ]
     },
     "execution_count": 108,
     "metadata": {},
     "output_type": "execute_result"
    }
   ],
   "source": [
    "sum_per_order = df_onl.groupby([\"id_order\"])[\"sum\"].sum()\n",
    "sum_per_order.describe()"
   ]
  },
  {
   "cell_type": "code",
   "execution_count": 109,
   "metadata": {},
   "outputs": [
    {
     "data": {
      "text/plain": [
       "<AxesSubplot:>"
      ]
     },
     "execution_count": 109,
     "metadata": {},
     "output_type": "execute_result"
    },
    {
     "data": {
      "image/png": "[encoded data removed]",
      "text/plain": [
       "<Figure size 432x288 with 1 Axes>"
      ]
     },
     "metadata": {
      "needs_background": "light"
     },
     "output_type": "display_data"
    }
   ],
   "source": [
    "pd.DataFrame(sum_per_order).boxplot()"
   ]
  },
  {
   "cell_type": "code",
   "execution_count": 133,
   "metadata": {},
   "outputs": [],
   "source": [
    "# Customers with smallest number of orders\n",
    "df_agg = df_onl.groupby(\"id_card_int\")[\"id_order\"].agg(\"nunique\")\n",
    "df_onl_single_order = df_agg[df_agg < 2]"
   ]
  },
  {
   "cell_type": "code",
   "execution_count": 136,
   "metadata": {},
   "outputs": [],
   "source": [
    "onl_single_order = df_onl[df_onl.id_card_int.isin(df_onl_single_order.index)].groupby(\"id_card_int\")[\"sum\"].agg(\"sum\")"
   ]
  },
  {
   "cell_type": "code",
   "execution_count": 137,
   "metadata": {},
   "outputs": [
    {
     "data": {
      "text/plain": [
       "<AxesSubplot:>"
      ]
     },
     "execution_count": 137,
     "metadata": {},
     "output_type": "execute_result"
    },
    {
     "data": {
      "image/png": "[encoded data removed]",
      "text/plain": [
       "<Figure size 432x288 with 1 Axes>"
      ]
     },
     "metadata": {
      "needs_background": "light"
     },
     "output_type": "display_data"
    }
   ],
   "source": [
    "pd.DataFrame(onl_single_order).boxplot()"
   ]
  },
  {
   "cell_type": "code",
   "execution_count": 152,
   "metadata": {},
   "outputs": [],
   "source": [
    "# Single order but quiet expensive.. Suspicious\n",
    "\n",
    "suspects.extend(onl_single_order[onl_single_order > 18000].index.tolist())"
   ]
  },
  {
   "cell_type": "code",
   "execution_count": 160,
   "metadata": {},
   "outputs": [],
   "source": [
    "# Customers with smallest number of goods\n",
    "df_agg = df_onl.groupby(\"id_card_int\")[\"id_tov\"].agg(\"nunique\")\n",
    "df_onl_single_tov = df_agg[df_agg < 2]"
   ]
  },
  {
   "cell_type": "code",
   "execution_count": 163,
   "metadata": {},
   "outputs": [],
   "source": [
    "onl_single_tov = df_onl[df_onl.id_card_int.isin(df_onl_single_tov.index)].groupby(\"id_card_int\")[\"sum\"].agg(\"sum\")"
   ]
  },
  {
   "cell_type": "code",
   "execution_count": 164,
   "metadata": {},
   "outputs": [
    {
     "data": {
      "text/plain": [
       "<AxesSubplot:>"
      ]
     },
     "execution_count": 164,
     "metadata": {},
     "output_type": "execute_result"
    },
    {
     "data": {
      "image/png": "[encoded data removed]",
      "text/plain": [
       "<Figure size 432x288 with 1 Axes>"
      ]
     },
     "metadata": {
      "needs_background": "light"
     },
     "output_type": "display_data"
    }
   ],
   "source": [
    "pd.DataFrame(onl_single_tov).boxplot()"
   ]
  },
  {
   "cell_type": "code",
   "execution_count": 165,
   "metadata": {},
   "outputs": [],
   "source": [
    "# Single good but quiet expensive.. Suspicious\n",
    "\n",
    "suspects.extend(onl_single_tov[onl_single_tov > 6000].index.tolist())"
   ]
  },
  {
   "cell_type": "markdown",
   "metadata": {},
   "source": [
    "## Final results"
   ]
  },
  {
   "cell_type": "code",
   "execution_count": 167,
   "metadata": {},
   "outputs": [
    {
     "data": {
      "text/plain": [
       "15"
      ]
     },
     "execution_count": 167,
     "metadata": {},
     "output_type": "execute_result"
    }
   ],
   "source": [
    "len(suspects)"
   ]
  },
  {
   "cell_type": "code",
   "execution_count": 168,
   "metadata": {},
   "outputs": [
    {
     "data": {
      "text/plain": [
       "[620767,\n",
       " 883386,\n",
       " 914348,\n",
       " 568930,\n",
       " 883386,\n",
       " 1243870,\n",
       " 1755035,\n",
       " 897626,\n",
       " 1121726,\n",
       " 1429536,\n",
       " 1911522,\n",
       " 1929067,\n",
       " 663977,\n",
       " 897626,\n",
       " 938137]"
      ]
     },
     "execution_count": 168,
     "metadata": {},
     "output_type": "execute_result"
    }
   ],
   "source": [
    "suspects"
   ]
  },
  {
   "cell_type": "code",
   "execution_count": 170,
   "metadata": {},
   "outputs": [],
   "source": [
    "res = pd.DataFrame(suspects, columns=['id_card_int'])\n",
    "with open(\"fake_id_card_int.pkl\", 'wb') as f:\n",
    "    pickle.dump(res, f)"
   ]
  },
  {
   "cell_type": "code",
   "execution_count": null,
   "metadata": {},
   "outputs": [],
   "source": []
  }
 ],
 "metadata": {
  "kernelspec": {
   "display_name": "Python 3",
   "language": "python",
   "name": "python3"
  },
  "language_info": {
   "codemirror_mode": {
    "name": "ipython",
    "version": 3
   },
   "file_extension": ".py",
   "mimetype": "text/x-python",
   "name": "python",
   "nbconvert_exporter": "python",
   "pygments_lexer": "ipython3",
   "version": "3.8.5"
  }
 },
 "nbformat": 4,
 "nbformat_minor": 4
}
