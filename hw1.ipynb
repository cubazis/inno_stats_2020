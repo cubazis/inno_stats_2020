{
 "cells": [
  {
   "cell_type": "markdown",
   "metadata": {
    "collapsed": true,
    "pycharm": {
     "name": "#%% md\n"
    }
   },
   "source": [
    "# Homework 1"
   ]
  },
  {
   "cell_type": "markdown",
   "metadata": {},
   "source": [
    "I decided to use already preprocessed pickle data because of hardware limitations (mainly RAM)."
   ]
  },
  {
   "cell_type": "code",
   "execution_count": 1,
   "metadata": {
    "pycharm": {
     "name": "#%%\n"
    }
   },
   "outputs": [],
   "source": [
    "import pickle\n",
    "import pandas as pd\n",
    "import bz2\n",
    "import os"
   ]
  },
  {
   "cell_type": "code",
   "execution_count": 2,
   "metadata": {
    "pycharm": {
     "name": "#%%\n"
    }
   },
   "outputs": [],
   "source": [
    "folder_path = './data/'\n",
    "data_path = os.path.join(folder_path, '09_prepared.pkl.bz2')\n",
    "card_path = os.path.join(folder_path, 'card_lbe.pkl.bz2')\n",
    "doc_path = os.path.join(folder_path, 'doc_lbe.pkl.bz2')\n",
    "processed_file_path = os.path.join(folder_path, 'processed.pkl.bz2')"
   ]
  },
  {
   "cell_type": "code",
   "execution_count": 3,
   "metadata": {
    "pycharm": {
     "name": "#%%\n"
    }
   },
   "outputs": [],
   "source": [
    "def load_pickle(file_path):\n",
    "    data = None\n",
    "    with bz2.open(file_path, 'rb') as fd:\n",
    "        data = pickle.load(fd)\n",
    "    return data\n",
    "\n",
    "def save_pickle(file_path, pickle_data):\n",
    "    with bz2.open(file_path, 'wb') as fd:\n",
    "        pickle.dump(pickle_data, fd, protocol=4)"
   ]
  },
  {
   "cell_type": "code",
   "execution_count": 4,
   "metadata": {
    "pycharm": {
     "is_executing": true,
     "name": "#%%\n"
    }
   },
   "outputs": [],
   "source": [
    "data = load_pickle(data_path)"
   ]
  },
  {
   "cell_type": "code",
   "execution_count": 5,
   "metadata": {
    "pycharm": {
     "is_executing": true,
     "name": "#%%\n"
    }
   },
   "outputs": [
    {
     "data": {
      "text/html": [
       "<div>\n",
       "<style scoped>\n",
       "    .dataframe tbody tr th:only-of-type {\n",
       "        vertical-align: middle;\n",
       "    }\n",
       "\n",
       "    .dataframe tbody tr th {\n",
       "        vertical-align: top;\n",
       "    }\n",
       "\n",
       "    .dataframe thead th {\n",
       "        text-align: right;\n",
       "    }\n",
       "</style>\n",
       "<table border=\"1\" class=\"dataframe\">\n",
       "  <thead>\n",
       "    <tr style=\"text-align: right;\">\n",
       "      <th></th>\n",
       "      <th>date</th>\n",
       "      <th>id_doc</th>\n",
       "      <th>id_order</th>\n",
       "      <th>id_card</th>\n",
       "      <th>id_tov</th>\n",
       "      <th>id_kontr</th>\n",
       "      <th>quantity</th>\n",
       "      <th>sum</th>\n",
       "      <th>is_green</th>\n",
       "      <th>id_card_int</th>\n",
       "      <th>id_doc_int</th>\n",
       "    </tr>\n",
       "  </thead>\n",
       "  <tbody>\n",
       "    <tr>\n",
       "      <th>0</th>\n",
       "      <td>2020-09-01 17:01:25</td>\n",
       "      <td>0E05D308-5CEC-EA11-B444-005056A7539A</td>\n",
       "      <td>0</td>\n",
       "      <td>8594499</td>\n",
       "      <td>52</td>\n",
       "      <td>271</td>\n",
       "      <td>1.0</td>\n",
       "      <td>108.00</td>\n",
       "      <td>False</td>\n",
       "      <td>1538855</td>\n",
       "      <td>1283228</td>\n",
       "    </tr>\n",
       "    <tr>\n",
       "      <th>1</th>\n",
       "      <td>2020-09-01 17:35:36</td>\n",
       "      <td>610205A1-61EC-EA11-B444-005056A7539A</td>\n",
       "      <td>0</td>\n",
       "      <td>1452388</td>\n",
       "      <td>52</td>\n",
       "      <td>271</td>\n",
       "      <td>1.0</td>\n",
       "      <td>108.00</td>\n",
       "      <td>False</td>\n",
       "      <td>267307</td>\n",
       "      <td>8873113</td>\n",
       "    </tr>\n",
       "    <tr>\n",
       "      <th>2</th>\n",
       "      <td>2020-09-01 19:19:21</td>\n",
       "      <td>8AF19602-70EC-EA11-B444-005056A7539A</td>\n",
       "      <td>0</td>\n",
       "      <td>3493538</td>\n",
       "      <td>52</td>\n",
       "      <td>271</td>\n",
       "      <td>1.0</td>\n",
       "      <td>107.95</td>\n",
       "      <td>False</td>\n",
       "      <td>610220</td>\n",
       "      <td>12712899</td>\n",
       "    </tr>\n",
       "    <tr>\n",
       "      <th>3</th>\n",
       "      <td>2020-09-01 21:53:34</td>\n",
       "      <td>EB6C71A3-84EC-EA11-B444-005056A7539A</td>\n",
       "      <td>0</td>\n",
       "      <td>2491281</td>\n",
       "      <td>52</td>\n",
       "      <td>271</td>\n",
       "      <td>1.0</td>\n",
       "      <td>108.00</td>\n",
       "      <td>False</td>\n",
       "      <td>441497</td>\n",
       "      <td>21535283</td>\n",
       "    </tr>\n",
       "    <tr>\n",
       "      <th>4</th>\n",
       "      <td>2020-09-01 18:42:31</td>\n",
       "      <td>0706023F-6BEC-EA11-B444-005056A7539A</td>\n",
       "      <td>0</td>\n",
       "      <td>5732396</td>\n",
       "      <td>61</td>\n",
       "      <td>97</td>\n",
       "      <td>2.0</td>\n",
       "      <td>88.00</td>\n",
       "      <td>False</td>\n",
       "      <td>1065358</td>\n",
       "      <td>642341</td>\n",
       "    </tr>\n",
       "  </tbody>\n",
       "</table>\n",
       "</div>"
      ],
      "text/plain": [
       "                 date                                id_doc  id_order  \\\n",
       "0 2020-09-01 17:01:25  0E05D308-5CEC-EA11-B444-005056A7539A         0   \n",
       "1 2020-09-01 17:35:36  610205A1-61EC-EA11-B444-005056A7539A         0   \n",
       "2 2020-09-01 19:19:21  8AF19602-70EC-EA11-B444-005056A7539A         0   \n",
       "3 2020-09-01 21:53:34  EB6C71A3-84EC-EA11-B444-005056A7539A         0   \n",
       "4 2020-09-01 18:42:31  0706023F-6BEC-EA11-B444-005056A7539A         0   \n",
       "\n",
       "   id_card  id_tov  id_kontr  quantity     sum  is_green  id_card_int  \\\n",
       "0  8594499      52       271       1.0  108.00     False      1538855   \n",
       "1  1452388      52       271       1.0  108.00     False       267307   \n",
       "2  3493538      52       271       1.0  107.95     False       610220   \n",
       "3  2491281      52       271       1.0  108.00     False       441497   \n",
       "4  5732396      61        97       2.0   88.00     False      1065358   \n",
       "\n",
       "   id_doc_int  \n",
       "0     1283228  \n",
       "1     8873113  \n",
       "2    12712899  \n",
       "3    21535283  \n",
       "4      642341  "
      ]
     },
     "execution_count": 5,
     "metadata": {},
     "output_type": "execute_result"
    }
   ],
   "source": [
    "data.head()"
   ]
  },
  {
   "cell_type": "markdown",
   "metadata": {},
   "source": [
    "## Analysis"
   ]
  },
  {
   "cell_type": "markdown",
   "metadata": {},
   "source": [
    "First thing that comes to mind is to check the total cost of the orders generated. Maybe there are some orders which are very small or very big. If we find such cases we can further explore them."
   ]
  },
  {
   "cell_type": "code",
   "execution_count": 9,
   "metadata": {},
   "outputs": [],
   "source": [
    "orders_stat = data.groupby(['id_order'])['sum'].sum()"
   ]
  },
  {
   "cell_type": "code",
   "execution_count": 13,
   "metadata": {},
   "outputs": [
    {
     "data": {
      "text/plain": [
       "id_order\n",
       "0         4.158384e+09\n",
       "98066     3.594000e+02\n",
       "98071     6.700000e+02\n",
       "171075    1.042460e+03\n",
       "191931    3.480000e+02\n",
       "Name: sum, dtype: float64"
      ]
     },
     "execution_count": 13,
     "metadata": {},
     "output_type": "execute_result"
    }
   ],
   "source": [
    "orders_stat.head()"
   ]
  },
  {
   "cell_type": "code",
   "execution_count": 14,
   "metadata": {},
   "outputs": [
    {
     "data": {
      "text/plain": [
       "count    5.035050e+05\n",
       "mean     9.608367e+03\n",
       "std      5.860336e+06\n",
       "min      0.000000e+00\n",
       "25%      5.914000e+02\n",
       "50%      1.040980e+03\n",
       "75%      1.753680e+03\n",
       "max      4.158384e+09\n",
       "Name: sum, dtype: float64"
      ]
     },
     "execution_count": 14,
     "metadata": {},
     "output_type": "execute_result"
    }
   ],
   "source": [
    "orders_stat.describe()"
   ]
  },
  {
   "cell_type": "markdown",
   "metadata": {},
   "source": [
    "So, if we look at the statistics, the mean is somewhere around 9608. Now, look at the examples from previous cell. It shows that orders with id 0 have total sum of more than billion. So, for further analysis of the proposed hypothesis, I decided to remove them."
   ]
  },
  {
   "cell_type": "code",
   "execution_count": 6,
   "metadata": {},
   "outputs": [],
   "source": [
    "data = data[data['id_order'] != 0]"
   ]
  },
  {
   "cell_type": "code",
   "execution_count": null,
   "metadata": {},
   "outputs": [],
   "source": [
    "save_pickle(processed_file_path, data)"
   ]
  },
  {
   "cell_type": "markdown",
   "metadata": {},
   "source": [
    "### Further anylsis\n",
    "Now after removing the orders with id 0, the dataset became very light for processing, which is very good in my case especially. Now, let's do the same thing and check the total costs of the orders"
   ]
  },
  {
   "cell_type": "code",
   "execution_count": 4,
   "metadata": {},
   "outputs": [],
   "source": [
    "data = load_pickle(processed_file_path)"
   ]
  },
  {
   "cell_type": "code",
   "execution_count": 5,
   "metadata": {},
   "outputs": [
    {
     "name": "stdout",
     "output_type": "stream",
     "text": [
      "(5385728, 11)\n"
     ]
    }
   ],
   "source": [
    "print(data.shape)"
   ]
  },
  {
   "cell_type": "code",
   "execution_count": 6,
   "metadata": {},
   "outputs": [],
   "source": [
    "orders_sum = data.groupby(['id_order'])['sum'].sum()"
   ]
  },
  {
   "cell_type": "code",
   "execution_count": 7,
   "metadata": {},
   "outputs": [
    {
     "data": {
      "text/plain": [
       "id_order\n",
       "98066      359.40\n",
       "98071      670.00\n",
       "171075    1042.46\n",
       "191931     348.00\n",
       "197959    2847.70\n",
       "Name: sum, dtype: float64"
      ]
     },
     "execution_count": 7,
     "metadata": {},
     "output_type": "execute_result"
    }
   ],
   "source": [
    "orders_sum.head()"
   ]
  },
  {
   "cell_type": "code",
   "execution_count": 9,
   "metadata": {},
   "outputs": [
    {
     "data": {
      "text/plain": [
       "count    503504.000000\n",
       "mean       1349.496831\n",
       "std        1128.310615\n",
       "min           0.000000\n",
       "25%         591.400000\n",
       "50%        1040.980000\n",
       "75%        1753.672500\n",
       "max       48005.000000\n",
       "Name: sum, dtype: float64"
      ]
     },
     "execution_count": 9,
     "metadata": {},
     "output_type": "execute_result"
    }
   ],
   "source": [
    "orders_sum.describe()"
   ]
  },
  {
   "cell_type": "markdown",
   "metadata": {},
   "source": [
    "This time we can see that the mean became around 1349. If we look at the statistics we can notice two things: \n",
    "    1. The minimum total cost is 0. How? The guy just didn't buy anything, but somehow order is generated?\n",
    "    2. The maximum total cost is way bigger than the mean.\n",
    "So, I decided to explore these two phenomenon."
   ]
  },
  {
   "cell_type": "markdown",
   "metadata": {},
   "source": [
    "#### Orders with total cost equal to 0\n",
    "First let's focus on orders with total cost 0. For that we can find all of the orders of this kind. Let's see how many of them"
   ]
  },
  {
   "cell_type": "code",
   "execution_count": 36,
   "metadata": {},
   "outputs": [
    {
     "data": {
      "text/html": [
       "<div>\n",
       "<style scoped>\n",
       "    .dataframe tbody tr th:only-of-type {\n",
       "        vertical-align: middle;\n",
       "    }\n",
       "\n",
       "    .dataframe tbody tr th {\n",
       "        vertical-align: top;\n",
       "    }\n",
       "\n",
       "    .dataframe thead th {\n",
       "        text-align: right;\n",
       "    }\n",
       "</style>\n",
       "<table border=\"1\" class=\"dataframe\">\n",
       "  <thead>\n",
       "    <tr style=\"text-align: right;\">\n",
       "      <th></th>\n",
       "      <th>sum</th>\n",
       "    </tr>\n",
       "    <tr>\n",
       "      <th>id_order</th>\n",
       "      <th></th>\n",
       "    </tr>\n",
       "  </thead>\n",
       "  <tbody>\n",
       "    <tr>\n",
       "      <th>3938925</th>\n",
       "      <td>0.0</td>\n",
       "    </tr>\n",
       "    <tr>\n",
       "      <th>4666710</th>\n",
       "      <td>0.0</td>\n",
       "    </tr>\n",
       "    <tr>\n",
       "      <th>5839509</th>\n",
       "      <td>0.0</td>\n",
       "    </tr>\n",
       "    <tr>\n",
       "      <th>5858774</th>\n",
       "      <td>0.0</td>\n",
       "    </tr>\n",
       "    <tr>\n",
       "      <th>5859138</th>\n",
       "      <td>0.0</td>\n",
       "    </tr>\n",
       "    <tr>\n",
       "      <th>6047958</th>\n",
       "      <td>0.0</td>\n",
       "    </tr>\n",
       "    <tr>\n",
       "      <th>6049447</th>\n",
       "      <td>0.0</td>\n",
       "    </tr>\n",
       "    <tr>\n",
       "      <th>6049846</th>\n",
       "      <td>0.0</td>\n",
       "    </tr>\n",
       "    <tr>\n",
       "      <th>6050177</th>\n",
       "      <td>0.0</td>\n",
       "    </tr>\n",
       "    <tr>\n",
       "      <th>6135448</th>\n",
       "      <td>0.0</td>\n",
       "    </tr>\n",
       "    <tr>\n",
       "      <th>6240034</th>\n",
       "      <td>0.0</td>\n",
       "    </tr>\n",
       "    <tr>\n",
       "      <th>6277825</th>\n",
       "      <td>0.0</td>\n",
       "    </tr>\n",
       "    <tr>\n",
       "      <th>6280102</th>\n",
       "      <td>0.0</td>\n",
       "    </tr>\n",
       "    <tr>\n",
       "      <th>6487278</th>\n",
       "      <td>0.0</td>\n",
       "    </tr>\n",
       "    <tr>\n",
       "      <th>6539109</th>\n",
       "      <td>0.0</td>\n",
       "    </tr>\n",
       "    <tr>\n",
       "      <th>6539725</th>\n",
       "      <td>0.0</td>\n",
       "    </tr>\n",
       "  </tbody>\n",
       "</table>\n",
       "</div>"
      ],
      "text/plain": [
       "          sum\n",
       "id_order     \n",
       "3938925   0.0\n",
       "4666710   0.0\n",
       "5839509   0.0\n",
       "5858774   0.0\n",
       "5859138   0.0\n",
       "6047958   0.0\n",
       "6049447   0.0\n",
       "6049846   0.0\n",
       "6050177   0.0\n",
       "6135448   0.0\n",
       "6240034   0.0\n",
       "6277825   0.0\n",
       "6280102   0.0\n",
       "6487278   0.0\n",
       "6539109   0.0\n",
       "6539725   0.0"
      ]
     },
     "execution_count": 36,
     "metadata": {},
     "output_type": "execute_result"
    }
   ],
   "source": [
    "orders_sum = pd.DataFrame(orders_sum)\n",
    "zero_sum_orders = orders_sum[orders_sum['sum'] == 0]\n",
    "zero_sum_orders"
   ]
  },
  {
   "cell_type": "markdown",
   "metadata": {},
   "source": [
    "So, there are not many orders with total cost 0. This means we can safely assume that this is an anomaly. Something that shouldn't have happened. Let's see what they bought"
   ]
  },
  {
   "cell_type": "code",
   "execution_count": 16,
   "metadata": {},
   "outputs": [
    {
     "data": {
      "text/html": [
       "<div>\n",
       "<style scoped>\n",
       "    .dataframe tbody tr th:only-of-type {\n",
       "        vertical-align: middle;\n",
       "    }\n",
       "\n",
       "    .dataframe tbody tr th {\n",
       "        vertical-align: top;\n",
       "    }\n",
       "\n",
       "    .dataframe thead th {\n",
       "        text-align: right;\n",
       "    }\n",
       "</style>\n",
       "<table border=\"1\" class=\"dataframe\">\n",
       "  <thead>\n",
       "    <tr style=\"text-align: right;\">\n",
       "      <th></th>\n",
       "      <th>date</th>\n",
       "      <th>id_doc</th>\n",
       "      <th>id_order</th>\n",
       "      <th>id_card</th>\n",
       "      <th>id_tov</th>\n",
       "      <th>id_kontr</th>\n",
       "      <th>quantity</th>\n",
       "      <th>sum</th>\n",
       "      <th>is_green</th>\n",
       "      <th>id_card_int</th>\n",
       "      <th>id_doc_int</th>\n",
       "    </tr>\n",
       "  </thead>\n",
       "  <tbody>\n",
       "    <tr>\n",
       "      <th>1043004</th>\n",
       "      <td>2020-09-01 10:45:45</td>\n",
       "      <td>40B0BD5D-27EC-EA11-B444-005056A7539A</td>\n",
       "      <td>3938925</td>\n",
       "      <td>A361864</td>\n",
       "      <td>27128</td>\n",
       "      <td>-9999</td>\n",
       "      <td>1.0</td>\n",
       "      <td>0.0</td>\n",
       "      <td>False</td>\n",
       "      <td>1732482</td>\n",
       "      <td>5915507</td>\n",
       "    </tr>\n",
       "  </tbody>\n",
       "</table>\n",
       "</div>"
      ],
      "text/plain": [
       "                       date                                id_doc  id_order  \\\n",
       "1043004 2020-09-01 10:45:45  40B0BD5D-27EC-EA11-B444-005056A7539A   3938925   \n",
       "\n",
       "         id_card  id_tov  id_kontr  quantity  sum  is_green  id_card_int  \\\n",
       "1043004  A361864   27128     -9999       1.0  0.0     False      1732482   \n",
       "\n",
       "         id_doc_int  \n",
       "1043004     5915507  "
      ]
     },
     "execution_count": 16,
     "metadata": {},
     "output_type": "execute_result"
    }
   ],
   "source": [
    "data[data['id_order'] == 3938925].head()"
   ]
  },
  {
   "cell_type": "code",
   "execution_count": 69,
   "metadata": {},
   "outputs": [
    {
     "data": {
      "text/html": [
       "<div>\n",
       "<style scoped>\n",
       "    .dataframe tbody tr th:only-of-type {\n",
       "        vertical-align: middle;\n",
       "    }\n",
       "\n",
       "    .dataframe tbody tr th {\n",
       "        vertical-align: top;\n",
       "    }\n",
       "\n",
       "    .dataframe thead th {\n",
       "        text-align: right;\n",
       "    }\n",
       "</style>\n",
       "<table border=\"1\" class=\"dataframe\">\n",
       "  <thead>\n",
       "    <tr style=\"text-align: right;\">\n",
       "      <th></th>\n",
       "      <th>date</th>\n",
       "      <th>id_doc</th>\n",
       "      <th>id_order</th>\n",
       "      <th>id_card</th>\n",
       "      <th>id_tov</th>\n",
       "      <th>id_kontr</th>\n",
       "      <th>quantity</th>\n",
       "      <th>sum</th>\n",
       "      <th>is_green</th>\n",
       "      <th>id_card_int</th>\n",
       "      <th>id_doc_int</th>\n",
       "    </tr>\n",
       "  </thead>\n",
       "  <tbody>\n",
       "    <tr>\n",
       "      <th>189551</th>\n",
       "      <td>2020-09-01 07:24:04</td>\n",
       "      <td>3C42E819-0BEC-EA11-B444-005056A7539A</td>\n",
       "      <td>4666710</td>\n",
       "      <td>1679825</td>\n",
       "      <td>27126</td>\n",
       "      <td>-9999</td>\n",
       "      <td>1.0</td>\n",
       "      <td>0.0</td>\n",
       "      <td>False</td>\n",
       "      <td>307668</td>\n",
       "      <td>5510172</td>\n",
       "    </tr>\n",
       "    <tr>\n",
       "      <th>2980649</th>\n",
       "      <td>2020-09-03 08:01:03</td>\n",
       "      <td>26944FC3-A2ED-EA11-B444-005056A7539A</td>\n",
       "      <td>4666710</td>\n",
       "      <td>1679825</td>\n",
       "      <td>27126</td>\n",
       "      <td>-9999</td>\n",
       "      <td>1.0</td>\n",
       "      <td>0.0</td>\n",
       "      <td>False</td>\n",
       "      <td>307668</td>\n",
       "      <td>3528740</td>\n",
       "    </tr>\n",
       "    <tr>\n",
       "      <th>5753171</th>\n",
       "      <td>2020-09-05 08:52:35</td>\n",
       "      <td>D1BC3526-3CEF-EA11-B444-005056A7539A</td>\n",
       "      <td>4666710</td>\n",
       "      <td>1679825</td>\n",
       "      <td>27126</td>\n",
       "      <td>-9999</td>\n",
       "      <td>1.0</td>\n",
       "      <td>0.0</td>\n",
       "      <td>False</td>\n",
       "      <td>307668</td>\n",
       "      <td>19187156</td>\n",
       "    </tr>\n",
       "    <tr>\n",
       "      <th>8244458</th>\n",
       "      <td>2020-09-07 07:28:27</td>\n",
       "      <td>D94543CB-C2F0-EA11-B444-005056A7539A</td>\n",
       "      <td>4666710</td>\n",
       "      <td>1679825</td>\n",
       "      <td>27126</td>\n",
       "      <td>-9999</td>\n",
       "      <td>1.0</td>\n",
       "      <td>0.0</td>\n",
       "      <td>False</td>\n",
       "      <td>307668</td>\n",
       "      <td>19875656</td>\n",
       "    </tr>\n",
       "    <tr>\n",
       "      <th>11073203</th>\n",
       "      <td>2020-09-09 08:09:33</td>\n",
       "      <td>BBFC20F2-5AF2-EA11-B444-005056A7539A</td>\n",
       "      <td>4666710</td>\n",
       "      <td>1679825</td>\n",
       "      <td>27126</td>\n",
       "      <td>-9999</td>\n",
       "      <td>1.0</td>\n",
       "      <td>0.0</td>\n",
       "      <td>False</td>\n",
       "      <td>307668</td>\n",
       "      <td>17196053</td>\n",
       "    </tr>\n",
       "  </tbody>\n",
       "</table>\n",
       "</div>"
      ],
      "text/plain": [
       "                        date                                id_doc  id_order  \\\n",
       "189551   2020-09-01 07:24:04  3C42E819-0BEC-EA11-B444-005056A7539A   4666710   \n",
       "2980649  2020-09-03 08:01:03  26944FC3-A2ED-EA11-B444-005056A7539A   4666710   \n",
       "5753171  2020-09-05 08:52:35  D1BC3526-3CEF-EA11-B444-005056A7539A   4666710   \n",
       "8244458  2020-09-07 07:28:27  D94543CB-C2F0-EA11-B444-005056A7539A   4666710   \n",
       "11073203 2020-09-09 08:09:33  BBFC20F2-5AF2-EA11-B444-005056A7539A   4666710   \n",
       "\n",
       "          id_card  id_tov  id_kontr  quantity  sum  is_green  id_card_int  \\\n",
       "189551    1679825   27126     -9999       1.0  0.0     False       307668   \n",
       "2980649   1679825   27126     -9999       1.0  0.0     False       307668   \n",
       "5753171   1679825   27126     -9999       1.0  0.0     False       307668   \n",
       "8244458   1679825   27126     -9999       1.0  0.0     False       307668   \n",
       "11073203  1679825   27126     -9999       1.0  0.0     False       307668   \n",
       "\n",
       "          id_doc_int  \n",
       "189551       5510172  \n",
       "2980649      3528740  \n",
       "5753171     19187156  \n",
       "8244458     19875656  \n",
       "11073203    17196053  "
      ]
     },
     "execution_count": 69,
     "metadata": {},
     "output_type": "execute_result"
    }
   ],
   "source": [
    "data[data['id_order'] == 4666710] .head()"
   ]
  },
  {
   "cell_type": "markdown",
   "metadata": {},
   "source": [
    "I couldn't even find the above products on the list. So, I decided to mark these customers as frauds"
   ]
  },
  {
   "cell_type": "code",
   "execution_count": 37,
   "metadata": {},
   "outputs": [
    {
     "name": "stdout",
     "output_type": "stream",
     "text": [
      "[3938925, 4666710, 5839509, 5858774, 5859138, 6047958, 6049447, 6049846, 6050177, 6135448, 6240034, 6277825, 6280102, 6487278, 6539109, 6539725]\n"
     ]
    }
   ],
   "source": [
    "fraudulent_order_ids = zero_sum_orders.index.values.tolist()\n",
    "print(fraudulent_order_ids)"
   ]
  },
  {
   "cell_type": "code",
   "execution_count": 47,
   "metadata": {},
   "outputs": [],
   "source": [
    "frauds = []"
   ]
  },
  {
   "cell_type": "code",
   "execution_count": 48,
   "metadata": {},
   "outputs": [
    {
     "name": "stdout",
     "output_type": "stream",
     "text": [
      "[1732482, 307668, 1927451, 684987, 1297595, 1929250, 703172, 1404427, 1404431, 1866912, 1104628, 146102, 1404428, 1011306, 1404428, 1404431]\n"
     ]
    }
   ],
   "source": [
    "for x in fraudulent_order_ids:\n",
    "    frauds.extend(list(set(data[data['id_order'] == x]['id_card_int'].tolist())))\n",
    "print(frauds)"
   ]
  },
  {
   "cell_type": "markdown",
   "metadata": {},
   "source": [
    "### Orders with big total cost\n",
    "Let's now focus on orders with big total cost. The mean of the total costs was around 1349. So, I decided to treat orders with total cost more than 10000 as big orders. Let's find all those orders."
   ]
  },
  {
   "cell_type": "code",
   "execution_count": 51,
   "metadata": {},
   "outputs": [
    {
     "name": "stdout",
     "output_type": "stream",
     "text": [
      "Number of orders with sum over 10000: 283\n"
     ]
    },
    {
     "data": {
      "text/html": [
       "<div>\n",
       "<style scoped>\n",
       "    .dataframe tbody tr th:only-of-type {\n",
       "        vertical-align: middle;\n",
       "    }\n",
       "\n",
       "    .dataframe tbody tr th {\n",
       "        vertical-align: top;\n",
       "    }\n",
       "\n",
       "    .dataframe thead th {\n",
       "        text-align: right;\n",
       "    }\n",
       "</style>\n",
       "<table border=\"1\" class=\"dataframe\">\n",
       "  <thead>\n",
       "    <tr style=\"text-align: right;\">\n",
       "      <th></th>\n",
       "      <th>sum</th>\n",
       "    </tr>\n",
       "    <tr>\n",
       "      <th>id_order</th>\n",
       "      <th></th>\n",
       "    </tr>\n",
       "  </thead>\n",
       "  <tbody>\n",
       "    <tr>\n",
       "      <th>1081817</th>\n",
       "      <td>14369.98</td>\n",
       "    </tr>\n",
       "    <tr>\n",
       "      <th>1552779</th>\n",
       "      <td>10337.00</td>\n",
       "    </tr>\n",
       "    <tr>\n",
       "      <th>2061685</th>\n",
       "      <td>10985.14</td>\n",
       "    </tr>\n",
       "    <tr>\n",
       "      <th>3412255</th>\n",
       "      <td>13346.27</td>\n",
       "    </tr>\n",
       "    <tr>\n",
       "      <th>4213775</th>\n",
       "      <td>10570.22</td>\n",
       "    </tr>\n",
       "  </tbody>\n",
       "</table>\n",
       "</div>"
      ],
      "text/plain": [
       "               sum\n",
       "id_order          \n",
       "1081817   14369.98\n",
       "1552779   10337.00\n",
       "2061685   10985.14\n",
       "3412255   13346.27\n",
       "4213775   10570.22"
      ]
     },
     "execution_count": 51,
     "metadata": {},
     "output_type": "execute_result"
    }
   ],
   "source": [
    "big_sum_orders = orders_sum[orders_sum['sum'] > 10000]\n",
    "print(f'Number of orders with sum over 10000: {big_sum_orders.shape[0]}')\n",
    "big_sum_orders.head()"
   ]
  },
  {
   "cell_type": "code",
   "execution_count": 52,
   "metadata": {},
   "outputs": [
    {
     "data": {
      "text/html": [
       "<div>\n",
       "<style scoped>\n",
       "    .dataframe tbody tr th:only-of-type {\n",
       "        vertical-align: middle;\n",
       "    }\n",
       "\n",
       "    .dataframe tbody tr th {\n",
       "        vertical-align: top;\n",
       "    }\n",
       "\n",
       "    .dataframe thead th {\n",
       "        text-align: right;\n",
       "    }\n",
       "</style>\n",
       "<table border=\"1\" class=\"dataframe\">\n",
       "  <thead>\n",
       "    <tr style=\"text-align: right;\">\n",
       "      <th></th>\n",
       "      <th>sum</th>\n",
       "    </tr>\n",
       "  </thead>\n",
       "  <tbody>\n",
       "    <tr>\n",
       "      <th>count</th>\n",
       "      <td>283.000000</td>\n",
       "    </tr>\n",
       "    <tr>\n",
       "      <th>mean</th>\n",
       "      <td>12403.111731</td>\n",
       "    </tr>\n",
       "    <tr>\n",
       "      <th>std</th>\n",
       "      <td>3245.051325</td>\n",
       "    </tr>\n",
       "    <tr>\n",
       "      <th>min</th>\n",
       "      <td>10000.240000</td>\n",
       "    </tr>\n",
       "    <tr>\n",
       "      <th>25%</th>\n",
       "      <td>10637.740000</td>\n",
       "    </tr>\n",
       "    <tr>\n",
       "      <th>50%</th>\n",
       "      <td>11473.650000</td>\n",
       "    </tr>\n",
       "    <tr>\n",
       "      <th>75%</th>\n",
       "      <td>13105.725000</td>\n",
       "    </tr>\n",
       "    <tr>\n",
       "      <th>max</th>\n",
       "      <td>48005.000000</td>\n",
       "    </tr>\n",
       "  </tbody>\n",
       "</table>\n",
       "</div>"
      ],
      "text/plain": [
       "                sum\n",
       "count    283.000000\n",
       "mean   12403.111731\n",
       "std     3245.051325\n",
       "min    10000.240000\n",
       "25%    10637.740000\n",
       "50%    11473.650000\n",
       "75%    13105.725000\n",
       "max    48005.000000"
      ]
     },
     "execution_count": 52,
     "metadata": {},
     "output_type": "execute_result"
    }
   ],
   "source": [
    "big_sum_orders.describe()"
   ]
  },
  {
   "cell_type": "markdown",
   "metadata": {},
   "source": [
    "So, as expected there are not many big orders. This itself suggests an anomaly, but I decided that it's not enough to mark them as frauds. So, instead decided to check order with total cost more than 15000."
   ]
  },
  {
   "cell_type": "code",
   "execution_count": 57,
   "metadata": {},
   "outputs": [
    {
     "name": "stdout",
     "output_type": "stream",
     "text": [
      "Number of orders with sum over 15000: 34\n"
     ]
    },
    {
     "data": {
      "text/html": [
       "<div>\n",
       "<style scoped>\n",
       "    .dataframe tbody tr th:only-of-type {\n",
       "        vertical-align: middle;\n",
       "    }\n",
       "\n",
       "    .dataframe tbody tr th {\n",
       "        vertical-align: top;\n",
       "    }\n",
       "\n",
       "    .dataframe thead th {\n",
       "        text-align: right;\n",
       "    }\n",
       "</style>\n",
       "<table border=\"1\" class=\"dataframe\">\n",
       "  <thead>\n",
       "    <tr style=\"text-align: right;\">\n",
       "      <th></th>\n",
       "      <th>sum</th>\n",
       "    </tr>\n",
       "    <tr>\n",
       "      <th>id_order</th>\n",
       "      <th></th>\n",
       "    </tr>\n",
       "  </thead>\n",
       "  <tbody>\n",
       "    <tr>\n",
       "      <th>4455150</th>\n",
       "      <td>16577.39</td>\n",
       "    </tr>\n",
       "    <tr>\n",
       "      <th>5363551</th>\n",
       "      <td>15359.03</td>\n",
       "    </tr>\n",
       "    <tr>\n",
       "      <th>5414142</th>\n",
       "      <td>22440.00</td>\n",
       "    </tr>\n",
       "    <tr>\n",
       "      <th>5542850</th>\n",
       "      <td>16100.00</td>\n",
       "    </tr>\n",
       "    <tr>\n",
       "      <th>5571374</th>\n",
       "      <td>16943.43</td>\n",
       "    </tr>\n",
       "    <tr>\n",
       "      <th>5583042</th>\n",
       "      <td>17293.17</td>\n",
       "    </tr>\n",
       "    <tr>\n",
       "      <th>5610480</th>\n",
       "      <td>15194.01</td>\n",
       "    </tr>\n",
       "    <tr>\n",
       "      <th>5656434</th>\n",
       "      <td>21437.04</td>\n",
       "    </tr>\n",
       "    <tr>\n",
       "      <th>5687691</th>\n",
       "      <td>16770.78</td>\n",
       "    </tr>\n",
       "    <tr>\n",
       "      <th>5699038</th>\n",
       "      <td>16100.00</td>\n",
       "    </tr>\n",
       "    <tr>\n",
       "      <th>5702062</th>\n",
       "      <td>19017.36</td>\n",
       "    </tr>\n",
       "    <tr>\n",
       "      <th>5733128</th>\n",
       "      <td>19963.06</td>\n",
       "    </tr>\n",
       "    <tr>\n",
       "      <th>5764344</th>\n",
       "      <td>15284.00</td>\n",
       "    </tr>\n",
       "    <tr>\n",
       "      <th>5838075</th>\n",
       "      <td>15463.88</td>\n",
       "    </tr>\n",
       "    <tr>\n",
       "      <th>5846282</th>\n",
       "      <td>26956.31</td>\n",
       "    </tr>\n",
       "    <tr>\n",
       "      <th>5855978</th>\n",
       "      <td>16757.78</td>\n",
       "    </tr>\n",
       "    <tr>\n",
       "      <th>5916124</th>\n",
       "      <td>17198.80</td>\n",
       "    </tr>\n",
       "    <tr>\n",
       "      <th>5920492</th>\n",
       "      <td>16671.70</td>\n",
       "    </tr>\n",
       "    <tr>\n",
       "      <th>5977221</th>\n",
       "      <td>17995.87</td>\n",
       "    </tr>\n",
       "    <tr>\n",
       "      <th>6044885</th>\n",
       "      <td>16319.86</td>\n",
       "    </tr>\n",
       "    <tr>\n",
       "      <th>6096384</th>\n",
       "      <td>15308.00</td>\n",
       "    </tr>\n",
       "    <tr>\n",
       "      <th>6182356</th>\n",
       "      <td>15456.53</td>\n",
       "    </tr>\n",
       "    <tr>\n",
       "      <th>6208320</th>\n",
       "      <td>18284.91</td>\n",
       "    </tr>\n",
       "    <tr>\n",
       "      <th>6220029</th>\n",
       "      <td>16884.60</td>\n",
       "    </tr>\n",
       "    <tr>\n",
       "      <th>6231494</th>\n",
       "      <td>17411.04</td>\n",
       "    </tr>\n",
       "    <tr>\n",
       "      <th>6249897</th>\n",
       "      <td>15741.65</td>\n",
       "    </tr>\n",
       "    <tr>\n",
       "      <th>6260826</th>\n",
       "      <td>21358.98</td>\n",
       "    </tr>\n",
       "    <tr>\n",
       "      <th>6415926</th>\n",
       "      <td>22825.48</td>\n",
       "    </tr>\n",
       "    <tr>\n",
       "      <th>6460177</th>\n",
       "      <td>15169.50</td>\n",
       "    </tr>\n",
       "    <tr>\n",
       "      <th>6493906</th>\n",
       "      <td>19940.99</td>\n",
       "    </tr>\n",
       "    <tr>\n",
       "      <th>6505951</th>\n",
       "      <td>15534.87</td>\n",
       "    </tr>\n",
       "    <tr>\n",
       "      <th>6518049</th>\n",
       "      <td>48005.00</td>\n",
       "    </tr>\n",
       "    <tr>\n",
       "      <th>6530166</th>\n",
       "      <td>15857.98</td>\n",
       "    </tr>\n",
       "    <tr>\n",
       "      <th>6540365</th>\n",
       "      <td>16189.54</td>\n",
       "    </tr>\n",
       "  </tbody>\n",
       "</table>\n",
       "</div>"
      ],
      "text/plain": [
       "               sum\n",
       "id_order          \n",
       "4455150   16577.39\n",
       "5363551   15359.03\n",
       "5414142   22440.00\n",
       "5542850   16100.00\n",
       "5571374   16943.43\n",
       "5583042   17293.17\n",
       "5610480   15194.01\n",
       "5656434   21437.04\n",
       "5687691   16770.78\n",
       "5699038   16100.00\n",
       "5702062   19017.36\n",
       "5733128   19963.06\n",
       "5764344   15284.00\n",
       "5838075   15463.88\n",
       "5846282   26956.31\n",
       "5855978   16757.78\n",
       "5916124   17198.80\n",
       "5920492   16671.70\n",
       "5977221   17995.87\n",
       "6044885   16319.86\n",
       "6096384   15308.00\n",
       "6182356   15456.53\n",
       "6208320   18284.91\n",
       "6220029   16884.60\n",
       "6231494   17411.04\n",
       "6249897   15741.65\n",
       "6260826   21358.98\n",
       "6415926   22825.48\n",
       "6460177   15169.50\n",
       "6493906   19940.99\n",
       "6505951   15534.87\n",
       "6518049   48005.00\n",
       "6530166   15857.98\n",
       "6540365   16189.54"
      ]
     },
     "execution_count": 57,
     "metadata": {},
     "output_type": "execute_result"
    }
   ],
   "source": [
    "big_sum_orders_15000 = orders_sum[orders_sum['sum'] > 15000]\n",
    "print(f'Number of orders with sum over 15000: {big_sum_orders.shape[0]}')\n",
    "big_sum_orders_15000"
   ]
  },
  {
   "cell_type": "code",
   "execution_count": 56,
   "metadata": {},
   "outputs": [
    {
     "data": {
      "text/html": [
       "<div>\n",
       "<style scoped>\n",
       "    .dataframe tbody tr th:only-of-type {\n",
       "        vertical-align: middle;\n",
       "    }\n",
       "\n",
       "    .dataframe tbody tr th {\n",
       "        vertical-align: top;\n",
       "    }\n",
       "\n",
       "    .dataframe thead th {\n",
       "        text-align: right;\n",
       "    }\n",
       "</style>\n",
       "<table border=\"1\" class=\"dataframe\">\n",
       "  <thead>\n",
       "    <tr style=\"text-align: right;\">\n",
       "      <th></th>\n",
       "      <th>sum</th>\n",
       "    </tr>\n",
       "  </thead>\n",
       "  <tbody>\n",
       "    <tr>\n",
       "      <th>count</th>\n",
       "      <td>34.000000</td>\n",
       "    </tr>\n",
       "    <tr>\n",
       "      <th>mean</th>\n",
       "      <td>18523.898235</td>\n",
       "    </tr>\n",
       "    <tr>\n",
       "      <th>std</th>\n",
       "      <td>5867.675729</td>\n",
       "    </tr>\n",
       "    <tr>\n",
       "      <th>min</th>\n",
       "      <td>15169.500000</td>\n",
       "    </tr>\n",
       "    <tr>\n",
       "      <th>25%</th>\n",
       "      <td>15770.732500</td>\n",
       "    </tr>\n",
       "    <tr>\n",
       "      <th>50%</th>\n",
       "      <td>16764.280000</td>\n",
       "    </tr>\n",
       "    <tr>\n",
       "      <th>75%</th>\n",
       "      <td>18834.247500</td>\n",
       "    </tr>\n",
       "    <tr>\n",
       "      <th>max</th>\n",
       "      <td>48005.000000</td>\n",
       "    </tr>\n",
       "  </tbody>\n",
       "</table>\n",
       "</div>"
      ],
      "text/plain": [
       "                sum\n",
       "count     34.000000\n",
       "mean   18523.898235\n",
       "std     5867.675729\n",
       "min    15169.500000\n",
       "25%    15770.732500\n",
       "50%    16764.280000\n",
       "75%    18834.247500\n",
       "max    48005.000000"
      ]
     },
     "execution_count": 56,
     "metadata": {},
     "output_type": "execute_result"
    }
   ],
   "source": [
    "big_sum_orders_15000.describe()"
   ]
  },
  {
   "cell_type": "markdown",
   "metadata": {},
   "source": [
    "Only 34 orders have more than 15000 total cost. But the mean from statistics about orders with total cost more than 10000 and these statistics suggests that it's difficult to just find outliers. Let's see what these customers have ordered"
   ]
  },
  {
   "cell_type": "code",
   "execution_count": 58,
   "metadata": {},
   "outputs": [
    {
     "data": {
      "text/html": [
       "<div>\n",
       "<style scoped>\n",
       "    .dataframe tbody tr th:only-of-type {\n",
       "        vertical-align: middle;\n",
       "    }\n",
       "\n",
       "    .dataframe tbody tr th {\n",
       "        vertical-align: top;\n",
       "    }\n",
       "\n",
       "    .dataframe thead th {\n",
       "        text-align: right;\n",
       "    }\n",
       "</style>\n",
       "<table border=\"1\" class=\"dataframe\">\n",
       "  <thead>\n",
       "    <tr style=\"text-align: right;\">\n",
       "      <th></th>\n",
       "      <th>date</th>\n",
       "      <th>id_doc</th>\n",
       "      <th>id_order</th>\n",
       "      <th>id_card</th>\n",
       "      <th>id_tov</th>\n",
       "      <th>id_kontr</th>\n",
       "      <th>quantity</th>\n",
       "      <th>sum</th>\n",
       "      <th>is_green</th>\n",
       "      <th>id_card_int</th>\n",
       "      <th>id_doc_int</th>\n",
       "    </tr>\n",
       "  </thead>\n",
       "  <tbody>\n",
       "    <tr>\n",
       "      <th>597217</th>\n",
       "      <td>2020-09-01 13:13:01</td>\n",
       "      <td>D560F504-3DEC-EA11-B444-005056A7539A</td>\n",
       "      <td>5414142</td>\n",
       "      <td>4879050</td>\n",
       "      <td>27128</td>\n",
       "      <td>-9999</td>\n",
       "      <td>1.0</td>\n",
       "      <td>935.0</td>\n",
       "      <td>False</td>\n",
       "      <td>897626</td>\n",
       "      <td>19519892</td>\n",
       "    </tr>\n",
       "    <tr>\n",
       "      <th>597218</th>\n",
       "      <td>2020-09-01 13:13:30</td>\n",
       "      <td>DA60F504-3DEC-EA11-B444-005056A7539A</td>\n",
       "      <td>5414142</td>\n",
       "      <td>4879050</td>\n",
       "      <td>27128</td>\n",
       "      <td>-9999</td>\n",
       "      <td>1.0</td>\n",
       "      <td>935.0</td>\n",
       "      <td>False</td>\n",
       "      <td>897626</td>\n",
       "      <td>19977141</td>\n",
       "    </tr>\n",
       "    <tr>\n",
       "      <th>3391758</th>\n",
       "      <td>2020-09-03 15:54:51</td>\n",
       "      <td>9449F272-E7ED-EA11-B444-005056A7539A</td>\n",
       "      <td>5414142</td>\n",
       "      <td>4879050</td>\n",
       "      <td>27128</td>\n",
       "      <td>-9999</td>\n",
       "      <td>1.0</td>\n",
       "      <td>935.0</td>\n",
       "      <td>False</td>\n",
       "      <td>897626</td>\n",
       "      <td>13566207</td>\n",
       "    </tr>\n",
       "    <tr>\n",
       "      <th>3391759</th>\n",
       "      <td>2020-09-03 15:55:11</td>\n",
       "      <td>A449F272-E7ED-EA11-B444-005056A7539A</td>\n",
       "      <td>5414142</td>\n",
       "      <td>4879050</td>\n",
       "      <td>27128</td>\n",
       "      <td>-9999</td>\n",
       "      <td>1.0</td>\n",
       "      <td>935.0</td>\n",
       "      <td>False</td>\n",
       "      <td>897626</td>\n",
       "      <td>15030184</td>\n",
       "    </tr>\n",
       "    <tr>\n",
       "      <th>7310327</th>\n",
       "      <td>2020-09-06 14:43:35</td>\n",
       "      <td>C2D45FEE-36F0-EA11-B444-005056A7539A</td>\n",
       "      <td>5414142</td>\n",
       "      <td>4879050</td>\n",
       "      <td>27128</td>\n",
       "      <td>-9999</td>\n",
       "      <td>1.0</td>\n",
       "      <td>935.0</td>\n",
       "      <td>False</td>\n",
       "      <td>897626</td>\n",
       "      <td>17821499</td>\n",
       "    </tr>\n",
       "  </tbody>\n",
       "</table>\n",
       "</div>"
      ],
      "text/plain": [
       "                       date                                id_doc  id_order  \\\n",
       "597217  2020-09-01 13:13:01  D560F504-3DEC-EA11-B444-005056A7539A   5414142   \n",
       "597218  2020-09-01 13:13:30  DA60F504-3DEC-EA11-B444-005056A7539A   5414142   \n",
       "3391758 2020-09-03 15:54:51  9449F272-E7ED-EA11-B444-005056A7539A   5414142   \n",
       "3391759 2020-09-03 15:55:11  A449F272-E7ED-EA11-B444-005056A7539A   5414142   \n",
       "7310327 2020-09-06 14:43:35  C2D45FEE-36F0-EA11-B444-005056A7539A   5414142   \n",
       "\n",
       "         id_card  id_tov  id_kontr  quantity    sum  is_green  id_card_int  \\\n",
       "597217   4879050   27128     -9999       1.0  935.0     False       897626   \n",
       "597218   4879050   27128     -9999       1.0  935.0     False       897626   \n",
       "3391758  4879050   27128     -9999       1.0  935.0     False       897626   \n",
       "3391759  4879050   27128     -9999       1.0  935.0     False       897626   \n",
       "7310327  4879050   27128     -9999       1.0  935.0     False       897626   \n",
       "\n",
       "         id_doc_int  \n",
       "597217     19519892  \n",
       "597218     19977141  \n",
       "3391758    13566207  \n",
       "3391759    15030184  \n",
       "7310327    17821499  "
      ]
     },
     "execution_count": 58,
     "metadata": {},
     "output_type": "execute_result"
    }
   ],
   "source": [
    "data[data['id_order'] == 5414142].head()"
   ]
  },
  {
   "cell_type": "code",
   "execution_count": 70,
   "metadata": {},
   "outputs": [
    {
     "data": {
      "text/html": [
       "<div>\n",
       "<style scoped>\n",
       "    .dataframe tbody tr th:only-of-type {\n",
       "        vertical-align: middle;\n",
       "    }\n",
       "\n",
       "    .dataframe tbody tr th {\n",
       "        vertical-align: top;\n",
       "    }\n",
       "\n",
       "    .dataframe thead th {\n",
       "        text-align: right;\n",
       "    }\n",
       "</style>\n",
       "<table border=\"1\" class=\"dataframe\">\n",
       "  <thead>\n",
       "    <tr style=\"text-align: right;\">\n",
       "      <th></th>\n",
       "      <th>date</th>\n",
       "      <th>id_doc</th>\n",
       "      <th>id_order</th>\n",
       "      <th>id_card</th>\n",
       "      <th>id_tov</th>\n",
       "      <th>id_kontr</th>\n",
       "      <th>quantity</th>\n",
       "      <th>sum</th>\n",
       "      <th>is_green</th>\n",
       "      <th>id_card_int</th>\n",
       "      <th>id_doc_int</th>\n",
       "    </tr>\n",
       "  </thead>\n",
       "  <tbody>\n",
       "    <tr>\n",
       "      <th>38058645</th>\n",
       "      <td>2020-09-28 08:36:51</td>\n",
       "      <td>9B6A36BF-4C01-EB11-B444-005056A7539A</td>\n",
       "      <td>6518049</td>\n",
       "      <td>A634010</td>\n",
       "      <td>647</td>\n",
       "      <td>13567</td>\n",
       "      <td>1.0</td>\n",
       "      <td>5.0</td>\n",
       "      <td>False</td>\n",
       "      <td>1755035</td>\n",
       "      <td>14218897</td>\n",
       "    </tr>\n",
       "    <tr>\n",
       "      <th>38060133</th>\n",
       "      <td>2020-09-28 08:36:51</td>\n",
       "      <td>9B6A36BF-4C01-EB11-B444-005056A7539A</td>\n",
       "      <td>6518049</td>\n",
       "      <td>A634010</td>\n",
       "      <td>21379</td>\n",
       "      <td>15189</td>\n",
       "      <td>4.0</td>\n",
       "      <td>9600.0</td>\n",
       "      <td>False</td>\n",
       "      <td>1755035</td>\n",
       "      <td>14218897</td>\n",
       "    </tr>\n",
       "    <tr>\n",
       "      <th>38060134</th>\n",
       "      <td>2020-09-28 08:36:51</td>\n",
       "      <td>9B6A36BF-4C01-EB11-B444-005056A7539A</td>\n",
       "      <td>6518049</td>\n",
       "      <td>A634010</td>\n",
       "      <td>21379</td>\n",
       "      <td>18018</td>\n",
       "      <td>16.0</td>\n",
       "      <td>38400.0</td>\n",
       "      <td>False</td>\n",
       "      <td>1755035</td>\n",
       "      <td>14218897</td>\n",
       "    </tr>\n",
       "  </tbody>\n",
       "</table>\n",
       "</div>"
      ],
      "text/plain": [
       "                        date                                id_doc  id_order  \\\n",
       "38058645 2020-09-28 08:36:51  9B6A36BF-4C01-EB11-B444-005056A7539A   6518049   \n",
       "38060133 2020-09-28 08:36:51  9B6A36BF-4C01-EB11-B444-005056A7539A   6518049   \n",
       "38060134 2020-09-28 08:36:51  9B6A36BF-4C01-EB11-B444-005056A7539A   6518049   \n",
       "\n",
       "          id_card  id_tov  id_kontr  quantity      sum  is_green  id_card_int  \\\n",
       "38058645  A634010     647     13567       1.0      5.0     False      1755035   \n",
       "38060133  A634010   21379     15189       4.0   9600.0     False      1755035   \n",
       "38060134  A634010   21379     18018      16.0  38400.0     False      1755035   \n",
       "\n",
       "          id_doc_int  \n",
       "38058645    14218897  \n",
       "38060133    14218897  \n",
       "38060134    14218897  "
      ]
     },
     "execution_count": 70,
     "metadata": {},
     "output_type": "execute_result"
    }
   ],
   "source": [
    "data[data['id_order'] == 6518049].head()"
   ]
  },
  {
   "cell_type": "markdown",
   "metadata": {},
   "source": [
    "Nothing interesting, except once again there's a problem with product with id 27128. If we recall we saw the same product when we were investigating the order with total cost 0. Let's see the history of this product."
   ]
  },
  {
   "cell_type": "code",
   "execution_count": 71,
   "metadata": {},
   "outputs": [
    {
     "name": "stdout",
     "output_type": "stream",
     "text": [
      "number of orders for tovar with id 27128: 124\n"
     ]
    },
    {
     "data": {
      "text/html": [
       "<div>\n",
       "<style scoped>\n",
       "    .dataframe tbody tr th:only-of-type {\n",
       "        vertical-align: middle;\n",
       "    }\n",
       "\n",
       "    .dataframe tbody tr th {\n",
       "        vertical-align: top;\n",
       "    }\n",
       "\n",
       "    .dataframe thead th {\n",
       "        text-align: right;\n",
       "    }\n",
       "</style>\n",
       "<table border=\"1\" class=\"dataframe\">\n",
       "  <thead>\n",
       "    <tr style=\"text-align: right;\">\n",
       "      <th></th>\n",
       "      <th>date</th>\n",
       "      <th>id_doc</th>\n",
       "      <th>id_order</th>\n",
       "      <th>id_card</th>\n",
       "      <th>id_tov</th>\n",
       "      <th>id_kontr</th>\n",
       "      <th>quantity</th>\n",
       "      <th>sum</th>\n",
       "      <th>is_green</th>\n",
       "      <th>id_card_int</th>\n",
       "      <th>id_doc_int</th>\n",
       "    </tr>\n",
       "  </thead>\n",
       "  <tbody>\n",
       "    <tr>\n",
       "      <th>415974</th>\n",
       "      <td>2020-09-01 15:40:57</td>\n",
       "      <td>22807D94-51EC-EA11-B444-005056A7539A</td>\n",
       "      <td>5458715</td>\n",
       "      <td>4367576</td>\n",
       "      <td>27128</td>\n",
       "      <td>-9999</td>\n",
       "      <td>1.0</td>\n",
       "      <td>1200.0</td>\n",
       "      <td>False</td>\n",
       "      <td>790313</td>\n",
       "      <td>3156064</td>\n",
       "    </tr>\n",
       "    <tr>\n",
       "      <th>415975</th>\n",
       "      <td>2020-09-01 15:39:35</td>\n",
       "      <td>F5CAF1FE-50EC-EA11-B444-005056A7539A</td>\n",
       "      <td>5458715</td>\n",
       "      <td>4367576</td>\n",
       "      <td>27128</td>\n",
       "      <td>-9999</td>\n",
       "      <td>1.0</td>\n",
       "      <td>1200.0</td>\n",
       "      <td>False</td>\n",
       "      <td>790313</td>\n",
       "      <td>22485197</td>\n",
       "    </tr>\n",
       "    <tr>\n",
       "      <th>463223</th>\n",
       "      <td>2020-09-01 19:34:40</td>\n",
       "      <td>FECAC23A-71EC-EA11-B444-005056A7539A</td>\n",
       "      <td>4870963</td>\n",
       "      <td>6953797</td>\n",
       "      <td>27128</td>\n",
       "      <td>-9999</td>\n",
       "      <td>1.0</td>\n",
       "      <td>1000.0</td>\n",
       "      <td>False</td>\n",
       "      <td>1291614</td>\n",
       "      <td>23307423</td>\n",
       "    </tr>\n",
       "    <tr>\n",
       "      <th>597217</th>\n",
       "      <td>2020-09-01 13:13:01</td>\n",
       "      <td>D560F504-3DEC-EA11-B444-005056A7539A</td>\n",
       "      <td>5414142</td>\n",
       "      <td>4879050</td>\n",
       "      <td>27128</td>\n",
       "      <td>-9999</td>\n",
       "      <td>1.0</td>\n",
       "      <td>935.0</td>\n",
       "      <td>False</td>\n",
       "      <td>897626</td>\n",
       "      <td>19519892</td>\n",
       "    </tr>\n",
       "    <tr>\n",
       "      <th>597218</th>\n",
       "      <td>2020-09-01 13:13:30</td>\n",
       "      <td>DA60F504-3DEC-EA11-B444-005056A7539A</td>\n",
       "      <td>5414142</td>\n",
       "      <td>4879050</td>\n",
       "      <td>27128</td>\n",
       "      <td>-9999</td>\n",
       "      <td>1.0</td>\n",
       "      <td>935.0</td>\n",
       "      <td>False</td>\n",
       "      <td>897626</td>\n",
       "      <td>19977141</td>\n",
       "    </tr>\n",
       "    <tr>\n",
       "      <th>...</th>\n",
       "      <td>...</td>\n",
       "      <td>...</td>\n",
       "      <td>...</td>\n",
       "      <td>...</td>\n",
       "      <td>...</td>\n",
       "      <td>...</td>\n",
       "      <td>...</td>\n",
       "      <td>...</td>\n",
       "      <td>...</td>\n",
       "      <td>...</td>\n",
       "      <td>...</td>\n",
       "    </tr>\n",
       "    <tr>\n",
       "      <th>38770472</th>\n",
       "      <td>2020-09-28 11:01:01</td>\n",
       "      <td>BFCC7EE9-6001-EB11-B444-005056A7539A</td>\n",
       "      <td>6357143</td>\n",
       "      <td>A806273</td>\n",
       "      <td>27128</td>\n",
       "      <td>-9999</td>\n",
       "      <td>1.0</td>\n",
       "      <td>1150.0</td>\n",
       "      <td>False</td>\n",
       "      <td>1771721</td>\n",
       "      <td>17544947</td>\n",
       "    </tr>\n",
       "    <tr>\n",
       "      <th>39679704</th>\n",
       "      <td>2020-09-29 18:28:23</td>\n",
       "      <td>B3F58E6A-6902-EB11-B444-005056A7539A</td>\n",
       "      <td>5414142</td>\n",
       "      <td>4879050</td>\n",
       "      <td>27128</td>\n",
       "      <td>-9999</td>\n",
       "      <td>1.0</td>\n",
       "      <td>935.0</td>\n",
       "      <td>False</td>\n",
       "      <td>897626</td>\n",
       "      <td>16461919</td>\n",
       "    </tr>\n",
       "    <tr>\n",
       "      <th>39679705</th>\n",
       "      <td>2020-09-29 18:28:45</td>\n",
       "      <td>B5F58E6A-6902-EB11-B444-005056A7539A</td>\n",
       "      <td>5414142</td>\n",
       "      <td>4879050</td>\n",
       "      <td>27128</td>\n",
       "      <td>-9999</td>\n",
       "      <td>1.0</td>\n",
       "      <td>935.0</td>\n",
       "      <td>False</td>\n",
       "      <td>897626</td>\n",
       "      <td>16644788</td>\n",
       "    </tr>\n",
       "    <tr>\n",
       "      <th>41072662</th>\n",
       "      <td>2020-09-30 21:30:30</td>\n",
       "      <td>7F1B92B7-4B03-EB11-B444-005056A7539A</td>\n",
       "      <td>5950641</td>\n",
       "      <td>6953797</td>\n",
       "      <td>27128</td>\n",
       "      <td>-9999</td>\n",
       "      <td>1.0</td>\n",
       "      <td>1100.0</td>\n",
       "      <td>False</td>\n",
       "      <td>1291614</td>\n",
       "      <td>11630323</td>\n",
       "    </tr>\n",
       "    <tr>\n",
       "      <th>41844817</th>\n",
       "      <td>2020-09-30 11:13:51</td>\n",
       "      <td>158F7A2D-F502-EB11-B444-005056A7539A</td>\n",
       "      <td>6357143</td>\n",
       "      <td>A806273</td>\n",
       "      <td>27128</td>\n",
       "      <td>-9999</td>\n",
       "      <td>1.0</td>\n",
       "      <td>1150.0</td>\n",
       "      <td>False</td>\n",
       "      <td>1771721</td>\n",
       "      <td>1971933</td>\n",
       "    </tr>\n",
       "  </tbody>\n",
       "</table>\n",
       "<p>124 rows × 11 columns</p>\n",
       "</div>"
      ],
      "text/plain": [
       "                        date                                id_doc  id_order  \\\n",
       "415974   2020-09-01 15:40:57  22807D94-51EC-EA11-B444-005056A7539A   5458715   \n",
       "415975   2020-09-01 15:39:35  F5CAF1FE-50EC-EA11-B444-005056A7539A   5458715   \n",
       "463223   2020-09-01 19:34:40  FECAC23A-71EC-EA11-B444-005056A7539A   4870963   \n",
       "597217   2020-09-01 13:13:01  D560F504-3DEC-EA11-B444-005056A7539A   5414142   \n",
       "597218   2020-09-01 13:13:30  DA60F504-3DEC-EA11-B444-005056A7539A   5414142   \n",
       "...                      ...                                   ...       ...   \n",
       "38770472 2020-09-28 11:01:01  BFCC7EE9-6001-EB11-B444-005056A7539A   6357143   \n",
       "39679704 2020-09-29 18:28:23  B3F58E6A-6902-EB11-B444-005056A7539A   5414142   \n",
       "39679705 2020-09-29 18:28:45  B5F58E6A-6902-EB11-B444-005056A7539A   5414142   \n",
       "41072662 2020-09-30 21:30:30  7F1B92B7-4B03-EB11-B444-005056A7539A   5950641   \n",
       "41844817 2020-09-30 11:13:51  158F7A2D-F502-EB11-B444-005056A7539A   6357143   \n",
       "\n",
       "          id_card  id_tov  id_kontr  quantity     sum  is_green  id_card_int  \\\n",
       "415974    4367576   27128     -9999       1.0  1200.0     False       790313   \n",
       "415975    4367576   27128     -9999       1.0  1200.0     False       790313   \n",
       "463223    6953797   27128     -9999       1.0  1000.0     False      1291614   \n",
       "597217    4879050   27128     -9999       1.0   935.0     False       897626   \n",
       "597218    4879050   27128     -9999       1.0   935.0     False       897626   \n",
       "...           ...     ...       ...       ...     ...       ...          ...   \n",
       "38770472  A806273   27128     -9999       1.0  1150.0     False      1771721   \n",
       "39679704  4879050   27128     -9999       1.0   935.0     False       897626   \n",
       "39679705  4879050   27128     -9999       1.0   935.0     False       897626   \n",
       "41072662  6953797   27128     -9999       1.0  1100.0     False      1291614   \n",
       "41844817  A806273   27128     -9999       1.0  1150.0     False      1771721   \n",
       "\n",
       "          id_doc_int  \n",
       "415974       3156064  \n",
       "415975      22485197  \n",
       "463223      23307423  \n",
       "597217      19519892  \n",
       "597218      19977141  \n",
       "...              ...  \n",
       "38770472    17544947  \n",
       "39679704    16461919  \n",
       "39679705    16644788  \n",
       "41072662    11630323  \n",
       "41844817     1971933  \n",
       "\n",
       "[124 rows x 11 columns]"
      ]
     },
     "execution_count": 71,
     "metadata": {},
     "output_type": "execute_result"
    }
   ],
   "source": [
    "faulty_tovar = data[data['id_tov'] == 27128]\n",
    "print(f'number of orders for tovar with id 27128: {faulty_tovar.shape[0]}')\n",
    "faulty_tovar"
   ]
  },
  {
   "cell_type": "markdown",
   "metadata": {},
   "source": [
    "So it looks like an expensive product. But somehow before it generated 0 total cost. Let's see what happend if we just remove this product altogether from the dataset"
   ]
  },
  {
   "cell_type": "code",
   "execution_count": 61,
   "metadata": {},
   "outputs": [],
   "source": [
    "orders_without_faulty_tovar = data[data['id_tov'] != 27128]"
   ]
  },
  {
   "cell_type": "code",
   "execution_count": 62,
   "metadata": {},
   "outputs": [],
   "source": [
    "orders_without_faulty_tovar.shape[0]\n",
    "new_order_sum = orders_without_faulty_tovar.groupby(['id_order'])['sum'].sum()"
   ]
  },
  {
   "cell_type": "code",
   "execution_count": 63,
   "metadata": {},
   "outputs": [
    {
     "data": {
      "text/plain": [
       "id_order\n",
       "98066      359.40\n",
       "98071      670.00\n",
       "171075    1042.46\n",
       "191931     348.00\n",
       "197959    2847.70\n",
       "Name: sum, dtype: float64"
      ]
     },
     "execution_count": 63,
     "metadata": {},
     "output_type": "execute_result"
    }
   ],
   "source": [
    "new_order_sum.shape[0]\n",
    "new_order_sum.head()"
   ]
  },
  {
   "cell_type": "code",
   "execution_count": 64,
   "metadata": {},
   "outputs": [
    {
     "data": {
      "text/plain": [
       "count    503482.000000\n",
       "mean       1349.283812\n",
       "std        1127.269415\n",
       "min           0.000000\n",
       "25%         591.382500\n",
       "50%        1040.880000\n",
       "75%        1753.510000\n",
       "max       48005.000000\n",
       "Name: sum, dtype: float64"
      ]
     },
     "execution_count": 64,
     "metadata": {},
     "output_type": "execute_result"
    }
   ],
   "source": [
    "new_order_sum.describe()"
   ]
  },
  {
   "cell_type": "code",
   "execution_count": 68,
   "metadata": {},
   "outputs": [
    {
     "data": {
      "text/plain": [
       "12719"
      ]
     },
     "execution_count": 68,
     "metadata": {},
     "output_type": "execute_result"
    }
   ],
   "source": [
    "orders_without_faulty_tovar[orders_without_faulty_tovar['sum'] == 0].shape[0]"
   ]
  },
  {
   "cell_type": "markdown",
   "metadata": {},
   "source": [
    "Yeah, nothing changed in particular. So, it was a bad idea."
   ]
  },
  {
   "cell_type": "markdown",
   "metadata": {},
   "source": [
    "## Quantity analysis\n",
    "The next idea is to try to find anomalies in terms of quantities of the products ordered. Maybe some products are ordered way too much than normally ordered."
   ]
  },
  {
   "cell_type": "code",
   "execution_count": 72,
   "metadata": {},
   "outputs": [],
   "source": [
    "qdata = data.groupby(['id_order'])['quantity'].sum()"
   ]
  },
  {
   "cell_type": "code",
   "execution_count": 73,
   "metadata": {},
   "outputs": [
    {
     "name": "stdout",
     "output_type": "stream",
     "text": [
      "Number of orders: 503504\n"
     ]
    },
    {
     "data": {
      "text/plain": [
       "id_order\n",
       "98066       3.425\n",
       "98071       8.000\n",
       "171075      9.234\n",
       "191931      6.000\n",
       "197959     28.939\n",
       "            ...  \n",
       "6672789     5.000\n",
       "6672802     6.000\n",
       "6672828     5.000\n",
       "6672847    12.000\n",
       "6673056    11.000\n",
       "Name: quantity, Length: 503504, dtype: float64"
      ]
     },
     "execution_count": 73,
     "metadata": {},
     "output_type": "execute_result"
    }
   ],
   "source": [
    "print(f'Number of orders: {qdata.shape[0]}')\n",
    "qdata"
   ]
  },
  {
   "cell_type": "code",
   "execution_count": 74,
   "metadata": {},
   "outputs": [
    {
     "data": {
      "text/plain": [
       "count    503504.000000\n",
       "mean         13.804329\n",
       "std          10.669261\n",
       "min           0.100000\n",
       "25%           6.562000\n",
       "50%          11.000000\n",
       "75%          17.997000\n",
       "max         260.872000\n",
       "Name: quantity, dtype: float64"
      ]
     },
     "execution_count": 74,
     "metadata": {},
     "output_type": "execute_result"
    }
   ],
   "source": [
    "qdata.describe()"
   ]
  },
  {
   "cell_type": "markdown",
   "metadata": {},
   "source": [
    "So, the mean is 13, but the max is more than 260. Let's see what is going on"
   ]
  },
  {
   "cell_type": "code",
   "execution_count": 79,
   "metadata": {},
   "outputs": [
    {
     "data": {
      "text/html": [
       "<div>\n",
       "<style scoped>\n",
       "    .dataframe tbody tr th:only-of-type {\n",
       "        vertical-align: middle;\n",
       "    }\n",
       "\n",
       "    .dataframe tbody tr th {\n",
       "        vertical-align: top;\n",
       "    }\n",
       "\n",
       "    .dataframe thead th {\n",
       "        text-align: right;\n",
       "    }\n",
       "</style>\n",
       "<table border=\"1\" class=\"dataframe\">\n",
       "  <thead>\n",
       "    <tr style=\"text-align: right;\">\n",
       "      <th></th>\n",
       "      <th>date</th>\n",
       "      <th>id_doc</th>\n",
       "      <th>id_order</th>\n",
       "      <th>id_card</th>\n",
       "      <th>id_tov</th>\n",
       "      <th>id_kontr</th>\n",
       "      <th>quantity</th>\n",
       "      <th>sum</th>\n",
       "      <th>is_green</th>\n",
       "      <th>id_card_int</th>\n",
       "      <th>id_doc_int</th>\n",
       "    </tr>\n",
       "  </thead>\n",
       "  <tbody>\n",
       "    <tr>\n",
       "      <th>21440462</th>\n",
       "      <td>2020-09-16 10:20:02</td>\n",
       "      <td>6E91C47F-EDF7-EA11-B444-005056A7539A</td>\n",
       "      <td>6054725</td>\n",
       "      <td>1182272</td>\n",
       "      <td>647</td>\n",
       "      <td>13567</td>\n",
       "      <td>55.0</td>\n",
       "      <td>275.0</td>\n",
       "      <td>False</td>\n",
       "      <td>219195</td>\n",
       "      <td>10115145</td>\n",
       "    </tr>\n",
       "    <tr>\n",
       "      <th>33114325</th>\n",
       "      <td>2020-09-24 20:26:59</td>\n",
       "      <td>F1BC3D7B-8BFE-EA11-B444-005056A7539A</td>\n",
       "      <td>6424640</td>\n",
       "      <td>5665874</td>\n",
       "      <td>647</td>\n",
       "      <td>-9999</td>\n",
       "      <td>55.0</td>\n",
       "      <td>275.0</td>\n",
       "      <td>False</td>\n",
       "      <td>1054598</td>\n",
       "      <td>22113347</td>\n",
       "    </tr>\n",
       "    <tr>\n",
       "      <th>34809950</th>\n",
       "      <td>2020-09-25 17:47:50</td>\n",
       "      <td>ECF2EB1B-3FFF-EA11-B444-005056A7539A</td>\n",
       "      <td>6454232</td>\n",
       "      <td>3242846</td>\n",
       "      <td>15914</td>\n",
       "      <td>15677</td>\n",
       "      <td>55.0</td>\n",
       "      <td>495.0</td>\n",
       "      <td>False</td>\n",
       "      <td>566194</td>\n",
       "      <td>21674862</td>\n",
       "    </tr>\n",
       "  </tbody>\n",
       "</table>\n",
       "</div>"
      ],
      "text/plain": [
       "                        date                                id_doc  id_order  \\\n",
       "21440462 2020-09-16 10:20:02  6E91C47F-EDF7-EA11-B444-005056A7539A   6054725   \n",
       "33114325 2020-09-24 20:26:59  F1BC3D7B-8BFE-EA11-B444-005056A7539A   6424640   \n",
       "34809950 2020-09-25 17:47:50  ECF2EB1B-3FFF-EA11-B444-005056A7539A   6454232   \n",
       "\n",
       "          id_card  id_tov  id_kontr  quantity    sum  is_green  id_card_int  \\\n",
       "21440462  1182272     647     13567      55.0  275.0     False       219195   \n",
       "33114325  5665874     647     -9999      55.0  275.0     False      1054598   \n",
       "34809950  3242846   15914     15677      55.0  495.0     False       566194   \n",
       "\n",
       "          id_doc_int  \n",
       "21440462    10115145  \n",
       "33114325    22113347  \n",
       "34809950    21674862  "
      ]
     },
     "execution_count": 79,
     "metadata": {},
     "output_type": "execute_result"
    }
   ],
   "source": [
    "data[data['quantity'] > 50]"
   ]
  },
  {
   "cell_type": "markdown",
   "metadata": {},
   "source": [
    "So if we pull up the product ordered in more than 50 quantities we see some products but the total cost is not much. Also, judging by the max value of the quantities, the column does not represent 'quantity'. It may also represent the weight (weight of vegetables for example). So, this means it's really difficult to judge the order based on the quantitiy. But let's see what are some orders with very small quantity"
   ]
  },
  {
   "cell_type": "code",
   "execution_count": 82,
   "metadata": {},
   "outputs": [
    {
     "data": {
      "text/html": [
       "<div>\n",
       "<style scoped>\n",
       "    .dataframe tbody tr th:only-of-type {\n",
       "        vertical-align: middle;\n",
       "    }\n",
       "\n",
       "    .dataframe tbody tr th {\n",
       "        vertical-align: top;\n",
       "    }\n",
       "\n",
       "    .dataframe thead th {\n",
       "        text-align: right;\n",
       "    }\n",
       "</style>\n",
       "<table border=\"1\" class=\"dataframe\">\n",
       "  <thead>\n",
       "    <tr style=\"text-align: right;\">\n",
       "      <th></th>\n",
       "      <th>date</th>\n",
       "      <th>id_doc</th>\n",
       "      <th>id_order</th>\n",
       "      <th>id_card</th>\n",
       "      <th>id_tov</th>\n",
       "      <th>id_kontr</th>\n",
       "      <th>quantity</th>\n",
       "      <th>sum</th>\n",
       "      <th>is_green</th>\n",
       "      <th>id_card_int</th>\n",
       "      <th>id_doc_int</th>\n",
       "    </tr>\n",
       "  </thead>\n",
       "  <tbody>\n",
       "    <tr>\n",
       "      <th>44965</th>\n",
       "      <td>2020-09-01 18:17:46</td>\n",
       "      <td>219E6982-66EC-EA11-B444-005056A7539A</td>\n",
       "      <td>5585636</td>\n",
       "      <td>a871075</td>\n",
       "      <td>17456</td>\n",
       "      <td>16860</td>\n",
       "      <td>0.096</td>\n",
       "      <td>22.56</td>\n",
       "      <td>False</td>\n",
       "      <td>1919552</td>\n",
       "      <td>3075089</td>\n",
       "    </tr>\n",
       "    <tr>\n",
       "      <th>76223</th>\n",
       "      <td>2020-09-01 19:48:39</td>\n",
       "      <td>FB34A539-74EC-EA11-B444-005056A7539A</td>\n",
       "      <td>5588920</td>\n",
       "      <td>0586045</td>\n",
       "      <td>15738</td>\n",
       "      <td>19687</td>\n",
       "      <td>0.000</td>\n",
       "      <td>0.79</td>\n",
       "      <td>False</td>\n",
       "      <td>116224</td>\n",
       "      <td>22979294</td>\n",
       "    </tr>\n",
       "    <tr>\n",
       "      <th>78161</th>\n",
       "      <td>2020-09-01 19:48:39</td>\n",
       "      <td>FB34A539-74EC-EA11-B444-005056A7539A</td>\n",
       "      <td>5588920</td>\n",
       "      <td>0586045</td>\n",
       "      <td>28662</td>\n",
       "      <td>19687</td>\n",
       "      <td>0.010</td>\n",
       "      <td>2.22</td>\n",
       "      <td>False</td>\n",
       "      <td>116224</td>\n",
       "      <td>22979294</td>\n",
       "    </tr>\n",
       "    <tr>\n",
       "      <th>82593</th>\n",
       "      <td>2020-09-01 14:00:27</td>\n",
       "      <td>C38B741E-43EC-EA11-B444-005056A7539A</td>\n",
       "      <td>5574719</td>\n",
       "      <td>0371676</td>\n",
       "      <td>17456</td>\n",
       "      <td>16860</td>\n",
       "      <td>0.074</td>\n",
       "      <td>17.39</td>\n",
       "      <td>False</td>\n",
       "      <td>75066</td>\n",
       "      <td>17886732</td>\n",
       "    </tr>\n",
       "    <tr>\n",
       "      <th>192104</th>\n",
       "      <td>2020-09-01 11:42:54</td>\n",
       "      <td>BC7CA823-2E24-4A1A-991A-A3A759EECCD0</td>\n",
       "      <td>5483467</td>\n",
       "      <td>7196141</td>\n",
       "      <td>17456</td>\n",
       "      <td>16860</td>\n",
       "      <td>0.090</td>\n",
       "      <td>21.15</td>\n",
       "      <td>False</td>\n",
       "      <td>1334055</td>\n",
       "      <td>17241883</td>\n",
       "    </tr>\n",
       "    <tr>\n",
       "      <th>...</th>\n",
       "      <td>...</td>\n",
       "      <td>...</td>\n",
       "      <td>...</td>\n",
       "      <td>...</td>\n",
       "      <td>...</td>\n",
       "      <td>...</td>\n",
       "      <td>...</td>\n",
       "      <td>...</td>\n",
       "      <td>...</td>\n",
       "      <td>...</td>\n",
       "      <td>...</td>\n",
       "    </tr>\n",
       "    <tr>\n",
       "      <th>42010175</th>\n",
       "      <td>2020-09-30 18:05:07</td>\n",
       "      <td>A6ECE5A9-2E03-EB11-B444-005056A7539A</td>\n",
       "      <td>6660009</td>\n",
       "      <td>1813497</td>\n",
       "      <td>31296</td>\n",
       "      <td>18463</td>\n",
       "      <td>0.096</td>\n",
       "      <td>50.40</td>\n",
       "      <td>False</td>\n",
       "      <td>329561</td>\n",
       "      <td>15270701</td>\n",
       "    </tr>\n",
       "    <tr>\n",
       "      <th>42019225</th>\n",
       "      <td>2020-09-30 11:48:20</td>\n",
       "      <td>9ED2AB04-FA02-EB11-B444-005056A7539A</td>\n",
       "      <td>6642101</td>\n",
       "      <td>4218114</td>\n",
       "      <td>605</td>\n",
       "      <td>19230</td>\n",
       "      <td>0.092</td>\n",
       "      <td>2.67</td>\n",
       "      <td>False</td>\n",
       "      <td>758061</td>\n",
       "      <td>14530437</td>\n",
       "    </tr>\n",
       "    <tr>\n",
       "      <th>42027047</th>\n",
       "      <td>2020-09-30 20:38:50</td>\n",
       "      <td>4E195EE6-4403-EB11-B444-005056A7539A</td>\n",
       "      <td>6670940</td>\n",
       "      <td>4796446</td>\n",
       "      <td>17456</td>\n",
       "      <td>16860</td>\n",
       "      <td>0.090</td>\n",
       "      <td>21.15</td>\n",
       "      <td>False</td>\n",
       "      <td>880997</td>\n",
       "      <td>7142650</td>\n",
       "    </tr>\n",
       "    <tr>\n",
       "      <th>42039467</th>\n",
       "      <td>2020-09-30 14:04:41</td>\n",
       "      <td>56DBBEE6-0C03-EB11-B444-005056A7539A</td>\n",
       "      <td>6648930</td>\n",
       "      <td>9010719</td>\n",
       "      <td>17456</td>\n",
       "      <td>16860</td>\n",
       "      <td>0.090</td>\n",
       "      <td>20.68</td>\n",
       "      <td>False</td>\n",
       "      <td>1588788</td>\n",
       "      <td>7943806</td>\n",
       "    </tr>\n",
       "    <tr>\n",
       "      <th>42077670</th>\n",
       "      <td>2020-09-30 10:08:53</td>\n",
       "      <td>3FB38D13-EC02-EB11-B444-005056A7539A</td>\n",
       "      <td>6637144</td>\n",
       "      <td>4427364</td>\n",
       "      <td>24616</td>\n",
       "      <td>14394</td>\n",
       "      <td>0.084</td>\n",
       "      <td>115.08</td>\n",
       "      <td>False</td>\n",
       "      <td>802791</td>\n",
       "      <td>5824990</td>\n",
       "    </tr>\n",
       "  </tbody>\n",
       "</table>\n",
       "<p>1992 rows × 11 columns</p>\n",
       "</div>"
      ],
      "text/plain": [
       "                        date                                id_doc  id_order  \\\n",
       "44965    2020-09-01 18:17:46  219E6982-66EC-EA11-B444-005056A7539A   5585636   \n",
       "76223    2020-09-01 19:48:39  FB34A539-74EC-EA11-B444-005056A7539A   5588920   \n",
       "78161    2020-09-01 19:48:39  FB34A539-74EC-EA11-B444-005056A7539A   5588920   \n",
       "82593    2020-09-01 14:00:27  C38B741E-43EC-EA11-B444-005056A7539A   5574719   \n",
       "192104   2020-09-01 11:42:54  BC7CA823-2E24-4A1A-991A-A3A759EECCD0   5483467   \n",
       "...                      ...                                   ...       ...   \n",
       "42010175 2020-09-30 18:05:07  A6ECE5A9-2E03-EB11-B444-005056A7539A   6660009   \n",
       "42019225 2020-09-30 11:48:20  9ED2AB04-FA02-EB11-B444-005056A7539A   6642101   \n",
       "42027047 2020-09-30 20:38:50  4E195EE6-4403-EB11-B444-005056A7539A   6670940   \n",
       "42039467 2020-09-30 14:04:41  56DBBEE6-0C03-EB11-B444-005056A7539A   6648930   \n",
       "42077670 2020-09-30 10:08:53  3FB38D13-EC02-EB11-B444-005056A7539A   6637144   \n",
       "\n",
       "          id_card  id_tov  id_kontr  quantity     sum  is_green  id_card_int  \\\n",
       "44965     a871075   17456     16860     0.096   22.56     False      1919552   \n",
       "76223     0586045   15738     19687     0.000    0.79     False       116224   \n",
       "78161     0586045   28662     19687     0.010    2.22     False       116224   \n",
       "82593     0371676   17456     16860     0.074   17.39     False        75066   \n",
       "192104    7196141   17456     16860     0.090   21.15     False      1334055   \n",
       "...           ...     ...       ...       ...     ...       ...          ...   \n",
       "42010175  1813497   31296     18463     0.096   50.40     False       329561   \n",
       "42019225  4218114     605     19230     0.092    2.67     False       758061   \n",
       "42027047  4796446   17456     16860     0.090   21.15     False       880997   \n",
       "42039467  9010719   17456     16860     0.090   20.68     False      1588788   \n",
       "42077670  4427364   24616     14394     0.084  115.08     False       802791   \n",
       "\n",
       "          id_doc_int  \n",
       "44965        3075089  \n",
       "76223       22979294  \n",
       "78161       22979294  \n",
       "82593       17886732  \n",
       "192104      17241883  \n",
       "...              ...  \n",
       "42010175    15270701  \n",
       "42019225    14530437  \n",
       "42027047     7142650  \n",
       "42039467     7943806  \n",
       "42077670     5824990  \n",
       "\n",
       "[1992 rows x 11 columns]"
      ]
     },
     "execution_count": 82,
     "metadata": {},
     "output_type": "execute_result"
    }
   ],
   "source": [
    "data[data['quantity'] < 0.1]"
   ]
  },
  {
   "cell_type": "markdown",
   "metadata": {},
   "source": [
    "If we look at the quantities, they are not integers. So, that means these are just weights. So, it's find to buy something that weighs less than 100 gramms. Nothing here too"
   ]
  },
  {
   "cell_type": "markdown",
   "metadata": {},
   "source": [
    "# Final list of potential frauds"
   ]
  },
  {
   "cell_type": "code",
   "execution_count": 83,
   "metadata": {},
   "outputs": [
    {
     "name": "stdout",
     "output_type": "stream",
     "text": [
      "Found potential frauds:\n",
      "[1732482, 307668, 1927451, 684987, 1297595, 1929250, 703172, 1404427, 1404431, 1866912, 1104628, 146102, 1404428, 1011306, 1404428, 1404431]\n"
     ]
    }
   ],
   "source": [
    "print('Found potential frauds:')\n",
    "print(frauds)"
   ]
  },
  {
   "cell_type": "code",
   "execution_count": null,
   "metadata": {},
   "outputs": [],
   "source": []
  }
 ],
 "metadata": {
  "kernelspec": {
   "display_name": "Python 3",
   "language": "python",
   "name": "python3"
  },
  "language_info": {
   "codemirror_mode": {
    "name": "ipython",
    "version": 3
   },
   "file_extension": ".py",
   "mimetype": "text/x-python",
   "name": "python",
   "nbconvert_exporter": "python",
   "pygments_lexer": "ipython3",
   "version": "3.7.3"
  }
 },
 "nbformat": 4,
 "nbformat_minor": 1
}
