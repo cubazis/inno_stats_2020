{
 "cells": [
  {
   "cell_type": "markdown",
   "metadata": {},
   "source": [
    "## Task\n",
    "\n",
    "Detect transactions outliers\n",
    "\n",
    "- You have got a dataset\n",
    "- You have got a demonstration of preliminary data clenaning (lab2.1.ipynb, lab2.2.ipynb)\n",
    "- You have got a pickled card_lbe and doc_lbe (pipeline in lab2.lbe.ipynb) to make the same mapping of id_card and id_doc\n",
    "\n",
    "Use Characteristics of quantitative data and techniques for detection of inadequate transactions and collect id_card (mapped by using card_lbe) you think not real customers.\n",
    "\n",
    "Create a pull request by using a format hw1.1;lastname;firstname"
   ]
  },
  {
   "cell_type": "markdown",
   "metadata": {},
   "source": [
    "## About dataset\n",
    "\n",
    "The raw dataset consists of 9 different columns\n",
    "\n",
    "**date** - is the timestamp when the purchase was done\n",
    "\n",
    "**id_doc** - receipt's id\n",
    "\n",
    "**id_order** - is the order's id. Order's id is equal to 0 when the purchase was done offline, otherwise online.\n",
    "\n",
    "**id_card** - is the unique id of customer.\n",
    "\n",
    "**id_tov** - is the unique id of product's id\n",
    "\n",
    "**id_kontr** - distributor's id\n",
    "\n",
    "**quantity** - the amount of the same product in receipt which was purchased\n",
    "\n",
    "**sum** - price of the product\n",
    "\n",
    "**is_green** - shows that product is under discount or not"
   ]
  },
  {
   "cell_type": "code",
   "execution_count": 1,
   "metadata": {},
   "outputs": [],
   "source": [
    "from pathlib import Path\n",
    "import pandas as pd\n",
    "import gc\n",
    "from sklearn.preprocessing import LabelEncoder\n",
    "import pickle\n",
    "import bz2"
   ]
  },
  {
   "cell_type": "markdown",
   "metadata": {},
   "source": [
    "Files `09_prepared.pkl.bz2`, `10_prepared.pkl.bz2`, `11_prepared.pkl.bz2`, were taken from @Qvviko"
   ]
  },
  {
   "cell_type": "code",
   "execution_count": 2,
   "metadata": {},
   "outputs": [
    {
     "name": "stdout",
     "output_type": "stream",
     "text": [
      "09_prepared.pkl.bz2  products_sum_20200901\tproducts_sum_20201101\n",
      "10_prepared.pkl.bz2  products_sum_20200901.zip\tproducts_sum_20201101.zip\n",
      "11_prepared.pkl.bz2  products_sum_20201001\n",
      "product_groups.docx  products_sum_20201001.zip\n"
     ]
    }
   ],
   "source": [
    "data_path = Path('./data/').resolve()\n",
    "!ls {data_path}"
   ]
  },
  {
   "cell_type": "markdown",
   "metadata": {},
   "source": [
    "### merge"
   ]
  },
  {
   "cell_type": "code",
   "execution_count": 3,
   "metadata": {},
   "outputs": [],
   "source": [
    "from pathlib import Path\n",
    "import pandas as pd\n",
    "import gc\n",
    "from sklearn.preprocessing import LabelEncoder\n",
    "import pickle\n",
    "import bz2\n",
    "\n",
    "def read_file(filename):\n",
    "    with bz2.open(data_path / filename, 'rb') as f:\n",
    "        return pickle.load(f).drop(['id_doc', 'id_card'], axis='columns')"
   ]
  },
  {
   "cell_type": "code",
   "execution_count": 4,
   "metadata": {},
   "outputs": [],
   "source": [
    "df = pd.concat(\n",
    "    [\n",
    "        read_file('09_prepared.pkl.bz2'), \n",
    "        #read_file('10_prepared.pkl.bz2'), \n",
    "        #read_file('11_prepared.pkl.bz2')\n",
    "    ]\n",
    ")"
   ]
  },
  {
   "cell_type": "markdown",
   "metadata": {},
   "source": [
    "## Basic EDA"
   ]
  },
  {
   "cell_type": "code",
   "execution_count": 5,
   "metadata": {},
   "outputs": [
    {
     "data": {
      "text/html": [
       "<div>\n",
       "<style scoped>\n",
       "    .dataframe tbody tr th:only-of-type {\n",
       "        vertical-align: middle;\n",
       "    }\n",
       "\n",
       "    .dataframe tbody tr th {\n",
       "        vertical-align: top;\n",
       "    }\n",
       "\n",
       "    .dataframe thead th {\n",
       "        text-align: right;\n",
       "    }\n",
       "</style>\n",
       "<table border=\"1\" class=\"dataframe\">\n",
       "  <thead>\n",
       "    <tr style=\"text-align: right;\">\n",
       "      <th></th>\n",
       "      <th>date</th>\n",
       "      <th>id_order</th>\n",
       "      <th>id_tov</th>\n",
       "      <th>id_kontr</th>\n",
       "      <th>quantity</th>\n",
       "      <th>sum</th>\n",
       "      <th>is_green</th>\n",
       "      <th>id_card_int</th>\n",
       "      <th>id_doc_int</th>\n",
       "    </tr>\n",
       "  </thead>\n",
       "  <tbody>\n",
       "    <tr>\n",
       "      <th>0</th>\n",
       "      <td>2020-09-01 17:01:25</td>\n",
       "      <td>0</td>\n",
       "      <td>52</td>\n",
       "      <td>271</td>\n",
       "      <td>1.0</td>\n",
       "      <td>108.00</td>\n",
       "      <td>False</td>\n",
       "      <td>1538855</td>\n",
       "      <td>1283228</td>\n",
       "    </tr>\n",
       "    <tr>\n",
       "      <th>1</th>\n",
       "      <td>2020-09-01 17:35:36</td>\n",
       "      <td>0</td>\n",
       "      <td>52</td>\n",
       "      <td>271</td>\n",
       "      <td>1.0</td>\n",
       "      <td>108.00</td>\n",
       "      <td>False</td>\n",
       "      <td>267307</td>\n",
       "      <td>8873113</td>\n",
       "    </tr>\n",
       "    <tr>\n",
       "      <th>2</th>\n",
       "      <td>2020-09-01 19:19:21</td>\n",
       "      <td>0</td>\n",
       "      <td>52</td>\n",
       "      <td>271</td>\n",
       "      <td>1.0</td>\n",
       "      <td>107.95</td>\n",
       "      <td>False</td>\n",
       "      <td>610220</td>\n",
       "      <td>12712899</td>\n",
       "    </tr>\n",
       "    <tr>\n",
       "      <th>3</th>\n",
       "      <td>2020-09-01 21:53:34</td>\n",
       "      <td>0</td>\n",
       "      <td>52</td>\n",
       "      <td>271</td>\n",
       "      <td>1.0</td>\n",
       "      <td>108.00</td>\n",
       "      <td>False</td>\n",
       "      <td>441497</td>\n",
       "      <td>21535283</td>\n",
       "    </tr>\n",
       "    <tr>\n",
       "      <th>4</th>\n",
       "      <td>2020-09-01 18:42:31</td>\n",
       "      <td>0</td>\n",
       "      <td>61</td>\n",
       "      <td>97</td>\n",
       "      <td>2.0</td>\n",
       "      <td>88.00</td>\n",
       "      <td>False</td>\n",
       "      <td>1065358</td>\n",
       "      <td>642341</td>\n",
       "    </tr>\n",
       "  </tbody>\n",
       "</table>\n",
       "</div>"
      ],
      "text/plain": [
       "                 date  id_order  id_tov  id_kontr  quantity     sum  is_green  \\\n",
       "0 2020-09-01 17:01:25         0      52       271       1.0  108.00     False   \n",
       "1 2020-09-01 17:35:36         0      52       271       1.0  108.00     False   \n",
       "2 2020-09-01 19:19:21         0      52       271       1.0  107.95     False   \n",
       "3 2020-09-01 21:53:34         0      52       271       1.0  108.00     False   \n",
       "4 2020-09-01 18:42:31         0      61        97       2.0   88.00     False   \n",
       "\n",
       "   id_card_int  id_doc_int  \n",
       "0      1538855     1283228  \n",
       "1       267307     8873113  \n",
       "2       610220    12712899  \n",
       "3       441497    21535283  \n",
       "4      1065358      642341  "
      ]
     },
     "execution_count": 5,
     "metadata": {},
     "output_type": "execute_result"
    }
   ],
   "source": [
    "df.head()"
   ]
  },
  {
   "cell_type": "code",
   "execution_count": 6,
   "metadata": {},
   "outputs": [
    {
     "name": "stdout",
     "output_type": "stream",
     "text": [
      "<class 'pandas.core.frame.DataFrame'>\n",
      "RangeIndex: 42100858 entries, 0 to 42100857\n",
      "Data columns (total 9 columns):\n",
      " #   Column       Dtype         \n",
      "---  ------       -----         \n",
      " 0   date         datetime64[ns]\n",
      " 1   id_order     int64         \n",
      " 2   id_tov       int64         \n",
      " 3   id_kontr     int64         \n",
      " 4   quantity     float64       \n",
      " 5   sum          float64       \n",
      " 6   is_green     bool          \n",
      " 7   id_card_int  int64         \n",
      " 8   id_doc_int   int64         \n",
      "dtypes: bool(1), datetime64[ns](1), float64(2), int64(5)\n",
      "memory usage: 2.5 GB\n"
     ]
    }
   ],
   "source": [
    "df.info()"
   ]
  },
  {
   "cell_type": "code",
   "execution_count": 7,
   "metadata": {},
   "outputs": [
    {
     "data": {
      "text/html": [
       "<div>\n",
       "<style scoped>\n",
       "    .dataframe tbody tr th:only-of-type {\n",
       "        vertical-align: middle;\n",
       "    }\n",
       "\n",
       "    .dataframe tbody tr th {\n",
       "        vertical-align: top;\n",
       "    }\n",
       "\n",
       "    .dataframe thead th {\n",
       "        text-align: right;\n",
       "    }\n",
       "</style>\n",
       "<table border=\"1\" class=\"dataframe\">\n",
       "  <thead>\n",
       "    <tr style=\"text-align: right;\">\n",
       "      <th></th>\n",
       "      <th>id_order</th>\n",
       "      <th>id_tov</th>\n",
       "      <th>id_kontr</th>\n",
       "      <th>quantity</th>\n",
       "      <th>sum</th>\n",
       "      <th>id_card_int</th>\n",
       "      <th>id_doc_int</th>\n",
       "    </tr>\n",
       "  </thead>\n",
       "  <tbody>\n",
       "    <tr>\n",
       "      <th>count</th>\n",
       "      <td>4.210086e+07</td>\n",
       "      <td>4.210086e+07</td>\n",
       "      <td>4.210086e+07</td>\n",
       "      <td>4.210086e+07</td>\n",
       "      <td>4.210086e+07</td>\n",
       "      <td>4.210086e+07</td>\n",
       "      <td>4.210086e+07</td>\n",
       "    </tr>\n",
       "    <tr>\n",
       "      <th>mean</th>\n",
       "      <td>7.765869e+05</td>\n",
       "      <td>1.763064e+04</td>\n",
       "      <td>1.045977e+04</td>\n",
       "      <td>1.427065e+00</td>\n",
       "      <td>1.149112e+02</td>\n",
       "      <td>8.446032e+05</td>\n",
       "      <td>1.170384e+07</td>\n",
       "    </tr>\n",
       "    <tr>\n",
       "      <th>std</th>\n",
       "      <td>2.032896e+06</td>\n",
       "      <td>1.103226e+04</td>\n",
       "      <td>8.794764e+03</td>\n",
       "      <td>3.101411e+01</td>\n",
       "      <td>1.072201e+02</td>\n",
       "      <td>5.388947e+05</td>\n",
       "      <td>6.760102e+06</td>\n",
       "    </tr>\n",
       "    <tr>\n",
       "      <th>min</th>\n",
       "      <td>0.000000e+00</td>\n",
       "      <td>4.600000e+01</td>\n",
       "      <td>-9.999000e+03</td>\n",
       "      <td>-2.755000e+00</td>\n",
       "      <td>-1.022110e+03</td>\n",
       "      <td>0.000000e+00</td>\n",
       "      <td>2.000000e+00</td>\n",
       "    </tr>\n",
       "    <tr>\n",
       "      <th>25%</th>\n",
       "      <td>0.000000e+00</td>\n",
       "      <td>1.452600e+04</td>\n",
       "      <td>3.850000e+02</td>\n",
       "      <td>1.000000e+00</td>\n",
       "      <td>4.800000e+01</td>\n",
       "      <td>3.650470e+05</td>\n",
       "      <td>5.848724e+06</td>\n",
       "    </tr>\n",
       "    <tr>\n",
       "      <th>50%</th>\n",
       "      <td>0.000000e+00</td>\n",
       "      <td>1.943500e+04</td>\n",
       "      <td>1.358100e+04</td>\n",
       "      <td>1.000000e+00</td>\n",
       "      <td>8.900000e+01</td>\n",
       "      <td>8.150010e+05</td>\n",
       "      <td>1.170182e+07</td>\n",
       "    </tr>\n",
       "    <tr>\n",
       "      <th>75%</th>\n",
       "      <td>0.000000e+00</td>\n",
       "      <td>2.455800e+04</td>\n",
       "      <td>1.630400e+04</td>\n",
       "      <td>1.000000e+00</td>\n",
       "      <td>1.501100e+02</td>\n",
       "      <td>1.288708e+06</td>\n",
       "      <td>1.755596e+07</td>\n",
       "    </tr>\n",
       "    <tr>\n",
       "      <th>max</th>\n",
       "      <td>6.673056e+06</td>\n",
       "      <td>3.866000e+04</td>\n",
       "      <td>2.194300e+04</td>\n",
       "      <td>5.000000e+03</td>\n",
       "      <td>3.840000e+04</td>\n",
       "      <td>1.944074e+06</td>\n",
       "      <td>2.341787e+07</td>\n",
       "    </tr>\n",
       "  </tbody>\n",
       "</table>\n",
       "</div>"
      ],
      "text/plain": [
       "           id_order        id_tov      id_kontr      quantity           sum  \\\n",
       "count  4.210086e+07  4.210086e+07  4.210086e+07  4.210086e+07  4.210086e+07   \n",
       "mean   7.765869e+05  1.763064e+04  1.045977e+04  1.427065e+00  1.149112e+02   \n",
       "std    2.032896e+06  1.103226e+04  8.794764e+03  3.101411e+01  1.072201e+02   \n",
       "min    0.000000e+00  4.600000e+01 -9.999000e+03 -2.755000e+00 -1.022110e+03   \n",
       "25%    0.000000e+00  1.452600e+04  3.850000e+02  1.000000e+00  4.800000e+01   \n",
       "50%    0.000000e+00  1.943500e+04  1.358100e+04  1.000000e+00  8.900000e+01   \n",
       "75%    0.000000e+00  2.455800e+04  1.630400e+04  1.000000e+00  1.501100e+02   \n",
       "max    6.673056e+06  3.866000e+04  2.194300e+04  5.000000e+03  3.840000e+04   \n",
       "\n",
       "        id_card_int    id_doc_int  \n",
       "count  4.210086e+07  4.210086e+07  \n",
       "mean   8.446032e+05  1.170384e+07  \n",
       "std    5.388947e+05  6.760102e+06  \n",
       "min    0.000000e+00  2.000000e+00  \n",
       "25%    3.650470e+05  5.848724e+06  \n",
       "50%    8.150010e+05  1.170182e+07  \n",
       "75%    1.288708e+06  1.755596e+07  \n",
       "max    1.944074e+06  2.341787e+07  "
      ]
     },
     "execution_count": 7,
     "metadata": {},
     "output_type": "execute_result"
    }
   ],
   "source": [
    "df.describe()"
   ]
  },
  {
   "cell_type": "markdown",
   "metadata": {},
   "source": [
    "## Rich customers"
   ]
  },
  {
   "cell_type": "code",
   "execution_count": 8,
   "metadata": {},
   "outputs": [],
   "source": [
    "gr = df.groupby('id_card_int', as_index=False).sum().sort_values('sum')\n"
   ]
  },
  {
   "cell_type": "code",
   "execution_count": 9,
   "metadata": {},
   "outputs": [
    {
     "data": {
      "text/html": [
       "<div>\n",
       "<style scoped>\n",
       "    .dataframe tbody tr th:only-of-type {\n",
       "        vertical-align: middle;\n",
       "    }\n",
       "\n",
       "    .dataframe tbody tr th {\n",
       "        vertical-align: top;\n",
       "    }\n",
       "\n",
       "    .dataframe thead th {\n",
       "        text-align: right;\n",
       "    }\n",
       "</style>\n",
       "<table border=\"1\" class=\"dataframe\">\n",
       "  <thead>\n",
       "    <tr style=\"text-align: right;\">\n",
       "      <th></th>\n",
       "      <th>id_card_int</th>\n",
       "      <th>id_order</th>\n",
       "      <th>id_tov</th>\n",
       "      <th>id_kontr</th>\n",
       "      <th>quantity</th>\n",
       "      <th>sum</th>\n",
       "      <th>is_green</th>\n",
       "      <th>id_doc_int</th>\n",
       "    </tr>\n",
       "  </thead>\n",
       "  <tbody>\n",
       "    <tr>\n",
       "      <th>1334505</th>\n",
       "      <td>1871302</td>\n",
       "      <td>0</td>\n",
       "      <td>21435</td>\n",
       "      <td>102</td>\n",
       "      <td>1.0</td>\n",
       "      <td>0.0</td>\n",
       "      <td>0</td>\n",
       "      <td>21829155</td>\n",
       "    </tr>\n",
       "    <tr>\n",
       "      <th>396386</th>\n",
       "      <td>527413</td>\n",
       "      <td>0</td>\n",
       "      <td>179951</td>\n",
       "      <td>86824</td>\n",
       "      <td>5.0</td>\n",
       "      <td>0.0</td>\n",
       "      <td>5</td>\n",
       "      <td>86521061</td>\n",
       "    </tr>\n",
       "    <tr>\n",
       "      <th>1316281</th>\n",
       "      <td>1843017</td>\n",
       "      <td>0</td>\n",
       "      <td>234032</td>\n",
       "      <td>113846</td>\n",
       "      <td>12.0</td>\n",
       "      <td>0.0</td>\n",
       "      <td>0</td>\n",
       "      <td>23359304</td>\n",
       "    </tr>\n",
       "    <tr>\n",
       "      <th>306743</th>\n",
       "      <td>405371</td>\n",
       "      <td>0</td>\n",
       "      <td>162821</td>\n",
       "      <td>75401</td>\n",
       "      <td>8.0</td>\n",
       "      <td>0.0</td>\n",
       "      <td>4</td>\n",
       "      <td>58061750</td>\n",
       "    </tr>\n",
       "    <tr>\n",
       "      <th>277094</th>\n",
       "      <td>365257</td>\n",
       "      <td>0</td>\n",
       "      <td>647</td>\n",
       "      <td>-9999</td>\n",
       "      <td>1.0</td>\n",
       "      <td>0.0</td>\n",
       "      <td>0</td>\n",
       "      <td>2932231</td>\n",
       "    </tr>\n",
       "  </tbody>\n",
       "</table>\n",
       "</div>"
      ],
      "text/plain": [
       "         id_card_int  id_order  id_tov  id_kontr  quantity  sum  is_green  \\\n",
       "1334505      1871302         0   21435       102       1.0  0.0         0   \n",
       "396386        527413         0  179951     86824       5.0  0.0         5   \n",
       "1316281      1843017         0  234032    113846      12.0  0.0         0   \n",
       "306743        405371         0  162821     75401       8.0  0.0         4   \n",
       "277094        365257         0     647     -9999       1.0  0.0         0   \n",
       "\n",
       "         id_doc_int  \n",
       "1334505    21829155  \n",
       "396386     86521061  \n",
       "1316281    23359304  \n",
       "306743     58061750  \n",
       "277094      2932231  "
      ]
     },
     "execution_count": 9,
     "metadata": {},
     "output_type": "execute_result"
    }
   ],
   "source": [
    "gr.head()"
   ]
  },
  {
   "cell_type": "code",
   "execution_count": 10,
   "metadata": {},
   "outputs": [
    {
     "data": {
      "text/html": [
       "<div>\n",
       "<style scoped>\n",
       "    .dataframe tbody tr th:only-of-type {\n",
       "        vertical-align: middle;\n",
       "    }\n",
       "\n",
       "    .dataframe tbody tr th {\n",
       "        vertical-align: top;\n",
       "    }\n",
       "\n",
       "    .dataframe thead th {\n",
       "        text-align: right;\n",
       "    }\n",
       "</style>\n",
       "<table border=\"1\" class=\"dataframe\">\n",
       "  <thead>\n",
       "    <tr style=\"text-align: right;\">\n",
       "      <th></th>\n",
       "      <th>id_card_int</th>\n",
       "      <th>id_order</th>\n",
       "      <th>id_tov</th>\n",
       "      <th>id_kontr</th>\n",
       "      <th>quantity</th>\n",
       "      <th>sum</th>\n",
       "      <th>is_green</th>\n",
       "      <th>id_doc_int</th>\n",
       "    </tr>\n",
       "  </thead>\n",
       "  <tbody>\n",
       "    <tr>\n",
       "      <th>1054559</th>\n",
       "      <td>1447941</td>\n",
       "      <td>1846224652</td>\n",
       "      <td>11934022</td>\n",
       "      <td>4583099</td>\n",
       "      <td>767.353</td>\n",
       "      <td>98215.49</td>\n",
       "      <td>3</td>\n",
       "      <td>7513709846</td>\n",
       "    </tr>\n",
       "    <tr>\n",
       "      <th>1260542</th>\n",
       "      <td>1755035</td>\n",
       "      <td>19554147</td>\n",
       "      <td>279221</td>\n",
       "      <td>203854</td>\n",
       "      <td>51.000</td>\n",
       "      <td>116411.20</td>\n",
       "      <td>2</td>\n",
       "      <td>205354227</td>\n",
       "    </tr>\n",
       "    <tr>\n",
       "      <th>910003</th>\n",
       "      <td>1243870</td>\n",
       "      <td>0</td>\n",
       "      <td>14823178</td>\n",
       "      <td>9579794</td>\n",
       "      <td>1032.448</td>\n",
       "      <td>124131.91</td>\n",
       "      <td>5</td>\n",
       "      <td>7581114411</td>\n",
       "    </tr>\n",
       "    <tr>\n",
       "      <th>426570</th>\n",
       "      <td>568930</td>\n",
       "      <td>2234948749</td>\n",
       "      <td>17156402</td>\n",
       "      <td>8733962</td>\n",
       "      <td>1869.601</td>\n",
       "      <td>211154.31</td>\n",
       "      <td>8</td>\n",
       "      <td>5952086098</td>\n",
       "    </tr>\n",
       "    <tr>\n",
       "      <th>652503</th>\n",
       "      <td>883386</td>\n",
       "      <td>0</td>\n",
       "      <td>4163789442</td>\n",
       "      <td>2123776403</td>\n",
       "      <td>229022.537</td>\n",
       "      <td>18259091.85</td>\n",
       "      <td>355</td>\n",
       "      <td>2226507914953</td>\n",
       "    </tr>\n",
       "  </tbody>\n",
       "</table>\n",
       "</div>"
      ],
      "text/plain": [
       "         id_card_int    id_order      id_tov    id_kontr    quantity  \\\n",
       "1054559      1447941  1846224652    11934022     4583099     767.353   \n",
       "1260542      1755035    19554147      279221      203854      51.000   \n",
       "910003       1243870           0    14823178     9579794    1032.448   \n",
       "426570        568930  2234948749    17156402     8733962    1869.601   \n",
       "652503        883386           0  4163789442  2123776403  229022.537   \n",
       "\n",
       "                 sum  is_green     id_doc_int  \n",
       "1054559     98215.49         3     7513709846  \n",
       "1260542    116411.20         2      205354227  \n",
       "910003     124131.91         5     7581114411  \n",
       "426570     211154.31         8     5952086098  \n",
       "652503   18259091.85       355  2226507914953  "
      ]
     },
     "execution_count": 10,
     "metadata": {},
     "output_type": "execute_result"
    }
   ],
   "source": [
    "gr.tail()"
   ]
  },
  {
   "cell_type": "code",
   "execution_count": 11,
   "metadata": {},
   "outputs": [
    {
     "data": {
      "text/plain": [
       "array([[<AxesSubplot:title={'center':'sum'}>]], dtype=object)"
      ]
     },
     "execution_count": 11,
     "metadata": {},
     "output_type": "execute_result"
    },
    {
     "data": {
      "image/png": "[encoded data removed]",
      "text/plain": [
       "<Figure size 432x288 with 1 Axes>"
      ]
     },
     "metadata": {
      "needs_background": "light"
     },
     "output_type": "display_data"
    }
   ],
   "source": [
    "gr.hist('sum', \n",
    "        bins=[0,500,1000,2000,3000,4000,5000,10000,20000,50000],\n",
    "        )"
   ]
  },
  {
   "cell_type": "code",
   "execution_count": 12,
   "metadata": {},
   "outputs": [
    {
     "data": {
      "text/plain": [
       "min           0.00\n",
       "25%         555.00\n",
       "50%        1577.82\n",
       "75%        4336.58\n",
       "max    18259091.85\n",
       "Name: sum, dtype: float64"
      ]
     },
     "execution_count": 12,
     "metadata": {},
     "output_type": "execute_result"
    }
   ],
   "source": [
    "gr['sum'].describe()[['min', '25%', '50%', '75%', 'max']]"
   ]
  },
  {
   "cell_type": "code",
   "execution_count": 13,
   "metadata": {},
   "outputs": [
    {
     "data": {
      "text/plain": [
       "('thresh', 86066.03536052944)"
      ]
     },
     "execution_count": 13,
     "metadata": {},
     "output_type": "execute_result"
    }
   ],
   "source": [
    "std, mean = gr['sum'].std(), gr['sum'].mean()\n",
    "thresh = mean + std * 5\n",
    "'thresh', thresh"
   ]
  },
  {
   "cell_type": "code",
   "execution_count": 14,
   "metadata": {},
   "outputs": [
    {
     "data": {
      "text/plain": [
       "8"
      ]
     },
     "execution_count": 14,
     "metadata": {},
     "output_type": "execute_result"
    }
   ],
   "source": [
    "(gr['sum'] > thresh).sum()"
   ]
  },
  {
   "cell_type": "code",
   "execution_count": 15,
   "metadata": {},
   "outputs": [
    {
     "name": "stdout",
     "output_type": "stream",
     "text": [
      "[  57748  497966  935791 1447941 1755035 1243870  568930  883386]\n"
     ]
    }
   ],
   "source": [
    "rich_clients = gr[gr['sum'] > thresh]['id_card_int'].values\n",
    "print(rich_clients)"
   ]
  },
  {
   "cell_type": "markdown",
   "metadata": {},
   "source": [
    "## Customers with expensive docs"
   ]
  },
  {
   "cell_type": "code",
   "execution_count": 16,
   "metadata": {},
   "outputs": [],
   "source": [
    "gr = df.groupby(by='id_doc_int', as_index=False).sum()[['sum', 'id_doc_int']].sort_values(by='sum')\n"
   ]
  },
  {
   "cell_type": "code",
   "execution_count": 17,
   "metadata": {},
   "outputs": [
    {
     "data": {
      "text/html": [
       "<div>\n",
       "<style scoped>\n",
       "    .dataframe tbody tr th:only-of-type {\n",
       "        vertical-align: middle;\n",
       "    }\n",
       "\n",
       "    .dataframe tbody tr th {\n",
       "        vertical-align: top;\n",
       "    }\n",
       "\n",
       "    .dataframe thead th {\n",
       "        text-align: right;\n",
       "    }\n",
       "</style>\n",
       "<table border=\"1\" class=\"dataframe\">\n",
       "  <thead>\n",
       "    <tr style=\"text-align: right;\">\n",
       "      <th></th>\n",
       "      <th>sum</th>\n",
       "      <th>id_doc_int</th>\n",
       "    </tr>\n",
       "  </thead>\n",
       "  <tbody>\n",
       "    <tr>\n",
       "      <th>5563359</th>\n",
       "      <td>17995.87</td>\n",
       "      <td>16895572</td>\n",
       "    </tr>\n",
       "    <tr>\n",
       "      <th>6707135</th>\n",
       "      <td>18120.00</td>\n",
       "      <td>20374410</td>\n",
       "    </tr>\n",
       "    <tr>\n",
       "      <th>5664229</th>\n",
       "      <td>18284.91</td>\n",
       "      <td>17203033</td>\n",
       "    </tr>\n",
       "    <tr>\n",
       "      <th>3455834</th>\n",
       "      <td>18466.00</td>\n",
       "      <td>10492848</td>\n",
       "    </tr>\n",
       "    <tr>\n",
       "      <th>3283398</th>\n",
       "      <td>19017.36</td>\n",
       "      <td>9968657</td>\n",
       "    </tr>\n",
       "    <tr>\n",
       "      <th>504194</th>\n",
       "      <td>19248.49</td>\n",
       "      <td>1531730</td>\n",
       "    </tr>\n",
       "    <tr>\n",
       "      <th>2768688</th>\n",
       "      <td>19940.99</td>\n",
       "      <td>8404161</td>\n",
       "    </tr>\n",
       "    <tr>\n",
       "      <th>3079262</th>\n",
       "      <td>19963.06</td>\n",
       "      <td>9348554</td>\n",
       "    </tr>\n",
       "    <tr>\n",
       "      <th>1923554</th>\n",
       "      <td>20332.35</td>\n",
       "      <td>5841003</td>\n",
       "    </tr>\n",
       "    <tr>\n",
       "      <th>7139798</th>\n",
       "      <td>21245.57</td>\n",
       "      <td>21687422</td>\n",
       "    </tr>\n",
       "    <tr>\n",
       "      <th>5392918</th>\n",
       "      <td>21358.98</td>\n",
       "      <td>16378256</td>\n",
       "    </tr>\n",
       "    <tr>\n",
       "      <th>3584565</th>\n",
       "      <td>21437.04</td>\n",
       "      <td>10884556</td>\n",
       "    </tr>\n",
       "    <tr>\n",
       "      <th>967281</th>\n",
       "      <td>22825.48</td>\n",
       "      <td>2937461</td>\n",
       "    </tr>\n",
       "    <tr>\n",
       "      <th>1634577</th>\n",
       "      <td>26956.31</td>\n",
       "      <td>4963467</td>\n",
       "    </tr>\n",
       "    <tr>\n",
       "      <th>4681435</th>\n",
       "      <td>48005.00</td>\n",
       "      <td>14218897</td>\n",
       "    </tr>\n",
       "  </tbody>\n",
       "</table>\n",
       "</div>"
      ],
      "text/plain": [
       "              sum  id_doc_int\n",
       "5563359  17995.87    16895572\n",
       "6707135  18120.00    20374410\n",
       "5664229  18284.91    17203033\n",
       "3455834  18466.00    10492848\n",
       "3283398  19017.36     9968657\n",
       "504194   19248.49     1531730\n",
       "2768688  19940.99     8404161\n",
       "3079262  19963.06     9348554\n",
       "1923554  20332.35     5841003\n",
       "7139798  21245.57    21687422\n",
       "5392918  21358.98    16378256\n",
       "3584565  21437.04    10884556\n",
       "967281   22825.48     2937461\n",
       "1634577  26956.31     4963467\n",
       "4681435  48005.00    14218897"
      ]
     },
     "execution_count": 17,
     "metadata": {},
     "output_type": "execute_result"
    }
   ],
   "source": [
    "gr.tail(15)"
   ]
  },
  {
   "cell_type": "code",
   "execution_count": 18,
   "metadata": {},
   "outputs": [
    {
     "data": {
      "text/plain": [
       "min        0.00\n",
       "25%      209.00\n",
       "50%      415.00\n",
       "75%      795.35\n",
       "max    48005.00\n",
       "Name: sum, dtype: float64"
      ]
     },
     "execution_count": 18,
     "metadata": {},
     "output_type": "execute_result"
    }
   ],
   "source": [
    "gr['sum'].describe()[['min', '25%', '50%', '75%', 'max']]"
   ]
  },
  {
   "cell_type": "code",
   "execution_count": 19,
   "metadata": {},
   "outputs": [
    {
     "data": {
      "text/plain": [
       "('thresh', 4004.148726884987)"
      ]
     },
     "execution_count": 19,
     "metadata": {},
     "output_type": "execute_result"
    }
   ],
   "source": [
    "std, mean = gr['sum'].std(), gr['sum'].mean()\n",
    "thresh = mean + std * 5\n",
    "'thresh', thresh"
   ]
  },
  {
   "cell_type": "code",
   "execution_count": 20,
   "metadata": {},
   "outputs": [
    {
     "data": {
      "text/plain": [
       "0.999900     9248.768160\n",
       "0.999902     9289.669779\n",
       "0.999904     9317.518281\n",
       "0.999906     9392.148294\n",
       "0.999908     9427.899557\n",
       "0.999910     9453.487923\n",
       "0.999912     9494.413395\n",
       "0.999914     9544.517434\n",
       "0.999916     9596.179704\n",
       "0.999918     9638.800145\n",
       "0.999920     9677.762581\n",
       "0.999922     9719.434273\n",
       "0.999924     9767.969888\n",
       "0.999927     9811.990565\n",
       "0.999929     9869.987237\n",
       "0.999931     9927.241009\n",
       "0.999933     9974.521820\n",
       "0.999935    10026.986036\n",
       "0.999937    10080.302608\n",
       "0.999939    10144.400582\n",
       "0.999941    10196.030252\n",
       "0.999943    10267.052718\n",
       "0.999945    10356.021534\n",
       "0.999947    10436.106395\n",
       "0.999949    10513.702676\n",
       "0.999951    10616.297953\n",
       "0.999953    10694.315291\n",
       "0.999955    10762.259743\n",
       "0.999957    10876.937779\n",
       "0.999959    10992.347863\n",
       "0.999961    11129.568855\n",
       "0.999963    11260.273648\n",
       "0.999965    11384.915357\n",
       "0.999967    11525.674289\n",
       "0.999969    11622.696711\n",
       "0.999971    11744.076281\n",
       "0.999973    11897.799262\n",
       "0.999976    12066.089774\n",
       "0.999978    12236.879429\n",
       "0.999980    12434.593459\n",
       "0.999982    12783.743234\n",
       "0.999984    12959.696513\n",
       "0.999986    13266.850536\n",
       "0.999988    13526.354611\n",
       "0.999990    13838.612056\n",
       "0.999992    14352.202635\n",
       "0.999994    15124.813205\n",
       "0.999996    16139.836964\n",
       "0.999998    17640.981080\n",
       "1.000000    48005.000000\n",
       "Name: sum, dtype: float64"
      ]
     },
     "execution_count": 20,
     "metadata": {},
     "output_type": "execute_result"
    }
   ],
   "source": [
    "import numpy as np\n",
    "gr['sum'].quantile(q=np.linspace(0.9999, 1, 50))"
   ]
  },
  {
   "cell_type": "code",
   "execution_count": 21,
   "metadata": {},
   "outputs": [
    {
     "name": "stdout",
     "output_type": "stream",
     "text": [
      "thresh 15495.91849686103\n",
      "39\n",
      "[ 784343 1552728  225201  568930 1260932 1429536 1911522  636272  588107\n",
      "  161838  648111      48  488719  274667  686321  948175  348919  816031\n",
      "  132928  508835 1750466  388932  368551 1929067 1121726  129282 1499243\n",
      " 1268851 1755035]\n"
     ]
    }
   ],
   "source": [
    "thresh = gr['sum'].quantile(0.999995)\n",
    "print('thresh', thresh)\n",
    "print((gr['sum'] > thresh).sum())\n",
    "\n",
    "expensive_docs = gr[gr['sum'] > thresh]['id_doc_int'].values\n",
    "expensive_docs_clients = df[df['id_doc_int'].isin(expensive_docs)]['id_card_int'].unique()\n",
    "\n",
    "print(expensive_docs_clients)"
   ]
  },
  {
   "cell_type": "markdown",
   "metadata": {},
   "source": [
    "## quantity = 0"
   ]
  },
  {
   "cell_type": "code",
   "execution_count": 22,
   "metadata": {},
   "outputs": [
    {
     "data": {
      "text/html": [
       "<div>\n",
       "<style scoped>\n",
       "    .dataframe tbody tr th:only-of-type {\n",
       "        vertical-align: middle;\n",
       "    }\n",
       "\n",
       "    .dataframe tbody tr th {\n",
       "        vertical-align: top;\n",
       "    }\n",
       "\n",
       "    .dataframe thead th {\n",
       "        text-align: right;\n",
       "    }\n",
       "</style>\n",
       "<table border=\"1\" class=\"dataframe\">\n",
       "  <thead>\n",
       "    <tr style=\"text-align: right;\">\n",
       "      <th></th>\n",
       "      <th>date</th>\n",
       "      <th>id_order</th>\n",
       "      <th>id_tov</th>\n",
       "      <th>id_kontr</th>\n",
       "      <th>quantity</th>\n",
       "      <th>sum</th>\n",
       "      <th>is_green</th>\n",
       "      <th>id_doc_int</th>\n",
       "    </tr>\n",
       "    <tr>\n",
       "      <th>id_card_int</th>\n",
       "      <th></th>\n",
       "      <th></th>\n",
       "      <th></th>\n",
       "      <th></th>\n",
       "      <th></th>\n",
       "      <th></th>\n",
       "      <th></th>\n",
       "      <th></th>\n",
       "    </tr>\n",
       "  </thead>\n",
       "  <tbody>\n",
       "    <tr>\n",
       "      <th>12751</th>\n",
       "      <td>1</td>\n",
       "      <td>1</td>\n",
       "      <td>1</td>\n",
       "      <td>1</td>\n",
       "      <td>1</td>\n",
       "      <td>1</td>\n",
       "      <td>1</td>\n",
       "      <td>1</td>\n",
       "    </tr>\n",
       "    <tr>\n",
       "      <th>804951</th>\n",
       "      <td>1</td>\n",
       "      <td>1</td>\n",
       "      <td>1</td>\n",
       "      <td>1</td>\n",
       "      <td>1</td>\n",
       "      <td>1</td>\n",
       "      <td>1</td>\n",
       "      <td>1</td>\n",
       "    </tr>\n",
       "    <tr>\n",
       "      <th>1858483</th>\n",
       "      <td>1</td>\n",
       "      <td>1</td>\n",
       "      <td>1</td>\n",
       "      <td>1</td>\n",
       "      <td>1</td>\n",
       "      <td>1</td>\n",
       "      <td>1</td>\n",
       "      <td>1</td>\n",
       "    </tr>\n",
       "    <tr>\n",
       "      <th>812051</th>\n",
       "      <td>1</td>\n",
       "      <td>1</td>\n",
       "      <td>1</td>\n",
       "      <td>1</td>\n",
       "      <td>1</td>\n",
       "      <td>1</td>\n",
       "      <td>1</td>\n",
       "      <td>1</td>\n",
       "    </tr>\n",
       "    <tr>\n",
       "      <th>894939</th>\n",
       "      <td>1</td>\n",
       "      <td>1</td>\n",
       "      <td>1</td>\n",
       "      <td>1</td>\n",
       "      <td>1</td>\n",
       "      <td>1</td>\n",
       "      <td>1</td>\n",
       "      <td>1</td>\n",
       "    </tr>\n",
       "    <tr>\n",
       "      <th>...</th>\n",
       "      <td>...</td>\n",
       "      <td>...</td>\n",
       "      <td>...</td>\n",
       "      <td>...</td>\n",
       "      <td>...</td>\n",
       "      <td>...</td>\n",
       "      <td>...</td>\n",
       "      <td>...</td>\n",
       "    </tr>\n",
       "    <tr>\n",
       "      <th>167734</th>\n",
       "      <td>2</td>\n",
       "      <td>2</td>\n",
       "      <td>2</td>\n",
       "      <td>2</td>\n",
       "      <td>2</td>\n",
       "      <td>2</td>\n",
       "      <td>2</td>\n",
       "      <td>2</td>\n",
       "    </tr>\n",
       "    <tr>\n",
       "      <th>840555</th>\n",
       "      <td>3</td>\n",
       "      <td>3</td>\n",
       "      <td>3</td>\n",
       "      <td>3</td>\n",
       "      <td>3</td>\n",
       "      <td>3</td>\n",
       "      <td>3</td>\n",
       "      <td>3</td>\n",
       "    </tr>\n",
       "    <tr>\n",
       "      <th>1731120</th>\n",
       "      <td>3</td>\n",
       "      <td>3</td>\n",
       "      <td>3</td>\n",
       "      <td>3</td>\n",
       "      <td>3</td>\n",
       "      <td>3</td>\n",
       "      <td>3</td>\n",
       "      <td>3</td>\n",
       "    </tr>\n",
       "    <tr>\n",
       "      <th>29462</th>\n",
       "      <td>4</td>\n",
       "      <td>4</td>\n",
       "      <td>4</td>\n",
       "      <td>4</td>\n",
       "      <td>4</td>\n",
       "      <td>4</td>\n",
       "      <td>4</td>\n",
       "      <td>4</td>\n",
       "    </tr>\n",
       "    <tr>\n",
       "      <th>1766517</th>\n",
       "      <td>67</td>\n",
       "      <td>67</td>\n",
       "      <td>67</td>\n",
       "      <td>67</td>\n",
       "      <td>67</td>\n",
       "      <td>67</td>\n",
       "      <td>67</td>\n",
       "      <td>67</td>\n",
       "    </tr>\n",
       "  </tbody>\n",
       "</table>\n",
       "<p>75 rows × 8 columns</p>\n",
       "</div>"
      ],
      "text/plain": [
       "             date  id_order  id_tov  id_kontr  quantity  sum  is_green  \\\n",
       "id_card_int                                                              \n",
       "12751           1         1       1         1         1    1         1   \n",
       "804951          1         1       1         1         1    1         1   \n",
       "1858483         1         1       1         1         1    1         1   \n",
       "812051          1         1       1         1         1    1         1   \n",
       "894939          1         1       1         1         1    1         1   \n",
       "...           ...       ...     ...       ...       ...  ...       ...   \n",
       "167734          2         2       2         2         2    2         2   \n",
       "840555          3         3       3         3         3    3         3   \n",
       "1731120         3         3       3         3         3    3         3   \n",
       "29462           4         4       4         4         4    4         4   \n",
       "1766517        67        67      67        67        67   67        67   \n",
       "\n",
       "             id_doc_int  \n",
       "id_card_int              \n",
       "12751                 1  \n",
       "804951                1  \n",
       "1858483               1  \n",
       "812051                1  \n",
       "894939                1  \n",
       "...                 ...  \n",
       "167734                2  \n",
       "840555                3  \n",
       "1731120               3  \n",
       "29462                 4  \n",
       "1766517              67  \n",
       "\n",
       "[75 rows x 8 columns]"
      ]
     },
     "execution_count": 22,
     "metadata": {},
     "output_type": "execute_result"
    }
   ],
   "source": [
    "zero_quantity = df[df['quantity']==0].groupby('id_card_int').count().sort_values('id_doc_int')\n",
    "zero_quantity"
   ]
  },
  {
   "cell_type": "code",
   "execution_count": 23,
   "metadata": {},
   "outputs": [
    {
     "name": "stdout",
     "output_type": "stream",
     "text": [
      "[1766517]\n"
     ]
    }
   ],
   "source": [
    "zero_quantity_clients = zero_quantity[-1:].index.values\n",
    "print(zero_quantity_clients)"
   ]
  },
  {
   "cell_type": "code",
   "execution_count": null,
   "metadata": {},
   "outputs": [],
   "source": []
  },
  {
   "cell_type": "markdown",
   "metadata": {},
   "source": [
    "## Quantity < 0"
   ]
  },
  {
   "cell_type": "code",
   "execution_count": 24,
   "metadata": {},
   "outputs": [
    {
     "data": {
      "text/html": [
       "<div>\n",
       "<style scoped>\n",
       "    .dataframe tbody tr th:only-of-type {\n",
       "        vertical-align: middle;\n",
       "    }\n",
       "\n",
       "    .dataframe tbody tr th {\n",
       "        vertical-align: top;\n",
       "    }\n",
       "\n",
       "    .dataframe thead th {\n",
       "        text-align: right;\n",
       "    }\n",
       "</style>\n",
       "<table border=\"1\" class=\"dataframe\">\n",
       "  <thead>\n",
       "    <tr style=\"text-align: right;\">\n",
       "      <th></th>\n",
       "      <th>date</th>\n",
       "      <th>id_order</th>\n",
       "      <th>id_tov</th>\n",
       "      <th>id_kontr</th>\n",
       "      <th>quantity</th>\n",
       "      <th>sum</th>\n",
       "      <th>is_green</th>\n",
       "      <th>id_doc_int</th>\n",
       "    </tr>\n",
       "    <tr>\n",
       "      <th>id_card_int</th>\n",
       "      <th></th>\n",
       "      <th></th>\n",
       "      <th></th>\n",
       "      <th></th>\n",
       "      <th></th>\n",
       "      <th></th>\n",
       "      <th></th>\n",
       "      <th></th>\n",
       "    </tr>\n",
       "  </thead>\n",
       "  <tbody>\n",
       "    <tr>\n",
       "      <th>1374348</th>\n",
       "      <td>2</td>\n",
       "      <td>2</td>\n",
       "      <td>2</td>\n",
       "      <td>2</td>\n",
       "      <td>2</td>\n",
       "      <td>2</td>\n",
       "      <td>2</td>\n",
       "      <td>2</td>\n",
       "    </tr>\n",
       "    <tr>\n",
       "      <th>472833</th>\n",
       "      <td>2</td>\n",
       "      <td>2</td>\n",
       "      <td>2</td>\n",
       "      <td>2</td>\n",
       "      <td>2</td>\n",
       "      <td>2</td>\n",
       "      <td>2</td>\n",
       "      <td>2</td>\n",
       "    </tr>\n",
       "    <tr>\n",
       "      <th>253299</th>\n",
       "      <td>2</td>\n",
       "      <td>2</td>\n",
       "      <td>2</td>\n",
       "      <td>2</td>\n",
       "      <td>2</td>\n",
       "      <td>2</td>\n",
       "      <td>2</td>\n",
       "      <td>2</td>\n",
       "    </tr>\n",
       "    <tr>\n",
       "      <th>1485723</th>\n",
       "      <td>2</td>\n",
       "      <td>2</td>\n",
       "      <td>2</td>\n",
       "      <td>2</td>\n",
       "      <td>2</td>\n",
       "      <td>2</td>\n",
       "      <td>2</td>\n",
       "      <td>2</td>\n",
       "    </tr>\n",
       "    <tr>\n",
       "      <th>126995</th>\n",
       "      <td>3</td>\n",
       "      <td>3</td>\n",
       "      <td>3</td>\n",
       "      <td>3</td>\n",
       "      <td>3</td>\n",
       "      <td>3</td>\n",
       "      <td>3</td>\n",
       "      <td>3</td>\n",
       "    </tr>\n",
       "  </tbody>\n",
       "</table>\n",
       "</div>"
      ],
      "text/plain": [
       "             date  id_order  id_tov  id_kontr  quantity  sum  is_green  \\\n",
       "id_card_int                                                              \n",
       "1374348         2         2       2         2         2    2         2   \n",
       "472833          2         2       2         2         2    2         2   \n",
       "253299          2         2       2         2         2    2         2   \n",
       "1485723         2         2       2         2         2    2         2   \n",
       "126995          3         3       3         3         3    3         3   \n",
       "\n",
       "             id_doc_int  \n",
       "id_card_int              \n",
       "1374348               2  \n",
       "472833                2  \n",
       "253299                2  \n",
       "1485723               2  \n",
       "126995                3  "
      ]
     },
     "execution_count": 24,
     "metadata": {},
     "output_type": "execute_result"
    }
   ],
   "source": [
    "neg_quantity = df[df['quantity'] < 0].groupby('id_card_int').count().sort_values('id_doc_int')\n",
    "neg_quantity.tail()"
   ]
  },
  {
   "cell_type": "code",
   "execution_count": 25,
   "metadata": {},
   "outputs": [
    {
     "name": "stdout",
     "output_type": "stream",
     "text": [
      "[23074]\n"
     ]
    }
   ],
   "source": [
    "neg_quantity_clients = df[df.quantity < 0].id_tov.unique()\n",
    "print(neg_quantity_clients)"
   ]
  },
  {
   "cell_type": "markdown",
   "metadata": {},
   "source": [
    "Seems like all the items with negative quantity are related to the same good. This good belongs to the Exotics category, this naming could explain the fact. Other possible explanations are sales and bug in the system or database"
   ]
  },
  {
   "cell_type": "markdown",
   "metadata": {},
   "source": [
    "## Total"
   ]
  },
  {
   "cell_type": "code",
   "execution_count": 26,
   "metadata": {},
   "outputs": [
    {
     "data": {
      "text/plain": [
       "(array([  57748,  497966,  935791, 1447941, 1755035, 1243870,  568930,\n",
       "         883386]),\n",
       " array([ 784343, 1552728,  225201,  568930, 1260932, 1429536, 1911522,\n",
       "         636272,  588107,  161838,  648111,      48,  488719,  274667,\n",
       "         686321,  948175,  348919,  816031,  132928,  508835, 1750466,\n",
       "         388932,  368551, 1929067, 1121726,  129282, 1499243, 1268851,\n",
       "        1755035]),\n",
       " array([1766517]))"
      ]
     },
     "execution_count": 26,
     "metadata": {},
     "output_type": "execute_result"
    }
   ],
   "source": [
    "rich_clients , expensive_docs_clients , zero_quantity_clients"
   ]
  },
  {
   "cell_type": "code",
   "execution_count": 27,
   "metadata": {},
   "outputs": [
    {
     "name": "stdout",
     "output_type": "stream",
     "text": [
      "39\n"
     ]
    }
   ],
   "source": [
    "total = list(rich_clients) + list(expensive_docs_clients) + list(zero_quantity_clients) + list(neg_quantity_clients)\n",
    "print(len(total))"
   ]
  },
  {
   "cell_type": "code",
   "execution_count": 28,
   "metadata": {},
   "outputs": [],
   "source": [
    "total = sorted(list(set(total)))"
   ]
  },
  {
   "cell_type": "code",
   "execution_count": 29,
   "metadata": {},
   "outputs": [],
   "source": [
    "ouliers = pd.DataFrame.from_dict({'id_card': total})\n",
    "\n",
    "with bz2.open(data_path / 'ruslan.pkl.bz2', 'wb') as f:\n",
    "    pickle.dump(df, f, protocol=4)\n",
    "\n",
    "with open('outliers.txt', 'w') as fout:\n",
    "    for x in total:\n",
    "        print(x, file=fout)"
   ]
  }
 ],
 "metadata": {
  "kernelspec": {
   "display_name": "stat",
   "language": "python",
   "name": "stat"
  },
  "language_info": {
   "codemirror_mode": {
    "name": "ipython",
    "version": 3
   },
   "file_extension": ".py",
   "mimetype": "text/x-python",
   "name": "python",
   "nbconvert_exporter": "python",
   "pygments_lexer": "ipython3",
   "version": "3.7.5"
  }
 },
 "nbformat": 4,
 "nbformat_minor": 5
}
