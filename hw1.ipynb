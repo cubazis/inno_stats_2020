{
  "nbformat": 4,
  "nbformat_minor": 0,
  "metadata": {
    "kernelspec": {
      "display_name": "Python 3",
      "language": "python",
      "name": "python3"
    },
    "language_info": {
      "codemirror_mode": {
        "name": "ipython",
        "version": 2
      },
      "file_extension": ".py",
      "mimetype": "text/x-python",
      "name": "python",
      "nbconvert_exporter": "python",
      "pygments_lexer": "ipython2",
      "version": "2.7.6"
    },
    "colab": {
      "name": "hw1.ipynb",
      "provenance": []
    }
  },
  "cells": [
    {
      "cell_type": "code",
      "metadata": {
        "collapsed": true,
        "id": "j8ZDIdM9M3-z"
      },
      "source": [
        "import gc\n",
        "import pickle\n",
        "import bz2\n",
        "import os\n",
        "import pandas as pd"
      ],
      "execution_count": null,
      "outputs": []
    },
    {
      "cell_type": "code",
      "metadata": {
        "pycharm": {
          "name": "#%%\n"
        },
        "id": "Oh5A7yHBM3-5"
      },
      "source": [
        "CARD_LBE = './hw1/card_lbe.pkl.bz2'\n",
        "DOC_LBE = './hw1/doc_lbe.pkl.bz2'\n",
        "\n",
        "\n",
        "with bz2.open(CARD_LBE, 'rb') as f:\n",
        "    cards = pickle.load(f)\n",
        "\n",
        "with bz2.open(DOC_LBE, 'rb') as f:\n",
        "    doc = pickle.load(f)"
      ],
      "execution_count": null,
      "outputs": []
    },
    {
      "cell_type": "code",
      "metadata": {
        "pycharm": {
          "name": "#%%\n"
        },
        "id": "v6Ow8FUZM3-5"
      },
      "source": [
        "with bz2.open('./hw1/09_prepared.pkl.bz2', 'rb') as f:\n",
        "    df1 = pickle.load(f).drop(['id_doc', 'id_card'], axis=1)\n",
        "\n",
        "with bz2.open('./hw1/10_prepared.pkl.bz2', 'rb') as f:\n",
        "    df2 = pickle.load(f).drop(['id_doc', 'id_card'], axis=1)\n",
        "\n",
        "with bz2.open('./hw1/11_prepared.pkl.bz2', 'rb') as f:\n",
        "    df3 = pickle.load(f).drop(['id_doc', 'id_card'], axis=1)"
      ],
      "execution_count": null,
      "outputs": []
    },
    {
      "cell_type": "code",
      "metadata": {
        "pycharm": {
          "name": "#%%\n"
        },
        "id": "H8JJXthBM3-6",
        "outputId": "23ef268c-3eba-4ee5-d3c8-fc55bb93508c"
      },
      "source": [
        "df = pd.concat([df1, df2, df3])\n",
        "del df1, df2, df3 # 11gbs of RAM\n",
        "gc.collect()"
      ],
      "execution_count": null,
      "outputs": [
        {
          "output_type": "execute_result",
          "data": {
            "text/plain": [
              "4643"
            ]
          },
          "metadata": {
            "tags": []
          },
          "execution_count": 8
        }
      ]
    },
    {
      "cell_type": "code",
      "metadata": {
        "pycharm": {
          "name": "#%%\n"
        },
        "id": "lniQ63KEM3-7",
        "outputId": "2fca8c4a-a210-4782-cb42-8627a1e1ce86"
      },
      "source": [
        "pd.set_option('display.float_format', str)\n",
        "df.head()"
      ],
      "execution_count": null,
      "outputs": [
        {
          "output_type": "execute_result",
          "data": {
            "text/plain": [
              "                 date  id_order  id_tov  id_kontr  quantity    sum  is_green  \\\n",
              "0 2020-09-01 17:01:25         0      52       271       1.0  108.0     False   \n",
              "1 2020-09-01 17:35:36         0      52       271       1.0  108.0     False   \n",
              "2 2020-09-01 19:19:21         0      52       271       1.0 107.95     False   \n",
              "3 2020-09-01 21:53:34         0      52       271       1.0  108.0     False   \n",
              "4 2020-09-01 18:42:31         0      61        97       2.0   88.0     False   \n",
              "\n",
              "   id_card_int  id_doc_int  \n",
              "0      1538855     1283228  \n",
              "1       267307     8873113  \n",
              "2       610220    12712899  \n",
              "3       441497    21535283  \n",
              "4      1065358      642341  "
            ],
            "text/html": [
              "<div>\n",
              "<style scoped>\n",
              "    .dataframe tbody tr th:only-of-type {\n",
              "        vertical-align: middle;\n",
              "    }\n",
              "\n",
              "    .dataframe tbody tr th {\n",
              "        vertical-align: top;\n",
              "    }\n",
              "\n",
              "    .dataframe thead th {\n",
              "        text-align: right;\n",
              "    }\n",
              "</style>\n",
              "<table border=\"1\" class=\"dataframe\">\n",
              "  <thead>\n",
              "    <tr style=\"text-align: right;\">\n",
              "      <th></th>\n",
              "      <th>date</th>\n",
              "      <th>id_order</th>\n",
              "      <th>id_tov</th>\n",
              "      <th>id_kontr</th>\n",
              "      <th>quantity</th>\n",
              "      <th>sum</th>\n",
              "      <th>is_green</th>\n",
              "      <th>id_card_int</th>\n",
              "      <th>id_doc_int</th>\n",
              "    </tr>\n",
              "  </thead>\n",
              "  <tbody>\n",
              "    <tr>\n",
              "      <th>0</th>\n",
              "      <td>2020-09-01 17:01:25</td>\n",
              "      <td>0</td>\n",
              "      <td>52</td>\n",
              "      <td>271</td>\n",
              "      <td>1.0</td>\n",
              "      <td>108.0</td>\n",
              "      <td>False</td>\n",
              "      <td>1538855</td>\n",
              "      <td>1283228</td>\n",
              "    </tr>\n",
              "    <tr>\n",
              "      <th>1</th>\n",
              "      <td>2020-09-01 17:35:36</td>\n",
              "      <td>0</td>\n",
              "      <td>52</td>\n",
              "      <td>271</td>\n",
              "      <td>1.0</td>\n",
              "      <td>108.0</td>\n",
              "      <td>False</td>\n",
              "      <td>267307</td>\n",
              "      <td>8873113</td>\n",
              "    </tr>\n",
              "    <tr>\n",
              "      <th>2</th>\n",
              "      <td>2020-09-01 19:19:21</td>\n",
              "      <td>0</td>\n",
              "      <td>52</td>\n",
              "      <td>271</td>\n",
              "      <td>1.0</td>\n",
              "      <td>107.95</td>\n",
              "      <td>False</td>\n",
              "      <td>610220</td>\n",
              "      <td>12712899</td>\n",
              "    </tr>\n",
              "    <tr>\n",
              "      <th>3</th>\n",
              "      <td>2020-09-01 21:53:34</td>\n",
              "      <td>0</td>\n",
              "      <td>52</td>\n",
              "      <td>271</td>\n",
              "      <td>1.0</td>\n",
              "      <td>108.0</td>\n",
              "      <td>False</td>\n",
              "      <td>441497</td>\n",
              "      <td>21535283</td>\n",
              "    </tr>\n",
              "    <tr>\n",
              "      <th>4</th>\n",
              "      <td>2020-09-01 18:42:31</td>\n",
              "      <td>0</td>\n",
              "      <td>61</td>\n",
              "      <td>97</td>\n",
              "      <td>2.0</td>\n",
              "      <td>88.0</td>\n",
              "      <td>False</td>\n",
              "      <td>1065358</td>\n",
              "      <td>642341</td>\n",
              "    </tr>\n",
              "  </tbody>\n",
              "</table>\n",
              "</div>"
            ]
          },
          "metadata": {
            "tags": []
          },
          "execution_count": 9
        }
      ]
    },
    {
      "cell_type": "code",
      "metadata": {
        "pycharm": {
          "name": "#%%\n"
        },
        "id": "0Hdx4zj2M3-7",
        "outputId": "29d9e92b-f0ce-4210-fbc6-11750652e9d3"
      },
      "source": [
        "cards.head()"
      ],
      "execution_count": null,
      "outputs": [
        {
          "output_type": "execute_result",
          "data": {
            "text/plain": [
              "   id_card  id_card_int\n",
              "0  8594499      1538855\n",
              "1  1452388       267307\n",
              "2  3493538       610220\n",
              "3  2491281       441497\n",
              "4  5732396      1065358"
            ],
            "text/html": [
              "<div>\n",
              "<style scoped>\n",
              "    .dataframe tbody tr th:only-of-type {\n",
              "        vertical-align: middle;\n",
              "    }\n",
              "\n",
              "    .dataframe tbody tr th {\n",
              "        vertical-align: top;\n",
              "    }\n",
              "\n",
              "    .dataframe thead th {\n",
              "        text-align: right;\n",
              "    }\n",
              "</style>\n",
              "<table border=\"1\" class=\"dataframe\">\n",
              "  <thead>\n",
              "    <tr style=\"text-align: right;\">\n",
              "      <th></th>\n",
              "      <th>id_card</th>\n",
              "      <th>id_card_int</th>\n",
              "    </tr>\n",
              "  </thead>\n",
              "  <tbody>\n",
              "    <tr>\n",
              "      <th>0</th>\n",
              "      <td>8594499</td>\n",
              "      <td>1538855</td>\n",
              "    </tr>\n",
              "    <tr>\n",
              "      <th>1</th>\n",
              "      <td>1452388</td>\n",
              "      <td>267307</td>\n",
              "    </tr>\n",
              "    <tr>\n",
              "      <th>2</th>\n",
              "      <td>3493538</td>\n",
              "      <td>610220</td>\n",
              "    </tr>\n",
              "    <tr>\n",
              "      <th>3</th>\n",
              "      <td>2491281</td>\n",
              "      <td>441497</td>\n",
              "    </tr>\n",
              "    <tr>\n",
              "      <th>4</th>\n",
              "      <td>5732396</td>\n",
              "      <td>1065358</td>\n",
              "    </tr>\n",
              "  </tbody>\n",
              "</table>\n",
              "</div>"
            ]
          },
          "metadata": {
            "tags": []
          },
          "execution_count": 10
        }
      ]
    },
    {
      "cell_type": "code",
      "metadata": {
        "pycharm": {
          "name": "#%%\n"
        },
        "id": "OyyREsJKM3-7",
        "outputId": "6ecf31a9-cbbe-4e5d-a7b2-93cb7d7d5676"
      },
      "source": [
        "doc.head()"
      ],
      "execution_count": null,
      "outputs": [
        {
          "output_type": "execute_result",
          "data": {
            "text/plain": [
              "                                 id_doc  id_doc_int\n",
              "0  0E05D308-5CEC-EA11-B444-005056A7539A     1283228\n",
              "1  610205A1-61EC-EA11-B444-005056A7539A     8873113\n",
              "2  8AF19602-70EC-EA11-B444-005056A7539A    12712899\n",
              "3  EB6C71A3-84EC-EA11-B444-005056A7539A    21535283\n",
              "4  0706023F-6BEC-EA11-B444-005056A7539A      642341"
            ],
            "text/html": [
              "<div>\n",
              "<style scoped>\n",
              "    .dataframe tbody tr th:only-of-type {\n",
              "        vertical-align: middle;\n",
              "    }\n",
              "\n",
              "    .dataframe tbody tr th {\n",
              "        vertical-align: top;\n",
              "    }\n",
              "\n",
              "    .dataframe thead th {\n",
              "        text-align: right;\n",
              "    }\n",
              "</style>\n",
              "<table border=\"1\" class=\"dataframe\">\n",
              "  <thead>\n",
              "    <tr style=\"text-align: right;\">\n",
              "      <th></th>\n",
              "      <th>id_doc</th>\n",
              "      <th>id_doc_int</th>\n",
              "    </tr>\n",
              "  </thead>\n",
              "  <tbody>\n",
              "    <tr>\n",
              "      <th>0</th>\n",
              "      <td>0E05D308-5CEC-EA11-B444-005056A7539A</td>\n",
              "      <td>1283228</td>\n",
              "    </tr>\n",
              "    <tr>\n",
              "      <th>1</th>\n",
              "      <td>610205A1-61EC-EA11-B444-005056A7539A</td>\n",
              "      <td>8873113</td>\n",
              "    </tr>\n",
              "    <tr>\n",
              "      <th>2</th>\n",
              "      <td>8AF19602-70EC-EA11-B444-005056A7539A</td>\n",
              "      <td>12712899</td>\n",
              "    </tr>\n",
              "    <tr>\n",
              "      <th>3</th>\n",
              "      <td>EB6C71A3-84EC-EA11-B444-005056A7539A</td>\n",
              "      <td>21535283</td>\n",
              "    </tr>\n",
              "    <tr>\n",
              "      <th>4</th>\n",
              "      <td>0706023F-6BEC-EA11-B444-005056A7539A</td>\n",
              "      <td>642341</td>\n",
              "    </tr>\n",
              "  </tbody>\n",
              "</table>\n",
              "</div>"
            ]
          },
          "metadata": {
            "tags": []
          },
          "execution_count": 11
        }
      ]
    },
    {
      "cell_type": "markdown",
      "metadata": {
        "collapsed": false,
        "pycharm": {
          "name": "#%% md\n"
        },
        "id": "ONruyv9cM3-8"
      },
      "source": [
        "A person (id_card) might be an outlier if\n",
        "\n",
        "* They buy a lot of products (high quantity)\n",
        "* They spend a lot of money per each transaction\n",
        "* They shop often\n",
        "* May be negative values in sum / quantity\n",
        "\n",
        "The above gives a pretty good, solid check for a real human customer"
      ]
    },
    {
      "cell_type": "markdown",
      "metadata": {
        "collapsed": false,
        "id": "AKZOPZShM3-8"
      },
      "source": [
        "First lets investigate the first point (buy a lot of products)\n",
        "\n",
        "And now for per-receipt statistics"
      ]
    },
    {
      "cell_type": "code",
      "metadata": {
        "pycharm": {
          "name": "#%%\n"
        },
        "id": "YGsIgvlvM3-8"
      },
      "source": [
        "per_receipt = df.groupby(['id_doc_int']).sum()"
      ],
      "execution_count": null,
      "outputs": []
    },
    {
      "cell_type": "code",
      "metadata": {
        "pycharm": {
          "name": "#%%\n"
        },
        "id": "lE8AF0ucM3-8",
        "outputId": "327aa9dc-0a1a-4607-bc55-0b8d944c8c1c"
      },
      "source": [
        "print(per_receipt['quantity'].describe())\n",
        "per_receipt[['quantity']].boxplot(whis=[0.05, 0.95])"
      ],
      "execution_count": null,
      "outputs": [
        {
          "output_type": "stream",
          "text": [
            "count          23417869.0\n",
            "mean    8.054924883429827\n",
            "std     72.19205452737451\n",
            "min                   0.0\n",
            "25%                 2.105\n",
            "50%                 4.808\n",
            "75%                 8.718\n",
            "max               10002.0\n",
            "Name: quantity, dtype: float64\n"
          ],
          "name": "stdout"
        },
        {
          "output_type": "execute_result",
          "data": {
            "text/plain": [
              "<AxesSubplot:>"
            ]
          },
          "metadata": {
            "tags": []
          },
          "execution_count": 13
        },
        {
          "output_type": "display_data",
          "data": {
            "text/plain": [
              "<Figure size 432x288 with 1 Axes>"
            ],
            "image/png": "[encoded data removed]"
          },
          "metadata": {
            "tags": [],
            "needs_background": "light"
          }
        }
      ]
    },
    {
      "cell_type": "markdown",
      "metadata": {
        "collapsed": false,
        "id": "2ji4HMGZM3-9"
      },
      "source": [
        "Someone is buying a lot of products, e.g. 10k items per one go\n",
        "\n",
        "It is safe to assume that person buying so many items per one go is suspicious (unreal scenario), so it's more likely an exchange between company branches, so lets remove them\n",
        "\n",
        "Let's remove top 5% buyers, because 20 items/receipt seems reasonable enough"
      ]
    },
    {
      "cell_type": "code",
      "metadata": {
        "pycharm": {
          "name": "#%%\n"
        },
        "id": "P-HqDFHdM3-9",
        "outputId": "54a627e9-4d17-4f84-9376-78f57402d251"
      },
      "source": [
        "shady = []\n",
        "threshold = per_receipt['quantity'].quantile(0.95)\n",
        "print('Threshold: ', threshold)\n",
        "buys_a_lot = per_receipt[per_receipt['quantity'] >= threshold]['id_card_int']\n",
        "shady += list(buys_a_lot)\n"
      ],
      "execution_count": null,
      "outputs": [
        {
          "output_type": "stream",
          "text": [
            "Threshold:  19.248\n"
          ],
          "name": "stdout"
        }
      ]
    },
    {
      "cell_type": "markdown",
      "metadata": {
        "collapsed": false,
        "pycharm": {
          "name": "#%% md\n"
        },
        "id": "QDc46Li8M3-9"
      },
      "source": [
        "Now lets check the money spend per each receipt"
      ]
    },
    {
      "cell_type": "code",
      "metadata": {
        "pycharm": {
          "name": "#%%\n"
        },
        "id": "LjHX9CJAM3-9",
        "outputId": "402b37d8-3622-4abe-c148-1bd8267080fa"
      },
      "source": [
        "print(per_receipt[['sum']].describe())\n",
        "per_receipt[['sum']].boxplot(whis=[0.05, 0.95])"
      ],
      "execution_count": null,
      "outputs": [
        {
          "output_type": "stream",
          "text": [
            "                    sum\n",
            "count        23417869.0\n",
            "mean  670.3900313999525\n",
            "std   723.3327520145556\n",
            "min                 0.0\n",
            "25%              220.32\n",
            "50%               443.8\n",
            "75%               853.0\n",
            "max             80405.0\n"
          ],
          "name": "stdout"
        },
        {
          "output_type": "execute_result",
          "data": {
            "text/plain": [
              "<AxesSubplot:>"
            ]
          },
          "metadata": {
            "tags": []
          },
          "execution_count": 15
        },
        {
          "output_type": "display_data",
          "data": {
            "text/plain": [
              "<Figure size 432x288 with 1 Axes>"
            ],
            "image/png": "[encoded data removed]"
          },
          "metadata": {
            "tags": [],
            "needs_background": "light"
          }
        }
      ]
    },
    {
      "cell_type": "markdown",
      "metadata": {
        "collapsed": false,
        "id": "0D_rf-n4M3--"
      },
      "source": [
        "Here the threshold seems to be pretty low, because it is easy to spend more than 2k in one go\n",
        "\n",
        "So, let's just use the threshold of 10k roubles, because it seems more reasonable"
      ]
    },
    {
      "cell_type": "code",
      "metadata": {
        "pycharm": {
          "name": "#%%\n"
        },
        "id": "H-8Fwg_sM3--",
        "outputId": "d12c44fe-1f63-4a86-e12e-ad9da0612e1f"
      },
      "source": [
        "threshold = per_receipt['sum'].quantile(0.95)\n",
        "print('Threshold: ', threshold)\n",
        "shady += list(per_receipt[per_receipt['sum'] >= 10000]['id_card_int'])\n",
        "len(shady)"
      ],
      "execution_count": null,
      "outputs": [
        {
          "output_type": "stream",
          "text": [
            "Threshold:  2025.71\n"
          ],
          "name": "stdout"
        },
        {
          "output_type": "execute_result",
          "data": {
            "text/plain": [
              "1173110"
            ]
          },
          "metadata": {
            "tags": []
          },
          "execution_count": 16
        }
      ]
    },
    {
      "cell_type": "markdown",
      "metadata": {
        "collapsed": false,
        "id": "PhtKKpHvM3--"
      },
      "source": [
        "Now let's check how often users buy things\n"
      ]
    },
    {
      "cell_type": "code",
      "metadata": {
        "pycharm": {
          "name": "#%%\n"
        },
        "id": "ZpqSrmsSM3--",
        "outputId": "74e0d981-6331-4580-878e-48b70e83a66a"
      },
      "source": [
        "buy_amount = df[['id_doc_int', 'id_card_int']].groupby(['id_card_int']).nunique().reset_index()\n",
        "print(buy_amount['id_doc_int'].describe())\n",
        "buy_amount[['id_doc_int']].boxplot()\n"
      ],
      "execution_count": null,
      "outputs": [
        {
          "output_type": "stream",
          "text": [
            "count            1944075.0\n",
            "mean    12.045764180908659\n",
            "std      227.5524853009231\n",
            "min                    1.0\n",
            "25%                    2.0\n",
            "50%                    5.0\n",
            "75%                   14.0\n",
            "max               316277.0\n",
            "Name: id_doc_int, dtype: float64\n"
          ],
          "name": "stdout"
        },
        {
          "output_type": "execute_result",
          "data": {
            "text/plain": [
              "<AxesSubplot:>"
            ]
          },
          "metadata": {
            "tags": []
          },
          "execution_count": 17
        },
        {
          "output_type": "display_data",
          "data": {
            "text/plain": [
              "<Figure size 432x288 with 1 Axes>"
            ],
            "image/png": "[encoded data removed]"
          },
          "metadata": {
            "tags": [],
            "needs_background": "light"
          }
        }
      ]
    },
    {
      "cell_type": "markdown",
      "metadata": {
        "collapsed": false,
        "id": "11y83YEnM3-_"
      },
      "source": [
        "Lets find that customer with 100k purchases per month"
      ]
    },
    {
      "cell_type": "code",
      "metadata": {
        "pycharm": {
          "name": "#%%\n"
        },
        "id": "xSu1KzxaM3-_",
        "outputId": "2b1642d5-ba96-4442-9d35-d9fd3f5895f9"
      },
      "source": [
        "hero = buy_amount.iloc[buy_amount.idxmax()['id_doc_int']]['id_card_int']\n",
        "hero = df[df['id_card_int'] == hero]\n",
        "hero.drop_duplicates(subset=['id_doc_int'])"
      ],
      "execution_count": null,
      "outputs": [
        {
          "output_type": "execute_result",
          "data": {
            "text/plain": [
              "                        date  id_order  id_tov  id_kontr  quantity   sum  \\\n",
              "1221     2020-09-01 13:41:07         0   20813     14782       1.0 168.0   \n",
              "1853     2020-09-01 18:51:35         0   27495     14911       1.0  34.0   \n",
              "1859     2020-09-01 18:04:23         0   27695     15385       2.0 152.0   \n",
              "2009     2020-09-01 16:47:24         0   31712     -9999       1.0 167.0   \n",
              "3068     2020-09-01 19:59:22         0   16306     13426       1.0 163.0   \n",
              "...                      ...       ...     ...       ...       ...   ...   \n",
              "46495735 2020-11-30 21:33:59         0   19493     20541       1.0 261.0   \n",
              "46495920 2020-11-30 17:39:59         0   22560     14186       1.0 135.0   \n",
              "46496028 2020-11-30 20:07:31         0   24554     12869       1.0 145.0   \n",
              "46496194 2020-11-30 11:16:22         0   31936     20031       2.0 180.0   \n",
              "46496309 2020-11-30 19:42:49         0   37581     20166       1.0 185.0   \n",
              "\n",
              "          is_green  id_card_int  id_doc_int  \n",
              "1221         False       883386    16003441  \n",
              "1853         False       883386    12641780  \n",
              "1859         False       883386    23313124  \n",
              "2009         False       883386     8364189  \n",
              "3068         False       883386    15013745  \n",
              "...            ...          ...         ...  \n",
              "46495735     False       883386     8972695  \n",
              "46495920     False       883386    15823137  \n",
              "46496028     False       883386    15684187  \n",
              "46496194     False       883386    21960612  \n",
              "46496309     False       883386     1912154  \n",
              "\n",
              "[316277 rows x 9 columns]"
            ],
            "text/html": [
              "<div>\n",
              "<style scoped>\n",
              "    .dataframe tbody tr th:only-of-type {\n",
              "        vertical-align: middle;\n",
              "    }\n",
              "\n",
              "    .dataframe tbody tr th {\n",
              "        vertical-align: top;\n",
              "    }\n",
              "\n",
              "    .dataframe thead th {\n",
              "        text-align: right;\n",
              "    }\n",
              "</style>\n",
              "<table border=\"1\" class=\"dataframe\">\n",
              "  <thead>\n",
              "    <tr style=\"text-align: right;\">\n",
              "      <th></th>\n",
              "      <th>date</th>\n",
              "      <th>id_order</th>\n",
              "      <th>id_tov</th>\n",
              "      <th>id_kontr</th>\n",
              "      <th>quantity</th>\n",
              "      <th>sum</th>\n",
              "      <th>is_green</th>\n",
              "      <th>id_card_int</th>\n",
              "      <th>id_doc_int</th>\n",
              "    </tr>\n",
              "  </thead>\n",
              "  <tbody>\n",
              "    <tr>\n",
              "      <th>1221</th>\n",
              "      <td>2020-09-01 13:41:07</td>\n",
              "      <td>0</td>\n",
              "      <td>20813</td>\n",
              "      <td>14782</td>\n",
              "      <td>1.0</td>\n",
              "      <td>168.0</td>\n",
              "      <td>False</td>\n",
              "      <td>883386</td>\n",
              "      <td>16003441</td>\n",
              "    </tr>\n",
              "    <tr>\n",
              "      <th>1853</th>\n",
              "      <td>2020-09-01 18:51:35</td>\n",
              "      <td>0</td>\n",
              "      <td>27495</td>\n",
              "      <td>14911</td>\n",
              "      <td>1.0</td>\n",
              "      <td>34.0</td>\n",
              "      <td>False</td>\n",
              "      <td>883386</td>\n",
              "      <td>12641780</td>\n",
              "    </tr>\n",
              "    <tr>\n",
              "      <th>1859</th>\n",
              "      <td>2020-09-01 18:04:23</td>\n",
              "      <td>0</td>\n",
              "      <td>27695</td>\n",
              "      <td>15385</td>\n",
              "      <td>2.0</td>\n",
              "      <td>152.0</td>\n",
              "      <td>False</td>\n",
              "      <td>883386</td>\n",
              "      <td>23313124</td>\n",
              "    </tr>\n",
              "    <tr>\n",
              "      <th>2009</th>\n",
              "      <td>2020-09-01 16:47:24</td>\n",
              "      <td>0</td>\n",
              "      <td>31712</td>\n",
              "      <td>-9999</td>\n",
              "      <td>1.0</td>\n",
              "      <td>167.0</td>\n",
              "      <td>False</td>\n",
              "      <td>883386</td>\n",
              "      <td>8364189</td>\n",
              "    </tr>\n",
              "    <tr>\n",
              "      <th>3068</th>\n",
              "      <td>2020-09-01 19:59:22</td>\n",
              "      <td>0</td>\n",
              "      <td>16306</td>\n",
              "      <td>13426</td>\n",
              "      <td>1.0</td>\n",
              "      <td>163.0</td>\n",
              "      <td>False</td>\n",
              "      <td>883386</td>\n",
              "      <td>15013745</td>\n",
              "    </tr>\n",
              "    <tr>\n",
              "      <th>...</th>\n",
              "      <td>...</td>\n",
              "      <td>...</td>\n",
              "      <td>...</td>\n",
              "      <td>...</td>\n",
              "      <td>...</td>\n",
              "      <td>...</td>\n",
              "      <td>...</td>\n",
              "      <td>...</td>\n",
              "      <td>...</td>\n",
              "    </tr>\n",
              "    <tr>\n",
              "      <th>46495735</th>\n",
              "      <td>2020-11-30 21:33:59</td>\n",
              "      <td>0</td>\n",
              "      <td>19493</td>\n",
              "      <td>20541</td>\n",
              "      <td>1.0</td>\n",
              "      <td>261.0</td>\n",
              "      <td>False</td>\n",
              "      <td>883386</td>\n",
              "      <td>8972695</td>\n",
              "    </tr>\n",
              "    <tr>\n",
              "      <th>46495920</th>\n",
              "      <td>2020-11-30 17:39:59</td>\n",
              "      <td>0</td>\n",
              "      <td>22560</td>\n",
              "      <td>14186</td>\n",
              "      <td>1.0</td>\n",
              "      <td>135.0</td>\n",
              "      <td>False</td>\n",
              "      <td>883386</td>\n",
              "      <td>15823137</td>\n",
              "    </tr>\n",
              "    <tr>\n",
              "      <th>46496028</th>\n",
              "      <td>2020-11-30 20:07:31</td>\n",
              "      <td>0</td>\n",
              "      <td>24554</td>\n",
              "      <td>12869</td>\n",
              "      <td>1.0</td>\n",
              "      <td>145.0</td>\n",
              "      <td>False</td>\n",
              "      <td>883386</td>\n",
              "      <td>15684187</td>\n",
              "    </tr>\n",
              "    <tr>\n",
              "      <th>46496194</th>\n",
              "      <td>2020-11-30 11:16:22</td>\n",
              "      <td>0</td>\n",
              "      <td>31936</td>\n",
              "      <td>20031</td>\n",
              "      <td>2.0</td>\n",
              "      <td>180.0</td>\n",
              "      <td>False</td>\n",
              "      <td>883386</td>\n",
              "      <td>21960612</td>\n",
              "    </tr>\n",
              "    <tr>\n",
              "      <th>46496309</th>\n",
              "      <td>2020-11-30 19:42:49</td>\n",
              "      <td>0</td>\n",
              "      <td>37581</td>\n",
              "      <td>20166</td>\n",
              "      <td>1.0</td>\n",
              "      <td>185.0</td>\n",
              "      <td>False</td>\n",
              "      <td>883386</td>\n",
              "      <td>1912154</td>\n",
              "    </tr>\n",
              "  </tbody>\n",
              "</table>\n",
              "<p>316277 rows × 9 columns</p>\n",
              "</div>"
            ]
          },
          "metadata": {
            "tags": []
          },
          "execution_count": 24
        }
      ]
    },
    {
      "cell_type": "markdown",
      "metadata": {
        "collapsed": false,
        "pycharm": {
          "name": "#%% md\n"
        },
        "id": "iClujSXvM3-_"
      },
      "source": [
        "More than 300 purchases in a time span of 3 months seems to be a little unrealistic value for the real customer\n",
        "\n",
        "So, let's just use something like 40 as a threshold, it means that person goes shopping 3-4 times a week"
      ]
    },
    {
      "cell_type": "code",
      "metadata": {
        "pycharm": {
          "name": "#%%\n"
        },
        "id": "0OQkBHB5M3-_",
        "outputId": "ccc4cb71-9457-480a-dadb-d570498b7706"
      },
      "source": [
        "threshold = buy_amount[['id_doc_int']].quantile(0.95)\n",
        "print('Threshold: ', threshold)\n",
        "shady += list(buy_amount[buy_amount[['id_doc_int']] >= 50]['id_card_int'])\n",
        "len(shady)\n"
      ],
      "execution_count": null,
      "outputs": [
        {
          "output_type": "stream",
          "text": [
            "Threshold:  id_doc_int   48.0\n",
            "Name: 0.95, dtype: float64\n"
          ],
          "name": "stdout"
        },
        {
          "output_type": "execute_result",
          "data": {
            "text/plain": [
              "3117185"
            ]
          },
          "metadata": {
            "tags": []
          },
          "execution_count": 19
        }
      ]
    },
    {
      "cell_type": "markdown",
      "metadata": {
        "collapsed": false,
        "pycharm": {
          "name": "#%% md\n"
        },
        "id": "BMxJ5UqjM3-_"
      },
      "source": [
        "Now let's consider negative and zero costs and quantities, first lets find out how frequent they are"
      ]
    },
    {
      "cell_type": "code",
      "metadata": {
        "pycharm": {
          "name": "#%%\n"
        },
        "id": "SIvOztCSM3_A",
        "outputId": "d2e66d48-9497-40e2-ec11-ce293c690129"
      },
      "source": [
        "df[df[\"quantity\"] < 0]"
      ],
      "execution_count": null,
      "outputs": [
        {
          "output_type": "execute_result",
          "data": {
            "text/plain": [
              "                       date  id_order  id_tov  id_kontr  quantity    sum  \\\n",
              "4206093 2020-09-04 09:10:21         0   23074     19269    -1.268 470.43   \n",
              "4206103 2020-09-04 09:09:24         0   23074     19269    -1.268 470.43   \n",
              "4210123 2020-09-04 08:37:00         0   23074     19269    -1.084 402.16   \n",
              "4218020 2020-09-04 08:43:37         0   23074     19269    -0.001   0.37   \n",
              "4218022 2020-09-04 08:43:37         0   23074     19269    -2.375 881.13   \n",
              "...                     ...       ...     ...       ...       ...    ...   \n",
              "5382631 2020-09-04 09:13:44         0   23074     19269    -0.692 256.73   \n",
              "5396781 2020-09-04 08:37:49         0   23074     19269    -1.236 458.56   \n",
              "5438902 2020-09-04 09:28:21         0   23074     19269    -0.572 212.21   \n",
              "5450158 2020-09-04 09:21:17         0   23074     19269    -0.915 339.47   \n",
              "5450160 2020-09-04 09:21:17         0   23074     19269    -0.915 339.47   \n",
              "\n",
              "         is_green  id_card_int  id_doc_int  \n",
              "4206093     False      1301664    11939194  \n",
              "4206103     False      1419650    22549976  \n",
              "4210123     False      1035577     6745380  \n",
              "4218020     False       126995    16694740  \n",
              "4218022     False       126995    16694740  \n",
              "...           ...          ...         ...  \n",
              "5382631     False      1538576    12752264  \n",
              "5396781     False       906517     2630312  \n",
              "5438902     False      1102820    21125316  \n",
              "5450158     False       574393    18763274  \n",
              "5450160     False       574393    18763274  \n",
              "\n",
              "[68 rows x 9 columns]"
            ],
            "text/html": [
              "<div>\n",
              "<style scoped>\n",
              "    .dataframe tbody tr th:only-of-type {\n",
              "        vertical-align: middle;\n",
              "    }\n",
              "\n",
              "    .dataframe tbody tr th {\n",
              "        vertical-align: top;\n",
              "    }\n",
              "\n",
              "    .dataframe thead th {\n",
              "        text-align: right;\n",
              "    }\n",
              "</style>\n",
              "<table border=\"1\" class=\"dataframe\">\n",
              "  <thead>\n",
              "    <tr style=\"text-align: right;\">\n",
              "      <th></th>\n",
              "      <th>date</th>\n",
              "      <th>id_order</th>\n",
              "      <th>id_tov</th>\n",
              "      <th>id_kontr</th>\n",
              "      <th>quantity</th>\n",
              "      <th>sum</th>\n",
              "      <th>is_green</th>\n",
              "      <th>id_card_int</th>\n",
              "      <th>id_doc_int</th>\n",
              "    </tr>\n",
              "  </thead>\n",
              "  <tbody>\n",
              "    <tr>\n",
              "      <th>4206093</th>\n",
              "      <td>2020-09-04 09:10:21</td>\n",
              "      <td>0</td>\n",
              "      <td>23074</td>\n",
              "      <td>19269</td>\n",
              "      <td>-1.268</td>\n",
              "      <td>470.43</td>\n",
              "      <td>False</td>\n",
              "      <td>1301664</td>\n",
              "      <td>11939194</td>\n",
              "    </tr>\n",
              "    <tr>\n",
              "      <th>4206103</th>\n",
              "      <td>2020-09-04 09:09:24</td>\n",
              "      <td>0</td>\n",
              "      <td>23074</td>\n",
              "      <td>19269</td>\n",
              "      <td>-1.268</td>\n",
              "      <td>470.43</td>\n",
              "      <td>False</td>\n",
              "      <td>1419650</td>\n",
              "      <td>22549976</td>\n",
              "    </tr>\n",
              "    <tr>\n",
              "      <th>4210123</th>\n",
              "      <td>2020-09-04 08:37:00</td>\n",
              "      <td>0</td>\n",
              "      <td>23074</td>\n",
              "      <td>19269</td>\n",
              "      <td>-1.084</td>\n",
              "      <td>402.16</td>\n",
              "      <td>False</td>\n",
              "      <td>1035577</td>\n",
              "      <td>6745380</td>\n",
              "    </tr>\n",
              "    <tr>\n",
              "      <th>4218020</th>\n",
              "      <td>2020-09-04 08:43:37</td>\n",
              "      <td>0</td>\n",
              "      <td>23074</td>\n",
              "      <td>19269</td>\n",
              "      <td>-0.001</td>\n",
              "      <td>0.37</td>\n",
              "      <td>False</td>\n",
              "      <td>126995</td>\n",
              "      <td>16694740</td>\n",
              "    </tr>\n",
              "    <tr>\n",
              "      <th>4218022</th>\n",
              "      <td>2020-09-04 08:43:37</td>\n",
              "      <td>0</td>\n",
              "      <td>23074</td>\n",
              "      <td>19269</td>\n",
              "      <td>-2.375</td>\n",
              "      <td>881.13</td>\n",
              "      <td>False</td>\n",
              "      <td>126995</td>\n",
              "      <td>16694740</td>\n",
              "    </tr>\n",
              "    <tr>\n",
              "      <th>...</th>\n",
              "      <td>...</td>\n",
              "      <td>...</td>\n",
              "      <td>...</td>\n",
              "      <td>...</td>\n",
              "      <td>...</td>\n",
              "      <td>...</td>\n",
              "      <td>...</td>\n",
              "      <td>...</td>\n",
              "      <td>...</td>\n",
              "    </tr>\n",
              "    <tr>\n",
              "      <th>5382631</th>\n",
              "      <td>2020-09-04 09:13:44</td>\n",
              "      <td>0</td>\n",
              "      <td>23074</td>\n",
              "      <td>19269</td>\n",
              "      <td>-0.692</td>\n",
              "      <td>256.73</td>\n",
              "      <td>False</td>\n",
              "      <td>1538576</td>\n",
              "      <td>12752264</td>\n",
              "    </tr>\n",
              "    <tr>\n",
              "      <th>5396781</th>\n",
              "      <td>2020-09-04 08:37:49</td>\n",
              "      <td>0</td>\n",
              "      <td>23074</td>\n",
              "      <td>19269</td>\n",
              "      <td>-1.236</td>\n",
              "      <td>458.56</td>\n",
              "      <td>False</td>\n",
              "      <td>906517</td>\n",
              "      <td>2630312</td>\n",
              "    </tr>\n",
              "    <tr>\n",
              "      <th>5438902</th>\n",
              "      <td>2020-09-04 09:28:21</td>\n",
              "      <td>0</td>\n",
              "      <td>23074</td>\n",
              "      <td>19269</td>\n",
              "      <td>-0.572</td>\n",
              "      <td>212.21</td>\n",
              "      <td>False</td>\n",
              "      <td>1102820</td>\n",
              "      <td>21125316</td>\n",
              "    </tr>\n",
              "    <tr>\n",
              "      <th>5450158</th>\n",
              "      <td>2020-09-04 09:21:17</td>\n",
              "      <td>0</td>\n",
              "      <td>23074</td>\n",
              "      <td>19269</td>\n",
              "      <td>-0.915</td>\n",
              "      <td>339.47</td>\n",
              "      <td>False</td>\n",
              "      <td>574393</td>\n",
              "      <td>18763274</td>\n",
              "    </tr>\n",
              "    <tr>\n",
              "      <th>5450160</th>\n",
              "      <td>2020-09-04 09:21:17</td>\n",
              "      <td>0</td>\n",
              "      <td>23074</td>\n",
              "      <td>19269</td>\n",
              "      <td>-0.915</td>\n",
              "      <td>339.47</td>\n",
              "      <td>False</td>\n",
              "      <td>574393</td>\n",
              "      <td>18763274</td>\n",
              "    </tr>\n",
              "  </tbody>\n",
              "</table>\n",
              "<p>68 rows × 9 columns</p>\n",
              "</div>"
            ]
          },
          "metadata": {
            "tags": []
          },
          "execution_count": 20
        }
      ]
    },
    {
      "cell_type": "code",
      "metadata": {
        "pycharm": {
          "name": "#%%\n"
        },
        "id": "qpJN8PWEM3_A",
        "outputId": "7ae3c7b8-45ec-42df-c9a4-e766d1b9ecb0"
      },
      "source": [
        "df[df[\"sum\"] < 0]\n"
      ],
      "execution_count": null,
      "outputs": [
        {
          "output_type": "execute_result",
          "data": {
            "text/plain": [
              "                        date  id_order  id_tov  id_kontr  quantity     sum  \\\n",
              "4206092  2020-09-04 09:10:21         0   23074     19269     1.268 -470.43   \n",
              "4206102  2020-09-04 09:09:24         0   23074     19269     1.268 -470.43   \n",
              "4210124  2020-09-04 08:37:00         0   23074     19269     1.084 -402.16   \n",
              "4218019  2020-09-04 08:43:37         0   23074     19269     0.001   -0.37   \n",
              "4218021  2020-09-04 08:43:37         0   23074     19269     2.375 -881.13   \n",
              "...                      ...       ...     ...       ...       ...     ...   \n",
              "5396780  2020-09-04 08:37:49         0   23074     19269     1.236 -458.56   \n",
              "5438901  2020-09-04 09:28:21         0   23074     19269     0.572 -212.21   \n",
              "5450157  2020-09-04 09:21:17         0   23074     19269     0.915 -339.47   \n",
              "5450159  2020-09-04 09:21:17         0   23074     19269     0.915 -339.47   \n",
              "37898334 2020-09-28 20:07:06   6587167   22492       102       1.0   -0.01   \n",
              "\n",
              "          is_green  id_card_int  id_doc_int  \n",
              "4206092      False      1301664    11939194  \n",
              "4206102      False      1419650    22549976  \n",
              "4210124      False      1035577     6745380  \n",
              "4218019      False       126995    16694740  \n",
              "4218021      False       126995    16694740  \n",
              "...            ...          ...         ...  \n",
              "5396780      False       906517     2630312  \n",
              "5438901      False      1102820    21125316  \n",
              "5450157      False       574393    18763274  \n",
              "5450159      False       574393    18763274  \n",
              "37898334     False       322028    13550999  \n",
              "\n",
              "[69 rows x 9 columns]"
            ],
            "text/html": [
              "<div>\n",
              "<style scoped>\n",
              "    .dataframe tbody tr th:only-of-type {\n",
              "        vertical-align: middle;\n",
              "    }\n",
              "\n",
              "    .dataframe tbody tr th {\n",
              "        vertical-align: top;\n",
              "    }\n",
              "\n",
              "    .dataframe thead th {\n",
              "        text-align: right;\n",
              "    }\n",
              "</style>\n",
              "<table border=\"1\" class=\"dataframe\">\n",
              "  <thead>\n",
              "    <tr style=\"text-align: right;\">\n",
              "      <th></th>\n",
              "      <th>date</th>\n",
              "      <th>id_order</th>\n",
              "      <th>id_tov</th>\n",
              "      <th>id_kontr</th>\n",
              "      <th>quantity</th>\n",
              "      <th>sum</th>\n",
              "      <th>is_green</th>\n",
              "      <th>id_card_int</th>\n",
              "      <th>id_doc_int</th>\n",
              "    </tr>\n",
              "  </thead>\n",
              "  <tbody>\n",
              "    <tr>\n",
              "      <th>4206092</th>\n",
              "      <td>2020-09-04 09:10:21</td>\n",
              "      <td>0</td>\n",
              "      <td>23074</td>\n",
              "      <td>19269</td>\n",
              "      <td>1.268</td>\n",
              "      <td>-470.43</td>\n",
              "      <td>False</td>\n",
              "      <td>1301664</td>\n",
              "      <td>11939194</td>\n",
              "    </tr>\n",
              "    <tr>\n",
              "      <th>4206102</th>\n",
              "      <td>2020-09-04 09:09:24</td>\n",
              "      <td>0</td>\n",
              "      <td>23074</td>\n",
              "      <td>19269</td>\n",
              "      <td>1.268</td>\n",
              "      <td>-470.43</td>\n",
              "      <td>False</td>\n",
              "      <td>1419650</td>\n",
              "      <td>22549976</td>\n",
              "    </tr>\n",
              "    <tr>\n",
              "      <th>4210124</th>\n",
              "      <td>2020-09-04 08:37:00</td>\n",
              "      <td>0</td>\n",
              "      <td>23074</td>\n",
              "      <td>19269</td>\n",
              "      <td>1.084</td>\n",
              "      <td>-402.16</td>\n",
              "      <td>False</td>\n",
              "      <td>1035577</td>\n",
              "      <td>6745380</td>\n",
              "    </tr>\n",
              "    <tr>\n",
              "      <th>4218019</th>\n",
              "      <td>2020-09-04 08:43:37</td>\n",
              "      <td>0</td>\n",
              "      <td>23074</td>\n",
              "      <td>19269</td>\n",
              "      <td>0.001</td>\n",
              "      <td>-0.37</td>\n",
              "      <td>False</td>\n",
              "      <td>126995</td>\n",
              "      <td>16694740</td>\n",
              "    </tr>\n",
              "    <tr>\n",
              "      <th>4218021</th>\n",
              "      <td>2020-09-04 08:43:37</td>\n",
              "      <td>0</td>\n",
              "      <td>23074</td>\n",
              "      <td>19269</td>\n",
              "      <td>2.375</td>\n",
              "      <td>-881.13</td>\n",
              "      <td>False</td>\n",
              "      <td>126995</td>\n",
              "      <td>16694740</td>\n",
              "    </tr>\n",
              "    <tr>\n",
              "      <th>...</th>\n",
              "      <td>...</td>\n",
              "      <td>...</td>\n",
              "      <td>...</td>\n",
              "      <td>...</td>\n",
              "      <td>...</td>\n",
              "      <td>...</td>\n",
              "      <td>...</td>\n",
              "      <td>...</td>\n",
              "      <td>...</td>\n",
              "    </tr>\n",
              "    <tr>\n",
              "      <th>5396780</th>\n",
              "      <td>2020-09-04 08:37:49</td>\n",
              "      <td>0</td>\n",
              "      <td>23074</td>\n",
              "      <td>19269</td>\n",
              "      <td>1.236</td>\n",
              "      <td>-458.56</td>\n",
              "      <td>False</td>\n",
              "      <td>906517</td>\n",
              "      <td>2630312</td>\n",
              "    </tr>\n",
              "    <tr>\n",
              "      <th>5438901</th>\n",
              "      <td>2020-09-04 09:28:21</td>\n",
              "      <td>0</td>\n",
              "      <td>23074</td>\n",
              "      <td>19269</td>\n",
              "      <td>0.572</td>\n",
              "      <td>-212.21</td>\n",
              "      <td>False</td>\n",
              "      <td>1102820</td>\n",
              "      <td>21125316</td>\n",
              "    </tr>\n",
              "    <tr>\n",
              "      <th>5450157</th>\n",
              "      <td>2020-09-04 09:21:17</td>\n",
              "      <td>0</td>\n",
              "      <td>23074</td>\n",
              "      <td>19269</td>\n",
              "      <td>0.915</td>\n",
              "      <td>-339.47</td>\n",
              "      <td>False</td>\n",
              "      <td>574393</td>\n",
              "      <td>18763274</td>\n",
              "    </tr>\n",
              "    <tr>\n",
              "      <th>5450159</th>\n",
              "      <td>2020-09-04 09:21:17</td>\n",
              "      <td>0</td>\n",
              "      <td>23074</td>\n",
              "      <td>19269</td>\n",
              "      <td>0.915</td>\n",
              "      <td>-339.47</td>\n",
              "      <td>False</td>\n",
              "      <td>574393</td>\n",
              "      <td>18763274</td>\n",
              "    </tr>\n",
              "    <tr>\n",
              "      <th>37898334</th>\n",
              "      <td>2020-09-28 20:07:06</td>\n",
              "      <td>6587167</td>\n",
              "      <td>22492</td>\n",
              "      <td>102</td>\n",
              "      <td>1.0</td>\n",
              "      <td>-0.01</td>\n",
              "      <td>False</td>\n",
              "      <td>322028</td>\n",
              "      <td>13550999</td>\n",
              "    </tr>\n",
              "  </tbody>\n",
              "</table>\n",
              "<p>69 rows × 9 columns</p>\n",
              "</div>"
            ]
          },
          "metadata": {
            "tags": []
          },
          "execution_count": 21
        }
      ]
    },
    {
      "cell_type": "markdown",
      "metadata": {
        "collapsed": false,
        "id": "nUtKreoOM3_A"
      },
      "source": [
        "Not really, possibly those are just mistakes or their refund system - as you can see, the difference between the two tables is only the sign of quantity and sums\n",
        "\n",
        "Maybe those are users returning their goods backs or something like that. No actions should be taken\n",
        "\n",
        "Final step will be to deduplicate the list of \"suspicious\" users"
      ]
    },
    {
      "cell_type": "code",
      "metadata": {
        "pycharm": {
          "name": "#%%\n"
        },
        "id": "ovocno2TM3_A"
      },
      "source": [
        "shady_users = pd.DataFrame(shady).drop_duplicates()\n",
        "with bz2.open('out.pkl.bz2', 'wb') as out:\n",
        "    pickle.dump(shady, out)"
      ],
      "execution_count": null,
      "outputs": []
    },
    {
      "cell_type": "markdown",
      "metadata": {
        "collapsed": false,
        "pycharm": {
          "name": "#%% md\n"
        },
        "id": "pYtoCBe_M3_A"
      },
      "source": [
        "In total, almost a million of users is considered as outliers"
      ]
    },
    {
      "cell_type": "code",
      "metadata": {
        "pycharm": {
          "name": "#%%\n"
        },
        "id": "mO9AShcEM3_B",
        "outputId": "e2da5ed7-f692-480c-c1c1-60affae601e5"
      },
      "source": [
        "len(shady_users)\n",
        "\n"
      ],
      "execution_count": null,
      "outputs": [
        {
          "output_type": "execute_result",
          "data": {
            "text/plain": [
              "924567"
            ]
          },
          "metadata": {
            "tags": []
          },
          "execution_count": 23
        }
      ]
    }
  ]
}