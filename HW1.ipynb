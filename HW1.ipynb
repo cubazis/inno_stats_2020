{
 "cells": [
  {
   "cell_type": "code",
   "execution_count": 1,
   "id": "exempt-andorra",
   "metadata": {},
   "outputs": [],
   "source": [
    "import pickle\n",
    "import pandas as pd\n",
    "from pathlib import Path\n",
    "import bz2"
   ]
  },
  {
   "cell_type": "code",
   "execution_count": 3,
   "id": "infinite-combination",
   "metadata": {},
   "outputs": [],
   "source": [
    "data_path = Path('./data/').resolve()\n",
    "file_path = data_path/'products_20200901.txt' "
   ]
  },
  {
   "cell_type": "markdown",
   "id": "crazy-treasury",
   "metadata": {},
   "source": [
    "### Fix the card labels and doc labels"
   ]
  },
  {
   "cell_type": "code",
   "execution_count": 2,
   "id": "primary-static",
   "metadata": {},
   "outputs": [],
   "source": [
    "with open(\"doc_lbe.pkl\", \"rb\") as f:\n",
    "    doc_lbe = pickle.load(f)"
   ]
  },
  {
   "cell_type": "code",
   "execution_count": 3,
   "id": "amateur-palestinian",
   "metadata": {},
   "outputs": [],
   "source": [
    "with open(\"card_lbe.pkl\", \"rb\") as f:\n",
    "    card_lbe = pickle.load(f) "
   ]
  },
  {
   "cell_type": "code",
   "execution_count": 5,
   "id": "secondary-details",
   "metadata": {},
   "outputs": [],
   "source": [
    "with bz2.open(data_path / '09_prepared.pkl.bz2', 'rb') as f:\n",
    "    df = pickle.load(f)"
   ]
  },
  {
   "cell_type": "code",
   "execution_count": 6,
   "id": "standing-furniture",
   "metadata": {},
   "outputs": [
    {
     "data": {
      "text/html": [
       "<div>\n",
       "<style scoped>\n",
       "    .dataframe tbody tr th:only-of-type {\n",
       "        vertical-align: middle;\n",
       "    }\n",
       "\n",
       "    .dataframe tbody tr th {\n",
       "        vertical-align: top;\n",
       "    }\n",
       "\n",
       "    .dataframe thead th {\n",
       "        text-align: right;\n",
       "    }\n",
       "</style>\n",
       "<table border=\"1\" class=\"dataframe\">\n",
       "  <thead>\n",
       "    <tr style=\"text-align: right;\">\n",
       "      <th></th>\n",
       "      <th>date</th>\n",
       "      <th>id_doc</th>\n",
       "      <th>id_order</th>\n",
       "      <th>id_card</th>\n",
       "      <th>id_tov</th>\n",
       "      <th>id_kontr</th>\n",
       "      <th>quantity</th>\n",
       "      <th>sum</th>\n",
       "      <th>is_green</th>\n",
       "      <th>id_card_int</th>\n",
       "      <th>id_doc_int</th>\n",
       "    </tr>\n",
       "  </thead>\n",
       "  <tbody>\n",
       "    <tr>\n",
       "      <th>0</th>\n",
       "      <td>2020-09-01 17:01:25</td>\n",
       "      <td>0E05D308-5CEC-EA11-B444-005056A7539A</td>\n",
       "      <td>0</td>\n",
       "      <td>8594499</td>\n",
       "      <td>52</td>\n",
       "      <td>271</td>\n",
       "      <td>1.0</td>\n",
       "      <td>108.00</td>\n",
       "      <td>False</td>\n",
       "      <td>1118108</td>\n",
       "      <td>422300</td>\n",
       "    </tr>\n",
       "    <tr>\n",
       "      <th>1</th>\n",
       "      <td>2020-09-01 17:35:36</td>\n",
       "      <td>610205A1-61EC-EA11-B444-005056A7539A</td>\n",
       "      <td>0</td>\n",
       "      <td>1452388</td>\n",
       "      <td>52</td>\n",
       "      <td>271</td>\n",
       "      <td>1.0</td>\n",
       "      <td>108.00</td>\n",
       "      <td>False</td>\n",
       "      <td>204303</td>\n",
       "      <td>2923150</td>\n",
       "    </tr>\n",
       "    <tr>\n",
       "      <th>2</th>\n",
       "      <td>2020-09-01 19:19:21</td>\n",
       "      <td>8AF19602-70EC-EA11-B444-005056A7539A</td>\n",
       "      <td>0</td>\n",
       "      <td>3493538</td>\n",
       "      <td>52</td>\n",
       "      <td>271</td>\n",
       "      <td>1.0</td>\n",
       "      <td>107.95</td>\n",
       "      <td>False</td>\n",
       "      <td>456063</td>\n",
       "      <td>4186546</td>\n",
       "    </tr>\n",
       "    <tr>\n",
       "      <th>3</th>\n",
       "      <td>2020-09-01 21:53:34</td>\n",
       "      <td>EB6C71A3-84EC-EA11-B444-005056A7539A</td>\n",
       "      <td>0</td>\n",
       "      <td>2491281</td>\n",
       "      <td>52</td>\n",
       "      <td>271</td>\n",
       "      <td>1.0</td>\n",
       "      <td>108.00</td>\n",
       "      <td>False</td>\n",
       "      <td>333334</td>\n",
       "      <td>7089452</td>\n",
       "    </tr>\n",
       "    <tr>\n",
       "      <th>4</th>\n",
       "      <td>2020-09-01 18:42:31</td>\n",
       "      <td>0706023F-6BEC-EA11-B444-005056A7539A</td>\n",
       "      <td>0</td>\n",
       "      <td>5732396</td>\n",
       "      <td>61</td>\n",
       "      <td>97</td>\n",
       "      <td>2.0</td>\n",
       "      <td>88.00</td>\n",
       "      <td>False</td>\n",
       "      <td>782332</td>\n",
       "      <td>211162</td>\n",
       "    </tr>\n",
       "  </tbody>\n",
       "</table>\n",
       "</div>"
      ],
      "text/plain": [
       "                 date                                id_doc  id_order  \\\n",
       "0 2020-09-01 17:01:25  0E05D308-5CEC-EA11-B444-005056A7539A         0   \n",
       "1 2020-09-01 17:35:36  610205A1-61EC-EA11-B444-005056A7539A         0   \n",
       "2 2020-09-01 19:19:21  8AF19602-70EC-EA11-B444-005056A7539A         0   \n",
       "3 2020-09-01 21:53:34  EB6C71A3-84EC-EA11-B444-005056A7539A         0   \n",
       "4 2020-09-01 18:42:31  0706023F-6BEC-EA11-B444-005056A7539A         0   \n",
       "\n",
       "   id_card  id_tov  id_kontr  quantity     sum  is_green  id_card_int  \\\n",
       "0  8594499      52       271       1.0  108.00     False      1118108   \n",
       "1  1452388      52       271       1.0  108.00     False       204303   \n",
       "2  3493538      52       271       1.0  107.95     False       456063   \n",
       "3  2491281      52       271       1.0  108.00     False       333334   \n",
       "4  5732396      61        97       2.0   88.00     False       782332   \n",
       "\n",
       "   id_doc_int  \n",
       "0      422300  \n",
       "1     2923150  \n",
       "2     4186546  \n",
       "3     7089452  \n",
       "4      211162  "
      ]
     },
     "execution_count": 6,
     "metadata": {},
     "output_type": "execute_result"
    }
   ],
   "source": [
    "df.head()"
   ]
  },
  {
   "cell_type": "code",
   "execution_count": 7,
   "id": "ranking-sunset",
   "metadata": {},
   "outputs": [],
   "source": [
    "df[\"id_card_int\"] = card_lbe[\"id_card_int\"]\n",
    "df[\"id_doc_int\"] = doc_lbe[\"id_doc_int\"]"
   ]
  },
  {
   "cell_type": "code",
   "execution_count": 8,
   "id": "physical-increase",
   "metadata": {},
   "outputs": [
    {
     "data": {
      "text/html": [
       "<div>\n",
       "<style scoped>\n",
       "    .dataframe tbody tr th:only-of-type {\n",
       "        vertical-align: middle;\n",
       "    }\n",
       "\n",
       "    .dataframe tbody tr th {\n",
       "        vertical-align: top;\n",
       "    }\n",
       "\n",
       "    .dataframe thead th {\n",
       "        text-align: right;\n",
       "    }\n",
       "</style>\n",
       "<table border=\"1\" class=\"dataframe\">\n",
       "  <thead>\n",
       "    <tr style=\"text-align: right;\">\n",
       "      <th></th>\n",
       "      <th>date</th>\n",
       "      <th>id_doc</th>\n",
       "      <th>id_order</th>\n",
       "      <th>id_card</th>\n",
       "      <th>id_tov</th>\n",
       "      <th>id_kontr</th>\n",
       "      <th>quantity</th>\n",
       "      <th>sum</th>\n",
       "      <th>is_green</th>\n",
       "      <th>id_card_int</th>\n",
       "      <th>id_doc_int</th>\n",
       "    </tr>\n",
       "  </thead>\n",
       "  <tbody>\n",
       "    <tr>\n",
       "      <th>0</th>\n",
       "      <td>2020-09-01 17:01:25</td>\n",
       "      <td>0E05D308-5CEC-EA11-B444-005056A7539A</td>\n",
       "      <td>0</td>\n",
       "      <td>8594499</td>\n",
       "      <td>52</td>\n",
       "      <td>271</td>\n",
       "      <td>1.0</td>\n",
       "      <td>108.00</td>\n",
       "      <td>False</td>\n",
       "      <td>1538855.0</td>\n",
       "      <td>1283228.0</td>\n",
       "    </tr>\n",
       "    <tr>\n",
       "      <th>1</th>\n",
       "      <td>2020-09-01 17:35:36</td>\n",
       "      <td>610205A1-61EC-EA11-B444-005056A7539A</td>\n",
       "      <td>0</td>\n",
       "      <td>1452388</td>\n",
       "      <td>52</td>\n",
       "      <td>271</td>\n",
       "      <td>1.0</td>\n",
       "      <td>108.00</td>\n",
       "      <td>False</td>\n",
       "      <td>267307.0</td>\n",
       "      <td>8873113.0</td>\n",
       "    </tr>\n",
       "    <tr>\n",
       "      <th>2</th>\n",
       "      <td>2020-09-01 19:19:21</td>\n",
       "      <td>8AF19602-70EC-EA11-B444-005056A7539A</td>\n",
       "      <td>0</td>\n",
       "      <td>3493538</td>\n",
       "      <td>52</td>\n",
       "      <td>271</td>\n",
       "      <td>1.0</td>\n",
       "      <td>107.95</td>\n",
       "      <td>False</td>\n",
       "      <td>610220.0</td>\n",
       "      <td>12712899.0</td>\n",
       "    </tr>\n",
       "    <tr>\n",
       "      <th>3</th>\n",
       "      <td>2020-09-01 21:53:34</td>\n",
       "      <td>EB6C71A3-84EC-EA11-B444-005056A7539A</td>\n",
       "      <td>0</td>\n",
       "      <td>2491281</td>\n",
       "      <td>52</td>\n",
       "      <td>271</td>\n",
       "      <td>1.0</td>\n",
       "      <td>108.00</td>\n",
       "      <td>False</td>\n",
       "      <td>441497.0</td>\n",
       "      <td>21535283.0</td>\n",
       "    </tr>\n",
       "    <tr>\n",
       "      <th>4</th>\n",
       "      <td>2020-09-01 18:42:31</td>\n",
       "      <td>0706023F-6BEC-EA11-B444-005056A7539A</td>\n",
       "      <td>0</td>\n",
       "      <td>5732396</td>\n",
       "      <td>61</td>\n",
       "      <td>97</td>\n",
       "      <td>2.0</td>\n",
       "      <td>88.00</td>\n",
       "      <td>False</td>\n",
       "      <td>1065358.0</td>\n",
       "      <td>642341.0</td>\n",
       "    </tr>\n",
       "  </tbody>\n",
       "</table>\n",
       "</div>"
      ],
      "text/plain": [
       "                 date                                id_doc  id_order  \\\n",
       "0 2020-09-01 17:01:25  0E05D308-5CEC-EA11-B444-005056A7539A         0   \n",
       "1 2020-09-01 17:35:36  610205A1-61EC-EA11-B444-005056A7539A         0   \n",
       "2 2020-09-01 19:19:21  8AF19602-70EC-EA11-B444-005056A7539A         0   \n",
       "3 2020-09-01 21:53:34  EB6C71A3-84EC-EA11-B444-005056A7539A         0   \n",
       "4 2020-09-01 18:42:31  0706023F-6BEC-EA11-B444-005056A7539A         0   \n",
       "\n",
       "   id_card  id_tov  id_kontr  quantity     sum  is_green  id_card_int  \\\n",
       "0  8594499      52       271       1.0  108.00     False    1538855.0   \n",
       "1  1452388      52       271       1.0  108.00     False     267307.0   \n",
       "2  3493538      52       271       1.0  107.95     False     610220.0   \n",
       "3  2491281      52       271       1.0  108.00     False     441497.0   \n",
       "4  5732396      61        97       2.0   88.00     False    1065358.0   \n",
       "\n",
       "   id_doc_int  \n",
       "0   1283228.0  \n",
       "1   8873113.0  \n",
       "2  12712899.0  \n",
       "3  21535283.0  \n",
       "4    642341.0  "
      ]
     },
     "execution_count": 8,
     "metadata": {},
     "output_type": "execute_result"
    }
   ],
   "source": [
    "df.head()"
   ]
  },
  {
   "cell_type": "code",
   "execution_count": 9,
   "id": "prostate-editing",
   "metadata": {},
   "outputs": [],
   "source": [
    "import bz2\n",
    "with bz2.open(data_path / '09_prepared_for_stats.pkl.bz2', 'wb') as f:\n",
    "    pickle.dump(df, f, protocol=4)"
   ]
  },
  {
   "cell_type": "markdown",
   "id": "native-texas",
   "metadata": {},
   "source": [
    "### Homework starts"
   ]
  },
  {
   "cell_type": "markdown",
   "id": "dominant-condition",
   "metadata": {},
   "source": [
    "#### TL;DR;\n",
    "\n",
    "To find potential bots I grouped products which was bought online by order id and using 5% and 95% quantiles filter the data for further anomaly investigation. After that, I found that guys which has bought products in 5% percentile is someone who want to buy gum, water or smth like that, so that I decided to investigate outliers from the right tail (i.e. between 95% and 100% percentile). To find suspicious activity I retrieved all buying history of those guys and marked whose who made only one transaction in history as anomalous guys"
   ]
  },
  {
   "cell_type": "code",
   "execution_count": 4,
   "id": "polyphonic-webcam",
   "metadata": {},
   "outputs": [],
   "source": [
    "# load data\n",
    "with bz2.open(data_path / '09_prepared_for_stats.pkl.bz2', 'rb') as f:\n",
    "    df = pickle.load(f)"
   ]
  },
  {
   "cell_type": "code",
   "execution_count": 6,
   "id": "french-block",
   "metadata": {},
   "outputs": [
    {
     "data": {
      "text/html": [
       "<div>\n",
       "<style scoped>\n",
       "    .dataframe tbody tr th:only-of-type {\n",
       "        vertical-align: middle;\n",
       "    }\n",
       "\n",
       "    .dataframe tbody tr th {\n",
       "        vertical-align: top;\n",
       "    }\n",
       "\n",
       "    .dataframe thead th {\n",
       "        text-align: right;\n",
       "    }\n",
       "</style>\n",
       "<table border=\"1\" class=\"dataframe\">\n",
       "  <thead>\n",
       "    <tr style=\"text-align: right;\">\n",
       "      <th></th>\n",
       "      <th>date</th>\n",
       "      <th>id_doc</th>\n",
       "      <th>id_order</th>\n",
       "      <th>id_card</th>\n",
       "      <th>id_tov</th>\n",
       "      <th>id_kontr</th>\n",
       "      <th>quantity</th>\n",
       "      <th>sum</th>\n",
       "      <th>is_green</th>\n",
       "      <th>id_card_int</th>\n",
       "      <th>id_doc_int</th>\n",
       "    </tr>\n",
       "  </thead>\n",
       "  <tbody>\n",
       "    <tr>\n",
       "      <th>0</th>\n",
       "      <td>2020-09-01 17:01:25</td>\n",
       "      <td>0E05D308-5CEC-EA11-B444-005056A7539A</td>\n",
       "      <td>0</td>\n",
       "      <td>8594499</td>\n",
       "      <td>52</td>\n",
       "      <td>271</td>\n",
       "      <td>1.0</td>\n",
       "      <td>108.00</td>\n",
       "      <td>False</td>\n",
       "      <td>1538855.0</td>\n",
       "      <td>1283228.0</td>\n",
       "    </tr>\n",
       "    <tr>\n",
       "      <th>1</th>\n",
       "      <td>2020-09-01 17:35:36</td>\n",
       "      <td>610205A1-61EC-EA11-B444-005056A7539A</td>\n",
       "      <td>0</td>\n",
       "      <td>1452388</td>\n",
       "      <td>52</td>\n",
       "      <td>271</td>\n",
       "      <td>1.0</td>\n",
       "      <td>108.00</td>\n",
       "      <td>False</td>\n",
       "      <td>267307.0</td>\n",
       "      <td>8873113.0</td>\n",
       "    </tr>\n",
       "    <tr>\n",
       "      <th>2</th>\n",
       "      <td>2020-09-01 19:19:21</td>\n",
       "      <td>8AF19602-70EC-EA11-B444-005056A7539A</td>\n",
       "      <td>0</td>\n",
       "      <td>3493538</td>\n",
       "      <td>52</td>\n",
       "      <td>271</td>\n",
       "      <td>1.0</td>\n",
       "      <td>107.95</td>\n",
       "      <td>False</td>\n",
       "      <td>610220.0</td>\n",
       "      <td>12712899.0</td>\n",
       "    </tr>\n",
       "    <tr>\n",
       "      <th>3</th>\n",
       "      <td>2020-09-01 21:53:34</td>\n",
       "      <td>EB6C71A3-84EC-EA11-B444-005056A7539A</td>\n",
       "      <td>0</td>\n",
       "      <td>2491281</td>\n",
       "      <td>52</td>\n",
       "      <td>271</td>\n",
       "      <td>1.0</td>\n",
       "      <td>108.00</td>\n",
       "      <td>False</td>\n",
       "      <td>441497.0</td>\n",
       "      <td>21535283.0</td>\n",
       "    </tr>\n",
       "    <tr>\n",
       "      <th>4</th>\n",
       "      <td>2020-09-01 18:42:31</td>\n",
       "      <td>0706023F-6BEC-EA11-B444-005056A7539A</td>\n",
       "      <td>0</td>\n",
       "      <td>5732396</td>\n",
       "      <td>61</td>\n",
       "      <td>97</td>\n",
       "      <td>2.0</td>\n",
       "      <td>88.00</td>\n",
       "      <td>False</td>\n",
       "      <td>1065358.0</td>\n",
       "      <td>642341.0</td>\n",
       "    </tr>\n",
       "  </tbody>\n",
       "</table>\n",
       "</div>"
      ],
      "text/plain": [
       "                 date                                id_doc  id_order  \\\n",
       "0 2020-09-01 17:01:25  0E05D308-5CEC-EA11-B444-005056A7539A         0   \n",
       "1 2020-09-01 17:35:36  610205A1-61EC-EA11-B444-005056A7539A         0   \n",
       "2 2020-09-01 19:19:21  8AF19602-70EC-EA11-B444-005056A7539A         0   \n",
       "3 2020-09-01 21:53:34  EB6C71A3-84EC-EA11-B444-005056A7539A         0   \n",
       "4 2020-09-01 18:42:31  0706023F-6BEC-EA11-B444-005056A7539A         0   \n",
       "\n",
       "   id_card  id_tov  id_kontr  quantity     sum  is_green  id_card_int  \\\n",
       "0  8594499      52       271       1.0  108.00     False    1538855.0   \n",
       "1  1452388      52       271       1.0  108.00     False     267307.0   \n",
       "2  3493538      52       271       1.0  107.95     False     610220.0   \n",
       "3  2491281      52       271       1.0  108.00     False     441497.0   \n",
       "4  5732396      61        97       2.0   88.00     False    1065358.0   \n",
       "\n",
       "   id_doc_int  \n",
       "0   1283228.0  \n",
       "1   8873113.0  \n",
       "2  12712899.0  \n",
       "3  21535283.0  \n",
       "4    642341.0  "
      ]
     },
     "execution_count": 6,
     "metadata": {},
     "output_type": "execute_result"
    }
   ],
   "source": [
    "df.head()"
   ]
  },
  {
   "cell_type": "code",
   "execution_count": 7,
   "id": "advisory-brush",
   "metadata": {},
   "outputs": [
    {
     "data": {
      "text/plain": [
       "1358089"
      ]
     },
     "execution_count": 7,
     "metadata": {},
     "output_type": "execute_result"
    }
   ],
   "source": [
    "df.id_card.nunique()"
   ]
  },
  {
   "cell_type": "markdown",
   "id": "indirect-julian",
   "metadata": {},
   "source": [
    "The 1st step is to remove customers which buys products offline. The motivation is that our research question is to find users that are not real customers (or trolls) and physically it is hard to be possible (i.e. to be a not real customer) for offline buyings."
   ]
  },
  {
   "cell_type": "code",
   "execution_count": 9,
   "id": "automatic-refund",
   "metadata": {},
   "outputs": [],
   "source": [
    "df_online = df[df.id_order!=0]"
   ]
  },
  {
   "cell_type": "code",
   "execution_count": 10,
   "id": "virtual-backing",
   "metadata": {},
   "outputs": [
    {
     "data": {
      "text/plain": [
       "(5385728, 11)"
      ]
     },
     "execution_count": 10,
     "metadata": {},
     "output_type": "execute_result"
    }
   ],
   "source": [
    "df_online.shape"
   ]
  },
  {
   "cell_type": "code",
   "execution_count": 11,
   "id": "substantial-project",
   "metadata": {},
   "outputs": [
    {
     "data": {
      "text/plain": [
       "0.12792442377302618"
      ]
     },
     "execution_count": 11,
     "metadata": {},
     "output_type": "execute_result"
    }
   ],
   "source": [
    "df_online.shape[0]/df.shape[0]"
   ]
  },
  {
   "cell_type": "markdown",
   "id": "vietnamese-retro",
   "metadata": {},
   "source": [
    "As we can see we have drastically decrease the amount of data. The amount of buyings which were performed online is only 12.8% from all transactions"
   ]
  },
  {
   "cell_type": "code",
   "execution_count": 34,
   "id": "backed-pregnancy",
   "metadata": {},
   "outputs": [],
   "source": [
    "sum_of_order = df_online.groupby([\"id_order\"])[\"sum\"].sum()"
   ]
  },
  {
   "cell_type": "code",
   "execution_count": 64,
   "id": "formal-senior",
   "metadata": {
    "scrolled": true
   },
   "outputs": [
    {
     "data": {
      "text/html": [
       "<div>\n",
       "<style scoped>\n",
       "    .dataframe tbody tr th:only-of-type {\n",
       "        vertical-align: middle;\n",
       "    }\n",
       "\n",
       "    .dataframe tbody tr th {\n",
       "        vertical-align: top;\n",
       "    }\n",
       "\n",
       "    .dataframe thead th {\n",
       "        text-align: right;\n",
       "    }\n",
       "</style>\n",
       "<table border=\"1\" class=\"dataframe\">\n",
       "  <thead>\n",
       "    <tr style=\"text-align: right;\">\n",
       "      <th></th>\n",
       "      <th>sum</th>\n",
       "    </tr>\n",
       "  </thead>\n",
       "  <tbody>\n",
       "    <tr>\n",
       "      <th>count</th>\n",
       "      <td>503504.000000</td>\n",
       "    </tr>\n",
       "    <tr>\n",
       "      <th>mean</th>\n",
       "      <td>1349.496831</td>\n",
       "    </tr>\n",
       "    <tr>\n",
       "      <th>std</th>\n",
       "      <td>1128.310615</td>\n",
       "    </tr>\n",
       "    <tr>\n",
       "      <th>min</th>\n",
       "      <td>0.000000</td>\n",
       "    </tr>\n",
       "    <tr>\n",
       "      <th>25%</th>\n",
       "      <td>591.400000</td>\n",
       "    </tr>\n",
       "    <tr>\n",
       "      <th>50%</th>\n",
       "      <td>1040.980000</td>\n",
       "    </tr>\n",
       "    <tr>\n",
       "      <th>75%</th>\n",
       "      <td>1753.672500</td>\n",
       "    </tr>\n",
       "    <tr>\n",
       "      <th>max</th>\n",
       "      <td>48005.000000</td>\n",
       "    </tr>\n",
       "  </tbody>\n",
       "</table>\n",
       "</div>"
      ],
      "text/plain": [
       "                 sum\n",
       "count  503504.000000\n",
       "mean     1349.496831\n",
       "std      1128.310615\n",
       "min         0.000000\n",
       "25%       591.400000\n",
       "50%      1040.980000\n",
       "75%      1753.672500\n",
       "max     48005.000000"
      ]
     },
     "execution_count": 64,
     "metadata": {},
     "output_type": "execute_result"
    }
   ],
   "source": [
    "sum_of_order.describe()"
   ]
  },
  {
   "cell_type": "code",
   "execution_count": 37,
   "id": "divine-forty",
   "metadata": {},
   "outputs": [
    {
     "data": {
      "text/plain": [
       "<AxesSubplot:>"
      ]
     },
     "execution_count": 37,
     "metadata": {},
     "output_type": "execute_result"
    },
    {
     "data": {
      "image/png": "[encoded data removed]",
      "text/plain": [
       "<Figure size 432x288 with 1 Axes>"
      ]
     },
     "metadata": {
      "needs_background": "light"
     },
     "output_type": "display_data"
    }
   ],
   "source": [
    "sum_of_order = pd.DataFrame(sum_of_order)\n",
    "sum_of_order.boxplot()"
   ]
  },
  {
   "cell_type": "markdown",
   "id": "decreased-burden",
   "metadata": {},
   "source": [
    "We have found that there are some strange activity, because our minimal receipt is equal to 0 and maximum to 48005 RUB "
   ]
  },
  {
   "cell_type": "code",
   "execution_count": 38,
   "id": "animated-theology",
   "metadata": {},
   "outputs": [
    {
     "data": {
      "text/html": [
       "<div>\n",
       "<style scoped>\n",
       "    .dataframe tbody tr th:only-of-type {\n",
       "        vertical-align: middle;\n",
       "    }\n",
       "\n",
       "    .dataframe tbody tr th {\n",
       "        vertical-align: top;\n",
       "    }\n",
       "\n",
       "    .dataframe thead th {\n",
       "        text-align: right;\n",
       "    }\n",
       "</style>\n",
       "<table border=\"1\" class=\"dataframe\">\n",
       "  <thead>\n",
       "    <tr style=\"text-align: right;\">\n",
       "      <th></th>\n",
       "      <th>sum</th>\n",
       "    </tr>\n",
       "    <tr>\n",
       "      <th>id_order</th>\n",
       "      <th></th>\n",
       "    </tr>\n",
       "  </thead>\n",
       "  <tbody>\n",
       "    <tr>\n",
       "      <th>6518049</th>\n",
       "      <td>48005.0</td>\n",
       "    </tr>\n",
       "  </tbody>\n",
       "</table>\n",
       "</div>"
      ],
      "text/plain": [
       "              sum\n",
       "id_order         \n",
       "6518049   48005.0"
      ]
     },
     "execution_count": 38,
     "metadata": {},
     "output_type": "execute_result"
    }
   ],
   "source": [
    "sum_of_order[sum_of_order[\"sum\"] > 40000]"
   ]
  },
  {
   "cell_type": "code",
   "execution_count": 165,
   "id": "checked-canvas",
   "metadata": {},
   "outputs": [
    {
     "data": {
      "text/html": [
       "<div>\n",
       "<style scoped>\n",
       "    .dataframe tbody tr th:only-of-type {\n",
       "        vertical-align: middle;\n",
       "    }\n",
       "\n",
       "    .dataframe tbody tr th {\n",
       "        vertical-align: top;\n",
       "    }\n",
       "\n",
       "    .dataframe thead th {\n",
       "        text-align: right;\n",
       "    }\n",
       "</style>\n",
       "<table border=\"1\" class=\"dataframe\">\n",
       "  <thead>\n",
       "    <tr style=\"text-align: right;\">\n",
       "      <th></th>\n",
       "      <th>date</th>\n",
       "      <th>id_doc</th>\n",
       "      <th>id_order</th>\n",
       "      <th>id_card</th>\n",
       "      <th>id_tov</th>\n",
       "      <th>id_kontr</th>\n",
       "      <th>quantity</th>\n",
       "      <th>sum</th>\n",
       "      <th>is_green</th>\n",
       "      <th>id_card_int</th>\n",
       "      <th>id_doc_int</th>\n",
       "    </tr>\n",
       "  </thead>\n",
       "  <tbody>\n",
       "    <tr>\n",
       "      <th>38058645</th>\n",
       "      <td>2020-09-28 08:36:51</td>\n",
       "      <td>9B6A36BF-4C01-EB11-B444-005056A7539A</td>\n",
       "      <td>6518049</td>\n",
       "      <td>A634010</td>\n",
       "      <td>647</td>\n",
       "      <td>13567</td>\n",
       "      <td>1.0</td>\n",
       "      <td>5.0</td>\n",
       "      <td>False</td>\n",
       "      <td>NaN</td>\n",
       "      <td>NaN</td>\n",
       "    </tr>\n",
       "    <tr>\n",
       "      <th>38060133</th>\n",
       "      <td>2020-09-28 08:36:51</td>\n",
       "      <td>9B6A36BF-4C01-EB11-B444-005056A7539A</td>\n",
       "      <td>6518049</td>\n",
       "      <td>A634010</td>\n",
       "      <td>21379</td>\n",
       "      <td>15189</td>\n",
       "      <td>4.0</td>\n",
       "      <td>9600.0</td>\n",
       "      <td>False</td>\n",
       "      <td>NaN</td>\n",
       "      <td>NaN</td>\n",
       "    </tr>\n",
       "    <tr>\n",
       "      <th>38060134</th>\n",
       "      <td>2020-09-28 08:36:51</td>\n",
       "      <td>9B6A36BF-4C01-EB11-B444-005056A7539A</td>\n",
       "      <td>6518049</td>\n",
       "      <td>A634010</td>\n",
       "      <td>21379</td>\n",
       "      <td>18018</td>\n",
       "      <td>16.0</td>\n",
       "      <td>38400.0</td>\n",
       "      <td>False</td>\n",
       "      <td>NaN</td>\n",
       "      <td>NaN</td>\n",
       "    </tr>\n",
       "  </tbody>\n",
       "</table>\n",
       "</div>"
      ],
      "text/plain": [
       "                        date                                id_doc  id_order  \\\n",
       "38058645 2020-09-28 08:36:51  9B6A36BF-4C01-EB11-B444-005056A7539A   6518049   \n",
       "38060133 2020-09-28 08:36:51  9B6A36BF-4C01-EB11-B444-005056A7539A   6518049   \n",
       "38060134 2020-09-28 08:36:51  9B6A36BF-4C01-EB11-B444-005056A7539A   6518049   \n",
       "\n",
       "          id_card  id_tov  id_kontr  quantity      sum  is_green  id_card_int  \\\n",
       "38058645  A634010     647     13567       1.0      5.0     False          NaN   \n",
       "38060133  A634010   21379     15189       4.0   9600.0     False          NaN   \n",
       "38060134  A634010   21379     18018      16.0  38400.0     False          NaN   \n",
       "\n",
       "          id_doc_int  \n",
       "38058645         NaN  \n",
       "38060133         NaN  \n",
       "38060134         NaN  "
      ]
     },
     "execution_count": 165,
     "metadata": {},
     "output_type": "execute_result"
    }
   ],
   "source": [
    "df_online[df_online.id_order==6518049]"
   ]
  },
  {
   "cell_type": "markdown",
   "id": "relative-recycling",
   "metadata": {},
   "source": [
    "OMG! This guy is really addicted on caviar!"
   ]
  },
  {
   "cell_type": "code",
   "execution_count": 81,
   "id": "danish-ecology",
   "metadata": {},
   "outputs": [],
   "source": [
    "# let's choose left and right hand site tails according to quantiles and investigate them\n",
    "lhs_suspects = sum_of_order[sum_of_order[\"sum\"] <= sum_of_order.quantile(0.05)[\"sum\"]]\n",
    "rhs_suspects = sum_of_order[sum_of_order[\"sum\"] >= sum_of_order.quantile(0.95)[\"sum\"]]"
   ]
  },
  {
   "cell_type": "code",
   "execution_count": 99,
   "id": "preliminary-hurricane",
   "metadata": {},
   "outputs": [
    {
     "data": {
      "text/html": [
       "<div>\n",
       "<style scoped>\n",
       "    .dataframe tbody tr th:only-of-type {\n",
       "        vertical-align: middle;\n",
       "    }\n",
       "\n",
       "    .dataframe tbody tr th {\n",
       "        vertical-align: top;\n",
       "    }\n",
       "\n",
       "    .dataframe thead th {\n",
       "        text-align: right;\n",
       "    }\n",
       "</style>\n",
       "<table border=\"1\" class=\"dataframe\">\n",
       "  <thead>\n",
       "    <tr style=\"text-align: right;\">\n",
       "      <th></th>\n",
       "      <th>sum</th>\n",
       "    </tr>\n",
       "  </thead>\n",
       "  <tbody>\n",
       "    <tr>\n",
       "      <th>count</th>\n",
       "      <td>25177.00000</td>\n",
       "    </tr>\n",
       "    <tr>\n",
       "      <th>mean</th>\n",
       "      <td>160.91439</td>\n",
       "    </tr>\n",
       "    <tr>\n",
       "      <th>std</th>\n",
       "      <td>57.42908</td>\n",
       "    </tr>\n",
       "    <tr>\n",
       "      <th>min</th>\n",
       "      <td>0.00000</td>\n",
       "    </tr>\n",
       "    <tr>\n",
       "      <th>25%</th>\n",
       "      <td>119.00000</td>\n",
       "    </tr>\n",
       "    <tr>\n",
       "      <th>50%</th>\n",
       "      <td>170.00000</td>\n",
       "    </tr>\n",
       "    <tr>\n",
       "      <th>75%</th>\n",
       "      <td>209.14000</td>\n",
       "    </tr>\n",
       "    <tr>\n",
       "      <th>max</th>\n",
       "      <td>243.00000</td>\n",
       "    </tr>\n",
       "  </tbody>\n",
       "</table>\n",
       "</div>"
      ],
      "text/plain": [
       "               sum\n",
       "count  25177.00000\n",
       "mean     160.91439\n",
       "std       57.42908\n",
       "min        0.00000\n",
       "25%      119.00000\n",
       "50%      170.00000\n",
       "75%      209.14000\n",
       "max      243.00000"
      ]
     },
     "execution_count": 99,
     "metadata": {},
     "output_type": "execute_result"
    }
   ],
   "source": [
    "lhs_suspects.describe()"
   ]
  },
  {
   "cell_type": "code",
   "execution_count": 84,
   "id": "determined-alloy",
   "metadata": {
    "scrolled": true
   },
   "outputs": [
    {
     "data": {
      "text/plain": [
       "<AxesSubplot:>"
      ]
     },
     "execution_count": 84,
     "metadata": {},
     "output_type": "execute_result"
    },
    {
     "data": {
      "image/png": "[encoded data removed]",
      "text/plain": [
       "<Figure size 432x288 with 1 Axes>"
      ]
     },
     "metadata": {
      "needs_background": "light"
     },
     "output_type": "display_data"
    }
   ],
   "source": [
    "lhs_suspects.boxplot()"
   ]
  },
  {
   "cell_type": "markdown",
   "id": "behavioral-bankruptcy",
   "metadata": {},
   "source": [
    "Let's look for the order with 0 sum"
   ]
  },
  {
   "cell_type": "code",
   "execution_count": 167,
   "id": "agricultural-throat",
   "metadata": {},
   "outputs": [
    {
     "data": {
      "text/html": [
       "<div>\n",
       "<style scoped>\n",
       "    .dataframe tbody tr th:only-of-type {\n",
       "        vertical-align: middle;\n",
       "    }\n",
       "\n",
       "    .dataframe tbody tr th {\n",
       "        vertical-align: top;\n",
       "    }\n",
       "\n",
       "    .dataframe thead th {\n",
       "        text-align: right;\n",
       "    }\n",
       "</style>\n",
       "<table border=\"1\" class=\"dataframe\">\n",
       "  <thead>\n",
       "    <tr style=\"text-align: right;\">\n",
       "      <th></th>\n",
       "      <th>date</th>\n",
       "      <th>id_doc</th>\n",
       "      <th>id_order</th>\n",
       "      <th>id_card</th>\n",
       "      <th>id_tov</th>\n",
       "      <th>id_kontr</th>\n",
       "      <th>quantity</th>\n",
       "      <th>sum</th>\n",
       "      <th>is_green</th>\n",
       "      <th>id_card_int</th>\n",
       "      <th>id_doc_int</th>\n",
       "    </tr>\n",
       "  </thead>\n",
       "  <tbody>\n",
       "    <tr>\n",
       "      <th>1043004</th>\n",
       "      <td>2020-09-01 10:45:45</td>\n",
       "      <td>40B0BD5D-27EC-EA11-B444-005056A7539A</td>\n",
       "      <td>3938925</td>\n",
       "      <td>A361864</td>\n",
       "      <td>27128</td>\n",
       "      <td>-9999</td>\n",
       "      <td>1.0</td>\n",
       "      <td>0.0</td>\n",
       "      <td>False</td>\n",
       "      <td>307755.0</td>\n",
       "      <td>17056704.0</td>\n",
       "    </tr>\n",
       "  </tbody>\n",
       "</table>\n",
       "</div>"
      ],
      "text/plain": [
       "                       date                                id_doc  id_order  \\\n",
       "1043004 2020-09-01 10:45:45  40B0BD5D-27EC-EA11-B444-005056A7539A   3938925   \n",
       "\n",
       "         id_card  id_tov  id_kontr  quantity  sum  is_green  id_card_int  \\\n",
       "1043004  A361864   27128     -9999       1.0  0.0     False     307755.0   \n",
       "\n",
       "         id_doc_int  \n",
       "1043004  17056704.0  "
      ]
     },
     "execution_count": 167,
     "metadata": {},
     "output_type": "execute_result"
    }
   ],
   "source": [
    "df_online[df_online.id_order==3938925]"
   ]
  },
  {
   "cell_type": "markdown",
   "id": "creative-adjustment",
   "metadata": {},
   "source": [
    "Now let's investigate its customer history"
   ]
  },
  {
   "cell_type": "code",
   "execution_count": 168,
   "id": "sexual-scholarship",
   "metadata": {
    "scrolled": false
   },
   "outputs": [
    {
     "data": {
      "text/html": [
       "<div>\n",
       "<style scoped>\n",
       "    .dataframe tbody tr th:only-of-type {\n",
       "        vertical-align: middle;\n",
       "    }\n",
       "\n",
       "    .dataframe tbody tr th {\n",
       "        vertical-align: top;\n",
       "    }\n",
       "\n",
       "    .dataframe thead th {\n",
       "        text-align: right;\n",
       "    }\n",
       "</style>\n",
       "<table border=\"1\" class=\"dataframe\">\n",
       "  <thead>\n",
       "    <tr style=\"text-align: right;\">\n",
       "      <th></th>\n",
       "      <th>date</th>\n",
       "      <th>id_doc</th>\n",
       "      <th>id_order</th>\n",
       "      <th>id_card</th>\n",
       "      <th>id_tov</th>\n",
       "      <th>id_kontr</th>\n",
       "      <th>quantity</th>\n",
       "      <th>sum</th>\n",
       "      <th>is_green</th>\n",
       "      <th>id_card_int</th>\n",
       "      <th>id_doc_int</th>\n",
       "    </tr>\n",
       "  </thead>\n",
       "  <tbody>\n",
       "    <tr>\n",
       "      <th>1043004</th>\n",
       "      <td>2020-09-01 10:45:45</td>\n",
       "      <td>40B0BD5D-27EC-EA11-B444-005056A7539A</td>\n",
       "      <td>3938925</td>\n",
       "      <td>A361864</td>\n",
       "      <td>27128</td>\n",
       "      <td>-9999</td>\n",
       "      <td>1.0</td>\n",
       "      <td>0.0</td>\n",
       "      <td>False</td>\n",
       "      <td>307755.0</td>\n",
       "      <td>17056704.0</td>\n",
       "    </tr>\n",
       "    <tr>\n",
       "      <th>31551195</th>\n",
       "      <td>2020-09-23 09:03:05</td>\n",
       "      <td>646B61BD-62FD-EA11-B444-005056A7539A</td>\n",
       "      <td>5932286</td>\n",
       "      <td>A361864</td>\n",
       "      <td>27128</td>\n",
       "      <td>-9999</td>\n",
       "      <td>1.0</td>\n",
       "      <td>1100.0</td>\n",
       "      <td>False</td>\n",
       "      <td>NaN</td>\n",
       "      <td>NaN</td>\n",
       "    </tr>\n",
       "    <tr>\n",
       "      <th>31551196</th>\n",
       "      <td>2020-09-23 09:03:26</td>\n",
       "      <td>666B61BD-62FD-EA11-B444-005056A7539A</td>\n",
       "      <td>5932286</td>\n",
       "      <td>A361864</td>\n",
       "      <td>27128</td>\n",
       "      <td>-9999</td>\n",
       "      <td>1.0</td>\n",
       "      <td>1100.0</td>\n",
       "      <td>False</td>\n",
       "      <td>NaN</td>\n",
       "      <td>NaN</td>\n",
       "    </tr>\n",
       "    <tr>\n",
       "      <th>34506305</th>\n",
       "      <td>2020-09-25 08:47:44</td>\n",
       "      <td>ED247E05-F3FE-EA11-B444-005056A7539A</td>\n",
       "      <td>5932286</td>\n",
       "      <td>A361864</td>\n",
       "      <td>27128</td>\n",
       "      <td>-9999</td>\n",
       "      <td>1.0</td>\n",
       "      <td>1100.0</td>\n",
       "      <td>False</td>\n",
       "      <td>NaN</td>\n",
       "      <td>NaN</td>\n",
       "    </tr>\n",
       "    <tr>\n",
       "      <th>34506306</th>\n",
       "      <td>2020-09-25 08:48:08</td>\n",
       "      <td>F0247E05-F3FE-EA11-B444-005056A7539A</td>\n",
       "      <td>5932286</td>\n",
       "      <td>A361864</td>\n",
       "      <td>27128</td>\n",
       "      <td>-9999</td>\n",
       "      <td>1.0</td>\n",
       "      <td>1100.0</td>\n",
       "      <td>False</td>\n",
       "      <td>NaN</td>\n",
       "      <td>NaN</td>\n",
       "    </tr>\n",
       "  </tbody>\n",
       "</table>\n",
       "</div>"
      ],
      "text/plain": [
       "                        date                                id_doc  id_order  \\\n",
       "1043004  2020-09-01 10:45:45  40B0BD5D-27EC-EA11-B444-005056A7539A   3938925   \n",
       "31551195 2020-09-23 09:03:05  646B61BD-62FD-EA11-B444-005056A7539A   5932286   \n",
       "31551196 2020-09-23 09:03:26  666B61BD-62FD-EA11-B444-005056A7539A   5932286   \n",
       "34506305 2020-09-25 08:47:44  ED247E05-F3FE-EA11-B444-005056A7539A   5932286   \n",
       "34506306 2020-09-25 08:48:08  F0247E05-F3FE-EA11-B444-005056A7539A   5932286   \n",
       "\n",
       "          id_card  id_tov  id_kontr  quantity     sum  is_green  id_card_int  \\\n",
       "1043004   A361864   27128     -9999       1.0     0.0     False     307755.0   \n",
       "31551195  A361864   27128     -9999       1.0  1100.0     False          NaN   \n",
       "31551196  A361864   27128     -9999       1.0  1100.0     False          NaN   \n",
       "34506305  A361864   27128     -9999       1.0  1100.0     False          NaN   \n",
       "34506306  A361864   27128     -9999       1.0  1100.0     False          NaN   \n",
       "\n",
       "          id_doc_int  \n",
       "1043004   17056704.0  \n",
       "31551195         NaN  \n",
       "31551196         NaN  \n",
       "34506305         NaN  \n",
       "34506306         NaN  "
      ]
     },
     "execution_count": 168,
     "metadata": {},
     "output_type": "execute_result"
    }
   ],
   "source": [
    "df_online[df_online.id_card==\"A361864\"]"
   ]
  },
  {
   "cell_type": "markdown",
   "id": "floating-newsletter",
   "metadata": {},
   "source": [
    "Oh, this guy bought the same category previously, so maybe it is some promo. To accept this let's have a look on descriptive statistics of this good"
   ]
  },
  {
   "cell_type": "code",
   "execution_count": 169,
   "id": "amino-retirement",
   "metadata": {},
   "outputs": [
    {
     "data": {
      "text/plain": [
       "count     124.000000\n",
       "mean     1104.354839\n",
       "std       145.020279\n",
       "min         0.000000\n",
       "25%      1020.000000\n",
       "50%      1150.000000\n",
       "75%      1200.000000\n",
       "max      1250.000000\n",
       "Name: sum, dtype: float64"
      ]
     },
     "execution_count": 169,
     "metadata": {},
     "output_type": "execute_result"
    }
   ],
   "source": [
    "df_online[df_online.id_tov==27128][\"sum\"].describe()"
   ]
  },
  {
   "cell_type": "code",
   "execution_count": 170,
   "id": "authorized-display",
   "metadata": {},
   "outputs": [
    {
     "data": {
      "text/html": [
       "<div>\n",
       "<style scoped>\n",
       "    .dataframe tbody tr th:only-of-type {\n",
       "        vertical-align: middle;\n",
       "    }\n",
       "\n",
       "    .dataframe tbody tr th {\n",
       "        vertical-align: top;\n",
       "    }\n",
       "\n",
       "    .dataframe thead th {\n",
       "        text-align: right;\n",
       "    }\n",
       "</style>\n",
       "<table border=\"1\" class=\"dataframe\">\n",
       "  <thead>\n",
       "    <tr style=\"text-align: right;\">\n",
       "      <th></th>\n",
       "      <th>date</th>\n",
       "      <th>id_doc</th>\n",
       "      <th>id_order</th>\n",
       "      <th>id_card</th>\n",
       "      <th>id_tov</th>\n",
       "      <th>id_kontr</th>\n",
       "      <th>quantity</th>\n",
       "      <th>sum</th>\n",
       "      <th>is_green</th>\n",
       "      <th>id_card_int</th>\n",
       "      <th>id_doc_int</th>\n",
       "    </tr>\n",
       "  </thead>\n",
       "  <tbody>\n",
       "    <tr>\n",
       "      <th>1043004</th>\n",
       "      <td>2020-09-01 10:45:45</td>\n",
       "      <td>40B0BD5D-27EC-EA11-B444-005056A7539A</td>\n",
       "      <td>3938925</td>\n",
       "      <td>A361864</td>\n",
       "      <td>27128</td>\n",
       "      <td>-9999</td>\n",
       "      <td>1.0</td>\n",
       "      <td>0.0</td>\n",
       "      <td>False</td>\n",
       "      <td>307755.0</td>\n",
       "      <td>17056704.0</td>\n",
       "    </tr>\n",
       "  </tbody>\n",
       "</table>\n",
       "</div>"
      ],
      "text/plain": [
       "                       date                                id_doc  id_order  \\\n",
       "1043004 2020-09-01 10:45:45  40B0BD5D-27EC-EA11-B444-005056A7539A   3938925   \n",
       "\n",
       "         id_card  id_tov  id_kontr  quantity  sum  is_green  id_card_int  \\\n",
       "1043004  A361864   27128     -9999       1.0  0.0     False     307755.0   \n",
       "\n",
       "         id_doc_int  \n",
       "1043004  17056704.0  "
      ]
     },
     "execution_count": 170,
     "metadata": {},
     "output_type": "execute_result"
    }
   ],
   "source": [
    "tmp = df_online[df_online.id_tov==27128]\n",
    "tmp[tmp[\"sum\"]==0]"
   ]
  },
  {
   "cell_type": "markdown",
   "id": "warming-organizer",
   "metadata": {},
   "source": [
    "As we can see there is only one buying of this good with 0 buying, so maybe it is really some promo"
   ]
  },
  {
   "cell_type": "markdown",
   "id": "suspected-privilege",
   "metadata": {},
   "source": [
    "Investigation of the right hand side tail"
   ]
  },
  {
   "cell_type": "code",
   "execution_count": 172,
   "id": "automatic-static",
   "metadata": {},
   "outputs": [
    {
     "data": {
      "text/html": [
       "<div>\n",
       "<style scoped>\n",
       "    .dataframe tbody tr th:only-of-type {\n",
       "        vertical-align: middle;\n",
       "    }\n",
       "\n",
       "    .dataframe tbody tr th {\n",
       "        vertical-align: top;\n",
       "    }\n",
       "\n",
       "    .dataframe thead th {\n",
       "        text-align: right;\n",
       "    }\n",
       "</style>\n",
       "<table border=\"1\" class=\"dataframe\">\n",
       "  <thead>\n",
       "    <tr style=\"text-align: right;\">\n",
       "      <th></th>\n",
       "      <th>sum</th>\n",
       "    </tr>\n",
       "  </thead>\n",
       "  <tbody>\n",
       "    <tr>\n",
       "      <th>count</th>\n",
       "      <td>25176.000000</td>\n",
       "    </tr>\n",
       "    <tr>\n",
       "      <th>mean</th>\n",
       "      <td>4754.681791</td>\n",
       "    </tr>\n",
       "    <tr>\n",
       "      <th>std</th>\n",
       "      <td>1461.714354</td>\n",
       "    </tr>\n",
       "    <tr>\n",
       "      <th>min</th>\n",
       "      <td>3488.030000</td>\n",
       "    </tr>\n",
       "    <tr>\n",
       "      <th>25%</th>\n",
       "      <td>3819.742500</td>\n",
       "    </tr>\n",
       "    <tr>\n",
       "      <th>50%</th>\n",
       "      <td>4297.830000</td>\n",
       "    </tr>\n",
       "    <tr>\n",
       "      <th>75%</th>\n",
       "      <td>5166.155000</td>\n",
       "    </tr>\n",
       "    <tr>\n",
       "      <th>max</th>\n",
       "      <td>48005.000000</td>\n",
       "    </tr>\n",
       "  </tbody>\n",
       "</table>\n",
       "</div>"
      ],
      "text/plain": [
       "                sum\n",
       "count  25176.000000\n",
       "mean    4754.681791\n",
       "std     1461.714354\n",
       "min     3488.030000\n",
       "25%     3819.742500\n",
       "50%     4297.830000\n",
       "75%     5166.155000\n",
       "max    48005.000000"
      ]
     },
     "execution_count": 172,
     "metadata": {},
     "output_type": "execute_result"
    }
   ],
   "source": [
    "rhs_suspects.describe()"
   ]
  },
  {
   "cell_type": "code",
   "execution_count": 173,
   "id": "political-china",
   "metadata": {},
   "outputs": [
    {
     "data": {
      "text/plain": [
       "<AxesSubplot:>"
      ]
     },
     "execution_count": 173,
     "metadata": {},
     "output_type": "execute_result"
    },
    {
     "data": {
      "image/png": "[encoded data removed]",
      "text/plain": [
       "<Figure size 432x288 with 1 Axes>"
      ]
     },
     "metadata": {
      "needs_background": "light"
     },
     "output_type": "display_data"
    }
   ],
   "source": [
    "rhs_suspects.boxplot()"
   ]
  },
  {
   "cell_type": "code",
   "execution_count": 174,
   "id": "elegant-resort",
   "metadata": {},
   "outputs": [],
   "source": [
    "rhs_suspect_outliers = rhs_suspects[rhs_suspects[\"sum\"] >= 8000]"
   ]
  },
  {
   "cell_type": "code",
   "execution_count": 175,
   "id": "descending-tonight",
   "metadata": {},
   "outputs": [
    {
     "data": {
      "text/html": [
       "<div>\n",
       "<style scoped>\n",
       "    .dataframe tbody tr th:only-of-type {\n",
       "        vertical-align: middle;\n",
       "    }\n",
       "\n",
       "    .dataframe tbody tr th {\n",
       "        vertical-align: top;\n",
       "    }\n",
       "\n",
       "    .dataframe thead th {\n",
       "        text-align: right;\n",
       "    }\n",
       "</style>\n",
       "<table border=\"1\" class=\"dataframe\">\n",
       "  <thead>\n",
       "    <tr style=\"text-align: right;\">\n",
       "      <th></th>\n",
       "      <th>sum</th>\n",
       "    </tr>\n",
       "  </thead>\n",
       "  <tbody>\n",
       "    <tr>\n",
       "      <th>count</th>\n",
       "      <td>878.000000</td>\n",
       "    </tr>\n",
       "    <tr>\n",
       "      <th>mean</th>\n",
       "      <td>9949.670923</td>\n",
       "    </tr>\n",
       "    <tr>\n",
       "      <th>std</th>\n",
       "      <td>2541.978834</td>\n",
       "    </tr>\n",
       "    <tr>\n",
       "      <th>min</th>\n",
       "      <td>8000.680000</td>\n",
       "    </tr>\n",
       "    <tr>\n",
       "      <th>25%</th>\n",
       "      <td>8450.832500</td>\n",
       "    </tr>\n",
       "    <tr>\n",
       "      <th>50%</th>\n",
       "      <td>9186.115000</td>\n",
       "    </tr>\n",
       "    <tr>\n",
       "      <th>75%</th>\n",
       "      <td>10542.937500</td>\n",
       "    </tr>\n",
       "    <tr>\n",
       "      <th>max</th>\n",
       "      <td>48005.000000</td>\n",
       "    </tr>\n",
       "  </tbody>\n",
       "</table>\n",
       "</div>"
      ],
      "text/plain": [
       "                sum\n",
       "count    878.000000\n",
       "mean    9949.670923\n",
       "std     2541.978834\n",
       "min     8000.680000\n",
       "25%     8450.832500\n",
       "50%     9186.115000\n",
       "75%    10542.937500\n",
       "max    48005.000000"
      ]
     },
     "execution_count": 175,
     "metadata": {},
     "output_type": "execute_result"
    }
   ],
   "source": [
    "rhs_suspect_outliers.describe()"
   ]
  },
  {
   "cell_type": "code",
   "execution_count": 176,
   "id": "better-output",
   "metadata": {},
   "outputs": [
    {
     "data": {
      "text/html": [
       "<div>\n",
       "<style scoped>\n",
       "    .dataframe tbody tr th:only-of-type {\n",
       "        vertical-align: middle;\n",
       "    }\n",
       "\n",
       "    .dataframe tbody tr th {\n",
       "        vertical-align: top;\n",
       "    }\n",
       "\n",
       "    .dataframe thead th {\n",
       "        text-align: right;\n",
       "    }\n",
       "</style>\n",
       "<table border=\"1\" class=\"dataframe\">\n",
       "  <thead>\n",
       "    <tr style=\"text-align: right;\">\n",
       "      <th></th>\n",
       "      <th>sum</th>\n",
       "    </tr>\n",
       "    <tr>\n",
       "      <th>id_order</th>\n",
       "      <th></th>\n",
       "    </tr>\n",
       "  </thead>\n",
       "  <tbody>\n",
       "    <tr>\n",
       "      <th>218202</th>\n",
       "      <td>9324.10</td>\n",
       "    </tr>\n",
       "    <tr>\n",
       "      <th>396783</th>\n",
       "      <td>8254.75</td>\n",
       "    </tr>\n",
       "    <tr>\n",
       "      <th>1081817</th>\n",
       "      <td>14369.98</td>\n",
       "    </tr>\n",
       "    <tr>\n",
       "      <th>1552779</th>\n",
       "      <td>10337.00</td>\n",
       "    </tr>\n",
       "    <tr>\n",
       "      <th>1953457</th>\n",
       "      <td>8293.00</td>\n",
       "    </tr>\n",
       "    <tr>\n",
       "      <th>...</th>\n",
       "      <td>...</td>\n",
       "    </tr>\n",
       "    <tr>\n",
       "      <th>6661531</th>\n",
       "      <td>11086.45</td>\n",
       "    </tr>\n",
       "    <tr>\n",
       "      <th>6662703</th>\n",
       "      <td>8835.95</td>\n",
       "    </tr>\n",
       "    <tr>\n",
       "      <th>6662903</th>\n",
       "      <td>9189.62</td>\n",
       "    </tr>\n",
       "    <tr>\n",
       "      <th>6664597</th>\n",
       "      <td>8671.34</td>\n",
       "    </tr>\n",
       "    <tr>\n",
       "      <th>6669981</th>\n",
       "      <td>9319.06</td>\n",
       "    </tr>\n",
       "  </tbody>\n",
       "</table>\n",
       "<p>878 rows × 1 columns</p>\n",
       "</div>"
      ],
      "text/plain": [
       "               sum\n",
       "id_order          \n",
       "218202     9324.10\n",
       "396783     8254.75\n",
       "1081817   14369.98\n",
       "1552779   10337.00\n",
       "1953457    8293.00\n",
       "...            ...\n",
       "6661531   11086.45\n",
       "6662703    8835.95\n",
       "6662903    9189.62\n",
       "6664597    8671.34\n",
       "6669981    9319.06\n",
       "\n",
       "[878 rows x 1 columns]"
      ]
     },
     "execution_count": 176,
     "metadata": {},
     "output_type": "execute_result"
    }
   ],
   "source": [
    "rhs_suspect_outliers"
   ]
  },
  {
   "cell_type": "code",
   "execution_count": 180,
   "id": "spread-status",
   "metadata": {},
   "outputs": [],
   "source": [
    "def get_info_from_previous_orders(previous_orders):\n",
    "    orders = {}\n",
    "    for id_order in previous_orders.index:\n",
    "        order = df_online[df_online.id_order==id_order]\n",
    "        order_len = order.shape[0]\n",
    "        orders[id_order] = {\"order_len\": order_len, \"order_sum\": previous_orders[id_order]}\n",
    "    return orders"
   ]
  },
  {
   "cell_type": "code",
   "execution_count": 181,
   "id": "familiar-naples",
   "metadata": {},
   "outputs": [],
   "source": [
    "# Collect order history\n",
    "orders_info = {}\n",
    "for id_order in rhs_suspect_outliers.index:\n",
    "    suspect_order = df_online[df_online.id_order==id_order]\n",
    "    id_card = suspect_order.id_card.iloc[0]\n",
    "    suspect_order_length = suspect_order.shape[0]\n",
    "    previous_orders = df_online[df_online.id_card == id_card].groupby([\"id_order\"])[\"sum\"].sum()\n",
    "    previous_orders = get_info_from_previous_orders(previous_orders)\n",
    "    orders_info[id_card] = {\"suspect_order_length\": suspect_order_length,\n",
    "                            \"suspect_order_id\": id_order,\n",
    "                            \"previous_orders\": previous_orders}"
   ]
  },
  {
   "cell_type": "code",
   "execution_count": 195,
   "id": "collective-allah",
   "metadata": {},
   "outputs": [],
   "source": [
    "potential_bots = []\n",
    "for suspect_user in orders_info:\n",
    "    if len(orders_info[suspect_user]['previous_orders'])==1: # 1 is because suspicious transaction also included in history\n",
    "        potential_bots.append(suspect_user)"
   ]
  },
  {
   "cell_type": "code",
   "execution_count": 199,
   "id": "editorial-engineer",
   "metadata": {},
   "outputs": [
    {
     "name": "stdout",
     "output_type": "stream",
     "text": [
      "Potential list of bots:\n",
      "8382225\n",
      "2451998\n",
      "5118657\n",
      "8915968\n",
      "a699161\n",
      "a678880\n",
      "3180009\n",
      "6551259\n",
      "7381210\n",
      "3921112\n",
      "9510442\n",
      "0804547\n",
      "0957798\n",
      "5014556\n",
      "6784927\n",
      "4879050\n",
      "7567769\n",
      "0371435\n",
      "3861427\n",
      "3082343\n",
      "7168683\n",
      "5837708\n",
      "4531723\n",
      "2242497\n",
      "a689162\n",
      "7434542\n",
      "5885807\n",
      "c444148\n",
      "7775530\n",
      "a615973\n",
      "c447624\n",
      "3836157\n",
      "1830436\n",
      "1240384\n",
      "6804003\n",
      "3771784\n",
      "c450004\n",
      "a672021\n",
      "3746990\n",
      "a702553\n",
      "a557406\n",
      "3927199\n",
      "a861067\n",
      "A665960\n",
      "4800615\n",
      "a285171\n",
      "6025157\n",
      "5508081\n",
      "2251919\n",
      "2648523\n",
      "C403344\n",
      "A251814\n",
      "4296323\n",
      "B006753\n",
      "4963306\n",
      "3095886\n",
      "4759962\n",
      "0674776\n",
      "8161055\n",
      "6632070\n",
      "9165556\n",
      "9672656\n",
      "4260442\n",
      "A679514\n",
      "6968467\n",
      "1335838\n",
      "5621822\n",
      "4551339\n",
      "A388970\n",
      "3813924\n",
      "1584122\n",
      "4743895\n",
      "7849530\n",
      "C400460\n",
      "2241267\n",
      "9865008\n",
      "5336922\n",
      "4952931\n",
      "a251814\n",
      "0527647\n",
      "0356186\n",
      "0569526\n",
      "0870013\n",
      "2908302\n",
      "4419494\n",
      "c493613\n",
      "1421301\n",
      "2822539\n",
      "C475432\n",
      "6138205\n",
      "1759324\n",
      "2863936\n",
      "A615973\n",
      "5802771\n",
      "0027631\n",
      "a574088\n",
      "c498062\n",
      "8565450\n",
      "0208942\n",
      "0219883\n",
      "c486228\n",
      "3712231\n",
      "A689463\n",
      "8423037\n",
      "3978861\n",
      "c461875\n",
      "A672734\n",
      "6319407\n",
      "a604404\n",
      "1117761\n",
      "0884107\n",
      "3690561\n",
      "c514335\n",
      "7798100\n",
      "9158746\n",
      "0757744\n",
      "6034709\n",
      "3285905\n",
      "2756447\n",
      "0477242\n",
      "A634010\n",
      "a762114\n",
      "6839517\n",
      "0796435\n",
      "5164576\n",
      "9653383\n",
      "4468627\n",
      "5711033\n",
      "C519553\n",
      "c169641\n",
      "a589684\n",
      "4067214\n",
      "6725741\n",
      "6598469\n",
      "3091406\n",
      "9265726\n",
      "C426234\n",
      "a213803\n"
     ]
    }
   ],
   "source": [
    "print(\"Potential list of bots:\")\n",
    "for bot in potential_bots:\n",
    "    print(bot)"
   ]
  },
  {
   "cell_type": "code",
   "execution_count": null,
   "id": "blond-crawford",
   "metadata": {},
   "outputs": [],
   "source": []
  }
 ],
 "metadata": {
  "kernelspec": {
   "display_name": "Python 3",
   "language": "python",
   "name": "python3"
  },
  "language_info": {
   "codemirror_mode": {
    "name": "ipython",
    "version": 3
   },
   "file_extension": ".py",
   "mimetype": "text/x-python",
   "name": "python",
   "nbconvert_exporter": "python",
   "pygments_lexer": "ipython3",
   "version": "3.8.8"
  }
 },
 "nbformat": 4,
 "nbformat_minor": 5
}
