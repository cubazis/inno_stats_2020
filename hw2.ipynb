{
 "cells": [
  {
   "cell_type": "code",
   "execution_count": 13,
   "metadata": {},
   "outputs": [],
   "source": [
    "from pathlib import Path\n",
    "import pandas as pd\n",
    "import gc\n",
    "from sklearn.preprocessing import LabelEncoder\n",
    "import pickle\n",
    "import bz2\n",
    "from scipy.stats import ttest_ind\n",
    "import seaborn\n",
    "import matplotlib.pyplot as plt"
   ]
  },
  {
   "cell_type": "code",
   "execution_count": 19,
   "metadata": {},
   "outputs": [
    {
     "name": "stdout",
     "output_type": "stream",
     "text": [
      "x 09_groups.csv\n",
      "x 10_groups.csv\n",
      "x 11_groups.csv\n",
      "x product_groups.csv\n"
     ]
    }
   ],
   "source": [
    "!tar -xvzf inno_stats.tar.gz"
   ]
  },
  {
   "cell_type": "code",
   "execution_count": 2,
   "metadata": {},
   "outputs": [
    {
     "name": "stdout",
     "output_type": "stream",
     "text": [
      "09_groups.csv         \u001b[1m\u001b[36mdata\u001b[m\u001b[m                  product_groups.csv\r\n",
      "10_groups.csv         inno_stats.tar.gz     requirements.txt\r\n",
      "11_groups.csv         lab1.ipynb            suspected_ids.pkl.bz2\r\n",
      "Homework #1.1.ipynb   lab2.1.ipynb          \u001b[1m\u001b[36mvenv\u001b[m\u001b[m\r\n",
      "Homework #2.ipynb     lab2.2.ipynb\r\n",
      "bad_ids.csv           lab2.lbe.ipynb\r\n"
     ]
    }
   ],
   "source": [
    "!ls"
   ]
  },
  {
   "cell_type": "code",
   "execution_count": 3,
   "metadata": {},
   "outputs": [],
   "source": [
    "bad_ids = pd.read_csv('bad_ids.csv')"
   ]
  },
  {
   "cell_type": "code",
   "execution_count": 4,
   "metadata": {},
   "outputs": [
    {
     "data": {
      "text/html": [
       "<div>\n",
       "<style scoped>\n",
       "    .dataframe tbody tr th:only-of-type {\n",
       "        vertical-align: middle;\n",
       "    }\n",
       "\n",
       "    .dataframe tbody tr th {\n",
       "        vertical-align: top;\n",
       "    }\n",
       "\n",
       "    .dataframe thead th {\n",
       "        text-align: right;\n",
       "    }\n",
       "</style>\n",
       "<table border=\"1\" class=\"dataframe\">\n",
       "  <thead>\n",
       "    <tr style=\"text-align: right;\">\n",
       "      <th></th>\n",
       "      <th>Unnamed: 0</th>\n",
       "      <th>id_card</th>\n",
       "    </tr>\n",
       "  </thead>\n",
       "  <tbody>\n",
       "    <tr>\n",
       "      <th>0</th>\n",
       "      <td>0</td>\n",
       "      <td>806096</td>\n",
       "    </tr>\n",
       "    <tr>\n",
       "      <th>1</th>\n",
       "      <td>1</td>\n",
       "      <td>1438102</td>\n",
       "    </tr>\n",
       "    <tr>\n",
       "      <th>2</th>\n",
       "      <td>2</td>\n",
       "      <td>72344</td>\n",
       "    </tr>\n",
       "    <tr>\n",
       "      <th>3</th>\n",
       "      <td>3</td>\n",
       "      <td>427981</td>\n",
       "    </tr>\n",
       "    <tr>\n",
       "      <th>4</th>\n",
       "      <td>4</td>\n",
       "      <td>1528414</td>\n",
       "    </tr>\n",
       "  </tbody>\n",
       "</table>\n",
       "</div>"
      ],
      "text/plain": [
       "   Unnamed: 0  id_card\n",
       "0           0   806096\n",
       "1           1  1438102\n",
       "2           2    72344\n",
       "3           3   427981\n",
       "4           4  1528414"
      ]
     },
     "execution_count": 4,
     "metadata": {},
     "output_type": "execute_result"
    }
   ],
   "source": [
    "bad_ids.head()"
   ]
  },
  {
   "cell_type": "code",
   "execution_count": 5,
   "metadata": {},
   "outputs": [],
   "source": [
    "bad_ids_set = set(bad_ids['id_card'])"
   ]
  },
  {
   "cell_type": "code",
   "execution_count": 6,
   "metadata": {},
   "outputs": [],
   "source": [
    "df = pd.read_csv('09_groups.csv')"
   ]
  },
  {
   "cell_type": "code",
   "execution_count": 7,
   "metadata": {},
   "outputs": [
    {
     "data": {
      "text/plain": [
       "<bound method DataFrame.count of                          date    id_doc  id_order  id_card  id_tov  id_kontr  \\\n",
       "0         2020-09-01 17:01:25   1283228       0.0  1538855      52       271   \n",
       "1         2020-09-01 17:35:36   8873113       0.0   267307      52       271   \n",
       "2         2020-09-01 19:19:21  12712899       0.0   610220      52       271   \n",
       "3         2020-09-01 21:53:34  21535283       0.0   441497      52       271   \n",
       "4         2020-09-01 18:42:31    642341       0.0  1065358      61        97   \n",
       "...                       ...       ...       ...      ...     ...       ...   \n",
       "42100853  2020-09-30 11:26:28   4850561       0.0  1739990   25292     17528   \n",
       "42100854  2020-09-30 08:12:39  10015419       0.0  1761351   30740     19188   \n",
       "42100855  2020-09-30 09:54:24  22816791       0.0  1432778   30741     19188   \n",
       "42100856  2020-09-30 12:00:04   1648929       0.0   484390   34835     15916   \n",
       "42100857  2020-09-30 09:37:16  22302533       0.0   557627   34835     15916   \n",
       "\n",
       "          quantity     sum  is_green  id_group  \n",
       "0              1.0  108.00         0     10004  \n",
       "1              1.0  108.00         0     10004  \n",
       "2              1.0  107.95         0     10004  \n",
       "3              1.0  108.00         0     10004  \n",
       "4              2.0   88.00         0     10091  \n",
       "...            ...     ...       ...       ...  \n",
       "42100853       1.0  130.00         0     10099  \n",
       "42100854       2.0  120.00         0     10008  \n",
       "42100855       1.0   73.00         0     10254  \n",
       "42100856       1.0   78.00         0     10099  \n",
       "42100857       1.0   78.00         0     10099  \n",
       "\n",
       "[42100858 rows x 10 columns]>"
      ]
     },
     "execution_count": 7,
     "metadata": {},
     "output_type": "execute_result"
    }
   ],
   "source": [
    "df.count"
   ]
  },
  {
   "cell_type": "code",
   "execution_count": 8,
   "metadata": {},
   "outputs": [],
   "source": [
    "df_cleaned = df[~df['id_card'].isin(bad_ids_set)]"
   ]
  },
  {
   "cell_type": "code",
   "execution_count": 9,
   "metadata": {},
   "outputs": [
    {
     "data": {
      "text/plain": [
       "<bound method DataFrame.count of                          date    id_doc  id_order  id_card  id_tov  id_kontr  \\\n",
       "0         2020-09-01 17:01:25   1283228       0.0  1538855      52       271   \n",
       "1         2020-09-01 17:35:36   8873113       0.0   267307      52       271   \n",
       "2         2020-09-01 19:19:21  12712899       0.0   610220      52       271   \n",
       "3         2020-09-01 21:53:34  21535283       0.0   441497      52       271   \n",
       "4         2020-09-01 18:42:31    642341       0.0  1065358      61        97   \n",
       "...                       ...       ...       ...      ...     ...       ...   \n",
       "42100853  2020-09-30 11:26:28   4850561       0.0  1739990   25292     17528   \n",
       "42100854  2020-09-30 08:12:39  10015419       0.0  1761351   30740     19188   \n",
       "42100855  2020-09-30 09:54:24  22816791       0.0  1432778   30741     19188   \n",
       "42100856  2020-09-30 12:00:04   1648929       0.0   484390   34835     15916   \n",
       "42100857  2020-09-30 09:37:16  22302533       0.0   557627   34835     15916   \n",
       "\n",
       "          quantity     sum  is_green  id_group  \n",
       "0              1.0  108.00         0     10004  \n",
       "1              1.0  108.00         0     10004  \n",
       "2              1.0  107.95         0     10004  \n",
       "3              1.0  108.00         0     10004  \n",
       "4              2.0   88.00         0     10091  \n",
       "...            ...     ...       ...       ...  \n",
       "42100853       1.0  130.00         0     10099  \n",
       "42100854       2.0  120.00         0     10008  \n",
       "42100855       1.0   73.00         0     10254  \n",
       "42100856       1.0   78.00         0     10099  \n",
       "42100857       1.0   78.00         0     10099  \n",
       "\n",
       "[38466003 rows x 10 columns]>"
      ]
     },
     "execution_count": 9,
     "metadata": {},
     "output_type": "execute_result"
    }
   ],
   "source": [
    "df_cleaned.count"
   ]
  },
  {
   "cell_type": "code",
   "execution_count": 11,
   "metadata": {},
   "outputs": [
    {
     "data": {
      "text/html": [
       "<div>\n",
       "<style scoped>\n",
       "    .dataframe tbody tr th:only-of-type {\n",
       "        vertical-align: middle;\n",
       "    }\n",
       "\n",
       "    .dataframe tbody tr th {\n",
       "        vertical-align: top;\n",
       "    }\n",
       "\n",
       "    .dataframe thead th {\n",
       "        text-align: right;\n",
       "    }\n",
       "</style>\n",
       "<table border=\"1\" class=\"dataframe\">\n",
       "  <thead>\n",
       "    <tr style=\"text-align: right;\">\n",
       "      <th></th>\n",
       "      <th>id_tov</th>\n",
       "      <th>id_group</th>\n",
       "      <th>name_group</th>\n",
       "    </tr>\n",
       "  </thead>\n",
       "  <tbody>\n",
       "    <tr>\n",
       "      <th>0</th>\n",
       "      <td>52</td>\n",
       "      <td>10004</td>\n",
       "      <td>Кисломолочные продукты</td>\n",
       "    </tr>\n",
       "    <tr>\n",
       "      <th>1</th>\n",
       "      <td>75</td>\n",
       "      <td>10004</td>\n",
       "      <td>Кисломолочные продукты</td>\n",
       "    </tr>\n",
       "    <tr>\n",
       "      <th>2</th>\n",
       "      <td>77</td>\n",
       "      <td>10004</td>\n",
       "      <td>Кисломолочные продукты</td>\n",
       "    </tr>\n",
       "    <tr>\n",
       "      <th>3</th>\n",
       "      <td>143</td>\n",
       "      <td>10004</td>\n",
       "      <td>Кисломолочные продукты</td>\n",
       "    </tr>\n",
       "    <tr>\n",
       "      <th>4</th>\n",
       "      <td>151</td>\n",
       "      <td>10004</td>\n",
       "      <td>Кисломолочные продукты</td>\n",
       "    </tr>\n",
       "  </tbody>\n",
       "</table>\n",
       "</div>"
      ],
      "text/plain": [
       "   id_tov  id_group              name_group\n",
       "0      52     10004  Кисломолочные продукты\n",
       "1      75     10004  Кисломолочные продукты\n",
       "2      77     10004  Кисломолочные продукты\n",
       "3     143     10004  Кисломолочные продукты\n",
       "4     151     10004  Кисломолочные продукты"
      ]
     },
     "execution_count": 11,
     "metadata": {},
     "output_type": "execute_result"
    }
   ],
   "source": [
    "p_g = pd.read_csv('./product_groups.csv', delimiter=';', encoding='windows-1251')\n",
    "p_g.head()"
   ]
  },
  {
   "cell_type": "markdown",
   "metadata": {},
   "source": [
    "## Task 1\n",
    "\n",
    "Prove that buying discounted products depends on the average order sum. (It is more probable that the discounted product will be bought if bunch of money is going to be spend)"
   ]
  },
  {
   "cell_type": "code",
   "execution_count": 47,
   "metadata": {},
   "outputs": [
    {
     "data": {
      "text/plain": [
       "2611563"
      ]
     },
     "execution_count": 47,
     "metadata": {},
     "output_type": "execute_result"
    }
   ],
   "source": [
    "# Number of positions which were bought with discount card\n",
    "number_of_discounted_positions = len(df_cleaned[df_cleaned['is_green'] == 1])\n",
    "number_of_discounted_positions"
   ]
  },
  {
   "cell_type": "code",
   "execution_count": 34,
   "metadata": {},
   "outputs": [
    {
     "data": {
      "text/plain": [
       "id_doc\n",
       "19     165.0\n",
       "60      54.6\n",
       "76     114.6\n",
       "138     93.0\n",
       "152     99.6\n",
       "Name: sum, dtype: float64"
      ]
     },
     "execution_count": 34,
     "metadata": {},
     "output_type": "execute_result"
    }
   ],
   "source": [
    "# Checks that were paid with a discount card\n",
    "discount_checks = df_cleaned[df_cleaned['is_green'] == 1].groupby(by=['id_doc']).sum()['sum']\n",
    "discount_checks.head()"
   ]
  },
  {
   "cell_type": "code",
   "execution_count": 35,
   "metadata": {},
   "outputs": [
    {
     "data": {
      "text/plain": [
       "190.68263650307046"
      ]
     },
     "execution_count": 35,
     "metadata": {},
     "output_type": "execute_result"
    }
   ],
   "source": [
    "# Mean discounted check\n",
    "discount_checks.mean()"
   ]
  },
  {
   "cell_type": "code",
   "execution_count": 48,
   "metadata": {},
   "outputs": [
    {
     "data": {
      "text/plain": [
       "id_doc\n",
       "2     178.00\n",
       "4      32.00\n",
       "18    155.00\n",
       "31    143.42\n",
       "40     89.00\n",
       "Name: sum, dtype: float64"
      ]
     },
     "execution_count": 48,
     "metadata": {},
     "output_type": "execute_result"
    }
   ],
   "source": [
    "# Checks that were paid without a discount card\n",
    "non_discount_checks = (\n",
    "    df_cleaned[df_cleaned['is_green'] == 0]\n",
    "        .sample(n=number_of_discounted_positions)\n",
    "        .groupby(by=['id_doc']).sum()['sum']\n",
    "    )\n",
    "non_discount_checks.head()"
   ]
  },
  {
   "cell_type": "code",
   "execution_count": 49,
   "metadata": {},
   "outputs": [
    {
     "data": {
      "text/plain": [
       "156.45516568185857"
      ]
     },
     "execution_count": 49,
     "metadata": {},
     "output_type": "execute_result"
    }
   ],
   "source": [
    "# Mean with any discounts check\n",
    "non_discount_checks.mean()"
   ]
  },
  {
   "cell_type": "code",
   "execution_count": 50,
   "metadata": {},
   "outputs": [
    {
     "data": {
      "text/plain": [
       "Ttest_indResult(statistic=162.7144960274809, pvalue=0.0)"
      ]
     },
     "execution_count": 50,
     "metadata": {},
     "output_type": "execute_result"
    }
   ],
   "source": [
    "# Calculate the T-test for the means of two independent samples of scores.\n",
    "ttest_ind(discount_checks, non_discount_checks)"
   ]
  },
  {
   "cell_type": "markdown",
   "metadata": {},
   "source": [
    "#### P-Value is low, therefore we reject the null hypothesis of equal averages. Therefore discounted checks in average higher than checks without discounts.\n",
    "\n",
    "#### Prove!!!"
   ]
  },
  {
   "cell_type": "markdown",
   "metadata": {},
   "source": [
    "## Task 2\n",
    "Prove that the frequency of shopping grows around the wage taking days."
   ]
  },
  {
   "cell_type": "code",
   "execution_count": 52,
   "metadata": {},
   "outputs": [
    {
     "data": {
      "text/html": [
       "<div>\n",
       "<style scoped>\n",
       "    .dataframe tbody tr th:only-of-type {\n",
       "        vertical-align: middle;\n",
       "    }\n",
       "\n",
       "    .dataframe tbody tr th {\n",
       "        vertical-align: top;\n",
       "    }\n",
       "\n",
       "    .dataframe thead th {\n",
       "        text-align: right;\n",
       "    }\n",
       "</style>\n",
       "<table border=\"1\" class=\"dataframe\">\n",
       "  <thead>\n",
       "    <tr style=\"text-align: right;\">\n",
       "      <th></th>\n",
       "      <th>date</th>\n",
       "      <th>id_doc</th>\n",
       "      <th>id_order</th>\n",
       "      <th>id_card</th>\n",
       "      <th>id_tov</th>\n",
       "      <th>id_kontr</th>\n",
       "      <th>quantity</th>\n",
       "      <th>sum</th>\n",
       "      <th>is_green</th>\n",
       "      <th>id_group</th>\n",
       "    </tr>\n",
       "    <tr>\n",
       "      <th>date</th>\n",
       "      <th></th>\n",
       "      <th></th>\n",
       "      <th></th>\n",
       "      <th></th>\n",
       "      <th></th>\n",
       "      <th></th>\n",
       "      <th></th>\n",
       "      <th></th>\n",
       "      <th></th>\n",
       "      <th></th>\n",
       "    </tr>\n",
       "  </thead>\n",
       "  <tbody>\n",
       "    <tr>\n",
       "      <th>2020-09-01 17:01:25</th>\n",
       "      <td>2020-09-01 17:01:25</td>\n",
       "      <td>1283228</td>\n",
       "      <td>0.0</td>\n",
       "      <td>1538855</td>\n",
       "      <td>52</td>\n",
       "      <td>271</td>\n",
       "      <td>1.0</td>\n",
       "      <td>108.00</td>\n",
       "      <td>0</td>\n",
       "      <td>10004</td>\n",
       "    </tr>\n",
       "    <tr>\n",
       "      <th>2020-09-01 17:35:36</th>\n",
       "      <td>2020-09-01 17:35:36</td>\n",
       "      <td>8873113</td>\n",
       "      <td>0.0</td>\n",
       "      <td>267307</td>\n",
       "      <td>52</td>\n",
       "      <td>271</td>\n",
       "      <td>1.0</td>\n",
       "      <td>108.00</td>\n",
       "      <td>0</td>\n",
       "      <td>10004</td>\n",
       "    </tr>\n",
       "    <tr>\n",
       "      <th>2020-09-01 19:19:21</th>\n",
       "      <td>2020-09-01 19:19:21</td>\n",
       "      <td>12712899</td>\n",
       "      <td>0.0</td>\n",
       "      <td>610220</td>\n",
       "      <td>52</td>\n",
       "      <td>271</td>\n",
       "      <td>1.0</td>\n",
       "      <td>107.95</td>\n",
       "      <td>0</td>\n",
       "      <td>10004</td>\n",
       "    </tr>\n",
       "    <tr>\n",
       "      <th>2020-09-01 21:53:34</th>\n",
       "      <td>2020-09-01 21:53:34</td>\n",
       "      <td>21535283</td>\n",
       "      <td>0.0</td>\n",
       "      <td>441497</td>\n",
       "      <td>52</td>\n",
       "      <td>271</td>\n",
       "      <td>1.0</td>\n",
       "      <td>108.00</td>\n",
       "      <td>0</td>\n",
       "      <td>10004</td>\n",
       "    </tr>\n",
       "    <tr>\n",
       "      <th>2020-09-01 18:42:31</th>\n",
       "      <td>2020-09-01 18:42:31</td>\n",
       "      <td>642341</td>\n",
       "      <td>0.0</td>\n",
       "      <td>1065358</td>\n",
       "      <td>61</td>\n",
       "      <td>97</td>\n",
       "      <td>2.0</td>\n",
       "      <td>88.00</td>\n",
       "      <td>0</td>\n",
       "      <td>10091</td>\n",
       "    </tr>\n",
       "    <tr>\n",
       "      <th>...</th>\n",
       "      <td>...</td>\n",
       "      <td>...</td>\n",
       "      <td>...</td>\n",
       "      <td>...</td>\n",
       "      <td>...</td>\n",
       "      <td>...</td>\n",
       "      <td>...</td>\n",
       "      <td>...</td>\n",
       "      <td>...</td>\n",
       "      <td>...</td>\n",
       "    </tr>\n",
       "    <tr>\n",
       "      <th>2020-09-30 11:26:28</th>\n",
       "      <td>2020-09-30 11:26:28</td>\n",
       "      <td>4850561</td>\n",
       "      <td>0.0</td>\n",
       "      <td>1739990</td>\n",
       "      <td>25292</td>\n",
       "      <td>17528</td>\n",
       "      <td>1.0</td>\n",
       "      <td>130.00</td>\n",
       "      <td>0</td>\n",
       "      <td>10099</td>\n",
       "    </tr>\n",
       "    <tr>\n",
       "      <th>2020-09-30 08:12:39</th>\n",
       "      <td>2020-09-30 08:12:39</td>\n",
       "      <td>10015419</td>\n",
       "      <td>0.0</td>\n",
       "      <td>1761351</td>\n",
       "      <td>30740</td>\n",
       "      <td>19188</td>\n",
       "      <td>2.0</td>\n",
       "      <td>120.00</td>\n",
       "      <td>0</td>\n",
       "      <td>10008</td>\n",
       "    </tr>\n",
       "    <tr>\n",
       "      <th>2020-09-30 09:54:24</th>\n",
       "      <td>2020-09-30 09:54:24</td>\n",
       "      <td>22816791</td>\n",
       "      <td>0.0</td>\n",
       "      <td>1432778</td>\n",
       "      <td>30741</td>\n",
       "      <td>19188</td>\n",
       "      <td>1.0</td>\n",
       "      <td>73.00</td>\n",
       "      <td>0</td>\n",
       "      <td>10254</td>\n",
       "    </tr>\n",
       "    <tr>\n",
       "      <th>2020-09-30 12:00:04</th>\n",
       "      <td>2020-09-30 12:00:04</td>\n",
       "      <td>1648929</td>\n",
       "      <td>0.0</td>\n",
       "      <td>484390</td>\n",
       "      <td>34835</td>\n",
       "      <td>15916</td>\n",
       "      <td>1.0</td>\n",
       "      <td>78.00</td>\n",
       "      <td>0</td>\n",
       "      <td>10099</td>\n",
       "    </tr>\n",
       "    <tr>\n",
       "      <th>2020-09-30 09:37:16</th>\n",
       "      <td>2020-09-30 09:37:16</td>\n",
       "      <td>22302533</td>\n",
       "      <td>0.0</td>\n",
       "      <td>557627</td>\n",
       "      <td>34835</td>\n",
       "      <td>15916</td>\n",
       "      <td>1.0</td>\n",
       "      <td>78.00</td>\n",
       "      <td>0</td>\n",
       "      <td>10099</td>\n",
       "    </tr>\n",
       "  </tbody>\n",
       "</table>\n",
       "<p>38466003 rows × 10 columns</p>\n",
       "</div>"
      ],
      "text/plain": [
       "                                    date    id_doc  id_order  id_card  id_tov  \\\n",
       "date                                                                            \n",
       "2020-09-01 17:01:25  2020-09-01 17:01:25   1283228       0.0  1538855      52   \n",
       "2020-09-01 17:35:36  2020-09-01 17:35:36   8873113       0.0   267307      52   \n",
       "2020-09-01 19:19:21  2020-09-01 19:19:21  12712899       0.0   610220      52   \n",
       "2020-09-01 21:53:34  2020-09-01 21:53:34  21535283       0.0   441497      52   \n",
       "2020-09-01 18:42:31  2020-09-01 18:42:31    642341       0.0  1065358      61   \n",
       "...                                  ...       ...       ...      ...     ...   \n",
       "2020-09-30 11:26:28  2020-09-30 11:26:28   4850561       0.0  1739990   25292   \n",
       "2020-09-30 08:12:39  2020-09-30 08:12:39  10015419       0.0  1761351   30740   \n",
       "2020-09-30 09:54:24  2020-09-30 09:54:24  22816791       0.0  1432778   30741   \n",
       "2020-09-30 12:00:04  2020-09-30 12:00:04   1648929       0.0   484390   34835   \n",
       "2020-09-30 09:37:16  2020-09-30 09:37:16  22302533       0.0   557627   34835   \n",
       "\n",
       "                     id_kontr  quantity     sum  is_green  id_group  \n",
       "date                                                                 \n",
       "2020-09-01 17:01:25       271       1.0  108.00         0     10004  \n",
       "2020-09-01 17:35:36       271       1.0  108.00         0     10004  \n",
       "2020-09-01 19:19:21       271       1.0  107.95         0     10004  \n",
       "2020-09-01 21:53:34       271       1.0  108.00         0     10004  \n",
       "2020-09-01 18:42:31        97       2.0   88.00         0     10091  \n",
       "...                       ...       ...     ...       ...       ...  \n",
       "2020-09-30 11:26:28     17528       1.0  130.00         0     10099  \n",
       "2020-09-30 08:12:39     19188       2.0  120.00         0     10008  \n",
       "2020-09-30 09:54:24     19188       1.0   73.00         0     10254  \n",
       "2020-09-30 12:00:04     15916       1.0   78.00         0     10099  \n",
       "2020-09-30 09:37:16     15916       1.0   78.00         0     10099  \n",
       "\n",
       "[38466003 rows x 10 columns]"
      ]
     },
     "execution_count": 52,
     "metadata": {},
     "output_type": "execute_result"
    }
   ],
   "source": [
    "# Make date column as index column in dataframe\n",
    "df_cleaned.index = pd.to_datetime(df_cleaned['date'],format='%Y-%m-%d %H:%M:%S')\n",
    "df_cleaned"
   ]
  },
  {
   "cell_type": "code",
   "execution_count": 53,
   "metadata": {},
   "outputs": [],
   "source": [
    "# Dataframe with number of checks per day\n",
    "number_of_checks_per_day = df_cleaned.groupby(by=[df_cleaned.index.day])['id_doc'].count()"
   ]
  },
  {
   "cell_type": "code",
   "execution_count": 71,
   "metadata": {},
   "outputs": [
    {
     "data": {
      "text/html": [
       "<div>\n",
       "<style scoped>\n",
       "    .dataframe tbody tr th:only-of-type {\n",
       "        vertical-align: middle;\n",
       "    }\n",
       "\n",
       "    .dataframe tbody tr th {\n",
       "        vertical-align: top;\n",
       "    }\n",
       "\n",
       "    .dataframe thead th {\n",
       "        text-align: right;\n",
       "    }\n",
       "</style>\n",
       "<table border=\"1\" class=\"dataframe\">\n",
       "  <thead>\n",
       "    <tr style=\"text-align: right;\">\n",
       "      <th></th>\n",
       "      <th>count</th>\n",
       "    </tr>\n",
       "    <tr>\n",
       "      <th>date</th>\n",
       "      <th></th>\n",
       "    </tr>\n",
       "  </thead>\n",
       "  <tbody>\n",
       "    <tr>\n",
       "      <th>1</th>\n",
       "      <td>1269893</td>\n",
       "    </tr>\n",
       "    <tr>\n",
       "      <th>2</th>\n",
       "      <td>1285415</td>\n",
       "    </tr>\n",
       "    <tr>\n",
       "      <th>3</th>\n",
       "      <td>1287425</td>\n",
       "    </tr>\n",
       "    <tr>\n",
       "      <th>4</th>\n",
       "      <td>1270192</td>\n",
       "    </tr>\n",
       "    <tr>\n",
       "      <th>5</th>\n",
       "      <td>1053459</td>\n",
       "    </tr>\n",
       "  </tbody>\n",
       "</table>\n",
       "</div>"
      ],
      "text/plain": [
       "        count\n",
       "date         \n",
       "1     1269893\n",
       "2     1285415\n",
       "3     1287425\n",
       "4     1270192\n",
       "5     1053459"
      ]
     },
     "execution_count": 71,
     "metadata": {},
     "output_type": "execute_result"
    }
   ],
   "source": [
    "number_of_checks_per_day = number_of_checks_per_day.to_frame().rename(columns={'id_doc': 'count'})\n",
    "number_of_checks_per_day.head()"
   ]
  },
  {
   "cell_type": "code",
   "execution_count": 76,
   "metadata": {},
   "outputs": [
    {
     "data": {
      "image/png": "[encoded data removed]",
      "text/plain": [
       "<Figure size 432x288 with 1 Axes>"
      ]
     },
     "metadata": {
      "needs_background": "light"
     },
     "output_type": "display_data"
    }
   ],
   "source": [
    "g = seaborn.lineplot(data=number_of_checks_per_day, x=\"date\", y=\"count\")"
   ]
  },
  {
   "cell_type": "markdown",
   "metadata": {},
   "source": [
    "#### We can see that after the 5th and 20th there is a sharp increase in the number of checks. Consequently, on payday, people go to the stores to buy food\n",
    "\n",
    "#### Prove"
   ]
  },
  {
   "cell_type": "markdown",
   "metadata": {},
   "source": [
    "## Task 3\n",
    "Define such cohort existance:\n",
    "1. Frequent buyers - The users that are shopping frequently(daily, weekly, monthly) \n",
    "2. Average purchase sum - The customers that usually spend the same amount of money \n",
    "3. Orders amount - The customers grouped by the total numer of orders \n",
    "4. Usual cart - The customers grouped by the product groups\n",
    "\n",
    "References\n",
    "- https://towardsdatascience.com/a-step-by-step-introduction-to-cohort-analysis-in-python-a2cbbd8460ea"
   ]
  },
  {
   "cell_type": "code",
   "execution_count": 77,
   "metadata": {},
   "outputs": [
    {
     "data": {
      "text/plain": [
       "<pandas.core.groupby.generic.DataFrameGroupBy object at 0x15c7f0d30>"
      ]
     },
     "execution_count": 77,
     "metadata": {},
     "output_type": "execute_result"
    }
   ],
   "source": [
    "# Frequent buyers\n",
    "frequent_buyers = df_cleaned.groupby(by=['id_doc'])\n",
    "frequent_buyers"
   ]
  },
  {
   "cell_type": "code",
   "execution_count": 102,
   "metadata": {},
   "outputs": [
    {
     "data": {
      "text/plain": [
       "{1: [1, 2, 7, 9, 13, 18, 29, 40, 44, 58, 60, 62, 76, 85, 86, 87, 101, 114, 116, 124, 153, 182, 186, 190, 196, 205, 217, 223, 225, 229, 244, 254, 263, 274, 276, 278, 279, 308, 311, 313, 316, 323, 332, 337, 371, 372, 373, 380, 383, 385, 386, 387, 389, 397, 401, 402, 411, 415, 416, 417, 418, 426, 431, 433, 437, 443, 445, 446, 448, 453, 454, 458, 460, 461, 470, 475, 476, 478, 490, 493, 503, 504, 507, 514, 530, 534, 543, 555, 557, 561, 562, 564, 579, 598, 607, 608, 609, 610, 613, 614, ...], 2: [8, 21, 24, 33, 89, 111, 132, 148, 164, 206, 250, 260, 269, 270, 289, 291, 318, 348, 425, 427, 436, 440, 442, 450, 456, 466, 467, 486, 513, 518, 523, 546, 559, 563, 577, 581, 582, 584, 592, 595, 601, 625, 638, 643, 647, 654, 716, 719, 737, 742, 748, 754, 764, 789, 790, 802, 809, 821, 822, 853, 854, 867, 885, 889, 900, 901, 903, 908, 938, 942, 952, 963, 965, 968, 970, 975, 978, 995, 1003, 1016, 1028, 1029, 1045, 1048, 1052, 1065, 1066, 1075, 1101, 1107, 1115, 1125, 1135, 1156, 1157, 1182, 1207, 1211, 1212, 1220, ...], 3: [16, 69, 70, 107, 115, 126, 143, 157, 201, 228, 240, 255, 293, 359, 441, 477, 479, 481, 497, 532, 544, 568, 570, 574, 575, 585, 591, 616, 635, 636, 671, 672, 675, 695, 696, 698, 700, 710, 732, 778, 782, 785, 823, 833, 851, 862, 871, 879, 888, 914, 915, 932, 935, 939, 955, 959, 969, 988, 1005, 1018, 1047, 1076, 1079, 1087, 1099, 1127, 1134, 1142, 1150, 1154, 1175, 1193, 1201, 1214, 1243, 1256, 1258, 1262, 1263, 1278, 1283, 1318, 1322, 1328, 1360, 1364, 1367, 1391, 1399, 1412, 1416, 1432, 1472, 1474, 1476, 1481, 1492, 1497, 1500, 1502, ...], 4: [39, 45, 97, 118, 147, 257, 346, 356, 368, 378, 400, 408, 412, 413, 421, 452, 464, 471, 474, 480, 498, 505, 539, 586, 624, 628, 641, 658, 683, 697, 728, 744, 758, 777, 786, 796, 819, 820, 841, 845, 849, 870, 875, 882, 928, 943, 949, 973, 1082, 1094, 1159, 1183, 1197, 1198, 1224, 1227, 1244, 1248, 1264, 1274, 1287, 1292, 1335, 1337, 1345, 1351, 1357, 1375, 1384, 1419, 1431, 1459, 1462, 1484, 1489, 1495, 1499, 1507, 1517, 1547, 1557, 1560, 1563, 1609, 1612, 1646, 1657, 1669, 1679, 1719, 1742, 1754, 1786, 1800, 1803, 1858, 1868, 1869, 1878, 1964, ...], 5: [4, 154, 161, 204, 256, 285, 335, 353, 375, 398, 409, 447, 465, 484, 506, 589, 699, 703, 705, 718, 736, 759, 760, 773, 787, 838, 840, 856, 863, 869, 887, 896, 937, 961, 983, 990, 999, 1072, 1106, 1110, 1119, 1140, 1144, 1151, 1168, 1180, 1209, 1228, 1234, 1235, 1242, 1252, 1253, 1255, 1300, 1313, 1369, 1385, 1394, 1420, 1488, 1515, 1525, 1528, 1541, 1558, 1559, 1571, 1572, 1575, 1641, 1681, 1813, 1845, 1848, 1851, 1853, 1855, 1873, 1882, 1892, 1901, 1902, 1912, 1919, 1975, 1993, 2001, 2061, 2089, 2108, 2121, 2124, 2127, 2152, 2194, 2210, 2248, 2250, 2296, ...], 6: [17, 38, 43, 68, 74, 83, 93, 127, 145, 193, 219, 324, 434, 469, 473, 491, 492, 494, 499, 510, 519, 538, 551, 596, 651, 676, 704, 795, 804, 843, 892, 913, 946, 958, 1044, 1053, 1060, 1061, 1080, 1085, 1117, 1143, 1231, 1305, 1319, 1324, 1325, 1333, 1368, 1379, 1390, 1415, 1435, 1478, 1480, 1493, 1580, 1590, 1613, 1619, 1626, 1635, 1638, 1647, 1700, 1721, 1744, 1746, 1806, 1807, 1929, 1940, 1947, 1954, 1983, 2012, 2018, 2052, 2058, 2062, 2066, 2086, 2104, 2147, 2156, 2159, 2182, 2213, 2231, 2241, 2253, 2277, 2285, 2292, 2328, 2344, 2361, 2368, 2370, 2439, ...], 7: [11, 47, 52, 66, 106, 117, 167, 181, 241, 284, 376, 537, 553, 600, 605, 629, 746, 755, 791, 816, 904, 920, 966, 1027, 1035, 1095, 1147, 1188, 1189, 1265, 1276, 1295, 1574, 1592, 1598, 1624, 1665, 1704, 1758, 1799, 1856, 1872, 1890, 1948, 1949, 1979, 1982, 2077, 2079, 2090, 2143, 2189, 2244, 2251, 2276, 2297, 2301, 2309, 2338, 2363, 2379, 2391, 2409, 2438, 2463, 2495, 2514, 2540, 2558, 2722, 2742, 2824, 2865, 2917, 2972, 2978, 2990, 2991, 3031, 3044, 3049, 3097, 3141, 3206, 3267, 3372, 3450, 3524, 3546, 3656, 3688, 3706, 3763, 3786, 3836, 3924, 3967, 3970, 3996, 4012, ...], 8: [26, 210, 315, 405, 432, 541, 556, 593, 639, 664, 726, 733, 750, 784, 817, 848, 886, 897, 926, 1002, 1041, 1043, 1090, 1114, 1155, 1208, 1281, 1352, 1373, 1430, 1460, 1465, 1486, 1608, 1667, 1668, 1676, 1692, 1724, 1729, 1772, 1794, 1836, 1879, 1881, 1911, 1955, 1986, 1997, 2065, 2119, 2149, 2223, 2263, 2266, 2323, 2369, 2389, 2425, 2455, 2551, 2625, 2713, 2734, 2763, 2765, 2797, 2810, 2834, 2858, 2912, 2937, 2953, 2959, 2998, 3012, 3037, 3076, 3131, 3277, 3286, 3297, 3328, 3410, 3418, 3425, 3429, 3430, 3451, 3472, 3533, 3568, 3592, 3627, 3632, 3668, 3776, 3965, 3973, 4056, ...], 9: [3, 10, 28, 73, 84, 95, 128, 221, 298, 435, 489, 527, 558, 566, 567, 580, 603, 619, 631, 669, 691, 725, 743, 767, 781, 811, 859, 864, 883, 922, 931, 964, 987, 997, 1063, 1118, 1145, 1164, 1184, 1216, 1259, 1323, 1338, 1356, 1408, 1494, 1562, 1566, 1622, 1628, 1629, 1631, 1701, 1703, 1753, 1875, 1883, 1909, 2026, 2043, 2174, 2218, 2260, 2268, 2299, 2334, 2345, 2353, 2378, 2532, 2593, 2656, 2700, 2711, 2761, 2798, 2879, 2902, 2916, 2919, 2936, 2996, 3038, 3050, 3057, 3098, 3126, 3146, 3149, 3162, 3196, 3263, 3313, 3342, 3351, 3364, 3384, 3402, 3434, 3455, ...], 10: [0, 46, 138, 247, 307, 328, 404, 422, 487, 495, 583, 611, 644, 751, 768, 774, 829, 919, 929, 954, 1049, 1126, 1133, 1161, 1179, 1250, 1268, 1280, 1358, 1371, 1378, 1382, 1442, 1466, 1467, 1496, 1614, 1634, 1648, 1755, 1763, 1791, 1870, 1971, 2017, 2057, 2063, 2074, 2117, 2132, 2157, 2164, 2240, 2243, 2319, 2341, 2424, 2432, 2512, 2520, 2522, 2536, 2579, 2592, 2654, 2691, 2751, 2924, 2935, 3172, 3176, 3254, 3298, 3301, 3390, 3393, 3421, 3528, 3539, 3541, 3590, 3726, 3741, 3755, 3956, 3983, 3995, 4000, 4052, 4058, 4118, 4138, 4186, 4191, 4302, 4327, 4355, 4424, 4438, 4439, ...], 11: [12, 30, 48, 55, 102, 149, 160, 170, 214, 296, 341, 451, 488, 571, 597, 599, 717, 788, 814, 830, 927, 974, 996, 1013, 1023, 1024, 1083, 1088, 1178, 1225, 1366, 1456, 1469, 1610, 1677, 1696, 1776, 1833, 1888, 1908, 1944, 1957, 2010, 2011, 2035, 2128, 2196, 2281, 2287, 2305, 2337, 2371, 2443, 2464, 2484, 2560, 2582, 2609, 2733, 2744, 3025, 3065, 3085, 3102, 3171, 3272, 3446, 3483, 3506, 3518, 3562, 3638, 3691, 3702, 3750, 3762, 3794, 3887, 3908, 3953, 3992, 4003, 4177, 4236, 4258, 4274, 4343, 4477, 4479, 4548, 4560, 4637, 4648, 4649, 4650, 4720, 4749, 4777, 4783, 4793, ...], 12: [59, 192, 239, 395, 485, 496, 576, 606, 648, 668, 693, 709, 712, 779, 861, 1031, 1040, 1064, 1093, 1097, 1222, 1236, 1308, 1327, 1329, 1383, 1407, 1436, 1455, 1506, 1627, 1675, 1734, 1804, 1816, 1817, 1874, 1972, 2027, 2037, 2100, 2125, 2168, 2221, 2315, 2372, 2405, 2418, 2591, 2646, 2666, 2766, 2809, 2821, 2839, 2927, 2994, 3064, 3362, 3503, 3514, 3545, 3606, 3687, 3766, 3886, 3926, 3943, 3950, 3977, 4007, 4090, 4116, 4125, 4181, 4187, 4215, 4248, 4256, 4268, 4317, 4366, 4382, 4402, 4450, 4644, 4669, 4738, 4779, 4782, 4960, 4972, 4991, 5019, 5100, 5117, 5325, 5418, 5463, 5486, ...], 13: [136, 259, 319, 327, 367, 522, 525, 533, 765, 769, 877, 880, 881, 991, 993, 1015, 1051, 1084, 1130, 1192, 1219, 1423, 1439, 1449, 1531, 1570, 1671, 1686, 1710, 1727, 1808, 1826, 1987, 2099, 2118, 2120, 2151, 2214, 2300, 2304, 2312, 2401, 2528, 2589, 2607, 2643, 2695, 2775, 2851, 3030, 3377, 3396, 3438, 3464, 3469, 3507, 3550, 3573, 3623, 3722, 4037, 4103, 4111, 4272, 4326, 4367, 4604, 4762, 4766, 4930, 4955, 5108, 5115, 5119, 5129, 5194, 5245, 5273, 5339, 5355, 5373, 5498, 5511, 5593, 5602, 5605, 5624, 5649, 5792, 5793, 5868, 5987, 6101, 6134, 6158, 6181, 6203, 6218, 6281, 6309, ...], 14: [152, 202, 321, 552, 633, 686, 688, 707, 762, 839, 948, 1006, 1010, 1136, 1245, 1246, 1301, 1380, 1454, 1475, 1530, 1702, 1747, 1903, 1937, 1961, 1984, 2003, 2351, 2436, 2513, 2608, 2856, 2863, 2866, 3109, 3130, 3180, 3230, 3270, 3271, 3565, 3591, 3640, 3715, 3785, 3869, 3946, 3963, 3991, 4199, 4226, 4230, 4245, 4296, 4379, 4419, 4534, 4551, 4698, 4732, 4822, 4841, 4923, 4947, 4952, 4970, 4987, 5029, 5076, 5104, 5246, 5264, 5545, 5550, 5800, 5939, 5964, 5986, 6002, 6024, 6034, 6035, 6092, 6099, 6112, 6176, 6206, 6296, 6297, 6350, 6395, 6441, 6464, 6496, 6498, 6668, 6677, 6709, 6955, ...], 15: [65, 77, 125, 150, 238, 347, 459, 502, 545, 573, 731, 891, 906, 994, 1022, 1149, 1165, 1286, 1299, 1374, 1377, 1398, 1597, 1630, 1682, 1821, 2045, 2050, 2271, 2348, 2486, 2537, 2566, 2720, 2868, 2898, 2918, 3032, 3209, 3222, 3242, 3249, 3268, 3336, 3419, 3427, 3574, 3610, 3719, 3727, 3849, 3895, 4142, 4201, 4263, 4267, 4306, 4308, 4481, 4554, 4666, 4728, 4742, 4773, 4883, 4906, 4908, 5084, 5103, 5240, 5322, 5420, 5515, 5537, 5758, 5925, 6027, 6075, 6208, 6352, 6373, 6406, 6530, 6537, 6618, 6657, 6695, 7002, 7003, 7008, 7013, 7050, 7265, 7475, 7533, 7553, 7605, 7678, 7738, 7863, ...], 16: [72, 100, 233, 343, 345, 626, 627, 665, 835, 918, 950, 976, 1421, 1429, 1585, 1643, 1650, 1762, 1823, 1992, 2009, 2024, 2396, 2444, 2491, 2553, 2565, 2577, 2674, 2767, 2861, 3008, 3033, 3040, 3292, 3383, 3399, 3415, 3454, 3465, 3535, 3554, 3561, 3689, 3862, 4098, 4246, 4342, 4518, 4632, 4768, 4898, 4999, 5107, 5408, 5430, 5446, 5885, 5945, 5981, 5997, 6022, 6050, 6233, 6362, 6379, 6731, 6750, 6766, 7011, 7156, 7181, 7348, 7451, 7568, 7674, 7761, 7829, 7865, 7903, 7932, 7948, 7991, 8044, 8102, 8153, 8256, 8261, 8346, 8443, 8463, 8471, 8551, 8890, 9017, 9081, 9171, 9325, 9449, 9462, ...], 17: [22, 91, 142, 172, 178, 185, 216, 344, 350, 857, 912, 1050, 1067, 1086, 1422, 1461, 1588, 1623, 1900, 1973, 2302, 2605, 2755, 2832, 2859, 2947, 3002, 3118, 3145, 3318, 3341, 3942, 3964, 4040, 4249, 4250, 4372, 4433, 4703, 4719, 4889, 4911, 4920, 4971, 4981, 5081, 5202, 5204, 5222, 5524, 5691, 5786, 5889, 5903, 5906, 5927, 6072, 6080, 6243, 6311, 6357, 6412, 6437, 6486, 6489, 6492, 6615, 6803, 6846, 6924, 7010, 7474, 7512, 7552, 7573, 7705, 7987, 8014, 8101, 8238, 8305, 8313, 8503, 8585, 8618, 8681, 8695, 8744, 8895, 8897, 8944, 9144, 9181, 9305, 9307, 9323, 9602, 9603, 9703, 9837, ...], 18: [189, 231, 234, 249, 634, 780, 794, 1199, 1200, 1233, 1254, 1498, 1607, 1674, 1771, 1841, 1914, 2007, 2046, 2162, 2186, 2233, 2249, 2350, 2382, 2394, 2604, 2627, 2962, 3095, 3388, 3914, 3927, 3998, 4135, 4206, 4422, 4446, 4465, 4521, 4674, 4700, 4704, 4804, 4864, 4932, 5131, 5276, 5374, 5444, 5583, 5638, 5647, 5676, 5746, 5775, 5831, 5958, 5961, 5993, 6102, 6254, 6298, 6369, 6563, 6629, 6681, 6884, 7603, 7647, 7853, 7972, 8099, 8358, 8389, 8466, 8486, 8515, 8522, 8567, 8702, 8711, 8822, 8828, 9077, 9105, 9143, 9189, 9374, 9549, 9646, 9667, 9838, 10592, 10655, 10868, 10935, 11109, 11189, 11259, ...], 19: [194, 222, 265, 390, 615, 657, 692, 715, 792, 815, 902, 945, 984, 1132, 1733, 1739, 1842, 1953, 1958, 2153, 2201, 2433, 2584, 2586, 2624, 2684, 2875, 3070, 3190, 3374, 3487, 3543, 3570, 3572, 3575, 3617, 3805, 4114, 4270, 4288, 4541, 4661, 4815, 4824, 4843, 4982, 5046, 5331, 6307, 6674, 7089, 7444, 7644, 7657, 7712, 7857, 8114, 8198, 8447, 9315, 9365, 9467, 9483, 9863, 9893, 10015, 10681, 10732, 10785, 10854, 11362, 11701, 11728, 11809, 11876, 11895, 11902, 11948, 12131, 12162, 12315, 12640, 13239, 13359, 13514, 13613, 13868, 13937, 14441, 14557, 14661, 14675, 14771, 14773, 14835, 15199, 15301, 15388, 15850, 16024, ...], 20: [15, 25, 37, 224, 248, 365, 622, 681, 808, 873, 1205, 1277, 1386, 1605, 1713, 1780, 1889, 2019, 2158, 2576, 2601, 3045, 3212, 3754, 4174, 4845, 5138, 5143, 5167, 5340, 5555, 5576, 5611, 5955, 6056, 6223, 6231, 6256, 6343, 6405, 6427, 6444, 6505, 6522, 6690, 6900, 7074, 7104, 7133, 7251, 7352, 7998, 8144, 8357, 8414, 8487, 8564, 8729, 8767, 8814, 9086, 9145, 9347, 9424, 9442, 9852, 10029, 10030, 10176, 10409, 10571, 10639, 10719, 10748, 10806, 10827, 10979, 11343, 11381, 11498, 11781, 12043, 12059, 12394, 12485, 12636, 12662, 12740, 13123, 13187, 13314, 13503, 14503, 14566, 14630, 14709, 14728, 14824, 14969, 15048, ...], 21: [14, 94, 282, 500, 653, 893, 1148, 1166, 1206, 1440, 1453, 1606, 1788, 2459, 3066, 3148, 3239, 3386, 3898, 3922, 4024, 4128, 4339, 4345, 4723, 4855, 5650, 5801, 5892, 5933, 6032, 6546, 6711, 6942, 7000, 7009, 7062, 7996, 8295, 8479, 8493, 8593, 8724, 8739, 8756, 9178, 9197, 9341, 9367, 9386, 9581, 9777, 9882, 9961, 10010, 10434, 10647, 10861, 11142, 11265, 11601, 11929, 12127, 12356, 12380, 12384, 13121, 13196, 13332, 13692, 13762, 13812, 13926, 13942, 14266, 14662, 14981, 15013, 15014, 15405, 15611, 15705, 15827, 16082, 16233, 16491, 16696, 16713, 16911, 17070, 17074, 17157, 17204, 17399, 17410, 17503, 17548, 17705, 17723, 17789, ...], 22: [122, 245, 305, 366, 536, 738, 800, 1230, 1349, 1835, 1935, 2255, 2270, 2490, 2740, 3009, 3906, 4234, 4496, 4713, 5010, 5022, 5258, 5281, 5788, 6118, 6778, 7280, 7720, 7732, 8149, 8448, 8600, 8691, 8870, 8894, 8985, 9295, 9613, 9661, 10031, 10058, 10858, 11056, 11113, 11127, 11246, 11335, 11357, 11499, 11506, 11566, 11925, 11967, 12144, 12225, 12481, 12543, 12661, 12730, 12869, 13266, 13444, 13574, 13652, 13815, 13847, 14278, 15187, 15307, 15482, 15518, 15648, 15653, 15820, 16613, 16679, 17044, 17330, 17452, 17557, 17814, 18103, 18159, 18361, 18651, 19026, 19117, 19328, 19434, 19532, 19564, 19586, 19813, 20020, 20147, 20283, 20884, 21357, 21495, ...], 23: [141, 294, 317, 351, 604, 677, 1057, 2332, 2546, 2860, 3156, 3378, 3385, 3491, 3542, 3556, 3560, 4071, 4323, 4567, 4818, 5301, 5347, 5824, 6576, 6659, 6693, 7126, 7146, 7243, 7245, 7643, 7743, 7746, 8060, 8187, 8928, 8960, 9558, 9595, 9620, 9665, 9857, 9999, 10016, 10098, 10209, 10444, 10449, 10749, 10832, 11279, 11460, 11553, 11622, 11695, 12594, 13201, 13240, 13294, 13540, 13566, 13861, 13902, 14093, 14818, 14873, 14956, 15435, 15445, 15610, 15666, 15709, 15868, 16044, 16408, 16619, 16988, 17390, 17468, 17499, 17825, 17953, 18253, 18448, 19619, 20293, 20629, 20897, 21090, 21398, 21610, 21752, 21922, 22390, 22506, 22508, 22878, 23058, 23508, ...], 24: [798, 846, 890, 1112, 1340, 1444, 1672, 1862, 1871, 2126, 2387, 2552, 2984, 3424, 3544, 4092, 4630, 4660, 5091, 5113, 5170, 5476, 5678, 5816, 5959, 6048, 6199, 6246, 6272, 6491, 6914, 7123, 7271, 8272, 8595, 8818, 9100, 9417, 9445, 10067, 10210, 10566, 10896, 10905, 11641, 11737, 11828, 12067, 12196, 12462, 13144, 13530, 13660, 13763, 14345, 14382, 14523, 15336, 15927, 16264, 16308, 16553, 16644, 16771, 17291, 17439, 18237, 18244, 18709, 18938, 19317, 19404, 20697, 21022, 21034, 21265, 21382, 21483, 21692, 21897, 21965, 22047, 22205, 22776, 23128, 23275, 23651, 23693, 23847, 23879, 25859, 25959, 26015, 26698, 26815, 26975, 27372, 28070, 29188, 29243, ...], 25: [53, 88, 103, 135, 384, 659, 825, 855, 1019, 1654, 2165, 2220, 2410, 2590, 3330, 3857, 4166, 4299, 4667, 4697, 5306, 5532, 5748, 5787, 6004, 6051, 6648, 7170, 7792, 8520, 8571, 8848, 8931, 9032, 9435, 9738, 9977, 10891, 11114, 11377, 11406, 11691, 11841, 12877, 12924, 13507, 14048, 14122, 14159, 15811, 16197, 16321, 16506, 16594, 16801, 17195, 17571, 18793, 18904, 19203, 19847, 20281, 20458, 20811, 21413, 21643, 21916, 22041, 22109, 22125, 22651, 22689, 22803, 23562, 23755, 23760, 24271, 24601, 25291, 25440, 25600, 25832, 26514, 26623, 28035, 28227, 28304, 28705, 28851, 29087, 30177, 30212, 30309, 30466, 31082, 31238, 31287, 31377, 31436, 31628, ...], 26: [61, 63, 90, 174, 588, 1109, 1438, 1533, 2261, 3125, 3184, 3303, 3461, 3479, 3614, 4717, 4847, 4849, 5270, 6285, 6686, 6885, 7613, 7811, 7960, 8839, 8861, 9087, 9361, 9604, 10011, 10948, 11137, 11555, 12141, 12353, 12896, 14486, 14521, 14782, 15359, 15489, 15694, 15790, 15870, 16173, 16240, 16727, 18102, 18144, 18425, 18635, 19101, 19302, 19340, 19481, 20134, 20247, 20341, 20912, 21048, 21888, 22171, 22209, 23234, 23280, 23581, 23627, 23772, 24040, 24211, 25119, 25227, 25475, 25711, 25781, 26088, 26489, 26496, 26775, 26787, 27191, 27903, 27910, 28031, 28620, 29235, 29813, 30166, 30225, 30413, 30862, 31026, 31390, 31766, 31959, 33257, 33468, 34192, 34831, ...], 27: [243, 2070, 2381, 3439, 3690, 3932, 4051, 4284, 4328, 5180, 5796, 7357, 7472, 8260, 8924, 9628, 9835, 9896, 10154, 10406, 10429, 10882, 11174, 11840, 11866, 12119, 12547, 13486, 13655, 13860, 14114, 14418, 14877, 16737, 17073, 18309, 18472, 18505, 18839, 18876, 19218, 19368, 19376, 20739, 20776, 20890, 21687, 21815, 22133, 22206, 22980, 23226, 23632, 23761, 24038, 25195, 25525, 25750, 26530, 27657, 27723, 28506, 29236, 30064, 30096, 30196, 30774, 30950, 30955, 31276, 31788, 32436, 34413, 34542, 34585, 34612, 34993, 36427, 36584, 37269, 37580, 38137, 38350, 38470, 39084, 40375, 40483, 40541, 40690, 42193, 42879, 43222, 43574, 43728, 44106, 44760, 44997, 45282, 46078, 46230, ...], 28: [156, 166, 177, 242, 3534, 3576, 4057, 4309, 4606, 4875, 5048, 5153, 5508, 6049, 6220, 6310, 6706, 7708, 8029, 8078, 8327, 8826, 9505, 11823, 12471, 12506, 13168, 14066, 14280, 14694, 14859, 17216, 17337, 18088, 18378, 18382, 18525, 19582, 20168, 20871, 21276, 21327, 22235, 22311, 24293, 24537, 26344, 27496, 27579, 27785, 27878, 28022, 29263, 30169, 31341, 31673, 33616, 33977, 34880, 34943, 35114, 35570, 36238, 37568, 38654, 39548, 41133, 41936, 41958, 42570, 42590, 42634, 42949, 43181, 44509, 45453, 46163, 48280, 48488, 48874, 49668, 49774, 50343, 51141, 52826, 54568, 55871, 56768, 56836, 57990, 58263, 58461, 58555, 58828, 58862, 61729, 61973, 62118, 62548, 62776, ...], 29: [67, 424, 535, 876, 910, 1581, 1695, 1943, 3448, 4182, 4207, 5651, 6758, 7066, 7214, 7334, 8398, 9959, 10559, 11111, 11323, 12187, 15702, 16016, 16577, 18075, 18984, 19054, 19245, 19508, 19870, 21254, 21505, 21774, 22663, 24055, 24422, 26062, 26961, 27480, 28114, 30555, 30834, 31072, 31164, 31837, 33217, 34470, 34718, 35976, 37854, 38318, 38870, 39043, 39135, 39181, 39702, 40072, 42876, 45313, 46123, 46234, 47672, 47900, 51488, 51572, 51666, 51734, 52983, 55470, 56055, 57612, 57662, 58009, 58275, 58693, 59003, 59562, 62857, 63806, 64024, 64749, 65796, 66710, 67666, 68085, 70909, 71653, 74193, 74760, 75455, 75859, 76067, 76501, 77467, 78534, 79423, 79822, 82554, 83551, ...], 30: [763, 872, 972, 1055, 1372, 2075, 5513, 5915, 6129, 6548, 7762, 8173, 8529, 12300, 12377, 13306, 13949, 14349, 16049, 16121, 17757, 17919, 18164, 18602, 18826, 19115, 19288, 19347, 19438, 19624, 20099, 21317, 21456, 21990, 22123, 22266, 24219, 25989, 29351, 29664, 31565, 32505, 33482, 33822, 33950, 34753, 35138, 36592, 36873, 37411, 37520, 37632, 37864, 38365, 38731, 40116, 40376, 40468, 42609, 43069, 43200, 43269, 43300, 44062, 44136, 44158, 45834, 46306, 46604, 47142, 48186, 48706, 48848, 49101, 49327, 49556, 49628, 52794, 53101, 54768, 55178, 56417, 56661, 57795, 58614, 59140, 60161, 62451, 63420, 64275, 66876, 67577, 68420, 68853, 70764, 72319, 73069, 74026, 74138, 75271, ...], 31: [957, 1479, 2617, 3015, 3693, 4985, 5843, 6347, 6566, 6715, 8512, 10171, 10644, 10781, 11108, 11547, 11684, 13969, 14140, 14174, 15023, 15856, 16665, 16960, 17658, 19221, 22303, 22317, 22542, 25616, 26321, 27373, 27730, 28060, 29502, 30092, 31121, 34008, 34358, 34529, 35028, 35859, 36305, 36317, 36363, 36453, 36911, 37570, 38362, 38747, 38922, 40813, 41087, 42072, 42672, 42714, 43105, 47308, 47930, 48448, 49789, 50305, 51062, 54846, 56191, 60132, 63513, 64531, 64685, 65728, 68993, 69160, 76968, 77891, 78734, 79983, 81210, 81312, 82511, 83600, 87463, 88640, 91442, 91676, 93297, 94813, 95655, 96567, 97416, 98990, 102083, 102175, 104738, 104750, 105678, 105715, 106242, 106954, 113316, 114168, ...], 32: [673, 1392, 2640, 4010, 4711, 6183, 6738, 8584, 9071, 10490, 12521, 13898, 16756, 18126, 20478, 20688, 24769, 26017, 26719, 27035, 30475, 31830, 39447, 40160, 40176, 40392, 42565, 43514, 43685, 44675, 44701, 45079, 45117, 45555, 46640, 51629, 52916, 55255, 57251, 59040, 59119, 59665, 59888, 60271, 61335, 63084, 64035, 64640, 64741, 76677, 76975, 77578, 78140, 78405, 83942, 87842, 88812, 89304, 90509, 91088, 94441, 94547, 94888, 97239, 97978, 98866, 99441, 99653, 99669, 99780, 100103, 101023, 105690, 106286, 108489, 108779, 110737, 111721, 115073, 116763, 117373, 119690, 123744, 128784, 129250, 129955, 131157, 131208, 132980, 133992, 135335, 135773, 135875, 136201, 137763, 139160, 141116, 142421, 142588, 151003, ...], 33: [637, 895, 1185, 4158, 5257, 9880, 10350, 10876, 12808, 17848, 18834, 19323, 20282, 23187, 24008, 24073, 25325, 26116, 26814, 27602, 27630, 28462, 31832, 33678, 35314, 36393, 37408, 37921, 38751, 40145, 45138, 45430, 49814, 51219, 52929, 54363, 54678, 62095, 63020, 63995, 70732, 71592, 73347, 73896, 75125, 76594, 76662, 77948, 79032, 80813, 81657, 82038, 82442, 83078, 83837, 83855, 84198, 86017, 86197, 88165, 88963, 90410, 90920, 95194, 96501, 96566, 97724, 102295, 107083, 107698, 108902, 108999, 110331, 110907, 111374, 112180, 112583, 113554, 118964, 120303, 120406, 121370, 123746, 128215, 130398, 132742, 139929, 142675, 144608, 146581, 148040, 148921, 151724, 157066, 157081, 158925, 159516, 160352, 163764, 164206, ...], 34: [180, 1138, 2346, 2612, 7809, 9701, 16351, 17914, 19239, 23967, 27780, 28447, 29101, 34527, 35367, 36810, 36901, 37687, 44972, 45557, 45593, 45748, 47691, 48585, 51441, 51799, 51819, 52937, 53431, 56631, 57991, 58154, 58223, 59063, 63598, 66049, 67723, 70142, 70903, 73995, 78691, 82746, 83680, 86035, 87138, 87153, 90899, 96300, 96978, 97203, 99929, 100260, 103112, 104349, 109064, 115433, 117167, 119757, 119932, 120078, 122227, 122719, 123203, 124674, 125054, 126827, 128132, 130470, 131905, 136735, 144164, 144362, 146441, 150898, 153116, 153400, 155730, 160000, 160007, 162732, 162797, 167299, 168217, 168341, 169555, 170584, 170762, 172148, 177316, 179117, 183206, 186382, 186731, 190986, 194329, 194814, 195215, 197050, 198115, 199242, ...], 35: [377, 951, 2356, 4702, 5096, 5846, 6371, 9061, 9068, 12262, 14144, 14808, 16053, 16832, 23070, 25104, 25891, 27134, 29565, 30863, 31613, 32111, 36497, 40321, 41064, 41719, 44573, 45841, 45879, 48469, 61883, 68658, 69499, 81821, 83374, 85871, 89366, 89673, 92498, 93530, 95203, 95365, 100216, 102805, 105033, 109695, 110283, 111291, 112331, 113486, 113705, 114547, 115981, 121612, 126588, 127262, 127967, 131742, 135983, 139148, 141150, 144855, 148226, 151305, 155400, 155944, 158654, 162962, 168121, 169147, 171107, 174633, 177701, 179151, 181357, 184438, 187511, 193364, 193820, 194543, 198600, 203129, 203650, 211447, 212699, 213399, 219568, 220730, 222607, 223642, 225531, 226626, 229676, 232596, 233253, 248856, 256701, 257012, 259746, 259771, ...], 36: [163, 714, 2531, 3647, 8464, 8980, 14079, 16906, 21781, 23469, 34595, 34764, 35979, 36130, 36291, 37731, 38354, 39244, 43351, 44301, 44728, 45329, 52219, 55721, 56050, 57797, 60960, 61918, 66454, 68290, 70073, 73288, 79440, 81500, 82170, 86621, 93555, 98670, 105123, 105907, 107319, 107465, 107649, 110838, 113260, 113485, 114618, 119015, 119085, 121398, 124248, 126286, 135339, 140015, 142196, 142235, 149564, 159222, 168298, 170456, 170851, 172913, 189577, 189611, 189991, 196512, 196784, 196815, 197419, 197813, 203165, 208794, 212344, 215000, 216121, 217358, 220303, 232582, 242076, 244467, 250305, 253100, 255963, 262412, 267826, 271730, 275729, 283683, 293706, 294830, 298225, 303270, 333940, 334248, 336690, 343475, 343489, 345453, 349686, 350636, ...], 37: [9626, 10175, 12767, 21166, 22975, 23450, 23502, 24335, 26842, 33687, 36118, 41911, 49724, 62755, 71121, 72312, 78674, 78904, 85969, 86656, 92413, 102531, 102661, 104442, 107422, 112362, 115703, 124626, 127617, 131826, 132754, 136196, 136373, 136905, 138885, 140245, 140916, 142084, 143636, 145173, 145286, 146907, 155764, 156589, 156719, 171311, 171474, 176179, 176579, 187367, 189599, 189612, 197892, 199373, 207328, 209043, 212189, 212207, 213290, 215279, 215853, 217688, 227733, 229512, 237882, 237911, 243483, 247097, 259540, 271064, 274863, 275947, 284365, 285679, 286286, 290425, 297754, 301571, 304300, 305592, 318402, 320565, 321478, 329438, 329525, 339271, 343222, 345492, 347290, 351551, 353598, 355762, 358520, 358574, 365358, 365698, 365980, 366480, 368570, 376030, ...], 38: [2103, 4211, 5973, 11646, 15898, 19273, 20785, 22871, 25741, 27645, 42279, 43039, 43731, 48176, 50543, 52140, 58071, 67703, 84611, 92676, 93957, 97661, 120061, 122839, 138640, 142128, 142771, 146420, 146650, 151512, 156586, 158991, 165446, 166751, 172505, 172518, 180445, 182030, 193254, 195115, 195189, 204392, 206816, 207897, 218969, 231215, 232356, 236221, 236330, 236395, 246484, 251304, 254819, 255629, 255879, 258791, 262862, 270688, 271715, 274658, 277141, 278735, 282304, 290515, 290622, 294948, 297710, 300270, 301315, 303924, 305488, 312827, 315469, 316598, 319817, 340746, 341289, 342694, 344469, 345522, 353851, 357577, 358910, 363335, 377352, 382719, 387785, 394160, 397173, 404945, 413057, 413325, 415175, 418072, 418863, 423682, 432746, 434979, 438876, 442098, ...], 39: [828, 2494, 6174, 13769, 19377, 21998, 33323, 39961, 51907, 57120, 65960, 68745, 75236, 87895, 90429, 95545, 96152, 100279, 100402, 100713, 101604, 101641, 103986, 106803, 107413, 116540, 120917, 122938, 123374, 128675, 129055, 136723, 137172, 146495, 154623, 156514, 159239, 160179, 175727, 181321, 186795, 191238, 196476, 200372, 210562, 213748, 214224, 215974, 219269, 221634, 227906, 231552, 233144, 233582, 238768, 244941, 246863, 249136, 253353, 270738, 271896, 278328, 280615, 283684, 289845, 290216, 290801, 291022, 316143, 319798, 322959, 332268, 342513, 343860, 350980, 362489, 390039, 394211, 400413, 401700, 408005, 411917, 421634, 429179, 429773, 432529, 448631, 453743, 454730, 460903, 475345, 478543, 480663, 488982, 491134, 493950, 500047, 503718, 504833, 505405, ...], 40: [2492, 7414, 10541, 13138, 23374, 25468, 26820, 31724, 32609, 32653, 41314, 62825, 71516, 72093, 78249, 87106, 90352, 93142, 113302, 128493, 136888, 146956, 148193, 148833, 161238, 161508, 170066, 183681, 194080, 194472, 194793, 210951, 226079, 237510, 243599, 249623, 250210, 278853, 282285, 283098, 283873, 286012, 288087, 289423, 308615, 309003, 311135, 316614, 317366, 332825, 333537, 353083, 353100, 361045, 362053, 364931, 374508, 387402, 391835, 392056, 396143, 397809, 403540, 424153, 426555, 429038, 431065, 439751, 440543, 447978, 450529, 473135, 479192, 480254, 482631, 486365, 506823, 518414, 539741, 539961, 541289, 551322, 556691, 558592, 585586, 589415, 590833, 622433, 643852, 647226, 647619, 659666, 660977, 671685, 675909, 688362, 695690, 741782, 763894, 763969, ...], 41: [482, 2965, 3072, 7698, 43528, 60475, 63956, 73564, 87360, 91147, 104552, 107427, 116786, 128130, 133400, 133978, 136952, 137665, 143815, 143845, 160202, 163660, 168304, 170771, 184848, 201451, 208769, 209286, 210553, 212111, 213674, 219863, 220594, 237963, 240165, 243578, 276664, 294696, 299545, 302052, 310308, 311789, 325976, 332334, 333876, 336769, 344615, 351535, 361363, 367406, 371877, 383526, 390991, 402492, 413211, 421262, 437088, 442881, 443985, 444206, 449062, 461184, 502989, 519869, 539361, 552672, 582272, 588990, 591110, 598282, 608754, 627323, 632703, 634872, 674233, 678222, 679539, 693984, 709181, 717173, 719006, 732506, 748593, 752528, 756897, 769965, 772907, 773659, 799833, 819769, 824940, 848454, 851810, 871320, 877610, 892881, 922432, 926652, 928636, 929890, ...], 42: [5109, 5763, 8772, 15917, 26838, 58816, 72522, 74281, 81169, 83814, 84807, 85852, 91652, 97193, 99107, 101579, 103251, 131403, 133176, 152013, 154331, 157643, 162378, 170977, 175346, 181724, 182294, 194441, 196420, 200745, 202316, 204433, 218213, 240241, 246478, 247784, 248320, 249822, 265931, 284779, 286689, 289537, 290756, 295829, 301610, 305167, 322129, 338405, 340089, 354707, 360536, 367208, 370159, 370663, 376130, 379386, 397625, 412299, 415117, 423027, 425958, 432524, 433103, 438810, 448968, 452114, 461307, 462734, 465823, 472611, 473622, 481439, 496018, 519618, 521971, 523547, 529214, 552707, 554183, 557908, 565953, 567218, 579383, 587694, 595231, 616117, 619290, 632881, 634318, 652191, 655677, 662527, 676127, 685005, 686439, 687358, 698329, 699775, 705779, 709522, ...], 43: [31418, 43739, 66161, 87358, 99260, 104416, 116947, 120903, 123199, 127817, 130299, 134525, 135735, 139021, 153457, 170157, 174267, 184947, 217552, 221960, 223510, 260808, 269554, 278554, 280570, 281550, 303225, 317831, 319858, 357832, 373181, 376558, 413413, 421757, 429746, 434799, 435831, 436278, 447171, 464451, 465886, 477269, 494693, 525591, 527652, 535606, 551875, 575889, 579704, 587475, 604891, 622314, 635845, 683692, 685920, 699563, 701239, 720607, 725653, 726578, 728216, 748904, 758829, 763202, 770845, 820092, 823712, 831394, 848121, 862483, 866417, 869169, 871364, 913172, 947194, 948389, 981342, 989230, 999707, 1007847, 1019959, 1023635, 1038585, 1041226, 1046942, 1047013, 1055172, 1059418, 1061770, 1065358, 1072475, 1077368, 1087380, 1101122, 1125095, 1142064, 1148742, 1152027, 1166368, 1167629, ...], 44: [26467, 50424, 71380, 72607, 73835, 107431, 123953, 127228, 133173, 133550, 135692, 139295, 142537, 152511, 164102, 168618, 168974, 183703, 187898, 191085, 196511, 206809, 210500, 215692, 215962, 223316, 240083, 241713, 241885, 265630, 273980, 282453, 291841, 344046, 344176, 351177, 362066, 369013, 375065, 387734, 396594, 403598, 405032, 406522, 408047, 411693, 436509, 437143, 462809, 477962, 509074, 514676, 539920, 554606, 563697, 575543, 585840, 588733, 599239, 632233, 638263, 651501, 682294, 690638, 695120, 745363, 749598, 764957, 771739, 773443, 789827, 801682, 806346, 829415, 846215, 848639, 890043, 894276, 910520, 919823, 929490, 929697, 964570, 965456, 980972, 991901, 996030, 1009686, 1010442, 1016568, 1023582, 1027315, 1092095, 1096549, 1114803, 1114884, 1125253, 1129976, 1177627, 1213888, ...], 45: [13859, 37037, 48068, 50848, 63928, 93098, 125114, 140138, 147569, 156423, 165663, 176098, 176363, 178649, 180837, 200025, 210228, 216299, 230546, 242133, 295635, 300571, 312250, 318547, 341126, 349438, 368381, 372780, 387338, 394146, 414395, 450676, 478625, 484257, 484735, 499074, 547943, 548544, 550152, 557041, 568403, 588921, 589662, 603012, 606034, 610017, 614238, 634736, 642681, 649721, 654526, 658639, 672495, 700397, 710070, 724607, 736542, 742303, 744289, 745372, 758847, 783394, 806326, 855391, 864184, 872680, 887588, 915707, 924938, 936843, 938854, 952601, 955121, 969980, 1001735, 1002006, 1040447, 1041414, 1041746, 1045141, 1063784, 1095075, 1123159, 1156476, 1162885, 1178542, 1184159, 1185382, 1214358, 1275434, 1282237, 1284314, 1350472, 1366613, 1379384, 1402924, 1405248, 1408116, 1422109, 1439921, ...], 46: [2166, 13693, 15846, 45357, 62013, 70571, 77169, 100802, 101233, 176659, 203322, 210047, 215059, 221151, 233169, 237511, 249898, 252904, 258296, 262021, 262098, 279856, 285879, 364969, 422005, 505641, 537739, 539339, 552101, 580746, 587730, 612912, 619870, 649722, 672761, 683105, 693023, 710589, 715743, 721806, 755608, 777000, 803523, 823856, 831979, 857881, 872716, 887021, 911643, 924420, 941007, 949783, 957539, 960974, 969330, 997727, 1013913, 1042683, 1062097, 1074283, 1083775, 1101132, 1129622, 1133051, 1137965, 1160478, 1172126, 1275283, 1299381, 1315210, 1332428, 1341202, 1347391, 1365922, 1389274, 1408123, 1408656, 1409488, 1422640, 1446941, 1466567, 1467803, 1493733, 1514582, 1522374, 1525478, 1536333, 1556525, 1606699, 1631076, 1677773, 1697811, 1730268, 1776658, 1786063, 1789820, 1829170, 1837729], 47: [2633, 17392, 40876, 42729, 70094, 88587, 99673, 135343, 162475, 208649, 224064, 232745, 233448, 251967, 315226, 321328, 321723, 351653, 352923, 385557, 438615, 484059, 536756, 550646, 551865, 575199, 605985, 692551, 700402, 721653, 761784, 763192, 786898, 793222, 827955, 897055, 915335, 918589, 942937, 956509, 965347, 967550, 983825, 992289, 1018345, 1023726, 1024575, 1028521, 1066561, 1075129, 1121833, 1153062, 1156056, 1164811, 1176556, 1176801, 1189144, 1213329, 1250862, 1293127, 1313241, 1321279, 1322115, 1323539, 1336740, 1368876, 1420522, 1438104, 1480802, 1615818, 1630564, 1648229, 1693917, 1697119, 1716286, 1773153, 1843425, 1897557], 48: [3622, 30544, 101834, 105709, 155363, 178076, 181138, 218970, 220352, 251587, 277320, 291962, 304692, 323433, 358785, 388644, 444371, 460757, 489341, 498002, 512702, 530409, 543556, 576826, 581571, 637780, 694952, 733678, 811978, 859267, 898887, 900304, 916239, 963543, 967336, 1008858, 1027635, 1035833, 1056796, 1064433, 1089093, 1094125, 1145401, 1152235, 1173979, 1180186, 1195750, 1210840, 1213347, 1223204, 1233215, 1244239, 1257663, 1265510, 1285007, 1300322, 1336260, 1359765, 1361686, 1366982, 1418488, 1428262, 1437772, 1462881, 1477241, 1492041, 1522256, 1527860, 1539529, 1551513, 1569795, 1578660, 1588229, 1633147, 1677175, 1746593, 1784260, 1786057, 1804632, 1831077, 1899561], 49: [299, 23340, 44099, 63889, 141405, 153467, 162215, 181574, 199036, 235139, 241359, 249170, 255448, 263890, 425853, 432520, 470561, 518405, 522006, 533009, 538866, 612380, 644988, 650922, 754471, 838631, 877656, 915293, 915719, 916057, 1011053, 1044950, 1062554, 1097865, 1143879, 1152041, 1160908, 1206890, 1208783, 1219388, 1347259, 1347661, 1360736, 1420642, 1423070, 1480457, 1487041, 1507967, 1517717, 1541891, 1577629, 1600966, 1625695, 1625729, 1654191, 1683822, 1698549, 1700836, 1720384, 1755294], 50: [10373, 20716, 33910, 49071, 68955, 81172, 94729, 110244, 112155, 149895, 187611, 210693, 216986, 217344, 233966, 318259, 333896, 470200, 562480, 574900, 671754, 712427, 767143, 827821, 879811, 884692, 927564, 971995, 978373, 993113, 994978, 1006726, 1036929, 1039629, 1069188, 1123609, 1125945, 1130144, 1147198, 1212304, 1329923, 1376895, 1389586, 1452264, 1528115, 1638120, 1644139, 1674560, 1778521, 1778587, 1792823, 1829453, 1904840], 51: [103142, 224319, 231161, 311478, 344717, 439328, 507218, 542027, 606086, 631255, 719897, 734857, 737983, 743984, 785316, 857960, 875239, 911704, 1035548, 1124819, 1158655, 1200488, 1240016, 1251760, 1276488, 1324517, 1348871, 1360615, 1369764, 1422961, 1466626, 1516007, 1563183, 1575040, 1636051, 1644971, 1655297, 1763312, 1765123, 1783702, 1814988], 52: [57303, 97289, 116169, 233043, 367684, 385979, 450891, 480543, 524977, 563473, 584154, 710398, 764426, 769048, 783971, 810111, 858249, 865610, 885895, 892349, 901289, 913191, 933300, 971780, 972272, 983817, 989585, 992627, 1054363, 1084229, 1085470, 1212031, 1234803, 1247323, 1311110, 1345384, 1481962, 1485730, 1520873, 1573532, 1575613, 1587866, 1645298, 1651037, 1666030, 1709486, 1709537, 1722414], 53: [47027, 93628, 105624, 121629, 138516, 149644, 163478, 215470, 267542, 281092, 421064, 425410, 699629, 760690, 771574, 899345, 943714, 1169822, 1214765, 1322471, 1366614, 1540251, 1652302, 1699232, 1701720, 1767105, 1814947, 1828736], 54: [76533, 142781, 227783, 314269, 421940, 514167, 601930, 602350, 649377, 680690, 763223, 835610, 885870, 973152, 1001258, 1014696, 1021137, 1033975, 1048812, 1135648, 1180516, 1200222, 1230901, 1285707, 1295615, 1364494, 1420273, 1422288, 1425134, 1503450, 1531268, 1554284, 1576712, 1645936, 1695820, 1772606, 1843933], 55: [14463, 18983, 35214, 198143, 219805, 303789, 362202, 575861, 691412, 724026, 1254251, 1273320, 1441994, 1494770, 1511913, 1521626, 1853450], 56: [7627, 17675, 133781, 228075, 248878, 269122, 381648, 386206, 433894, 442504, 444050, 585065, 770085, 850338, 988185, 1147236, 1165481, 1171531, 1348741, 1435819, 1723015, 1832566, 1850306, 1902080], 57: [184349, 188612, 241700, 320803, 323617, 700959, 772634, 955586, 1164753, 1244520, 1333120, 1503927, 1511559, 1568885, 1665634, 1695808, 1712206, 1724193, 1817150], 58: [116021, 304439, 353367, 424284, 567569, 882390, 932764, 971984, 1311651, 1406573, 1474016, 1599138, 1676628, 1687915, 1761562, 1785003, 1800885, 1842202], 59: [15600, 295760, 414434, 444268, 769969, 784759, 797460, 842495, 927833, 1078139, 1137696, 1161513, 1161676, 1211151, 1231905, 1428332, 1572855, 1702615, 1737473], 60: [87626, 501614, 649727, 660323, 664347, 664502, 757235, 863509, 1024339, 1158497, 1251651, 1363010, 1502961, 1563650, 1577301, 1666856], 61: [177135, 341072, 426016, 474437, 631817, 757305, 909168, 1304277, 1516308, 1803941, 1855576], 62: [39690, 275871, 346475, 460574, 873041, 1036314, 1261837, 1303362, 1633905, 1713044], 63: [44730, 188576, 411783, 470457, 560764, 627945, 715612, 1490178, 1523899, 1625635], 64: [30667, 32354, 229031, 1352779], 65: [53415, 69619, 625780, 634252, 759746, 779140, 1284942, 1322961, 1349619, 1736675], 66: [507069, 669376, 826346, 1406831, 1460479, 1710581], 67: [1226636, 1230989, 1326765, 1393925, 1507020, 1572850, 1785077], 68: [487974, 562286, 661917, 675545, 759554, 1745221], 69: [842795, 971273, 1335412, 1818799], 70: [204545, 490358], 71: [869122, 1107018, 1249323, 1817230], 72: [365710, 516949], 73: [1161780, 1609030], 74: [563042, 1572245], 75: [748538, 1095114], 76: [974512, 1108476, 1229061, 1334945], 77: [74300], 78: [789143, 919837], 86: [439307], 89: [926464], 91: [1472222], 98: [904949, 1789392], 101: [297039], 102: [1284105], 103: [1144271, 1808366], 104: [1567258], 109: [943480], 119: [1523082], 161: [620767]}"
      ]
     },
     "execution_count": 102,
     "metadata": {},
     "output_type": "execute_result"
    }
   ],
   "source": [
    "# Orders amount\n",
    "grouped_by_user = df_cleaned.groupby(by=['id_card'])\n",
    "number_of_orders_per_user = grouped_by_user.agg({\"id_doc\": \"nunique\"})\n",
    "number_of_orders_per_user.head()\n",
    "grouped_by_number_of_orders = number_of_orders_per_user.groupby(by=['id_doc'])\n",
    "grouped_by_number_of_orders.groups"
   ]
  },
  {
   "cell_type": "code",
   "execution_count": 23,
   "metadata": {},
   "outputs": [
    {
     "name": "stdout",
     "output_type": "stream",
     "text": [
      "id_group\n",
      "-9999     [1672691, 82434, 954793, 1572538, 1408606, 683...\n",
      " 10004    [1538855, 267307, 610220, 441497, 389692, 3110...\n",
      " 10005    [31109, 511852, 1254751, 563773, 736602, 16969...\n",
      " 10008    [1360897, 954793, 1841743, 626319, 389640, 924...\n",
      " 10012    [1572538, 297933, 149795, 469039, 1318057, 172...\n",
      "                                ...                        \n",
      " 10481    [178771, 245508, 518187, 73808, 175105, 161914...\n",
      " 10499    [552726, 1220525, 294237, 303445, 742939, 2720...\n",
      " 10503    [766318, 609754, 1822326, 1448679, 106364, 149...\n",
      " 10506    [128411, 28540, 232592, 1306012, 499888, 17956...\n",
      " 52194    [686029, 125830, 227162, 890413, 334262, 81074...\n",
      "Name: id_card, Length: 164, dtype: object\n"
     ]
    },
    {
     "data": {
      "image/png": "[encoded data removed]",
      "text/plain": [
       "<Figure size 432x288 with 1 Axes>"
      ]
     },
     "metadata": {
      "needs_background": "light"
     },
     "output_type": "display_data"
    }
   ],
   "source": [
    "# Usual cart\n",
    "number_of_cusomers_per_group = df_cleaned.groupby(by=['id_group'])['id_card'].unique().apply(len)\n",
    "number_of_cusomers_per_group.sort_values()[-20:].plot(kind='bar')\n",
    "print(df_cleaned.groupby(by=['id_group'])['id_card'].unique())\n",
    "plt.ylabel('Count');"
   ]
  }
 ],
 "metadata": {
  "kernelspec": {
   "display_name": "Python 3",
   "language": "python",
   "name": "python3"
  },
  "language_info": {
   "codemirror_mode": {
    "name": "ipython",
    "version": 3
   },
   "file_extension": ".py",
   "mimetype": "text/x-python",
   "name": "python",
   "nbconvert_exporter": "python",
   "pygments_lexer": "ipython3",
   "version": "3.9.1"
  }
 },
 "nbformat": 4,
 "nbformat_minor": 4
}
