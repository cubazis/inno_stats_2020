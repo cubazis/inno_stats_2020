{
 "cells": [
  {
   "cell_type": "code",
   "execution_count": 1,
   "metadata": {
    "id": "Pg0BHYAONeRi"
   },
   "outputs": [],
   "source": [
    "from pathlib import Path\n",
    "import pandas as pd"
   ]
  },
  {
   "cell_type": "markdown",
   "metadata": {
    "id": "Tj8eO7VYNeRk"
   },
   "source": [
    "Download https://drive.google.com/drive/folders/1BZFez3OFs7QMzeDUz-8E0SgnRy227pnG"
   ]
  },
  {
   "cell_type": "markdown",
   "metadata": {
    "id": "Qg9AsOCiNeRl"
   },
   "source": [
    "Unzip"
   ]
  },
  {
   "cell_type": "code",
   "execution_count": 2,
   "metadata": {
    "colab": {
     "base_uri": "https://localhost:8080/"
    },
    "id": "ECNiJUs_PCdP",
    "outputId": "fb4a8338-e546-4140-a3b6-71916705b59f"
   },
   "outputs": [
    {
     "name": "stderr",
     "output_type": "stream",
     "text": [
      "'wget' is not recognized as an internal or external command,\n",
      "operable program or batch file.\n"
     ]
    }
   ],
   "source": [
    "! wget --load-cookies /tmp/cookies.txt \"https://docs.google.com/uc?export=download&confirm=$(wget --quiet --save-cookies /tmp/cookies.txt --keep-session-cookies --no-check-certificate 'https://docs.google.com/uc?export=download&id=13Qm6ztAmVyBHvo_mch6gk-2VYKUHeRuu' -O- | sed -rn 's/.*confirm=([0-9A-Za-z_]+).*/\\1\\n/p')&id=13Qm6ztAmVyBHvo_mch6gk-2VYKUHeRuu\" -O inno_stats.tar.gz && rm -rf /tmp/cookies.txt"
   ]
  },
  {
   "cell_type": "code",
   "execution_count": 3,
   "metadata": {
    "id": "4O3OFlJJQYnq"
   },
   "outputs": [
    {
     "name": "stderr",
     "output_type": "stream",
     "text": [
      "A subdirectory or file data already exists.\n"
     ]
    }
   ],
   "source": [
    "!mkdir data && tar -xf inno_stats.tar.gz -C ./data"
   ]
  },
  {
   "cell_type": "code",
   "execution_count": 4,
   "metadata": {
    "colab": {
     "base_uri": "https://localhost:8080/"
    },
    "id": "vMgB3RY1NeRm",
    "outputId": "c16610a5-b853-454c-ce1e-e7915255f4e6"
   },
   "outputs": [
    {
     "name": "stderr",
     "output_type": "stream",
     "text": [
      "'ls' is not recognized as an internal or external command,\n",
      "operable program or batch file.\n"
     ]
    }
   ],
   "source": [
    "data_path = Path('./data/').resolve()\n",
    "!ls {data_path}"
   ]
  },
  {
   "cell_type": "code",
   "execution_count": 5,
   "metadata": {
    "colab": {
     "base_uri": "https://localhost:8080/",
     "height": 204
    },
    "id": "hBjPkUxNNeRn",
    "outputId": "4f5a50fb-2c20-42e1-b042-3aca2235c2d2"
   },
   "outputs": [
    {
     "data": {
      "text/plain": "                  date    id_doc  id_order  id_card  id_tov  id_kontr  \\\n0  2020-09-01 17:01:25   1283228       0.0  1538855      52       271   \n1  2020-09-01 17:35:36   8873113       0.0   267307      52       271   \n2  2020-09-01 19:19:21  12712899       0.0   610220      52       271   \n3  2020-09-01 21:53:34  21535283       0.0   441497      52       271   \n4  2020-09-01 18:42:31    642341       0.0  1065358      61        97   \n\n   quantity     sum  is_green  id_group  \n0       1.0  108.00         0     10004  \n1       1.0  108.00         0     10004  \n2       1.0  107.95         0     10004  \n3       1.0  108.00         0     10004  \n4       2.0   88.00         0     10091  ",
      "text/html": "<div>\n<style scoped>\n    .dataframe tbody tr th:only-of-type {\n        vertical-align: middle;\n    }\n\n    .dataframe tbody tr th {\n        vertical-align: top;\n    }\n\n    .dataframe thead th {\n        text-align: right;\n    }\n</style>\n<table border=\"1\" class=\"dataframe\">\n  <thead>\n    <tr style=\"text-align: right;\">\n      <th></th>\n      <th>date</th>\n      <th>id_doc</th>\n      <th>id_order</th>\n      <th>id_card</th>\n      <th>id_tov</th>\n      <th>id_kontr</th>\n      <th>quantity</th>\n      <th>sum</th>\n      <th>is_green</th>\n      <th>id_group</th>\n    </tr>\n  </thead>\n  <tbody>\n    <tr>\n      <th>0</th>\n      <td>2020-09-01 17:01:25</td>\n      <td>1283228</td>\n      <td>0.0</td>\n      <td>1538855</td>\n      <td>52</td>\n      <td>271</td>\n      <td>1.0</td>\n      <td>108.00</td>\n      <td>0</td>\n      <td>10004</td>\n    </tr>\n    <tr>\n      <th>1</th>\n      <td>2020-09-01 17:35:36</td>\n      <td>8873113</td>\n      <td>0.0</td>\n      <td>267307</td>\n      <td>52</td>\n      <td>271</td>\n      <td>1.0</td>\n      <td>108.00</td>\n      <td>0</td>\n      <td>10004</td>\n    </tr>\n    <tr>\n      <th>2</th>\n      <td>2020-09-01 19:19:21</td>\n      <td>12712899</td>\n      <td>0.0</td>\n      <td>610220</td>\n      <td>52</td>\n      <td>271</td>\n      <td>1.0</td>\n      <td>107.95</td>\n      <td>0</td>\n      <td>10004</td>\n    </tr>\n    <tr>\n      <th>3</th>\n      <td>2020-09-01 21:53:34</td>\n      <td>21535283</td>\n      <td>0.0</td>\n      <td>441497</td>\n      <td>52</td>\n      <td>271</td>\n      <td>1.0</td>\n      <td>108.00</td>\n      <td>0</td>\n      <td>10004</td>\n    </tr>\n    <tr>\n      <th>4</th>\n      <td>2020-09-01 18:42:31</td>\n      <td>642341</td>\n      <td>0.0</td>\n      <td>1065358</td>\n      <td>61</td>\n      <td>97</td>\n      <td>2.0</td>\n      <td>88.00</td>\n      <td>0</td>\n      <td>10091</td>\n    </tr>\n  </tbody>\n</table>\n</div>"
     },
     "execution_count": 5,
     "metadata": {},
     "output_type": "execute_result"
    }
   ],
   "source": [
    "g_9 = pd.read_csv('./data/09_groups.csv')\n",
    "g_9.head()\n"
   ]
  },
  {
   "cell_type": "code",
   "execution_count": 6,
   "metadata": {
    "id": "XNKXCVd8NeRp",
    "outputId": "b7d83980-9e8a-4d14-cb1a-93cb0500d7a1"
   },
   "outputs": [
    {
     "data": {
      "text/plain": "   id_tov  id_group              name_group\n0      52     10004  Кисломолочные продукты\n1      75     10004  Кисломолочные продукты\n2      77     10004  Кисломолочные продукты\n3     143     10004  Кисломолочные продукты\n4     151     10004  Кисломолочные продукты",
      "text/html": "<div>\n<style scoped>\n    .dataframe tbody tr th:only-of-type {\n        vertical-align: middle;\n    }\n\n    .dataframe tbody tr th {\n        vertical-align: top;\n    }\n\n    .dataframe thead th {\n        text-align: right;\n    }\n</style>\n<table border=\"1\" class=\"dataframe\">\n  <thead>\n    <tr style=\"text-align: right;\">\n      <th></th>\n      <th>id_tov</th>\n      <th>id_group</th>\n      <th>name_group</th>\n    </tr>\n  </thead>\n  <tbody>\n    <tr>\n      <th>0</th>\n      <td>52</td>\n      <td>10004</td>\n      <td>Кисломолочные продукты</td>\n    </tr>\n    <tr>\n      <th>1</th>\n      <td>75</td>\n      <td>10004</td>\n      <td>Кисломолочные продукты</td>\n    </tr>\n    <tr>\n      <th>2</th>\n      <td>77</td>\n      <td>10004</td>\n      <td>Кисломолочные продукты</td>\n    </tr>\n    <tr>\n      <th>3</th>\n      <td>143</td>\n      <td>10004</td>\n      <td>Кисломолочные продукты</td>\n    </tr>\n    <tr>\n      <th>4</th>\n      <td>151</td>\n      <td>10004</td>\n      <td>Кисломолочные продукты</td>\n    </tr>\n  </tbody>\n</table>\n</div>"
     },
     "execution_count": 6,
     "metadata": {},
     "output_type": "execute_result"
    }
   ],
   "source": [
    "p_g = pd.read_csv('./data/product_groups.csv', delimiter=';', encoding='windows-1251')\n",
    "p_g.head()\n"
   ]
  },
  {
   "cell_type": "code",
   "execution_count": 7,
   "metadata": {},
   "outputs": [],
   "source": [
    "df = g_9"
   ]
  },
  {
   "cell_type": "code",
   "execution_count": 8,
   "outputs": [
    {
     "data": {
      "text/plain": "   Unnamed: 0  id_card\n0           0   806096\n1           1  1438102\n2           2    72344\n3           3   427981\n4           4  1528414",
      "text/html": "<div>\n<style scoped>\n    .dataframe tbody tr th:only-of-type {\n        vertical-align: middle;\n    }\n\n    .dataframe tbody tr th {\n        vertical-align: top;\n    }\n\n    .dataframe thead th {\n        text-align: right;\n    }\n</style>\n<table border=\"1\" class=\"dataframe\">\n  <thead>\n    <tr style=\"text-align: right;\">\n      <th></th>\n      <th>Unnamed: 0</th>\n      <th>id_card</th>\n    </tr>\n  </thead>\n  <tbody>\n    <tr>\n      <th>0</th>\n      <td>0</td>\n      <td>806096</td>\n    </tr>\n    <tr>\n      <th>1</th>\n      <td>1</td>\n      <td>1438102</td>\n    </tr>\n    <tr>\n      <th>2</th>\n      <td>2</td>\n      <td>72344</td>\n    </tr>\n    <tr>\n      <th>3</th>\n      <td>3</td>\n      <td>427981</td>\n    </tr>\n    <tr>\n      <th>4</th>\n      <td>4</td>\n      <td>1528414</td>\n    </tr>\n  </tbody>\n</table>\n</div>"
     },
     "execution_count": 8,
     "metadata": {},
     "output_type": "execute_result"
    }
   ],
   "source": [
    "bad_idx = pd.read_csv('./data/bad_ids.csv')\n",
    "bad_idx.head()"
   ],
   "metadata": {
    "collapsed": false,
    "pycharm": {
     "name": "#%%\n"
    }
   }
  },
  {
   "cell_type": "code",
   "execution_count": 9,
   "outputs": [
    {
     "name": "stdout",
     "output_type": "stream",
     "text": [
      "<class 'pandas.core.frame.DataFrame'>\n",
      "RangeIndex: 42100858 entries, 0 to 42100857\n",
      "Data columns (total 10 columns):\n",
      " #   Column    Dtype  \n",
      "---  ------    -----  \n",
      " 0   date      object \n",
      " 1   id_doc    int64  \n",
      " 2   id_order  float64\n",
      " 3   id_card   int64  \n",
      " 4   id_tov    int64  \n",
      " 5   id_kontr  int64  \n",
      " 6   quantity  float64\n",
      " 7   sum       float64\n",
      " 8   is_green  int64  \n",
      " 9   id_group  int64  \n",
      "dtypes: float64(3), int64(6), object(1)\n",
      "memory usage: 3.1+ GB\n"
     ]
    }
   ],
   "source": [
    "df.info()"
   ],
   "metadata": {
    "collapsed": false,
    "pycharm": {
     "name": "#%%\n"
    }
   }
  },
  {
   "cell_type": "code",
   "execution_count": 10,
   "outputs": [
    {
     "name": "stdout",
     "output_type": "stream",
     "text": [
      "<class 'pandas.core.frame.DataFrame'>\n",
      "Int64Index: 38466003 entries, 0 to 42100857\n",
      "Data columns (total 10 columns):\n",
      " #   Column    Dtype  \n",
      "---  ------    -----  \n",
      " 0   date      object \n",
      " 1   id_doc    int64  \n",
      " 2   id_order  float64\n",
      " 3   id_card   int64  \n",
      " 4   id_tov    int64  \n",
      " 5   id_kontr  int64  \n",
      " 6   quantity  float64\n",
      " 7   sum       float64\n",
      " 8   is_green  int64  \n",
      " 9   id_group  int64  \n",
      "dtypes: float64(3), int64(6), object(1)\n",
      "memory usage: 3.2+ GB\n"
     ]
    }
   ],
   "source": [
    "df_clean =df[~df.id_card.isin(bad_idx.id_card.values)]\n",
    "df_clean.info()"
   ],
   "metadata": {
    "collapsed": false,
    "pycharm": {
     "name": "#%%\n"
    }
   }
  },
  {
   "cell_type": "code",
   "execution_count": 10,
   "outputs": [],
   "source": [],
   "metadata": {
    "collapsed": false,
    "pycharm": {
     "name": "#%%\n"
    }
   }
  },
  {
   "cell_type": "markdown",
   "metadata": {
    "id": "DokN-3eXNeRq"
   },
   "source": [
    "## Task 1\n",
    "\n",
    "Prove that buying discounted products depends on the average order sum. (It is more probable that the discounted product will be bought if bunch of money is going to be spend)"
   ]
  },
  {
   "cell_type": "code",
   "execution_count": 19,
   "metadata": {
    "id": "0_HGDklzNeRq"
   },
   "outputs": [],
   "source": [
    "avg_expenditure = df_clean.groupby(\"id_doc\")['sum'].mean()\n",
    "no_discount = df_clean.groupby(\"id_doc\")['is_green'].any()\n",
    "discount = ~no_discount"
   ]
  },
  {
   "cell_type": "markdown",
   "source": [
    "Lets set up our\n",
    "\n",
    "**H0** hypothesis, that buying discounted goods DOES NOT depend on avg receipt sum\n",
    "\n",
    "then the\n",
    "\n",
    "**HA** will be that buying discounted goods DOES depend on avg receipt sum"
   ],
   "metadata": {
    "collapsed": false
   }
  },
  {
   "cell_type": "code",
   "execution_count": 20,
   "outputs": [
    {
     "data": {
      "text/plain": "0.0"
     },
     "execution_count": 20,
     "metadata": {},
     "output_type": "execute_result"
    }
   ],
   "source": [
    "from scipy.stats import ttest_ind\n",
    "\n",
    "avg_no_discount = avg_expenditure[no_discount]\n",
    "avg_discount = avg_expenditure[discount]\n",
    "\n",
    "ttest_ind(avg_discount, avg_no_discount)[1]"
   ],
   "metadata": {
    "collapsed": false,
    "pycharm": {
     "name": "#%%\n"
    }
   }
  },
  {
   "cell_type": "markdown",
   "source": [
    "We got low p-value, hence **H0** is rejected in favor of **HA**"
   ],
   "metadata": {
    "collapsed": false,
    "pycharm": {
     "name": "#%% md\n"
    }
   }
  },
  {
   "cell_type": "markdown",
   "source": [
    "## Task 2\n",
    "Prove that the frequency of shopping grows around the wage taking days ((1-6 days of each month, 20 -26 days of each month)."
   ],
   "metadata": {
    "collapsed": false
   }
  },
  {
   "cell_type": "code",
   "execution_count": 28,
   "outputs": [
    {
     "data": {
      "text/plain": "date\n1     1386381\n2     1403567\n3     1406574\n4     1394242\n5     1167874\n6     1279774\n7     1490998\n8     1343796\n9     1455905\n10    1424965\n11    1406188\n12    1200989\n13    1289206\n14    1490892\n15    1436508\n16    1446709\n17    1295384\n18    1559868\n19    1288153\n20    1330407\n21    1492300\n22    1474016\n23    1467160\n24    1458965\n25    1493372\n26    1247927\n27    1346850\n28    1541365\n29    1538009\n30    1542514\nName: date, dtype: int64"
     },
     "execution_count": 28,
     "metadata": {},
     "output_type": "execute_result"
    }
   ],
   "source": [
    "date = pd.to_datetime(df_clean['date'],format='%Y-%m-%d %H:%M:%S')\n",
    "purchases_per_day = date.groupby(date.dt.day).count()"
   ],
   "metadata": {
    "collapsed": false,
    "pycharm": {
     "name": "#%%\n"
    }
   }
  },
  {
   "cell_type": "code",
   "execution_count": 34,
   "outputs": [
    {
     "data": {
      "text/plain": "<Figure size 432x288 with 1 Axes>",
      "image/png": "[encoded data removed]"
     },
     "metadata": {
      "needs_background": "light"
     },
     "output_type": "display_data"
    }
   ],
   "source": [
    "import matplotlib.pyplot as plt\n",
    "\n",
    "plt.plot(purchases_per_day)\n",
    "plt.grid(True)\n",
    "plt.xlabel('Day')\n",
    "plt.ylabel('Amount of purchases')\n",
    "\n",
    "plt.show()"
   ],
   "metadata": {
    "collapsed": false,
    "pycharm": {
     "name": "#%%\n"
    }
   }
  },
  {
   "cell_type": "markdown",
   "metadata": {
    "id": "GO8y-JqONeRr"
   },
   "source": [
    "## Task 3\n",
    "Define such cohort existence:\n",
    "1. Frequent buyers - The users that are shopping frequently(daily, weekly, monthly) \n",
    "2. Average purchase sum - The customers that usually spend the same amount of money \n",
    "3. Orders amount - The customers grouped by the total numer of orders \n",
    "4. Usual cart - The customers grouped by the product groups\n",
    "\n",
    "References\n",
    "- https://towardsdatascience.com/a-step-by-step-introduction-to-cohort-analysis-in-python-a2cbbd8460ea"
   ]
  },
  {
   "cell_type": "markdown",
   "source": [
    "Frequent buyers\n"
   ],
   "metadata": {
    "collapsed": false
   }
  },
  {
   "cell_type": "code",
   "execution_count": 50,
   "outputs": [
    {
     "data": {
      "text/plain": "<Figure size 432x288 with 1 Axes>",
      "image/png": "[encoded data removed]"
     },
     "metadata": {
      "needs_background": "light"
     },
     "output_type": "display_data"
    }
   ],
   "source": [
    "user_purchase = df_clean.groupby('id_card')['id_doc'].count()\n",
    "\n",
    "plt.hist(user_purchase, bins=10)\n",
    "plt.xlabel('Number of customers')\n",
    "plt.ylabel('Amount of purchases')\n",
    "plt.show()"
   ],
   "metadata": {
    "collapsed": false,
    "pycharm": {
     "name": "#%%\n"
    }
   }
  },
  {
   "cell_type": "markdown",
   "source": [
    "Orders amount"
   ],
   "metadata": {
    "collapsed": false
   }
  },
  {
   "cell_type": "code",
   "execution_count": 51,
   "outputs": [
    {
     "data": {
      "text/plain": "Text(0, 0.5, 'Amount of purchases')"
     },
     "execution_count": 51,
     "metadata": {},
     "output_type": "execute_result"
    },
    {
     "data": {
      "text/plain": "<Figure size 432x288 with 1 Axes>",
      "image/png": "[encoded data removed]"
     },
     "metadata": {
      "needs_background": "light"
     },
     "output_type": "display_data"
    }
   ],
   "source": [
    "frequent_purchases = (30. / user_purchase).round()\n",
    "\n",
    "plt.hist(frequent_purchases, bins=30)\n",
    "plt.xlabel('Avg time between two purchases (of the same customer)')\n",
    "plt.ylabel('Amount of purchases')"
   ],
   "metadata": {
    "collapsed": false,
    "pycharm": {
     "name": "#%%\n"
    }
   }
  },
  {
   "cell_type": "code",
   "execution_count": null,
   "outputs": [],
   "source": [],
   "metadata": {
    "collapsed": false,
    "pycharm": {
     "name": "#%%\n"
    }
   }
  },
  {
   "cell_type": "markdown",
   "source": [
    "Avg purchase sum"
   ],
   "metadata": {
    "collapsed": false
   }
  },
  {
   "cell_type": "code",
   "execution_count": 49,
   "outputs": [
    {
     "data": {
      "text/plain": "<Figure size 432x288 with 1 Axes>",
      "image/png": "[encoded data removed]"
     },
     "metadata": {
      "needs_background": "light"
     },
     "output_type": "display_data"
    }
   ],
   "source": [
    "avg_sum = df_clean.groupby('id_card')['sum'].mean()\n",
    "plt.hist(avg_sum[avg_sum < 500], bins=30)\n",
    "plt.ylabel('Number of customers')\n",
    "plt.xlabel('purchase sum')\n",
    "plt.show()\n"
   ],
   "metadata": {
    "collapsed": false,
    "pycharm": {
     "name": "#%%\n"
    }
   }
  },
  {
   "cell_type": "markdown",
   "source": [
    "Usual cart\n",
    "\n",
    "* Top 10 most purchased product groups"
   ],
   "metadata": {
    "collapsed": false
   }
  },
  {
   "cell_type": "code",
   "execution_count": 58,
   "outputs": [
    {
     "data": {
      "text/plain": "Text(0.5, 0, 'Group Id')"
     },
     "execution_count": 58,
     "metadata": {},
     "output_type": "execute_result"
    },
    {
     "data": {
      "text/plain": "<Figure size 432x288 with 1 Axes>",
      "image/png": "[encoded data removed]"
     },
     "metadata": {
      "needs_background": "light"
     },
     "output_type": "display_data"
    }
   ],
   "source": [
    "most_buyed_groups = df.groupby('id_group')['id_card']\n",
    "most_buyed_groups.unique().apply(len).sort_values(ascending=True)[:10].plot(kind='bar')\n",
    "plt.ylabel('Amount of purchases')\n",
    "plt.xlabel('Group Id')"
   ],
   "metadata": {
    "collapsed": false,
    "pycharm": {
     "name": "#%%\n"
    }
   }
  }
 ],
 "metadata": {
  "colab": {
   "name": "lab_last.ipynb",
   "provenance": [],
   "toc_visible": true
  },
  "kernelspec": {
   "display_name": "Python 3",
   "language": "python",
   "name": "python3"
  },
  "language_info": {
   "codemirror_mode": {
    "name": "ipython",
    "version": 3
   },
   "file_extension": ".py",
   "mimetype": "text/x-python",
   "name": "python",
   "nbconvert_exporter": "python",
   "pygments_lexer": "ipython3",
   "version": "3.7.6"
  }
 },
 "nbformat": 4,
 "nbformat_minor": 1
}
