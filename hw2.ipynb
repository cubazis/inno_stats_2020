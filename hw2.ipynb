{
 "cells": [
  {
   "cell_type": "code",
   "execution_count": 2,
   "id": "fantastic-pendant",
   "metadata": {},
   "outputs": [],
   "source": [
    "import pandas as pd\n",
    "import math\n",
    "import matplotlib.pyplot as plt\n",
    "from scipy.stats import ttest_ind\n",
    "import numpy as np"
   ]
  },
  {
   "cell_type": "markdown",
   "id": "consistent-wedding",
   "metadata": {},
   "source": [
    "# (Preparation) Clear data from outliers "
   ]
  },
  {
   "cell_type": "code",
   "execution_count": null,
   "id": "embedded-louisville",
   "metadata": {},
   "outputs": [],
   "source": [
    "data_files = [\n",
    "    'data/09_groups.csv',\n",
    "    'data/10_groups.csv',\n",
    "    'data/11_groups.csv'\n",
    "]\n",
    "\n",
    "outliers = pd.read_csv(\"data/bad_ids.csv\")\n",
    "\n",
    "for f in data_files:\n",
    "    df = pd.read_csv(f)\n",
    "    clean_data = df[~df.id_card.isin(outliers.id_card)]\n",
    "    \n",
    "    clean_data.to_csv(f[:-4]+\"_clean.csv\")\n",
    "    \n",
    "    del(df)\n",
    "    del(clean_data)"
   ]
  },
  {
   "cell_type": "markdown",
   "id": "separate-government",
   "metadata": {},
   "source": [
    "# Code beggins"
   ]
  },
  {
   "cell_type": "code",
   "execution_count": 3,
   "id": "adverse-carnival",
   "metadata": {},
   "outputs": [],
   "source": [
    "clean_data_files = [\n",
    "    'data/09_groups_clean.csv',\n",
    "    'data/10_groups_clean.csv',\n",
    "    'data/11_groups_clean.csv'\n",
    "]"
   ]
  },
  {
   "cell_type": "markdown",
   "id": "million-gasoline",
   "metadata": {},
   "source": [
    "# TASK 1: \n",
    "## Prove that buying discounted products depends on the average order sum.\n",
    "\n",
    "Or does it?"
   ]
  },
  {
   "cell_type": "code",
   "execution_count": 3,
   "id": "looking-gospel",
   "metadata": {},
   "outputs": [
    {
     "data": {
      "text/html": [
       "<div>\n",
       "<style scoped>\n",
       "    .dataframe tbody tr th:only-of-type {\n",
       "        vertical-align: middle;\n",
       "    }\n",
       "\n",
       "    .dataframe tbody tr th {\n",
       "        vertical-align: top;\n",
       "    }\n",
       "\n",
       "    .dataframe thead th {\n",
       "        text-align: right;\n",
       "    }\n",
       "</style>\n",
       "<table border=\"1\" class=\"dataframe\">\n",
       "  <thead>\n",
       "    <tr style=\"text-align: right;\">\n",
       "      <th></th>\n",
       "      <th>Unnamed: 0</th>\n",
       "      <th>date</th>\n",
       "      <th>id_doc</th>\n",
       "      <th>id_order</th>\n",
       "      <th>id_card</th>\n",
       "      <th>id_tov</th>\n",
       "      <th>id_kontr</th>\n",
       "      <th>quantity</th>\n",
       "      <th>sum</th>\n",
       "      <th>is_green</th>\n",
       "      <th>id_group</th>\n",
       "    </tr>\n",
       "  </thead>\n",
       "  <tbody>\n",
       "    <tr>\n",
       "      <th>0</th>\n",
       "      <td>0</td>\n",
       "      <td>2020-09-01 17:01:25</td>\n",
       "      <td>1283228</td>\n",
       "      <td>0.0</td>\n",
       "      <td>1538855</td>\n",
       "      <td>52</td>\n",
       "      <td>271</td>\n",
       "      <td>1.0</td>\n",
       "      <td>108.00</td>\n",
       "      <td>0</td>\n",
       "      <td>10004</td>\n",
       "    </tr>\n",
       "    <tr>\n",
       "      <th>1</th>\n",
       "      <td>1</td>\n",
       "      <td>2020-09-01 17:35:36</td>\n",
       "      <td>8873113</td>\n",
       "      <td>0.0</td>\n",
       "      <td>267307</td>\n",
       "      <td>52</td>\n",
       "      <td>271</td>\n",
       "      <td>1.0</td>\n",
       "      <td>108.00</td>\n",
       "      <td>0</td>\n",
       "      <td>10004</td>\n",
       "    </tr>\n",
       "    <tr>\n",
       "      <th>2</th>\n",
       "      <td>2</td>\n",
       "      <td>2020-09-01 19:19:21</td>\n",
       "      <td>12712899</td>\n",
       "      <td>0.0</td>\n",
       "      <td>610220</td>\n",
       "      <td>52</td>\n",
       "      <td>271</td>\n",
       "      <td>1.0</td>\n",
       "      <td>107.95</td>\n",
       "      <td>0</td>\n",
       "      <td>10004</td>\n",
       "    </tr>\n",
       "    <tr>\n",
       "      <th>3</th>\n",
       "      <td>3</td>\n",
       "      <td>2020-09-01 21:53:34</td>\n",
       "      <td>21535283</td>\n",
       "      <td>0.0</td>\n",
       "      <td>441497</td>\n",
       "      <td>52</td>\n",
       "      <td>271</td>\n",
       "      <td>1.0</td>\n",
       "      <td>108.00</td>\n",
       "      <td>0</td>\n",
       "      <td>10004</td>\n",
       "    </tr>\n",
       "    <tr>\n",
       "      <th>4</th>\n",
       "      <td>4</td>\n",
       "      <td>2020-09-01 18:42:31</td>\n",
       "      <td>642341</td>\n",
       "      <td>0.0</td>\n",
       "      <td>1065358</td>\n",
       "      <td>61</td>\n",
       "      <td>97</td>\n",
       "      <td>2.0</td>\n",
       "      <td>88.00</td>\n",
       "      <td>0</td>\n",
       "      <td>10091</td>\n",
       "    </tr>\n",
       "    <tr>\n",
       "      <th>5</th>\n",
       "      <td>5</td>\n",
       "      <td>2020-09-01 12:47:31</td>\n",
       "      <td>1019873</td>\n",
       "      <td>0.0</td>\n",
       "      <td>375644</td>\n",
       "      <td>61</td>\n",
       "      <td>271</td>\n",
       "      <td>4.0</td>\n",
       "      <td>224.00</td>\n",
       "      <td>0</td>\n",
       "      <td>10091</td>\n",
       "    </tr>\n",
       "    <tr>\n",
       "      <th>6</th>\n",
       "      <td>6</td>\n",
       "      <td>2020-09-01 19:50:31</td>\n",
       "      <td>2487942</td>\n",
       "      <td>0.0</td>\n",
       "      <td>736538</td>\n",
       "      <td>61</td>\n",
       "      <td>97</td>\n",
       "      <td>1.0</td>\n",
       "      <td>56.00</td>\n",
       "      <td>0</td>\n",
       "      <td>10091</td>\n",
       "    </tr>\n",
       "    <tr>\n",
       "      <th>7</th>\n",
       "      <td>7</td>\n",
       "      <td>2020-09-01 18:40:04</td>\n",
       "      <td>8895052</td>\n",
       "      <td>0.0</td>\n",
       "      <td>142160</td>\n",
       "      <td>61</td>\n",
       "      <td>271</td>\n",
       "      <td>1.0</td>\n",
       "      <td>56.00</td>\n",
       "      <td>0</td>\n",
       "      <td>10091</td>\n",
       "    </tr>\n",
       "    <tr>\n",
       "      <th>8</th>\n",
       "      <td>8</td>\n",
       "      <td>2020-09-01 20:26:48</td>\n",
       "      <td>13354606</td>\n",
       "      <td>0.0</td>\n",
       "      <td>1408467</td>\n",
       "      <td>61</td>\n",
       "      <td>379</td>\n",
       "      <td>1.0</td>\n",
       "      <td>44.00</td>\n",
       "      <td>0</td>\n",
       "      <td>10091</td>\n",
       "    </tr>\n",
       "    <tr>\n",
       "      <th>9</th>\n",
       "      <td>9</td>\n",
       "      <td>2020-09-01 14:46:19</td>\n",
       "      <td>15422798</td>\n",
       "      <td>0.0</td>\n",
       "      <td>641525</td>\n",
       "      <td>61</td>\n",
       "      <td>97</td>\n",
       "      <td>1.0</td>\n",
       "      <td>56.00</td>\n",
       "      <td>0</td>\n",
       "      <td>10091</td>\n",
       "    </tr>\n",
       "  </tbody>\n",
       "</table>\n",
       "</div>"
      ],
      "text/plain": [
       "   Unnamed: 0                 date    id_doc  id_order  id_card  id_tov  \\\n",
       "0           0  2020-09-01 17:01:25   1283228       0.0  1538855      52   \n",
       "1           1  2020-09-01 17:35:36   8873113       0.0   267307      52   \n",
       "2           2  2020-09-01 19:19:21  12712899       0.0   610220      52   \n",
       "3           3  2020-09-01 21:53:34  21535283       0.0   441497      52   \n",
       "4           4  2020-09-01 18:42:31    642341       0.0  1065358      61   \n",
       "5           5  2020-09-01 12:47:31   1019873       0.0   375644      61   \n",
       "6           6  2020-09-01 19:50:31   2487942       0.0   736538      61   \n",
       "7           7  2020-09-01 18:40:04   8895052       0.0   142160      61   \n",
       "8           8  2020-09-01 20:26:48  13354606       0.0  1408467      61   \n",
       "9           9  2020-09-01 14:46:19  15422798       0.0   641525      61   \n",
       "\n",
       "   id_kontr  quantity     sum  is_green  id_group  \n",
       "0       271       1.0  108.00         0     10004  \n",
       "1       271       1.0  108.00         0     10004  \n",
       "2       271       1.0  107.95         0     10004  \n",
       "3       271       1.0  108.00         0     10004  \n",
       "4        97       2.0   88.00         0     10091  \n",
       "5       271       4.0  224.00         0     10091  \n",
       "6        97       1.0   56.00         0     10091  \n",
       "7       271       1.0   56.00         0     10091  \n",
       "8       379       1.0   44.00         0     10091  \n",
       "9        97       1.0   56.00         0     10091  "
      ]
     },
     "execution_count": 3,
     "metadata": {},
     "output_type": "execute_result"
    }
   ],
   "source": [
    "# We will work with september data\n",
    "df = pd.read_csv(clean_data_files[0])\n",
    "df.head(10)"
   ]
  },
  {
   "cell_type": "markdown",
   "id": "stunning-participation",
   "metadata": {},
   "source": [
    "From all columns we need only `id_doc`, `sum`, `is_green`"
   ]
  },
  {
   "cell_type": "code",
   "execution_count": 4,
   "id": "hollywood-railway",
   "metadata": {},
   "outputs": [],
   "source": [
    "df = df[['id_doc', 'sum', 'is_green']]"
   ]
  },
  {
   "cell_type": "markdown",
   "id": "outstanding-graduation",
   "metadata": {},
   "source": [
    "To check the dependence we first need to group our data by `id_doc` (check id) and find average sum of each order."
   ]
  },
  {
   "cell_type": "code",
   "execution_count": 8,
   "id": "military-burst",
   "metadata": {},
   "outputs": [],
   "source": [
    "orders = df.groupby('id_doc').agg({'sum':'mean'})"
   ]
  },
  {
   "cell_type": "markdown",
   "id": "entitled-speaker",
   "metadata": {},
   "source": [
    "Then we need to separate orders with green products from orders without green products"
   ]
  },
  {
   "cell_type": "code",
   "execution_count": 10,
   "id": "authentic-works",
   "metadata": {},
   "outputs": [],
   "source": [
    "orders['green_count'] = df.groupby('id_doc').agg({'is_green':'sum'})['is_green']"
   ]
  },
  {
   "cell_type": "code",
   "execution_count": 29,
   "id": "dramatic-benefit",
   "metadata": {},
   "outputs": [],
   "source": [
    "green = orders[orders['green_count'] >= 1]\n",
    "no_green = orders[orders['green_count'] < 1]"
   ]
  },
  {
   "cell_type": "code",
   "execution_count": 30,
   "id": "fleet-pathology",
   "metadata": {},
   "outputs": [],
   "source": [
    "# small check that nothing is missed\n",
    "assert len(orders) == (len(green) + len(no_green))"
   ]
  },
  {
   "cell_type": "markdown",
   "id": "shaped-homework",
   "metadata": {},
   "source": [
    "Having our data, we can formulate our hypothesis:\n",
    "- $H_0$: The presence of green products does not depend on average sum of order. Therefore, both orders with green and without green products has same expected average sum.\n",
    "- $H_a$: There is no dependence. Therefore, the expected value of average sum will differ for orders with green and without green products."
   ]
  },
  {
   "cell_type": "markdown",
   "id": "available-going",
   "metadata": {},
   "source": [
    "### Method 1: visual"
   ]
  },
  {
   "cell_type": "code",
   "execution_count": 28,
   "id": "shaped-subscriber",
   "metadata": {},
   "outputs": [
    {
     "data": {
      "text/plain": [
       "<AxesSubplot:xlabel='sum', ylabel='green_count'>"
      ]
     },
     "execution_count": 28,
     "metadata": {},
     "output_type": "execute_result"
    },
    {
     "data": {
      "image/png": "[encoded data removed]",
      "text/plain": [
       "<Figure size 432x288 with 1 Axes>"
      ]
     },
     "metadata": {
      "needs_background": "light"
     },
     "output_type": "display_data"
    }
   ],
   "source": [
    "ax = green.plot.scatter('sum', 'green_count', color='g', alpha=0.1)\n",
    "no_green.plot.scatter('sum', 'green_count', color='r', alpha=0.1, ax=ax)"
   ]
  },
  {
   "cell_type": "code",
   "execution_count": 52,
   "id": "physical-modem",
   "metadata": {},
   "outputs": [
    {
     "data": {
      "text/plain": [
       "Text(0.5, 1.0, 'No green')"
      ]
     },
     "execution_count": 52,
     "metadata": {},
     "output_type": "execute_result"
    },
    {
     "data": {
      "image/png": "[encoded data removed]",
      "text/plain": [
       "<Figure size 1080x360 with 2 Axes>"
      ]
     },
     "metadata": {
      "needs_background": "light"
     },
     "output_type": "display_data"
    }
   ],
   "source": [
    "plt.figure(figsize=(15,5))\n",
    "plt.subplot(1,2,1)\n",
    "green['sum'].plot.hist(bins=100)\n",
    "plt.title(\"Green\")\n",
    "plt.subplot(1,2,2)\n",
    "no_green['sum'].plot.hist(bins=100)\n",
    "plt.title(\"No green\")"
   ]
  },
  {
   "cell_type": "markdown",
   "id": "phantom-magnet",
   "metadata": {},
   "source": [
    "From the plot above, it is hard to say how much expected values of two samples differ. "
   ]
  },
  {
   "cell_type": "markdown",
   "id": "reasonable-great",
   "metadata": {},
   "source": [
    "### Method 2: two-sample test\n",
    "As the mean values tend to distribute normally, we can apply two-sample test to test our null hyposesis that samples has same expected value.\n",
    "\n",
    "Let green orders be $X$, no_green - $Y$\n",
    "\n",
    "$T = \\frac{\\bar{X} - \\bar{Y}}{\\sqrt{\\frac{S_X^2}{N_X} + \\frac{S_Y^2}{N_Y}}}$\n",
    "\n",
    "Note that we cannot assume that samples has same std."
   ]
  },
  {
   "cell_type": "code",
   "execution_count": 58,
   "id": "parliamentary-ordering",
   "metadata": {},
   "outputs": [],
   "source": [
    "X_mean = green['sum'].mean()\n",
    "Y_mean = no_green['sum'].mean()\n",
    "Sx = green['sum'].std()\n",
    "Sy = no_green['sum'].std()\n",
    "Nx = len(green)\n",
    "Ny = len(no_green)\n",
    "\n",
    "T = (X_mean-Y_mean)/(math.sqrt(Sx**2/Nx + Sy**2/Ny))"
   ]
  },
  {
   "cell_type": "code",
   "execution_count": 59,
   "id": "sticky-flesh",
   "metadata": {},
   "outputs": [
    {
     "data": {
      "text/plain": [
       "-553.5078221065652"
      ]
     },
     "execution_count": 59,
     "metadata": {},
     "output_type": "execute_result"
    }
   ],
   "source": [
    "T"
   ]
  },
  {
   "cell_type": "markdown",
   "id": "shared-monster",
   "metadata": {},
   "source": [
    "Accordinf to [t_table](https://www.sjsu.edu/faculty/gerstman/StatPrimer/t-table.pdf), for df  $ \\to \\infty$, our T value indicates p value close to 0.\n",
    "\n",
    "This is an strong evidence to reject our $H_0$, meanung that there IS significant difference between expected values of these samples.\n",
    "\n",
    "More specisically, the negative sign of our T value indicates that \n",
    "$$\\bar{Y} > \\bar{X}$$\n",
    "\n",
    "**Verdict: We have evidence, that there is dependence between average order sum and appearance of discoun products. More precisely, it could be said that with larger average order sum the probability of green product purchase drops.**"
   ]
  },
  {
   "cell_type": "markdown",
   "id": "related-clock",
   "metadata": {},
   "source": [
    "# TASK 2: \n",
    "## Prove that the frequency of shopping grows around the wage taking days\n",
    "\n",
    "Or does it?"
   ]
  },
  {
   "cell_type": "code",
   "execution_count": 3,
   "id": "powered-jersey",
   "metadata": {},
   "outputs": [
    {
     "data": {
      "text/html": [
       "<div>\n",
       "<style scoped>\n",
       "    .dataframe tbody tr th:only-of-type {\n",
       "        vertical-align: middle;\n",
       "    }\n",
       "\n",
       "    .dataframe tbody tr th {\n",
       "        vertical-align: top;\n",
       "    }\n",
       "\n",
       "    .dataframe thead th {\n",
       "        text-align: right;\n",
       "    }\n",
       "</style>\n",
       "<table border=\"1\" class=\"dataframe\">\n",
       "  <thead>\n",
       "    <tr style=\"text-align: right;\">\n",
       "      <th></th>\n",
       "      <th>Unnamed: 0</th>\n",
       "      <th>date</th>\n",
       "      <th>id_doc</th>\n",
       "      <th>id_order</th>\n",
       "      <th>id_card</th>\n",
       "      <th>id_tov</th>\n",
       "      <th>id_kontr</th>\n",
       "      <th>quantity</th>\n",
       "      <th>sum</th>\n",
       "      <th>is_green</th>\n",
       "      <th>id_group</th>\n",
       "    </tr>\n",
       "  </thead>\n",
       "  <tbody>\n",
       "    <tr>\n",
       "      <th>0</th>\n",
       "      <td>0</td>\n",
       "      <td>2020-09-01 17:01:25</td>\n",
       "      <td>1283228</td>\n",
       "      <td>0.0</td>\n",
       "      <td>1538855</td>\n",
       "      <td>52</td>\n",
       "      <td>271</td>\n",
       "      <td>1.0</td>\n",
       "      <td>108.00</td>\n",
       "      <td>0</td>\n",
       "      <td>10004</td>\n",
       "    </tr>\n",
       "    <tr>\n",
       "      <th>1</th>\n",
       "      <td>1</td>\n",
       "      <td>2020-09-01 17:35:36</td>\n",
       "      <td>8873113</td>\n",
       "      <td>0.0</td>\n",
       "      <td>267307</td>\n",
       "      <td>52</td>\n",
       "      <td>271</td>\n",
       "      <td>1.0</td>\n",
       "      <td>108.00</td>\n",
       "      <td>0</td>\n",
       "      <td>10004</td>\n",
       "    </tr>\n",
       "    <tr>\n",
       "      <th>2</th>\n",
       "      <td>2</td>\n",
       "      <td>2020-09-01 19:19:21</td>\n",
       "      <td>12712899</td>\n",
       "      <td>0.0</td>\n",
       "      <td>610220</td>\n",
       "      <td>52</td>\n",
       "      <td>271</td>\n",
       "      <td>1.0</td>\n",
       "      <td>107.95</td>\n",
       "      <td>0</td>\n",
       "      <td>10004</td>\n",
       "    </tr>\n",
       "    <tr>\n",
       "      <th>3</th>\n",
       "      <td>3</td>\n",
       "      <td>2020-09-01 21:53:34</td>\n",
       "      <td>21535283</td>\n",
       "      <td>0.0</td>\n",
       "      <td>441497</td>\n",
       "      <td>52</td>\n",
       "      <td>271</td>\n",
       "      <td>1.0</td>\n",
       "      <td>108.00</td>\n",
       "      <td>0</td>\n",
       "      <td>10004</td>\n",
       "    </tr>\n",
       "    <tr>\n",
       "      <th>4</th>\n",
       "      <td>4</td>\n",
       "      <td>2020-09-01 18:42:31</td>\n",
       "      <td>642341</td>\n",
       "      <td>0.0</td>\n",
       "      <td>1065358</td>\n",
       "      <td>61</td>\n",
       "      <td>97</td>\n",
       "      <td>2.0</td>\n",
       "      <td>88.00</td>\n",
       "      <td>0</td>\n",
       "      <td>10091</td>\n",
       "    </tr>\n",
       "    <tr>\n",
       "      <th>5</th>\n",
       "      <td>5</td>\n",
       "      <td>2020-09-01 12:47:31</td>\n",
       "      <td>1019873</td>\n",
       "      <td>0.0</td>\n",
       "      <td>375644</td>\n",
       "      <td>61</td>\n",
       "      <td>271</td>\n",
       "      <td>4.0</td>\n",
       "      <td>224.00</td>\n",
       "      <td>0</td>\n",
       "      <td>10091</td>\n",
       "    </tr>\n",
       "    <tr>\n",
       "      <th>6</th>\n",
       "      <td>6</td>\n",
       "      <td>2020-09-01 19:50:31</td>\n",
       "      <td>2487942</td>\n",
       "      <td>0.0</td>\n",
       "      <td>736538</td>\n",
       "      <td>61</td>\n",
       "      <td>97</td>\n",
       "      <td>1.0</td>\n",
       "      <td>56.00</td>\n",
       "      <td>0</td>\n",
       "      <td>10091</td>\n",
       "    </tr>\n",
       "    <tr>\n",
       "      <th>7</th>\n",
       "      <td>7</td>\n",
       "      <td>2020-09-01 18:40:04</td>\n",
       "      <td>8895052</td>\n",
       "      <td>0.0</td>\n",
       "      <td>142160</td>\n",
       "      <td>61</td>\n",
       "      <td>271</td>\n",
       "      <td>1.0</td>\n",
       "      <td>56.00</td>\n",
       "      <td>0</td>\n",
       "      <td>10091</td>\n",
       "    </tr>\n",
       "    <tr>\n",
       "      <th>8</th>\n",
       "      <td>8</td>\n",
       "      <td>2020-09-01 20:26:48</td>\n",
       "      <td>13354606</td>\n",
       "      <td>0.0</td>\n",
       "      <td>1408467</td>\n",
       "      <td>61</td>\n",
       "      <td>379</td>\n",
       "      <td>1.0</td>\n",
       "      <td>44.00</td>\n",
       "      <td>0</td>\n",
       "      <td>10091</td>\n",
       "    </tr>\n",
       "    <tr>\n",
       "      <th>9</th>\n",
       "      <td>9</td>\n",
       "      <td>2020-09-01 14:46:19</td>\n",
       "      <td>15422798</td>\n",
       "      <td>0.0</td>\n",
       "      <td>641525</td>\n",
       "      <td>61</td>\n",
       "      <td>97</td>\n",
       "      <td>1.0</td>\n",
       "      <td>56.00</td>\n",
       "      <td>0</td>\n",
       "      <td>10091</td>\n",
       "    </tr>\n",
       "  </tbody>\n",
       "</table>\n",
       "</div>"
      ],
      "text/plain": [
       "   Unnamed: 0                 date    id_doc  id_order  id_card  id_tov  \\\n",
       "0           0  2020-09-01 17:01:25   1283228       0.0  1538855      52   \n",
       "1           1  2020-09-01 17:35:36   8873113       0.0   267307      52   \n",
       "2           2  2020-09-01 19:19:21  12712899       0.0   610220      52   \n",
       "3           3  2020-09-01 21:53:34  21535283       0.0   441497      52   \n",
       "4           4  2020-09-01 18:42:31    642341       0.0  1065358      61   \n",
       "5           5  2020-09-01 12:47:31   1019873       0.0   375644      61   \n",
       "6           6  2020-09-01 19:50:31   2487942       0.0   736538      61   \n",
       "7           7  2020-09-01 18:40:04   8895052       0.0   142160      61   \n",
       "8           8  2020-09-01 20:26:48  13354606       0.0  1408467      61   \n",
       "9           9  2020-09-01 14:46:19  15422798       0.0   641525      61   \n",
       "\n",
       "   id_kontr  quantity     sum  is_green  id_group  \n",
       "0       271       1.0  108.00         0     10004  \n",
       "1       271       1.0  108.00         0     10004  \n",
       "2       271       1.0  107.95         0     10004  \n",
       "3       271       1.0  108.00         0     10004  \n",
       "4        97       2.0   88.00         0     10091  \n",
       "5       271       4.0  224.00         0     10091  \n",
       "6        97       1.0   56.00         0     10091  \n",
       "7       271       1.0   56.00         0     10091  \n",
       "8       379       1.0   44.00         0     10091  \n",
       "9        97       1.0   56.00         0     10091  "
      ]
     },
     "execution_count": 3,
     "metadata": {},
     "output_type": "execute_result"
    }
   ],
   "source": [
    "# We will work with september data\n",
    "df = pd.read_csv(clean_data_files[0])\n",
    "df.head(10)"
   ]
  },
  {
   "cell_type": "code",
   "execution_count": 4,
   "id": "spread-grounds",
   "metadata": {},
   "outputs": [],
   "source": [
    "df.index = pd.to_datetime(df['date'],format='%Y-%m-%d %H:%M:%S')"
   ]
  },
  {
   "cell_type": "markdown",
   "id": "representative-olympus",
   "metadata": {},
   "source": [
    "We need only `id_doc`"
   ]
  },
  {
   "cell_type": "code",
   "execution_count": 5,
   "id": "stretch-romantic",
   "metadata": {},
   "outputs": [],
   "source": [
    "df = df[['id_doc']]"
   ]
  },
  {
   "cell_type": "markdown",
   "id": "imperial-object",
   "metadata": {},
   "source": [
    "Now we count number of checks per day"
   ]
  },
  {
   "cell_type": "code",
   "execution_count": 11,
   "id": "specified-george",
   "metadata": {},
   "outputs": [],
   "source": [
    "check_count = df.groupby(df.index.day).agg({'id_doc':'nunique'})"
   ]
  },
  {
   "cell_type": "code",
   "execution_count": 24,
   "id": "recreational-civilian",
   "metadata": {},
   "outputs": [
    {
     "data": {
      "text/plain": [
       "Text(0.5, 1.0, 'September')"
      ]
     },
     "execution_count": 24,
     "metadata": {},
     "output_type": "execute_result"
    },
    {
     "data": {
      "image/png": "[encoded data removed]",
      "text/plain": [
       "<Figure size 1080x360 with 1 Axes>"
      ]
     },
     "metadata": {
      "needs_background": "light"
     },
     "output_type": "display_data"
    }
   ],
   "source": [
    "plt.figure(figsize=(15,5))\n",
    "plt.locator_params(axis=\"x\", nbins=50)\n",
    "check_count['id_doc'].plot()\n",
    "plt.grid()\n",
    "plt.title(\"September\")"
   ]
  },
  {
   "cell_type": "markdown",
   "id": "powered-cornell",
   "metadata": {},
   "source": [
    "There is kind of growing trend for frequence increase from the begining of month to its end. Better to get more data"
   ]
  },
  {
   "cell_type": "code",
   "execution_count": 25,
   "id": "spanish-milton",
   "metadata": {},
   "outputs": [
    {
     "data": {
      "image/png": "[encoded data removed]",
      "text/plain": [
       "<Figure size 1080x360 with 1 Axes>"
      ]
     },
     "metadata": {
      "needs_background": "light"
     },
     "output_type": "display_data"
    }
   ],
   "source": [
    "del(df)\n",
    "df = pd.read_csv(clean_data_files[1])\n",
    "df = df[['id_doc', 'date']]\n",
    "df.index = pd.to_datetime(df['date'],format='%Y-%m-%d %H:%M:%S')\n",
    "check_count = df.groupby(df.index.day).agg({'id_doc':'nunique'})\n",
    "plt.figure(figsize=(15,5))\n",
    "plt.locator_params(axis=\"x\", nbins=50)\n",
    "check_count['id_doc'].plot()\n",
    "plt.grid()"
   ]
  },
  {
   "cell_type": "markdown",
   "id": "smoking-strength",
   "metadata": {},
   "source": [
    "^ October\n",
    "Here is visible trend for frequency reduction untill 20th of October and subsequent groth"
   ]
  },
  {
   "cell_type": "code",
   "execution_count": 26,
   "id": "external-freeze",
   "metadata": {},
   "outputs": [
    {
     "data": {
      "image/png": "[encoded data removed]",
      "text/plain": [
       "<Figure size 1080x360 with 1 Axes>"
      ]
     },
     "metadata": {
      "needs_background": "light"
     },
     "output_type": "display_data"
    }
   ],
   "source": [
    "del(df)\n",
    "df = pd.read_csv(clean_data_files[2])\n",
    "df = df[['id_doc', 'date']]\n",
    "df.index = pd.to_datetime(df['date'],format='%Y-%m-%d %H:%M:%S')\n",
    "check_count = df.groupby(df.index.day).agg({'id_doc':'nunique'})\n",
    "plt.figure(figsize=(15,5))\n",
    "plt.locator_params(axis=\"x\", nbins=50)\n",
    "check_count['id_doc'].plot()\n",
    "plt.title(\"November\")\n",
    "plt.grid()"
   ]
  },
  {
   "cell_type": "markdown",
   "id": "charming-education",
   "metadata": {},
   "source": [
    "Here no trend present"
   ]
  },
  {
   "cell_type": "markdown",
   "id": "collective-twenty",
   "metadata": {},
   "source": [
    "**Verdict: There is clear dependence of frequency on day of the week (there are less orders on Fridays and Saturdays), but around wage taking days there is no significant growth that is standing out.**"
   ]
  },
  {
   "cell_type": "markdown",
   "id": "jewish-developer",
   "metadata": {},
   "source": [
    "# TASK 3.1:\n",
    "## Frequent buyers - The users that are shopping daily"
   ]
  },
  {
   "cell_type": "code",
   "execution_count": 3,
   "id": "controlled-acceptance",
   "metadata": {
    "scrolled": true
   },
   "outputs": [
    {
     "data": {
      "text/html": [
       "<div>\n",
       "<style scoped>\n",
       "    .dataframe tbody tr th:only-of-type {\n",
       "        vertical-align: middle;\n",
       "    }\n",
       "\n",
       "    .dataframe tbody tr th {\n",
       "        vertical-align: top;\n",
       "    }\n",
       "\n",
       "    .dataframe thead th {\n",
       "        text-align: right;\n",
       "    }\n",
       "</style>\n",
       "<table border=\"1\" class=\"dataframe\">\n",
       "  <thead>\n",
       "    <tr style=\"text-align: right;\">\n",
       "      <th></th>\n",
       "      <th>Unnamed: 0</th>\n",
       "      <th>date</th>\n",
       "      <th>id_doc</th>\n",
       "      <th>id_order</th>\n",
       "      <th>id_card</th>\n",
       "      <th>id_tov</th>\n",
       "      <th>id_kontr</th>\n",
       "      <th>quantity</th>\n",
       "      <th>sum</th>\n",
       "      <th>is_green</th>\n",
       "      <th>id_group</th>\n",
       "    </tr>\n",
       "  </thead>\n",
       "  <tbody>\n",
       "    <tr>\n",
       "      <th>0</th>\n",
       "      <td>0</td>\n",
       "      <td>2020-09-01 17:01:25</td>\n",
       "      <td>1283228</td>\n",
       "      <td>0.0</td>\n",
       "      <td>1538855</td>\n",
       "      <td>52</td>\n",
       "      <td>271</td>\n",
       "      <td>1.0</td>\n",
       "      <td>108.00</td>\n",
       "      <td>0</td>\n",
       "      <td>10004</td>\n",
       "    </tr>\n",
       "    <tr>\n",
       "      <th>1</th>\n",
       "      <td>1</td>\n",
       "      <td>2020-09-01 17:35:36</td>\n",
       "      <td>8873113</td>\n",
       "      <td>0.0</td>\n",
       "      <td>267307</td>\n",
       "      <td>52</td>\n",
       "      <td>271</td>\n",
       "      <td>1.0</td>\n",
       "      <td>108.00</td>\n",
       "      <td>0</td>\n",
       "      <td>10004</td>\n",
       "    </tr>\n",
       "    <tr>\n",
       "      <th>2</th>\n",
       "      <td>2</td>\n",
       "      <td>2020-09-01 19:19:21</td>\n",
       "      <td>12712899</td>\n",
       "      <td>0.0</td>\n",
       "      <td>610220</td>\n",
       "      <td>52</td>\n",
       "      <td>271</td>\n",
       "      <td>1.0</td>\n",
       "      <td>107.95</td>\n",
       "      <td>0</td>\n",
       "      <td>10004</td>\n",
       "    </tr>\n",
       "    <tr>\n",
       "      <th>3</th>\n",
       "      <td>3</td>\n",
       "      <td>2020-09-01 21:53:34</td>\n",
       "      <td>21535283</td>\n",
       "      <td>0.0</td>\n",
       "      <td>441497</td>\n",
       "      <td>52</td>\n",
       "      <td>271</td>\n",
       "      <td>1.0</td>\n",
       "      <td>108.00</td>\n",
       "      <td>0</td>\n",
       "      <td>10004</td>\n",
       "    </tr>\n",
       "    <tr>\n",
       "      <th>4</th>\n",
       "      <td>4</td>\n",
       "      <td>2020-09-01 18:42:31</td>\n",
       "      <td>642341</td>\n",
       "      <td>0.0</td>\n",
       "      <td>1065358</td>\n",
       "      <td>61</td>\n",
       "      <td>97</td>\n",
       "      <td>2.0</td>\n",
       "      <td>88.00</td>\n",
       "      <td>0</td>\n",
       "      <td>10091</td>\n",
       "    </tr>\n",
       "    <tr>\n",
       "      <th>5</th>\n",
       "      <td>5</td>\n",
       "      <td>2020-09-01 12:47:31</td>\n",
       "      <td>1019873</td>\n",
       "      <td>0.0</td>\n",
       "      <td>375644</td>\n",
       "      <td>61</td>\n",
       "      <td>271</td>\n",
       "      <td>4.0</td>\n",
       "      <td>224.00</td>\n",
       "      <td>0</td>\n",
       "      <td>10091</td>\n",
       "    </tr>\n",
       "    <tr>\n",
       "      <th>6</th>\n",
       "      <td>6</td>\n",
       "      <td>2020-09-01 19:50:31</td>\n",
       "      <td>2487942</td>\n",
       "      <td>0.0</td>\n",
       "      <td>736538</td>\n",
       "      <td>61</td>\n",
       "      <td>97</td>\n",
       "      <td>1.0</td>\n",
       "      <td>56.00</td>\n",
       "      <td>0</td>\n",
       "      <td>10091</td>\n",
       "    </tr>\n",
       "    <tr>\n",
       "      <th>7</th>\n",
       "      <td>7</td>\n",
       "      <td>2020-09-01 18:40:04</td>\n",
       "      <td>8895052</td>\n",
       "      <td>0.0</td>\n",
       "      <td>142160</td>\n",
       "      <td>61</td>\n",
       "      <td>271</td>\n",
       "      <td>1.0</td>\n",
       "      <td>56.00</td>\n",
       "      <td>0</td>\n",
       "      <td>10091</td>\n",
       "    </tr>\n",
       "    <tr>\n",
       "      <th>8</th>\n",
       "      <td>8</td>\n",
       "      <td>2020-09-01 20:26:48</td>\n",
       "      <td>13354606</td>\n",
       "      <td>0.0</td>\n",
       "      <td>1408467</td>\n",
       "      <td>61</td>\n",
       "      <td>379</td>\n",
       "      <td>1.0</td>\n",
       "      <td>44.00</td>\n",
       "      <td>0</td>\n",
       "      <td>10091</td>\n",
       "    </tr>\n",
       "    <tr>\n",
       "      <th>9</th>\n",
       "      <td>9</td>\n",
       "      <td>2020-09-01 14:46:19</td>\n",
       "      <td>15422798</td>\n",
       "      <td>0.0</td>\n",
       "      <td>641525</td>\n",
       "      <td>61</td>\n",
       "      <td>97</td>\n",
       "      <td>1.0</td>\n",
       "      <td>56.00</td>\n",
       "      <td>0</td>\n",
       "      <td>10091</td>\n",
       "    </tr>\n",
       "  </tbody>\n",
       "</table>\n",
       "</div>"
      ],
      "text/plain": [
       "   Unnamed: 0                 date    id_doc  id_order  id_card  id_tov  \\\n",
       "0           0  2020-09-01 17:01:25   1283228       0.0  1538855      52   \n",
       "1           1  2020-09-01 17:35:36   8873113       0.0   267307      52   \n",
       "2           2  2020-09-01 19:19:21  12712899       0.0   610220      52   \n",
       "3           3  2020-09-01 21:53:34  21535283       0.0   441497      52   \n",
       "4           4  2020-09-01 18:42:31    642341       0.0  1065358      61   \n",
       "5           5  2020-09-01 12:47:31   1019873       0.0   375644      61   \n",
       "6           6  2020-09-01 19:50:31   2487942       0.0   736538      61   \n",
       "7           7  2020-09-01 18:40:04   8895052       0.0   142160      61   \n",
       "8           8  2020-09-01 20:26:48  13354606       0.0  1408467      61   \n",
       "9           9  2020-09-01 14:46:19  15422798       0.0   641525      61   \n",
       "\n",
       "   id_kontr  quantity     sum  is_green  id_group  \n",
       "0       271       1.0  108.00         0     10004  \n",
       "1       271       1.0  108.00         0     10004  \n",
       "2       271       1.0  107.95         0     10004  \n",
       "3       271       1.0  108.00         0     10004  \n",
       "4        97       2.0   88.00         0     10091  \n",
       "5       271       4.0  224.00         0     10091  \n",
       "6        97       1.0   56.00         0     10091  \n",
       "7       271       1.0   56.00         0     10091  \n",
       "8       379       1.0   44.00         0     10091  \n",
       "9        97       1.0   56.00         0     10091  "
      ]
     },
     "execution_count": 3,
     "metadata": {},
     "output_type": "execute_result"
    }
   ],
   "source": [
    "# We will work with september data\n",
    "df = pd.read_csv(clean_data_files[0])\n",
    "df.head(10)"
   ]
  },
  {
   "cell_type": "code",
   "execution_count": 4,
   "id": "terminal-series",
   "metadata": {},
   "outputs": [],
   "source": [
    "df.index = pd.to_datetime(df['date'],format='%Y-%m-%d %H:%M:%S')\n",
    "df['day'] = df.index.date"
   ]
  },
  {
   "cell_type": "markdown",
   "id": "confirmed-perspective",
   "metadata": {},
   "source": [
    "We need only `date`, `id_doc`, `id_card`"
   ]
  },
  {
   "cell_type": "code",
   "execution_count": 5,
   "id": "medieval-wound",
   "metadata": {},
   "outputs": [],
   "source": [
    "df = df[['day', 'id_doc', 'id_card']]"
   ]
  },
  {
   "cell_type": "markdown",
   "id": "natural-navigator",
   "metadata": {},
   "source": [
    "Count number of checks for each card for each day"
   ]
  },
  {
   "cell_type": "code",
   "execution_count": 6,
   "id": "ideal-setting",
   "metadata": {},
   "outputs": [],
   "source": [
    "df = df.groupby(['day', 'id_card']).agg({'id_doc':'nunique'})"
   ]
  },
  {
   "cell_type": "code",
   "execution_count": 8,
   "id": "diagnostic-wrong",
   "metadata": {},
   "outputs": [],
   "source": [
    "df = df.reset_index()"
   ]
  },
  {
   "cell_type": "code",
   "execution_count": 16,
   "id": "embedded-voltage",
   "metadata": {},
   "outputs": [],
   "source": [
    "deltas = df.groupby('id_card').apply(lambda x: [delta.days for delta in np.diff(sorted(set(x['day'])))])"
   ]
  },
  {
   "cell_type": "code",
   "execution_count": 24,
   "id": "sweet-howard",
   "metadata": {},
   "outputs": [
    {
     "data": {
      "text/plain": [
       "Text(0, 0.5, 'People count')"
      ]
     },
     "execution_count": 24,
     "metadata": {},
     "output_type": "execute_result"
    },
    {
     "data": {
      "image/png": "[encoded data removed]",
      "text/plain": [
       "<Figure size 432x288 with 1 Axes>"
      ]
     },
     "metadata": {
      "needs_background": "light"
     },
     "output_type": "display_data"
    }
   ],
   "source": [
    "daily_castomers = deltas.apply(lambda x: len([delta for delta in x if delta == 1]))\n",
    "daily_castomers.plot.hist(bins=31)\n",
    "plt.xlabel('Number of times person ordered 2 days in a row.')\n",
    "plt.ylabel('People count')"
   ]
  },
  {
   "cell_type": "markdown",
   "id": "organizational-brass",
   "metadata": {},
   "source": [
    "From this histogram, it is visible that there are people who has more than 15 times, then they returned to store on next day, meaning they were \"dayly\" customes 15 times, attending store 16+ times. \n",
    "Although, there a lot of people who has never returned to store on the next day (first bin)"
   ]
  },
  {
   "cell_type": "code",
   "execution_count": 32,
   "id": "written-oxford",
   "metadata": {},
   "outputs": [
    {
     "data": {
      "text/plain": [
       "<AxesSubplot:ylabel='Frequency'>"
      ]
     },
     "execution_count": 32,
     "metadata": {},
     "output_type": "execute_result"
    },
    {
     "data": {
      "image/png": "[encoded data removed]",
      "text/plain": [
       "<Figure size 432x288 with 1 Axes>"
      ]
     },
     "metadata": {
      "needs_background": "light"
     },
     "output_type": "display_data"
    }
   ],
   "source": [
    "daily_castomers[daily_castomers > 20].plot.hist(bins=10)"
   ]
  },
  {
   "cell_type": "markdown",
   "id": "cloudy-madness",
   "metadata": {},
   "source": [
    "**Here are customers, that could be called 'daily castomers'**"
   ]
  },
  {
   "cell_type": "markdown",
   "id": "seasonal-article",
   "metadata": {},
   "source": [
    "# TASK 3.2\n",
    "## Average purchase sum - the customers that usually spend the same amount of money "
   ]
  },
  {
   "cell_type": "code",
   "execution_count": 3,
   "id": "irish-tourist",
   "metadata": {},
   "outputs": [
    {
     "data": {
      "text/html": [
       "<div>\n",
       "<style scoped>\n",
       "    .dataframe tbody tr th:only-of-type {\n",
       "        vertical-align: middle;\n",
       "    }\n",
       "\n",
       "    .dataframe tbody tr th {\n",
       "        vertical-align: top;\n",
       "    }\n",
       "\n",
       "    .dataframe thead th {\n",
       "        text-align: right;\n",
       "    }\n",
       "</style>\n",
       "<table border=\"1\" class=\"dataframe\">\n",
       "  <thead>\n",
       "    <tr style=\"text-align: right;\">\n",
       "      <th></th>\n",
       "      <th>Unnamed: 0</th>\n",
       "      <th>date</th>\n",
       "      <th>id_doc</th>\n",
       "      <th>id_order</th>\n",
       "      <th>id_card</th>\n",
       "      <th>id_tov</th>\n",
       "      <th>id_kontr</th>\n",
       "      <th>quantity</th>\n",
       "      <th>sum</th>\n",
       "      <th>is_green</th>\n",
       "      <th>id_group</th>\n",
       "    </tr>\n",
       "  </thead>\n",
       "  <tbody>\n",
       "    <tr>\n",
       "      <th>0</th>\n",
       "      <td>0</td>\n",
       "      <td>2020-09-01 17:01:25</td>\n",
       "      <td>1283228</td>\n",
       "      <td>0.0</td>\n",
       "      <td>1538855</td>\n",
       "      <td>52</td>\n",
       "      <td>271</td>\n",
       "      <td>1.0</td>\n",
       "      <td>108.00</td>\n",
       "      <td>0</td>\n",
       "      <td>10004</td>\n",
       "    </tr>\n",
       "    <tr>\n",
       "      <th>1</th>\n",
       "      <td>1</td>\n",
       "      <td>2020-09-01 17:35:36</td>\n",
       "      <td>8873113</td>\n",
       "      <td>0.0</td>\n",
       "      <td>267307</td>\n",
       "      <td>52</td>\n",
       "      <td>271</td>\n",
       "      <td>1.0</td>\n",
       "      <td>108.00</td>\n",
       "      <td>0</td>\n",
       "      <td>10004</td>\n",
       "    </tr>\n",
       "    <tr>\n",
       "      <th>2</th>\n",
       "      <td>2</td>\n",
       "      <td>2020-09-01 19:19:21</td>\n",
       "      <td>12712899</td>\n",
       "      <td>0.0</td>\n",
       "      <td>610220</td>\n",
       "      <td>52</td>\n",
       "      <td>271</td>\n",
       "      <td>1.0</td>\n",
       "      <td>107.95</td>\n",
       "      <td>0</td>\n",
       "      <td>10004</td>\n",
       "    </tr>\n",
       "    <tr>\n",
       "      <th>3</th>\n",
       "      <td>3</td>\n",
       "      <td>2020-09-01 21:53:34</td>\n",
       "      <td>21535283</td>\n",
       "      <td>0.0</td>\n",
       "      <td>441497</td>\n",
       "      <td>52</td>\n",
       "      <td>271</td>\n",
       "      <td>1.0</td>\n",
       "      <td>108.00</td>\n",
       "      <td>0</td>\n",
       "      <td>10004</td>\n",
       "    </tr>\n",
       "    <tr>\n",
       "      <th>4</th>\n",
       "      <td>4</td>\n",
       "      <td>2020-09-01 18:42:31</td>\n",
       "      <td>642341</td>\n",
       "      <td>0.0</td>\n",
       "      <td>1065358</td>\n",
       "      <td>61</td>\n",
       "      <td>97</td>\n",
       "      <td>2.0</td>\n",
       "      <td>88.00</td>\n",
       "      <td>0</td>\n",
       "      <td>10091</td>\n",
       "    </tr>\n",
       "    <tr>\n",
       "      <th>5</th>\n",
       "      <td>5</td>\n",
       "      <td>2020-09-01 12:47:31</td>\n",
       "      <td>1019873</td>\n",
       "      <td>0.0</td>\n",
       "      <td>375644</td>\n",
       "      <td>61</td>\n",
       "      <td>271</td>\n",
       "      <td>4.0</td>\n",
       "      <td>224.00</td>\n",
       "      <td>0</td>\n",
       "      <td>10091</td>\n",
       "    </tr>\n",
       "    <tr>\n",
       "      <th>6</th>\n",
       "      <td>6</td>\n",
       "      <td>2020-09-01 19:50:31</td>\n",
       "      <td>2487942</td>\n",
       "      <td>0.0</td>\n",
       "      <td>736538</td>\n",
       "      <td>61</td>\n",
       "      <td>97</td>\n",
       "      <td>1.0</td>\n",
       "      <td>56.00</td>\n",
       "      <td>0</td>\n",
       "      <td>10091</td>\n",
       "    </tr>\n",
       "    <tr>\n",
       "      <th>7</th>\n",
       "      <td>7</td>\n",
       "      <td>2020-09-01 18:40:04</td>\n",
       "      <td>8895052</td>\n",
       "      <td>0.0</td>\n",
       "      <td>142160</td>\n",
       "      <td>61</td>\n",
       "      <td>271</td>\n",
       "      <td>1.0</td>\n",
       "      <td>56.00</td>\n",
       "      <td>0</td>\n",
       "      <td>10091</td>\n",
       "    </tr>\n",
       "    <tr>\n",
       "      <th>8</th>\n",
       "      <td>8</td>\n",
       "      <td>2020-09-01 20:26:48</td>\n",
       "      <td>13354606</td>\n",
       "      <td>0.0</td>\n",
       "      <td>1408467</td>\n",
       "      <td>61</td>\n",
       "      <td>379</td>\n",
       "      <td>1.0</td>\n",
       "      <td>44.00</td>\n",
       "      <td>0</td>\n",
       "      <td>10091</td>\n",
       "    </tr>\n",
       "    <tr>\n",
       "      <th>9</th>\n",
       "      <td>9</td>\n",
       "      <td>2020-09-01 14:46:19</td>\n",
       "      <td>15422798</td>\n",
       "      <td>0.0</td>\n",
       "      <td>641525</td>\n",
       "      <td>61</td>\n",
       "      <td>97</td>\n",
       "      <td>1.0</td>\n",
       "      <td>56.00</td>\n",
       "      <td>0</td>\n",
       "      <td>10091</td>\n",
       "    </tr>\n",
       "  </tbody>\n",
       "</table>\n",
       "</div>"
      ],
      "text/plain": [
       "   Unnamed: 0                 date    id_doc  id_order  id_card  id_tov  \\\n",
       "0           0  2020-09-01 17:01:25   1283228       0.0  1538855      52   \n",
       "1           1  2020-09-01 17:35:36   8873113       0.0   267307      52   \n",
       "2           2  2020-09-01 19:19:21  12712899       0.0   610220      52   \n",
       "3           3  2020-09-01 21:53:34  21535283       0.0   441497      52   \n",
       "4           4  2020-09-01 18:42:31    642341       0.0  1065358      61   \n",
       "5           5  2020-09-01 12:47:31   1019873       0.0   375644      61   \n",
       "6           6  2020-09-01 19:50:31   2487942       0.0   736538      61   \n",
       "7           7  2020-09-01 18:40:04   8895052       0.0   142160      61   \n",
       "8           8  2020-09-01 20:26:48  13354606       0.0  1408467      61   \n",
       "9           9  2020-09-01 14:46:19  15422798       0.0   641525      61   \n",
       "\n",
       "   id_kontr  quantity     sum  is_green  id_group  \n",
       "0       271       1.0  108.00         0     10004  \n",
       "1       271       1.0  108.00         0     10004  \n",
       "2       271       1.0  107.95         0     10004  \n",
       "3       271       1.0  108.00         0     10004  \n",
       "4        97       2.0   88.00         0     10091  \n",
       "5       271       4.0  224.00         0     10091  \n",
       "6        97       1.0   56.00         0     10091  \n",
       "7       271       1.0   56.00         0     10091  \n",
       "8       379       1.0   44.00         0     10091  \n",
       "9        97       1.0   56.00         0     10091  "
      ]
     },
     "execution_count": 3,
     "metadata": {},
     "output_type": "execute_result"
    }
   ],
   "source": [
    "# We will work with september data\n",
    "df = pd.read_csv(clean_data_files[0])\n",
    "df.head(10)"
   ]
  },
  {
   "cell_type": "code",
   "execution_count": 4,
   "id": "political-voluntary",
   "metadata": {},
   "outputs": [],
   "source": [
    "df = df[['id_doc', 'id_card', 'sum']]"
   ]
  },
  {
   "cell_type": "markdown",
   "id": "removed-saint",
   "metadata": {},
   "source": [
    "Aggregate the total sum for each order of customers"
   ]
  },
  {
   "cell_type": "code",
   "execution_count": 7,
   "id": "collective-circulation",
   "metadata": {},
   "outputs": [],
   "source": [
    "df = df.groupby(['id_doc', 'id_card']).agg({'sum':'sum'})\n",
    "df = df.reset_index()"
   ]
  },
  {
   "cell_type": "markdown",
   "id": "developing-little",
   "metadata": {},
   "source": [
    "Calculate the variance of order total sum for each customer"
   ]
  },
  {
   "cell_type": "code",
   "execution_count": 12,
   "id": "planned-motivation",
   "metadata": {},
   "outputs": [],
   "source": [
    "stds = df.groupby('id_card').apply(lambda x: x['sum'].std())"
   ]
  },
  {
   "cell_type": "code",
   "execution_count": 14,
   "id": "alpine-overall",
   "metadata": {},
   "outputs": [
    {
     "data": {
      "text/plain": [
       "<AxesSubplot:ylabel='Frequency'>"
      ]
     },
     "execution_count": 14,
     "metadata": {},
     "output_type": "execute_result"
    },
    {
     "data": {
      "image/png": "[encoded data removed]",
      "text/plain": [
       "<Figure size 432x288 with 1 Axes>"
      ]
     },
     "metadata": {
      "needs_background": "light"
     },
     "output_type": "display_data"
    }
   ],
   "source": [
    "stds.plot.hist(bins = 100)"
   ]
  },
  {
   "cell_type": "markdown",
   "id": "foreign-brighton",
   "metadata": {},
   "source": [
    "We are interested in people with as less std as possible:\n",
    "Assumind that sum is in rubles, 10 ruble std seems good (var then is 100 rub)"
   ]
  },
  {
   "cell_type": "code",
   "execution_count": 19,
   "id": "chronic-forestry",
   "metadata": {},
   "outputs": [
    {
     "data": {
      "text/plain": [
       "<AxesSubplot:ylabel='Frequency'>"
      ]
     },
     "execution_count": 19,
     "metadata": {},
     "output_type": "execute_result"
    },
    {
     "data": {
      "image/png": "[encoded data removed]",
      "text/plain": [
       "<Figure size 432x288 with 1 Axes>"
      ]
     },
     "metadata": {
      "needs_background": "light"
     },
     "output_type": "display_data"
    }
   ],
   "source": [
    "stds[stds < 10].plot.hist(bins = 10)"
   ]
  },
  {
   "cell_type": "markdown",
   "id": "fancy-cargo",
   "metadata": {},
   "source": [
    "There are actually people with 0 std"
   ]
  },
  {
   "cell_type": "code",
   "execution_count": 16,
   "id": "dietary-breath",
   "metadata": {},
   "outputs": [
    {
     "data": {
      "text/plain": [
       "id_card\n",
       "1577       0.0\n",
       "2078       0.0\n",
       "3775       0.0\n",
       "4760       0.0\n",
       "5514       0.0\n",
       "          ... \n",
       "1927215    0.0\n",
       "1927860    0.0\n",
       "1928450    0.0\n",
       "1929064    0.0\n",
       "1931196    0.0\n",
       "Length: 3720, dtype: float64"
      ]
     },
     "execution_count": 16,
     "metadata": {},
     "output_type": "execute_result"
    }
   ],
   "source": [
    "stds[stds == 0]"
   ]
  },
  {
   "cell_type": "markdown",
   "id": "coated-federal",
   "metadata": {},
   "source": [
    "**That is the way to find people, who spend the same amount of money from one purchase to another**"
   ]
  },
  {
   "cell_type": "markdown",
   "id": "tired-afternoon",
   "metadata": {},
   "source": [
    "# TASK 3.3\n",
    "## Usual cart - The customers grouped by the product groups"
   ]
  },
  {
   "cell_type": "code",
   "execution_count": 4,
   "id": "vocational-representative",
   "metadata": {},
   "outputs": [
    {
     "data": {
      "text/html": [
       "<div>\n",
       "<style scoped>\n",
       "    .dataframe tbody tr th:only-of-type {\n",
       "        vertical-align: middle;\n",
       "    }\n",
       "\n",
       "    .dataframe tbody tr th {\n",
       "        vertical-align: top;\n",
       "    }\n",
       "\n",
       "    .dataframe thead th {\n",
       "        text-align: right;\n",
       "    }\n",
       "</style>\n",
       "<table border=\"1\" class=\"dataframe\">\n",
       "  <thead>\n",
       "    <tr style=\"text-align: right;\">\n",
       "      <th></th>\n",
       "      <th>Unnamed: 0</th>\n",
       "      <th>date</th>\n",
       "      <th>id_doc</th>\n",
       "      <th>id_order</th>\n",
       "      <th>id_card</th>\n",
       "      <th>id_tov</th>\n",
       "      <th>id_kontr</th>\n",
       "      <th>quantity</th>\n",
       "      <th>sum</th>\n",
       "      <th>is_green</th>\n",
       "      <th>id_group</th>\n",
       "    </tr>\n",
       "  </thead>\n",
       "  <tbody>\n",
       "    <tr>\n",
       "      <th>0</th>\n",
       "      <td>0</td>\n",
       "      <td>2020-09-01 17:01:25</td>\n",
       "      <td>1283228</td>\n",
       "      <td>0.0</td>\n",
       "      <td>1538855</td>\n",
       "      <td>52</td>\n",
       "      <td>271</td>\n",
       "      <td>1.0</td>\n",
       "      <td>108.00</td>\n",
       "      <td>0</td>\n",
       "      <td>10004</td>\n",
       "    </tr>\n",
       "    <tr>\n",
       "      <th>1</th>\n",
       "      <td>1</td>\n",
       "      <td>2020-09-01 17:35:36</td>\n",
       "      <td>8873113</td>\n",
       "      <td>0.0</td>\n",
       "      <td>267307</td>\n",
       "      <td>52</td>\n",
       "      <td>271</td>\n",
       "      <td>1.0</td>\n",
       "      <td>108.00</td>\n",
       "      <td>0</td>\n",
       "      <td>10004</td>\n",
       "    </tr>\n",
       "    <tr>\n",
       "      <th>2</th>\n",
       "      <td>2</td>\n",
       "      <td>2020-09-01 19:19:21</td>\n",
       "      <td>12712899</td>\n",
       "      <td>0.0</td>\n",
       "      <td>610220</td>\n",
       "      <td>52</td>\n",
       "      <td>271</td>\n",
       "      <td>1.0</td>\n",
       "      <td>107.95</td>\n",
       "      <td>0</td>\n",
       "      <td>10004</td>\n",
       "    </tr>\n",
       "    <tr>\n",
       "      <th>3</th>\n",
       "      <td>3</td>\n",
       "      <td>2020-09-01 21:53:34</td>\n",
       "      <td>21535283</td>\n",
       "      <td>0.0</td>\n",
       "      <td>441497</td>\n",
       "      <td>52</td>\n",
       "      <td>271</td>\n",
       "      <td>1.0</td>\n",
       "      <td>108.00</td>\n",
       "      <td>0</td>\n",
       "      <td>10004</td>\n",
       "    </tr>\n",
       "    <tr>\n",
       "      <th>4</th>\n",
       "      <td>4</td>\n",
       "      <td>2020-09-01 18:42:31</td>\n",
       "      <td>642341</td>\n",
       "      <td>0.0</td>\n",
       "      <td>1065358</td>\n",
       "      <td>61</td>\n",
       "      <td>97</td>\n",
       "      <td>2.0</td>\n",
       "      <td>88.00</td>\n",
       "      <td>0</td>\n",
       "      <td>10091</td>\n",
       "    </tr>\n",
       "    <tr>\n",
       "      <th>5</th>\n",
       "      <td>5</td>\n",
       "      <td>2020-09-01 12:47:31</td>\n",
       "      <td>1019873</td>\n",
       "      <td>0.0</td>\n",
       "      <td>375644</td>\n",
       "      <td>61</td>\n",
       "      <td>271</td>\n",
       "      <td>4.0</td>\n",
       "      <td>224.00</td>\n",
       "      <td>0</td>\n",
       "      <td>10091</td>\n",
       "    </tr>\n",
       "    <tr>\n",
       "      <th>6</th>\n",
       "      <td>6</td>\n",
       "      <td>2020-09-01 19:50:31</td>\n",
       "      <td>2487942</td>\n",
       "      <td>0.0</td>\n",
       "      <td>736538</td>\n",
       "      <td>61</td>\n",
       "      <td>97</td>\n",
       "      <td>1.0</td>\n",
       "      <td>56.00</td>\n",
       "      <td>0</td>\n",
       "      <td>10091</td>\n",
       "    </tr>\n",
       "    <tr>\n",
       "      <th>7</th>\n",
       "      <td>7</td>\n",
       "      <td>2020-09-01 18:40:04</td>\n",
       "      <td>8895052</td>\n",
       "      <td>0.0</td>\n",
       "      <td>142160</td>\n",
       "      <td>61</td>\n",
       "      <td>271</td>\n",
       "      <td>1.0</td>\n",
       "      <td>56.00</td>\n",
       "      <td>0</td>\n",
       "      <td>10091</td>\n",
       "    </tr>\n",
       "    <tr>\n",
       "      <th>8</th>\n",
       "      <td>8</td>\n",
       "      <td>2020-09-01 20:26:48</td>\n",
       "      <td>13354606</td>\n",
       "      <td>0.0</td>\n",
       "      <td>1408467</td>\n",
       "      <td>61</td>\n",
       "      <td>379</td>\n",
       "      <td>1.0</td>\n",
       "      <td>44.00</td>\n",
       "      <td>0</td>\n",
       "      <td>10091</td>\n",
       "    </tr>\n",
       "    <tr>\n",
       "      <th>9</th>\n",
       "      <td>9</td>\n",
       "      <td>2020-09-01 14:46:19</td>\n",
       "      <td>15422798</td>\n",
       "      <td>0.0</td>\n",
       "      <td>641525</td>\n",
       "      <td>61</td>\n",
       "      <td>97</td>\n",
       "      <td>1.0</td>\n",
       "      <td>56.00</td>\n",
       "      <td>0</td>\n",
       "      <td>10091</td>\n",
       "    </tr>\n",
       "  </tbody>\n",
       "</table>\n",
       "</div>"
      ],
      "text/plain": [
       "   Unnamed: 0                 date    id_doc  id_order  id_card  id_tov  \\\n",
       "0           0  2020-09-01 17:01:25   1283228       0.0  1538855      52   \n",
       "1           1  2020-09-01 17:35:36   8873113       0.0   267307      52   \n",
       "2           2  2020-09-01 19:19:21  12712899       0.0   610220      52   \n",
       "3           3  2020-09-01 21:53:34  21535283       0.0   441497      52   \n",
       "4           4  2020-09-01 18:42:31    642341       0.0  1065358      61   \n",
       "5           5  2020-09-01 12:47:31   1019873       0.0   375644      61   \n",
       "6           6  2020-09-01 19:50:31   2487942       0.0   736538      61   \n",
       "7           7  2020-09-01 18:40:04   8895052       0.0   142160      61   \n",
       "8           8  2020-09-01 20:26:48  13354606       0.0  1408467      61   \n",
       "9           9  2020-09-01 14:46:19  15422798       0.0   641525      61   \n",
       "\n",
       "   id_kontr  quantity     sum  is_green  id_group  \n",
       "0       271       1.0  108.00         0     10004  \n",
       "1       271       1.0  108.00         0     10004  \n",
       "2       271       1.0  107.95         0     10004  \n",
       "3       271       1.0  108.00         0     10004  \n",
       "4        97       2.0   88.00         0     10091  \n",
       "5       271       4.0  224.00         0     10091  \n",
       "6        97       1.0   56.00         0     10091  \n",
       "7       271       1.0   56.00         0     10091  \n",
       "8       379       1.0   44.00         0     10091  \n",
       "9        97       1.0   56.00         0     10091  "
      ]
     },
     "execution_count": 4,
     "metadata": {},
     "output_type": "execute_result"
    }
   ],
   "source": [
    "# We will work with september data\n",
    "df = pd.read_csv(clean_data_files[0])\n",
    "df.head(10)"
   ]
  },
  {
   "cell_type": "code",
   "execution_count": 5,
   "id": "excessive-airplane",
   "metadata": {},
   "outputs": [],
   "source": [
    "df = df[['id_card', 'id_group', 'id_doc']]"
   ]
  },
  {
   "cell_type": "code",
   "execution_count": 9,
   "id": "architectural-review",
   "metadata": {},
   "outputs": [],
   "source": [
    "groups = df.groupby(['id_group', 'id_card']).agg({'id_doc':'count'})\n",
    "groups = groups.reset_index()"
   ]
  },
  {
   "cell_type": "markdown",
   "id": "adjustable-french",
   "metadata": {},
   "source": [
    "Here we can see the frequencies of orders containing specific groups of groducts for each customer. Therefore, we can find people who frequently buy specific group."
   ]
  },
  {
   "cell_type": "markdown",
   "id": "registered-pointer",
   "metadata": {},
   "source": [
    "Example: for group 10004"
   ]
  },
  {
   "cell_type": "code",
   "execution_count": 13,
   "id": "assigned-nightlife",
   "metadata": {},
   "outputs": [
    {
     "data": {
      "text/plain": [
       "<AxesSubplot:ylabel='Frequency'>"
      ]
     },
     "execution_count": 13,
     "metadata": {},
     "output_type": "execute_result"
    },
    {
     "data": {
      "image/png": "[encoded data removed]",
      "text/plain": [
       "<Figure size 432x288 with 1 Axes>"
      ]
     },
     "metadata": {
      "needs_background": "light"
     },
     "output_type": "display_data"
    }
   ],
   "source": [
    "groups[groups['id_group'] == 10004]['id_doc'].plot.hist(bins=20)"
   ]
  },
  {
   "cell_type": "code",
   "execution_count": 14,
   "id": "conventional-fountain",
   "metadata": {},
   "outputs": [
    {
     "data": {
      "text/html": [
       "<div>\n",
       "<style scoped>\n",
       "    .dataframe tbody tr th:only-of-type {\n",
       "        vertical-align: middle;\n",
       "    }\n",
       "\n",
       "    .dataframe tbody tr th {\n",
       "        vertical-align: top;\n",
       "    }\n",
       "\n",
       "    .dataframe thead th {\n",
       "        text-align: right;\n",
       "    }\n",
       "</style>\n",
       "<table border=\"1\" class=\"dataframe\">\n",
       "  <thead>\n",
       "    <tr style=\"text-align: right;\">\n",
       "      <th></th>\n",
       "      <th>id_group</th>\n",
       "      <th>id_card</th>\n",
       "      <th>id_doc</th>\n",
       "    </tr>\n",
       "  </thead>\n",
       "  <tbody>\n",
       "    <tr>\n",
       "      <th>630926</th>\n",
       "      <td>10004</td>\n",
       "      <td>135</td>\n",
       "      <td>21</td>\n",
       "    </tr>\n",
       "    <tr>\n",
       "      <th>631074</th>\n",
       "      <td>10004</td>\n",
       "      <td>637</td>\n",
       "      <td>27</td>\n",
       "    </tr>\n",
       "    <tr>\n",
       "      <th>631091</th>\n",
       "      <td>10004</td>\n",
       "      <td>673</td>\n",
       "      <td>29</td>\n",
       "    </tr>\n",
       "    <tr>\n",
       "      <th>631110</th>\n",
       "      <td>10004</td>\n",
       "      <td>715</td>\n",
       "      <td>24</td>\n",
       "    </tr>\n",
       "    <tr>\n",
       "      <th>632113</th>\n",
       "      <td>10004</td>\n",
       "      <td>3180</td>\n",
       "      <td>21</td>\n",
       "    </tr>\n",
       "    <tr>\n",
       "      <th>...</th>\n",
       "      <td>...</td>\n",
       "      <td>...</td>\n",
       "      <td>...</td>\n",
       "    </tr>\n",
       "    <tr>\n",
       "      <th>1139119</th>\n",
       "      <td>10004</td>\n",
       "      <td>1901200</td>\n",
       "      <td>26</td>\n",
       "    </tr>\n",
       "    <tr>\n",
       "      <th>1139975</th>\n",
       "      <td>10004</td>\n",
       "      <td>1905775</td>\n",
       "      <td>21</td>\n",
       "    </tr>\n",
       "    <tr>\n",
       "      <th>1141060</th>\n",
       "      <td>10004</td>\n",
       "      <td>1911237</td>\n",
       "      <td>22</td>\n",
       "    </tr>\n",
       "    <tr>\n",
       "      <th>1141555</th>\n",
       "      <td>10004</td>\n",
       "      <td>1913934</td>\n",
       "      <td>23</td>\n",
       "    </tr>\n",
       "    <tr>\n",
       "      <th>1142997</th>\n",
       "      <td>10004</td>\n",
       "      <td>1923618</td>\n",
       "      <td>44</td>\n",
       "    </tr>\n",
       "  </tbody>\n",
       "</table>\n",
       "<p>1214 rows × 3 columns</p>\n",
       "</div>"
      ],
      "text/plain": [
       "         id_group  id_card  id_doc\n",
       "630926      10004      135      21\n",
       "631074      10004      637      27\n",
       "631091      10004      673      29\n",
       "631110      10004      715      24\n",
       "632113      10004     3180      21\n",
       "...           ...      ...     ...\n",
       "1139119     10004  1901200      26\n",
       "1139975     10004  1905775      21\n",
       "1141060     10004  1911237      22\n",
       "1141555     10004  1913934      23\n",
       "1142997     10004  1923618      44\n",
       "\n",
       "[1214 rows x 3 columns]"
      ]
     },
     "execution_count": 14,
     "metadata": {},
     "output_type": "execute_result"
    }
   ],
   "source": [
    "groups[(groups['id_group'] == 10004) & (groups['id_doc'] > 20)]"
   ]
  },
  {
   "cell_type": "markdown",
   "id": "numerous-documentation",
   "metadata": {},
   "source": [
    "**This is the way to find customers that frequently buys sertain group of products**"
   ]
  },
  {
   "cell_type": "code",
   "execution_count": null,
   "id": "monthly-portfolio",
   "metadata": {},
   "outputs": [],
   "source": []
  }
 ],
 "metadata": {
  "kernelspec": {
   "display_name": "Python 3",
   "language": "python",
   "name": "python3"
  },
  "language_info": {
   "codemirror_mode": {
    "name": "ipython",
    "version": 3
   },
   "file_extension": ".py",
   "mimetype": "text/x-python",
   "name": "python",
   "nbconvert_exporter": "python",
   "pygments_lexer": "ipython3",
   "version": "3.8.5"
  }
 },
 "nbformat": 4,
 "nbformat_minor": 5
}
