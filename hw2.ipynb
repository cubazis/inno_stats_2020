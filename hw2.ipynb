{
  "nbformat": 4,
  "nbformat_minor": 0,
  "metadata": {
    "kernelspec": {
      "display_name": "local-venv",
      "language": "python",
      "name": "local-venv"
    },
    "language_info": {
      "codemirror_mode": {
        "name": "ipython",
        "version": 3
      },
      "file_extension": ".py",
      "mimetype": "text/x-python",
      "name": "python",
      "nbconvert_exporter": "python",
      "pygments_lexer": "ipython3",
      "version": "3.8.5"
    },
    "colab": {
      "name": "hw2.ipynb",
      "provenance": [],
      "collapsed_sections": [],
      "toc_visible": true,
      "machine_shape": "hm"
    }
  },
  "cells": [
    {
      "cell_type": "markdown",
      "metadata": {
        "id": "u4zYL1Tv_6tF"
      },
      "source": [
        "# HW2\n",
        "\n",
        "Data https://drive.google.com/file/d/13Qm6ztAmVyBHvo_mch6gk-2VYKUHeRuu/view?usp=sharing\n",
        "\n",
        "Cards outliers https://docs.google.com/spreadsheets/d/1SIf2vawr2VWwme_6v_VZyHivJ502bWFN70SQLf-iBkM/edit?usp=sharing\n",
        "\n",
        "\n",
        "##Task\n",
        "\n",
        "- Prove that buying discounted products depends on the average order sum. (It is more probable that the discounted product will be bought if a bunch of money is going to spend)\n",
        "- Prove that the frequency of shopping grows around the wage taking days (1-6 days of each month, 20 -26 days of each month)\n",
        "- Define such cohort existence:\n",
        "    - Frequent buyers - The users that are shopping frequently(daily, weekly, monthly) \n",
        "    - Average purchase sum - The customers that usually spend the same amount of money \n",
        "    - Usual cart - The customers grouped by the product groups\n",
        "\n",
        "Create a pull request by using a format hw2;lastname;firstname\n",
        "\n",
        "## Data\n",
        "The raw dataset consists of 9 different columns\n",
        "\n",
        "- date - is the timestamp when the purchase was done\n",
        "\n",
        "- id_doc - receipt's id\n",
        "\n",
        "- id_order - is the order's id. Order's id is equal to 0 when the purchase was done offline, otherwise online.\n",
        "\n",
        "- id_card - is the unique id of customer.\n",
        "\n",
        "- id_tov - is the unique id of product's id\n",
        "\n",
        "- id_kontr - distributor's id\n",
        "\n",
        "- quantity - the amount of the same product in receipt which was purchased\n",
        "\n",
        "- sum - price of the product\n",
        "\n",
        "- is_green - shows that product is under discount or not"
      ]
    },
    {
      "cell_type": "code",
      "metadata": {
        "id": "Tz61pIPV_5zO"
      },
      "source": [
        "from pathlib import Path\n",
        "import pandas as pd\n",
        "import gc\n",
        "from sklearn.preprocessing import LabelEncoder\n",
        "import pickle\n",
        "import bz2"
      ],
      "execution_count": 1,
      "outputs": []
    },
    {
      "cell_type": "code",
      "metadata": {
        "colab": {
          "base_uri": "https://localhost:8080/"
        },
        "id": "je3ZOOiQALKn",
        "outputId": "a45e607d-b122-4d84-a4ec-e89f2929086e"
      },
      "source": [
        "# downloading inno_stats.zip\n",
        "!gdown --id 13Qm6ztAmVyBHvo_mch6gk-2VYKUHeRuu"
      ],
      "execution_count": 2,
      "outputs": [
        {
          "output_type": "stream",
          "text": [
            "Downloading...\n",
            "From: https://drive.google.com/uc?id=13Qm6ztAmVyBHvo_mch6gk-2VYKUHeRuu\n",
            "To: /content/inno_stats.tar.gz\n",
            "1.91GB [00:16, 116MB/s]\n"
          ],
          "name": "stdout"
        }
      ]
    },
    {
      "cell_type": "markdown",
      "metadata": {
        "id": "IBN7N1LA_5zb"
      },
      "source": [
        "Download https://drive.google.com/drive/folders/1BZFez3OFs7QMzeDUz-8E0SgnRy227pnG"
      ]
    },
    {
      "cell_type": "markdown",
      "metadata": {
        "id": "lCUFFmNQ_5zc"
      },
      "source": [
        "Unzip"
      ]
    },
    {
      "cell_type": "markdown",
      "metadata": {
        "id": "ImiKaSLZ_5zd"
      },
      "source": [
        "!mkdir data\n",
        "\n",
        "!tar -xf inno_stats.tar.gz -C ./data"
      ]
    },
    {
      "cell_type": "code",
      "metadata": {
        "id": "NM9-a-7MAmOA"
      },
      "source": [
        "!mkdir data\n",
        "!tar -xf inno_stats.tar.gz -C ./data"
      ],
      "execution_count": 3,
      "outputs": []
    },
    {
      "cell_type": "code",
      "metadata": {
        "colab": {
          "base_uri": "https://localhost:8080/"
        },
        "id": "_a755YOc_5ze",
        "outputId": "6ac79cb7-bddf-4556-af0a-855ec5cb1c96"
      },
      "source": [
        "data_path = Path('./data/').resolve()\n",
        "!ls {data_path}"
      ],
      "execution_count": 2,
      "outputs": [
        {
          "output_type": "stream",
          "text": [
            "09_groups.csv  10_groups.csv  11_groups.csv  product_groups.csv\n"
          ],
          "name": "stdout"
        }
      ]
    },
    {
      "cell_type": "code",
      "metadata": {
        "colab": {
          "base_uri": "https://localhost:8080/",
          "height": 204
        },
        "id": "LUNlMO2w_5zg",
        "outputId": "83c9c4fc-f1f3-4b05-91e6-29b8f1ce2b3c"
      },
      "source": [
        "g_9 = pd.read_csv('./data/09_groups.csv')\n",
        "g_9.head()"
      ],
      "execution_count": 2,
      "outputs": [
        {
          "output_type": "execute_result",
          "data": {
            "text/html": [
              "<div>\n",
              "<style scoped>\n",
              "    .dataframe tbody tr th:only-of-type {\n",
              "        vertical-align: middle;\n",
              "    }\n",
              "\n",
              "    .dataframe tbody tr th {\n",
              "        vertical-align: top;\n",
              "    }\n",
              "\n",
              "    .dataframe thead th {\n",
              "        text-align: right;\n",
              "    }\n",
              "</style>\n",
              "<table border=\"1\" class=\"dataframe\">\n",
              "  <thead>\n",
              "    <tr style=\"text-align: right;\">\n",
              "      <th></th>\n",
              "      <th>date</th>\n",
              "      <th>id_doc</th>\n",
              "      <th>id_order</th>\n",
              "      <th>id_card</th>\n",
              "      <th>id_tov</th>\n",
              "      <th>id_kontr</th>\n",
              "      <th>quantity</th>\n",
              "      <th>sum</th>\n",
              "      <th>is_green</th>\n",
              "      <th>id_group</th>\n",
              "    </tr>\n",
              "  </thead>\n",
              "  <tbody>\n",
              "    <tr>\n",
              "      <th>0</th>\n",
              "      <td>2020-09-01 17:01:25</td>\n",
              "      <td>1283228</td>\n",
              "      <td>0.0</td>\n",
              "      <td>1538855</td>\n",
              "      <td>52</td>\n",
              "      <td>271</td>\n",
              "      <td>1.0</td>\n",
              "      <td>108.00</td>\n",
              "      <td>0</td>\n",
              "      <td>10004</td>\n",
              "    </tr>\n",
              "    <tr>\n",
              "      <th>1</th>\n",
              "      <td>2020-09-01 17:35:36</td>\n",
              "      <td>8873113</td>\n",
              "      <td>0.0</td>\n",
              "      <td>267307</td>\n",
              "      <td>52</td>\n",
              "      <td>271</td>\n",
              "      <td>1.0</td>\n",
              "      <td>108.00</td>\n",
              "      <td>0</td>\n",
              "      <td>10004</td>\n",
              "    </tr>\n",
              "    <tr>\n",
              "      <th>2</th>\n",
              "      <td>2020-09-01 19:19:21</td>\n",
              "      <td>12712899</td>\n",
              "      <td>0.0</td>\n",
              "      <td>610220</td>\n",
              "      <td>52</td>\n",
              "      <td>271</td>\n",
              "      <td>1.0</td>\n",
              "      <td>107.95</td>\n",
              "      <td>0</td>\n",
              "      <td>10004</td>\n",
              "    </tr>\n",
              "    <tr>\n",
              "      <th>3</th>\n",
              "      <td>2020-09-01 21:53:34</td>\n",
              "      <td>21535283</td>\n",
              "      <td>0.0</td>\n",
              "      <td>441497</td>\n",
              "      <td>52</td>\n",
              "      <td>271</td>\n",
              "      <td>1.0</td>\n",
              "      <td>108.00</td>\n",
              "      <td>0</td>\n",
              "      <td>10004</td>\n",
              "    </tr>\n",
              "    <tr>\n",
              "      <th>4</th>\n",
              "      <td>2020-09-01 18:42:31</td>\n",
              "      <td>642341</td>\n",
              "      <td>0.0</td>\n",
              "      <td>1065358</td>\n",
              "      <td>61</td>\n",
              "      <td>97</td>\n",
              "      <td>2.0</td>\n",
              "      <td>88.00</td>\n",
              "      <td>0</td>\n",
              "      <td>10091</td>\n",
              "    </tr>\n",
              "  </tbody>\n",
              "</table>\n",
              "</div>"
            ],
            "text/plain": [
              "                  date    id_doc  id_order  ...     sum  is_green  id_group\n",
              "0  2020-09-01 17:01:25   1283228       0.0  ...  108.00         0     10004\n",
              "1  2020-09-01 17:35:36   8873113       0.0  ...  108.00         0     10004\n",
              "2  2020-09-01 19:19:21  12712899       0.0  ...  107.95         0     10004\n",
              "3  2020-09-01 21:53:34  21535283       0.0  ...  108.00         0     10004\n",
              "4  2020-09-01 18:42:31    642341       0.0  ...   88.00         0     10091\n",
              "\n",
              "[5 rows x 10 columns]"
            ]
          },
          "metadata": {
            "tags": []
          },
          "execution_count": 2
        }
      ]
    },
    {
      "cell_type": "code",
      "metadata": {
        "colab": {
          "base_uri": "https://localhost:8080/",
          "height": 204
        },
        "id": "Uv9JjOnR_5zg",
        "outputId": "5aa5b1a8-b0f8-4f68-a3c1-6e2872a28262"
      },
      "source": [
        "g_10 = pd.read_csv('./data/10_groups.csv')\n",
        "g_10.head()"
      ],
      "execution_count": 4,
      "outputs": [
        {
          "output_type": "execute_result",
          "data": {
            "text/html": [
              "<div>\n",
              "<style scoped>\n",
              "    .dataframe tbody tr th:only-of-type {\n",
              "        vertical-align: middle;\n",
              "    }\n",
              "\n",
              "    .dataframe tbody tr th {\n",
              "        vertical-align: top;\n",
              "    }\n",
              "\n",
              "    .dataframe thead th {\n",
              "        text-align: right;\n",
              "    }\n",
              "</style>\n",
              "<table border=\"1\" class=\"dataframe\">\n",
              "  <thead>\n",
              "    <tr style=\"text-align: right;\">\n",
              "      <th></th>\n",
              "      <th>date</th>\n",
              "      <th>id_doc</th>\n",
              "      <th>id_order</th>\n",
              "      <th>id_card</th>\n",
              "      <th>id_tov</th>\n",
              "      <th>id_kontr</th>\n",
              "      <th>quantity</th>\n",
              "      <th>sum</th>\n",
              "      <th>is_green</th>\n",
              "      <th>id_group</th>\n",
              "    </tr>\n",
              "  </thead>\n",
              "  <tbody>\n",
              "    <tr>\n",
              "      <th>0</th>\n",
              "      <td>2020-10-01 20:22:55</td>\n",
              "      <td>2035558</td>\n",
              "      <td>0.0</td>\n",
              "      <td>1636749</td>\n",
              "      <td>52</td>\n",
              "      <td>339</td>\n",
              "      <td>1.0</td>\n",
              "      <td>107.90</td>\n",
              "      <td>0</td>\n",
              "      <td>10004</td>\n",
              "    </tr>\n",
              "    <tr>\n",
              "      <th>1</th>\n",
              "      <td>2020-10-01 20:54:12</td>\n",
              "      <td>13037327</td>\n",
              "      <td>0.0</td>\n",
              "      <td>267261</td>\n",
              "      <td>52</td>\n",
              "      <td>339</td>\n",
              "      <td>1.0</td>\n",
              "      <td>80.04</td>\n",
              "      <td>0</td>\n",
              "      <td>10004</td>\n",
              "    </tr>\n",
              "    <tr>\n",
              "      <th>2</th>\n",
              "      <td>2020-10-01 21:25:59</td>\n",
              "      <td>1430590</td>\n",
              "      <td>0.0</td>\n",
              "      <td>1331395</td>\n",
              "      <td>61</td>\n",
              "      <td>379</td>\n",
              "      <td>1.0</td>\n",
              "      <td>31.92</td>\n",
              "      <td>1</td>\n",
              "      <td>10091</td>\n",
              "    </tr>\n",
              "    <tr>\n",
              "      <th>3</th>\n",
              "      <td>2020-10-01 13:31:01</td>\n",
              "      <td>3504660</td>\n",
              "      <td>0.0</td>\n",
              "      <td>641525</td>\n",
              "      <td>61</td>\n",
              "      <td>97</td>\n",
              "      <td>1.0</td>\n",
              "      <td>55.98</td>\n",
              "      <td>0</td>\n",
              "      <td>10091</td>\n",
              "    </tr>\n",
              "    <tr>\n",
              "      <th>4</th>\n",
              "      <td>2020-10-01 16:32:06</td>\n",
              "      <td>11024438</td>\n",
              "      <td>0.0</td>\n",
              "      <td>1325852</td>\n",
              "      <td>61</td>\n",
              "      <td>97</td>\n",
              "      <td>4.0</td>\n",
              "      <td>176.00</td>\n",
              "      <td>0</td>\n",
              "      <td>10091</td>\n",
              "    </tr>\n",
              "  </tbody>\n",
              "</table>\n",
              "</div>"
            ],
            "text/plain": [
              "                  date    id_doc  id_order  ...     sum  is_green  id_group\n",
              "0  2020-10-01 20:22:55   2035558       0.0  ...  107.90         0     10004\n",
              "1  2020-10-01 20:54:12  13037327       0.0  ...   80.04         0     10004\n",
              "2  2020-10-01 21:25:59   1430590       0.0  ...   31.92         1     10091\n",
              "3  2020-10-01 13:31:01   3504660       0.0  ...   55.98         0     10091\n",
              "4  2020-10-01 16:32:06  11024438       0.0  ...  176.00         0     10091\n",
              "\n",
              "[5 rows x 10 columns]"
            ]
          },
          "metadata": {
            "tags": []
          },
          "execution_count": 4
        }
      ]
    },
    {
      "cell_type": "code",
      "metadata": {
        "colab": {
          "base_uri": "https://localhost:8080/",
          "height": 204
        },
        "id": "bPJTDO-1_5zh",
        "outputId": "bbb4d135-61a4-447d-ee75-34ef5959f970"
      },
      "source": [
        "g_11 = pd.read_csv('./data/11_groups.csv')\n",
        "g_11.head()"
      ],
      "execution_count": 5,
      "outputs": [
        {
          "output_type": "execute_result",
          "data": {
            "text/html": [
              "<div>\n",
              "<style scoped>\n",
              "    .dataframe tbody tr th:only-of-type {\n",
              "        vertical-align: middle;\n",
              "    }\n",
              "\n",
              "    .dataframe tbody tr th {\n",
              "        vertical-align: top;\n",
              "    }\n",
              "\n",
              "    .dataframe thead th {\n",
              "        text-align: right;\n",
              "    }\n",
              "</style>\n",
              "<table border=\"1\" class=\"dataframe\">\n",
              "  <thead>\n",
              "    <tr style=\"text-align: right;\">\n",
              "      <th></th>\n",
              "      <th>date</th>\n",
              "      <th>id_doc</th>\n",
              "      <th>id_order</th>\n",
              "      <th>id_card</th>\n",
              "      <th>id_tov</th>\n",
              "      <th>id_kontr</th>\n",
              "      <th>quantity</th>\n",
              "      <th>sum</th>\n",
              "      <th>is_green</th>\n",
              "      <th>id_group</th>\n",
              "    </tr>\n",
              "  </thead>\n",
              "  <tbody>\n",
              "    <tr>\n",
              "      <th>0</th>\n",
              "      <td>2020-11-01 15:29:01</td>\n",
              "      <td>3121751</td>\n",
              "      <td>0.0</td>\n",
              "      <td>332351</td>\n",
              "      <td>52</td>\n",
              "      <td>271</td>\n",
              "      <td>1.0</td>\n",
              "      <td>107.98</td>\n",
              "      <td>0</td>\n",
              "      <td>10004</td>\n",
              "    </tr>\n",
              "    <tr>\n",
              "      <th>1</th>\n",
              "      <td>2020-11-01 12:41:10</td>\n",
              "      <td>22047017</td>\n",
              "      <td>8293317.0</td>\n",
              "      <td>1875438</td>\n",
              "      <td>52</td>\n",
              "      <td>-9999</td>\n",
              "      <td>1.0</td>\n",
              "      <td>108.00</td>\n",
              "      <td>0</td>\n",
              "      <td>10004</td>\n",
              "    </tr>\n",
              "    <tr>\n",
              "      <th>2</th>\n",
              "      <td>2020-11-01 13:17:09</td>\n",
              "      <td>6419825</td>\n",
              "      <td>0.0</td>\n",
              "      <td>563112</td>\n",
              "      <td>61</td>\n",
              "      <td>379</td>\n",
              "      <td>2.0</td>\n",
              "      <td>112.00</td>\n",
              "      <td>0</td>\n",
              "      <td>10091</td>\n",
              "    </tr>\n",
              "    <tr>\n",
              "      <th>3</th>\n",
              "      <td>2020-11-01 12:31:31</td>\n",
              "      <td>10284541</td>\n",
              "      <td>0.0</td>\n",
              "      <td>1841710</td>\n",
              "      <td>61</td>\n",
              "      <td>379</td>\n",
              "      <td>1.0</td>\n",
              "      <td>55.91</td>\n",
              "      <td>0</td>\n",
              "      <td>10091</td>\n",
              "    </tr>\n",
              "    <tr>\n",
              "      <th>4</th>\n",
              "      <td>2020-11-01 13:06:15</td>\n",
              "      <td>10424967</td>\n",
              "      <td>0.0</td>\n",
              "      <td>1304277</td>\n",
              "      <td>61</td>\n",
              "      <td>271</td>\n",
              "      <td>2.0</td>\n",
              "      <td>87.80</td>\n",
              "      <td>0</td>\n",
              "      <td>10091</td>\n",
              "    </tr>\n",
              "  </tbody>\n",
              "</table>\n",
              "</div>"
            ],
            "text/plain": [
              "                  date    id_doc   id_order  ...     sum  is_green  id_group\n",
              "0  2020-11-01 15:29:01   3121751        0.0  ...  107.98         0     10004\n",
              "1  2020-11-01 12:41:10  22047017  8293317.0  ...  108.00         0     10004\n",
              "2  2020-11-01 13:17:09   6419825        0.0  ...  112.00         0     10091\n",
              "3  2020-11-01 12:31:31  10284541        0.0  ...   55.91         0     10091\n",
              "4  2020-11-01 13:06:15  10424967        0.0  ...   87.80         0     10091\n",
              "\n",
              "[5 rows x 10 columns]"
            ]
          },
          "metadata": {
            "tags": []
          },
          "execution_count": 5
        }
      ]
    },
    {
      "cell_type": "code",
      "metadata": {
        "colab": {
          "base_uri": "https://localhost:8080/",
          "height": 204
        },
        "id": "AF3fMoDo_5zi",
        "outputId": "d74f4e1c-0028-43ad-f3f7-233f3abebd82"
      },
      "source": [
        "p_g = pd.read_csv('./data/product_groups.csv', delimiter=';', encoding='windows-1251')\n",
        "p_g.head()"
      ],
      "execution_count": 30,
      "outputs": [
        {
          "output_type": "execute_result",
          "data": {
            "text/html": [
              "<div>\n",
              "<style scoped>\n",
              "    .dataframe tbody tr th:only-of-type {\n",
              "        vertical-align: middle;\n",
              "    }\n",
              "\n",
              "    .dataframe tbody tr th {\n",
              "        vertical-align: top;\n",
              "    }\n",
              "\n",
              "    .dataframe thead th {\n",
              "        text-align: right;\n",
              "    }\n",
              "</style>\n",
              "<table border=\"1\" class=\"dataframe\">\n",
              "  <thead>\n",
              "    <tr style=\"text-align: right;\">\n",
              "      <th></th>\n",
              "      <th>id_tov</th>\n",
              "      <th>id_group</th>\n",
              "      <th>name_group</th>\n",
              "    </tr>\n",
              "  </thead>\n",
              "  <tbody>\n",
              "    <tr>\n",
              "      <th>0</th>\n",
              "      <td>52</td>\n",
              "      <td>10004</td>\n",
              "      <td>Кисломолочные продукты</td>\n",
              "    </tr>\n",
              "    <tr>\n",
              "      <th>1</th>\n",
              "      <td>75</td>\n",
              "      <td>10004</td>\n",
              "      <td>Кисломолочные продукты</td>\n",
              "    </tr>\n",
              "    <tr>\n",
              "      <th>2</th>\n",
              "      <td>77</td>\n",
              "      <td>10004</td>\n",
              "      <td>Кисломолочные продукты</td>\n",
              "    </tr>\n",
              "    <tr>\n",
              "      <th>3</th>\n",
              "      <td>143</td>\n",
              "      <td>10004</td>\n",
              "      <td>Кисломолочные продукты</td>\n",
              "    </tr>\n",
              "    <tr>\n",
              "      <th>4</th>\n",
              "      <td>151</td>\n",
              "      <td>10004</td>\n",
              "      <td>Кисломолочные продукты</td>\n",
              "    </tr>\n",
              "  </tbody>\n",
              "</table>\n",
              "</div>"
            ],
            "text/plain": [
              "   id_tov  id_group              name_group\n",
              "0      52     10004  Кисломолочные продукты\n",
              "1      75     10004  Кисломолочные продукты\n",
              "2      77     10004  Кисломолочные продукты\n",
              "3     143     10004  Кисломолочные продукты\n",
              "4     151     10004  Кисломолочные продукты"
            ]
          },
          "metadata": {
            "tags": []
          },
          "execution_count": 30
        }
      ]
    },
    {
      "cell_type": "code",
      "metadata": {
        "colab": {
          "base_uri": "https://localhost:8080/",
          "height": 204
        },
        "id": "Vd0exJl1C4qp",
        "outputId": "19752551-990b-42d4-b2ef-a734192d1db5"
      },
      "source": [
        "bad_ids = pd.read_csv('bad_ids.csv')\n",
        "bad_ids.head()"
      ],
      "execution_count": 3,
      "outputs": [
        {
          "output_type": "execute_result",
          "data": {
            "text/html": [
              "<div>\n",
              "<style scoped>\n",
              "    .dataframe tbody tr th:only-of-type {\n",
              "        vertical-align: middle;\n",
              "    }\n",
              "\n",
              "    .dataframe tbody tr th {\n",
              "        vertical-align: top;\n",
              "    }\n",
              "\n",
              "    .dataframe thead th {\n",
              "        text-align: right;\n",
              "    }\n",
              "</style>\n",
              "<table border=\"1\" class=\"dataframe\">\n",
              "  <thead>\n",
              "    <tr style=\"text-align: right;\">\n",
              "      <th></th>\n",
              "      <th>Unnamed: 0</th>\n",
              "      <th>id_card</th>\n",
              "    </tr>\n",
              "  </thead>\n",
              "  <tbody>\n",
              "    <tr>\n",
              "      <th>0</th>\n",
              "      <td>0</td>\n",
              "      <td>806096</td>\n",
              "    </tr>\n",
              "    <tr>\n",
              "      <th>1</th>\n",
              "      <td>1</td>\n",
              "      <td>1438102</td>\n",
              "    </tr>\n",
              "    <tr>\n",
              "      <th>2</th>\n",
              "      <td>2</td>\n",
              "      <td>72344</td>\n",
              "    </tr>\n",
              "    <tr>\n",
              "      <th>3</th>\n",
              "      <td>3</td>\n",
              "      <td>427981</td>\n",
              "    </tr>\n",
              "    <tr>\n",
              "      <th>4</th>\n",
              "      <td>4</td>\n",
              "      <td>1528414</td>\n",
              "    </tr>\n",
              "  </tbody>\n",
              "</table>\n",
              "</div>"
            ],
            "text/plain": [
              "   Unnamed: 0  id_card\n",
              "0           0   806096\n",
              "1           1  1438102\n",
              "2           2    72344\n",
              "3           3   427981\n",
              "4           4  1528414"
            ]
          },
          "metadata": {
            "tags": []
          },
          "execution_count": 3
        }
      ]
    },
    {
      "cell_type": "code",
      "metadata": {
        "colab": {
          "base_uri": "https://localhost:8080/"
        },
        "id": "n1Eq7-wCEZoK",
        "outputId": "c96aa371-3308-42b1-9a85-da68a9b1b324"
      },
      "source": [
        "df = g_9\n",
        "df.info()"
      ],
      "execution_count": 4,
      "outputs": [
        {
          "output_type": "stream",
          "text": [
            "<class 'pandas.core.frame.DataFrame'>\n",
            "RangeIndex: 42100858 entries, 0 to 42100857\n",
            "Data columns (total 10 columns):\n",
            " #   Column    Dtype  \n",
            "---  ------    -----  \n",
            " 0   date      object \n",
            " 1   id_doc    int64  \n",
            " 2   id_order  float64\n",
            " 3   id_card   int64  \n",
            " 4   id_tov    int64  \n",
            " 5   id_kontr  int64  \n",
            " 6   quantity  float64\n",
            " 7   sum       float64\n",
            " 8   is_green  int64  \n",
            " 9   id_group  int64  \n",
            "dtypes: float64(3), int64(6), object(1)\n",
            "memory usage: 3.1+ GB\n"
          ],
          "name": "stdout"
        }
      ]
    },
    {
      "cell_type": "code",
      "metadata": {
        "colab": {
          "base_uri": "https://localhost:8080/"
        },
        "id": "qy3n73ooExUt",
        "outputId": "20f9dbfc-8073-4ff7-de7a-933e1c73ffdd"
      },
      "source": [
        "df = df[~df.id_card.isin(bad_ids.id_card.values)]\n",
        "df.info()"
      ],
      "execution_count": 5,
      "outputs": [
        {
          "output_type": "stream",
          "text": [
            "<class 'pandas.core.frame.DataFrame'>\n",
            "Int64Index: 38466003 entries, 0 to 42100857\n",
            "Data columns (total 10 columns):\n",
            " #   Column    Dtype  \n",
            "---  ------    -----  \n",
            " 0   date      object \n",
            " 1   id_doc    int64  \n",
            " 2   id_order  float64\n",
            " 3   id_card   int64  \n",
            " 4   id_tov    int64  \n",
            " 5   id_kontr  int64  \n",
            " 6   quantity  float64\n",
            " 7   sum       float64\n",
            " 8   is_green  int64  \n",
            " 9   id_group  int64  \n",
            "dtypes: float64(3), int64(6), object(1)\n",
            "memory usage: 3.2+ GB\n"
          ],
          "name": "stdout"
        }
      ]
    },
    {
      "cell_type": "markdown",
      "metadata": {
        "id": "VbiN08ehHoIs"
      },
      "source": [
        "Number of samples decreasef from 42 100 858 to 38 466 003"
      ]
    },
    {
      "cell_type": "markdown",
      "metadata": {
        "id": "nx-NB9QF_5zi"
      },
      "source": [
        "## Task 1\n",
        "\n",
        "Prove that buying discounted products depends on the average order sum. (It is more probable that the discounted product will be bought if bunch of money is going to be spend)"
      ]
    },
    {
      "cell_type": "markdown",
      "metadata": {
        "id": "aIk_ifDIIeLS"
      },
      "source": [
        "Let us propose a null hypothesis, that is actually the opposite of the statement that we need to check (that would allows us to reject H0 and confirm original statement consequently)\n",
        "\n",
        "**H0**: buying discounted products DOES NOT depend on the average order sum\n",
        "\n",
        "**HA**: buying discounted products DOES depend on the average order sum"
      ]
    },
    {
      "cell_type": "code",
      "metadata": {
        "colab": {
          "base_uri": "https://localhost:8080/"
        },
        "id": "04LzIitmK1T3",
        "outputId": "706ee4a8-7fed-47be-a42b-861171aa32c1"
      },
      "source": [
        "from scipy.stats import ttest_ind\n",
        "\n",
        "avg_receipt_sum = df.groupby('id_doc')['sum'].mean()\n",
        "avg_receipt_disc = df.groupby('id_doc')['is_green'].count()\n",
        "\n",
        "ttest_ind(avg_receipt_disc.values, avg_receipt_sum.values)"
      ],
      "execution_count": 19,
      "outputs": [
        {
          "output_type": "execute_result",
          "data": {
            "text/plain": [
              "Ttest_indResult(statistic=-3678.842357621653, pvalue=0.0)"
            ]
          },
          "metadata": {
            "tags": []
          },
          "execution_count": 19
        }
      ]
    },
    {
      "cell_type": "markdown",
      "metadata": {
        "id": "R80EpTF7LfNp"
      },
      "source": [
        "p-values is low, we reject the H0, that is why buying discounted products DOES depend on the average order sum"
      ]
    },
    {
      "cell_type": "markdown",
      "metadata": {
        "id": "dLq-3K7N_5zj"
      },
      "source": [
        "## Task 2\n",
        "Prove that the frequency of shopping grows around the wage taking days."
      ]
    },
    {
      "cell_type": "code",
      "metadata": {
        "colab": {
          "base_uri": "https://localhost:8080/"
        },
        "id": "OSuAl1Nr_5zk",
        "outputId": "62252f35-2ac3-4946-d909-ac605c7d5d97"
      },
      "source": [
        "df.date = pd.to_datetime(df.date, format='%Y-%m-%d %H:%M:%S')\n",
        "\n",
        "recipts_cnt_per_day = df.groupby(df.date.dt.day)['id_doc'].count()"
      ],
      "execution_count": 20,
      "outputs": [
        {
          "output_type": "stream",
          "text": [
            "/usr/local/lib/python3.7/dist-packages/pandas/core/generic.py:5170: SettingWithCopyWarning: \n",
            "A value is trying to be set on a copy of a slice from a DataFrame.\n",
            "Try using .loc[row_indexer,col_indexer] = value instead\n",
            "\n",
            "See the caveats in the documentation: https://pandas.pydata.org/pandas-docs/stable/user_guide/indexing.html#returning-a-view-versus-a-copy\n",
            "  self[name] = value\n"
          ],
          "name": "stderr"
        }
      ]
    },
    {
      "cell_type": "code",
      "metadata": {
        "colab": {
          "base_uri": "https://localhost:8080/",
          "height": 603
        },
        "id": "yHNXBhdjN_Ql",
        "outputId": "0902c0fa-11a8-464c-f1a7-bfffd3d478be"
      },
      "source": [
        "import matplotlib.pyplot as plt\n",
        "\n",
        "plt.figure(figsize=(25, 15))\n",
        "plt.locator_params(axis='x', nbins=31+2)\n",
        "plt.grid()\n",
        "plt.plot(recipts_cnt_per_day)"
      ],
      "execution_count": 21,
      "outputs": [
        {
          "output_type": "execute_result",
          "data": {
            "text/plain": [
              "[<matplotlib.lines.Line2D at 0x7f95876d6450>]"
            ]
          },
          "metadata": {
            "tags": []
          },
          "execution_count": 21
        },
        {
          "output_type": "display_data",
          "data": {
            "image/png": "[encoded data removed]",
            "text/plain": [
              "<Figure size 1800x1080 with 1 Axes>"
            ]
          },
          "metadata": {
            "tags": [],
            "needs_background": "light"
          }
        }
      ]
    },
    {
      "cell_type": "markdown",
      "metadata": {
        "id": "dpvsWCEXQGZr"
      },
      "source": [
        "Let's assume that wage taking days are 1-5 and 20-25. We can see local minimas at 5th, 20th and 26th days. Thay could mean that people buy rarely before getting wage (function is decreasing) and start buying more frequently right after getting days and a few days after (funtion is increasing)."
      ]
    },
    {
      "cell_type": "markdown",
      "metadata": {
        "id": "XKV3-nFm_5zk"
      },
      "source": [
        "## Task 3\n",
        "Define such cohort existance:\n",
        "1. Frequent buyers - The users that are shopping frequently(daily, weekly, monthly) \n",
        "2. Average purchase sum - The customers that usually spend the same amount of money \n",
        "3. Usual cart - The customers grouped by the product groups\n",
        "\n",
        "References\n",
        "- https://towardsdatascience.com/a-step-by-step-introduction-to-cohort-analysis-in-python-a2cbbd8460ea"
      ]
    },
    {
      "cell_type": "markdown",
      "metadata": {
        "id": "eu2VqiniS4wD"
      },
      "source": [
        "### Frequent buyers"
      ]
    },
    {
      "cell_type": "code",
      "metadata": {
        "colab": {
          "base_uri": "https://localhost:8080/",
          "height": 362
        },
        "id": "O2yuwNgo_5zl",
        "outputId": "cdbdf25e-1a1a-483c-ac1b-799968aab6d5"
      },
      "source": [
        "import matplotlib.pyplot as plt\n",
        "\n",
        "cnt_reciepts = df.groupby('id_card')['id_doc'].count()\n",
        "\n",
        "plt.figure(figsize=(8, 5))\n",
        "plt.hist(cnt_reciepts, bins=15)\n",
        "plt.xlabel('Number of customers')\n",
        "plt.ylabel('Number of purchases')"
      ],
      "execution_count": 22,
      "outputs": [
        {
          "output_type": "execute_result",
          "data": {
            "text/plain": [
              "Text(0, 0.5, 'Number of purchases')"
            ]
          },
          "metadata": {
            "tags": []
          },
          "execution_count": 22
        },
        {
          "output_type": "display_data",
          "data": {
            "image/png": "[encoded data removed]",
            "text/plain": [
              "<Figure size 576x360 with 1 Axes>"
            ]
          },
          "metadata": {
            "tags": [],
            "needs_background": "light"
          }
        }
      ]
    },
    {
      "cell_type": "code",
      "metadata": {
        "colab": {
          "base_uri": "https://localhost:8080/",
          "height": 354
        },
        "id": "Jqgh42babs1V",
        "outputId": "b2f51f8f-defc-4ac3-d7e6-06bb70ed1f7f"
      },
      "source": [
        "freq_reciepts = (1 / cnt_reciepts[cnt_reciepts > 0] * 30).round()\n",
        "\n",
        "plt.figure(figsize=(8, 5))\n",
        "plt.hist(freq_reciepts, bins=30)\n",
        "plt.xlabel('Number of days between two purchases (on average)')\n",
        "plt.ylabel('Number of purchases')"
      ],
      "execution_count": 23,
      "outputs": [
        {
          "output_type": "execute_result",
          "data": {
            "text/plain": [
              "Text(0, 0.5, 'Number of purchases')"
            ]
          },
          "metadata": {
            "tags": []
          },
          "execution_count": 23
        },
        {
          "output_type": "display_data",
          "data": {
            "image/png": "[encoded data removed]",
            "text/plain": [
              "<Figure size 576x360 with 1 Axes>"
            ]
          },
          "metadata": {
            "tags": [],
            "needs_background": "light"
          }
        }
      ]
    },
    {
      "cell_type": "markdown",
      "metadata": {
        "id": "vDZb71bnc6nE"
      },
      "source": [
        "As we can see most of the people make purchases every other day (number of days between two purhcases in equal to 2). Some of people buy every week"
      ]
    },
    {
      "cell_type": "markdown",
      "metadata": {
        "id": "Y_QBTApddL8V"
      },
      "source": [
        "### Average purchase sum"
      ]
    },
    {
      "cell_type": "code",
      "metadata": {
        "colab": {
          "base_uri": "https://localhost:8080/"
        },
        "id": "Oa-HO68gdSzT",
        "outputId": "bf90ed0d-2497-4650-83c6-dfe7923c3833"
      },
      "source": [
        "average_purchase_sum = df.groupby('id_card')['sum'].sum()\n",
        "average_purchase_sum.head()"
      ],
      "execution_count": 24,
      "outputs": [
        {
          "output_type": "execute_result",
          "data": {
            "text/plain": [
              "id_card\n",
              "0    3607.20\n",
              "1     147.00\n",
              "2    1485.00\n",
              "3    4393.38\n",
              "4    3905.12\n",
              "Name: sum, dtype: float64"
            ]
          },
          "metadata": {
            "tags": []
          },
          "execution_count": 24
        }
      ]
    },
    {
      "cell_type": "code",
      "metadata": {
        "colab": {
          "base_uri": "https://localhost:8080/",
          "height": 345
        },
        "id": "K0nraUz5t65w",
        "outputId": "7ca10947-79d5-47f1-fb5f-f65ef759db97"
      },
      "source": [
        "import matplotlib.pyplot as plt\n",
        "\n",
        "plt.figure(figsize=(8, 5))\n",
        "plt.ylabel('Number of customers')\n",
        "plt.xlabel('Purchase sum')\n",
        "plt.hist(average_purchase_sum // 100 * 100, bins=30);"
      ],
      "execution_count": 25,
      "outputs": [
        {
          "output_type": "display_data",
          "data": {
            "image/png": "[encoded data removed]",
            "text/plain": [
              "<Figure size 576x360 with 1 Axes>"
            ]
          },
          "metadata": {
            "tags": [],
            "needs_background": "light"
          }
        }
      ]
    },
    {
      "cell_type": "code",
      "metadata": {
        "colab": {
          "base_uri": "https://localhost:8080/",
          "height": 334
        },
        "id": "G1k_UT_gusON",
        "outputId": "c0726b10-a2ff-42bf-a21a-98927d1c0b10"
      },
      "source": [
        "import matplotlib.pyplot as plt\n",
        "\n",
        "plt.figure(figsize=(8, 5))\n",
        "plt.ylabel('Number of customers')\n",
        "plt.xlabel('Purchase sum')\n",
        "plt.hist(average_purchase_sum[average_purchase_sum < 40000] // 100 * 100, bins=30);"
      ],
      "execution_count": 26,
      "outputs": [
        {
          "output_type": "display_data",
          "data": {
            "image/png": "[encoded data removed]",
            "text/plain": [
              "<Figure size 576x360 with 1 Axes>"
            ]
          },
          "metadata": {
            "tags": [],
            "needs_background": "light"
          }
        }
      ]
    },
    {
      "cell_type": "markdown",
      "metadata": {
        "id": "wwfVUs4yvts3"
      },
      "source": [
        "Most of the customers make purchases for less than 1000 rubles"
      ]
    },
    {
      "cell_type": "markdown",
      "metadata": {
        "id": "j9PCpzQqfz7v"
      },
      "source": [
        "### Usual cart"
      ]
    },
    {
      "cell_type": "code",
      "metadata": {
        "colab": {
          "base_uri": "https://localhost:8080/",
          "height": 320
        },
        "id": "IXd9BRRHf1NS",
        "outputId": "09ad689c-8bf7-406e-8ed0-e477a7d63cb9"
      },
      "source": [
        "customers_cnt_per_group = df.groupby('id_group')['id_card'].unique().apply(len)\n",
        "\n",
        "plt.figure(figsize=(8, 5))\n",
        "plt.hist(customers_cnt_per_group.sort_values(ascending=False)[:30], bins=20)\n",
        "plt.ylabel('Groups count')\n",
        "plt.ylabel('Number of customers');"
      ],
      "execution_count": 27,
      "outputs": [
        {
          "output_type": "display_data",
          "data": {
            "image/png": "[encoded data removed]",
            "text/plain": [
              "<Figure size 576x360 with 1 Axes>"
            ]
          },
          "metadata": {
            "tags": [],
            "needs_background": "light"
          }
        }
      ]
    },
    {
      "cell_type": "code",
      "metadata": {
        "colab": {
          "base_uri": "https://localhost:8080/",
          "height": 305
        },
        "id": "CnobmbuPg7Bt",
        "outputId": "ecd1ec06-dae8-48e1-9089-ead860f0df12"
      },
      "source": [
        "customers_cnt_per_group = df.groupby(by=['id_group'])['id_card'].unique().apply(len)\n",
        "customers_cnt_per_group = customers_cnt_per_group.sort_values(ascending=False)\n",
        "customers_cnt_per_group[:20].plot(kind='bar')\n",
        "\n",
        "plt.ylabel('Num of customers');"
      ],
      "execution_count": 29,
      "outputs": [
        {
          "output_type": "display_data",
          "data": {
            "image/png": "[encoded data removed]",
            "text/plain": [
              "<Figure size 432x288 with 1 Axes>"
            ]
          },
          "metadata": {
            "tags": [],
            "needs_background": "light"
          }
        }
      ]
    },
    {
      "cell_type": "code",
      "metadata": {
        "colab": {
          "base_uri": "https://localhost:8080/",
          "height": 411
        },
        "id": "zaBYfhDqwidl",
        "outputId": "a89b586d-f143-44d0-ca61-652d1552bc54"
      },
      "source": [
        "interesting_groups = p_g[p_g.id_group.isin(customers_cnt_per_group[:20].index)]\n",
        "interesting_groups.drop_duplicates('id_group', 'first', inplace=True)\n",
        "interesting_groups['occurence'] = customers_cnt_per_group[:20]\n",
        "interesting_groups.sort_values('occurence', ascending=False)\n",
        "interesting_groups[['id_group', 'name_group', 'occurence']].head()"
      ],
      "execution_count": 71,
      "outputs": [
        {
          "output_type": "stream",
          "text": [
            "/usr/local/lib/python3.7/dist-packages/ipykernel_launcher.py:2: SettingWithCopyWarning: \n",
            "A value is trying to be set on a copy of a slice from a DataFrame\n",
            "\n",
            "See the caveats in the documentation: https://pandas.pydata.org/pandas-docs/stable/user_guide/indexing.html#returning-a-view-versus-a-copy\n",
            "  \n",
            "/usr/local/lib/python3.7/dist-packages/ipykernel_launcher.py:3: SettingWithCopyWarning: \n",
            "A value is trying to be set on a copy of a slice from a DataFrame.\n",
            "Try using .loc[row_indexer,col_indexer] = value instead\n",
            "\n",
            "See the caveats in the documentation: https://pandas.pydata.org/pandas-docs/stable/user_guide/indexing.html#returning-a-view-versus-a-copy\n",
            "  This is separate from the ipykernel package so we can avoid doing imports until\n"
          ],
          "name": "stderr"
        },
        {
          "output_type": "execute_result",
          "data": {
            "text/html": [
              "<div>\n",
              "<style scoped>\n",
              "    .dataframe tbody tr th:only-of-type {\n",
              "        vertical-align: middle;\n",
              "    }\n",
              "\n",
              "    .dataframe tbody tr th {\n",
              "        vertical-align: top;\n",
              "    }\n",
              "\n",
              "    .dataframe thead th {\n",
              "        text-align: right;\n",
              "    }\n",
              "</style>\n",
              "<table border=\"1\" class=\"dataframe\">\n",
              "  <thead>\n",
              "    <tr style=\"text-align: right;\">\n",
              "      <th></th>\n",
              "      <th>id_group</th>\n",
              "      <th>name_group</th>\n",
              "      <th>occurence</th>\n",
              "    </tr>\n",
              "  </thead>\n",
              "  <tbody>\n",
              "    <tr>\n",
              "      <th>0</th>\n",
              "      <td>10004</td>\n",
              "      <td>Кисломолочные продукты</td>\n",
              "      <td>NaN</td>\n",
              "    </tr>\n",
              "    <tr>\n",
              "      <th>43</th>\n",
              "      <td>10005</td>\n",
              "      <td>Творог</td>\n",
              "      <td>NaN</td>\n",
              "    </tr>\n",
              "    <tr>\n",
              "      <th>93</th>\n",
              "      <td>10008</td>\n",
              "      <td>Торты, пирожные, муссы, суфле</td>\n",
              "      <td>NaN</td>\n",
              "    </tr>\n",
              "    <tr>\n",
              "      <th>960</th>\n",
              "      <td>10033</td>\n",
              "      <td>Выпечка, печенье, вафли, пряники</td>\n",
              "      <td>NaN</td>\n",
              "    </tr>\n",
              "    <tr>\n",
              "      <th>1032</th>\n",
              "      <td>10034</td>\n",
              "      <td>Леденцы, мармелад, халва, зефир, восточные сла...</td>\n",
              "      <td>NaN</td>\n",
              "    </tr>\n",
              "  </tbody>\n",
              "</table>\n",
              "</div>"
            ],
            "text/plain": [
              "      id_group                                         name_group  occurence\n",
              "0        10004                             Кисломолочные продукты        NaN\n",
              "43       10005                                             Творог        NaN\n",
              "93       10008                      Торты, пирожные, муссы, суфле        NaN\n",
              "960      10033                   Выпечка, печенье, вафли, пряники        NaN\n",
              "1032     10034  Леденцы, мармелад, халва, зефир, восточные сла...        NaN"
            ]
          },
          "metadata": {
            "tags": []
          },
          "execution_count": 71
        }
      ]
    },
    {
      "cell_type": "markdown",
      "metadata": {
        "id": "RZ0KhuWwwT5V"
      },
      "source": [
        "Most of the clients buy products from group \"Кисломолочные продукты\""
      ]
    }
  ]
}