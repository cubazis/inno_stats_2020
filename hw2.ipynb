{
 "cells": [
  {
   "cell_type": "markdown",
   "id": "65943376",
   "metadata": {},
   "source": [
    "### Download data\n",
    "1) https://drive.google.com/file/d/13Qm6ztAmVyBHvo_mch6gk-2VYKUHeRuu/view?usp=sharing  \n",
    "2) https://docs.google.com/spreadsheets/d/1SIf2vawr2VWwme_6v_VZyHivJ502bWFN70SQLf-iBkM/edit?usp=sharing\n",
    "    save as bad_ids.csv"
   ]
  },
  {
   "cell_type": "code",
   "execution_count": null,
   "id": "01553cfd",
   "metadata": {},
   "outputs": [],
   "source": [
    "!tar -xf inno_stats.tar.gz -C ./data"
   ]
  },
  {
   "cell_type": "markdown",
   "id": "cfe34f34",
   "metadata": {},
   "source": [
    "### Delete bad ids from csvs"
   ]
  },
  {
   "cell_type": "code",
   "execution_count": 29,
   "id": "b8940e4b",
   "metadata": {},
   "outputs": [
    {
     "name": "stdout",
     "output_type": "stream",
     "text": [
      "Requirement already satisfied: pandas in c:\\programdata\\miniconda3\\envs\\statistics_hw2\\lib\\site-packages (1.2.4)\n",
      "Requirement already satisfied: scipy in c:\\programdata\\miniconda3\\envs\\statistics_hw2\\lib\\site-packages (1.6.3)\n",
      "Collecting matplotlib\n",
      "  Using cached matplotlib-3.4.2-cp38-cp38-win_amd64.whl (7.1 MB)\n",
      "Requirement already satisfied: pytz>=2017.3 in c:\\programdata\\miniconda3\\envs\\statistics_hw2\\lib\\site-packages (from pandas) (2021.1)\n",
      "Requirement already satisfied: python-dateutil>=2.7.3 in c:\\programdata\\miniconda3\\envs\\statistics_hw2\\lib\\site-packages (from pandas) (2.8.1)\n",
      "Requirement already satisfied: numpy>=1.16.5 in c:\\programdata\\miniconda3\\envs\\statistics_hw2\\lib\\site-packages (from pandas) (1.20.3)\n",
      "Requirement already satisfied: six>=1.5 in c:\\programdata\\miniconda3\\envs\\statistics_hw2\\lib\\site-packages (from python-dateutil>=2.7.3->pandas) (1.16.0)\n",
      "Collecting kiwisolver>=1.0.1\n",
      "  Using cached kiwisolver-1.3.1-cp38-cp38-win_amd64.whl (51 kB)\n",
      "Collecting pillow>=6.2.0\n",
      "  Using cached Pillow-8.2.0-cp38-cp38-win_amd64.whl (2.2 MB)\n",
      "Collecting cycler>=0.10\n",
      "  Using cached cycler-0.10.0-py2.py3-none-any.whl (6.5 kB)\n",
      "Requirement already satisfied: pyparsing>=2.2.1 in c:\\programdata\\miniconda3\\envs\\statistics_hw2\\lib\\site-packages (from matplotlib) (2.4.7)\n",
      "Installing collected packages: pillow, kiwisolver, cycler, matplotlib\n",
      "Successfully installed cycler-0.10.0 kiwisolver-1.3.1 matplotlib-3.4.2 pillow-8.2.0\n"
     ]
    }
   ],
   "source": [
    "!pip install pandas scipy matplotlib"
   ]
  },
  {
   "cell_type": "code",
   "execution_count": 1,
   "id": "e9581a58",
   "metadata": {},
   "outputs": [],
   "source": [
    "import pandas as pd"
   ]
  },
  {
   "cell_type": "code",
   "execution_count": 2,
   "id": "9b088c1d",
   "metadata": {},
   "outputs": [],
   "source": [
    "def clear_df(groups_df, bad_ids):\n",
    "    is_bad = groups_df['id_card'].isin(bad_ids)\n",
    "    groups_df.drop(groups_df[is_bad].index, inplace=True)"
   ]
  },
  {
   "cell_type": "code",
   "execution_count": 3,
   "id": "fef8060c",
   "metadata": {},
   "outputs": [],
   "source": [
    "bad_ids_df = pd.read_csv('data/bad_ids.csv', index_col=0)\n",
    "bad_ids = bad_ids_df['id_card'].tolist()"
   ]
  },
  {
   "cell_type": "code",
   "execution_count": 5,
   "id": "31f3a3d6",
   "metadata": {},
   "outputs": [],
   "source": [
    "file_names = ['09_groups.csv', '10_groups.csv', '11_groups.csv']\n",
    "\n",
    "for file_ in file_names[1:]:\n",
    "    groups_df = pd.read_csv(f'data/{file_}')\n",
    "    clear_df(groups_df, bad_ids)\n",
    "    groups_df.to_csv(f'data/cleared_{file_}')\n",
    "    del groups_df"
   ]
  },
  {
   "cell_type": "markdown",
   "id": "d4d33cfb",
   "metadata": {},
   "source": [
    "### Read processed data"
   ]
  },
  {
   "cell_type": "code",
   "execution_count": 2,
   "id": "a610c5f6",
   "metadata": {},
   "outputs": [],
   "source": [
    "import pandas as pd"
   ]
  },
  {
   "cell_type": "code",
   "execution_count": 3,
   "id": "b0cb3113",
   "metadata": {},
   "outputs": [
    {
     "name": "stderr",
     "output_type": "stream",
     "text": [
      "C:\\ProgramData\\Miniconda3\\envs\\statistics_hw2\\lib\\site-packages\\numpy\\lib\\arraysetops.py:583: FutureWarning: elementwise comparison failed; returning scalar instead, but in the future will perform elementwise comparison\n",
      "  mask |= (ar1 == a)\n"
     ]
    }
   ],
   "source": [
    "dataset_to_read = 'cleared_' + '09_groups.csv'\n",
    "df = pd.read_csv(f'data/{dataset_to_read}', index_col=0)"
   ]
  },
  {
   "cell_type": "code",
   "execution_count": 4,
   "id": "ca52a13e",
   "metadata": {},
   "outputs": [
    {
     "data": {
      "text/html": [
       "<div>\n",
       "<style scoped>\n",
       "    .dataframe tbody tr th:only-of-type {\n",
       "        vertical-align: middle;\n",
       "    }\n",
       "\n",
       "    .dataframe tbody tr th {\n",
       "        vertical-align: top;\n",
       "    }\n",
       "\n",
       "    .dataframe thead th {\n",
       "        text-align: right;\n",
       "    }\n",
       "</style>\n",
       "<table border=\"1\" class=\"dataframe\">\n",
       "  <thead>\n",
       "    <tr style=\"text-align: right;\">\n",
       "      <th></th>\n",
       "      <th>date</th>\n",
       "      <th>id_doc</th>\n",
       "      <th>id_order</th>\n",
       "      <th>id_card</th>\n",
       "      <th>id_tov</th>\n",
       "      <th>id_kontr</th>\n",
       "      <th>quantity</th>\n",
       "      <th>sum</th>\n",
       "      <th>is_green</th>\n",
       "      <th>id_group</th>\n",
       "    </tr>\n",
       "  </thead>\n",
       "  <tbody>\n",
       "    <tr>\n",
       "      <th>0</th>\n",
       "      <td>2020-09-01 17:01:25</td>\n",
       "      <td>1283228</td>\n",
       "      <td>0.0</td>\n",
       "      <td>1538855</td>\n",
       "      <td>52</td>\n",
       "      <td>271</td>\n",
       "      <td>1.0</td>\n",
       "      <td>108.00</td>\n",
       "      <td>0</td>\n",
       "      <td>10004</td>\n",
       "    </tr>\n",
       "    <tr>\n",
       "      <th>1</th>\n",
       "      <td>2020-09-01 17:35:36</td>\n",
       "      <td>8873113</td>\n",
       "      <td>0.0</td>\n",
       "      <td>267307</td>\n",
       "      <td>52</td>\n",
       "      <td>271</td>\n",
       "      <td>1.0</td>\n",
       "      <td>108.00</td>\n",
       "      <td>0</td>\n",
       "      <td>10004</td>\n",
       "    </tr>\n",
       "    <tr>\n",
       "      <th>2</th>\n",
       "      <td>2020-09-01 19:19:21</td>\n",
       "      <td>12712899</td>\n",
       "      <td>0.0</td>\n",
       "      <td>610220</td>\n",
       "      <td>52</td>\n",
       "      <td>271</td>\n",
       "      <td>1.0</td>\n",
       "      <td>107.95</td>\n",
       "      <td>0</td>\n",
       "      <td>10004</td>\n",
       "    </tr>\n",
       "    <tr>\n",
       "      <th>3</th>\n",
       "      <td>2020-09-01 21:53:34</td>\n",
       "      <td>21535283</td>\n",
       "      <td>0.0</td>\n",
       "      <td>441497</td>\n",
       "      <td>52</td>\n",
       "      <td>271</td>\n",
       "      <td>1.0</td>\n",
       "      <td>108.00</td>\n",
       "      <td>0</td>\n",
       "      <td>10004</td>\n",
       "    </tr>\n",
       "    <tr>\n",
       "      <th>4</th>\n",
       "      <td>2020-09-01 18:42:31</td>\n",
       "      <td>642341</td>\n",
       "      <td>0.0</td>\n",
       "      <td>1065358</td>\n",
       "      <td>61</td>\n",
       "      <td>97</td>\n",
       "      <td>2.0</td>\n",
       "      <td>88.00</td>\n",
       "      <td>0</td>\n",
       "      <td>10091</td>\n",
       "    </tr>\n",
       "  </tbody>\n",
       "</table>\n",
       "</div>"
      ],
      "text/plain": [
       "                  date    id_doc  id_order  id_card  id_tov  id_kontr  \\\n",
       "0  2020-09-01 17:01:25   1283228       0.0  1538855      52       271   \n",
       "1  2020-09-01 17:35:36   8873113       0.0   267307      52       271   \n",
       "2  2020-09-01 19:19:21  12712899       0.0   610220      52       271   \n",
       "3  2020-09-01 21:53:34  21535283       0.0   441497      52       271   \n",
       "4  2020-09-01 18:42:31    642341       0.0  1065358      61        97   \n",
       "\n",
       "   quantity     sum  is_green  id_group  \n",
       "0       1.0  108.00         0     10004  \n",
       "1       1.0  108.00         0     10004  \n",
       "2       1.0  107.95         0     10004  \n",
       "3       1.0  108.00         0     10004  \n",
       "4       2.0   88.00         0     10091  "
      ]
     },
     "execution_count": 4,
     "metadata": {},
     "output_type": "execute_result"
    }
   ],
   "source": [
    "df.head()"
   ]
  },
  {
   "cell_type": "markdown",
   "id": "5c62aec3",
   "metadata": {},
   "source": [
    "## Task 1\n",
    "\n",
    "### Description\n",
    "Prove that buying discounted products depends on the average order sum. (It is more probable that the discounted product will be bought if a bunch of money is going to spend)\n",
    "\n",
    "### Solution\n",
    "Let's state null and alternative hypothesis:  \n",
    "H0: buying discounted products does not depend on the average order sum  \n",
    "H1: buying discounted products depends on the average order sum   \n",
    "We need to reject H0"
   ]
  },
  {
   "cell_type": "code",
   "execution_count": 5,
   "id": "4a52bd82",
   "metadata": {},
   "outputs": [],
   "source": [
    "receipts_data = df.groupby('id_doc')"
   ]
  },
  {
   "cell_type": "code",
   "execution_count": 6,
   "id": "9d86319b",
   "metadata": {},
   "outputs": [],
   "source": [
    "receipts_average = receipts_data['sum'].mean()"
   ]
  },
  {
   "cell_type": "code",
   "execution_count": 7,
   "id": "1134e343",
   "metadata": {},
   "outputs": [],
   "source": [
    "discounts_number = receipts_data['is_green'].sum()"
   ]
  },
  {
   "cell_type": "code",
   "execution_count": 17,
   "id": "a17417a5",
   "metadata": {},
   "outputs": [],
   "source": [
    "averages_with_discounted_products = receipts_average[discounts_number != 0].tolist()\n",
    "averages_without_discounted_products = receipts_average[discounts_number == 0].tolist()"
   ]
  },
  {
   "cell_type": "code",
   "execution_count": 18,
   "id": "468d10bf",
   "metadata": {},
   "outputs": [
    {
     "data": {
      "text/plain": [
       "(1064042, 5840783)"
      ]
     },
     "execution_count": 18,
     "metadata": {},
     "output_type": "execute_result"
    }
   ],
   "source": [
    "len(averages_with_discounted_products), len(averages_without_discounted_products)"
   ]
  },
  {
   "cell_type": "code",
   "execution_count": 21,
   "id": "4783539c",
   "metadata": {},
   "outputs": [
    {
     "data": {
      "text/plain": [
       "Ttest_indResult(statistic=-379.12545333959457, pvalue=0.0)"
      ]
     },
     "execution_count": 21,
     "metadata": {},
     "output_type": "execute_result"
    }
   ],
   "source": [
    "from scipy.stats import ttest_ind\n",
    "\n",
    "ttest_ind(averages_with_discounted_products, averages_without_discounted_products)"
   ]
  },
  {
   "cell_type": "markdown",
   "id": "7ac5b33f",
   "metadata": {},
   "source": [
    "p-value is very small, thus we can reject H0"
   ]
  },
  {
   "cell_type": "markdown",
   "id": "706a5fad",
   "metadata": {},
   "source": [
    "## Task 2\n",
    "### Description\n",
    "Prove that the frequency of shopping grows around the wage taking days (1-6 days of each month, 20 -26 days of each month)"
   ]
  },
  {
   "cell_type": "code",
   "execution_count": 42,
   "id": "b0ad3881",
   "metadata": {},
   "outputs": [],
   "source": [
    "df['date'] = pd.to_datetime(df['date'], format='%Y-%m-%d %H:%M:%S')"
   ]
  },
  {
   "cell_type": "code",
   "execution_count": 43,
   "id": "addfacf9",
   "metadata": {},
   "outputs": [],
   "source": [
    "number_of_purchases_per_day = df.groupby(df['date'].dt.day)['id_doc'].count() "
   ]
  },
  {
   "cell_type": "code",
   "execution_count": 44,
   "id": "ec642982",
   "metadata": {},
   "outputs": [
    {
     "data": {
      "text/plain": [
       "[<matplotlib.lines.Line2D at 0x205a965d2b0>]"
      ]
     },
     "execution_count": 44,
     "metadata": {},
     "output_type": "execute_result"
    },
    {
     "data": {
      "image/png": "[encoded data removed]",
      "text/plain": [
       "<Figure size 1440x1080 with 1 Axes>"
      ]
     },
     "metadata": {
      "needs_background": "light"
     },
     "output_type": "display_data"
    }
   ],
   "source": [
    "import matplotlib.pyplot as plt\n",
    "\n",
    "plt.rcParams[\"figure.figsize\"] = (20,15)\n",
    "plt.xlabel('Day of a month')\n",
    "plt.ylabel('Number of purchases made')\n",
    "plt.grid()\n",
    "plt.plot(number_of_purchases_per_day)"
   ]
  },
  {
   "cell_type": "markdown",
   "id": "d64c0ebb",
   "metadata": {},
   "source": [
    "As it can be seen from a plot, given one month of data, we can't see that there is some increase in orders' number during 1-6 or 20-26 days of a month"
   ]
  },
  {
   "cell_type": "markdown",
   "id": "d7da5cf2",
   "metadata": {},
   "source": [
    "## Task 3\n",
    "\n",
    "Define such cohort existence:\n",
    "* Frequent buyers - The users that are shopping frequently(daily, weekly, monthly) \n",
    "* Average purchase sum - The customers that usually spend the same amount of money \n",
    "* Usual cart - The customers grouped by the product groups\n",
    "\n",
    "#### Frequent buyers - The users that are shopping frequently(daily, weekly, monthly)  "
   ]
  },
  {
   "cell_type": "code",
   "execution_count": 64,
   "id": "874a5e86",
   "metadata": {},
   "outputs": [],
   "source": [
    "df['day'] = df['date'].dt.day\n",
    "df['day_of_week'] = pd.to_datetime(df['date']).dt.dayofweek\n",
    "df['week'] = (df['day'] - df['day_of_week']) / 7"
   ]
  },
  {
   "cell_type": "code",
   "execution_count": 65,
   "id": "37bbd0dc",
   "metadata": {},
   "outputs": [],
   "source": [
    "customers_data = df.groupby(['id_card'])"
   ]
  },
  {
   "cell_type": "markdown",
   "id": "c52f8f1c",
   "metadata": {},
   "source": [
    "##### Daily"
   ]
  },
  {
   "cell_type": "code",
   "execution_count": 66,
   "id": "bed25326",
   "metadata": {},
   "outputs": [],
   "source": [
    "number_of_day_with_purchases = customers_data['day'].nunique()"
   ]
  },
  {
   "cell_type": "code",
   "execution_count": 67,
   "id": "c6752cc5",
   "metadata": {},
   "outputs": [
    {
     "data": {
      "text/plain": [
       "id_card\n",
       "0          10\n",
       "1           1\n",
       "2           1\n",
       "3           8\n",
       "4           5\n",
       "           ..\n",
       "1933013     1\n",
       "1933385     1\n",
       "1934103     6\n",
       "1939417     9\n",
       "1944074     3\n",
       "Name: day, Length: 1333958, dtype: int64"
      ]
     },
     "execution_count": 67,
     "metadata": {},
     "output_type": "execute_result"
    }
   ],
   "source": [
    "number_of_day_with_purchases"
   ]
  },
  {
   "cell_type": "code",
   "execution_count": 68,
   "id": "e84c2386",
   "metadata": {},
   "outputs": [],
   "source": [
    "daily_customers = number_of_day_with_purchases[number_of_day_with_purchases == 30] # since we use September"
   ]
  },
  {
   "cell_type": "code",
   "execution_count": 69,
   "id": "b9784275",
   "metadata": {},
   "outputs": [
    {
     "data": {
      "text/plain": [
       "48"
      ]
     },
     "execution_count": 69,
     "metadata": {},
     "output_type": "execute_result"
    }
   ],
   "source": [
    "len(daily_customers)"
   ]
  },
  {
   "cell_type": "markdown",
   "id": "26615a88",
   "metadata": {},
   "source": [
    "##### Weekly"
   ]
  },
  {
   "cell_type": "code",
   "execution_count": 70,
   "id": "9d0b88f1",
   "metadata": {},
   "outputs": [],
   "source": [
    "number_of_weeks_with_purchases = customers_data['week'].nunique()"
   ]
  },
  {
   "cell_type": "code",
   "execution_count": 71,
   "id": "03905409",
   "metadata": {},
   "outputs": [],
   "source": [
    "weekly_customers = number_of_weeks_with_purchases[number_of_weeks_with_purchases == df['week'].nunique()]"
   ]
  },
  {
   "cell_type": "code",
   "execution_count": 72,
   "id": "c9f27519",
   "metadata": {},
   "outputs": [
    {
     "data": {
      "text/plain": [
       "211475"
      ]
     },
     "execution_count": 72,
     "metadata": {},
     "output_type": "execute_result"
    }
   ],
   "source": [
    "len(weekly_customers)"
   ]
  },
  {
   "cell_type": "markdown",
   "id": "85b68054",
   "metadata": {},
   "source": [
    "We've found 211475 such customers "
   ]
  },
  {
   "cell_type": "markdown",
   "id": "a74c73a7",
   "metadata": {},
   "source": [
    "####  Average purchase sum - The customers that usually spend the same amount of money "
   ]
  },
  {
   "cell_type": "code",
   "execution_count": 108,
   "id": "86056346",
   "metadata": {},
   "outputs": [],
   "source": [
    "customers_docs_data = df.groupby(['id_card', 'id_doc'])\n",
    "number_of_purchases = customers_docs_data['sum'].count()\n",
    "sums_of_purchases = customers_docs_data['sum'].sum()"
   ]
  },
  {
   "cell_type": "code",
   "execution_count": 109,
   "id": "9545c88d",
   "metadata": {},
   "outputs": [
    {
     "data": {
      "text/plain": [
       "id_card  id_doc  \n",
       "0        60540        251.00\n",
       "         4304074      260.00\n",
       "         10805306     329.00\n",
       "         11746120     209.00\n",
       "         13712620     924.20\n",
       "                      ...   \n",
       "1939417  17169622     396.00\n",
       "1944074  2746927      791.00\n",
       "         10459529    2849.13\n",
       "         15011738     245.00\n",
       "         18208481     146.00\n",
       "Name: sum, Length: 5888213, dtype: float64"
      ]
     },
     "execution_count": 109,
     "metadata": {},
     "output_type": "execute_result"
    }
   ],
   "source": [
    "sums_of_purchases_with_more_than_1 = sums_of_purchases[number_of_purchases > 1]\n",
    "sums_of_purchases_with_more_than_1"
   ]
  },
  {
   "cell_type": "code",
   "execution_count": 110,
   "id": "ed8c0f86",
   "metadata": {},
   "outputs": [],
   "source": [
    "stds_1 = sums_of_purchases_with_more_than_1.to_frame().reset_index().drop(['id_doc'], axis=1).groupby('id_card').std()"
   ]
  },
  {
   "cell_type": "code",
   "execution_count": 111,
   "id": "ae5906f0",
   "metadata": {},
   "outputs": [
    {
     "data": {
      "image/png": "[encoded data removed]",
      "text/plain": [
       "<Figure size 720x504 with 1 Axes>"
      ]
     },
     "metadata": {
      "needs_background": "light"
     },
     "output_type": "display_data"
    }
   ],
   "source": [
    "plt.rcParams[\"figure.figsize\"] = (10, 7)\n",
    "plt.axvline(x=70, color='k')\n",
    "plt.xlabel('Standard deviation of a purchase sums')\n",
    "plt.ylabel('Number of customers')\n",
    "plt.hist(stds_1.dropna(), bins=30);"
   ]
  },
  {
   "cell_type": "markdown",
   "id": "89b0c111",
   "metadata": {},
   "source": [
    "Consider only frequent customers"
   ]
  },
  {
   "cell_type": "code",
   "execution_count": 112,
   "id": "45340dc4",
   "metadata": {},
   "outputs": [],
   "source": [
    "sums_of_purchases_20 = sums_of_purchases[number_of_purchases > 20]\n",
    "stds_20 = sums_of_purchases_20.to_frame().reset_index().drop(['id_doc'], axis=1).groupby('id_card').std()"
   ]
  },
  {
   "cell_type": "code",
   "execution_count": 113,
   "id": "2ee35c83",
   "metadata": {},
   "outputs": [
    {
     "data": {
      "image/png": "[encoded data removed]",
      "text/plain": [
       "<Figure size 720x504 with 1 Axes>"
      ]
     },
     "metadata": {
      "needs_background": "light"
     },
     "output_type": "display_data"
    }
   ],
   "source": [
    "plt.rcParams[\"figure.figsize\"] = (10, 7)\n",
    "plt.axvline(x=70, color='k')\n",
    "plt.xlabel('Standard deviation of a purchase sums')\n",
    "plt.ylabel('Number of customers')\n",
    "plt.hist(stds_20.dropna(), bins=30);"
   ]
  },
  {
   "cell_type": "markdown",
   "id": "82997f0f",
   "metadata": {},
   "source": [
    "#### Usual cart - The customers grouped by the product groups  "
   ]
  },
  {
   "cell_type": "code",
   "execution_count": 121,
   "id": "4ecd8f5f",
   "metadata": {},
   "outputs": [
    {
     "data": {
      "text/plain": [
       "Text(0, 0.5, 'Count')"
      ]
     },
     "execution_count": 121,
     "metadata": {},
     "output_type": "execute_result"
    },
    {
     "data": {
      "image/png": "[encoded data removed]",
      "text/plain": [
       "<Figure size 720x504 with 1 Axes>"
      ]
     },
     "metadata": {
      "needs_background": "light"
     },
     "output_type": "display_data"
    }
   ],
   "source": [
    "group2num_customers = df.groupby('id_group')['id_card'].unique().apply(len)\n",
    "group2num_customers.sort_values()[-15:].plot(kind='bar')\n",
    "plt.rcParams[\"figure.figsize\"] = (5, 3)\n",
    "plt.ylabel('Count')"
   ]
  },
  {
   "cell_type": "code",
   "execution_count": null,
   "id": "2e393b97",
   "metadata": {},
   "outputs": [],
   "source": []
  }
 ],
 "metadata": {
  "kernelspec": {
   "display_name": "Python 3",
   "language": "python",
   "name": "python3"
  },
  "language_info": {
   "codemirror_mode": {
    "name": "ipython",
    "version": 3
   },
   "file_extension": ".py",
   "mimetype": "text/x-python",
   "name": "python",
   "nbconvert_exporter": "python",
   "pygments_lexer": "ipython3",
   "version": "3.8.10"
  }
 },
 "nbformat": 4,
 "nbformat_minor": 5
}
