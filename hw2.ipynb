{
  "nbformat": 4,
  "nbformat_minor": 0,
  "metadata": {
    "colab": {
      "name": "hw2.ipynb",
      "provenance": [],
      "collapsed_sections": []
    },
    "kernelspec": {
      "name": "python3",
      "display_name": "Python 3"
    },
    "language_info": {
      "name": "python"
    },
    "accelerator": "GPU"
  },
  "cells": [
    {
      "cell_type": "code",
      "metadata": {
        "id": "ksxI8N5LxsaI"
      },
      "source": [
        "import pandas as pd\n",
        "import matplotlib.pyplot as plt\n",
        "from pathlib import Path\n",
        "from scipy.stats import ttest_ind, pearsonr"
      ],
      "execution_count": 15,
      "outputs": []
    },
    {
      "cell_type": "code",
      "metadata": {
        "colab": {
          "base_uri": "https://localhost:8080/"
        },
        "id": "SWg31s6ezp3x",
        "outputId": "5e743ed0-cb70-4f8e-eef1-b6adc7415fdf"
      },
      "source": [
        "!gdown --id 13Qm6ztAmVyBHvo_mch6gk-2VYKUHeRuu"
      ],
      "execution_count": 2,
      "outputs": [
        {
          "output_type": "stream",
          "text": [
            "Downloading...\n",
            "From: https://drive.google.com/uc?id=13Qm6ztAmVyBHvo_mch6gk-2VYKUHeRuu\n",
            "To: /content/inno_stats.tar.gz\n",
            "1.91GB [00:34, 56.0MB/s]\n"
          ],
          "name": "stdout"
        }
      ]
    },
    {
      "cell_type": "code",
      "metadata": {
        "id": "L8tkNKmYx-Av"
      },
      "source": [
        "!mkdir data \n",
        "!tar -xf inno_stats.tar.gz -C ./data"
      ],
      "execution_count": 3,
      "outputs": []
    },
    {
      "cell_type": "code",
      "metadata": {
        "colab": {
          "base_uri": "https://localhost:8080/"
        },
        "id": "7Zg4V-bczr7j",
        "outputId": "bd1bfb9c-7f75-4dc9-a729-a56d7345a6e9"
      },
      "source": [
        "data_path = Path('./data/').resolve()\n",
        "!ls {data_path}"
      ],
      "execution_count": 3,
      "outputs": [
        {
          "output_type": "stream",
          "text": [
            "09_groups.csv  10_groups.csv  11_groups.csv  product_groups.csv\n"
          ],
          "name": "stdout"
        }
      ]
    },
    {
      "cell_type": "code",
      "metadata": {
        "id": "qy8Idla-0pcl",
        "colab": {
          "base_uri": "https://localhost:8080/",
          "height": 198
        },
        "outputId": "2b092d73-93b4-4291-9d28-579ef1249a98"
      },
      "source": [
        "group_9 = pd.read_csv('./data/09_groups.csv')\n",
        "group_9.head()"
      ],
      "execution_count": 4,
      "outputs": [
        {
          "output_type": "execute_result",
          "data": {
            "text/html": [
              "<div>\n",
              "<style scoped>\n",
              "    .dataframe tbody tr th:only-of-type {\n",
              "        vertical-align: middle;\n",
              "    }\n",
              "\n",
              "    .dataframe tbody tr th {\n",
              "        vertical-align: top;\n",
              "    }\n",
              "\n",
              "    .dataframe thead th {\n",
              "        text-align: right;\n",
              "    }\n",
              "</style>\n",
              "<table border=\"1\" class=\"dataframe\">\n",
              "  <thead>\n",
              "    <tr style=\"text-align: right;\">\n",
              "      <th></th>\n",
              "      <th>date</th>\n",
              "      <th>id_doc</th>\n",
              "      <th>id_order</th>\n",
              "      <th>id_card</th>\n",
              "      <th>id_tov</th>\n",
              "      <th>id_kontr</th>\n",
              "      <th>quantity</th>\n",
              "      <th>sum</th>\n",
              "      <th>is_green</th>\n",
              "      <th>id_group</th>\n",
              "    </tr>\n",
              "  </thead>\n",
              "  <tbody>\n",
              "    <tr>\n",
              "      <th>0</th>\n",
              "      <td>2020-09-01 17:01:25</td>\n",
              "      <td>1283228</td>\n",
              "      <td>0.0</td>\n",
              "      <td>1538855</td>\n",
              "      <td>52</td>\n",
              "      <td>271</td>\n",
              "      <td>1.0</td>\n",
              "      <td>108.00</td>\n",
              "      <td>0</td>\n",
              "      <td>10004</td>\n",
              "    </tr>\n",
              "    <tr>\n",
              "      <th>1</th>\n",
              "      <td>2020-09-01 17:35:36</td>\n",
              "      <td>8873113</td>\n",
              "      <td>0.0</td>\n",
              "      <td>267307</td>\n",
              "      <td>52</td>\n",
              "      <td>271</td>\n",
              "      <td>1.0</td>\n",
              "      <td>108.00</td>\n",
              "      <td>0</td>\n",
              "      <td>10004</td>\n",
              "    </tr>\n",
              "    <tr>\n",
              "      <th>2</th>\n",
              "      <td>2020-09-01 19:19:21</td>\n",
              "      <td>12712899</td>\n",
              "      <td>0.0</td>\n",
              "      <td>610220</td>\n",
              "      <td>52</td>\n",
              "      <td>271</td>\n",
              "      <td>1.0</td>\n",
              "      <td>107.95</td>\n",
              "      <td>0</td>\n",
              "      <td>10004</td>\n",
              "    </tr>\n",
              "    <tr>\n",
              "      <th>3</th>\n",
              "      <td>2020-09-01 21:53:34</td>\n",
              "      <td>21535283</td>\n",
              "      <td>0.0</td>\n",
              "      <td>441497</td>\n",
              "      <td>52</td>\n",
              "      <td>271</td>\n",
              "      <td>1.0</td>\n",
              "      <td>108.00</td>\n",
              "      <td>0</td>\n",
              "      <td>10004</td>\n",
              "    </tr>\n",
              "    <tr>\n",
              "      <th>4</th>\n",
              "      <td>2020-09-01 18:42:31</td>\n",
              "      <td>642341</td>\n",
              "      <td>0.0</td>\n",
              "      <td>1065358</td>\n",
              "      <td>61</td>\n",
              "      <td>97</td>\n",
              "      <td>2.0</td>\n",
              "      <td>88.00</td>\n",
              "      <td>0</td>\n",
              "      <td>10091</td>\n",
              "    </tr>\n",
              "  </tbody>\n",
              "</table>\n",
              "</div>"
            ],
            "text/plain": [
              "                  date    id_doc  id_order  ...     sum  is_green  id_group\n",
              "0  2020-09-01 17:01:25   1283228       0.0  ...  108.00         0     10004\n",
              "1  2020-09-01 17:35:36   8873113       0.0  ...  108.00         0     10004\n",
              "2  2020-09-01 19:19:21  12712899       0.0  ...  107.95         0     10004\n",
              "3  2020-09-01 21:53:34  21535283       0.0  ...  108.00         0     10004\n",
              "4  2020-09-01 18:42:31    642341       0.0  ...   88.00         0     10091\n",
              "\n",
              "[5 rows x 10 columns]"
            ]
          },
          "metadata": {
            "tags": []
          },
          "execution_count": 4
        }
      ]
    },
    {
      "cell_type": "markdown",
      "metadata": {
        "id": "2NNJ23ta1Euz"
      },
      "source": [
        "Frequent buyers\n"
      ]
    },
    {
      "cell_type": "code",
      "metadata": {
        "id": "fvwZxWzp4M6j"
      },
      "source": [
        "bad_ids = pd.read_csv('bad_ids.csv')"
      ],
      "execution_count": 5,
      "outputs": []
    },
    {
      "cell_type": "code",
      "metadata": {
        "id": "W9ssfL-w319H"
      },
      "source": [
        "def clean_df(df):\n",
        "  ids = set(bad_ids['id_card'])\n",
        "  cleaned = df.copy()\n",
        "  cleaned = cleaned[~cleaned['id_card'].isin(ids)]\n",
        "\n",
        "  return cleaned"
      ],
      "execution_count": 6,
      "outputs": []
    },
    {
      "cell_type": "code",
      "metadata": {
        "id": "udM9BpjH3vHV"
      },
      "source": [
        "group_9_cleaned = clean_df(group_9)"
      ],
      "execution_count": 7,
      "outputs": []
    },
    {
      "cell_type": "code",
      "metadata": {
        "id": "JtU8CTK11IcR",
        "colab": {
          "base_uri": "https://localhost:8080/"
        },
        "outputId": "101ae730-fe97-4421-fa8e-6e8fd2bc3d0b"
      },
      "source": [
        "freqs = group_9_cleaned.groupby(by=['id_doc']).first()\n",
        "freqs['id_card'].value_counts()[:50]"
      ],
      "execution_count": 9,
      "outputs": [
        {
          "output_type": "execute_result",
          "data": {
            "text/plain": [
              "620767     161\n",
              "1523082    119\n",
              "943480     109\n",
              "1567258    104\n",
              "1808366    103\n",
              "1144271    103\n",
              "1284105    102\n",
              "297039     101\n",
              "1789392     98\n",
              "904949      98\n",
              "1472222     91\n",
              "926464      89\n",
              "439307      86\n",
              "789143      78\n",
              "919837      78\n",
              "74300       77\n",
              "1108476     76\n",
              "1334945     76\n",
              "1229061     76\n",
              "974512      76\n",
              "748538      75\n",
              "1095114     75\n",
              "1572245     74\n",
              "563042      74\n",
              "1161780     73\n",
              "1609030     73\n",
              "365710      72\n",
              "516949      72\n",
              "1817230     71\n",
              "1107018     71\n",
              "869122      71\n",
              "1249323     71\n",
              "204545      70\n",
              "490358      70\n",
              "1335412     69\n",
              "1818799     69\n",
              "842795      69\n",
              "971273      69\n",
              "1745221     68\n",
              "562286      68\n",
              "487974      68\n",
              "759554      68\n",
              "661917      68\n",
              "675545      68\n",
              "1572850     67\n",
              "1507020     67\n",
              "1326765     67\n",
              "1785077     67\n",
              "1226636     67\n",
              "1393925     67\n",
              "Name: id_card, dtype: int64"
            ]
          },
          "metadata": {
            "tags": []
          },
          "execution_count": 9
        }
      ]
    },
    {
      "cell_type": "code",
      "metadata": {
        "id": "y9zUmW-r6Rl0"
      },
      "source": [
        "del freqs"
      ],
      "execution_count": 10,
      "outputs": []
    },
    {
      "cell_type": "markdown",
      "metadata": {
        "id": "KukEX2tU7ZNY"
      },
      "source": [
        "Prove that buying discounted products depends on the average order sum."
      ]
    },
    {
      "cell_type": "code",
      "metadata": {
        "colab": {
          "base_uri": "https://localhost:8080/"
        },
        "id": "enOeaSrG657W",
        "outputId": "d09713f1-f0e8-405e-d332-2688f9fa1ac5"
      },
      "source": [
        "average = group_9_cleaned.groupby(\"id_doc\")['sum'].mean().to_list()\n",
        "is_green_sum = group_9_cleaned.groupby(\"id_doc\")['is_green'].sum().to_list()\n",
        "pearsonr(average, is_green_sum)"
      ],
      "execution_count": 14,
      "outputs": [
        {
          "output_type": "execute_result",
          "data": {
            "text/plain": [
              "(-0.12120540985170064, 0.0)"
            ]
          },
          "metadata": {
            "tags": []
          },
          "execution_count": 14
        }
      ]
    },
    {
      "cell_type": "markdown",
      "metadata": {
        "id": "wcXTrilc8gnz"
      },
      "source": [
        "Therefore, dependancy between average order sum and discounted products\n"
      ]
    },
    {
      "cell_type": "code",
      "metadata": {
        "colab": {
          "base_uri": "https://localhost:8080/",
          "height": 616
        },
        "id": "a3oiycPo8vkb",
        "outputId": "e3dd177e-e3c3-495a-ba54-2ccf18b52cc0"
      },
      "source": [
        "format = '%Y-%m-%d %H:%M:%S'\n",
        "group_9_cleaned.index = pd.to_datetime(group_9_cleaned['date'],format=format)\n",
        "\n",
        "spend = group_9_cleaned.groupby(by=[group_9_cleaned.index.day])['id_doc'].count()\n",
        "plt.figure(figsize=(15,10))\n",
        "plt.locator_params(axis=\"x\", nbins=50)\n",
        "spend.plot()\n",
        "plt.grid()"
      ],
      "execution_count": 16,
      "outputs": [
        {
          "output_type": "display_data",
          "data": {
            "image/png": "[encoded data removed]",
            "text/plain": [
              "<Figure size 1080x720 with 1 Axes>"
            ]
          },
          "metadata": {
            "tags": [],
            "needs_background": "light"
          }
        }
      ]
    }
  ]
}