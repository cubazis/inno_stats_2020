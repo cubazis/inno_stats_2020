{
  "nbformat": 4,
  "nbformat_minor": 0,
  "metadata": {
    "kernelspec": {
      "name": "python3",
      "display_name": "Python 3"
    },
    "colab": {
      "name": "hw2.ipynb",
      "provenance": [],
      "toc_visible": true
    },
    "language_info": {
      "name": "python"
    }
  },
  "cells": [
    {
      "cell_type": "code",
      "metadata": {
        "colab": {
          "base_uri": "https://localhost:8080/"
        },
        "id": "j3qfzKdDfeMe",
        "outputId": "6f8665f5-a7f9-4ad7-d721-297f719d98fb"
      },
      "source": [
        "!gdown --id 13Qm6ztAmVyBHvo_mch6gk-2VYKUHeRuu"
      ],
      "execution_count": 1,
      "outputs": [
        {
          "output_type": "stream",
          "text": [
            "Permission denied: https://drive.google.com/uc?id=13Qm6ztAmVyBHvo_mch6gk-2VYKUHeRuu\n",
            "Maybe you need to change permission over 'Anyone with the link'?\n"
          ],
          "name": "stdout"
        }
      ]
    },
    {
      "cell_type": "code",
      "metadata": {
        "colab": {
          "base_uri": "https://localhost:8080/"
        },
        "id": "b5jKl0DPflDA",
        "outputId": "48d64987-ddd6-4c79-d365-9bd674f390d8"
      },
      "source": [
        "!mkdir data \n",
        "!tar -xf inno_stats.tar.gz -C ./data"
      ],
      "execution_count": 2,
      "outputs": [
        {
          "output_type": "stream",
          "text": [
            "mkdir: cannot create directory ‘data’: File exists\n"
          ],
          "name": "stdout"
        }
      ]
    },
    {
      "cell_type": "code",
      "metadata": {
        "id": "0_Y45eY6d874"
      },
      "source": [
        "from pathlib import Path\n",
        "import pandas as pd\n",
        "import gc\n",
        "from sklearn.preprocessing import LabelEncoder\n",
        "import pickle\n",
        "import bz2"
      ],
      "execution_count": 3,
      "outputs": []
    },
    {
      "cell_type": "markdown",
      "metadata": {
        "id": "IJQGyOpkd877"
      },
      "source": [
        "!mkdir data\n",
        "!tar -xf inno_stats.tar.gz -C ./data"
      ]
    },
    {
      "cell_type": "code",
      "metadata": {
        "colab": {
          "base_uri": "https://localhost:8080/"
        },
        "id": "OqxMwrhXd878",
        "outputId": "93f7ce8b-6fa7-4246-87a7-3487944c3311"
      },
      "source": [
        "data_path = Path('./data/').resolve()\n",
        "!ls {data_path}"
      ],
      "execution_count": 4,
      "outputs": [
        {
          "output_type": "stream",
          "text": [
            "09_groups.csv  10_groups.csv  11_groups.csv  bad_ids.csv  product_groups.csv\n"
          ],
          "name": "stdout"
        }
      ]
    },
    {
      "cell_type": "code",
      "metadata": {
        "colab": {
          "base_uri": "https://localhost:8080/",
          "height": 195
        },
        "id": "34NeeYovd878",
        "outputId": "83b8ed42-d75b-47cb-db9c-006c564946ce"
      },
      "source": [
        "g_9 = pd.read_csv('./data/09_groups.csv')\n",
        "g_9.head()"
      ],
      "execution_count": 5,
      "outputs": [
        {
          "output_type": "execute_result",
          "data": {
            "text/html": [
              "<div>\n",
              "<style scoped>\n",
              "    .dataframe tbody tr th:only-of-type {\n",
              "        vertical-align: middle;\n",
              "    }\n",
              "\n",
              "    .dataframe tbody tr th {\n",
              "        vertical-align: top;\n",
              "    }\n",
              "\n",
              "    .dataframe thead th {\n",
              "        text-align: right;\n",
              "    }\n",
              "</style>\n",
              "<table border=\"1\" class=\"dataframe\">\n",
              "  <thead>\n",
              "    <tr style=\"text-align: right;\">\n",
              "      <th></th>\n",
              "      <th>date</th>\n",
              "      <th>id_doc</th>\n",
              "      <th>id_order</th>\n",
              "      <th>id_card</th>\n",
              "      <th>id_tov</th>\n",
              "      <th>id_kontr</th>\n",
              "      <th>quantity</th>\n",
              "      <th>sum</th>\n",
              "      <th>is_green</th>\n",
              "      <th>id_group</th>\n",
              "    </tr>\n",
              "  </thead>\n",
              "  <tbody>\n",
              "    <tr>\n",
              "      <th>0</th>\n",
              "      <td>2020-09-01 17:01:25</td>\n",
              "      <td>1283228</td>\n",
              "      <td>0.0</td>\n",
              "      <td>1538855</td>\n",
              "      <td>52</td>\n",
              "      <td>271</td>\n",
              "      <td>1.0</td>\n",
              "      <td>108.00</td>\n",
              "      <td>0</td>\n",
              "      <td>10004</td>\n",
              "    </tr>\n",
              "    <tr>\n",
              "      <th>1</th>\n",
              "      <td>2020-09-01 17:35:36</td>\n",
              "      <td>8873113</td>\n",
              "      <td>0.0</td>\n",
              "      <td>267307</td>\n",
              "      <td>52</td>\n",
              "      <td>271</td>\n",
              "      <td>1.0</td>\n",
              "      <td>108.00</td>\n",
              "      <td>0</td>\n",
              "      <td>10004</td>\n",
              "    </tr>\n",
              "    <tr>\n",
              "      <th>2</th>\n",
              "      <td>2020-09-01 19:19:21</td>\n",
              "      <td>12712899</td>\n",
              "      <td>0.0</td>\n",
              "      <td>610220</td>\n",
              "      <td>52</td>\n",
              "      <td>271</td>\n",
              "      <td>1.0</td>\n",
              "      <td>107.95</td>\n",
              "      <td>0</td>\n",
              "      <td>10004</td>\n",
              "    </tr>\n",
              "    <tr>\n",
              "      <th>3</th>\n",
              "      <td>2020-09-01 21:53:34</td>\n",
              "      <td>21535283</td>\n",
              "      <td>0.0</td>\n",
              "      <td>441497</td>\n",
              "      <td>52</td>\n",
              "      <td>271</td>\n",
              "      <td>1.0</td>\n",
              "      <td>108.00</td>\n",
              "      <td>0</td>\n",
              "      <td>10004</td>\n",
              "    </tr>\n",
              "    <tr>\n",
              "      <th>4</th>\n",
              "      <td>2020-09-01 18:42:31</td>\n",
              "      <td>642341</td>\n",
              "      <td>0.0</td>\n",
              "      <td>1065358</td>\n",
              "      <td>61</td>\n",
              "      <td>97</td>\n",
              "      <td>2.0</td>\n",
              "      <td>88.00</td>\n",
              "      <td>0</td>\n",
              "      <td>10091</td>\n",
              "    </tr>\n",
              "  </tbody>\n",
              "</table>\n",
              "</div>"
            ],
            "text/plain": [
              "                  date    id_doc  id_order  ...     sum  is_green  id_group\n",
              "0  2020-09-01 17:01:25   1283228       0.0  ...  108.00         0     10004\n",
              "1  2020-09-01 17:35:36   8873113       0.0  ...  108.00         0     10004\n",
              "2  2020-09-01 19:19:21  12712899       0.0  ...  107.95         0     10004\n",
              "3  2020-09-01 21:53:34  21535283       0.0  ...  108.00         0     10004\n",
              "4  2020-09-01 18:42:31    642341       0.0  ...   88.00         0     10091\n",
              "\n",
              "[5 rows x 10 columns]"
            ]
          },
          "metadata": {
            "tags": []
          },
          "execution_count": 5
        }
      ]
    },
    {
      "cell_type": "code",
      "metadata": {
        "id": "orvorO7Od879"
      },
      "source": [
        "# g_10 = pd.read_csv('./data/10_groups.csv')\n",
        "# g_10.head()"
      ],
      "execution_count": 6,
      "outputs": []
    },
    {
      "cell_type": "code",
      "metadata": {
        "id": "Nj8KodhHd879"
      },
      "source": [
        "# g_11 = pd.read_csv('./data/11_groups.csv')\n",
        "# g_11.head()"
      ],
      "execution_count": 7,
      "outputs": []
    },
    {
      "cell_type": "code",
      "metadata": {
        "id": "DwK9stk9d879"
      },
      "source": [
        "# p_g = pd.read_csv('./data/product_groups.csv', delimiter=';', encoding='windows-1251')\n",
        "# p_g.head()"
      ],
      "execution_count": 8,
      "outputs": []
    },
    {
      "cell_type": "markdown",
      "metadata": {
        "id": "XOoxWWt-d87-"
      },
      "source": [
        "## Task 1\n",
        "\n",
        "Prove that buying discounted products depends on the average order sum. (It is more probable that the discounted product will be bought if bunch of money is going to be spend)"
      ]
    },
    {
      "cell_type": "code",
      "metadata": {
        "colab": {
          "base_uri": "https://localhost:8080/"
        },
        "id": "OEQ0rQbrd87-",
        "outputId": "6515baba-05a3-4ff7-b05f-7f36a85bd6a2"
      },
      "source": [
        "bad_ids = pd.read_csv('data/bad_ids.csv')\n",
        "g_9 = g_9[~g_9['id_card'].isin(set(bad_ids['id_card']))]\n",
        "\n",
        "\n",
        "\n",
        "order_sum = g_9.groupby('id_doc')['sum'].sum()\n",
        "order_sum"
      ],
      "execution_count": 9,
      "outputs": [
        {
          "output_type": "execute_result",
          "data": {
            "text/plain": [
              "id_doc\n",
              "2            396.00\n",
              "4           1597.00\n",
              "5            254.00\n",
              "16           709.06\n",
              "18           707.00\n",
              "             ...   \n",
              "23417859     346.00\n",
              "23417862     144.00\n",
              "23417864     324.00\n",
              "23417867     838.24\n",
              "23417869      80.00\n",
              "Name: sum, Length: 6904825, dtype: float64"
            ]
          },
          "metadata": {
            "tags": []
          },
          "execution_count": 9
        }
      ]
    },
    {
      "cell_type": "code",
      "metadata": {
        "colab": {
          "base_uri": "https://localhost:8080/"
        },
        "id": "KpRou8oQ6ROj",
        "outputId": "1e592bbb-4b3e-44ff-bc44-1de81cd23676"
      },
      "source": [
        "discount_in_receipt = g_9.groupby('id_doc')['is_green'].sum()\n",
        "discount_in_receipt"
      ],
      "execution_count": 10,
      "outputs": [
        {
          "output_type": "execute_result",
          "data": {
            "text/plain": [
              "id_doc\n",
              "2           0\n",
              "4           0\n",
              "5           0\n",
              "16          0\n",
              "18          0\n",
              "           ..\n",
              "23417859    0\n",
              "23417862    3\n",
              "23417864    0\n",
              "23417867    0\n",
              "23417869    0\n",
              "Name: is_green, Length: 6904825, dtype: int64"
            ]
          },
          "metadata": {
            "tags": []
          },
          "execution_count": 10
        }
      ]
    },
    {
      "cell_type": "code",
      "metadata": {
        "colab": {
          "base_uri": "https://localhost:8080/"
        },
        "id": "_Zwflr2O6ULt",
        "outputId": "4b3c3f93-bd41-4c91-adec-51cc8fdc7597"
      },
      "source": [
        "from scipy.stats import pearsonr\n",
        "sum = list(order_sum)\n",
        "discounts = list(discount_in_receipt)\n",
        "print(pearsonr(sum, discounts))"
      ],
      "execution_count": 11,
      "outputs": [
        {
          "output_type": "stream",
          "text": [
            "(0.03786160208996919, 0.0)\n"
          ],
          "name": "stdout"
        }
      ]
    },
    {
      "cell_type": "markdown",
      "metadata": {
        "id": "tYhKX45n7OSu"
      },
      "source": [
        "### Correlation coefficient is close to 0 indicating that there is no correlation between order sum and number of discounts"
      ]
    },
    {
      "cell_type": "markdown",
      "metadata": {
        "id": "5Sr6KWq9d87-"
      },
      "source": [
        "## Task 2\n",
        "Prove that the frequency of shopping grows around the wage taking days."
      ]
    },
    {
      "cell_type": "code",
      "metadata": {
        "id": "TUwp9-R4d87_"
      },
      "source": [
        "g_9.index = pd.to_datetime(g_9['date'], format='%Y-%m-%d %H:%M:%S')\n",
        "purchases_per_day = g_9.groupby(by=g_9.index.day)['id_doc'].count()\n"
      ],
      "execution_count": 12,
      "outputs": []
    },
    {
      "cell_type": "code",
      "metadata": {
        "colab": {
          "base_uri": "https://localhost:8080/"
        },
        "id": "xQFe6P_kEIvD",
        "outputId": "99f2c1e7-770e-4568-fa8e-6bcb6509dc22"
      },
      "source": [
        "print(purchases_per_day)"
      ],
      "execution_count": 13,
      "outputs": [
        {
          "output_type": "stream",
          "text": [
            "date\n",
            "1     1269893\n",
            "2     1285415\n",
            "3     1287425\n",
            "4     1270192\n",
            "5     1053459\n",
            "6     1158077\n",
            "7     1371646\n",
            "8     1227093\n",
            "9     1336351\n",
            "10    1305395\n",
            "11    1284777\n",
            "12    1087414\n",
            "13    1168560\n",
            "14    1370166\n",
            "15    1316259\n",
            "16    1326892\n",
            "17    1181904\n",
            "18    1429865\n",
            "19    1168649\n",
            "20    1206583\n",
            "21    1370546\n",
            "22    1352159\n",
            "23    1343573\n",
            "24    1336031\n",
            "25    1364338\n",
            "26    1130494\n",
            "27    1220942\n",
            "28    1415253\n",
            "29    1411357\n",
            "30    1415295\n",
            "Name: id_doc, dtype: int64\n"
          ],
          "name": "stdout"
        }
      ]
    },
    {
      "cell_type": "code",
      "metadata": {
        "colab": {
          "base_uri": "https://localhost:8080/",
          "height": 402
        },
        "id": "8xPybxnNFCgl",
        "outputId": "9c107bf4-e6bd-4818-e4ca-5aa86e4826b8"
      },
      "source": [
        "import matplotlib.pyplot as plt\n",
        "\n",
        "plt.figure(figsize=(10, 6))\n",
        "plt.plot(purchases_per_day)\n",
        "plt.ylim(0, 1.8e6)"
      ],
      "execution_count": 14,
      "outputs": [
        {
          "output_type": "execute_result",
          "data": {
            "text/plain": [
              "(0.0, 1800000.0)"
            ]
          },
          "metadata": {
            "tags": []
          },
          "execution_count": 14
        },
        {
          "output_type": "display_data",
          "data": {
            "image/png": "[encoded data removed]",
            "text/plain": [
              "<Figure size 720x432 with 1 Axes>"
            ]
          },
          "metadata": {
            "tags": [],
            "needs_background": "light"
          }
        }
      ]
    },
    {
      "cell_type": "markdown",
      "metadata": {
        "id": "Q1ASVhdAGkLv"
      },
      "source": [
        "### There are some peak values in the graph. However values in these days are not that different relatively to values in other days"
      ]
    },
    {
      "cell_type": "markdown",
      "metadata": {
        "id": "fs0W5F04d87_"
      },
      "source": [
        "## Task 3\n",
        "Define such cohort existance:\n",
        "1. Frequent buyers - The users that are shopping frequently(daily, weekly, monthly) \n",
        "2. Average purchase sum - The customers that usually spend the same amount of money \n",
        "3. Orders amount - The customers grouped by the total numer of orders \n",
        "4. Usual cart - The customers grouped by the product groups\n",
        "\n",
        "References\n",
        "- https://towardsdatascience.com/a-step-by-step-introduction-to-cohort-analysis-in-python-a2cbbd8460ea"
      ]
    },
    {
      "cell_type": "markdown",
      "metadata": {
        "id": "FBMulcDpyVip"
      },
      "source": [
        "### Frequent buyers - everyday buyers\n",
        "\n"
      ]
    },
    {
      "cell_type": "code",
      "metadata": {
        "colab": {
          "base_uri": "https://localhost:8080/"
        },
        "id": "RdGDXqyud87_",
        "outputId": "3892efe5-a195-4c41-b90b-9dc7a155a9d7"
      },
      "source": [
        "g_9['day'] = g_9.index.day\n",
        "everyday = g_9.groupby('id_card')['day'].nunique().sort_values(ascending=False)\n",
        "print(everyday[everyday==30])\n",
        "\n"
      ],
      "execution_count": 15,
      "outputs": [
        {
          "output_type": "stream",
          "text": [
            "id_card\n",
            "1507020    30\n",
            "6183       30\n",
            "1572850    30\n",
            "1790219    30\n",
            "1334945    30\n",
            "58154      30\n",
            "1230989    30\n",
            "360536     30\n",
            "184349     30\n",
            "550152     30\n",
            "1648549    30\n",
            "1494193    30\n",
            "612380     30\n",
            "1184159    30\n",
            "1160908    30\n",
            "57303      30\n",
            "5096       30\n",
            "1456677    30\n",
            "620767     30\n",
            "503718     30\n",
            "1032222    30\n",
            "1322471    30\n",
            "1430373    30\n",
            "1583742    30\n",
            "1521626    30\n",
            "1308754    30\n",
            "919837     30\n",
            "569448     30\n",
            "1002800    30\n",
            "537739     30\n",
            "190267     30\n",
            "1472222    30\n",
            "521971     30\n",
            "904949     30\n",
            "974512     30\n",
            "1824958    30\n",
            "1198040    30\n",
            "777364     30\n",
            "439307     30\n",
            "1109850    30\n",
            "1126944    30\n",
            "333896     30\n",
            "1804583    30\n",
            "1144271    30\n",
            "219805     30\n",
            "121629     30\n",
            "486190     30\n",
            "200025     30\n",
            "Name: day, dtype: int64\n"
          ],
          "name": "stdout"
        }
      ]
    },
    {
      "cell_type": "markdown",
      "metadata": {
        "id": "-aLD-AW53Y5V"
      },
      "source": [
        "### Usual Cart"
      ]
    },
    {
      "cell_type": "code",
      "metadata": {
        "colab": {
          "base_uri": "https://localhost:8080/"
        },
        "id": "PWBRDrXB3dLW",
        "outputId": "7f4774d1-2cc9-438b-a902-64702acacc0e"
      },
      "source": [
        "g_9.groupby('id_group')['id_card'].unique()"
      ],
      "execution_count": 16,
      "outputs": [
        {
          "output_type": "execute_result",
          "data": {
            "text/plain": [
              "id_group\n",
              "-9999     [1672691, 82434, 954793, 1572538, 1408606, 683...\n",
              " 10004    [1538855, 267307, 610220, 441497, 389692, 3110...\n",
              " 10005    [31109, 511852, 1254751, 563773, 736602, 16969...\n",
              " 10008    [1360897, 954793, 1841743, 626319, 389640, 924...\n",
              " 10012    [1572538, 297933, 149795, 469039, 1318057, 172...\n",
              "                                ...                        \n",
              " 10481    [178771, 245508, 518187, 73808, 175105, 161914...\n",
              " 10499    [552726, 1220525, 294237, 303445, 742939, 2720...\n",
              " 10503    [766318, 609754, 1822326, 1448679, 106364, 149...\n",
              " 10506    [128411, 28540, 232592, 1306012, 499888, 17956...\n",
              " 52194    [686029, 125830, 227162, 890413, 334262, 81074...\n",
              "Name: id_card, Length: 164, dtype: object"
            ]
          },
          "metadata": {
            "tags": []
          },
          "execution_count": 16
        }
      ]
    }
  ]
}