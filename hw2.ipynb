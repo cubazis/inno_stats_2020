{
 "cells": [
  {
   "cell_type": "code",
   "execution_count": 135,
   "metadata": {},
   "outputs": [],
   "source": [
    "from pathlib import Path\n",
    "import pandas as pd\n",
    "import gc\n",
    "from sklearn.preprocessing import LabelEncoder\n",
    "import pickle\n",
    "import bz2\n",
    "from scipy import stats\n",
    "import matplotlib.pyplot as plt"
   ]
  },
  {
   "cell_type": "markdown",
   "metadata": {},
   "source": [
    "Download https://drive.google.com/drive/folders/1BZFez3OFs7QMzeDUz-8E0SgnRy227pnG"
   ]
  },
  {
   "cell_type": "markdown",
   "metadata": {},
   "source": [
    "Unzip"
   ]
  },
  {
   "cell_type": "markdown",
   "metadata": {},
   "source": [
    "!mkdir data\n",
    "!tar -xf inno_stats.tar.gz -C ./data"
   ]
  },
  {
   "cell_type": "code",
   "execution_count": 2,
   "metadata": {},
   "outputs": [
    {
     "name": "stdout",
     "output_type": "stream",
     "text": [
      "09_groups.csv  bad_ids.xlsx\t    products_20200901.txt\r\n",
      "10_groups.csv  product_groups.csv   products_20201101.txt\r\n",
      "11_groups.csv  product_groups.docx  product_sum_20201001.txt\r\n"
     ]
    }
   ],
   "source": [
    "data_path = Path('./data/').resolve()\n",
    "!ls {data_path}"
   ]
  },
  {
   "cell_type": "code",
   "execution_count": 3,
   "metadata": {},
   "outputs": [
    {
     "data": {
      "text/html": [
       "<div>\n",
       "<style scoped>\n",
       "    .dataframe tbody tr th:only-of-type {\n",
       "        vertical-align: middle;\n",
       "    }\n",
       "\n",
       "    .dataframe tbody tr th {\n",
       "        vertical-align: top;\n",
       "    }\n",
       "\n",
       "    .dataframe thead th {\n",
       "        text-align: right;\n",
       "    }\n",
       "</style>\n",
       "<table border=\"1\" class=\"dataframe\">\n",
       "  <thead>\n",
       "    <tr style=\"text-align: right;\">\n",
       "      <th></th>\n",
       "      <th>date</th>\n",
       "      <th>id_doc</th>\n",
       "      <th>id_order</th>\n",
       "      <th>id_card</th>\n",
       "      <th>id_tov</th>\n",
       "      <th>id_kontr</th>\n",
       "      <th>quantity</th>\n",
       "      <th>sum</th>\n",
       "      <th>is_green</th>\n",
       "      <th>id_group</th>\n",
       "    </tr>\n",
       "  </thead>\n",
       "  <tbody>\n",
       "    <tr>\n",
       "      <th>0</th>\n",
       "      <td>2020-09-01 17:01:25</td>\n",
       "      <td>1283228</td>\n",
       "      <td>0.0</td>\n",
       "      <td>1538855</td>\n",
       "      <td>52</td>\n",
       "      <td>271</td>\n",
       "      <td>1.0</td>\n",
       "      <td>108.00</td>\n",
       "      <td>0</td>\n",
       "      <td>10004</td>\n",
       "    </tr>\n",
       "    <tr>\n",
       "      <th>1</th>\n",
       "      <td>2020-09-01 17:35:36</td>\n",
       "      <td>8873113</td>\n",
       "      <td>0.0</td>\n",
       "      <td>267307</td>\n",
       "      <td>52</td>\n",
       "      <td>271</td>\n",
       "      <td>1.0</td>\n",
       "      <td>108.00</td>\n",
       "      <td>0</td>\n",
       "      <td>10004</td>\n",
       "    </tr>\n",
       "    <tr>\n",
       "      <th>2</th>\n",
       "      <td>2020-09-01 19:19:21</td>\n",
       "      <td>12712899</td>\n",
       "      <td>0.0</td>\n",
       "      <td>610220</td>\n",
       "      <td>52</td>\n",
       "      <td>271</td>\n",
       "      <td>1.0</td>\n",
       "      <td>107.95</td>\n",
       "      <td>0</td>\n",
       "      <td>10004</td>\n",
       "    </tr>\n",
       "    <tr>\n",
       "      <th>3</th>\n",
       "      <td>2020-09-01 21:53:34</td>\n",
       "      <td>21535283</td>\n",
       "      <td>0.0</td>\n",
       "      <td>441497</td>\n",
       "      <td>52</td>\n",
       "      <td>271</td>\n",
       "      <td>1.0</td>\n",
       "      <td>108.00</td>\n",
       "      <td>0</td>\n",
       "      <td>10004</td>\n",
       "    </tr>\n",
       "    <tr>\n",
       "      <th>4</th>\n",
       "      <td>2020-09-01 18:42:31</td>\n",
       "      <td>642341</td>\n",
       "      <td>0.0</td>\n",
       "      <td>1065358</td>\n",
       "      <td>61</td>\n",
       "      <td>97</td>\n",
       "      <td>2.0</td>\n",
       "      <td>88.00</td>\n",
       "      <td>0</td>\n",
       "      <td>10091</td>\n",
       "    </tr>\n",
       "  </tbody>\n",
       "</table>\n",
       "</div>"
      ],
      "text/plain": [
       "                  date    id_doc  id_order  id_card  id_tov  id_kontr  \\\n",
       "0  2020-09-01 17:01:25   1283228       0.0  1538855      52       271   \n",
       "1  2020-09-01 17:35:36   8873113       0.0   267307      52       271   \n",
       "2  2020-09-01 19:19:21  12712899       0.0   610220      52       271   \n",
       "3  2020-09-01 21:53:34  21535283       0.0   441497      52       271   \n",
       "4  2020-09-01 18:42:31    642341       0.0  1065358      61        97   \n",
       "\n",
       "   quantity     sum  is_green  id_group  \n",
       "0       1.0  108.00         0     10004  \n",
       "1       1.0  108.00         0     10004  \n",
       "2       1.0  107.95         0     10004  \n",
       "3       1.0  108.00         0     10004  \n",
       "4       2.0   88.00         0     10091  "
      ]
     },
     "execution_count": 3,
     "metadata": {},
     "output_type": "execute_result"
    }
   ],
   "source": [
    "g_9 = pd.read_csv('./data/09_groups.csv')\n",
    "g_9.head()"
   ]
  },
  {
   "cell_type": "code",
   "execution_count": 35,
   "metadata": {},
   "outputs": [
    {
     "data": {
      "text/html": [
       "<div>\n",
       "<style scoped>\n",
       "    .dataframe tbody tr th:only-of-type {\n",
       "        vertical-align: middle;\n",
       "    }\n",
       "\n",
       "    .dataframe tbody tr th {\n",
       "        vertical-align: top;\n",
       "    }\n",
       "\n",
       "    .dataframe thead th {\n",
       "        text-align: right;\n",
       "    }\n",
       "</style>\n",
       "<table border=\"1\" class=\"dataframe\">\n",
       "  <thead>\n",
       "    <tr style=\"text-align: right;\">\n",
       "      <th></th>\n",
       "      <th>date</th>\n",
       "      <th>id_doc</th>\n",
       "      <th>id_order</th>\n",
       "      <th>id_card</th>\n",
       "      <th>id_tov</th>\n",
       "      <th>id_kontr</th>\n",
       "      <th>quantity</th>\n",
       "      <th>sum</th>\n",
       "      <th>is_green</th>\n",
       "      <th>id_group</th>\n",
       "    </tr>\n",
       "  </thead>\n",
       "  <tbody>\n",
       "    <tr>\n",
       "      <th>0</th>\n",
       "      <td>2020-10-01 20:22:55</td>\n",
       "      <td>2035558</td>\n",
       "      <td>0.0</td>\n",
       "      <td>1636749</td>\n",
       "      <td>52</td>\n",
       "      <td>339</td>\n",
       "      <td>1.0</td>\n",
       "      <td>107.90</td>\n",
       "      <td>0</td>\n",
       "      <td>10004</td>\n",
       "    </tr>\n",
       "    <tr>\n",
       "      <th>1</th>\n",
       "      <td>2020-10-01 20:54:12</td>\n",
       "      <td>13037327</td>\n",
       "      <td>0.0</td>\n",
       "      <td>267261</td>\n",
       "      <td>52</td>\n",
       "      <td>339</td>\n",
       "      <td>1.0</td>\n",
       "      <td>80.04</td>\n",
       "      <td>0</td>\n",
       "      <td>10004</td>\n",
       "    </tr>\n",
       "    <tr>\n",
       "      <th>2</th>\n",
       "      <td>2020-10-01 21:25:59</td>\n",
       "      <td>1430590</td>\n",
       "      <td>0.0</td>\n",
       "      <td>1331395</td>\n",
       "      <td>61</td>\n",
       "      <td>379</td>\n",
       "      <td>1.0</td>\n",
       "      <td>31.92</td>\n",
       "      <td>1</td>\n",
       "      <td>10091</td>\n",
       "    </tr>\n",
       "    <tr>\n",
       "      <th>3</th>\n",
       "      <td>2020-10-01 13:31:01</td>\n",
       "      <td>3504660</td>\n",
       "      <td>0.0</td>\n",
       "      <td>641525</td>\n",
       "      <td>61</td>\n",
       "      <td>97</td>\n",
       "      <td>1.0</td>\n",
       "      <td>55.98</td>\n",
       "      <td>0</td>\n",
       "      <td>10091</td>\n",
       "    </tr>\n",
       "    <tr>\n",
       "      <th>4</th>\n",
       "      <td>2020-10-01 16:32:06</td>\n",
       "      <td>11024438</td>\n",
       "      <td>0.0</td>\n",
       "      <td>1325852</td>\n",
       "      <td>61</td>\n",
       "      <td>97</td>\n",
       "      <td>4.0</td>\n",
       "      <td>176.00</td>\n",
       "      <td>0</td>\n",
       "      <td>10091</td>\n",
       "    </tr>\n",
       "  </tbody>\n",
       "</table>\n",
       "</div>"
      ],
      "text/plain": [
       "                  date    id_doc  id_order  id_card  id_tov  id_kontr  \\\n",
       "0  2020-10-01 20:22:55   2035558       0.0  1636749      52       339   \n",
       "1  2020-10-01 20:54:12  13037327       0.0   267261      52       339   \n",
       "2  2020-10-01 21:25:59   1430590       0.0  1331395      61       379   \n",
       "3  2020-10-01 13:31:01   3504660       0.0   641525      61        97   \n",
       "4  2020-10-01 16:32:06  11024438       0.0  1325852      61        97   \n",
       "\n",
       "   quantity     sum  is_green  id_group  \n",
       "0       1.0  107.90         0     10004  \n",
       "1       1.0   80.04         0     10004  \n",
       "2       1.0   31.92         1     10091  \n",
       "3       1.0   55.98         0     10091  \n",
       "4       4.0  176.00         0     10091  "
      ]
     },
     "execution_count": 35,
     "metadata": {},
     "output_type": "execute_result"
    }
   ],
   "source": [
    "g_10 = pd.read_csv('./data/10_groups.csv')\n",
    "g_10.head()"
   ]
  },
  {
   "cell_type": "code",
   "execution_count": 36,
   "metadata": {},
   "outputs": [
    {
     "data": {
      "text/html": [
       "<div>\n",
       "<style scoped>\n",
       "    .dataframe tbody tr th:only-of-type {\n",
       "        vertical-align: middle;\n",
       "    }\n",
       "\n",
       "    .dataframe tbody tr th {\n",
       "        vertical-align: top;\n",
       "    }\n",
       "\n",
       "    .dataframe thead th {\n",
       "        text-align: right;\n",
       "    }\n",
       "</style>\n",
       "<table border=\"1\" class=\"dataframe\">\n",
       "  <thead>\n",
       "    <tr style=\"text-align: right;\">\n",
       "      <th></th>\n",
       "      <th>date</th>\n",
       "      <th>id_doc</th>\n",
       "      <th>id_order</th>\n",
       "      <th>id_card</th>\n",
       "      <th>id_tov</th>\n",
       "      <th>id_kontr</th>\n",
       "      <th>quantity</th>\n",
       "      <th>sum</th>\n",
       "      <th>is_green</th>\n",
       "      <th>id_group</th>\n",
       "    </tr>\n",
       "  </thead>\n",
       "  <tbody>\n",
       "    <tr>\n",
       "      <th>0</th>\n",
       "      <td>2020-11-01 15:29:01</td>\n",
       "      <td>3121751</td>\n",
       "      <td>0.0</td>\n",
       "      <td>332351</td>\n",
       "      <td>52</td>\n",
       "      <td>271</td>\n",
       "      <td>1.0</td>\n",
       "      <td>107.98</td>\n",
       "      <td>0</td>\n",
       "      <td>10004</td>\n",
       "    </tr>\n",
       "    <tr>\n",
       "      <th>1</th>\n",
       "      <td>2020-11-01 12:41:10</td>\n",
       "      <td>22047017</td>\n",
       "      <td>8293317.0</td>\n",
       "      <td>1875438</td>\n",
       "      <td>52</td>\n",
       "      <td>-9999</td>\n",
       "      <td>1.0</td>\n",
       "      <td>108.00</td>\n",
       "      <td>0</td>\n",
       "      <td>10004</td>\n",
       "    </tr>\n",
       "    <tr>\n",
       "      <th>2</th>\n",
       "      <td>2020-11-01 13:17:09</td>\n",
       "      <td>6419825</td>\n",
       "      <td>0.0</td>\n",
       "      <td>563112</td>\n",
       "      <td>61</td>\n",
       "      <td>379</td>\n",
       "      <td>2.0</td>\n",
       "      <td>112.00</td>\n",
       "      <td>0</td>\n",
       "      <td>10091</td>\n",
       "    </tr>\n",
       "    <tr>\n",
       "      <th>3</th>\n",
       "      <td>2020-11-01 12:31:31</td>\n",
       "      <td>10284541</td>\n",
       "      <td>0.0</td>\n",
       "      <td>1841710</td>\n",
       "      <td>61</td>\n",
       "      <td>379</td>\n",
       "      <td>1.0</td>\n",
       "      <td>55.91</td>\n",
       "      <td>0</td>\n",
       "      <td>10091</td>\n",
       "    </tr>\n",
       "    <tr>\n",
       "      <th>4</th>\n",
       "      <td>2020-11-01 13:06:15</td>\n",
       "      <td>10424967</td>\n",
       "      <td>0.0</td>\n",
       "      <td>1304277</td>\n",
       "      <td>61</td>\n",
       "      <td>271</td>\n",
       "      <td>2.0</td>\n",
       "      <td>87.80</td>\n",
       "      <td>0</td>\n",
       "      <td>10091</td>\n",
       "    </tr>\n",
       "  </tbody>\n",
       "</table>\n",
       "</div>"
      ],
      "text/plain": [
       "                  date    id_doc   id_order  id_card  id_tov  id_kontr  \\\n",
       "0  2020-11-01 15:29:01   3121751        0.0   332351      52       271   \n",
       "1  2020-11-01 12:41:10  22047017  8293317.0  1875438      52     -9999   \n",
       "2  2020-11-01 13:17:09   6419825        0.0   563112      61       379   \n",
       "3  2020-11-01 12:31:31  10284541        0.0  1841710      61       379   \n",
       "4  2020-11-01 13:06:15  10424967        0.0  1304277      61       271   \n",
       "\n",
       "   quantity     sum  is_green  id_group  \n",
       "0       1.0  107.98         0     10004  \n",
       "1       1.0  108.00         0     10004  \n",
       "2       2.0  112.00         0     10091  \n",
       "3       1.0   55.91         0     10091  \n",
       "4       2.0   87.80         0     10091  "
      ]
     },
     "execution_count": 36,
     "metadata": {},
     "output_type": "execute_result"
    }
   ],
   "source": [
    "g_11 = pd.read_csv('./data/11_groups.csv')\n",
    "g_11.head()"
   ]
  },
  {
   "cell_type": "code",
   "execution_count": 4,
   "metadata": {
    "scrolled": true
   },
   "outputs": [
    {
     "data": {
      "text/html": [
       "<div>\n",
       "<style scoped>\n",
       "    .dataframe tbody tr th:only-of-type {\n",
       "        vertical-align: middle;\n",
       "    }\n",
       "\n",
       "    .dataframe tbody tr th {\n",
       "        vertical-align: top;\n",
       "    }\n",
       "\n",
       "    .dataframe thead th {\n",
       "        text-align: right;\n",
       "    }\n",
       "</style>\n",
       "<table border=\"1\" class=\"dataframe\">\n",
       "  <thead>\n",
       "    <tr style=\"text-align: right;\">\n",
       "      <th></th>\n",
       "      <th>id_tov</th>\n",
       "      <th>id_group</th>\n",
       "      <th>name_group</th>\n",
       "    </tr>\n",
       "  </thead>\n",
       "  <tbody>\n",
       "    <tr>\n",
       "      <th>0</th>\n",
       "      <td>52</td>\n",
       "      <td>10004</td>\n",
       "      <td>Кисломолочные продукты</td>\n",
       "    </tr>\n",
       "    <tr>\n",
       "      <th>1</th>\n",
       "      <td>75</td>\n",
       "      <td>10004</td>\n",
       "      <td>Кисломолочные продукты</td>\n",
       "    </tr>\n",
       "    <tr>\n",
       "      <th>2</th>\n",
       "      <td>77</td>\n",
       "      <td>10004</td>\n",
       "      <td>Кисломолочные продукты</td>\n",
       "    </tr>\n",
       "    <tr>\n",
       "      <th>3</th>\n",
       "      <td>143</td>\n",
       "      <td>10004</td>\n",
       "      <td>Кисломолочные продукты</td>\n",
       "    </tr>\n",
       "    <tr>\n",
       "      <th>4</th>\n",
       "      <td>151</td>\n",
       "      <td>10004</td>\n",
       "      <td>Кисломолочные продукты</td>\n",
       "    </tr>\n",
       "  </tbody>\n",
       "</table>\n",
       "</div>"
      ],
      "text/plain": [
       "   id_tov  id_group              name_group\n",
       "0      52     10004  Кисломолочные продукты\n",
       "1      75     10004  Кисломолочные продукты\n",
       "2      77     10004  Кисломолочные продукты\n",
       "3     143     10004  Кисломолочные продукты\n",
       "4     151     10004  Кисломолочные продукты"
      ]
     },
     "execution_count": 4,
     "metadata": {},
     "output_type": "execute_result"
    }
   ],
   "source": [
    "p_g = pd.read_csv('./data/product_groups.csv', delimiter=';', encoding='windows-1251')\n",
    "p_g.head()"
   ]
  },
  {
   "cell_type": "code",
   "execution_count": 4,
   "metadata": {},
   "outputs": [
    {
     "data": {
      "text/html": [
       "<div>\n",
       "<style scoped>\n",
       "    .dataframe tbody tr th:only-of-type {\n",
       "        vertical-align: middle;\n",
       "    }\n",
       "\n",
       "    .dataframe tbody tr th {\n",
       "        vertical-align: top;\n",
       "    }\n",
       "\n",
       "    .dataframe thead th {\n",
       "        text-align: right;\n",
       "    }\n",
       "</style>\n",
       "<table border=\"1\" class=\"dataframe\">\n",
       "  <thead>\n",
       "    <tr style=\"text-align: right;\">\n",
       "      <th></th>\n",
       "      <th>id_card</th>\n",
       "    </tr>\n",
       "  </thead>\n",
       "  <tbody>\n",
       "    <tr>\n",
       "      <th>0</th>\n",
       "      <td>806096</td>\n",
       "    </tr>\n",
       "    <tr>\n",
       "      <th>1</th>\n",
       "      <td>1438102</td>\n",
       "    </tr>\n",
       "    <tr>\n",
       "      <th>2</th>\n",
       "      <td>72344</td>\n",
       "    </tr>\n",
       "    <tr>\n",
       "      <th>3</th>\n",
       "      <td>427981</td>\n",
       "    </tr>\n",
       "    <tr>\n",
       "      <th>4</th>\n",
       "      <td>1528414</td>\n",
       "    </tr>\n",
       "  </tbody>\n",
       "</table>\n",
       "</div>"
      ],
      "text/plain": [
       "   id_card\n",
       "0   806096\n",
       "1  1438102\n",
       "2    72344\n",
       "3   427981\n",
       "4  1528414"
      ]
     },
     "execution_count": 4,
     "metadata": {},
     "output_type": "execute_result"
    }
   ],
   "source": [
    "bad_ids = pd.read_excel('./data/bad_ids.xlsx')\n",
    "del bad_ids['Unnamed: 0']\n",
    "bad_ids.head()"
   ]
  },
  {
   "cell_type": "code",
   "execution_count": 5,
   "metadata": {},
   "outputs": [
    {
     "data": {
      "text/html": [
       "<div>\n",
       "<style scoped>\n",
       "    .dataframe tbody tr th:only-of-type {\n",
       "        vertical-align: middle;\n",
       "    }\n",
       "\n",
       "    .dataframe tbody tr th {\n",
       "        vertical-align: top;\n",
       "    }\n",
       "\n",
       "    .dataframe thead th {\n",
       "        text-align: right;\n",
       "    }\n",
       "</style>\n",
       "<table border=\"1\" class=\"dataframe\">\n",
       "  <thead>\n",
       "    <tr style=\"text-align: right;\">\n",
       "      <th></th>\n",
       "      <th>date</th>\n",
       "      <th>id_doc</th>\n",
       "      <th>id_order</th>\n",
       "      <th>id_card</th>\n",
       "      <th>id_tov</th>\n",
       "      <th>id_kontr</th>\n",
       "      <th>quantity</th>\n",
       "      <th>sum</th>\n",
       "      <th>is_green</th>\n",
       "      <th>id_group</th>\n",
       "    </tr>\n",
       "  </thead>\n",
       "  <tbody>\n",
       "    <tr>\n",
       "      <th>0</th>\n",
       "      <td>2020-09-01 17:01:25</td>\n",
       "      <td>1283228</td>\n",
       "      <td>0.0</td>\n",
       "      <td>1538855</td>\n",
       "      <td>52</td>\n",
       "      <td>271</td>\n",
       "      <td>1.0</td>\n",
       "      <td>108.00</td>\n",
       "      <td>0</td>\n",
       "      <td>10004</td>\n",
       "    </tr>\n",
       "    <tr>\n",
       "      <th>1</th>\n",
       "      <td>2020-09-01 17:35:36</td>\n",
       "      <td>8873113</td>\n",
       "      <td>0.0</td>\n",
       "      <td>267307</td>\n",
       "      <td>52</td>\n",
       "      <td>271</td>\n",
       "      <td>1.0</td>\n",
       "      <td>108.00</td>\n",
       "      <td>0</td>\n",
       "      <td>10004</td>\n",
       "    </tr>\n",
       "    <tr>\n",
       "      <th>2</th>\n",
       "      <td>2020-09-01 19:19:21</td>\n",
       "      <td>12712899</td>\n",
       "      <td>0.0</td>\n",
       "      <td>610220</td>\n",
       "      <td>52</td>\n",
       "      <td>271</td>\n",
       "      <td>1.0</td>\n",
       "      <td>107.95</td>\n",
       "      <td>0</td>\n",
       "      <td>10004</td>\n",
       "    </tr>\n",
       "    <tr>\n",
       "      <th>3</th>\n",
       "      <td>2020-09-01 21:53:34</td>\n",
       "      <td>21535283</td>\n",
       "      <td>0.0</td>\n",
       "      <td>441497</td>\n",
       "      <td>52</td>\n",
       "      <td>271</td>\n",
       "      <td>1.0</td>\n",
       "      <td>108.00</td>\n",
       "      <td>0</td>\n",
       "      <td>10004</td>\n",
       "    </tr>\n",
       "    <tr>\n",
       "      <th>4</th>\n",
       "      <td>2020-09-01 18:42:31</td>\n",
       "      <td>642341</td>\n",
       "      <td>0.0</td>\n",
       "      <td>1065358</td>\n",
       "      <td>61</td>\n",
       "      <td>97</td>\n",
       "      <td>2.0</td>\n",
       "      <td>88.00</td>\n",
       "      <td>0</td>\n",
       "      <td>10091</td>\n",
       "    </tr>\n",
       "  </tbody>\n",
       "</table>\n",
       "</div>"
      ],
      "text/plain": [
       "                  date    id_doc  id_order  id_card  id_tov  id_kontr  \\\n",
       "0  2020-09-01 17:01:25   1283228       0.0  1538855      52       271   \n",
       "1  2020-09-01 17:35:36   8873113       0.0   267307      52       271   \n",
       "2  2020-09-01 19:19:21  12712899       0.0   610220      52       271   \n",
       "3  2020-09-01 21:53:34  21535283       0.0   441497      52       271   \n",
       "4  2020-09-01 18:42:31    642341       0.0  1065358      61        97   \n",
       "\n",
       "   quantity     sum  is_green  id_group  \n",
       "0       1.0  108.00         0     10004  \n",
       "1       1.0  108.00         0     10004  \n",
       "2       1.0  107.95         0     10004  \n",
       "3       1.0  108.00         0     10004  \n",
       "4       2.0   88.00         0     10091  "
      ]
     },
     "execution_count": 5,
     "metadata": {},
     "output_type": "execute_result"
    }
   ],
   "source": [
    "bad_set = set(bad_ids['id_card'])\n",
    "g_9_filtered = g_9[~g_9['id_card'].isin(bad_set)]\n",
    "g_9_filtered.head()"
   ]
  },
  {
   "cell_type": "code",
   "execution_count": 154,
   "metadata": {},
   "outputs": [
    {
     "data": {
      "text/plain": [
       "array([ 1,  2,  3,  4,  5,  6,  7,  8,  9, 10, 11, 12, 13, 14, 15, 16, 17,\n",
       "       18, 19, 20, 21, 22, 23, 24, 25, 26, 27, 28, 29, 30])"
      ]
     },
     "execution_count": 154,
     "metadata": {},
     "output_type": "execute_result"
    }
   ],
   "source": [
    "g_9_filtered['day'].unique()"
   ]
  },
  {
   "cell_type": "markdown",
   "metadata": {},
   "source": [
    "## Task 1\n",
    "\n",
    "Prove that buying discounted products depends on the average order sum. (It is more probable that the discounted product will be bought if bunch of money is going to be spend)"
   ]
  },
  {
   "cell_type": "markdown",
   "metadata": {},
   "source": [
    "We want to test if there is significant difference between orders with discounted product and without discounted products. Let H<sub>0</sub> be that there is no differnece between order sum of orders with discounted products and without."
   ]
  },
  {
   "cell_type": "code",
   "execution_count": 6,
   "metadata": {},
   "outputs": [],
   "source": [
    "disc_id_doc_set = set(g_9_filtered[g_9_filtered['is_green'] == 1]['id_doc'])"
   ]
  },
  {
   "cell_type": "code",
   "execution_count": 15,
   "metadata": {},
   "outputs": [],
   "source": [
    "discount_sum_9 = g_9_filtered[g_9_filtered['id_doc'].isin(disc_id_doc_set)].groupby(by=['id_doc'])['sum'].sum()"
   ]
  },
  {
   "cell_type": "code",
   "execution_count": 9,
   "metadata": {},
   "outputs": [
    {
     "data": {
      "text/plain": [
       "id_doc\n",
       "19     200.0\n",
       "60      54.6\n",
       "76     114.6\n",
       "138     93.0\n",
       "152    187.6\n",
       "Name: sum, dtype: float64"
      ]
     },
     "execution_count": 9,
     "metadata": {},
     "output_type": "execute_result"
    }
   ],
   "source": [
    "discount_sum_9.head()"
   ]
  },
  {
   "cell_type": "code",
   "execution_count": 20,
   "metadata": {},
   "outputs": [
    {
     "data": {
      "text/plain": [
       "(603.6524604761845, 359910.94716390467)"
      ]
     },
     "execution_count": 20,
     "metadata": {},
     "output_type": "execute_result"
    }
   ],
   "source": [
    "discount_sum_9.mean(), discount_sum_9.var()"
   ]
  },
  {
   "cell_type": "code",
   "execution_count": 12,
   "metadata": {},
   "outputs": [
    {
     "data": {
      "text/plain": [
       "(1064042,)"
      ]
     },
     "execution_count": 12,
     "metadata": {},
     "output_type": "execute_result"
    }
   ],
   "source": [
    "discount_sum_9.shape"
   ]
  },
  {
   "cell_type": "code",
   "execution_count": 14,
   "metadata": {},
   "outputs": [],
   "source": [
    "not_discount_sum_9 = g_9_filtered[~g_9_filtered['id_doc'].isin(disc_id_doc_set)].groupby(by=['id_doc'])['sum'].sum()"
   ]
  },
  {
   "cell_type": "code",
   "execution_count": 16,
   "metadata": {},
   "outputs": [
    {
     "data": {
      "text/plain": [
       "id_doc\n",
       "2      396.00\n",
       "4     1597.00\n",
       "5      254.00\n",
       "16     709.06\n",
       "18     707.00\n",
       "Name: sum, dtype: float64"
      ]
     },
     "execution_count": 16,
     "metadata": {},
     "output_type": "execute_result"
    }
   ],
   "source": [
    "not_discount_sum_9.head()"
   ]
  },
  {
   "cell_type": "code",
   "execution_count": 21,
   "metadata": {},
   "outputs": [
    {
     "data": {
      "text/plain": [
       "(653.2083108292152, 480486.7904774185)"
      ]
     },
     "execution_count": 21,
     "metadata": {},
     "output_type": "execute_result"
    }
   ],
   "source": [
    "not_discount_sum_9.mean(), not_discount_sum_9.var()"
   ]
  },
  {
   "cell_type": "code",
   "execution_count": 18,
   "metadata": {},
   "outputs": [
    {
     "data": {
      "text/plain": [
       "(5840783,)"
      ]
     },
     "execution_count": 18,
     "metadata": {},
     "output_type": "execute_result"
    }
   ],
   "source": [
    "not_discount_sum_9.shape"
   ]
  },
  {
   "cell_type": "code",
   "execution_count": 40,
   "metadata": {},
   "outputs": [
    {
     "data": {
      "text/plain": [
       "Ttest_indResult(statistic=-55.11290685538025, pvalue=0.0)"
      ]
     },
     "execution_count": 40,
     "metadata": {},
     "output_type": "execute_result"
    }
   ],
   "source": [
    "stats.ttest_ind(discount_sum_9, not_discount_sum_9.sample(discount_sum_9.shape[0]))"
   ]
  },
  {
   "cell_type": "code",
   "execution_count": 106,
   "metadata": {},
   "outputs": [
    {
     "data": {
      "text/plain": [
       "SpearmanrResult(correlation=-0.0025348075480587707, pvalue=0.008930161189452567)"
      ]
     },
     "execution_count": 106,
     "metadata": {},
     "output_type": "execute_result"
    }
   ],
   "source": [
    "stats.spearmanr(discount_sum_9, not_discount_sum_9.sample(discount_sum_9.shape[0]))"
   ]
  },
  {
   "cell_type": "code",
   "execution_count": 111,
   "metadata": {},
   "outputs": [
    {
     "data": {
      "text/plain": [
       "(-0.0014731864458552475, 0.12860490264794489)"
      ]
     },
     "execution_count": 111,
     "metadata": {},
     "output_type": "execute_result"
    }
   ],
   "source": [
    "stats.pearsonr(discount_sum_9, not_discount_sum_9.sample(discount_sum_9.shape[0]))"
   ]
  },
  {
   "cell_type": "markdown",
   "metadata": {},
   "source": [
    "P-value is zero (or close to zero, depends on how the pd samples), this means that H<sub>0</sub> is rejected. However this may mean that orders with discount significantly higher or significantly lower. Mean of orders with discount is lower than that of without discount, this means that orders without discount have significatnly higher sum and thus it is less probable for a discounted item to be bought if the sum of the order is higher."
   ]
  },
  {
   "cell_type": "markdown",
   "metadata": {},
   "source": [
    "## Task 2\n",
    "Prove that the frequency of shopping grows around the wage taking days."
   ]
  },
  {
   "cell_type": "code",
   "execution_count": 153,
   "metadata": {},
   "outputs": [
    {
     "name": "stderr",
     "output_type": "stream",
     "text": [
      "<ipython-input-153-9be332515df3>:1: SettingWithCopyWarning: \n",
      "A value is trying to be set on a copy of a slice from a DataFrame.\n",
      "Try using .loc[row_indexer,col_indexer] = value instead\n",
      "\n",
      "See the caveats in the documentation: https://pandas.pydata.org/pandas-docs/stable/user_guide/indexing.html#returning-a-view-versus-a-copy\n",
      "  g_9_filtered['date'] = pd.to_datetime(g_9_filtered['date'],format='%Y-%m-%d %H:%M:%S')\n",
      "<ipython-input-153-9be332515df3>:2: SettingWithCopyWarning: \n",
      "A value is trying to be set on a copy of a slice from a DataFrame.\n",
      "Try using .loc[row_indexer,col_indexer] = value instead\n",
      "\n",
      "See the caveats in the documentation: https://pandas.pydata.org/pandas-docs/stable/user_guide/indexing.html#returning-a-view-versus-a-copy\n",
      "  g_9_filtered['day'] = g_9_filtered['date'].dt.day\n"
     ]
    }
   ],
   "source": [
    "g_9_filtered['date'] = pd.to_datetime(g_9_filtered['date'],format='%Y-%m-%d %H:%M:%S')\n",
    "g_9_filtered['day'] = g_9_filtered['date'].dt.day"
   ]
  },
  {
   "cell_type": "code",
   "execution_count": 290,
   "metadata": {},
   "outputs": [
    {
     "data": {
      "text/html": [
       "<div>\n",
       "<style scoped>\n",
       "    .dataframe tbody tr th:only-of-type {\n",
       "        vertical-align: middle;\n",
       "    }\n",
       "\n",
       "    .dataframe tbody tr th {\n",
       "        vertical-align: top;\n",
       "    }\n",
       "\n",
       "    .dataframe thead th {\n",
       "        text-align: right;\n",
       "    }\n",
       "</style>\n",
       "<table border=\"1\" class=\"dataframe\">\n",
       "  <thead>\n",
       "    <tr style=\"text-align: right;\">\n",
       "      <th></th>\n",
       "      <th>date</th>\n",
       "      <th>id_doc</th>\n",
       "      <th>id_order</th>\n",
       "      <th>id_card</th>\n",
       "      <th>id_tov</th>\n",
       "      <th>id_kontr</th>\n",
       "      <th>quantity</th>\n",
       "      <th>sum</th>\n",
       "      <th>is_green</th>\n",
       "      <th>id_group</th>\n",
       "      <th>day</th>\n",
       "      <th>week</th>\n",
       "    </tr>\n",
       "  </thead>\n",
       "  <tbody>\n",
       "    <tr>\n",
       "      <th>0</th>\n",
       "      <td>2020-09-01 17:01:25</td>\n",
       "      <td>1283228</td>\n",
       "      <td>0.0</td>\n",
       "      <td>1538855</td>\n",
       "      <td>52</td>\n",
       "      <td>271</td>\n",
       "      <td>1.0</td>\n",
       "      <td>108.00</td>\n",
       "      <td>0</td>\n",
       "      <td>10004</td>\n",
       "      <td>1</td>\n",
       "      <td>36</td>\n",
       "    </tr>\n",
       "    <tr>\n",
       "      <th>1</th>\n",
       "      <td>2020-09-01 17:35:36</td>\n",
       "      <td>8873113</td>\n",
       "      <td>0.0</td>\n",
       "      <td>267307</td>\n",
       "      <td>52</td>\n",
       "      <td>271</td>\n",
       "      <td>1.0</td>\n",
       "      <td>108.00</td>\n",
       "      <td>0</td>\n",
       "      <td>10004</td>\n",
       "      <td>1</td>\n",
       "      <td>36</td>\n",
       "    </tr>\n",
       "    <tr>\n",
       "      <th>2</th>\n",
       "      <td>2020-09-01 19:19:21</td>\n",
       "      <td>12712899</td>\n",
       "      <td>0.0</td>\n",
       "      <td>610220</td>\n",
       "      <td>52</td>\n",
       "      <td>271</td>\n",
       "      <td>1.0</td>\n",
       "      <td>107.95</td>\n",
       "      <td>0</td>\n",
       "      <td>10004</td>\n",
       "      <td>1</td>\n",
       "      <td>36</td>\n",
       "    </tr>\n",
       "    <tr>\n",
       "      <th>3</th>\n",
       "      <td>2020-09-01 21:53:34</td>\n",
       "      <td>21535283</td>\n",
       "      <td>0.0</td>\n",
       "      <td>441497</td>\n",
       "      <td>52</td>\n",
       "      <td>271</td>\n",
       "      <td>1.0</td>\n",
       "      <td>108.00</td>\n",
       "      <td>0</td>\n",
       "      <td>10004</td>\n",
       "      <td>1</td>\n",
       "      <td>36</td>\n",
       "    </tr>\n",
       "    <tr>\n",
       "      <th>4</th>\n",
       "      <td>2020-09-01 18:42:31</td>\n",
       "      <td>642341</td>\n",
       "      <td>0.0</td>\n",
       "      <td>1065358</td>\n",
       "      <td>61</td>\n",
       "      <td>97</td>\n",
       "      <td>2.0</td>\n",
       "      <td>88.00</td>\n",
       "      <td>0</td>\n",
       "      <td>10091</td>\n",
       "      <td>1</td>\n",
       "      <td>36</td>\n",
       "    </tr>\n",
       "  </tbody>\n",
       "</table>\n",
       "</div>"
      ],
      "text/plain": [
       "                 date    id_doc  id_order  id_card  id_tov  id_kontr  \\\n",
       "0 2020-09-01 17:01:25   1283228       0.0  1538855      52       271   \n",
       "1 2020-09-01 17:35:36   8873113       0.0   267307      52       271   \n",
       "2 2020-09-01 19:19:21  12712899       0.0   610220      52       271   \n",
       "3 2020-09-01 21:53:34  21535283       0.0   441497      52       271   \n",
       "4 2020-09-01 18:42:31    642341       0.0  1065358      61        97   \n",
       "\n",
       "   quantity     sum  is_green  id_group  day  week  \n",
       "0       1.0  108.00         0     10004    1    36  \n",
       "1       1.0  108.00         0     10004    1    36  \n",
       "2       1.0  107.95         0     10004    1    36  \n",
       "3       1.0  108.00         0     10004    1    36  \n",
       "4       2.0   88.00         0     10091    1    36  "
      ]
     },
     "execution_count": 290,
     "metadata": {},
     "output_type": "execute_result"
    }
   ],
   "source": [
    "g_9_filtered.head()"
   ]
  },
  {
   "cell_type": "code",
   "execution_count": 117,
   "metadata": {
    "scrolled": true
   },
   "outputs": [
    {
     "data": {
      "text/plain": [
       "day\n",
       "1     1269893\n",
       "2     1285415\n",
       "3     1287425\n",
       "4     1270192\n",
       "5     1053459\n",
       "6     1158077\n",
       "7     1371646\n",
       "8     1227093\n",
       "9     1336351\n",
       "10    1305395\n",
       "11    1284777\n",
       "12    1087414\n",
       "13    1168560\n",
       "14    1370166\n",
       "15    1316259\n",
       "16    1326892\n",
       "17    1181904\n",
       "18    1429865\n",
       "19    1168649\n",
       "20    1206583\n",
       "21    1370546\n",
       "22    1352159\n",
       "23    1343573\n",
       "24    1336031\n",
       "25    1364338\n",
       "26    1130494\n",
       "27    1220942\n",
       "28    1415253\n",
       "29    1411357\n",
       "30    1415295\n",
       "Name: id_doc, dtype: int64"
      ]
     },
     "execution_count": 117,
     "metadata": {},
     "output_type": "execute_result"
    }
   ],
   "source": [
    "day_count = g_9_filtered[['id_doc', 'day']].groupby('day')['id_doc'].count()\n",
    "day_count"
   ]
  },
  {
   "cell_type": "code",
   "execution_count": 136,
   "metadata": {},
   "outputs": [
    {
     "data": {
      "text/plain": [
       "[<matplotlib.lines.Line2D at 0x7fd4e84566d0>]"
      ]
     },
     "execution_count": 136,
     "metadata": {},
     "output_type": "execute_result"
    },
    {
     "data": {
      "image/png": "[encoded data removed]",
      "text/plain": [
       "<Figure size 432x288 with 1 Axes>"
      ]
     },
     "metadata": {
      "needs_background": "light"
     },
     "output_type": "display_data"
    }
   ],
   "source": [
    "plt.plot(day_count)"
   ]
  },
  {
   "cell_type": "code",
   "execution_count": 129,
   "metadata": {},
   "outputs": [],
   "source": [
    "day_count = list(day_count)"
   ]
  },
  {
   "cell_type": "code",
   "execution_count": 130,
   "metadata": {},
   "outputs": [
    {
     "data": {
      "text/plain": [
       "([1269893,\n",
       "  1285415,\n",
       "  1287425,\n",
       "  1270192,\n",
       "  1053459,\n",
       "  1158077,\n",
       "  1371646,\n",
       "  1370546,\n",
       "  1352159,\n",
       "  1343573,\n",
       "  1336031,\n",
       "  1364338,\n",
       "  1130494,\n",
       "  1220942],\n",
       " [1227093,\n",
       "  1336351,\n",
       "  1305395,\n",
       "  1284777,\n",
       "  1087414,\n",
       "  1168560,\n",
       "  1370166,\n",
       "  1316259,\n",
       "  1326892,\n",
       "  1181904,\n",
       "  1429865,\n",
       "  1168649,\n",
       "  1206583,\n",
       "  1415253,\n",
       "  1411357,\n",
       "  1415295])"
      ]
     },
     "execution_count": 130,
     "metadata": {},
     "output_type": "execute_result"
    }
   ],
   "source": [
    "wage = day_count[:7]+day_count[20:27]\n",
    "no_wage = day_count[7:20]+day_count[27:]\n",
    "wage, no_wage"
   ]
  },
  {
   "cell_type": "code",
   "execution_count": 140,
   "metadata": {},
   "outputs": [
    {
     "data": {
      "text/plain": [
       "Ttest_indResult(statistic=-0.4851982460193491, pvalue=0.631310492438756)"
      ]
     },
     "execution_count": 140,
     "metadata": {},
     "output_type": "execute_result"
    }
   ],
   "source": [
    "stats.ttest_ind(wage, no_wage)"
   ]
  },
  {
   "cell_type": "markdown",
   "metadata": {},
   "source": [
    "P-value is quiter large and this may mean that there is no significant difference between wage and no wage days. "
   ]
  },
  {
   "cell_type": "markdown",
   "metadata": {},
   "source": [
    "## Task 3\n",
    "Define such cohort existance:\n",
    "1. Frequent buyers - The users that are shopping frequently(daily, weekly, monthly) \n",
    "2. Average purchase sum - The customers that usually spend the same amount of money \n",
    "3. Orders amount - The customers grouped by the total numer of orders \n",
    "4. Usual cart - The customers grouped by the product groups\n",
    "\n",
    "References\n",
    "- https://towardsdatascience.com/a-step-by-step-introduction-to-cohort-analysis-in-python-a2cbbd8460ea"
   ]
  },
  {
   "cell_type": "markdown",
   "metadata": {},
   "source": [
    "## Frequent Buyers"
   ]
  },
  {
   "cell_type": "code",
   "execution_count": 155,
   "metadata": {},
   "outputs": [
    {
     "name": "stderr",
     "output_type": "stream",
     "text": [
      "<ipython-input-155-798a9899c6fd>:1: FutureWarning: Series.dt.weekofyear and Series.dt.week have been deprecated.  Please use Series.dt.isocalendar().week instead.\n",
      "  g_9_filtered['week'] = g_9_filtered['date'].dt.week\n",
      "<ipython-input-155-798a9899c6fd>:1: SettingWithCopyWarning: \n",
      "A value is trying to be set on a copy of a slice from a DataFrame.\n",
      "Try using .loc[row_indexer,col_indexer] = value instead\n",
      "\n",
      "See the caveats in the documentation: https://pandas.pydata.org/pandas-docs/stable/user_guide/indexing.html#returning-a-view-versus-a-copy\n",
      "  g_9_filtered['week'] = g_9_filtered['date'].dt.week\n"
     ]
    }
   ],
   "source": [
    "g_9_filtered['week'] = g_9_filtered['date'].dt.week"
   ]
  },
  {
   "cell_type": "code",
   "execution_count": 165,
   "metadata": {},
   "outputs": [],
   "source": [
    "filter_days = g_9_filtered[['day', 'id_card']].drop_duplicates()"
   ]
  },
  {
   "cell_type": "code",
   "execution_count": 157,
   "metadata": {},
   "outputs": [
    {
     "data": {
      "text/html": [
       "<div>\n",
       "<style scoped>\n",
       "    .dataframe tbody tr th:only-of-type {\n",
       "        vertical-align: middle;\n",
       "    }\n",
       "\n",
       "    .dataframe tbody tr th {\n",
       "        vertical-align: top;\n",
       "    }\n",
       "\n",
       "    .dataframe thead th {\n",
       "        text-align: right;\n",
       "    }\n",
       "</style>\n",
       "<table border=\"1\" class=\"dataframe\">\n",
       "  <thead>\n",
       "    <tr style=\"text-align: right;\">\n",
       "      <th></th>\n",
       "      <th>day</th>\n",
       "      <th>id_card</th>\n",
       "      <th>id_doc</th>\n",
       "    </tr>\n",
       "  </thead>\n",
       "  <tbody>\n",
       "    <tr>\n",
       "      <th>0</th>\n",
       "      <td>1</td>\n",
       "      <td>1538855</td>\n",
       "      <td>1283228</td>\n",
       "    </tr>\n",
       "    <tr>\n",
       "      <th>1</th>\n",
       "      <td>1</td>\n",
       "      <td>267307</td>\n",
       "      <td>8873113</td>\n",
       "    </tr>\n",
       "    <tr>\n",
       "      <th>2</th>\n",
       "      <td>1</td>\n",
       "      <td>610220</td>\n",
       "      <td>12712899</td>\n",
       "    </tr>\n",
       "    <tr>\n",
       "      <th>3</th>\n",
       "      <td>1</td>\n",
       "      <td>441497</td>\n",
       "      <td>21535283</td>\n",
       "    </tr>\n",
       "    <tr>\n",
       "      <th>4</th>\n",
       "      <td>1</td>\n",
       "      <td>1065358</td>\n",
       "      <td>642341</td>\n",
       "    </tr>\n",
       "  </tbody>\n",
       "</table>\n",
       "</div>"
      ],
      "text/plain": [
       "   day  id_card    id_doc\n",
       "0    1  1538855   1283228\n",
       "1    1   267307   8873113\n",
       "2    1   610220  12712899\n",
       "3    1   441497  21535283\n",
       "4    1  1065358    642341"
      ]
     },
     "execution_count": 157,
     "metadata": {},
     "output_type": "execute_result"
    }
   ],
   "source": [
    "filter_days.head()"
   ]
  },
  {
   "cell_type": "code",
   "execution_count": 174,
   "metadata": {},
   "outputs": [
    {
     "data": {
      "text/plain": [
       "id_card\n",
       "0    10\n",
       "1     1\n",
       "2     1\n",
       "3     8\n",
       "4     5\n",
       "Name: day, dtype: int64"
      ]
     },
     "execution_count": 174,
     "metadata": {},
     "output_type": "execute_result"
    }
   ],
   "source": [
    "day_count = filter_days[['day','id_card']].groupby(by='id_card')['day'].count()\n",
    "day_count.head()"
   ]
  },
  {
   "cell_type": "code",
   "execution_count": 175,
   "metadata": {},
   "outputs": [
    {
     "data": {
      "text/plain": [
       "id_card\n",
       "921851      1\n",
       "549409      1\n",
       "1340785     1\n",
       "1340786     1\n",
       "549405      1\n",
       "           ..\n",
       "1334945    30\n",
       "1790219    30\n",
       "1572850    30\n",
       "6183       30\n",
       "1507020    30\n",
       "Name: day, Length: 1333958, dtype: int64"
      ]
     },
     "execution_count": 175,
     "metadata": {},
     "output_type": "execute_result"
    }
   ],
   "source": [
    "day_count.sort_values()"
   ]
  },
  {
   "cell_type": "code",
   "execution_count": 176,
   "metadata": {},
   "outputs": [
    {
     "data": {
      "text/plain": [
       "id_card\n",
       "5096       30\n",
       "6183       30\n",
       "7627       29\n",
       "57303      30\n",
       "58154      30\n",
       "           ..\n",
       "1794521    29\n",
       "1804583    30\n",
       "1806522    29\n",
       "1824958    30\n",
       "1838590    29\n",
       "Name: day, Length: 163, dtype: int64"
      ]
     },
     "execution_count": 176,
     "metadata": {},
     "output_type": "execute_result"
    }
   ],
   "source": [
    "day_count[day_count>28]"
   ]
  },
  {
   "cell_type": "markdown",
   "metadata": {},
   "source": [
    "There are people that come daily or almost daily (and people that come ones a month)"
   ]
  },
  {
   "cell_type": "code",
   "execution_count": 171,
   "metadata": {},
   "outputs": [
    {
     "data": {
      "text/html": [
       "<div>\n",
       "<style scoped>\n",
       "    .dataframe tbody tr th:only-of-type {\n",
       "        vertical-align: middle;\n",
       "    }\n",
       "\n",
       "    .dataframe tbody tr th {\n",
       "        vertical-align: top;\n",
       "    }\n",
       "\n",
       "    .dataframe thead th {\n",
       "        text-align: right;\n",
       "    }\n",
       "</style>\n",
       "<table border=\"1\" class=\"dataframe\">\n",
       "  <thead>\n",
       "    <tr style=\"text-align: right;\">\n",
       "      <th></th>\n",
       "      <th>week</th>\n",
       "      <th>id_card</th>\n",
       "    </tr>\n",
       "  </thead>\n",
       "  <tbody>\n",
       "    <tr>\n",
       "      <th>0</th>\n",
       "      <td>36</td>\n",
       "      <td>1538855</td>\n",
       "    </tr>\n",
       "    <tr>\n",
       "      <th>1</th>\n",
       "      <td>36</td>\n",
       "      <td>267307</td>\n",
       "    </tr>\n",
       "    <tr>\n",
       "      <th>2</th>\n",
       "      <td>36</td>\n",
       "      <td>610220</td>\n",
       "    </tr>\n",
       "    <tr>\n",
       "      <th>3</th>\n",
       "      <td>36</td>\n",
       "      <td>441497</td>\n",
       "    </tr>\n",
       "    <tr>\n",
       "      <th>4</th>\n",
       "      <td>36</td>\n",
       "      <td>1065358</td>\n",
       "    </tr>\n",
       "  </tbody>\n",
       "</table>\n",
       "</div>"
      ],
      "text/plain": [
       "   week  id_card\n",
       "0    36  1538855\n",
       "1    36   267307\n",
       "2    36   610220\n",
       "3    36   441497\n",
       "4    36  1065358"
      ]
     },
     "execution_count": 171,
     "metadata": {},
     "output_type": "execute_result"
    }
   ],
   "source": [
    "filter_weeks = g_9_filtered[['week', 'id_card']].drop_duplicates()\n",
    "filter_weeks.head()"
   ]
  },
  {
   "cell_type": "code",
   "execution_count": 172,
   "metadata": {},
   "outputs": [
    {
     "data": {
      "text/plain": [
       "id_card\n",
       "0    4\n",
       "1    1\n",
       "2    1\n",
       "3    5\n",
       "4    3\n",
       "Name: week, dtype: int64"
      ]
     },
     "execution_count": 172,
     "metadata": {},
     "output_type": "execute_result"
    }
   ],
   "source": [
    "week_count = filter_weeks[['week','id_card']].groupby(by='id_card')['week'].count()\n",
    "week_count.head()"
   ]
  },
  {
   "cell_type": "code",
   "execution_count": 173,
   "metadata": {
    "scrolled": false
   },
   "outputs": [
    {
     "data": {
      "text/plain": [
       "id_card\n",
       "921851     1\n",
       "894123     1\n",
       "1545583    1\n",
       "1545589    1\n",
       "480611     1\n",
       "          ..\n",
       "812827     5\n",
       "371521     5\n",
       "1624867    5\n",
       "1625203    5\n",
       "1124830    5\n",
       "Name: week, Length: 1333958, dtype: int64"
      ]
     },
     "execution_count": 173,
     "metadata": {},
     "output_type": "execute_result"
    }
   ],
   "source": [
    "week_count.sort_values()"
   ]
  },
  {
   "cell_type": "markdown",
   "metadata": {},
   "source": [
    "And people that come weekly."
   ]
  },
  {
   "cell_type": "markdown",
   "metadata": {},
   "source": [
    "## Average purchase sum"
   ]
  },
  {
   "cell_type": "code",
   "execution_count": 205,
   "metadata": {
    "scrolled": true
   },
   "outputs": [],
   "source": [
    "mean = g_9_filtered.groupby(['id_doc', 'id_card']).agg(sum=('sum', 'sum'))\n",
    "mean = mean.reset_index()"
   ]
  },
  {
   "cell_type": "code",
   "execution_count": 263,
   "metadata": {},
   "outputs": [
    {
     "data": {
      "text/html": [
       "<div>\n",
       "<style scoped>\n",
       "    .dataframe tbody tr th:only-of-type {\n",
       "        vertical-align: middle;\n",
       "    }\n",
       "\n",
       "    .dataframe tbody tr th {\n",
       "        vertical-align: top;\n",
       "    }\n",
       "\n",
       "    .dataframe thead th {\n",
       "        text-align: right;\n",
       "    }\n",
       "</style>\n",
       "<table border=\"1\" class=\"dataframe\">\n",
       "  <thead>\n",
       "    <tr style=\"text-align: right;\">\n",
       "      <th></th>\n",
       "      <th>id_card</th>\n",
       "      <th>count</th>\n",
       "      <th>std</th>\n",
       "    </tr>\n",
       "  </thead>\n",
       "  <tbody>\n",
       "    <tr>\n",
       "      <th>0</th>\n",
       "      <td>0</td>\n",
       "      <td>10</td>\n",
       "      <td>217.845882</td>\n",
       "    </tr>\n",
       "    <tr>\n",
       "      <th>1</th>\n",
       "      <td>3</td>\n",
       "      <td>9</td>\n",
       "      <td>249.674631</td>\n",
       "    </tr>\n",
       "    <tr>\n",
       "      <th>2</th>\n",
       "      <td>4</td>\n",
       "      <td>5</td>\n",
       "      <td>480.021854</td>\n",
       "    </tr>\n",
       "    <tr>\n",
       "      <th>3</th>\n",
       "      <td>10</td>\n",
       "      <td>9</td>\n",
       "      <td>430.796019</td>\n",
       "    </tr>\n",
       "    <tr>\n",
       "      <th>4</th>\n",
       "      <td>11</td>\n",
       "      <td>7</td>\n",
       "      <td>415.611142</td>\n",
       "    </tr>\n",
       "  </tbody>\n",
       "</table>\n",
       "</div>"
      ],
      "text/plain": [
       "   id_card  count         std\n",
       "0        0     10  217.845882\n",
       "1        3      9  249.674631\n",
       "2        4      5  480.021854\n",
       "3       10      9  430.796019\n",
       "4       11      7  415.611142"
      ]
     },
     "execution_count": 263,
     "metadata": {},
     "output_type": "execute_result"
    }
   ],
   "source": [
    "std = mean.groupby('id_card').agg(count=('id_doc', 'count'), std=('sum', 'std'))\n",
    "std = std[std['count'] >= 5]\n",
    "std = std.reset_index()\n",
    "std.head()        "
   ]
  },
  {
   "cell_type": "code",
   "execution_count": 220,
   "metadata": {},
   "outputs": [
    {
     "data": {
      "text/html": [
       "<div>\n",
       "<style scoped>\n",
       "    .dataframe tbody tr th:only-of-type {\n",
       "        vertical-align: middle;\n",
       "    }\n",
       "\n",
       "    .dataframe tbody tr th {\n",
       "        vertical-align: top;\n",
       "    }\n",
       "\n",
       "    .dataframe thead th {\n",
       "        text-align: right;\n",
       "    }\n",
       "</style>\n",
       "<table border=\"1\" class=\"dataframe\">\n",
       "  <thead>\n",
       "    <tr style=\"text-align: right;\">\n",
       "      <th></th>\n",
       "      <th>id_card</th>\n",
       "      <th>count</th>\n",
       "      <th>std</th>\n",
       "    </tr>\n",
       "  </thead>\n",
       "  <tbody>\n",
       "    <tr>\n",
       "      <th>8</th>\n",
       "      <td>17</td>\n",
       "      <td>6</td>\n",
       "      <td>40.386021</td>\n",
       "    </tr>\n",
       "    <tr>\n",
       "      <th>11</th>\n",
       "      <td>26</td>\n",
       "      <td>8</td>\n",
       "      <td>84.661933</td>\n",
       "    </tr>\n",
       "    <tr>\n",
       "      <th>18</th>\n",
       "      <td>47</td>\n",
       "      <td>7</td>\n",
       "      <td>90.394680</td>\n",
       "    </tr>\n",
       "    <tr>\n",
       "      <th>24</th>\n",
       "      <td>61</td>\n",
       "      <td>26</td>\n",
       "      <td>85.863763</td>\n",
       "    </tr>\n",
       "    <tr>\n",
       "      <th>30</th>\n",
       "      <td>72</td>\n",
       "      <td>16</td>\n",
       "      <td>74.427626</td>\n",
       "    </tr>\n",
       "    <tr>\n",
       "      <th>...</th>\n",
       "      <td>...</td>\n",
       "      <td>...</td>\n",
       "      <td>...</td>\n",
       "    </tr>\n",
       "    <tr>\n",
       "      <th>487721</th>\n",
       "      <td>1930076</td>\n",
       "      <td>6</td>\n",
       "      <td>62.963481</td>\n",
       "    </tr>\n",
       "    <tr>\n",
       "      <th>487729</th>\n",
       "      <td>1930434</td>\n",
       "      <td>6</td>\n",
       "      <td>72.831178</td>\n",
       "    </tr>\n",
       "    <tr>\n",
       "      <th>487737</th>\n",
       "      <td>1930788</td>\n",
       "      <td>6</td>\n",
       "      <td>34.932316</td>\n",
       "    </tr>\n",
       "    <tr>\n",
       "      <th>487740</th>\n",
       "      <td>1930923</td>\n",
       "      <td>5</td>\n",
       "      <td>52.089346</td>\n",
       "    </tr>\n",
       "    <tr>\n",
       "      <th>487744</th>\n",
       "      <td>1931169</td>\n",
       "      <td>5</td>\n",
       "      <td>85.832977</td>\n",
       "    </tr>\n",
       "  </tbody>\n",
       "</table>\n",
       "<p>40373 rows × 3 columns</p>\n",
       "</div>"
      ],
      "text/plain": [
       "        id_card  count        std\n",
       "8            17      6  40.386021\n",
       "11           26      8  84.661933\n",
       "18           47      7  90.394680\n",
       "24           61     26  85.863763\n",
       "30           72     16  74.427626\n",
       "...         ...    ...        ...\n",
       "487721  1930076      6  62.963481\n",
       "487729  1930434      6  72.831178\n",
       "487737  1930788      6  34.932316\n",
       "487740  1930923      5  52.089346\n",
       "487744  1931169      5  85.832977\n",
       "\n",
       "[40373 rows x 3 columns]"
      ]
     },
     "execution_count": 220,
     "metadata": {},
     "output_type": "execute_result"
    }
   ],
   "source": [
    "std[std['std'] < 100]"
   ]
  },
  {
   "cell_type": "code",
   "execution_count": 227,
   "metadata": {},
   "outputs": [
    {
     "data": {
      "text/html": [
       "<div>\n",
       "<style scoped>\n",
       "    .dataframe tbody tr th:only-of-type {\n",
       "        vertical-align: middle;\n",
       "    }\n",
       "\n",
       "    .dataframe tbody tr th {\n",
       "        vertical-align: top;\n",
       "    }\n",
       "\n",
       "    .dataframe thead th {\n",
       "        text-align: right;\n",
       "    }\n",
       "</style>\n",
       "<table border=\"1\" class=\"dataframe\">\n",
       "  <thead>\n",
       "    <tr style=\"text-align: right;\">\n",
       "      <th></th>\n",
       "      <th></th>\n",
       "      <th>avg_sum</th>\n",
       "    </tr>\n",
       "    <tr>\n",
       "      <th>id_card</th>\n",
       "      <th>id_doc</th>\n",
       "      <th></th>\n",
       "    </tr>\n",
       "  </thead>\n",
       "  <tbody>\n",
       "    <tr>\n",
       "      <th rowspan=\"5\" valign=\"top\">1562</th>\n",
       "      <th>3701614</th>\n",
       "      <td>133.0</td>\n",
       "    </tr>\n",
       "    <tr>\n",
       "      <th>5825664</th>\n",
       "      <td>153.0</td>\n",
       "    </tr>\n",
       "    <tr>\n",
       "      <th>8658181</th>\n",
       "      <td>133.0</td>\n",
       "    </tr>\n",
       "    <tr>\n",
       "      <th>10519201</th>\n",
       "      <td>133.0</td>\n",
       "    </tr>\n",
       "    <tr>\n",
       "      <th>10636037</th>\n",
       "      <td>133.0</td>\n",
       "    </tr>\n",
       "    <tr>\n",
       "      <th>...</th>\n",
       "      <th>...</th>\n",
       "      <td>...</td>\n",
       "    </tr>\n",
       "    <tr>\n",
       "      <th rowspan=\"5\" valign=\"top\">1929862</th>\n",
       "      <th>120093</th>\n",
       "      <td>37.0</td>\n",
       "    </tr>\n",
       "    <tr>\n",
       "      <th>1851311</th>\n",
       "      <td>37.0</td>\n",
       "    </tr>\n",
       "    <tr>\n",
       "      <th>2856477</th>\n",
       "      <td>37.0</td>\n",
       "    </tr>\n",
       "    <tr>\n",
       "      <th>8190357</th>\n",
       "      <td>42.0</td>\n",
       "    </tr>\n",
       "    <tr>\n",
       "      <th>18138222</th>\n",
       "      <td>37.0</td>\n",
       "    </tr>\n",
       "  </tbody>\n",
       "</table>\n",
       "<p>5689 rows × 1 columns</p>\n",
       "</div>"
      ],
      "text/plain": [
       "                  avg_sum\n",
       "id_card id_doc           \n",
       "1562    3701614     133.0\n",
       "        5825664     153.0\n",
       "        8658181     133.0\n",
       "        10519201    133.0\n",
       "        10636037    133.0\n",
       "...                   ...\n",
       "1929862 120093       37.0\n",
       "        1851311      37.0\n",
       "        2856477      37.0\n",
       "        8190357      42.0\n",
       "        18138222     37.0\n",
       "\n",
       "[5689 rows x 1 columns]"
      ]
     },
     "execution_count": 227,
     "metadata": {},
     "output_type": "execute_result"
    }
   ],
   "source": [
    "g_9_filtered[g_9_filtered['id_card'].isin(set(std[std['std'] < 20]['id_card']))].groupby(['id_card','id_doc']).agg(avg_sum=('sum','sum'))"
   ]
  },
  {
   "cell_type": "markdown",
   "metadata": {},
   "source": [
    "Here we can see that there are people that spend roughly the same amount of money."
   ]
  },
  {
   "cell_type": "markdown",
   "metadata": {},
   "source": [
    "## Orders amount"
   ]
  },
  {
   "cell_type": "code",
   "execution_count": 286,
   "metadata": {},
   "outputs": [],
   "source": [
    "count = g_9_filtered.groupby(['id_card'])['id_doc'].count()"
   ]
  },
  {
   "cell_type": "code",
   "execution_count": 287,
   "metadata": {},
   "outputs": [
    {
     "data": {
      "text/plain": [
       "id_card\n",
       "0          44\n",
       "1           1\n",
       "2          12\n",
       "3          34\n",
       "4          36\n",
       "           ..\n",
       "1933013     1\n",
       "1933385    35\n",
       "1934103    24\n",
       "1939417    64\n",
       "1944074    26\n",
       "Name: id_doc, Length: 1333958, dtype: int64"
      ]
     },
     "execution_count": 287,
     "metadata": {},
     "output_type": "execute_result"
    }
   ],
   "source": [
    "count"
   ]
  },
  {
   "cell_type": "code",
   "execution_count": 288,
   "metadata": {},
   "outputs": [
    {
     "data": {
      "text/plain": [
       "array([[<AxesSubplot:title={'center':'id_doc'}>]], dtype=object)"
      ]
     },
     "execution_count": 288,
     "metadata": {},
     "output_type": "execute_result"
    },
    {
     "data": {
      "image/png": "[encoded data removed]",
      "text/plain": [
       "<Figure size 432x288 with 1 Axes>"
      ]
     },
     "metadata": {
      "needs_background": "light"
     },
     "output_type": "display_data"
    }
   ],
   "source": [
    "count.to_frame().hist()"
   ]
  },
  {
   "cell_type": "code",
   "execution_count": 289,
   "metadata": {},
   "outputs": [
    {
     "data": {
      "text/plain": [
       "array([[<AxesSubplot:title={'center':'id_doc'}>]], dtype=object)"
      ]
     },
     "execution_count": 289,
     "metadata": {},
     "output_type": "execute_result"
    },
    {
     "data": {
      "image/png": "[encoded data removed]",
      "text/plain": [
       "<Figure size 432x288 with 1 Axes>"
      ]
     },
     "metadata": {
      "needs_background": "light"
     },
     "output_type": "display_data"
    }
   ],
   "source": [
    "count[count<100].to_frame().hist()"
   ]
  },
  {
   "cell_type": "markdown",
   "metadata": {},
   "source": [
    "Well we definitely can see people that go really frequently and people who visit comparatively rare."
   ]
  },
  {
   "cell_type": "markdown",
   "metadata": {},
   "source": [
    "## Usual cart "
   ]
  },
  {
   "cell_type": "markdown",
   "metadata": {},
   "source": [
    "To see which users buy the same products a lot we can see the users who have some product dominant among them. This is not as perfect and will allow us to see only one favourite item, but is still better than nothing. We can do this by finding users who have some items with higher share compared to other items"
   ]
  },
  {
   "cell_type": "code",
   "execution_count": 279,
   "metadata": {},
   "outputs": [
    {
     "data": {
      "text/html": [
       "<div>\n",
       "<style scoped>\n",
       "    .dataframe tbody tr th:only-of-type {\n",
       "        vertical-align: middle;\n",
       "    }\n",
       "\n",
       "    .dataframe tbody tr th {\n",
       "        vertical-align: top;\n",
       "    }\n",
       "\n",
       "    .dataframe thead th {\n",
       "        text-align: right;\n",
       "    }\n",
       "</style>\n",
       "<table border=\"1\" class=\"dataframe\">\n",
       "  <thead>\n",
       "    <tr style=\"text-align: right;\">\n",
       "      <th></th>\n",
       "      <th>date</th>\n",
       "      <th>id_doc</th>\n",
       "      <th>id_order</th>\n",
       "      <th>id_card</th>\n",
       "      <th>id_tov</th>\n",
       "      <th>id_kontr</th>\n",
       "      <th>quantity</th>\n",
       "      <th>sum</th>\n",
       "      <th>is_green</th>\n",
       "      <th>id_group</th>\n",
       "      <th>day</th>\n",
       "      <th>week</th>\n",
       "    </tr>\n",
       "  </thead>\n",
       "  <tbody>\n",
       "    <tr>\n",
       "      <th>0</th>\n",
       "      <td>2020-09-01 17:01:25</td>\n",
       "      <td>1283228</td>\n",
       "      <td>0.0</td>\n",
       "      <td>1538855</td>\n",
       "      <td>52</td>\n",
       "      <td>271</td>\n",
       "      <td>1.0</td>\n",
       "      <td>108.00</td>\n",
       "      <td>0</td>\n",
       "      <td>10004</td>\n",
       "      <td>1</td>\n",
       "      <td>36</td>\n",
       "    </tr>\n",
       "    <tr>\n",
       "      <th>1</th>\n",
       "      <td>2020-09-01 17:35:36</td>\n",
       "      <td>8873113</td>\n",
       "      <td>0.0</td>\n",
       "      <td>267307</td>\n",
       "      <td>52</td>\n",
       "      <td>271</td>\n",
       "      <td>1.0</td>\n",
       "      <td>108.00</td>\n",
       "      <td>0</td>\n",
       "      <td>10004</td>\n",
       "      <td>1</td>\n",
       "      <td>36</td>\n",
       "    </tr>\n",
       "    <tr>\n",
       "      <th>2</th>\n",
       "      <td>2020-09-01 19:19:21</td>\n",
       "      <td>12712899</td>\n",
       "      <td>0.0</td>\n",
       "      <td>610220</td>\n",
       "      <td>52</td>\n",
       "      <td>271</td>\n",
       "      <td>1.0</td>\n",
       "      <td>107.95</td>\n",
       "      <td>0</td>\n",
       "      <td>10004</td>\n",
       "      <td>1</td>\n",
       "      <td>36</td>\n",
       "    </tr>\n",
       "    <tr>\n",
       "      <th>3</th>\n",
       "      <td>2020-09-01 21:53:34</td>\n",
       "      <td>21535283</td>\n",
       "      <td>0.0</td>\n",
       "      <td>441497</td>\n",
       "      <td>52</td>\n",
       "      <td>271</td>\n",
       "      <td>1.0</td>\n",
       "      <td>108.00</td>\n",
       "      <td>0</td>\n",
       "      <td>10004</td>\n",
       "      <td>1</td>\n",
       "      <td>36</td>\n",
       "    </tr>\n",
       "    <tr>\n",
       "      <th>4</th>\n",
       "      <td>2020-09-01 18:42:31</td>\n",
       "      <td>642341</td>\n",
       "      <td>0.0</td>\n",
       "      <td>1065358</td>\n",
       "      <td>61</td>\n",
       "      <td>97</td>\n",
       "      <td>2.0</td>\n",
       "      <td>88.00</td>\n",
       "      <td>0</td>\n",
       "      <td>10091</td>\n",
       "      <td>1</td>\n",
       "      <td>36</td>\n",
       "    </tr>\n",
       "  </tbody>\n",
       "</table>\n",
       "</div>"
      ],
      "text/plain": [
       "                 date    id_doc  id_order  id_card  id_tov  id_kontr  \\\n",
       "0 2020-09-01 17:01:25   1283228       0.0  1538855      52       271   \n",
       "1 2020-09-01 17:35:36   8873113       0.0   267307      52       271   \n",
       "2 2020-09-01 19:19:21  12712899       0.0   610220      52       271   \n",
       "3 2020-09-01 21:53:34  21535283       0.0   441497      52       271   \n",
       "4 2020-09-01 18:42:31    642341       0.0  1065358      61        97   \n",
       "\n",
       "   quantity     sum  is_green  id_group  day  week  \n",
       "0       1.0  108.00         0     10004    1    36  \n",
       "1       1.0  108.00         0     10004    1    36  \n",
       "2       1.0  107.95         0     10004    1    36  \n",
       "3       1.0  108.00         0     10004    1    36  \n",
       "4       2.0   88.00         0     10091    1    36  "
      ]
     },
     "execution_count": 279,
     "metadata": {},
     "output_type": "execute_result"
    }
   ],
   "source": [
    "known = g_9_filtered[~(g_9_filtered.id_group == -9999)]\n",
    "known.head()"
   ]
  },
  {
   "cell_type": "code",
   "execution_count": 232,
   "metadata": {},
   "outputs": [],
   "source": [
    "tov_count = known.groupby(['id_card', 'id_group', 'id_doc'])['id_tov'].count()"
   ]
  },
  {
   "cell_type": "code",
   "execution_count": 239,
   "metadata": {},
   "outputs": [],
   "source": [
    "avg_tov_count = tov_count.to_frame().reset_index().groupby(['id_card', 'id_group'])['id_doc'].count()"
   ]
  },
  {
   "cell_type": "code",
   "execution_count": 259,
   "metadata": {},
   "outputs": [],
   "source": [
    "tov_doc_count = g_9_filtered[['id_card', 'id_doc']].drop_duplicates().groupby('id_card').count().reset_index()\n",
    "tov_doc_count['total_count'] = tov_doc_count['id_doc']\n",
    "tov_doc_count = tov_doc_count.drop(columns='id_doc')\n",
    "tov_doc_count = tov_doc_count[tov_doc_count.total_count >= 5]"
   ]
  },
  {
   "cell_type": "code",
   "execution_count": 260,
   "metadata": {},
   "outputs": [],
   "source": [
    "avg_count = pd.merge(avg_tov_count,tov_doc_count,how=\"left\",on='id_card').dropna()"
   ]
  },
  {
   "cell_type": "code",
   "execution_count": 261,
   "metadata": {
    "scrolled": true
   },
   "outputs": [
    {
     "data": {
      "text/plain": [
       "id_card\n",
       "7976       1.000000\n",
       "10496      0.966667\n",
       "12325      0.866667\n",
       "15858      1.000000\n",
       "22487      0.916667\n",
       "             ...   \n",
       "1920830    0.888889\n",
       "1924114    0.904762\n",
       "1926663    0.850000\n",
       "1929198    0.833333\n",
       "1929462    0.800000\n",
       "Name: percent, Length: 1008, dtype: float64"
      ]
     },
     "execution_count": 261,
     "metadata": {},
     "output_type": "execute_result"
    }
   ],
   "source": [
    "avg_count['percent'] = avg_count['id_doc']/avg_count['total_count']\n",
    "avg_percent= avg_count.groupby('id_card')['percent'].mean()\n",
    "avg_percent[avg_percent>0.8]"
   ]
  },
  {
   "cell_type": "markdown",
   "metadata": {},
   "source": [
    "These users buy the same product a lot."
   ]
  }
 ],
 "metadata": {
  "kernelspec": {
   "display_name": "stat",
   "language": "python",
   "name": "stat"
  },
  "language_info": {
   "codemirror_mode": {
    "name": "ipython",
    "version": 3
   },
   "file_extension": ".py",
   "mimetype": "text/x-python",
   "name": "python",
   "nbconvert_exporter": "python",
   "pygments_lexer": "ipython3",
   "version": "3.9.4"
  }
 },
 "nbformat": 4,
 "nbformat_minor": 4
}
