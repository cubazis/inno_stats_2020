{
 "cells": [
  {
   "cell_type": "code",
   "execution_count": null,
   "outputs": [],
   "source": [
    "import pandas as pd\n",
    "from datetime import datetime\n",
    "import pickle\n",
    "import bz2\n",
    "from pathlib import Path\n",
    "import random\n",
    "import matplotlib.pyplot as plt\n",
    "import numpy as np"
   ],
   "metadata": {
    "collapsed": false,
    "pycharm": {
     "name": "#%%\n"
    }
   }
  },
  {
   "cell_type": "code",
   "execution_count": null,
   "outputs": [],
   "source": [
    "dateparse = lambda x: datetime.strptime(x, '%Y-%m-%d %H:%M:%S')"
   ],
   "metadata": {
    "collapsed": false,
    "pycharm": {
     "name": "#%%\n"
    }
   }
  },
  {
   "cell_type": "code",
   "execution_count": null,
   "outputs": [],
   "source": [
    "data_path = Path('./data/').resolve()\n",
    "file_paths = [data_path / '09_groups.csv',\n",
    "             data_path / '10_groups.csv',\n",
    "             data_path / '11_groups.csv']"
   ],
   "metadata": {
    "collapsed": false,
    "pycharm": {
     "name": "#%%\n"
    }
   }
  },
  {
   "cell_type": "code",
   "execution_count": null,
   "outputs": [],
   "source": [
    "colunms = [s for s in 'date;id_doc;id_order;id_card;id_tov;id_kontr;quantity;sum;is_green'.split(';')]\n",
    "colunms"
   ],
   "metadata": {
    "collapsed": false,
    "pycharm": {
     "name": "#%%\n"
    }
   }
  },
  {
   "cell_type": "markdown",
   "source": [
    "## Take random samples from the dataset"
   ],
   "metadata": {
    "collapsed": false
   }
  },
  {
   "cell_type": "code",
   "execution_count": null,
   "outputs": [],
   "source": [
    "MONTH_SAMPLE_SIZE = 1000000"
   ],
   "metadata": {
    "collapsed": false,
    "pycharm": {
     "name": "#%%\n"
    }
   }
  },
  {
   "cell_type": "code",
   "execution_count": null,
   "outputs": [],
   "source": [
    "df = pd.DataFrame()\n",
    "for file_path in file_paths:\n",
    "    n = sum(1 for line in open(file_path)) - 1 #number of records in file (excludes header)\n",
    "    print(file_path, f\" length: {n}\")\n",
    "    skip = sorted(random.sample(range(1,n+1),n-MONTH_SAMPLE_SIZE)) #the 0-indexed header will not be included in the skip list\n",
    "    print(\"Sorted\")\n",
    "    df = df.append(\n",
    "        pd.read_csv(\n",
    "            filepath_or_buffer= file_path,\n",
    "            header=0,\n",
    "            sep=',',\n",
    "            names = colunms,\n",
    "            usecols = colunms,\n",
    "            parse_dates=['date'],\n",
    "            date_parser=dateparse,\n",
    "            skiprows=skip\n",
    "        )\n",
    "    )"
   ],
   "metadata": {
    "collapsed": false,
    "pycharm": {
     "name": "#%%\n"
    }
   }
  },
  {
   "cell_type": "code",
   "execution_count": null,
   "outputs": [],
   "source": [
    "df.head()"
   ],
   "metadata": {
    "collapsed": false,
    "pycharm": {
     "name": "#%%\n"
    }
   }
  },
  {
   "cell_type": "markdown",
   "source": [
    "## Outliers remove"
   ],
   "metadata": {
    "collapsed": false
   }
  },
  {
   "cell_type": "code",
   "execution_count": null,
   "outputs": [],
   "source": [
    "bad_ids = pd.read_csv(\n",
    "    filepath_or_buffer= data_path / 'bad_ids.csv',\n",
    "    header=0,\n",
    "    sep=',',\n",
    "    index_col=0\n",
    ")"
   ],
   "metadata": {
    "collapsed": false,
    "pycharm": {
     "name": "#%%\n"
    }
   }
  },
  {
   "cell_type": "code",
   "execution_count": null,
   "outputs": [],
   "source": [
    "bad_ids.head()"
   ],
   "metadata": {
    "collapsed": false,
    "pycharm": {
     "name": "#%%\n"
    }
   }
  },
  {
   "cell_type": "code",
   "execution_count": null,
   "outputs": [],
   "source": [
    "def remove_outliers_inplace(df: pd.DataFrame, bad_ids: pd.DataFrame):\n",
    "    cond = df['id_card'].isin(bad_ids['id_card'])\n",
    "    df.drop(df[cond].index, inplace = True)"
   ],
   "metadata": {
    "collapsed": false,
    "pycharm": {
     "name": "#%%\n"
    }
   }
  },
  {
   "cell_type": "code",
   "execution_count": null,
   "outputs": [],
   "source": [
    "remove_outliers_inplace(df, bad_ids)"
   ],
   "metadata": {
    "collapsed": false,
    "pycharm": {
     "name": "#%%\n"
    }
   }
  },
  {
   "cell_type": "code",
   "execution_count": null,
   "outputs": [],
   "source": [
    "df.head()"
   ],
   "metadata": {
    "collapsed": false,
    "pycharm": {
     "name": "#%%\n"
    }
   }
  },
  {
   "cell_type": "markdown",
   "source": [
    "## Task 1"
   ],
   "metadata": {
    "collapsed": false
   }
  },
  {
   "cell_type": "code",
   "execution_count": null,
   "outputs": [],
   "source": [
    "def preprocess_task_1(df: pd.DataFrame):\n",
    "    df = set_timestamp_index(df)\n",
    "    df = df.drop(['date', 'id_doc', 'id_order', 'id_tov', 'id_kontr', 'quantity'], inplace=False, axis=1)\n",
    "\n",
    "    df = df.groupby(by=[df.index.date, df.index.hour, df.id_card]).sum()\n",
    "    df_with_dis = df.drop(df.loc[df['is_green'] == 0].index, inplace=False)\n",
    "    df_wo_dis = df.drop(df.loc[df['is_green'] != 0].index, inplace=False)\n",
    "    return df_with_dis, df_wo_dis\n",
    "\n",
    "def set_timestamp_index(df: pd.DataFrame):\n",
    "    df['ts'] = pd.to_datetime(df['date'])\n",
    "    return df.set_index('ts', drop=True, inplace=False)"
   ],
   "metadata": {
    "collapsed": false,
    "pycharm": {
     "name": "#%%\n"
    }
   }
  },
  {
   "cell_type": "code",
   "execution_count": null,
   "outputs": [],
   "source": [
    "task1_df_discount, task1_df_no_discount = preprocess_task_1(df)\n",
    "task1_df_discount.head()"
   ],
   "metadata": {
    "collapsed": false,
    "pycharm": {
     "name": "#%%\n"
    }
   }
  },
  {
   "cell_type": "code",
   "execution_count": null,
   "outputs": [],
   "source": [
    "pd.DataFrame(task1_df_discount['sum']).boxplot()"
   ],
   "metadata": {
    "collapsed": false,
    "pycharm": {
     "name": "#%%\n"
    }
   }
  },
  {
   "cell_type": "code",
   "execution_count": null,
   "outputs": [],
   "source": [
    "task1_df_discount.describe()"
   ],
   "metadata": {
    "collapsed": false,
    "pycharm": {
     "name": "#%%\n"
    }
   }
  },
  {
   "cell_type": "code",
   "execution_count": null,
   "outputs": [],
   "source": [
    "pd.DataFrame(task1_df_no_discount['sum']).boxplot()"
   ],
   "metadata": {
    "collapsed": false,
    "pycharm": {
     "name": "#%%\n"
    }
   }
  },
  {
   "cell_type": "code",
   "execution_count": null,
   "outputs": [],
   "source": [
    "task1_df_no_discount.describe()"
   ],
   "metadata": {
    "collapsed": false,
    "pycharm": {
     "name": "#%%\n"
    }
   }
  },
  {
   "cell_type": "code",
   "execution_count": null,
   "outputs": [],
   "source": [
    "fig = plt.figure()\n",
    "ax = fig.add_subplot(111)\n",
    "n, bins, rectangles = ax.hist(task1_df_discount['sum'], 100)\n",
    "fig.canvas.draw()\n",
    "plt.show()"
   ],
   "metadata": {
    "collapsed": false,
    "pycharm": {
     "name": "#%%\n"
    }
   }
  },
  {
   "cell_type": "code",
   "execution_count": null,
   "outputs": [],
   "source": [
    "fig = plt.figure()\n",
    "ax = fig.add_subplot(111)\n",
    "n, bins, rectangles = ax.hist(task1_df_no_discount['sum'], 100)\n",
    "fig.canvas.draw()\n",
    "plt.show()"
   ],
   "metadata": {
    "collapsed": false,
    "pycharm": {
     "name": "#%%\n"
    }
   }
  },
  {
   "cell_type": "code",
   "execution_count": null,
   "outputs": [],
   "source": [
    "sum_bins = [0, 50, 100, 150, 200, 250, 300, 350, 400, 450, 500, 550, 600, 650, 700, 750, 800, 850, 900, 950, 1000]\n",
    "labels =   [1, 2,   3,   4,   5,   6,   7,   8,   9,   10,  11,  12,  13,  14,  15,  16,  17,  18,  19,  20]"
   ],
   "metadata": {
    "collapsed": false,
    "pycharm": {
     "name": "#%%\n"
    }
   }
  },
  {
   "cell_type": "code",
   "execution_count": null,
   "outputs": [],
   "source": [
    "task1_df_discount['bin'] = pd.cut(task1_df_discount['sum'], bins=sum_bins, labels=labels)\n",
    "task1_df_discount_binsizes = task1_df_discount.groupby(by=[task1_df_discount.bin]).count()\n",
    "\n",
    "task1_df_no_discount['bin'] = pd.cut(task1_df_no_discount['sum'], bins=sum_bins, labels=labels)\n",
    "task1_df_no_discount_binsizes = task1_df_no_discount.groupby(by=[task1_df_no_discount.bin]).count()"
   ],
   "metadata": {
    "collapsed": false,
    "pycharm": {
     "name": "#%%\n"
    }
   }
  },
  {
   "cell_type": "code",
   "execution_count": null,
   "outputs": [],
   "source": [
    "task1_df_discount_binsizes.head()"
   ],
   "metadata": {
    "collapsed": false,
    "pycharm": {
     "name": "#%%\n"
    }
   }
  },
  {
   "cell_type": "code",
   "execution_count": null,
   "outputs": [],
   "source": [
    "task1_df_no_discount_binsizes.head()"
   ],
   "metadata": {
    "collapsed": false,
    "pycharm": {
     "name": "#%%\n"
    }
   }
  },
  {
   "cell_type": "code",
   "execution_count": null,
   "outputs": [],
   "source": [
    "task1_percentages_with_discount = task1_df_discount_binsizes.divide(task1_df_no_discount_binsizes)\n",
    "np_bins = np.asarray(sum_bins[1:])\n",
    "task1_percentages_with_discount['bin'] = np_bins"
   ],
   "metadata": {
    "collapsed": false,
    "pycharm": {
     "name": "#%%\n"
    }
   }
  },
  {
   "cell_type": "code",
   "execution_count": null,
   "outputs": [],
   "source": [
    "task1_percentages_with_discount.head()\n"
   ],
   "metadata": {
    "collapsed": false,
    "pycharm": {
     "name": "#%%\n"
    }
   }
  },
  {
   "cell_type": "code",
   "execution_count": null,
   "outputs": [],
   "source": [
    "task1_percentages_with_discount.plot.bar('bin')"
   ],
   "metadata": {
    "collapsed": false,
    "pycharm": {
     "name": "#%%\n"
    }
   }
  },
  {
   "cell_type": "markdown",
   "source": [
    "The last plot shows the percentage of orders with discount against orders without discount in bined by the order sums.\n",
    "<br/><br/>The first bin is for orders below 500 rubles. Then bin for 550, 600, etc.\n",
    "<br/><br/>From the plot you can see that there is\n",
    "no evidence that \"It is more probable that the discounted product will be bought if a bunch of money is going to spend\".\n",
    "The plot shows that on the opposite the probability decreases with the increase of the order sum.\n",
    "<br/><br/>In this analysis I took that 500 is \"a bunch\" and took 3 millions of random samples from the whole dataset (3 months) for the analysis."
   ],
   "metadata": {
    "collapsed": false
   }
  },
  {
   "cell_type": "markdown",
   "source": [
    "## Task 2"
   ],
   "metadata": {
    "collapsed": false
   }
  },
  {
   "cell_type": "code",
   "execution_count": null,
   "outputs": [],
   "source": [
    "def preprocess_task_2(df: pd.DataFrame):\n",
    "    df['ts'] = pd.to_datetime(df['date'])\n",
    "    df = df.set_index('ts', drop=False, inplace=False)\n",
    "\n",
    "    df = df.drop(['date', 'id_doc', 'id_order', 'id_tov', 'id_kontr', 'quantity', 'is_green'], inplace=False, axis=1)\n",
    "    df = df.groupby(by=[df.index.day, df.index.hour, df.id_card]).sum()\n",
    "\n",
    "    return df.groupby(level=0).count()"
   ],
   "metadata": {
    "collapsed": false,
    "pycharm": {
     "name": "#%%\n"
    }
   }
  },
  {
   "cell_type": "code",
   "execution_count": null,
   "outputs": [],
   "source": [
    "task2_df = preprocess_task_2(df)\n",
    "task2_df.head()\n"
   ],
   "metadata": {
    "collapsed": false,
    "pycharm": {
     "name": "#%%\n"
    }
   }
  },
  {
   "cell_type": "code",
   "execution_count": null,
   "outputs": [],
   "source": [
    "task2_df.plot.bar()"
   ],
   "metadata": {
    "collapsed": false,
    "pycharm": {
     "name": "#%%\n"
    }
   }
  },
  {
   "cell_type": "markdown",
   "source": [
    "I took 3 millions of random samples from the whole dataset (3 months) and there is no significant raise in frequency of\n",
    "orders around wage taking days (1-6 days of each month, 20 -26 days of each month)."
   ],
   "metadata": {
    "collapsed": false
   }
  },
  {
   "cell_type": "markdown",
   "source": [
    "## Task 3.1"
   ],
   "metadata": {
    "collapsed": false
   }
  },
  {
   "cell_type": "code",
   "execution_count": null,
   "outputs": [],
   "source": [
    "def preprocess_task_3_1(df: pd.DataFrame):\n",
    "    df['ts'] = pd.to_datetime(df['date'])\n",
    "    df = df.set_index('ts', drop=False, inplace=False)\n",
    "\n",
    "    df = df.drop(['date', 'id_doc', 'id_order', 'id_tov', 'id_kontr', 'quantity', 'is_green'], inplace=False, axis=1)\n",
    "    return df"
   ],
   "metadata": {
    "collapsed": false,
    "pycharm": {
     "name": "#%%\n"
    }
   }
  },
  {
   "cell_type": "code",
   "execution_count": null,
   "outputs": [],
   "source": [
    "task3_1_df = preprocess_task_3_1(df)\n",
    "task3_1_df.head()\n"
   ],
   "metadata": {
    "collapsed": false,
    "pycharm": {
     "name": "#%%\n"
    }
   }
  },
  {
   "cell_type": "code",
   "execution_count": null,
   "outputs": [],
   "source": [
    "card_unique_days = task3_1_df.groupby([task3_1_df.id_card]).nunique()\n",
    "card_unique_days.head()\n",
    "# card_unique_days = card_unique_days.sort_values(ascending=False)\n",
    "# card_unique_days = pd.DataFrame(card_unique_days)\n",
    "# bad_days = card_unique_days[card_unique_days['day'] > 15].reset_index()"
   ],
   "metadata": {
    "collapsed": false,
    "pycharm": {
     "name": "#%%\n"
    }
   }
  },
  {
   "cell_type": "code",
   "execution_count": null,
   "outputs": [],
   "source": [
    "task3_1_df.plot.bar()"
   ],
   "metadata": {
    "collapsed": false,
    "pycharm": {
     "name": "#%%\n"
    }
   }
  }
 ],
 "metadata": {
  "kernelspec": {
   "display_name": "Python 3",
   "language": "python",
   "name": "python3"
  },
  "language_info": {
   "codemirror_mode": {
    "name": "ipython",
    "version": 3
   },
   "file_extension": ".py",
   "mimetype": "text/x-python",
   "name": "python",
   "nbconvert_exporter": "python",
   "pygments_lexer": "ipython3",
   "version": "3.8.5"
  }
 },
 "nbformat": 4,
 "nbformat_minor": 5
}