{
 "cells": [
  {
   "cell_type": "code",
   "execution_count": 2,
   "id": "4740630f-295e-4ffd-8654-c44994bdf1bd",
   "metadata": {},
   "outputs": [
    {
     "name": "stdout",
     "output_type": "stream",
     "text": [
      "data/allg.csv\n",
      "data/10_groups.csv\n",
      "data/bad_ids - bad_ids.csv.csv\n",
      "data/product_groups.csv\n",
      "data/09_groups.csv\n",
      "data/11_groups.csv\n"
     ]
    }
   ],
   "source": [
    "# data_path = Path('data').glob('*')\n",
    "# for i in data_path:\n",
    "#     print(i)"
   ]
  },
  {
   "cell_type": "code",
   "execution_count": 12,
   "id": "4ece43f2-d4e0-426a-95f0-bef67e128f34",
   "metadata": {},
   "outputs": [
    {
     "data": {
      "text/html": [
       "<div>\n",
       "<style scoped>\n",
       "    .dataframe tbody tr th:only-of-type {\n",
       "        vertical-align: middle;\n",
       "    }\n",
       "\n",
       "    .dataframe tbody tr th {\n",
       "        vertical-align: top;\n",
       "    }\n",
       "\n",
       "    .dataframe thead th {\n",
       "        text-align: right;\n",
       "    }\n",
       "</style>\n",
       "<table border=\"1\" class=\"dataframe\">\n",
       "  <thead>\n",
       "    <tr style=\"text-align: right;\">\n",
       "      <th></th>\n",
       "      <th>date</th>\n",
       "      <th>id_doc</th>\n",
       "      <th>id_order</th>\n",
       "      <th>id_card</th>\n",
       "      <th>id_tov</th>\n",
       "      <th>id_kontr</th>\n",
       "      <th>quantity</th>\n",
       "      <th>sum</th>\n",
       "      <th>is_green</th>\n",
       "      <th>id_group</th>\n",
       "    </tr>\n",
       "  </thead>\n",
       "  <tbody>\n",
       "    <tr>\n",
       "      <th>0</th>\n",
       "      <td>2020-09-01 17:01:25</td>\n",
       "      <td>1283228</td>\n",
       "      <td>0.0</td>\n",
       "      <td>1538855</td>\n",
       "      <td>52</td>\n",
       "      <td>271</td>\n",
       "      <td>1.0</td>\n",
       "      <td>108.00</td>\n",
       "      <td>0</td>\n",
       "      <td>10004</td>\n",
       "    </tr>\n",
       "    <tr>\n",
       "      <th>1</th>\n",
       "      <td>2020-09-01 17:35:36</td>\n",
       "      <td>8873113</td>\n",
       "      <td>0.0</td>\n",
       "      <td>267307</td>\n",
       "      <td>52</td>\n",
       "      <td>271</td>\n",
       "      <td>1.0</td>\n",
       "      <td>108.00</td>\n",
       "      <td>0</td>\n",
       "      <td>10004</td>\n",
       "    </tr>\n",
       "    <tr>\n",
       "      <th>2</th>\n",
       "      <td>2020-09-01 19:19:21</td>\n",
       "      <td>12712899</td>\n",
       "      <td>0.0</td>\n",
       "      <td>610220</td>\n",
       "      <td>52</td>\n",
       "      <td>271</td>\n",
       "      <td>1.0</td>\n",
       "      <td>107.95</td>\n",
       "      <td>0</td>\n",
       "      <td>10004</td>\n",
       "    </tr>\n",
       "    <tr>\n",
       "      <th>3</th>\n",
       "      <td>2020-09-01 21:53:34</td>\n",
       "      <td>21535283</td>\n",
       "      <td>0.0</td>\n",
       "      <td>441497</td>\n",
       "      <td>52</td>\n",
       "      <td>271</td>\n",
       "      <td>1.0</td>\n",
       "      <td>108.00</td>\n",
       "      <td>0</td>\n",
       "      <td>10004</td>\n",
       "    </tr>\n",
       "    <tr>\n",
       "      <th>4</th>\n",
       "      <td>2020-09-01 18:42:31</td>\n",
       "      <td>642341</td>\n",
       "      <td>0.0</td>\n",
       "      <td>1065358</td>\n",
       "      <td>61</td>\n",
       "      <td>97</td>\n",
       "      <td>2.0</td>\n",
       "      <td>88.00</td>\n",
       "      <td>0</td>\n",
       "      <td>10091</td>\n",
       "    </tr>\n",
       "  </tbody>\n",
       "</table>\n",
       "</div>"
      ],
      "text/plain": [
       "                  date    id_doc  id_order  id_card  id_tov  id_kontr  \\\n",
       "0  2020-09-01 17:01:25   1283228       0.0  1538855      52       271   \n",
       "1  2020-09-01 17:35:36   8873113       0.0   267307      52       271   \n",
       "2  2020-09-01 19:19:21  12712899       0.0   610220      52       271   \n",
       "3  2020-09-01 21:53:34  21535283       0.0   441497      52       271   \n",
       "4  2020-09-01 18:42:31    642341       0.0  1065358      61        97   \n",
       "\n",
       "   quantity     sum  is_green  id_group  \n",
       "0       1.0  108.00         0     10004  \n",
       "1       1.0  108.00         0     10004  \n",
       "2       1.0  107.95         0     10004  \n",
       "3       1.0  108.00         0     10004  \n",
       "4       2.0   88.00         0     10091  "
      ]
     },
     "execution_count": 12,
     "metadata": {},
     "output_type": "execute_result"
    }
   ],
   "source": [
    "# g_9 = pd.read_csv('data/09_groups.csv')\n",
    "# g_9.head()"
   ]
  },
  {
   "cell_type": "code",
   "execution_count": 13,
   "id": "4ede1ad8-c4a9-4640-b4e6-92b29ed2e474",
   "metadata": {},
   "outputs": [
    {
     "data": {
      "text/html": [
       "<div>\n",
       "<style scoped>\n",
       "    .dataframe tbody tr th:only-of-type {\n",
       "        vertical-align: middle;\n",
       "    }\n",
       "\n",
       "    .dataframe tbody tr th {\n",
       "        vertical-align: top;\n",
       "    }\n",
       "\n",
       "    .dataframe thead th {\n",
       "        text-align: right;\n",
       "    }\n",
       "</style>\n",
       "<table border=\"1\" class=\"dataframe\">\n",
       "  <thead>\n",
       "    <tr style=\"text-align: right;\">\n",
       "      <th></th>\n",
       "      <th>date</th>\n",
       "      <th>id_doc</th>\n",
       "      <th>id_order</th>\n",
       "      <th>id_card</th>\n",
       "      <th>id_tov</th>\n",
       "      <th>id_kontr</th>\n",
       "      <th>quantity</th>\n",
       "      <th>sum</th>\n",
       "      <th>is_green</th>\n",
       "      <th>id_group</th>\n",
       "    </tr>\n",
       "  </thead>\n",
       "  <tbody>\n",
       "    <tr>\n",
       "      <th>0</th>\n",
       "      <td>2020-10-01 20:22:55</td>\n",
       "      <td>2035558</td>\n",
       "      <td>0.0</td>\n",
       "      <td>1636749</td>\n",
       "      <td>52</td>\n",
       "      <td>339</td>\n",
       "      <td>1.0</td>\n",
       "      <td>107.90</td>\n",
       "      <td>0</td>\n",
       "      <td>10004</td>\n",
       "    </tr>\n",
       "    <tr>\n",
       "      <th>1</th>\n",
       "      <td>2020-10-01 20:54:12</td>\n",
       "      <td>13037327</td>\n",
       "      <td>0.0</td>\n",
       "      <td>267261</td>\n",
       "      <td>52</td>\n",
       "      <td>339</td>\n",
       "      <td>1.0</td>\n",
       "      <td>80.04</td>\n",
       "      <td>0</td>\n",
       "      <td>10004</td>\n",
       "    </tr>\n",
       "    <tr>\n",
       "      <th>2</th>\n",
       "      <td>2020-10-01 21:25:59</td>\n",
       "      <td>1430590</td>\n",
       "      <td>0.0</td>\n",
       "      <td>1331395</td>\n",
       "      <td>61</td>\n",
       "      <td>379</td>\n",
       "      <td>1.0</td>\n",
       "      <td>31.92</td>\n",
       "      <td>1</td>\n",
       "      <td>10091</td>\n",
       "    </tr>\n",
       "    <tr>\n",
       "      <th>3</th>\n",
       "      <td>2020-10-01 13:31:01</td>\n",
       "      <td>3504660</td>\n",
       "      <td>0.0</td>\n",
       "      <td>641525</td>\n",
       "      <td>61</td>\n",
       "      <td>97</td>\n",
       "      <td>1.0</td>\n",
       "      <td>55.98</td>\n",
       "      <td>0</td>\n",
       "      <td>10091</td>\n",
       "    </tr>\n",
       "    <tr>\n",
       "      <th>4</th>\n",
       "      <td>2020-10-01 16:32:06</td>\n",
       "      <td>11024438</td>\n",
       "      <td>0.0</td>\n",
       "      <td>1325852</td>\n",
       "      <td>61</td>\n",
       "      <td>97</td>\n",
       "      <td>4.0</td>\n",
       "      <td>176.00</td>\n",
       "      <td>0</td>\n",
       "      <td>10091</td>\n",
       "    </tr>\n",
       "  </tbody>\n",
       "</table>\n",
       "</div>"
      ],
      "text/plain": [
       "                  date    id_doc  id_order  id_card  id_tov  id_kontr  \\\n",
       "0  2020-10-01 20:22:55   2035558       0.0  1636749      52       339   \n",
       "1  2020-10-01 20:54:12  13037327       0.0   267261      52       339   \n",
       "2  2020-10-01 21:25:59   1430590       0.0  1331395      61       379   \n",
       "3  2020-10-01 13:31:01   3504660       0.0   641525      61        97   \n",
       "4  2020-10-01 16:32:06  11024438       0.0  1325852      61        97   \n",
       "\n",
       "   quantity     sum  is_green  id_group  \n",
       "0       1.0  107.90         0     10004  \n",
       "1       1.0   80.04         0     10004  \n",
       "2       1.0   31.92         1     10091  \n",
       "3       1.0   55.98         0     10091  \n",
       "4       4.0  176.00         0     10091  "
      ]
     },
     "execution_count": 13,
     "metadata": {},
     "output_type": "execute_result"
    }
   ],
   "source": [
    "# g_10 = pd.read_csv('./data/10_groups.csv')\n",
    "# g_10.head()"
   ]
  },
  {
   "cell_type": "code",
   "execution_count": 14,
   "id": "c19b3e39-b4b9-4d70-9209-8b27b4b86daa",
   "metadata": {},
   "outputs": [
    {
     "data": {
      "text/html": [
       "<div>\n",
       "<style scoped>\n",
       "    .dataframe tbody tr th:only-of-type {\n",
       "        vertical-align: middle;\n",
       "    }\n",
       "\n",
       "    .dataframe tbody tr th {\n",
       "        vertical-align: top;\n",
       "    }\n",
       "\n",
       "    .dataframe thead th {\n",
       "        text-align: right;\n",
       "    }\n",
       "</style>\n",
       "<table border=\"1\" class=\"dataframe\">\n",
       "  <thead>\n",
       "    <tr style=\"text-align: right;\">\n",
       "      <th></th>\n",
       "      <th>date</th>\n",
       "      <th>id_doc</th>\n",
       "      <th>id_order</th>\n",
       "      <th>id_card</th>\n",
       "      <th>id_tov</th>\n",
       "      <th>id_kontr</th>\n",
       "      <th>quantity</th>\n",
       "      <th>sum</th>\n",
       "      <th>is_green</th>\n",
       "      <th>id_group</th>\n",
       "    </tr>\n",
       "  </thead>\n",
       "  <tbody>\n",
       "    <tr>\n",
       "      <th>0</th>\n",
       "      <td>2020-11-01 15:29:01</td>\n",
       "      <td>3121751</td>\n",
       "      <td>0.0</td>\n",
       "      <td>332351</td>\n",
       "      <td>52</td>\n",
       "      <td>271</td>\n",
       "      <td>1.0</td>\n",
       "      <td>107.98</td>\n",
       "      <td>0</td>\n",
       "      <td>10004</td>\n",
       "    </tr>\n",
       "    <tr>\n",
       "      <th>1</th>\n",
       "      <td>2020-11-01 12:41:10</td>\n",
       "      <td>22047017</td>\n",
       "      <td>8293317.0</td>\n",
       "      <td>1875438</td>\n",
       "      <td>52</td>\n",
       "      <td>-9999</td>\n",
       "      <td>1.0</td>\n",
       "      <td>108.00</td>\n",
       "      <td>0</td>\n",
       "      <td>10004</td>\n",
       "    </tr>\n",
       "    <tr>\n",
       "      <th>2</th>\n",
       "      <td>2020-11-01 13:17:09</td>\n",
       "      <td>6419825</td>\n",
       "      <td>0.0</td>\n",
       "      <td>563112</td>\n",
       "      <td>61</td>\n",
       "      <td>379</td>\n",
       "      <td>2.0</td>\n",
       "      <td>112.00</td>\n",
       "      <td>0</td>\n",
       "      <td>10091</td>\n",
       "    </tr>\n",
       "    <tr>\n",
       "      <th>3</th>\n",
       "      <td>2020-11-01 12:31:31</td>\n",
       "      <td>10284541</td>\n",
       "      <td>0.0</td>\n",
       "      <td>1841710</td>\n",
       "      <td>61</td>\n",
       "      <td>379</td>\n",
       "      <td>1.0</td>\n",
       "      <td>55.91</td>\n",
       "      <td>0</td>\n",
       "      <td>10091</td>\n",
       "    </tr>\n",
       "    <tr>\n",
       "      <th>4</th>\n",
       "      <td>2020-11-01 13:06:15</td>\n",
       "      <td>10424967</td>\n",
       "      <td>0.0</td>\n",
       "      <td>1304277</td>\n",
       "      <td>61</td>\n",
       "      <td>271</td>\n",
       "      <td>2.0</td>\n",
       "      <td>87.80</td>\n",
       "      <td>0</td>\n",
       "      <td>10091</td>\n",
       "    </tr>\n",
       "  </tbody>\n",
       "</table>\n",
       "</div>"
      ],
      "text/plain": [
       "                  date    id_doc   id_order  id_card  id_tov  id_kontr  \\\n",
       "0  2020-11-01 15:29:01   3121751        0.0   332351      52       271   \n",
       "1  2020-11-01 12:41:10  22047017  8293317.0  1875438      52     -9999   \n",
       "2  2020-11-01 13:17:09   6419825        0.0   563112      61       379   \n",
       "3  2020-11-01 12:31:31  10284541        0.0  1841710      61       379   \n",
       "4  2020-11-01 13:06:15  10424967        0.0  1304277      61       271   \n",
       "\n",
       "   quantity     sum  is_green  id_group  \n",
       "0       1.0  107.98         0     10004  \n",
       "1       1.0  108.00         0     10004  \n",
       "2       2.0  112.00         0     10091  \n",
       "3       1.0   55.91         0     10091  \n",
       "4       2.0   87.80         0     10091  "
      ]
     },
     "execution_count": 14,
     "metadata": {},
     "output_type": "execute_result"
    }
   ],
   "source": [
    "# g_11 = pd.read_csv('./data/11_groups.csv')\n",
    "# g_11.head()"
   ]
  },
  {
   "cell_type": "code",
   "execution_count": 15,
   "id": "f8ce8fa2-61ff-415c-8ad8-c8a480f1e4d3",
   "metadata": {},
   "outputs": [
    {
     "data": {
      "text/html": [
       "<div>\n",
       "<style scoped>\n",
       "    .dataframe tbody tr th:only-of-type {\n",
       "        vertical-align: middle;\n",
       "    }\n",
       "\n",
       "    .dataframe tbody tr th {\n",
       "        vertical-align: top;\n",
       "    }\n",
       "\n",
       "    .dataframe thead th {\n",
       "        text-align: right;\n",
       "    }\n",
       "</style>\n",
       "<table border=\"1\" class=\"dataframe\">\n",
       "  <thead>\n",
       "    <tr style=\"text-align: right;\">\n",
       "      <th></th>\n",
       "      <th>id_tov</th>\n",
       "      <th>id_group</th>\n",
       "      <th>name_group</th>\n",
       "    </tr>\n",
       "  </thead>\n",
       "  <tbody>\n",
       "    <tr>\n",
       "      <th>0</th>\n",
       "      <td>52</td>\n",
       "      <td>10004</td>\n",
       "      <td>Кисломолочные продукты</td>\n",
       "    </tr>\n",
       "    <tr>\n",
       "      <th>1</th>\n",
       "      <td>75</td>\n",
       "      <td>10004</td>\n",
       "      <td>Кисломолочные продукты</td>\n",
       "    </tr>\n",
       "    <tr>\n",
       "      <th>2</th>\n",
       "      <td>77</td>\n",
       "      <td>10004</td>\n",
       "      <td>Кисломолочные продукты</td>\n",
       "    </tr>\n",
       "    <tr>\n",
       "      <th>3</th>\n",
       "      <td>143</td>\n",
       "      <td>10004</td>\n",
       "      <td>Кисломолочные продукты</td>\n",
       "    </tr>\n",
       "    <tr>\n",
       "      <th>4</th>\n",
       "      <td>151</td>\n",
       "      <td>10004</td>\n",
       "      <td>Кисломолочные продукты</td>\n",
       "    </tr>\n",
       "  </tbody>\n",
       "</table>\n",
       "</div>"
      ],
      "text/plain": [
       "   id_tov  id_group              name_group\n",
       "0      52     10004  Кисломолочные продукты\n",
       "1      75     10004  Кисломолочные продукты\n",
       "2      77     10004  Кисломолочные продукты\n",
       "3     143     10004  Кисломолочные продукты\n",
       "4     151     10004  Кисломолочные продукты"
      ]
     },
     "execution_count": 15,
     "metadata": {},
     "output_type": "execute_result"
    }
   ],
   "source": [
    "# p_g = pd.read_csv('./data/product_groups.csv', delimiter=';', encoding='windows-1251')\n",
    "# p_g.head()"
   ]
  },
  {
   "cell_type": "code",
   "execution_count": 18,
   "id": "52ec50cd-0fc9-41ec-9bc2-b35b580a21ff",
   "metadata": {},
   "outputs": [],
   "source": [
    "# g = pd.concat([g_9, g_10, g_11])"
   ]
  },
  {
   "cell_type": "code",
   "execution_count": 20,
   "id": "b1dde5fa-ada1-488b-9e21-6442c0db2388",
   "metadata": {},
   "outputs": [
    {
     "name": "stdout",
     "output_type": "stream",
     "text": [
      "len g before deleetion of bad ids 134720639\n",
      "len g after deleetion of bad ids 122718354\n"
     ]
    }
   ],
   "source": [
    "# print(f'len g before deleetion of bad ids {len(g)}')\n",
    "# bad = pd.read_csv('data/bad_ids - bad_ids.csv.csv')\n",
    "# g = g[~g['id_card'].isin(bad['id_card'])]\n",
    "# print(f'len g after deleetion of bad ids {len(g)}')\n",
    "# g.to_csv('data/allg.csv', index=False)"
   ]
  },
  {
   "cell_type": "code",
   "execution_count": null,
   "id": "fd97ce10-e84c-4bec-82be-771e31192c7f",
   "metadata": {},
   "outputs": [],
   "source": []
  },
  {
   "cell_type": "code",
   "execution_count": null,
   "id": "e4c3a85a-45d3-427d-b6c0-390b31c0ec26",
   "metadata": {},
   "outputs": [],
   "source": []
  },
  {
   "cell_type": "markdown",
   "id": "510308e1-d47c-4c5e-955e-b24a4b64c3cd",
   "metadata": {},
   "source": [
    "# Task 1"
   ]
  },
  {
   "cell_type": "markdown",
   "id": "14159c91-2505-4c31-af3b-bfe811a7cbaf",
   "metadata": {},
   "source": [
    "## H0: there is no dependency between avarage money spent in the order and buying discounted products  "
   ]
  },
  {
   "cell_type": "markdown",
   "id": "8991982e-44dc-46d1-bf8a-f158a0291339",
   "metadata": {},
   "source": [
    "## H1: there is some dependency"
   ]
  },
  {
   "cell_type": "code",
   "execution_count": 45,
   "id": "72b7d6d8-e2a9-448e-ae04-8cda3a0e5b9e",
   "metadata": {},
   "outputs": [],
   "source": [
    "from scipy.stats import ttest_ind, pearsonr, f_oneway\n",
    "import pandas as pd\n",
    "from pathlib import Path\n",
    "import numpy as np\n",
    "import matplotlib.pyplot as plt"
   ]
  },
  {
   "cell_type": "code",
   "execution_count": 20,
   "id": "c7b95f72-6966-484c-a755-b867b5561946",
   "metadata": {},
   "outputs": [
    {
     "name": "stdout",
     "output_type": "stream",
     "text": [
      "42100858\n",
      "CPU times: user 26.3 s, sys: 4.97 s, total: 31.3 s\n",
      "Wall time: 37.8 s\n"
     ]
    },
    {
     "data": {
      "text/html": [
       "<div>\n",
       "<style scoped>\n",
       "    .dataframe tbody tr th:only-of-type {\n",
       "        vertical-align: middle;\n",
       "    }\n",
       "\n",
       "    .dataframe tbody tr th {\n",
       "        vertical-align: top;\n",
       "    }\n",
       "\n",
       "    .dataframe thead th {\n",
       "        text-align: right;\n",
       "    }\n",
       "</style>\n",
       "<table border=\"1\" class=\"dataframe\">\n",
       "  <thead>\n",
       "    <tr style=\"text-align: right;\">\n",
       "      <th></th>\n",
       "      <th>date</th>\n",
       "      <th>id_doc</th>\n",
       "      <th>id_order</th>\n",
       "      <th>id_card</th>\n",
       "      <th>id_tov</th>\n",
       "      <th>id_kontr</th>\n",
       "      <th>quantity</th>\n",
       "      <th>sum</th>\n",
       "      <th>is_green</th>\n",
       "      <th>id_group</th>\n",
       "    </tr>\n",
       "  </thead>\n",
       "  <tbody>\n",
       "    <tr>\n",
       "      <th>0</th>\n",
       "      <td>2020-09-01 17:01:25</td>\n",
       "      <td>1283228</td>\n",
       "      <td>0.0</td>\n",
       "      <td>1538855</td>\n",
       "      <td>52</td>\n",
       "      <td>271</td>\n",
       "      <td>1.0</td>\n",
       "      <td>108.00</td>\n",
       "      <td>0</td>\n",
       "      <td>10004</td>\n",
       "    </tr>\n",
       "    <tr>\n",
       "      <th>1</th>\n",
       "      <td>2020-09-01 17:35:36</td>\n",
       "      <td>8873113</td>\n",
       "      <td>0.0</td>\n",
       "      <td>267307</td>\n",
       "      <td>52</td>\n",
       "      <td>271</td>\n",
       "      <td>1.0</td>\n",
       "      <td>108.00</td>\n",
       "      <td>0</td>\n",
       "      <td>10004</td>\n",
       "    </tr>\n",
       "    <tr>\n",
       "      <th>2</th>\n",
       "      <td>2020-09-01 19:19:21</td>\n",
       "      <td>12712899</td>\n",
       "      <td>0.0</td>\n",
       "      <td>610220</td>\n",
       "      <td>52</td>\n",
       "      <td>271</td>\n",
       "      <td>1.0</td>\n",
       "      <td>107.95</td>\n",
       "      <td>0</td>\n",
       "      <td>10004</td>\n",
       "    </tr>\n",
       "    <tr>\n",
       "      <th>3</th>\n",
       "      <td>2020-09-01 21:53:34</td>\n",
       "      <td>21535283</td>\n",
       "      <td>0.0</td>\n",
       "      <td>441497</td>\n",
       "      <td>52</td>\n",
       "      <td>271</td>\n",
       "      <td>1.0</td>\n",
       "      <td>108.00</td>\n",
       "      <td>0</td>\n",
       "      <td>10004</td>\n",
       "    </tr>\n",
       "    <tr>\n",
       "      <th>4</th>\n",
       "      <td>2020-09-01 18:42:31</td>\n",
       "      <td>642341</td>\n",
       "      <td>0.0</td>\n",
       "      <td>1065358</td>\n",
       "      <td>61</td>\n",
       "      <td>97</td>\n",
       "      <td>2.0</td>\n",
       "      <td>88.00</td>\n",
       "      <td>0</td>\n",
       "      <td>10091</td>\n",
       "    </tr>\n",
       "  </tbody>\n",
       "</table>\n",
       "</div>"
      ],
      "text/plain": [
       "                  date    id_doc  id_order  id_card  id_tov  id_kontr  \\\n",
       "0  2020-09-01 17:01:25   1283228       0.0  1538855      52       271   \n",
       "1  2020-09-01 17:35:36   8873113       0.0   267307      52       271   \n",
       "2  2020-09-01 19:19:21  12712899       0.0   610220      52       271   \n",
       "3  2020-09-01 21:53:34  21535283       0.0   441497      52       271   \n",
       "4  2020-09-01 18:42:31    642341       0.0  1065358      61        97   \n",
       "\n",
       "   quantity     sum  is_green  id_group  \n",
       "0       1.0  108.00         0     10004  \n",
       "1       1.0  108.00         0     10004  \n",
       "2       1.0  107.95         0     10004  \n",
       "3       1.0  108.00         0     10004  \n",
       "4       2.0   88.00         0     10091  "
      ]
     },
     "execution_count": 20,
     "metadata": {},
     "output_type": "execute_result"
    }
   ],
   "source": [
    "%%time\n",
    "# g = pd.read_csv('data/allg.csv')\n",
    "g = pd.read_csv('data/09_groups.csv') # works 20 years, I gave up\n",
    "print(len(g))\n",
    "g.head()"
   ]
  },
  {
   "cell_type": "code",
   "execution_count": 21,
   "id": "728cce1e-adea-48dd-9c85-66613ba4cb9b",
   "metadata": {
    "tags": []
   },
   "outputs": [
    {
     "name": "stdout",
     "output_type": "stream",
     "text": [
      "CPU times: user 5.84 s, sys: 276 ms, total: 6.12 s\n",
      "Wall time: 6.11 s\n"
     ]
    }
   ],
   "source": [
    "%%time\n",
    "avg_spent = g[['sum', 'id_doc']].groupby(\"id_doc\").mean()['sum'].to_list()"
   ]
  },
  {
   "cell_type": "code",
   "execution_count": 22,
   "id": "ed4025ec-7ed3-42ee-94c9-8a34508fdce0",
   "metadata": {},
   "outputs": [
    {
     "name": "stdout",
     "output_type": "stream",
     "text": [
      "CPU times: user 6.08 s, sys: 304 ms, total: 6.39 s\n",
      "Wall time: 6.38 s\n"
     ]
    }
   ],
   "source": [
    "%%time\n",
    "sum_spent = g[['sum', 'id_doc']].groupby(\"id_doc\").sum()['sum'].to_list()\n",
    "# lets also try to check dependance on total order sum"
   ]
  },
  {
   "cell_type": "code",
   "execution_count": 23,
   "id": "3afb40a0-95d9-4936-894d-1cf9632e4053",
   "metadata": {},
   "outputs": [
    {
     "name": "stdout",
     "output_type": "stream",
     "text": [
      "CPU times: user 6.4 s, sys: 91.2 ms, total: 6.49 s\n",
      "Wall time: 6.49 s\n"
     ]
    }
   ],
   "source": [
    "%%time\n",
    "disc = np.array(g[['id_doc', 'is_green']].groupby(\"id_doc\")['is_green'].sum().to_list())"
   ]
  },
  {
   "cell_type": "code",
   "execution_count": 24,
   "id": "8d73f15e-4056-4f55-aca2-ac9da3c7e64d",
   "metadata": {},
   "outputs": [],
   "source": [
    "n = np.array(g[['sum', 'id_doc']].groupby(\"id_doc\").count()['sum'].to_list())"
   ]
  },
  {
   "cell_type": "code",
   "execution_count": 25,
   "id": "13062d97-47cc-405a-b9e4-0d4742d25ed4",
   "metadata": {},
   "outputs": [
    {
     "name": "stdout",
     "output_type": "stream",
     "text": [
      "CPU times: user 20.4 ms, sys: 37 µs, total: 20.4 ms\n",
      "Wall time: 19.7 ms\n"
     ]
    }
   ],
   "source": [
    "%%time\n",
    "disc_nrmd = disc / n"
   ]
  },
  {
   "cell_type": "code",
   "execution_count": 26,
   "id": "151544fd-d849-4676-aa3e-a697eaa299d2",
   "metadata": {},
   "outputs": [
    {
     "data": {
      "text/plain": [
       "Ttest_indResult(statistic=4024.795575945475, pvalue=0.0)"
      ]
     },
     "execution_count": 26,
     "metadata": {},
     "output_type": "execute_result"
    }
   ],
   "source": [
    "ttest_ind(avg_spent, disc_nrmd)"
   ]
  },
  {
   "cell_type": "markdown",
   "id": "92a72902-8576-49e1-9005-c8285ba82eec",
   "metadata": {},
   "source": [
    "reject H0"
   ]
  },
  {
   "cell_type": "code",
   "execution_count": 27,
   "id": "c919f5e3-51e9-4c4b-80b4-5ea3c41cc0c8",
   "metadata": {},
   "outputs": [
    {
     "data": {
      "text/plain": [
       "Ttest_indResult(statistic=2579.6329517009312, pvalue=0.0)"
      ]
     },
     "execution_count": 27,
     "metadata": {},
     "output_type": "execute_result"
    }
   ],
   "source": [
    "ttest_ind(sum_spent, disc_nrmd)"
   ]
  },
  {
   "cell_type": "markdown",
   "id": "2eb34fcc-c6a6-406a-9486-061995188bcb",
   "metadata": {},
   "source": [
    "reject H0"
   ]
  },
  {
   "cell_type": "markdown",
   "id": "9305ffa2-9e74-4d15-8115-2d550879047c",
   "metadata": {},
   "source": [
    "we can run Pearson test to understand if dependance is direct or inverse"
   ]
  },
  {
   "cell_type": "code",
   "execution_count": 28,
   "id": "503b4268-aab6-44d0-8514-7bbfa2f5b39b",
   "metadata": {},
   "outputs": [
    {
     "data": {
      "text/plain": [
       "(-0.14385746125694876, 0.0)"
      ]
     },
     "execution_count": 28,
     "metadata": {},
     "output_type": "execute_result"
    }
   ],
   "source": [
    "pearsonr(avg_spent, disc_nrmd)"
   ]
  },
  {
   "cell_type": "code",
   "execution_count": 30,
   "id": "391ab81f-0aa1-4498-8f5e-3c3218558cae",
   "metadata": {},
   "outputs": [
    {
     "data": {
      "text/plain": [
       "(-0.1162956497020839, 0.0)"
      ]
     },
     "execution_count": 30,
     "metadata": {},
     "output_type": "execute_result"
    }
   ],
   "source": [
    "pearsonr(sum_spent, disc_nrmd)"
   ]
  },
  {
   "cell_type": "markdown",
   "id": "d3e1fec9-63af-4caa-99c9-2f448e0f5c42",
   "metadata": {},
   "source": [
    "looks like inverse dependance"
   ]
  },
  {
   "cell_type": "markdown",
   "id": "63708dbf-fd85-48e4-b9a8-2ed5cd53ca28",
   "metadata": {},
   "source": [
    "# Task 2"
   ]
  },
  {
   "cell_type": "code",
   "execution_count": 31,
   "id": "339d9577-0ac6-4935-92bf-cbfa219ec3be",
   "metadata": {},
   "outputs": [
    {
     "data": {
      "image/png": "[encoded data removed]",
      "text/plain": [
       "<Figure size 1800x1080 with 1 Axes>"
      ]
     },
     "metadata": {
      "needs_background": "light"
     },
     "output_type": "display_data"
    }
   ],
   "source": [
    "g.date = pd.to_datetime(g.date, format='%Y-%m-%d %H:%M:%S')\n",
    "rpd = g.groupby(g.date.dt.day)['id_doc'].count()\n",
    "plt.figure(figsize=(25, 15))\n",
    "plt.locator_params(axis='x', nbins=31)\n",
    "plt.plot(rpd)\n",
    "plt.show()"
   ]
  },
  {
   "cell_type": "code",
   "execution_count": null,
   "id": "1143fd86-4c63-47bd-931f-4b27e9d9c89e",
   "metadata": {},
   "outputs": [],
   "source": []
  },
  {
   "cell_type": "markdown",
   "id": "5b5ce9cc-051d-41bb-97cd-fa3d0f3de33b",
   "metadata": {},
   "source": [
    "looks like at 5th, 6th, 19th, 20th local minimums and then it increasesrpd"
   ]
  },
  {
   "cell_type": "markdown",
   "id": "d6b3f9b0-cd71-4b37-aaf8-b5acbe70acb3",
   "metadata": {},
   "source": [
    "### lets ANOVA"
   ]
  },
  {
   "cell_type": "markdown",
   "id": "45e7146d-8386-4b2c-9418-d1d60ce81089",
   "metadata": {},
   "source": [
    "## H0 : shopping in afterwage days same as all other days"
   ]
  },
  {
   "cell_type": "markdown",
   "id": "19c6b982-bde2-4639-b717-5207e00ef89e",
   "metadata": {},
   "source": [
    "## H1 : differnet"
   ]
  },
  {
   "cell_type": "code",
   "execution_count": 41,
   "id": "a842b917-da58-4637-8e16-35e7bc8a03a6",
   "metadata": {},
   "outputs": [
    {
     "data": {
      "text/plain": [
       "date\n",
       "1     1386381\n",
       "2     1403567\n",
       "3     1406574\n",
       "4     1394242\n",
       "5     1167874\n",
       "6     1279774\n",
       "7     1490998\n",
       "8     1343796\n",
       "9     1455905\n",
       "10    1424965\n",
       "11    1406188\n",
       "12    1200989\n",
       "13    1289206\n",
       "14    1490892\n",
       "15    1436508\n",
       "16    1446709\n",
       "17    1295384\n",
       "18    1559868\n",
       "19    1288153\n",
       "20    1330407\n",
       "21    1492300\n",
       "22    1474016\n",
       "23    1467160\n",
       "24    1458965\n",
       "25    1493372\n",
       "26    1247927\n",
       "27    1346850\n",
       "28    1541365\n",
       "29    1538009\n",
       "30    1542514\n",
       "Name: id_doc, dtype: int64"
      ]
     },
     "execution_count": 41,
     "metadata": {},
     "output_type": "execute_result"
    }
   ],
   "source": [
    "rpd"
   ]
  },
  {
   "cell_type": "code",
   "execution_count": 40,
   "id": "32eebf1f-5e4f-47d5-b243-84c85fa7d943",
   "metadata": {},
   "outputs": [
    {
     "data": {
      "text/plain": [
       "Int64Index([ 1,  2,  3,  4,  5,  6,  7,  8,  9, 10, 11, 12, 13, 14, 15, 16, 17,\n",
       "            18, 19, 20, 21, 22, 23, 24, 25, 26, 27, 28, 29, 30],\n",
       "           dtype='int64', name='date')"
      ]
     },
     "execution_count": 40,
     "metadata": {},
     "output_type": "execute_result"
    }
   ],
   "source": [
    "rpd.index"
   ]
  },
  {
   "cell_type": "code",
   "execution_count": 46,
   "id": "8e16dcd0-925d-459d-a382-ab203c3f4b3a",
   "metadata": {},
   "outputs": [
    {
     "data": {
      "text/plain": [
       "F_onewayResult(statistic=0.8483356604781856, pvalue=0.3648917659121198)"
      ]
     },
     "execution_count": 46,
     "metadata": {},
     "output_type": "execute_result"
    }
   ],
   "source": [
    "ad = rpd.index.to_list()\n",
    "interesting, leftover = ad[0:6]+ad[19:26], ad[6:18] + ad[25:]\n",
    "f_oneway(leftover, interesting)"
   ]
  },
  {
   "cell_type": "markdown",
   "id": "698fcc95-7277-4fcb-8f55-1d0ce2a19768",
   "metadata": {},
   "source": [
    "p value big, fail to reject H0"
   ]
  },
  {
   "cell_type": "markdown",
   "id": "ac7f9e5c-5b16-4671-b174-4c3190893eca",
   "metadata": {},
   "source": [
    "# Task 3"
   ]
  },
  {
   "cell_type": "markdown",
   "id": "527d44bf-a54d-4735-a22a-224891703fa3",
   "metadata": {},
   "source": [
    "## freq buyers"
   ]
  },
  {
   "cell_type": "code",
   "execution_count": 59,
   "id": "c740859f-3b99-4e76-afee-dcae32f08689",
   "metadata": {},
   "outputs": [],
   "source": [
    "g = pd.read_csv('data/09_groups.csv')"
   ]
  },
  {
   "cell_type": "code",
   "execution_count": 63,
   "id": "b8e8c104-79c2-4fd3-bd5d-1b907ed2f505",
   "metadata": {},
   "outputs": [],
   "source": [
    "g.date = pd.to_datetime(g.date, format='%Y-%m-%d %H:%M:%S')"
   ]
  },
  {
   "cell_type": "code",
   "execution_count": 68,
   "id": "a8aac2c2-2035-45a5-9e4f-40de7438d374",
   "metadata": {},
   "outputs": [
    {
     "data": {
      "text/plain": [
       "Text(0, 0.5, 'Number of purchases')"
      ]
     },
     "execution_count": 68,
     "metadata": {},
     "output_type": "execute_result"
    },
    {
     "data": {
      "image/png": "[encoded data removed]",
      "text/plain": [
       "<Figure size 432x288 with 1 Axes>"
      ]
     },
     "metadata": {
      "needs_background": "light"
     },
     "output_type": "display_data"
    }
   ],
   "source": [
    "cr = df.groupby('id_card')['id_doc'].count()\n",
    "plt.hist(cr, bins=100)\n",
    "plt.xlabel('Number of customers')\n",
    "plt.ylabel('Number of purchases')"
   ]
  },
  {
   "cell_type": "code",
   "execution_count": null,
   "id": "bae36999-05fe-4f56-bde9-43001e51897e",
   "metadata": {},
   "outputs": [],
   "source": []
  },
  {
   "cell_type": "code",
   "execution_count": 69,
   "id": "80171045-8fef-4524-99e3-255e9e38792f",
   "metadata": {},
   "outputs": [
    {
     "data": {
      "text/plain": [
       "Text(0, 0.5, 'Number of purchases')"
      ]
     },
     "execution_count": 69,
     "metadata": {},
     "output_type": "execute_result"
    },
    {
     "data": {
      "image/png": "[encoded data removed]",
      "text/plain": [
       "<Figure size 576x360 with 1 Axes>"
      ]
     },
     "metadata": {
      "needs_background": "light"
     },
     "output_type": "display_data"
    }
   ],
   "source": [
    "freqs = (1 / cr[cr > 0] * 30).round()\n",
    "\n",
    "plt.figure(figsize=(8, 5))\n",
    "plt.hist(freqs, bins=30)\n",
    "plt.xlabel('Number of days between two purchases (on average)')\n",
    "plt.ylabel('Number of purchases')"
   ]
  },
  {
   "cell_type": "code",
   "execution_count": null,
   "id": "b775444d-76b5-49e3-83de-08f7e48e0a3c",
   "metadata": {},
   "outputs": [],
   "source": []
  },
  {
   "cell_type": "markdown",
   "id": "66a5501f-c580-4f65-a21a-ec98f638cac9",
   "metadata": {},
   "source": [
    "## Average purchase sum"
   ]
  },
  {
   "cell_type": "code",
   "execution_count": 70,
   "id": "d0996e36-b56a-48d4-9d2b-71224c9ec08b",
   "metadata": {},
   "outputs": [
    {
     "data": {
      "text/plain": [
       "id_card\n",
       "0    3607.20\n",
       "1     147.00\n",
       "2    1485.00\n",
       "3    4393.38\n",
       "4    3905.12\n",
       "Name: sum, dtype: float64"
      ]
     },
     "execution_count": 70,
     "metadata": {},
     "output_type": "execute_result"
    }
   ],
   "source": [
    "aps = g.groupby('id_card')['sum'].sum()\n",
    "aps.head()"
   ]
  },
  {
   "cell_type": "code",
   "execution_count": 71,
   "id": "8b0aead6-9222-488f-8cc9-e706deb9f00e",
   "metadata": {},
   "outputs": [
    {
     "data": {
      "image/png": "[encoded data removed]",
      "text/plain": [
       "<Figure size 576x360 with 1 Axes>"
      ]
     },
     "metadata": {
      "needs_background": "light"
     },
     "output_type": "display_data"
    }
   ],
   "source": [
    "plt.figure(figsize=(8, 5))\n",
    "plt.ylabel('Number of customers')\n",
    "plt.xlabel('Purchase sum')\n",
    "plt.hist(aps // 100 * 100, bins=30);"
   ]
  },
  {
   "cell_type": "code",
   "execution_count": 72,
   "id": "1bf3abc4-837c-425b-8de0-7fd8f1e2d0dc",
   "metadata": {},
   "outputs": [
    {
     "data": {
      "image/png": "[encoded data removed]",
      "text/plain": [
       "<Figure size 576x360 with 1 Axes>"
      ]
     },
     "metadata": {
      "needs_background": "light"
     },
     "output_type": "display_data"
    }
   ],
   "source": [
    "plt.figure(figsize=(8, 5))\n",
    "plt.ylabel('Number of customers')\n",
    "plt.xlabel('Purchase sum')\n",
    "plt.hist(aps[aps < 40000] // 100 * 100, bins=30);"
   ]
  },
  {
   "cell_type": "markdown",
   "id": "42af2f80-59ae-4eca-85b5-ae893711ee57",
   "metadata": {},
   "source": [
    "Most of the customers make purchases less than 1000 rubles\n",
    "\n"
   ]
  },
  {
   "cell_type": "markdown",
   "id": "d77c7653-d2da-4b4b-b2b7-02b42104d6f2",
   "metadata": {},
   "source": [
    "## Usual cart"
   ]
  },
  {
   "cell_type": "code",
   "execution_count": 75,
   "id": "001988cb-fec6-43fc-bccb-d61ac5ef75ce",
   "metadata": {},
   "outputs": [
    {
     "data": {
      "image/png": "[encoded data removed]",
      "text/plain": [
       "<Figure size 576x360 with 1 Axes>"
      ]
     },
     "metadata": {
      "needs_background": "light"
     },
     "output_type": "display_data"
    }
   ],
   "source": [
    "ccpg = g.groupby('id_group')['id_card'].unique().apply(len)\n",
    "\n",
    "plt.figure(figsize=(8, 5))\n",
    "plt.hist(ccpg.sort_values(ascending=False)[:30], bins=20)\n",
    "plt.ylabel('Groups count')\n",
    "plt.ylabel('Number of customers');"
   ]
  },
  {
   "cell_type": "code",
   "execution_count": 76,
   "id": "df5c14e4-4ad5-4c78-8641-83c95a78f4a0",
   "metadata": {},
   "outputs": [
    {
     "data": {
      "text/plain": [
       "<AxesSubplot:xlabel='id_group'>"
      ]
     },
     "execution_count": 76,
     "metadata": {},
     "output_type": "execute_result"
    },
    {
     "data": {
      "image/png": "[encoded data removed]",
      "text/plain": [
       "<Figure size 432x288 with 1 Axes>"
      ]
     },
     "metadata": {
      "needs_background": "light"
     },
     "output_type": "display_data"
    }
   ],
   "source": [
    "ccpg = g.groupby(by=['id_group'])['id_card'].unique().apply(len)\n",
    "ccpg = ccpg.sort_values(ascending=False)\n",
    "ccpg[:20].plot(kind='bar')"
   ]
  },
  {
   "cell_type": "code",
   "execution_count": 77,
   "id": "a6d2f9af-756b-41ac-a080-8cd37771a3a6",
   "metadata": {},
   "outputs": [
    {
     "data": {
      "text/html": [
       "<div>\n",
       "<style scoped>\n",
       "    .dataframe tbody tr th:only-of-type {\n",
       "        vertical-align: middle;\n",
       "    }\n",
       "\n",
       "    .dataframe tbody tr th {\n",
       "        vertical-align: top;\n",
       "    }\n",
       "\n",
       "    .dataframe thead th {\n",
       "        text-align: right;\n",
       "    }\n",
       "</style>\n",
       "<table border=\"1\" class=\"dataframe\">\n",
       "  <thead>\n",
       "    <tr style=\"text-align: right;\">\n",
       "      <th></th>\n",
       "      <th>id_tov</th>\n",
       "      <th>id_group</th>\n",
       "      <th>name_group</th>\n",
       "    </tr>\n",
       "  </thead>\n",
       "  <tbody>\n",
       "    <tr>\n",
       "      <th>0</th>\n",
       "      <td>52</td>\n",
       "      <td>10004</td>\n",
       "      <td>Кисломолочные продукты</td>\n",
       "    </tr>\n",
       "    <tr>\n",
       "      <th>1</th>\n",
       "      <td>75</td>\n",
       "      <td>10004</td>\n",
       "      <td>Кисломолочные продукты</td>\n",
       "    </tr>\n",
       "    <tr>\n",
       "      <th>2</th>\n",
       "      <td>77</td>\n",
       "      <td>10004</td>\n",
       "      <td>Кисломолочные продукты</td>\n",
       "    </tr>\n",
       "    <tr>\n",
       "      <th>3</th>\n",
       "      <td>143</td>\n",
       "      <td>10004</td>\n",
       "      <td>Кисломолочные продукты</td>\n",
       "    </tr>\n",
       "    <tr>\n",
       "      <th>4</th>\n",
       "      <td>151</td>\n",
       "      <td>10004</td>\n",
       "      <td>Кисломолочные продукты</td>\n",
       "    </tr>\n",
       "  </tbody>\n",
       "</table>\n",
       "</div>"
      ],
      "text/plain": [
       "   id_tov  id_group              name_group\n",
       "0      52     10004  Кисломолочные продукты\n",
       "1      75     10004  Кисломолочные продукты\n",
       "2      77     10004  Кисломолочные продукты\n",
       "3     143     10004  Кисломолочные продукты\n",
       "4     151     10004  Кисломолочные продукты"
      ]
     },
     "execution_count": 77,
     "metadata": {},
     "output_type": "execute_result"
    }
   ],
   "source": [
    "p_g = pd.read_csv('./data/product_groups.csv', delimiter=';', encoding='windows-1251')\n",
    "p_g.head()"
   ]
  },
  {
   "cell_type": "code",
   "execution_count": 78,
   "id": "00ecd0fd-0ab5-4e86-affc-8af97749326c",
   "metadata": {},
   "outputs": [
    {
     "name": "stderr",
     "output_type": "stream",
     "text": [
      "/opt/conda/envs/torchok4/lib/python3.7/site-packages/ipykernel_launcher.py:2: SettingWithCopyWarning: \n",
      "A value is trying to be set on a copy of a slice from a DataFrame\n",
      "\n",
      "See the caveats in the documentation: https://pandas.pydata.org/pandas-docs/stable/user_guide/indexing.html#returning-a-view-versus-a-copy\n",
      "  \n",
      "/opt/conda/envs/torchok4/lib/python3.7/site-packages/ipykernel_launcher.py:3: SettingWithCopyWarning: \n",
      "A value is trying to be set on a copy of a slice from a DataFrame.\n",
      "Try using .loc[row_indexer,col_indexer] = value instead\n",
      "\n",
      "See the caveats in the documentation: https://pandas.pydata.org/pandas-docs/stable/user_guide/indexing.html#returning-a-view-versus-a-copy\n",
      "  This is separate from the ipykernel package so we can avoid doing imports until\n"
     ]
    },
    {
     "data": {
      "text/html": [
       "<div>\n",
       "<style scoped>\n",
       "    .dataframe tbody tr th:only-of-type {\n",
       "        vertical-align: middle;\n",
       "    }\n",
       "\n",
       "    .dataframe tbody tr th {\n",
       "        vertical-align: top;\n",
       "    }\n",
       "\n",
       "    .dataframe thead th {\n",
       "        text-align: right;\n",
       "    }\n",
       "</style>\n",
       "<table border=\"1\" class=\"dataframe\">\n",
       "  <thead>\n",
       "    <tr style=\"text-align: right;\">\n",
       "      <th></th>\n",
       "      <th>id_group</th>\n",
       "      <th>name_group</th>\n",
       "      <th>occurence</th>\n",
       "    </tr>\n",
       "  </thead>\n",
       "  <tbody>\n",
       "    <tr>\n",
       "      <th>0</th>\n",
       "      <td>10004</td>\n",
       "      <td>Кисломолочные продукты</td>\n",
       "      <td>NaN</td>\n",
       "    </tr>\n",
       "    <tr>\n",
       "      <th>43</th>\n",
       "      <td>10005</td>\n",
       "      <td>Творог</td>\n",
       "      <td>NaN</td>\n",
       "    </tr>\n",
       "    <tr>\n",
       "      <th>93</th>\n",
       "      <td>10008</td>\n",
       "      <td>Торты, пирожные, муссы, суфле</td>\n",
       "      <td>NaN</td>\n",
       "    </tr>\n",
       "    <tr>\n",
       "      <th>960</th>\n",
       "      <td>10033</td>\n",
       "      <td>Выпечка, печенье, вафли, пряники</td>\n",
       "      <td>NaN</td>\n",
       "    </tr>\n",
       "    <tr>\n",
       "      <th>1032</th>\n",
       "      <td>10034</td>\n",
       "      <td>Леденцы, мармелад, халва, зефир, восточные сла...</td>\n",
       "      <td>NaN</td>\n",
       "    </tr>\n",
       "  </tbody>\n",
       "</table>\n",
       "</div>"
      ],
      "text/plain": [
       "      id_group                                         name_group  occurence\n",
       "0        10004                             Кисломолочные продукты        NaN\n",
       "43       10005                                             Творог        NaN\n",
       "93       10008                      Торты, пирожные, муссы, суфле        NaN\n",
       "960      10033                   Выпечка, печенье, вафли, пряники        NaN\n",
       "1032     10034  Леденцы, мармелад, халва, зефир, восточные сла...        NaN"
      ]
     },
     "execution_count": 78,
     "metadata": {},
     "output_type": "execute_result"
    }
   ],
   "source": [
    "ig = p_g[p_g.id_group.isin(ccpg[:20].index)]\n",
    "ig.drop_duplicates('id_group', 'first', inplace=True)\n",
    "ig['occurence'] = ccpg[:20]\n",
    "ig.sort_values('occurence', ascending=False)\n",
    "ig[['id_group', 'name_group', 'occurence']].head()"
   ]
  },
  {
   "cell_type": "markdown",
   "id": "034572c7-b71e-402b-8da8-74d154419a5e",
   "metadata": {},
   "source": [
    "Most of the clients buy \"Кисломолочные продукты\""
   ]
  },
  {
   "cell_type": "code",
   "execution_count": null,
   "id": "ae3cb488-e122-4ca1-93db-fc55419ee337",
   "metadata": {},
   "outputs": [],
   "source": []
  },
  {
   "cell_type": "code",
   "execution_count": null,
   "id": "c5aefe3a-0bc0-43e5-88b6-7541125987cd",
   "metadata": {},
   "outputs": [],
   "source": []
  },
  {
   "cell_type": "code",
   "execution_count": null,
   "id": "2135cb77-da1c-4a34-a12f-3a883952295e",
   "metadata": {},
   "outputs": [],
   "source": []
  },
  {
   "cell_type": "code",
   "execution_count": null,
   "id": "cb2b4458-1211-48d4-a677-9c5aec4f594d",
   "metadata": {},
   "outputs": [],
   "source": []
  },
  {
   "cell_type": "code",
   "execution_count": null,
   "id": "479f1c0a-a1f0-4a08-86ff-e4ee494a24d3",
   "metadata": {},
   "outputs": [],
   "source": []
  },
  {
   "cell_type": "code",
   "execution_count": null,
   "id": "a288c684-bd9d-482c-8dfa-bb5d88ed5e95",
   "metadata": {},
   "outputs": [],
   "source": []
  },
  {
   "cell_type": "code",
   "execution_count": null,
   "id": "6b44d62c-e914-4d86-b458-2990f8ecbd35",
   "metadata": {},
   "outputs": [],
   "source": []
  },
  {
   "cell_type": "code",
   "execution_count": null,
   "id": "20c8fc41-deae-4e3f-91bd-9a714052f489",
   "metadata": {},
   "outputs": [],
   "source": []
  },
  {
   "cell_type": "code",
   "execution_count": null,
   "id": "ec59afcb-699d-403e-b73c-863fee51337e",
   "metadata": {},
   "outputs": [],
   "source": []
  },
  {
   "cell_type": "code",
   "execution_count": null,
   "id": "ec3fe960-3b39-4d8f-8b29-a98d939e804a",
   "metadata": {},
   "outputs": [],
   "source": []
  },
  {
   "cell_type": "code",
   "execution_count": null,
   "id": "9cf691cb-754b-4c82-942a-78219b37e3b7",
   "metadata": {},
   "outputs": [],
   "source": []
  },
  {
   "cell_type": "code",
   "execution_count": null,
   "id": "31632b7e-2fb5-4e1e-9055-37bcf335b1d9",
   "metadata": {},
   "outputs": [],
   "source": [
    "\n"
   ]
  }
 ],
 "metadata": {
  "kernelspec": {
   "display_name": "Python 3",
   "language": "python",
   "name": "python3"
  },
  "language_info": {
   "codemirror_mode": {
    "name": "ipython",
    "version": 3
   },
   "file_extension": ".py",
   "mimetype": "text/x-python",
   "name": "python",
   "nbconvert_exporter": "python",
   "pygments_lexer": "ipython3",
   "version": "3.7.10"
  }
 },
 "nbformat": 4,
 "nbformat_minor": 5
}
