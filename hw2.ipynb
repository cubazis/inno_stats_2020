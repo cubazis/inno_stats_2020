{
 "cells": [
  {
   "cell_type": "code",
   "execution_count": 1,
   "metadata": {},
   "outputs": [],
   "source": [
    "from pathlib import Path\n",
    "import pandas as pd\n",
    "import gc\n",
    "from sklearn.preprocessing import LabelEncoder\n",
    "import pickle\n",
    "import bz2\n",
    "import scipy"
   ]
  },
  {
   "cell_type": "markdown",
   "metadata": {},
   "source": [
    "Download https://drive.google.com/drive/folders/1BZFez3OFs7QMzeDUz-8E0SgnRy227pnG"
   ]
  },
  {
   "cell_type": "markdown",
   "metadata": {},
   "source": [
    "Unzip"
   ]
  },
  {
   "cell_type": "markdown",
   "metadata": {},
   "source": [
    "!mkdir data\n",
    "!tar -xf inno_stats.tar.gz -C ./data"
   ]
  },
  {
   "cell_type": "code",
   "execution_count": 2,
   "metadata": {},
   "outputs": [
    {
     "name": "stdout",
     "output_type": "stream",
     "text": [
      "09_groups.csv      11_groups.csv      product_groups.csv\r\n",
      "10_groups.csv      bad_ids.csv\r\n"
     ]
    }
   ],
   "source": [
    "data_path = Path('./data/').resolve()\n",
    "!ls {data_path}"
   ]
  },
  {
   "cell_type": "code",
   "execution_count": 3,
   "metadata": {},
   "outputs": [
    {
     "data": {
      "text/html": [
       "<div>\n",
       "<style scoped>\n",
       "    .dataframe tbody tr th:only-of-type {\n",
       "        vertical-align: middle;\n",
       "    }\n",
       "\n",
       "    .dataframe tbody tr th {\n",
       "        vertical-align: top;\n",
       "    }\n",
       "\n",
       "    .dataframe thead th {\n",
       "        text-align: right;\n",
       "    }\n",
       "</style>\n",
       "<table border=\"1\" class=\"dataframe\">\n",
       "  <thead>\n",
       "    <tr style=\"text-align: right;\">\n",
       "      <th></th>\n",
       "      <th>date</th>\n",
       "      <th>id_doc</th>\n",
       "      <th>id_order</th>\n",
       "      <th>id_card</th>\n",
       "      <th>id_tov</th>\n",
       "      <th>id_kontr</th>\n",
       "      <th>quantity</th>\n",
       "      <th>sum</th>\n",
       "      <th>is_green</th>\n",
       "      <th>id_group</th>\n",
       "    </tr>\n",
       "  </thead>\n",
       "  <tbody>\n",
       "    <tr>\n",
       "      <th>0</th>\n",
       "      <td>2020-09-01 17:01:25</td>\n",
       "      <td>1283228</td>\n",
       "      <td>0.0</td>\n",
       "      <td>1538855</td>\n",
       "      <td>52</td>\n",
       "      <td>271</td>\n",
       "      <td>1.0</td>\n",
       "      <td>108.00</td>\n",
       "      <td>0</td>\n",
       "      <td>10004</td>\n",
       "    </tr>\n",
       "    <tr>\n",
       "      <th>1</th>\n",
       "      <td>2020-09-01 17:35:36</td>\n",
       "      <td>8873113</td>\n",
       "      <td>0.0</td>\n",
       "      <td>267307</td>\n",
       "      <td>52</td>\n",
       "      <td>271</td>\n",
       "      <td>1.0</td>\n",
       "      <td>108.00</td>\n",
       "      <td>0</td>\n",
       "      <td>10004</td>\n",
       "    </tr>\n",
       "    <tr>\n",
       "      <th>2</th>\n",
       "      <td>2020-09-01 19:19:21</td>\n",
       "      <td>12712899</td>\n",
       "      <td>0.0</td>\n",
       "      <td>610220</td>\n",
       "      <td>52</td>\n",
       "      <td>271</td>\n",
       "      <td>1.0</td>\n",
       "      <td>107.95</td>\n",
       "      <td>0</td>\n",
       "      <td>10004</td>\n",
       "    </tr>\n",
       "    <tr>\n",
       "      <th>3</th>\n",
       "      <td>2020-09-01 21:53:34</td>\n",
       "      <td>21535283</td>\n",
       "      <td>0.0</td>\n",
       "      <td>441497</td>\n",
       "      <td>52</td>\n",
       "      <td>271</td>\n",
       "      <td>1.0</td>\n",
       "      <td>108.00</td>\n",
       "      <td>0</td>\n",
       "      <td>10004</td>\n",
       "    </tr>\n",
       "    <tr>\n",
       "      <th>4</th>\n",
       "      <td>2020-09-01 18:42:31</td>\n",
       "      <td>642341</td>\n",
       "      <td>0.0</td>\n",
       "      <td>1065358</td>\n",
       "      <td>61</td>\n",
       "      <td>97</td>\n",
       "      <td>2.0</td>\n",
       "      <td>88.00</td>\n",
       "      <td>0</td>\n",
       "      <td>10091</td>\n",
       "    </tr>\n",
       "  </tbody>\n",
       "</table>\n",
       "</div>"
      ],
      "text/plain": [
       "                  date    id_doc  id_order  id_card  id_tov  id_kontr  \\\n",
       "0  2020-09-01 17:01:25   1283228       0.0  1538855      52       271   \n",
       "1  2020-09-01 17:35:36   8873113       0.0   267307      52       271   \n",
       "2  2020-09-01 19:19:21  12712899       0.0   610220      52       271   \n",
       "3  2020-09-01 21:53:34  21535283       0.0   441497      52       271   \n",
       "4  2020-09-01 18:42:31    642341       0.0  1065358      61        97   \n",
       "\n",
       "   quantity     sum  is_green  id_group  \n",
       "0       1.0  108.00         0     10004  \n",
       "1       1.0  108.00         0     10004  \n",
       "2       1.0  107.95         0     10004  \n",
       "3       1.0  108.00         0     10004  \n",
       "4       2.0   88.00         0     10091  "
      ]
     },
     "execution_count": 3,
     "metadata": {},
     "output_type": "execute_result"
    }
   ],
   "source": [
    "g_9 = pd.read_csv('./data/09_groups.csv')\n",
    "g_9.head()"
   ]
  },
  {
   "cell_type": "code",
   "execution_count": 4,
   "metadata": {},
   "outputs": [
    {
     "data": {
      "text/html": [
       "<div>\n",
       "<style scoped>\n",
       "    .dataframe tbody tr th:only-of-type {\n",
       "        vertical-align: middle;\n",
       "    }\n",
       "\n",
       "    .dataframe tbody tr th {\n",
       "        vertical-align: top;\n",
       "    }\n",
       "\n",
       "    .dataframe thead th {\n",
       "        text-align: right;\n",
       "    }\n",
       "</style>\n",
       "<table border=\"1\" class=\"dataframe\">\n",
       "  <thead>\n",
       "    <tr style=\"text-align: right;\">\n",
       "      <th></th>\n",
       "      <th>id_tov</th>\n",
       "      <th>id_group</th>\n",
       "      <th>name_group</th>\n",
       "    </tr>\n",
       "  </thead>\n",
       "  <tbody>\n",
       "    <tr>\n",
       "      <th>0</th>\n",
       "      <td>52</td>\n",
       "      <td>10004</td>\n",
       "      <td>Кисломолочные продукты</td>\n",
       "    </tr>\n",
       "    <tr>\n",
       "      <th>1</th>\n",
       "      <td>75</td>\n",
       "      <td>10004</td>\n",
       "      <td>Кисломолочные продукты</td>\n",
       "    </tr>\n",
       "    <tr>\n",
       "      <th>2</th>\n",
       "      <td>77</td>\n",
       "      <td>10004</td>\n",
       "      <td>Кисломолочные продукты</td>\n",
       "    </tr>\n",
       "    <tr>\n",
       "      <th>3</th>\n",
       "      <td>143</td>\n",
       "      <td>10004</td>\n",
       "      <td>Кисломолочные продукты</td>\n",
       "    </tr>\n",
       "    <tr>\n",
       "      <th>4</th>\n",
       "      <td>151</td>\n",
       "      <td>10004</td>\n",
       "      <td>Кисломолочные продукты</td>\n",
       "    </tr>\n",
       "  </tbody>\n",
       "</table>\n",
       "</div>"
      ],
      "text/plain": [
       "   id_tov  id_group              name_group\n",
       "0      52     10004  Кисломолочные продукты\n",
       "1      75     10004  Кисломолочные продукты\n",
       "2      77     10004  Кисломолочные продукты\n",
       "3     143     10004  Кисломолочные продукты\n",
       "4     151     10004  Кисломолочные продукты"
      ]
     },
     "execution_count": 4,
     "metadata": {},
     "output_type": "execute_result"
    }
   ],
   "source": [
    "p_g = pd.read_csv('./data/product_groups.csv', delimiter=';', encoding='windows-1251')\n",
    "p_g.head()"
   ]
  },
  {
   "cell_type": "code",
   "execution_count": 5,
   "metadata": {},
   "outputs": [
    {
     "data": {
      "text/html": [
       "<div>\n",
       "<style scoped>\n",
       "    .dataframe tbody tr th:only-of-type {\n",
       "        vertical-align: middle;\n",
       "    }\n",
       "\n",
       "    .dataframe tbody tr th {\n",
       "        vertical-align: top;\n",
       "    }\n",
       "\n",
       "    .dataframe thead th {\n",
       "        text-align: right;\n",
       "    }\n",
       "</style>\n",
       "<table border=\"1\" class=\"dataframe\">\n",
       "  <thead>\n",
       "    <tr style=\"text-align: right;\">\n",
       "      <th></th>\n",
       "      <th>id_card</th>\n",
       "    </tr>\n",
       "  </thead>\n",
       "  <tbody>\n",
       "    <tr>\n",
       "      <th>0</th>\n",
       "      <td>806096</td>\n",
       "    </tr>\n",
       "    <tr>\n",
       "      <th>1</th>\n",
       "      <td>1438102</td>\n",
       "    </tr>\n",
       "    <tr>\n",
       "      <th>2</th>\n",
       "      <td>72344</td>\n",
       "    </tr>\n",
       "    <tr>\n",
       "      <th>3</th>\n",
       "      <td>427981</td>\n",
       "    </tr>\n",
       "    <tr>\n",
       "      <th>4</th>\n",
       "      <td>1528414</td>\n",
       "    </tr>\n",
       "  </tbody>\n",
       "</table>\n",
       "</div>"
      ],
      "text/plain": [
       "   id_card\n",
       "0   806096\n",
       "1  1438102\n",
       "2    72344\n",
       "3   427981\n",
       "4  1528414"
      ]
     },
     "execution_count": 5,
     "metadata": {},
     "output_type": "execute_result"
    }
   ],
   "source": [
    "bad_ids = pd.read_csv('./data/bad_ids.csv', delimiter=',', encoding='windows-1251', index_col=0)\n",
    "bad_ids.head()"
   ]
  },
  {
   "cell_type": "code",
   "execution_count": 6,
   "metadata": {},
   "outputs": [
    {
     "data": {
      "text/html": [
       "<div>\n",
       "<style scoped>\n",
       "    .dataframe tbody tr th:only-of-type {\n",
       "        vertical-align: middle;\n",
       "    }\n",
       "\n",
       "    .dataframe tbody tr th {\n",
       "        vertical-align: top;\n",
       "    }\n",
       "\n",
       "    .dataframe thead th {\n",
       "        text-align: right;\n",
       "    }\n",
       "</style>\n",
       "<table border=\"1\" class=\"dataframe\">\n",
       "  <thead>\n",
       "    <tr style=\"text-align: right;\">\n",
       "      <th></th>\n",
       "      <th>date</th>\n",
       "      <th>id_doc</th>\n",
       "      <th>id_order</th>\n",
       "      <th>id_card</th>\n",
       "      <th>id_tov</th>\n",
       "      <th>id_kontr</th>\n",
       "      <th>quantity</th>\n",
       "      <th>sum</th>\n",
       "      <th>is_green</th>\n",
       "      <th>id_group</th>\n",
       "    </tr>\n",
       "  </thead>\n",
       "  <tbody>\n",
       "    <tr>\n",
       "      <th>0</th>\n",
       "      <td>2020-09-01 17:01:25</td>\n",
       "      <td>1283228</td>\n",
       "      <td>0.0</td>\n",
       "      <td>1538855</td>\n",
       "      <td>52</td>\n",
       "      <td>271</td>\n",
       "      <td>1.0</td>\n",
       "      <td>108.00</td>\n",
       "      <td>0</td>\n",
       "      <td>10004</td>\n",
       "    </tr>\n",
       "    <tr>\n",
       "      <th>1</th>\n",
       "      <td>2020-09-01 17:35:36</td>\n",
       "      <td>8873113</td>\n",
       "      <td>0.0</td>\n",
       "      <td>267307</td>\n",
       "      <td>52</td>\n",
       "      <td>271</td>\n",
       "      <td>1.0</td>\n",
       "      <td>108.00</td>\n",
       "      <td>0</td>\n",
       "      <td>10004</td>\n",
       "    </tr>\n",
       "    <tr>\n",
       "      <th>2</th>\n",
       "      <td>2020-09-01 19:19:21</td>\n",
       "      <td>12712899</td>\n",
       "      <td>0.0</td>\n",
       "      <td>610220</td>\n",
       "      <td>52</td>\n",
       "      <td>271</td>\n",
       "      <td>1.0</td>\n",
       "      <td>107.95</td>\n",
       "      <td>0</td>\n",
       "      <td>10004</td>\n",
       "    </tr>\n",
       "    <tr>\n",
       "      <th>3</th>\n",
       "      <td>2020-09-01 21:53:34</td>\n",
       "      <td>21535283</td>\n",
       "      <td>0.0</td>\n",
       "      <td>441497</td>\n",
       "      <td>52</td>\n",
       "      <td>271</td>\n",
       "      <td>1.0</td>\n",
       "      <td>108.00</td>\n",
       "      <td>0</td>\n",
       "      <td>10004</td>\n",
       "    </tr>\n",
       "    <tr>\n",
       "      <th>4</th>\n",
       "      <td>2020-09-01 18:42:31</td>\n",
       "      <td>642341</td>\n",
       "      <td>0.0</td>\n",
       "      <td>1065358</td>\n",
       "      <td>61</td>\n",
       "      <td>97</td>\n",
       "      <td>2.0</td>\n",
       "      <td>88.00</td>\n",
       "      <td>0</td>\n",
       "      <td>10091</td>\n",
       "    </tr>\n",
       "  </tbody>\n",
       "</table>\n",
       "</div>"
      ],
      "text/plain": [
       "                  date    id_doc  id_order  id_card  id_tov  id_kontr  \\\n",
       "0  2020-09-01 17:01:25   1283228       0.0  1538855      52       271   \n",
       "1  2020-09-01 17:35:36   8873113       0.0   267307      52       271   \n",
       "2  2020-09-01 19:19:21  12712899       0.0   610220      52       271   \n",
       "3  2020-09-01 21:53:34  21535283       0.0   441497      52       271   \n",
       "4  2020-09-01 18:42:31    642341       0.0  1065358      61        97   \n",
       "\n",
       "   quantity     sum  is_green  id_group  \n",
       "0       1.0  108.00         0     10004  \n",
       "1       1.0  108.00         0     10004  \n",
       "2       1.0  107.95         0     10004  \n",
       "3       1.0  108.00         0     10004  \n",
       "4       2.0   88.00         0     10091  "
      ]
     },
     "execution_count": 6,
     "metadata": {},
     "output_type": "execute_result"
    }
   ],
   "source": [
    "filtered = g_9[~g_9['id_card'].isin(bad_ids['id_card'])]\n",
    "filtered.head()"
   ]
  },
  {
   "cell_type": "code",
   "execution_count": 7,
   "metadata": {},
   "outputs": [
    {
     "data": {
      "text/html": [
       "<div>\n",
       "<style scoped>\n",
       "    .dataframe tbody tr th:only-of-type {\n",
       "        vertical-align: middle;\n",
       "    }\n",
       "\n",
       "    .dataframe tbody tr th {\n",
       "        vertical-align: top;\n",
       "    }\n",
       "\n",
       "    .dataframe thead th {\n",
       "        text-align: right;\n",
       "    }\n",
       "</style>\n",
       "<table border=\"1\" class=\"dataframe\">\n",
       "  <thead>\n",
       "    <tr style=\"text-align: right;\">\n",
       "      <th></th>\n",
       "      <th>id_doc</th>\n",
       "      <th>id_order</th>\n",
       "      <th>id_card</th>\n",
       "      <th>id_tov</th>\n",
       "      <th>id_kontr</th>\n",
       "      <th>quantity</th>\n",
       "      <th>sum</th>\n",
       "      <th>is_green</th>\n",
       "      <th>id_group</th>\n",
       "    </tr>\n",
       "  </thead>\n",
       "  <tbody>\n",
       "    <tr>\n",
       "      <th>count</th>\n",
       "      <td>4.210086e+07</td>\n",
       "      <td>4.210086e+07</td>\n",
       "      <td>4.210086e+07</td>\n",
       "      <td>4.210086e+07</td>\n",
       "      <td>4.210086e+07</td>\n",
       "      <td>4.210086e+07</td>\n",
       "      <td>4.210086e+07</td>\n",
       "      <td>4.210086e+07</td>\n",
       "      <td>4.210086e+07</td>\n",
       "    </tr>\n",
       "    <tr>\n",
       "      <th>mean</th>\n",
       "      <td>1.170384e+07</td>\n",
       "      <td>7.765869e+05</td>\n",
       "      <td>8.446032e+05</td>\n",
       "      <td>1.763064e+04</td>\n",
       "      <td>1.045977e+04</td>\n",
       "      <td>1.427065e+00</td>\n",
       "      <td>1.149112e+02</td>\n",
       "      <td>7.614348e-02</td>\n",
       "      <td>8.925476e+03</td>\n",
       "    </tr>\n",
       "    <tr>\n",
       "      <th>std</th>\n",
       "      <td>6.760102e+06</td>\n",
       "      <td>2.032896e+06</td>\n",
       "      <td>5.388947e+05</td>\n",
       "      <td>1.103226e+04</td>\n",
       "      <td>8.794764e+03</td>\n",
       "      <td>3.101411e+01</td>\n",
       "      <td>1.072201e+02</td>\n",
       "      <td>2.652276e-01</td>\n",
       "      <td>4.681248e+03</td>\n",
       "    </tr>\n",
       "    <tr>\n",
       "      <th>min</th>\n",
       "      <td>2.000000e+00</td>\n",
       "      <td>0.000000e+00</td>\n",
       "      <td>0.000000e+00</td>\n",
       "      <td>4.600000e+01</td>\n",
       "      <td>-9.999000e+03</td>\n",
       "      <td>-2.755000e+00</td>\n",
       "      <td>-1.022110e+03</td>\n",
       "      <td>0.000000e+00</td>\n",
       "      <td>-9.999000e+03</td>\n",
       "    </tr>\n",
       "    <tr>\n",
       "      <th>25%</th>\n",
       "      <td>5.848724e+06</td>\n",
       "      <td>0.000000e+00</td>\n",
       "      <td>3.650470e+05</td>\n",
       "      <td>1.452600e+04</td>\n",
       "      <td>3.850000e+02</td>\n",
       "      <td>1.000000e+00</td>\n",
       "      <td>4.800000e+01</td>\n",
       "      <td>0.000000e+00</td>\n",
       "      <td>1.002600e+04</td>\n",
       "    </tr>\n",
       "    <tr>\n",
       "      <th>50%</th>\n",
       "      <td>1.170182e+07</td>\n",
       "      <td>0.000000e+00</td>\n",
       "      <td>8.150010e+05</td>\n",
       "      <td>1.943500e+04</td>\n",
       "      <td>1.358100e+04</td>\n",
       "      <td>1.000000e+00</td>\n",
       "      <td>8.900000e+01</td>\n",
       "      <td>0.000000e+00</td>\n",
       "      <td>1.006800e+04</td>\n",
       "    </tr>\n",
       "    <tr>\n",
       "      <th>75%</th>\n",
       "      <td>1.755596e+07</td>\n",
       "      <td>0.000000e+00</td>\n",
       "      <td>1.288708e+06</td>\n",
       "      <td>2.455800e+04</td>\n",
       "      <td>1.630400e+04</td>\n",
       "      <td>1.000000e+00</td>\n",
       "      <td>1.501100e+02</td>\n",
       "      <td>0.000000e+00</td>\n",
       "      <td>1.011600e+04</td>\n",
       "    </tr>\n",
       "    <tr>\n",
       "      <th>max</th>\n",
       "      <td>2.341787e+07</td>\n",
       "      <td>6.673056e+06</td>\n",
       "      <td>1.944074e+06</td>\n",
       "      <td>3.866000e+04</td>\n",
       "      <td>2.194300e+04</td>\n",
       "      <td>5.000000e+03</td>\n",
       "      <td>3.840000e+04</td>\n",
       "      <td>1.000000e+00</td>\n",
       "      <td>5.219400e+04</td>\n",
       "    </tr>\n",
       "  </tbody>\n",
       "</table>\n",
       "</div>"
      ],
      "text/plain": [
       "             id_doc      id_order       id_card        id_tov      id_kontr  \\\n",
       "count  4.210086e+07  4.210086e+07  4.210086e+07  4.210086e+07  4.210086e+07   \n",
       "mean   1.170384e+07  7.765869e+05  8.446032e+05  1.763064e+04  1.045977e+04   \n",
       "std    6.760102e+06  2.032896e+06  5.388947e+05  1.103226e+04  8.794764e+03   \n",
       "min    2.000000e+00  0.000000e+00  0.000000e+00  4.600000e+01 -9.999000e+03   \n",
       "25%    5.848724e+06  0.000000e+00  3.650470e+05  1.452600e+04  3.850000e+02   \n",
       "50%    1.170182e+07  0.000000e+00  8.150010e+05  1.943500e+04  1.358100e+04   \n",
       "75%    1.755596e+07  0.000000e+00  1.288708e+06  2.455800e+04  1.630400e+04   \n",
       "max    2.341787e+07  6.673056e+06  1.944074e+06  3.866000e+04  2.194300e+04   \n",
       "\n",
       "           quantity           sum      is_green      id_group  \n",
       "count  4.210086e+07  4.210086e+07  4.210086e+07  4.210086e+07  \n",
       "mean   1.427065e+00  1.149112e+02  7.614348e-02  8.925476e+03  \n",
       "std    3.101411e+01  1.072201e+02  2.652276e-01  4.681248e+03  \n",
       "min   -2.755000e+00 -1.022110e+03  0.000000e+00 -9.999000e+03  \n",
       "25%    1.000000e+00  4.800000e+01  0.000000e+00  1.002600e+04  \n",
       "50%    1.000000e+00  8.900000e+01  0.000000e+00  1.006800e+04  \n",
       "75%    1.000000e+00  1.501100e+02  0.000000e+00  1.011600e+04  \n",
       "max    5.000000e+03  3.840000e+04  1.000000e+00  5.219400e+04  "
      ]
     },
     "execution_count": 7,
     "metadata": {},
     "output_type": "execute_result"
    }
   ],
   "source": [
    "g_9.describe()"
   ]
  },
  {
   "cell_type": "code",
   "execution_count": 8,
   "metadata": {},
   "outputs": [
    {
     "data": {
      "text/html": [
       "<div>\n",
       "<style scoped>\n",
       "    .dataframe tbody tr th:only-of-type {\n",
       "        vertical-align: middle;\n",
       "    }\n",
       "\n",
       "    .dataframe tbody tr th {\n",
       "        vertical-align: top;\n",
       "    }\n",
       "\n",
       "    .dataframe thead th {\n",
       "        text-align: right;\n",
       "    }\n",
       "</style>\n",
       "<table border=\"1\" class=\"dataframe\">\n",
       "  <thead>\n",
       "    <tr style=\"text-align: right;\">\n",
       "      <th></th>\n",
       "      <th>id_doc</th>\n",
       "      <th>id_order</th>\n",
       "      <th>id_card</th>\n",
       "      <th>id_tov</th>\n",
       "      <th>id_kontr</th>\n",
       "      <th>quantity</th>\n",
       "      <th>sum</th>\n",
       "      <th>is_green</th>\n",
       "      <th>id_group</th>\n",
       "    </tr>\n",
       "  </thead>\n",
       "  <tbody>\n",
       "    <tr>\n",
       "      <th>count</th>\n",
       "      <td>3.846600e+07</td>\n",
       "      <td>3.846600e+07</td>\n",
       "      <td>3.846600e+07</td>\n",
       "      <td>3.846600e+07</td>\n",
       "      <td>3.846600e+07</td>\n",
       "      <td>3.846600e+07</td>\n",
       "      <td>3.846600e+07</td>\n",
       "      <td>3.846600e+07</td>\n",
       "      <td>3.846600e+07</td>\n",
       "    </tr>\n",
       "    <tr>\n",
       "      <th>mean</th>\n",
       "      <td>1.170401e+07</td>\n",
       "      <td>7.902277e+05</td>\n",
       "      <td>8.480062e+05</td>\n",
       "      <td>1.759290e+04</td>\n",
       "      <td>1.042237e+04</td>\n",
       "      <td>1.247657e+00</td>\n",
       "      <td>1.158831e+02</td>\n",
       "      <td>6.789276e-02</td>\n",
       "      <td>8.941671e+03</td>\n",
       "    </tr>\n",
       "    <tr>\n",
       "      <th>std</th>\n",
       "      <td>6.760030e+06</td>\n",
       "      <td>2.047825e+06</td>\n",
       "      <td>5.411127e+05</td>\n",
       "      <td>1.101772e+04</td>\n",
       "      <td>8.824200e+03</td>\n",
       "      <td>1.692223e+01</td>\n",
       "      <td>1.076925e+02</td>\n",
       "      <td>2.515618e-01</td>\n",
       "      <td>4.650781e+03</td>\n",
       "    </tr>\n",
       "    <tr>\n",
       "      <th>min</th>\n",
       "      <td>2.000000e+00</td>\n",
       "      <td>0.000000e+00</td>\n",
       "      <td>0.000000e+00</td>\n",
       "      <td>4.600000e+01</td>\n",
       "      <td>-9.999000e+03</td>\n",
       "      <td>-2.755000e+00</td>\n",
       "      <td>-1.022110e+03</td>\n",
       "      <td>0.000000e+00</td>\n",
       "      <td>-9.999000e+03</td>\n",
       "    </tr>\n",
       "    <tr>\n",
       "      <th>25%</th>\n",
       "      <td>5.848967e+06</td>\n",
       "      <td>0.000000e+00</td>\n",
       "      <td>3.663850e+05</td>\n",
       "      <td>1.452600e+04</td>\n",
       "      <td>3.790000e+02</td>\n",
       "      <td>1.000000e+00</td>\n",
       "      <td>4.900000e+01</td>\n",
       "      <td>0.000000e+00</td>\n",
       "      <td>1.002600e+04</td>\n",
       "    </tr>\n",
       "    <tr>\n",
       "      <th>50%</th>\n",
       "      <td>1.170211e+07</td>\n",
       "      <td>0.000000e+00</td>\n",
       "      <td>8.137320e+05</td>\n",
       "      <td>1.943400e+04</td>\n",
       "      <td>1.358100e+04</td>\n",
       "      <td>1.000000e+00</td>\n",
       "      <td>9.000000e+01</td>\n",
       "      <td>0.000000e+00</td>\n",
       "      <td>1.006800e+04</td>\n",
       "    </tr>\n",
       "    <tr>\n",
       "      <th>75%</th>\n",
       "      <td>1.755540e+07</td>\n",
       "      <td>0.000000e+00</td>\n",
       "      <td>1.295525e+06</td>\n",
       "      <td>2.446600e+04</td>\n",
       "      <td>1.630400e+04</td>\n",
       "      <td>1.000000e+00</td>\n",
       "      <td>1.520000e+02</td>\n",
       "      <td>0.000000e+00</td>\n",
       "      <td>1.011600e+04</td>\n",
       "    </tr>\n",
       "    <tr>\n",
       "      <th>max</th>\n",
       "      <td>2.341787e+07</td>\n",
       "      <td>6.672847e+06</td>\n",
       "      <td>1.944074e+06</td>\n",
       "      <td>3.866000e+04</td>\n",
       "      <td>2.194300e+04</td>\n",
       "      <td>5.000000e+03</td>\n",
       "      <td>3.840000e+04</td>\n",
       "      <td>1.000000e+00</td>\n",
       "      <td>5.219400e+04</td>\n",
       "    </tr>\n",
       "  </tbody>\n",
       "</table>\n",
       "</div>"
      ],
      "text/plain": [
       "             id_doc      id_order       id_card        id_tov      id_kontr  \\\n",
       "count  3.846600e+07  3.846600e+07  3.846600e+07  3.846600e+07  3.846600e+07   \n",
       "mean   1.170401e+07  7.902277e+05  8.480062e+05  1.759290e+04  1.042237e+04   \n",
       "std    6.760030e+06  2.047825e+06  5.411127e+05  1.101772e+04  8.824200e+03   \n",
       "min    2.000000e+00  0.000000e+00  0.000000e+00  4.600000e+01 -9.999000e+03   \n",
       "25%    5.848967e+06  0.000000e+00  3.663850e+05  1.452600e+04  3.790000e+02   \n",
       "50%    1.170211e+07  0.000000e+00  8.137320e+05  1.943400e+04  1.358100e+04   \n",
       "75%    1.755540e+07  0.000000e+00  1.295525e+06  2.446600e+04  1.630400e+04   \n",
       "max    2.341787e+07  6.672847e+06  1.944074e+06  3.866000e+04  2.194300e+04   \n",
       "\n",
       "           quantity           sum      is_green      id_group  \n",
       "count  3.846600e+07  3.846600e+07  3.846600e+07  3.846600e+07  \n",
       "mean   1.247657e+00  1.158831e+02  6.789276e-02  8.941671e+03  \n",
       "std    1.692223e+01  1.076925e+02  2.515618e-01  4.650781e+03  \n",
       "min   -2.755000e+00 -1.022110e+03  0.000000e+00 -9.999000e+03  \n",
       "25%    1.000000e+00  4.900000e+01  0.000000e+00  1.002600e+04  \n",
       "50%    1.000000e+00  9.000000e+01  0.000000e+00  1.006800e+04  \n",
       "75%    1.000000e+00  1.520000e+02  0.000000e+00  1.011600e+04  \n",
       "max    5.000000e+03  3.840000e+04  1.000000e+00  5.219400e+04  "
      ]
     },
     "execution_count": 8,
     "metadata": {},
     "output_type": "execute_result"
    }
   ],
   "source": [
    "filtered.describe()"
   ]
  },
  {
   "cell_type": "markdown",
   "metadata": {},
   "source": [
    "# I don't have enough machine resources to load whole 10GB, so I used only g_9"
   ]
  },
  {
   "cell_type": "markdown",
   "metadata": {},
   "source": [
    "## Task 1\n",
    "\n",
    "Prove that buying discounted products depends on the average order sum. (It is more probable that the discounted product will be bought if bunch of money is going to be spend)"
   ]
  },
  {
   "cell_type": "code",
   "execution_count": 9,
   "metadata": {
    "scrolled": true
   },
   "outputs": [],
   "source": [
    "grouped = filtered.groupby('id_doc')[['sum', 'is_green']]\n",
    "sums = grouped.sum()\n"
   ]
  },
  {
   "cell_type": "markdown",
   "metadata": {},
   "source": [
    "Check if there is a statistical difference between means of:\n",
    "1) Sums of purchases with discounted goods\n",
    "\n",
    "2) Without discounted goods"
   ]
  },
  {
   "cell_type": "code",
   "execution_count": 10,
   "metadata": {},
   "outputs": [
    {
     "data": {
      "text/plain": [
       "Ttest_indResult(statistic=-76.41968791538956, pvalue=0.0)"
      ]
     },
     "execution_count": 10,
     "metadata": {},
     "output_type": "execute_result"
    }
   ],
   "source": [
    "scipy.stats.ttest_ind(sums[sums['is_green'] > 0]['sum'], sums[sums['is_green'] == 0]['sum'], equal_var = False)"
   ]
  },
  {
   "cell_type": "markdown",
   "metadata": {},
   "source": [
    "The test's pvalue is 0, so the statistical difference is there\n",
    "\n",
    "Let's also consider correletion between the sum of purcase and amount of 'green' goods in it"
   ]
  },
  {
   "cell_type": "code",
   "execution_count": 11,
   "metadata": {},
   "outputs": [
    {
     "name": "stdout",
     "output_type": "stream",
     "text": [
      "Non normalized (0.03786160208996857, 0.0)\n",
      "Normalized (-0.11211405758848857, 0.0)\n"
     ]
    }
   ],
   "source": [
    "print(\"Non normalized\", scipy.stats.pearsonr(sums['sum'], sums['is_green']))\n",
    "\n",
    "s = grouped.sum()\n",
    "s['is_green'] /= grouped.count()['is_green']\n",
    "\n",
    "print(\"Normalized\", scipy.stats.pearsonr(s['sum'], s['is_green']))"
   ]
  },
  {
   "cell_type": "markdown",
   "metadata": {},
   "source": [
    "We have a positive correlation when we don't normalize the amount of green goods per check.\n",
    "But it is logical, as more goods you buy, more green goods you buy.\n",
    "\n",
    "But if we divide amount of green goods by total amount of goods in the cart, and check the correlation then,\n",
    "we see that there is an inverse correlation between the sum of order and % of green goods in it"
   ]
  },
  {
   "cell_type": "markdown",
   "metadata": {},
   "source": [
    "## Task 2\n",
    "Prove that the frequency of shopping grows around the wage taking days."
   ]
  },
  {
   "cell_type": "code",
   "execution_count": 12,
   "metadata": {},
   "outputs": [
    {
     "name": "stdout",
     "output_type": "stream",
     "text": [
      "                       date\n",
      "id_doc                     \n",
      "2       2020-09-21 17:14:45\n",
      "4       2020-09-24 21:07:19\n",
      "5       2020-09-22 19:25:17\n",
      "16      2020-09-14 18:53:45\n",
      "18      2020-09-18 21:24:04\n"
     ]
    }
   ],
   "source": [
    "by_day = filtered.groupby('id_doc')[['date']].first()\n",
    "print(by_day.head())\n",
    "\n",
    "by_day.index = pd.to_datetime(by_day['date'])\n",
    "\n",
    "by_day = by_day.groupby(by_day.index.day).count()\n"
   ]
  },
  {
   "cell_type": "code",
   "execution_count": 13,
   "metadata": {},
   "outputs": [
    {
     "data": {
      "image/png": "[encoded data removed]",
      "text/plain": [
       "<Figure size 1296x720 with 1 Axes>"
      ]
     },
     "metadata": {
      "needs_background": "light"
     },
     "output_type": "display_data"
    }
   ],
   "source": [
    "import matplotlib.pyplot as plt\n",
    "plt.figure(figsize=(18,10))\n",
    "plt.locator_params(nbins=30)\n",
    "plt.plot(by_day.index, by_day['date'])\n",
    "plt.grid()"
   ]
  },
  {
   "cell_type": "markdown",
   "metadata": {},
   "source": [
    "From plot we can see, that the only periodic event happens every week (5-th, 12-th, 19-th, 26-th)\n",
    "But there are no spikes at the wage taking days."
   ]
  },
  {
   "cell_type": "markdown",
   "metadata": {},
   "source": [
    "## Task 3\n",
    "Define such cohort existance:\n",
    "1. Frequent buyers - The users that are shopping frequently(daily, weekly, monthly) \n",
    "2. Average purchase sum - The customers that usually spend the same amount of money \n",
    "3. Orders amount - The customers grouped by the total numer of orders \n",
    "4. Usual cart - The customers grouped by the product groups\n",
    "\n",
    "References\n",
    "- https://towardsdatascience.com/a-step-by-step-introduction-to-cohort-analysis-in-python-a2cbbd8460ea"
   ]
  },
  {
   "cell_type": "markdown",
   "metadata": {},
   "source": [
    "### 1. Frequent buyers - The users that are shopping frequently(daily, weekly, monthly) "
   ]
  },
  {
   "cell_type": "code",
   "execution_count": 16,
   "metadata": {},
   "outputs": [],
   "source": [
    "filtered.index = pd.to_datetime(filtered['date'])"
   ]
  },
  {
   "cell_type": "code",
   "execution_count": 17,
   "metadata": {},
   "outputs": [],
   "source": [
    "cnts = filtered.groupby(['id_card', filtered.index.day]) \\\n",
    "    .first() \\\n",
    "    .groupby('id_card') \\\n",
    "    .count()"
   ]
  },
  {
   "cell_type": "code",
   "execution_count": 18,
   "metadata": {},
   "outputs": [
    {
     "name": "stdout",
     "output_type": "stream",
     "text": [
      "First 5: Int64Index([5096, 6183, 57303, 58154, 121629], dtype='int64', name='id_card')\n",
      "Total: 48\n"
     ]
    }
   ],
   "source": [
    "every_day = cnts[cnts['date'] >= 30]\n",
    "every_day = every_day.index\n",
    "\n",
    "print(\"First 5:\", every_day[:5])\n",
    "print(\"Total:\", len(every_day))\n"
   ]
  },
  {
   "cell_type": "markdown",
   "metadata": {},
   "source": [
    "### 2. Average purchase sum - The customers that usually spend the same amount of money \n"
   ]
  },
  {
   "cell_type": "code",
   "execution_count": 19,
   "metadata": {},
   "outputs": [
    {
     "name": "stderr",
     "output_type": "stream",
     "text": [
      "/Users/fniyaz/.pyenv/versions/3.6.9/lib/python3.6/site-packages/pandas/core/series.py:726: RuntimeWarning: divide by zero encountered in log\n",
      "  result = getattr(ufunc, method)(*inputs, **kwargs)\n"
     ]
    },
    {
     "name": "stdout",
     "output_type": "stream",
     "text": [
      "             sums  id_card  sums_rnd\n",
      "id_doc                              \n",
      "2          396.00  1425208     300.0\n",
      "4         1597.00  1438933    1000.0\n",
      "5          254.00   293299     200.0\n",
      "16         709.06   715970     700.0\n",
      "18         707.00    74800     700.0\n",
      "...           ...      ...       ...\n",
      "23417859   346.00   781677     300.0\n",
      "23417862   144.00   480091     100.0\n",
      "23417864   324.00  1392399     300.0\n",
      "23417867   838.24  1587296     800.0\n",
      "23417869    80.00   778538      80.0\n",
      "\n",
      "[6904825 rows x 3 columns]\n"
     ]
    },
    {
     "data": {
      "text/plain": [
       "sums_rnd\n",
       "0.05                                                 [585840]\n",
       "0.10                                                 [145090]\n",
       "0.80                               [763223, 1638120, 1855771]\n",
       "1.00        [1147881, 978105, 850303, 1285657, 850303, 145...\n",
       "2.00        [1350472, 1422934, 900304, 616346, 1422239, 17...\n",
       "3.00        [1776886, 1776886, 1776886, 620767, 774786, 17...\n",
       "4.00        [1666641, 1447845, 978120, 921099, 1028660, 15...\n",
       "5.00        [1086608, 184554, 962330, 402125, 430826, 1656...\n",
       "6.00        [709824, 1514518, 1668435, 837435, 263506, 220...\n",
       "7.00        [1326509, 1208476, 613067, 329920, 1409593, 14...\n",
       "8.00        [1074283, 1050565, 203020, 1836003, 1099045, 1...\n",
       "9.00        [716757, 1534975, 1277464, 1242788, 1248007, 1...\n",
       "10.00       [1110006, 1100718, 1699232, 196148, 1049904, 1...\n",
       "20.00       [773541, 1180951, 1407212, 409965, 868771, 127...\n",
       "30.00       [1703658, 293706, 736123, 1633901, 651021, 102...\n",
       "40.00       [1193372, 860021, 1482352, 344840, 135421, 670...\n",
       "50.00       [82961, 105928, 559091, 171033, 1310978, 14377...\n",
       "60.00       [1090758, 1371265, 792926, 1523319, 1772728, 1...\n",
       "70.00       [1255722, 634587, 1566591, 206408, 1155096, 16...\n",
       "80.00       [1825151, 722779, 1379854, 1460568, 1603898, 1...\n",
       "90.00       [1027927, 1078184, 1420166, 1528094, 273389, 1...\n",
       "100.00      [1226050, 534316, 1006617, 1625245, 500666, 14...\n",
       "200.00      [293299, 948401, 1459804, 1222848, 1757893, 13...\n",
       "300.00      [1425208, 49444, 46658, 622678, 1587781, 96671...\n",
       "400.00      [285844, 1275799, 1268482, 1362894, 615852, 65...\n",
       "500.00      [1530864, 200044, 788119, 1492452, 1139763, 14...\n",
       "600.00      [1062451, 629379, 374304, 1211907, 1221654, 17...\n",
       "700.00      [715970, 74800, 1861598, 1777180, 1529931, 516...\n",
       "800.00      [407629, 1837803, 1747046, 477042, 21451, 8217...\n",
       "900.00      [302004, 1760578, 811565, 1055014, 243591, 180...\n",
       "1000.00     [1438933, 482127, 673791, 366241, 1465314, 123...\n",
       "2000.00     [101194, 164245, 373804, 714377, 475136, 13712...\n",
       "3000.00     [390308, 1674740, 1492694, 1158797, 1118486, 1...\n",
       "4000.00     [248412, 54311, 1026344, 999103, 424924, 15688...\n",
       "5000.00     [306973, 1699875, 1168749, 1631350, 814281, 15...\n",
       "6000.00     [1187091, 95115, 123603, 1217174, 765313, 7876...\n",
       "7000.00     [697016, 152704, 1164807, 473959, 1052569, 768...\n",
       "8000.00     [1925612, 1394877, 1054838, 74218, 428149, 551...\n",
       "9000.00     [1760515, 204482, 39650, 1770335, 835097, 4217...\n",
       "10000.00    [1390219, 1911921, 1056543, 1635697, 937019, 7...\n",
       "20000.00                                            [1750466]\n",
       "40000.00                                            [1755035]\n",
       "Name: id_card, dtype: object"
      ]
     },
     "execution_count": 19,
     "metadata": {},
     "output_type": "execute_result"
    }
   ],
   "source": [
    "import numpy as np\n",
    "from math import floor, log\n",
    "\n",
    "\n",
    "docs = filtered.groupby('id_doc')[['sum', 'id_card']].agg( \\\n",
    "    sums=(\"sum\", \"sum\"), \\\n",
    "    id_card=(\"id_card\", \"first\") \\\n",
    ")\n",
    "\n",
    "docs.groupby('id_card').mean().reset_index().sort_values('sums')\n",
    "\n",
    "# def _rnd(x):\n",
    "#     try:\n",
    "#         base = 10 ** floor(log(x) / log(10))\n",
    "#         return x // base * base\n",
    "#     except ValueError:\n",
    "#         print(\"Error\", x)\n",
    "#         return 0\n",
    "\n",
    "# docs['sums_rnd'] = [_rnd(x) for x in docs['sums']]\n",
    "bases = 10 ** np.floor(np.log(docs['sums']) / np.log(10))\n",
    "docs['sums_rnd'] = np.floor_divide(docs['sums'], bases) * bases\n",
    "\n",
    "print(docs)\n",
    "\n",
    "docs.groupby('sums_rnd')['id_card'].apply(list)"
   ]
  },
  {
   "cell_type": "markdown",
   "metadata": {},
   "source": [
    "### 3. Orders amount - The customers grouped by the total numer of orders "
   ]
  },
  {
   "cell_type": "code",
   "execution_count": 20,
   "metadata": {
    "scrolled": true
   },
   "outputs": [
    {
     "data": {
      "text/plain": [
       "date\n",
       "1      [1, 2, 7, 9, 13, 18, 29, 40, 44, 58, 60, 62, 7...\n",
       "2      [8, 21, 24, 33, 89, 111, 132, 148, 164, 206, 2...\n",
       "3      [16, 69, 70, 107, 115, 126, 143, 157, 201, 228...\n",
       "4      [39, 45, 97, 118, 147, 257, 346, 356, 368, 378...\n",
       "5      [4, 154, 161, 204, 256, 285, 335, 353, 375, 39...\n",
       "                             ...                        \n",
       "103                                   [1144271, 1808366]\n",
       "104                                            [1567258]\n",
       "109                                             [943480]\n",
       "119                                            [1523082]\n",
       "161                                             [620767]\n",
       "Name: card_id, Length: 89, dtype: object"
      ]
     },
     "execution_count": 20,
     "metadata": {},
     "output_type": "execute_result"
    }
   ],
   "source": [
    "totals = filtered.groupby('id_doc').first() \\\n",
    "    .groupby('id_card').count()\n",
    "\n",
    "totals['card_id'] = totals.index\n",
    "totals = totals.groupby(['date'])['card_id'].apply(list)\n",
    "\n",
    "totals"
   ]
  },
  {
   "cell_type": "code",
   "execution_count": 21,
   "metadata": {},
   "outputs": [
    {
     "data": {
      "text/plain": [
       "[(1, 406287),\n",
       " (2, 205028),\n",
       " (3, 135162),\n",
       " (4, 99732),\n",
       " (5, 77610),\n",
       " (6, 62453),\n",
       " (7, 51269),\n",
       " (8, 42570),\n",
       " (9, 35695),\n",
       " (10, 30623),\n",
       " (11, 25948),\n",
       " (12, 22384),\n",
       " (13, 19160),\n",
       " (14, 16585),\n",
       " (15, 14306),\n",
       " (16, 12472),\n",
       " (17, 10852),\n",
       " (18, 9378),\n",
       " (19, 8119),\n",
       " (20, 7072),\n",
       " (21, 6126),\n",
       " (22, 5498),\n",
       " (23, 4524),\n",
       " (24, 3990),\n",
       " (25, 3283),\n",
       " (26, 2772),\n",
       " (27, 2375),\n",
       " (28, 2007),\n",
       " (29, 1645),\n",
       " (30, 1387),\n",
       " (31, 1169),\n",
       " (32, 963),\n",
       " (33, 825),\n",
       " (34, 681),\n",
       " (35, 594),\n",
       " (36, 482),\n",
       " (37, 423),\n",
       " (38, 367),\n",
       " (39, 318),\n",
       " (40, 245),\n",
       " (41, 213),\n",
       " (42, 212),\n",
       " (43, 151),\n",
       " (44, 144),\n",
       " (45, 120),\n",
       " (46, 98),\n",
       " (47, 78),\n",
       " (48, 81),\n",
       " (49, 60),\n",
       " (50, 53),\n",
       " (51, 41),\n",
       " (52, 48),\n",
       " (53, 28),\n",
       " (54, 37),\n",
       " (55, 17),\n",
       " (56, 24),\n",
       " (57, 19),\n",
       " (58, 18),\n",
       " (59, 19),\n",
       " (60, 16),\n",
       " (61, 11),\n",
       " (62, 10),\n",
       " (63, 10),\n",
       " (64, 4),\n",
       " (65, 10),\n",
       " (66, 6),\n",
       " (67, 7),\n",
       " (68, 6),\n",
       " (69, 4),\n",
       " (70, 2),\n",
       " (71, 4),\n",
       " (72, 2),\n",
       " (73, 2),\n",
       " (74, 2),\n",
       " (75, 2),\n",
       " (76, 4),\n",
       " (77, 1),\n",
       " (78, 2),\n",
       " (86, 1),\n",
       " (89, 1),\n",
       " (91, 1),\n",
       " (98, 2),\n",
       " (101, 1),\n",
       " (102, 1),\n",
       " (103, 2),\n",
       " (104, 1),\n",
       " (109, 1),\n",
       " (119, 1),\n",
       " (161, 1)]"
      ]
     },
     "execution_count": 21,
     "metadata": {},
     "output_type": "execute_result"
    }
   ],
   "source": [
    "[(i, len(totals[i])) for i in totals.index ]"
   ]
  },
  {
   "cell_type": "markdown",
   "metadata": {},
   "source": [
    "### 4. Usual cart - The customers grouped by the product groups\n"
   ]
  },
  {
   "cell_type": "code",
   "execution_count": 22,
   "metadata": {},
   "outputs": [
    {
     "data": {
      "text/plain": [
       "id_tov\n",
       "46       [194, 359, 738, 873, 1265, 1788, 1816, 2868, 2...\n",
       "52       [22, 37, 59, 95, 97, 128, 135, 152, 156, 202, ...\n",
       "61       [17, 21, 28, 30, 53, 72, 91, 95, 111, 115, 128...\n",
       "69       [138, 141, 202, 222, 245, 344, 482, 510, 583, ...\n",
       "71       [243, 344, 738, 800, 873, 906, 951, 1585, 1943...\n",
       "                               ...                        \n",
       "38546                                             [564033]\n",
       "38587    [2495, 12660, 81517, 133580, 547841, 773929, 1...\n",
       "38618    [384250, 386255, 604589, 675849, 812958, 87277...\n",
       "38645                                             [444004]\n",
       "38660                                            [1454833]\n",
       "Name: id_card, Length: 4765, dtype: object"
      ]
     },
     "execution_count": 22,
     "metadata": {},
     "output_type": "execute_result"
    }
   ],
   "source": [
    "prods = filtered.groupby('id_doc').first() \\\n",
    "    .groupby(['id_card', 'id_tov']).first()\n",
    "\n",
    "prods.reset_index().groupby('id_tov')['id_card'].apply(list)"
   ]
  }
 ],
 "metadata": {
  "kernelspec": {
   "display_name": "Python 3",
   "language": "python",
   "name": "python3"
  },
  "language_info": {
   "codemirror_mode": {
    "name": "ipython",
    "version": 3
   },
   "file_extension": ".py",
   "mimetype": "text/x-python",
   "name": "python",
   "nbconvert_exporter": "python",
   "pygments_lexer": "ipython3",
   "version": "3.6.9"
  }
 },
 "nbformat": 4,
 "nbformat_minor": 4
}
