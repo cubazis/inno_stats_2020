{
 "cells": [
  {
   "cell_type": "markdown",
   "id": "seasonal-sensitivity",
   "metadata": {},
   "source": [
    "# HW2 by Danil Ginzburg"
   ]
  },
  {
   "cell_type": "code",
   "execution_count": null,
   "id": "unknown-parent",
   "metadata": {
    "pycharm": {
     "name": "#%%\n"
    }
   },
   "outputs": [],
   "source": [
    "import pandas as pd\n",
    "import random\n",
    "import matplotlib.pyplot as plt\n",
    "import numpy as np\n",
    "import pickle\n",
    "import bz2\n",
    "from datetime import datetime\n",
    "from pathlib import Path"
   ]
  },
  {
   "cell_type": "code",
   "execution_count": null,
   "id": "unknown-burton",
   "metadata": {
    "pycharm": {
     "name": "#%%\n"
    }
   },
   "outputs": [],
   "source": [
    "data_path = Path('./data/').resolve()\n",
    "file_paths = [data_path / '09_groups.csv',\n",
    "             data_path / '10_groups.csv',\n",
    "             data_path / '11_groups.csv']"
   ]
  },
  {
   "cell_type": "code",
   "execution_count": null,
   "id": "connected-swiss",
   "metadata": {
    "pycharm": {
     "name": "#%%\n"
    }
   },
   "outputs": [],
   "source": [
    "colunms = [s for s in 'date;id_doc;id_order;id_card;id_tov;id_kontr;quantity;sum;is_green'.split(';')]"
   ]
  },
  {
   "cell_type": "code",
   "execution_count": null,
   "id": "swedish-blink",
   "metadata": {
    "pycharm": {
     "name": "#%%\n"
    }
   },
   "outputs": [],
   "source": [
    "MONTH_SAMPLE_SIZE = 1000000"
   ]
  },
  {
   "cell_type": "code",
   "execution_count": null,
   "id": "juvenile-recognition",
   "metadata": {
    "pycharm": {
     "name": "#%%\n"
    }
   },
   "outputs": [],
   "source": [
    "df = pd.DataFrame()\n",
    "for file_path in file_paths:\n",
    "    n = sum(1 for line in open(file_path)) - 1 #number of records in file (excludes header)\n",
    "    skip = sorted(random.sample(range(1,n+1),n-MONTH_SAMPLE_SIZE)) #the 0-indexed header will not be included in the skip list\n",
    "    df = df.append(\n",
    "        pd.read_csv(\n",
    "            filepath_or_buffer= file_path,\n",
    "            header=0,\n",
    "            sep=',',\n",
    "            names = colunms,\n",
    "            usecols = colunms,\n",
    "            parse_dates=['date'],\n",
    "            date_parser=lambda x: datetime.strptime(x, '%Y-%m-%d %H:%M:%S'),\n",
    "            skiprows=skip\n",
    "        )\n",
    "    )"
   ]
  },
  {
   "cell_type": "code",
   "execution_count": null,
   "id": "collectible-hospital",
   "metadata": {
    "pycharm": {
     "name": "#%%\n"
    }
   },
   "outputs": [],
   "source": [
    "df.head()"
   ]
  },
  {
   "cell_type": "markdown",
   "id": "occasional-teens",
   "metadata": {},
   "source": [
    "## Bad ids"
   ]
  },
  {
   "cell_type": "code",
   "execution_count": null,
   "id": "separate-merchandise",
   "metadata": {
    "pycharm": {
     "name": "#%%\n"
    }
   },
   "outputs": [],
   "source": [
    "bad_ids = pd.read_csv(\n",
    "    filepath_or_buffer= data_path / 'bad_ids.csv',\n",
    "    header=0,\n",
    "    sep=',',\n",
    "    index_col=0\n",
    ")"
   ]
  },
  {
   "cell_type": "code",
   "execution_count": null,
   "id": "dying-endorsement",
   "metadata": {
    "pycharm": {
     "name": "#%%\n"
    }
   },
   "outputs": [],
   "source": [
    "bad_ids.head()"
   ]
  },
  {
   "cell_type": "code",
   "execution_count": null,
   "id": "employed-injury",
   "metadata": {
    "pycharm": {
     "name": "#%%\n"
    }
   },
   "outputs": [],
   "source": [
    "def remove_bad_ids(df, bad_ids):\n",
    "    cond = df['id_card'].isin(bad_ids['id_card'])\n",
    "    df.drop(df[cond].index, inplace = True)"
   ]
  },
  {
   "cell_type": "code",
   "execution_count": null,
   "id": "respiratory-mattress",
   "metadata": {
    "pycharm": {
     "name": "#%%\n"
    }
   },
   "outputs": [],
   "source": [
    "remove_bad_ids(df, bad_ids)"
   ]
  },
  {
   "cell_type": "code",
   "execution_count": null,
   "id": "numerical-college",
   "metadata": {
    "pycharm": {
     "name": "#%%\n"
    }
   },
   "outputs": [],
   "source": [
    "df.head()"
   ]
  },
  {
   "cell_type": "markdown",
   "id": "modified-carolina",
   "metadata": {},
   "source": [
    "## Task 1"
   ]
  },
  {
   "cell_type": "code",
   "execution_count": null,
   "id": "demanding-collection",
   "metadata": {
    "pycharm": {
     "name": "#%%\n"
    }
   },
   "outputs": [],
   "source": [
    "def preprocess_task_1(df):\n",
    "    df = set_timestamp_index(df)\n",
    "    df = df.drop(['date', 'id_doc', 'id_order', 'id_tov', 'id_kontr', 'quantity'], inplace=False, axis=1)\n",
    "\n",
    "    df = df.groupby(by=[df.index.date, df.index.hour, df.id_card]).sum()\n",
    "    df_with_dis = df.drop(df.loc[df['is_green'] == 0].index, inplace=False)\n",
    "    df_wo_dis = df.drop(df.loc[df['is_green'] != 0].index, inplace=False)\n",
    "    return df_with_dis, df_wo_dis\n",
    "\n",
    "def set_timestamp_index(df):\n",
    "    df['ts'] = pd.to_datetime(df['date'])\n",
    "    return df.set_index('ts', drop=True, inplace=False)"
   ]
  },
  {
   "cell_type": "code",
   "execution_count": null,
   "id": "alternative-client",
   "metadata": {
    "pycharm": {
     "name": "#%%\n"
    }
   },
   "outputs": [],
   "source": [
    "task1_df_discount, task1_df_no_discount = preprocess_task_1(df)\n",
    "task1_df_discount.head()"
   ]
  },
  {
   "cell_type": "code",
   "execution_count": null,
   "id": "stuck-trademark",
   "metadata": {
    "pycharm": {
     "name": "#%%\n"
    }
   },
   "outputs": [],
   "source": [
    "pd.DataFrame(task1_df_discount['sum']).boxplot()"
   ]
  },
  {
   "cell_type": "code",
   "execution_count": null,
   "id": "sexual-apparatus",
   "metadata": {
    "pycharm": {
     "name": "#%%\n"
    }
   },
   "outputs": [],
   "source": [
    "task1_df_discount.describe()"
   ]
  },
  {
   "cell_type": "code",
   "execution_count": null,
   "id": "large-victim",
   "metadata": {
    "pycharm": {
     "name": "#%%\n"
    }
   },
   "outputs": [],
   "source": [
    "pd.DataFrame(task1_df_no_discount['sum']).boxplot()"
   ]
  },
  {
   "cell_type": "code",
   "execution_count": null,
   "id": "running-scholarship",
   "metadata": {
    "pycharm": {
     "name": "#%%\n"
    }
   },
   "outputs": [],
   "source": [
    "task1_df_no_discount.describe()"
   ]
  },
  {
   "cell_type": "code",
   "execution_count": null,
   "id": "center-ceremony",
   "metadata": {
    "pycharm": {
     "name": "#%%\n"
    }
   },
   "outputs": [],
   "source": [
    "fig = plt.figure()\n",
    "ax = fig.add_subplot(111)\n",
    "n, bins, rectangles = ax.hist(task1_df_discount['sum'], 100)\n",
    "fig.canvas.draw()\n",
    "plt.show()"
   ]
  },
  {
   "cell_type": "code",
   "execution_count": null,
   "id": "collect-marketplace",
   "metadata": {
    "pycharm": {
     "name": "#%%\n"
    }
   },
   "outputs": [],
   "source": [
    "fig = plt.figure()\n",
    "ax = fig.add_subplot(111)\n",
    "n, bins, rectangles = ax.hist(task1_df_no_discount['sum'], 100)\n",
    "fig.canvas.draw()\n",
    "plt.show()"
   ]
  },
  {
   "cell_type": "code",
   "execution_count": null,
   "id": "secret-candle",
   "metadata": {
    "pycharm": {
     "name": "#%%\n"
    }
   },
   "outputs": [],
   "source": [
    "sum_bins = [0, 50, 100, 150, 200, 250, 300, 350, 400, 450, 500, 550, 600, 650, 700, 750, 800, 850, 900, 950, 1000]\n",
    "labels =   [1, 2,   3,   4,   5,   6,   7,   8,   9,   10,  11,  12,  13,  14,  15,  16,  17,  18,  19,  20]"
   ]
  },
  {
   "cell_type": "code",
   "execution_count": null,
   "id": "color-interim",
   "metadata": {
    "pycharm": {
     "name": "#%%\n"
    }
   },
   "outputs": [],
   "source": [
    "task1_df_discount['bin'] = pd.cut(task1_df_discount['sum'], bins=sum_bins, labels=labels)\n",
    "task1_df_discount_binsizes = task1_df_discount.groupby(by=[task1_df_discount.bin]).count()\n",
    "\n",
    "task1_df_no_discount['bin'] = pd.cut(task1_df_no_discount['sum'], bins=sum_bins, labels=labels)\n",
    "task1_df_no_discount_binsizes = task1_df_no_discount.groupby(by=[task1_df_no_discount.bin]).count()"
   ]
  },
  {
   "cell_type": "code",
   "execution_count": null,
   "id": "circular-surface",
   "metadata": {
    "pycharm": {
     "name": "#%%\n"
    }
   },
   "outputs": [],
   "source": [
    "task1_df_discount_binsizes.head()"
   ]
  },
  {
   "cell_type": "code",
   "execution_count": null,
   "id": "descending-crown",
   "metadata": {
    "pycharm": {
     "name": "#%%\n"
    }
   },
   "outputs": [],
   "source": [
    "task1_df_no_discount_binsizes.head()"
   ]
  },
  {
   "cell_type": "code",
   "execution_count": null,
   "id": "pressed-extraction",
   "metadata": {
    "pycharm": {
     "name": "#%%\n"
    }
   },
   "outputs": [],
   "source": [
    "task1_percentages_with_discount = task1_df_discount_binsizes.divide(task1_df_no_discount_binsizes)\n",
    "np_bins = np.asarray(sum_bins[1:])\n",
    "task1_percentages_with_discount['bin'] = np_bins"
   ]
  },
  {
   "cell_type": "code",
   "execution_count": null,
   "id": "chubby-terminology",
   "metadata": {
    "pycharm": {
     "name": "#%%\n"
    }
   },
   "outputs": [],
   "source": [
    "task1_percentages_with_discount.head()\n"
   ]
  },
  {
   "cell_type": "code",
   "execution_count": null,
   "id": "spatial-drive",
   "metadata": {
    "pycharm": {
     "name": "#%%\n"
    }
   },
   "outputs": [],
   "source": [
    "task1_percentages_with_discount.plot.bar('bin')"
   ]
  },
  {
   "cell_type": "markdown",
   "id": "surface-alliance",
   "metadata": {},
   "source": [
    "The last plot shows the percentage of orders with discount against orders without discount in bined by the order sums.\n",
    "<br/><br/>The first bin is for orders below 500 rubles. Then bin for 550, 600, etc.\n",
    "<br/><br/>From the plot you can see that there is\n",
    "no evidence that \"It is more probable that the discounted product will be bought if a bunch of money is going to spend\".\n",
    "The plot shows that on the opposite the probability decreases with the increase of the order sum.\n",
    "<br/><br/>In this analysis I took that 500 is \"a bunch\" and took 3 millions of random samples from the whole dataset (3 months) for the analysis."
   ]
  },
  {
   "cell_type": "markdown",
   "id": "lesbian-bearing",
   "metadata": {},
   "source": [
    "## Task 2"
   ]
  },
  {
   "cell_type": "code",
   "execution_count": null,
   "id": "infinite-lingerie",
   "metadata": {
    "pycharm": {
     "name": "#%%\n"
    }
   },
   "outputs": [],
   "source": [
    "def preprocess_task_2(df):\n",
    "    df['ts'] = pd.to_datetime(df['date'])\n",
    "    df = df.set_index('ts', drop=False, inplace=False)\n",
    "\n",
    "    df = df.drop(['date', 'id_doc', 'id_order', 'id_tov', 'id_kontr', 'quantity', 'is_green'], inplace=False, axis=1)\n",
    "    df = df.groupby(by=[df.index.day, df.index.hour, df.id_card]).sum()\n",
    "\n",
    "    return df.groupby(level=0).count()"
   ]
  },
  {
   "cell_type": "code",
   "execution_count": null,
   "id": "dressed-jordan",
   "metadata": {
    "pycharm": {
     "name": "#%%\n"
    }
   },
   "outputs": [],
   "source": [
    "task2_df = preprocess_task_2(df)\n",
    "task2_df.head()\n"
   ]
  },
  {
   "cell_type": "code",
   "execution_count": null,
   "id": "palestinian-airplane",
   "metadata": {
    "pycharm": {
     "name": "#%%\n"
    }
   },
   "outputs": [],
   "source": [
    "task2_df.plot.bar()"
   ]
  }
 ],
 "metadata": {
  "kernelspec": {
   "display_name": "Python 3",
   "language": "python",
   "name": "python3"
  },
  "language_info": {
   "codemirror_mode": {
    "name": "ipython",
    "version": 3
   },
   "file_extension": ".py",
   "mimetype": "text/x-python",
   "name": "python",
   "nbconvert_exporter": "python",
   "pygments_lexer": "ipython3",
   "version": "3.9.1"
  }
 },
 "nbformat": 4,
 "nbformat_minor": 5
}
