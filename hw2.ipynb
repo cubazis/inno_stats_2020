{
  "nbformat": 4,
  "nbformat_minor": 0,
  "metadata": {
    "colab": {
      "name": "hw2.ipynb",
      "provenance": []
    },
    "kernelspec": {
      "name": "python3",
      "display_name": "Python 3"
    },
    "language_info": {
      "name": "python"
    }
  },
  "cells": [
    {
      "cell_type": "markdown",
      "metadata": {
        "id": "3XPO5F5KQRzR"
      },
      "source": [
        "## Load DataFrame"
      ]
    },
    {
      "cell_type": "code",
      "metadata": {
        "colab": {
          "base_uri": "https://localhost:8080/"
        },
        "id": "b2OnmImBDs3H",
        "outputId": "0bbe86c5-a4bf-4339-d77d-18907f35fa13"
      },
      "source": [
        "!gdown --id 13Qm6ztAmVyBHvo_mch6gk-2VYKUHeRuu"
      ],
      "execution_count": 1,
      "outputs": [
        {
          "output_type": "stream",
          "text": [
            "Downloading...\n",
            "From: https://drive.google.com/uc?id=13Qm6ztAmVyBHvo_mch6gk-2VYKUHeRuu\n",
            "To: /content/inno_stats.tar.gz\n",
            "1.91GB [00:10, 175MB/s]\n"
          ],
          "name": "stdout"
        }
      ]
    },
    {
      "cell_type": "code",
      "metadata": {
        "id": "sroiAjzkLGiC"
      },
      "source": [
        "!tar -xf inno_stats.tar.gz"
      ],
      "execution_count": 5,
      "outputs": []
    },
    {
      "cell_type": "code",
      "metadata": {
        "id": "M3RZ1txiLeou"
      },
      "source": [
        "import pandas as pd"
      ],
      "execution_count": 1,
      "outputs": []
    },
    {
      "cell_type": "code",
      "metadata": {
        "id": "51Qb1rfKNUq0"
      },
      "source": [
        "bad_ids = pd.read_csv('bad_ids.csv')"
      ],
      "execution_count": 2,
      "outputs": []
    },
    {
      "cell_type": "code",
      "metadata": {
        "colab": {
          "base_uri": "https://localhost:8080/",
          "height": 204
        },
        "id": "cjP-2VigNa5e",
        "outputId": "7924ceaf-1d22-4e0c-f7ae-7af90f223411"
      },
      "source": [
        "bad_ids.head()"
      ],
      "execution_count": 4,
      "outputs": [
        {
          "output_type": "execute_result",
          "data": {
            "text/html": [
              "<div>\n",
              "<style scoped>\n",
              "    .dataframe tbody tr th:only-of-type {\n",
              "        vertical-align: middle;\n",
              "    }\n",
              "\n",
              "    .dataframe tbody tr th {\n",
              "        vertical-align: top;\n",
              "    }\n",
              "\n",
              "    .dataframe thead th {\n",
              "        text-align: right;\n",
              "    }\n",
              "</style>\n",
              "<table border=\"1\" class=\"dataframe\">\n",
              "  <thead>\n",
              "    <tr style=\"text-align: right;\">\n",
              "      <th></th>\n",
              "      <th>Unnamed: 0</th>\n",
              "      <th>id_card</th>\n",
              "    </tr>\n",
              "  </thead>\n",
              "  <tbody>\n",
              "    <tr>\n",
              "      <th>0</th>\n",
              "      <td>0</td>\n",
              "      <td>806096</td>\n",
              "    </tr>\n",
              "    <tr>\n",
              "      <th>1</th>\n",
              "      <td>1</td>\n",
              "      <td>1438102</td>\n",
              "    </tr>\n",
              "    <tr>\n",
              "      <th>2</th>\n",
              "      <td>2</td>\n",
              "      <td>72344</td>\n",
              "    </tr>\n",
              "    <tr>\n",
              "      <th>3</th>\n",
              "      <td>3</td>\n",
              "      <td>427981</td>\n",
              "    </tr>\n",
              "    <tr>\n",
              "      <th>4</th>\n",
              "      <td>4</td>\n",
              "      <td>1528414</td>\n",
              "    </tr>\n",
              "  </tbody>\n",
              "</table>\n",
              "</div>"
            ],
            "text/plain": [
              "   Unnamed: 0  id_card\n",
              "0           0   806096\n",
              "1           1  1438102\n",
              "2           2    72344\n",
              "3           3   427981\n",
              "4           4  1528414"
            ]
          },
          "metadata": {
            "tags": []
          },
          "execution_count": 4
        }
      ]
    },
    {
      "cell_type": "code",
      "metadata": {
        "id": "hK8TgNqbOWfj"
      },
      "source": [
        "bad_ids_set = set(bad_ids['id_card'])"
      ],
      "execution_count": 3,
      "outputs": []
    },
    {
      "cell_type": "code",
      "metadata": {
        "id": "hIfkR7lxNcuG"
      },
      "source": [
        "df = pd.read_csv('09_groups.csv')"
      ],
      "execution_count": 4,
      "outputs": []
    },
    {
      "cell_type": "code",
      "metadata": {
        "colab": {
          "base_uri": "https://localhost:8080/",
          "height": 204
        },
        "id": "Ps3xFR5NO-5u",
        "outputId": "b1c8d0d5-7d09-4d8f-9043-975ae5422c5b"
      },
      "source": [
        "df.head()"
      ],
      "execution_count": 6,
      "outputs": [
        {
          "output_type": "execute_result",
          "data": {
            "text/html": [
              "<div>\n",
              "<style scoped>\n",
              "    .dataframe tbody tr th:only-of-type {\n",
              "        vertical-align: middle;\n",
              "    }\n",
              "\n",
              "    .dataframe tbody tr th {\n",
              "        vertical-align: top;\n",
              "    }\n",
              "\n",
              "    .dataframe thead th {\n",
              "        text-align: right;\n",
              "    }\n",
              "</style>\n",
              "<table border=\"1\" class=\"dataframe\">\n",
              "  <thead>\n",
              "    <tr style=\"text-align: right;\">\n",
              "      <th></th>\n",
              "      <th>date</th>\n",
              "      <th>id_doc</th>\n",
              "      <th>id_order</th>\n",
              "      <th>id_card</th>\n",
              "      <th>id_tov</th>\n",
              "      <th>id_kontr</th>\n",
              "      <th>quantity</th>\n",
              "      <th>sum</th>\n",
              "      <th>is_green</th>\n",
              "      <th>id_group</th>\n",
              "    </tr>\n",
              "  </thead>\n",
              "  <tbody>\n",
              "    <tr>\n",
              "      <th>0</th>\n",
              "      <td>2020-09-01 17:01:25</td>\n",
              "      <td>1283228</td>\n",
              "      <td>0.0</td>\n",
              "      <td>1538855</td>\n",
              "      <td>52</td>\n",
              "      <td>271</td>\n",
              "      <td>1.0</td>\n",
              "      <td>108.00</td>\n",
              "      <td>0</td>\n",
              "      <td>10004</td>\n",
              "    </tr>\n",
              "    <tr>\n",
              "      <th>1</th>\n",
              "      <td>2020-09-01 17:35:36</td>\n",
              "      <td>8873113</td>\n",
              "      <td>0.0</td>\n",
              "      <td>267307</td>\n",
              "      <td>52</td>\n",
              "      <td>271</td>\n",
              "      <td>1.0</td>\n",
              "      <td>108.00</td>\n",
              "      <td>0</td>\n",
              "      <td>10004</td>\n",
              "    </tr>\n",
              "    <tr>\n",
              "      <th>2</th>\n",
              "      <td>2020-09-01 19:19:21</td>\n",
              "      <td>12712899</td>\n",
              "      <td>0.0</td>\n",
              "      <td>610220</td>\n",
              "      <td>52</td>\n",
              "      <td>271</td>\n",
              "      <td>1.0</td>\n",
              "      <td>107.95</td>\n",
              "      <td>0</td>\n",
              "      <td>10004</td>\n",
              "    </tr>\n",
              "    <tr>\n",
              "      <th>3</th>\n",
              "      <td>2020-09-01 21:53:34</td>\n",
              "      <td>21535283</td>\n",
              "      <td>0.0</td>\n",
              "      <td>441497</td>\n",
              "      <td>52</td>\n",
              "      <td>271</td>\n",
              "      <td>1.0</td>\n",
              "      <td>108.00</td>\n",
              "      <td>0</td>\n",
              "      <td>10004</td>\n",
              "    </tr>\n",
              "    <tr>\n",
              "      <th>4</th>\n",
              "      <td>2020-09-01 18:42:31</td>\n",
              "      <td>642341</td>\n",
              "      <td>0.0</td>\n",
              "      <td>1065358</td>\n",
              "      <td>61</td>\n",
              "      <td>97</td>\n",
              "      <td>2.0</td>\n",
              "      <td>88.00</td>\n",
              "      <td>0</td>\n",
              "      <td>10091</td>\n",
              "    </tr>\n",
              "  </tbody>\n",
              "</table>\n",
              "</div>"
            ],
            "text/plain": [
              "                  date    id_doc  id_order  ...     sum  is_green  id_group\n",
              "0  2020-09-01 17:01:25   1283228       0.0  ...  108.00         0     10004\n",
              "1  2020-09-01 17:35:36   8873113       0.0  ...  108.00         0     10004\n",
              "2  2020-09-01 19:19:21  12712899       0.0  ...  107.95         0     10004\n",
              "3  2020-09-01 21:53:34  21535283       0.0  ...  108.00         0     10004\n",
              "4  2020-09-01 18:42:31    642341       0.0  ...   88.00         0     10091\n",
              "\n",
              "[5 rows x 10 columns]"
            ]
          },
          "metadata": {
            "tags": []
          },
          "execution_count": 6
        }
      ]
    },
    {
      "cell_type": "code",
      "metadata": {
        "colab": {
          "base_uri": "https://localhost:8080/"
        },
        "id": "PqybD4Y7PCu3",
        "outputId": "916ddc59-f132-4ae2-d925-bb48c4ce282e"
      },
      "source": [
        "df.info()"
      ],
      "execution_count": 7,
      "outputs": [
        {
          "output_type": "stream",
          "text": [
            "<class 'pandas.core.frame.DataFrame'>\n",
            "RangeIndex: 42100858 entries, 0 to 42100857\n",
            "Data columns (total 10 columns):\n",
            " #   Column    Dtype  \n",
            "---  ------    -----  \n",
            " 0   date      object \n",
            " 1   id_doc    int64  \n",
            " 2   id_order  float64\n",
            " 3   id_card   int64  \n",
            " 4   id_tov    int64  \n",
            " 5   id_kontr  int64  \n",
            " 6   quantity  float64\n",
            " 7   sum       float64\n",
            " 8   is_green  int64  \n",
            " 9   id_group  int64  \n",
            "dtypes: float64(3), int64(6), object(1)\n",
            "memory usage: 3.1+ GB\n"
          ],
          "name": "stdout"
        }
      ]
    },
    {
      "cell_type": "markdown",
      "metadata": {
        "id": "9ANcn3bAQNI6"
      },
      "source": [
        "##Clean DataFrame"
      ]
    },
    {
      "cell_type": "code",
      "metadata": {
        "id": "nyd0qeUsOo3K"
      },
      "source": [
        "df_filtered = df[~df['id_card'].isin(bad_ids_set)]"
      ],
      "execution_count": 5,
      "outputs": []
    },
    {
      "cell_type": "code",
      "metadata": {
        "colab": {
          "base_uri": "https://localhost:8080/"
        },
        "id": "OQJT2lHvPqVA",
        "outputId": "d5210090-b911-4574-8df4-af703be544d3"
      },
      "source": [
        "df_filtered.info()"
      ],
      "execution_count": 9,
      "outputs": [
        {
          "output_type": "stream",
          "text": [
            "<class 'pandas.core.frame.DataFrame'>\n",
            "Int64Index: 38466003 entries, 0 to 42100857\n",
            "Data columns (total 10 columns):\n",
            " #   Column    Dtype  \n",
            "---  ------    -----  \n",
            " 0   date      object \n",
            " 1   id_doc    int64  \n",
            " 2   id_order  float64\n",
            " 3   id_card   int64  \n",
            " 4   id_tov    int64  \n",
            " 5   id_kontr  int64  \n",
            " 6   quantity  float64\n",
            " 7   sum       float64\n",
            " 8   is_green  int64  \n",
            " 9   id_group  int64  \n",
            "dtypes: float64(3), int64(6), object(1)\n",
            "memory usage: 3.2+ GB\n"
          ],
          "name": "stdout"
        }
      ]
    },
    {
      "cell_type": "markdown",
      "metadata": {
        "id": "_4NfTZP_QWuy"
      },
      "source": [
        "##Experiments"
      ]
    },
    {
      "cell_type": "markdown",
      "metadata": {
        "id": "pNJNRv41Ql4k"
      },
      "source": [
        "###1) Prove that buying discounted products depends on the average order sum."
      ]
    },
    {
      "cell_type": "code",
      "metadata": {
        "colab": {
          "base_uri": "https://localhost:8080/"
        },
        "id": "h5ILgjTNQYP0",
        "outputId": "855da817-22b3-4f19-9e0a-98894c41bcab"
      },
      "source": [
        "\n",
        "discount_destr = df_filtered[df_filtered['is_green'] == 1].groupby(by=['id_doc']).sum()['sum']\n",
        "discount_mean_sum = discount_destr.mean()\n",
        "discount_mean_sum"
      ],
      "execution_count": 21,
      "outputs": [
        {
          "output_type": "execute_result",
          "data": {
            "text/plain": [
              "190.68263650300798"
            ]
          },
          "metadata": {
            "tags": []
          },
          "execution_count": 21
        }
      ]
    },
    {
      "cell_type": "code",
      "metadata": {
        "colab": {
          "base_uri": "https://localhost:8080/"
        },
        "id": "eJQjOqLcSgIR",
        "outputId": "469a4b90-a6cf-4096-8cd5-218a715eab04"
      },
      "source": [
        "discounted_count = len(df_filtered[df_filtered['is_green'] == 1])\n",
        "discounted_count"
      ],
      "execution_count": 22,
      "outputs": [
        {
          "output_type": "execute_result",
          "data": {
            "text/plain": [
              "2611563"
            ]
          },
          "metadata": {
            "tags": []
          },
          "execution_count": 22
        }
      ]
    },
    {
      "cell_type": "code",
      "metadata": {
        "colab": {
          "base_uri": "https://localhost:8080/"
        },
        "id": "I3ExPcXmRZpz",
        "outputId": "f38aa76e-3fe8-4719-e228-39521491b06e"
      },
      "source": [
        "non_discount_destr = df_filtered[df_filtered['is_green'] == 0].sample(n=discounted_count).groupby(by=['id_doc']).sum()['sum']\n",
        "non_discount_mean_sum = non_discount_destr.mean()\n",
        "non_discount_mean_sum"
      ],
      "execution_count": 23,
      "outputs": [
        {
          "output_type": "execute_result",
          "data": {
            "text/plain": [
              "156.4386019430168"
            ]
          },
          "metadata": {
            "tags": []
          },
          "execution_count": 23
        }
      ]
    },
    {
      "cell_type": "markdown",
      "metadata": {
        "id": "zTzqDTzZTyYD"
      },
      "source": [
        "Calculate statistic"
      ]
    },
    {
      "cell_type": "code",
      "metadata": {
        "colab": {
          "base_uri": "https://localhost:8080/"
        },
        "id": "k0r1-EcRTXJG",
        "outputId": "c31b4938-ede1-4776-f44c-e6f8861316b9"
      },
      "source": [
        "from scipy.stats import ttest_ind\n",
        "\n",
        "ttest_ind(discount_destr, non_discount_destr)"
      ],
      "execution_count": 24,
      "outputs": [
        {
          "output_type": "execute_result",
          "data": {
            "text/plain": [
              "Ttest_indResult(statistic=162.59100004974962, pvalue=0.0)"
            ]
          },
          "metadata": {
            "tags": []
          },
          "execution_count": 24
        }
      ]
    },
    {
      "cell_type": "markdown",
      "metadata": {
        "id": "4ZuSudaHS5ml"
      },
      "source": [
        "Therefore we have discounted products mean sum in one check is higher than non discounted. Proved."
      ]
    },
    {
      "cell_type": "markdown",
      "metadata": {
        "id": "k6thFelAUJgo"
      },
      "source": [
        "### 2) Prove that the frequency of shopping grows around the wage taking days"
      ]
    },
    {
      "cell_type": "markdown",
      "metadata": {
        "id": "d7IPl5wjUX5t"
      },
      "source": [
        "Lets plot overall spending durgin each day"
      ]
    },
    {
      "cell_type": "code",
      "metadata": {
        "colab": {
          "base_uri": "https://localhost:8080/",
          "height": 450
        },
        "id": "Os5IEfSnUlb5",
        "outputId": "850ce929-ddb3-4e17-a188-fd6883cae2f3"
      },
      "source": [
        "df_filtered.index = pd.to_datetime(df_filtered['date'],format='%Y-%m-%d %H:%M:%S')\n",
        "df_filtered"
      ],
      "execution_count": 27,
      "outputs": [
        {
          "output_type": "execute_result",
          "data": {
            "text/html": [
              "<div>\n",
              "<style scoped>\n",
              "    .dataframe tbody tr th:only-of-type {\n",
              "        vertical-align: middle;\n",
              "    }\n",
              "\n",
              "    .dataframe tbody tr th {\n",
              "        vertical-align: top;\n",
              "    }\n",
              "\n",
              "    .dataframe thead th {\n",
              "        text-align: right;\n",
              "    }\n",
              "</style>\n",
              "<table border=\"1\" class=\"dataframe\">\n",
              "  <thead>\n",
              "    <tr style=\"text-align: right;\">\n",
              "      <th></th>\n",
              "      <th>date</th>\n",
              "      <th>id_doc</th>\n",
              "      <th>id_order</th>\n",
              "      <th>id_card</th>\n",
              "      <th>id_tov</th>\n",
              "      <th>id_kontr</th>\n",
              "      <th>quantity</th>\n",
              "      <th>sum</th>\n",
              "      <th>is_green</th>\n",
              "      <th>id_group</th>\n",
              "    </tr>\n",
              "    <tr>\n",
              "      <th>date</th>\n",
              "      <th></th>\n",
              "      <th></th>\n",
              "      <th></th>\n",
              "      <th></th>\n",
              "      <th></th>\n",
              "      <th></th>\n",
              "      <th></th>\n",
              "      <th></th>\n",
              "      <th></th>\n",
              "      <th></th>\n",
              "    </tr>\n",
              "  </thead>\n",
              "  <tbody>\n",
              "    <tr>\n",
              "      <th>2020-09-01 17:01:25</th>\n",
              "      <td>2020-09-01 17:01:25</td>\n",
              "      <td>1283228</td>\n",
              "      <td>0.0</td>\n",
              "      <td>1538855</td>\n",
              "      <td>52</td>\n",
              "      <td>271</td>\n",
              "      <td>1.0</td>\n",
              "      <td>108.00</td>\n",
              "      <td>0</td>\n",
              "      <td>10004</td>\n",
              "    </tr>\n",
              "    <tr>\n",
              "      <th>2020-09-01 17:35:36</th>\n",
              "      <td>2020-09-01 17:35:36</td>\n",
              "      <td>8873113</td>\n",
              "      <td>0.0</td>\n",
              "      <td>267307</td>\n",
              "      <td>52</td>\n",
              "      <td>271</td>\n",
              "      <td>1.0</td>\n",
              "      <td>108.00</td>\n",
              "      <td>0</td>\n",
              "      <td>10004</td>\n",
              "    </tr>\n",
              "    <tr>\n",
              "      <th>2020-09-01 19:19:21</th>\n",
              "      <td>2020-09-01 19:19:21</td>\n",
              "      <td>12712899</td>\n",
              "      <td>0.0</td>\n",
              "      <td>610220</td>\n",
              "      <td>52</td>\n",
              "      <td>271</td>\n",
              "      <td>1.0</td>\n",
              "      <td>107.95</td>\n",
              "      <td>0</td>\n",
              "      <td>10004</td>\n",
              "    </tr>\n",
              "    <tr>\n",
              "      <th>2020-09-01 21:53:34</th>\n",
              "      <td>2020-09-01 21:53:34</td>\n",
              "      <td>21535283</td>\n",
              "      <td>0.0</td>\n",
              "      <td>441497</td>\n",
              "      <td>52</td>\n",
              "      <td>271</td>\n",
              "      <td>1.0</td>\n",
              "      <td>108.00</td>\n",
              "      <td>0</td>\n",
              "      <td>10004</td>\n",
              "    </tr>\n",
              "    <tr>\n",
              "      <th>2020-09-01 18:42:31</th>\n",
              "      <td>2020-09-01 18:42:31</td>\n",
              "      <td>642341</td>\n",
              "      <td>0.0</td>\n",
              "      <td>1065358</td>\n",
              "      <td>61</td>\n",
              "      <td>97</td>\n",
              "      <td>2.0</td>\n",
              "      <td>88.00</td>\n",
              "      <td>0</td>\n",
              "      <td>10091</td>\n",
              "    </tr>\n",
              "    <tr>\n",
              "      <th>...</th>\n",
              "      <td>...</td>\n",
              "      <td>...</td>\n",
              "      <td>...</td>\n",
              "      <td>...</td>\n",
              "      <td>...</td>\n",
              "      <td>...</td>\n",
              "      <td>...</td>\n",
              "      <td>...</td>\n",
              "      <td>...</td>\n",
              "      <td>...</td>\n",
              "    </tr>\n",
              "    <tr>\n",
              "      <th>2020-09-30 11:26:28</th>\n",
              "      <td>2020-09-30 11:26:28</td>\n",
              "      <td>4850561</td>\n",
              "      <td>0.0</td>\n",
              "      <td>1739990</td>\n",
              "      <td>25292</td>\n",
              "      <td>17528</td>\n",
              "      <td>1.0</td>\n",
              "      <td>130.00</td>\n",
              "      <td>0</td>\n",
              "      <td>10099</td>\n",
              "    </tr>\n",
              "    <tr>\n",
              "      <th>2020-09-30 08:12:39</th>\n",
              "      <td>2020-09-30 08:12:39</td>\n",
              "      <td>10015419</td>\n",
              "      <td>0.0</td>\n",
              "      <td>1761351</td>\n",
              "      <td>30740</td>\n",
              "      <td>19188</td>\n",
              "      <td>2.0</td>\n",
              "      <td>120.00</td>\n",
              "      <td>0</td>\n",
              "      <td>10008</td>\n",
              "    </tr>\n",
              "    <tr>\n",
              "      <th>2020-09-30 09:54:24</th>\n",
              "      <td>2020-09-30 09:54:24</td>\n",
              "      <td>22816791</td>\n",
              "      <td>0.0</td>\n",
              "      <td>1432778</td>\n",
              "      <td>30741</td>\n",
              "      <td>19188</td>\n",
              "      <td>1.0</td>\n",
              "      <td>73.00</td>\n",
              "      <td>0</td>\n",
              "      <td>10254</td>\n",
              "    </tr>\n",
              "    <tr>\n",
              "      <th>2020-09-30 12:00:04</th>\n",
              "      <td>2020-09-30 12:00:04</td>\n",
              "      <td>1648929</td>\n",
              "      <td>0.0</td>\n",
              "      <td>484390</td>\n",
              "      <td>34835</td>\n",
              "      <td>15916</td>\n",
              "      <td>1.0</td>\n",
              "      <td>78.00</td>\n",
              "      <td>0</td>\n",
              "      <td>10099</td>\n",
              "    </tr>\n",
              "    <tr>\n",
              "      <th>2020-09-30 09:37:16</th>\n",
              "      <td>2020-09-30 09:37:16</td>\n",
              "      <td>22302533</td>\n",
              "      <td>0.0</td>\n",
              "      <td>557627</td>\n",
              "      <td>34835</td>\n",
              "      <td>15916</td>\n",
              "      <td>1.0</td>\n",
              "      <td>78.00</td>\n",
              "      <td>0</td>\n",
              "      <td>10099</td>\n",
              "    </tr>\n",
              "  </tbody>\n",
              "</table>\n",
              "<p>38466003 rows × 10 columns</p>\n",
              "</div>"
            ],
            "text/plain": [
              "                                    date    id_doc  ...  is_green  id_group\n",
              "date                                                ...                    \n",
              "2020-09-01 17:01:25  2020-09-01 17:01:25   1283228  ...         0     10004\n",
              "2020-09-01 17:35:36  2020-09-01 17:35:36   8873113  ...         0     10004\n",
              "2020-09-01 19:19:21  2020-09-01 19:19:21  12712899  ...         0     10004\n",
              "2020-09-01 21:53:34  2020-09-01 21:53:34  21535283  ...         0     10004\n",
              "2020-09-01 18:42:31  2020-09-01 18:42:31    642341  ...         0     10091\n",
              "...                                  ...       ...  ...       ...       ...\n",
              "2020-09-30 11:26:28  2020-09-30 11:26:28   4850561  ...         0     10099\n",
              "2020-09-30 08:12:39  2020-09-30 08:12:39  10015419  ...         0     10008\n",
              "2020-09-30 09:54:24  2020-09-30 09:54:24  22816791  ...         0     10254\n",
              "2020-09-30 12:00:04  2020-09-30 12:00:04   1648929  ...         0     10099\n",
              "2020-09-30 09:37:16  2020-09-30 09:37:16  22302533  ...         0     10099\n",
              "\n",
              "[38466003 rows x 10 columns]"
            ]
          },
          "metadata": {
            "tags": []
          },
          "execution_count": 27
        }
      ]
    },
    {
      "cell_type": "code",
      "metadata": {
        "id": "JBo945nYU3bd"
      },
      "source": [
        "sum_of_spendings = df_filtered.groupby(by=[df_filtered.index.day])['id_doc'].count()"
      ],
      "execution_count": 31,
      "outputs": []
    },
    {
      "cell_type": "code",
      "metadata": {
        "colab": {
          "base_uri": "https://localhost:8080/",
          "height": 508
        },
        "id": "IZeIteu6Rx72",
        "outputId": "37e437c9-0913-400d-d618-7acc1fae5040"
      },
      "source": [
        "import matplotlib.pyplot as plt\n",
        "\n",
        "plt.figure(figsize=(10,8))\n",
        "plt.locator_params(axis=\"x\", nbins=50)\n",
        "sum_of_spendings.plot()\n",
        "plt.grid()"
      ],
      "execution_count": 32,
      "outputs": [
        {
          "output_type": "display_data",
          "data": {
            "image/png": "[encoded data removed]",
            "text/plain": [
              "<Figure size 720x576 with 1 Axes>"
            ]
          },
          "metadata": {
            "tags": [],
            "needs_background": "light"
          }
        }
      ]
    },
    {
      "cell_type": "markdown",
      "metadata": {
        "id": "B4d1jxJkVyF5"
      },
      "source": [
        "so we can see that from 5th and 20th days of the mouth the number of purchases are increased "
      ]
    },
    {
      "cell_type": "markdown",
      "metadata": {
        "id": "by8jDZ-CWN-E"
      },
      "source": [
        "### Frequent buyers "
      ]
    },
    {
      "cell_type": "code",
      "metadata": {
        "colab": {
          "base_uri": "https://localhost:8080/"
        },
        "id": "NUieX3tQWYxr",
        "outputId": "c7597e2e-1208-4475-9315-168f79dd0f52"
      },
      "source": [
        "frequent_buyers = df_filtered.groupby(by=['id_doc']).first()\n",
        "frequent_buyers['id_card'].value_counts()[:100]"
      ],
      "execution_count": 6,
      "outputs": [
        {
          "output_type": "execute_result",
          "data": {
            "text/plain": [
              "620767     161\n",
              "1523082    119\n",
              "943480     109\n",
              "1567258    104\n",
              "1808366    103\n",
              "          ... \n",
              "1855576     61\n",
              "474437      61\n",
              "1304277     61\n",
              "1516308     61\n",
              "341072      61\n",
              "Name: id_card, Length: 100, dtype: int64"
            ]
          },
          "metadata": {
            "tags": []
          },
          "execution_count": 6
        }
      ]
    }
  ]
}